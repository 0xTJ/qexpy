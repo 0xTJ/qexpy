{
 "cells": [
  {
   "cell_type": "markdown",
   "metadata": {},
   "source": [
    "# Using QExPy in a Lab"
   ]
  },
  {
   "cell_type": "code",
   "execution_count": 8,
   "metadata": {
    "collapsed": false
   },
   "outputs": [],
   "source": [
    "import QExPy.uncertainties as u\n",
    "import QExPy.fitting as fit\n",
    "\n",
    "# This cell will load the package in a way that is shorter to type"
   ]
  },
  {
   "cell_type": "code",
   "execution_count": 9,
   "metadata": {
    "collapsed": true
   },
   "outputs": [],
   "source": [
    "# We can now enter the data gathered in the lab itself\n",
    "\n",
    "dl = u.Measured([185e-6, 250e-6, 305e-6, 378e-6, 460e-6, 515e-6, 573e-6,\n",
    "                 659e-6, 733e-6, 799e-6, 1199e-6, 860e-6, 933e-6, 993e-6,\n",
    "                 1060e-6, 1125e-6], [5e-6], name='Lengthening', units='m')\n",
    "# This data is the amount that the cable streched for each applied mass\n",
    "# As the error on each of these measurements is the same, we will use a single\n",
    "# value of error instead of another list containing the error for each point.\n",
    "\n",
    "m50 = 0.05008\n",
    "m1 = 0.10010\n",
    "m2x = 0.20019\n",
    "m2i = 0.20025\n",
    "m5 = 0.50054\n",
    "m5d = 0.50087\n",
    "\n",
    "mass = u.Measured([0, m1, m2x, m2x+m1, m2x+m2i, m5, m1+m5, m2x+m5, m2x+m5+m1,\n",
    "                 m5+m2x+m2i, m5+m5d+m2x+m2i+m1, m5+m5d, m5+m5d+m1, m5+m5d+m2x,\n",
    "                 m5+m5d+m2x+m1,m5+m5d+m2x+m2i], [0.04],\n",
    "                 name='Suspended Mass', units='m')\n",
    "\n",
    "# This list is the combonation of weights that were used in each trial\n",
    "# As the error on each of these measurements is the same, we will use a single\n",
    "# value of error instead of another list containing the error for each point."
   ]
  },
  {
   "cell_type": "code",
   "execution_count": 10,
   "metadata": {
    "collapsed": false,
    "scrolled": false
   },
   "outputs": [],
   "source": [
    "# Now that we have the data stored, we can plot the data, along with a line of\n",
    "# best fit\n",
    "\n",
    "plot = fit.Plot(dl, mass) # This creates the plot and stores it as plot\n",
    "plot.fit('linear') # We can now say that we want to see a linear fit of the data\n",
    "plot.residuals() # This tells the plot that we also want a residual plot\n",
    "plot.show() # Now that we have prepared the plot with everything, it is shown"
   ]
  },
  {
   "cell_type": "code",
   "execution_count": null,
   "metadata": {
    "collapsed": true
   },
   "outputs": [],
   "source": []
  }
 ],
 "metadata": {
  "kernelspec": {
   "display_name": "Python 3",
   "language": "python",
   "name": "python3"
  },
  "language_info": {
   "codemirror_mode": {
    "name": "ipython",
    "version": 3
   },
   "file_extension": ".py",
   "mimetype": "text/x-python",
   "name": "python",
   "nbconvert_exporter": "python",
   "pygments_lexer": "ipython3",
   "version": "3.5.1"
  }
 },
 "nbformat": 4,
 "nbformat_minor": 0
}
