{
 "cells": [
  {
   "cell_type": "markdown",
   "metadata": {},
   "source": [
    "# Error Propagation with QExPy\n",
    "\n",
    "The first step is to import the error module for error propagation. We'll import it as \"e\":"
   ]
  },
  {
   "cell_type": "code",
   "execution_count": 1,
   "metadata": {
    "collapsed": false
   },
   "outputs": [
    {
     "data": {
      "text/html": [
       "\n",
       "    <div class=\"bk-root\">\n",
       "        <a href=\"http://bokeh.pydata.org\" target=\"_blank\" class=\"bk-logo bk-logo-small bk-logo-notebook\"></a>\n",
       "        <span id=\"04cf17f1-5775-48d4-aa0e-85ea4330b286\">Loading BokehJS ...</span>\n",
       "    </div>"
      ]
     },
     "metadata": {},
     "output_type": "display_data"
    },
    {
     "data": {
      "application/javascript": [
       "\n",
       "(function(global) {\n",
       "  function now() {\n",
       "    return new Date();\n",
       "  }\n",
       "\n",
       "  var force = \"1\";\n",
       "\n",
       "  if (typeof (window._bokeh_onload_callbacks) === \"undefined\" || force !== \"\") {\n",
       "    window._bokeh_onload_callbacks = [];\n",
       "    window._bokeh_is_loading = undefined;\n",
       "  }\n",
       "\n",
       "\n",
       "  \n",
       "  if (typeof (window._bokeh_timeout) === \"undefined\" || force !== \"\") {\n",
       "    window._bokeh_timeout = Date.now() + 5000;\n",
       "    window._bokeh_failed_load = false;\n",
       "  }\n",
       "\n",
       "  var NB_LOAD_WARNING = {'data': {'text/html':\n",
       "     \"<div style='background-color: #fdd'>\\n\"+\n",
       "     \"<p>\\n\"+\n",
       "     \"BokehJS does not appear to have successfully loaded. If loading BokehJS from CDN, this \\n\"+\n",
       "     \"may be due to a slow or bad network connection. Possible fixes:\\n\"+\n",
       "     \"</p>\\n\"+\n",
       "     \"<ul>\\n\"+\n",
       "     \"<li>re-rerun `output_notebook()` to attempt to load from CDN again, or</li>\\n\"+\n",
       "     \"<li>use INLINE resources instead, as so:</li>\\n\"+\n",
       "     \"</ul>\\n\"+\n",
       "     \"<code>\\n\"+\n",
       "     \"from bokeh.resources import INLINE\\n\"+\n",
       "     \"output_notebook(resources=INLINE)\\n\"+\n",
       "     \"</code>\\n\"+\n",
       "     \"</div>\"}};\n",
       "\n",
       "  function display_loaded() {\n",
       "    if (window.Bokeh !== undefined) {\n",
       "      Bokeh.$(\"#04cf17f1-5775-48d4-aa0e-85ea4330b286\").text(\"BokehJS successfully loaded.\");\n",
       "    } else if (Date.now() < window._bokeh_timeout) {\n",
       "      setTimeout(display_loaded, 100)\n",
       "    }\n",
       "  }\n",
       "\n",
       "  function run_callbacks() {\n",
       "    window._bokeh_onload_callbacks.forEach(function(callback) { callback() });\n",
       "    delete window._bokeh_onload_callbacks\n",
       "    console.info(\"Bokeh: all callbacks have finished\");\n",
       "  }\n",
       "\n",
       "  function load_libs(js_urls, callback) {\n",
       "    window._bokeh_onload_callbacks.push(callback);\n",
       "    if (window._bokeh_is_loading > 0) {\n",
       "      console.log(\"Bokeh: BokehJS is being loaded, scheduling callback at\", now());\n",
       "      return null;\n",
       "    }\n",
       "    if (js_urls == null || js_urls.length === 0) {\n",
       "      run_callbacks();\n",
       "      return null;\n",
       "    }\n",
       "    console.log(\"Bokeh: BokehJS not loaded, scheduling load and callback at\", now());\n",
       "    window._bokeh_is_loading = js_urls.length;\n",
       "    for (var i = 0; i < js_urls.length; i++) {\n",
       "      var url = js_urls[i];\n",
       "      var s = document.createElement('script');\n",
       "      s.src = url;\n",
       "      s.async = false;\n",
       "      s.onreadystatechange = s.onload = function() {\n",
       "        window._bokeh_is_loading--;\n",
       "        if (window._bokeh_is_loading === 0) {\n",
       "          console.log(\"Bokeh: all BokehJS libraries loaded\");\n",
       "          run_callbacks()\n",
       "        }\n",
       "      };\n",
       "      s.onerror = function() {\n",
       "        console.warn(\"failed to load library \" + url);\n",
       "      };\n",
       "      console.log(\"Bokeh: injecting script tag for BokehJS library: \", url);\n",
       "      document.getElementsByTagName(\"head\")[0].appendChild(s);\n",
       "    }\n",
       "  };var element = document.getElementById(\"04cf17f1-5775-48d4-aa0e-85ea4330b286\");\n",
       "  if (element == null) {\n",
       "    console.log(\"Bokeh: ERROR: autoload.js configured with elementid '04cf17f1-5775-48d4-aa0e-85ea4330b286' but no matching script tag was found. \")\n",
       "    return false;\n",
       "  }\n",
       "\n",
       "  var js_urls = ['https://cdn.pydata.org/bokeh/release/bokeh-0.12.2.min.js', 'https://cdn.pydata.org/bokeh/release/bokeh-widgets-0.12.2.min.js', 'https://cdn.pydata.org/bokeh/release/bokeh-compiler-0.12.2.min.js'];\n",
       "\n",
       "  var inline_js = [\n",
       "    function(Bokeh) {\n",
       "      Bokeh.set_log_level(\"info\");\n",
       "    },\n",
       "    \n",
       "    function(Bokeh) {\n",
       "      \n",
       "      Bokeh.$(\"#04cf17f1-5775-48d4-aa0e-85ea4330b286\").text(\"BokehJS is loading...\");\n",
       "    },\n",
       "    function(Bokeh) {\n",
       "      console.log(\"Bokeh: injecting CSS: https://cdn.pydata.org/bokeh/release/bokeh-0.12.2.min.css\");\n",
       "      Bokeh.embed.inject_css(\"https://cdn.pydata.org/bokeh/release/bokeh-0.12.2.min.css\");\n",
       "      console.log(\"Bokeh: injecting CSS: https://cdn.pydata.org/bokeh/release/bokeh-widgets-0.12.2.min.css\");\n",
       "      Bokeh.embed.inject_css(\"https://cdn.pydata.org/bokeh/release/bokeh-widgets-0.12.2.min.css\");\n",
       "    }\n",
       "  ];\n",
       "\n",
       "  function run_inline_js() {\n",
       "    \n",
       "    if ((window.Bokeh !== undefined) || (force === \"1\")) {\n",
       "      for (var i = 0; i < inline_js.length; i++) {\n",
       "        inline_js[i](window.Bokeh);\n",
       "      }if (force === \"1\") {\n",
       "        display_loaded();\n",
       "      }} else if (Date.now() < window._bokeh_timeout) {\n",
       "      setTimeout(run_inline_js, 100);\n",
       "    } else if (!window._bokeh_failed_load) {\n",
       "      console.log(\"Bokeh: BokehJS failed to load within specified timeout.\");\n",
       "      window._bokeh_failed_load = true;\n",
       "    } else if (!force) {\n",
       "      var cell = $(\"#04cf17f1-5775-48d4-aa0e-85ea4330b286\").parents('.cell').data().cell;\n",
       "      cell.output_area.append_execute_result(NB_LOAD_WARNING)\n",
       "    }\n",
       "\n",
       "  }\n",
       "\n",
       "  if (window._bokeh_is_loading === 0) {\n",
       "    console.log(\"Bokeh: BokehJS loaded, going straight to plotting\");\n",
       "    run_inline_js();\n",
       "  } else {\n",
       "    load_libs(js_urls, function() {\n",
       "      console.log(\"Bokeh: BokehJS plotting callback run at\", now());\n",
       "      run_inline_js();\n",
       "    });\n",
       "  }\n",
       "}(this));"
      ]
     },
     "metadata": {},
     "output_type": "display_data"
    }
   ],
   "source": [
    "import qexpy as q\n"
   ]
  },
  {
   "cell_type": "markdown",
   "metadata": {},
   "source": [
    "Next, we'll declare two measured values, x and y, with uncertainties, and print them out. We use the Measurement object from the qexpy.error package:"
   ]
  },
  {
   "cell_type": "code",
   "execution_count": 2,
   "metadata": {
    "collapsed": false,
    "scrolled": true
   },
   "outputs": [
    {
     "name": "stdout",
     "output_type": "stream",
     "text": [
      "x = 10 +/- 1\n",
      "y = 5 +/- 3\n"
     ]
    }
   ],
   "source": [
    "#Our two measured values:\n",
    "x = q.Measurement(10,1)\n",
    "y = q.Measurement(5,3)\n",
    "\n",
    "#We can print them out:\n",
    "print(\"x =\",x)\n",
    "print(\"y =\",y)\n",
    "#x.set_correlation(y,0.3)"
   ]
  },
  {
   "cell_type": "markdown",
   "metadata": {},
   "source": [
    "We can declare a third object, z, which depends on x and y. The uncertainty in x and y will be correctly propagated to z, so once we have defined z, we can simply print it out with the correct uncertainty:"
   ]
  },
  {
   "cell_type": "code",
   "execution_count": 3,
   "metadata": {
    "collapsed": false
   },
   "outputs": [
    {
     "name": "stdout",
     "output_type": "stream",
     "text": [
      "z = 15 +/- 3\n"
     ]
    }
   ],
   "source": [
    "#We define z\n",
    "z = x+y\n",
    "#z can now be printed out\n",
    "print(\"z =\",z)"
   ]
  },
  {
   "cell_type": "markdown",
   "metadata": {},
   "source": [
    "Note how the uncertainties have been kept to 1 significant figure. In this case, the error in z was obtained by adding the errors in x and y in quadrature. We can change the number of significant figures to confirm that the errors were indeed added in quadrature. We can choose between setting  the number of significant figures based on the uncertainty (more common) or based on the central value."
   ]
  },
  {
   "cell_type": "code",
   "execution_count": 4,
   "metadata": {
    "collapsed": false
   },
   "outputs": [
    {
     "name": "stdout",
     "output_type": "stream",
     "text": [
      "z = 15.000 +/- 3.162\n"
     ]
    }
   ],
   "source": [
    "q.set_sigfigs_error(4) # set sigfigs based on the error\n",
    "print(\"z =\",z)"
   ]
  },
  {
   "cell_type": "markdown",
   "metadata": {},
   "source": [
    "Let's compare the error in z to what the errors in x and y are when added manually in quadrature. We need to import the sqrt() function from the math package to apply mathematical functions to numbers:"
   ]
  },
  {
   "cell_type": "code",
   "execution_count": 5,
   "metadata": {
    "collapsed": false
   },
   "outputs": [
    {
     "name": "stdout",
     "output_type": "stream",
     "text": [
      "3.1622776601683795\n"
     ]
    }
   ],
   "source": [
    "import math as m\n",
    "quadrature = m.sqrt(x.std**2+y.std**2)\n",
    "print(quadrature)"
   ]
  },
  {
   "cell_type": "markdown",
   "metadata": {},
   "source": [
    "## Math functions\n",
    "We can propagate the uncertainties through any operator (+,-,\\*,/) automatically as we showed above. QExPy also knows how to propagate the uncertainty through common mathematical functions. To use mathematical functions on Measurement objects, we need to call the functions from the QExPy package (as opposed to the math package as we did above for 2 numbers)."
   ]
  },
  {
   "cell_type": "code",
   "execution_count": 6,
   "metadata": {
    "collapsed": false
   },
   "outputs": [
    {
     "name": "stdout",
     "output_type": "stream",
     "text": [
      "time =  1.277102 +/- 0.007982 seconds\n"
     ]
    }
   ],
   "source": [
    "#If an object fell a distance of 8.0 +/0.1 m, how long did it take to fall?\n",
    "y = q.Measurement(8,0.1)\n",
    "g = 9.81\n",
    "t = q.sqrt(2*y/g)\n",
    "print(\"time = \",t, \"seconds\")"
   ]
  },
  {
   "cell_type": "markdown",
   "metadata": {},
   "source": [
    "## Error in correlated quantities\n",
    "If we have two measurements, x and y, that are correlated, then their correlation factor will impact the uncertainty on a quantity that depends on them:"
   ]
  },
  {
   "cell_type": "code",
   "execution_count": 7,
   "metadata": {
    "collapsed": false
   },
   "outputs": [
    {
     "name": "stdout",
     "output_type": "stream",
     "text": [
      "x and y uncorrelated: z= 15.000 +/- 3.162\n",
      "x and y positively correlated: z= 15.000 +/- 3.606\n",
      "x and y negatively correlated: z= 15.000 +/- 2.646\n"
     ]
    }
   ],
   "source": [
    "x = q.Measurement(10,1)\n",
    "y = q.Measurement(5,3)\n",
    "z = x+y\n",
    "print(\"x and y uncorrelated: z=\",z)\n",
    "\n",
    "#Now set a correlation factor between x and y:\n",
    "x.set_correlation(y,0.5)\n",
    "z = x+y\n",
    "print(\"x and y positively correlated: z=\",z)\n",
    "\n",
    "#We can also use the covariance factor instead of the correlation factor:\n",
    "x.set_covariance(y,-1.5)\n",
    "z = x+y\n",
    "print(\"x and y negatively correlated: z=\",z)"
   ]
  },
  {
   "cell_type": "markdown",
   "metadata": {},
   "source": [
    "If we don't specify any correlation factors, then all quantities are assumed to be independent. However, a quantity should not be independent from itself, so QExPy knows how to track the correlation in quantities that depend on common quantities. "
   ]
  },
  {
   "cell_type": "code",
   "execution_count": 8,
   "metadata": {
    "collapsed": false
   },
   "outputs": [
    {
     "name": "stdout",
     "output_type": "stream",
     "text": [
      "0.000 +/- 0.000\n"
     ]
    }
   ],
   "source": [
    "x = q.Measurement(10,1)\n",
    "y = x*x\n",
    "z = x*x - y #this should be 0 +/- 0, since it's really x^2 - x^2 \n",
    "print(z)"
   ]
  },
  {
   "cell_type": "markdown",
   "metadata": {
    "collapsed": true
   },
   "source": [
    "## Statistical measurements\n",
    "QExPy can also handle the case when you have repeated measurements of a single quantity and you want to average them together. Suppose that you have measured 5 values of some quantity T. QExPy will automatically assume that those values should be averaged together so that T is given by the mean of the measured values with an uncertainty given by the standard deviation of the values.\n"
   ]
  },
  {
   "cell_type": "code",
   "execution_count": 9,
   "metadata": {
    "collapsed": false
   },
   "outputs": [
    {
     "name": "stdout",
     "output_type": "stream",
     "text": [
      "5.3000 +/- 0.5431\n"
     ]
    }
   ],
   "source": [
    "T=q.Measurement( [5.6, 4.8, 6.1, 4.9, 5.1 ] )\n",
    "print(T)"
   ]
  },
  {
   "cell_type": "markdown",
   "metadata": {},
   "source": [
    "T can be used just as any other measurement with uncertainties, and its error will be propagate correctly:"
   ]
  },
  {
   "cell_type": "code",
   "execution_count": 10,
   "metadata": {
    "collapsed": false
   },
   "outputs": [
    {
     "name": "stdout",
     "output_type": "stream",
     "text": [
      "1.1849 +/- 0.1214\n"
     ]
    }
   ],
   "source": [
    "omega = 2*3.14/T\n",
    "print(omega)"
   ]
  },
  {
   "cell_type": "markdown",
   "metadata": {},
   "source": [
    "If we have measured many values, it can sometimes be useful to visualize those measurements in a histogram. QExPy will automatically create a histogram of the values, showing lines corresponding to the mean and the range covered by one standard deviation"
   ]
  },
  {
   "cell_type": "code",
   "execution_count": 11,
   "metadata": {
    "collapsed": false
   },
   "outputs": [
    {
     "data": {
      "text/html": [
       "\n",
       "\n",
       "    <div class=\"bk-root\">\n",
       "        <div class=\"plotdiv\" id=\"25ac0f1d-969f-48c3-b209-7fcfe2a13cbf\"></div>\n",
       "    </div>\n",
       "<script type=\"text/javascript\">\n",
       "  \n",
       "  (function(global) {\n",
       "    function now() {\n",
       "      return new Date();\n",
       "    }\n",
       "  \n",
       "    var force = \"\";\n",
       "  \n",
       "    if (typeof (window._bokeh_onload_callbacks) === \"undefined\" || force !== \"\") {\n",
       "      window._bokeh_onload_callbacks = [];\n",
       "      window._bokeh_is_loading = undefined;\n",
       "    }\n",
       "  \n",
       "  \n",
       "    \n",
       "    if (typeof (window._bokeh_timeout) === \"undefined\" || force !== \"\") {\n",
       "      window._bokeh_timeout = Date.now() + 0;\n",
       "      window._bokeh_failed_load = false;\n",
       "    }\n",
       "  \n",
       "    var NB_LOAD_WARNING = {'data': {'text/html':\n",
       "       \"<div style='background-color: #fdd'>\\n\"+\n",
       "       \"<p>\\n\"+\n",
       "       \"BokehJS does not appear to have successfully loaded. If loading BokehJS from CDN, this \\n\"+\n",
       "       \"may be due to a slow or bad network connection. Possible fixes:\\n\"+\n",
       "       \"</p>\\n\"+\n",
       "       \"<ul>\\n\"+\n",
       "       \"<li>re-rerun `output_notebook()` to attempt to load from CDN again, or</li>\\n\"+\n",
       "       \"<li>use INLINE resources instead, as so:</li>\\n\"+\n",
       "       \"</ul>\\n\"+\n",
       "       \"<code>\\n\"+\n",
       "       \"from bokeh.resources import INLINE\\n\"+\n",
       "       \"output_notebook(resources=INLINE)\\n\"+\n",
       "       \"</code>\\n\"+\n",
       "       \"</div>\"}};\n",
       "  \n",
       "    function display_loaded() {\n",
       "      if (window.Bokeh !== undefined) {\n",
       "        Bokeh.$(\"#25ac0f1d-969f-48c3-b209-7fcfe2a13cbf\").text(\"BokehJS successfully loaded.\");\n",
       "      } else if (Date.now() < window._bokeh_timeout) {\n",
       "        setTimeout(display_loaded, 100)\n",
       "      }\n",
       "    }\n",
       "  \n",
       "    function run_callbacks() {\n",
       "      window._bokeh_onload_callbacks.forEach(function(callback) { callback() });\n",
       "      delete window._bokeh_onload_callbacks\n",
       "      console.info(\"Bokeh: all callbacks have finished\");\n",
       "    }\n",
       "  \n",
       "    function load_libs(js_urls, callback) {\n",
       "      window._bokeh_onload_callbacks.push(callback);\n",
       "      if (window._bokeh_is_loading > 0) {\n",
       "        console.log(\"Bokeh: BokehJS is being loaded, scheduling callback at\", now());\n",
       "        return null;\n",
       "      }\n",
       "      if (js_urls == null || js_urls.length === 0) {\n",
       "        run_callbacks();\n",
       "        return null;\n",
       "      }\n",
       "      console.log(\"Bokeh: BokehJS not loaded, scheduling load and callback at\", now());\n",
       "      window._bokeh_is_loading = js_urls.length;\n",
       "      for (var i = 0; i < js_urls.length; i++) {\n",
       "        var url = js_urls[i];\n",
       "        var s = document.createElement('script');\n",
       "        s.src = url;\n",
       "        s.async = false;\n",
       "        s.onreadystatechange = s.onload = function() {\n",
       "          window._bokeh_is_loading--;\n",
       "          if (window._bokeh_is_loading === 0) {\n",
       "            console.log(\"Bokeh: all BokehJS libraries loaded\");\n",
       "            run_callbacks()\n",
       "          }\n",
       "        };\n",
       "        s.onerror = function() {\n",
       "          console.warn(\"failed to load library \" + url);\n",
       "        };\n",
       "        console.log(\"Bokeh: injecting script tag for BokehJS library: \", url);\n",
       "        document.getElementsByTagName(\"head\")[0].appendChild(s);\n",
       "      }\n",
       "    };var element = document.getElementById(\"25ac0f1d-969f-48c3-b209-7fcfe2a13cbf\");\n",
       "    if (element == null) {\n",
       "      console.log(\"Bokeh: ERROR: autoload.js configured with elementid '25ac0f1d-969f-48c3-b209-7fcfe2a13cbf' but no matching script tag was found. \")\n",
       "      return false;\n",
       "    }\n",
       "  \n",
       "    var js_urls = [];\n",
       "  \n",
       "    var inline_js = [\n",
       "      function(Bokeh) {\n",
       "        Bokeh.$(function() {\n",
       "            var docs_json = {\"f1a89763-89cf-410b-aec5-f676726ec323\":{\"roots\":{\"references\":[{\"attributes\":{\"plot\":{\"id\":\"a4390110-e37b-440c-b501-a2703bca18b6\",\"subtype\":\"Figure\",\"type\":\"Plot\"},\"ticker\":{\"id\":\"c6529500-3627-40f6-b2f2-3745170943b1\",\"type\":\"BasicTicker\"}},\"id\":\"2c3bfefc-2d1f-4845-ba6b-ca1726f06d87\",\"type\":\"Grid\"},{\"attributes\":{},\"id\":\"a7815a3e-2066-4b4f-9f50-3cf38083a343\",\"type\":\"BasicTicker\"},{\"attributes\":{\"data_source\":{\"id\":\"ecc39378-c934-4b67-9720-c46e25196d3a\",\"type\":\"ColumnDataSource\"},\"glyph\":{\"id\":\"522a2999-1efe-4b6b-b5b1-6605d795cc1b\",\"type\":\"Line\"},\"hover_glyph\":null,\"nonselection_glyph\":{\"id\":\"de419d09-4e1c-4f04-9d0b-1dfb0845bf2f\",\"type\":\"Line\"},\"selection_glyph\":null},\"id\":\"8afed2b0-e1e2-4559-927d-e554e096693b\",\"type\":\"GlyphRenderer\"},{\"attributes\":{\"callback\":null},\"id\":\"6d16b7c4-9c10-4461-a255-1e1d190c9aaf\",\"type\":\"DataRange1d\"},{\"attributes\":{\"line_alpha\":{\"value\":0.1},\"line_color\":{\"value\":\"#1f77b4\"},\"line_dash\":[6],\"x\":{\"field\":\"x\"},\"y\":{\"field\":\"y\"}},\"id\":\"de419d09-4e1c-4f04-9d0b-1dfb0845bf2f\",\"type\":\"Line\"},{\"attributes\":{\"callback\":null,\"column_names\":[\"y\",\"x\"],\"data\":{\"x\":[4.756860975439989,4.756860975439989],\"y\":[0,1]}},\"id\":\"ecc39378-c934-4b67-9720-c46e25196d3a\",\"type\":\"ColumnDataSource\"},{\"attributes\":{\"background_fill_color\":{\"value\":\"#FFFFFF\"},\"below\":[{\"id\":\"f58800ec-b3cf-414f-9897-7be9a47e2049\",\"type\":\"LinearAxis\"}],\"left\":[{\"id\":\"baa92334-1183-49a3-822d-55e44ddc8703\",\"type\":\"LinearAxis\"}],\"renderers\":[{\"id\":\"f58800ec-b3cf-414f-9897-7be9a47e2049\",\"type\":\"LinearAxis\"},{\"id\":\"2c3bfefc-2d1f-4845-ba6b-ca1726f06d87\",\"type\":\"Grid\"},{\"id\":\"baa92334-1183-49a3-822d-55e44ddc8703\",\"type\":\"LinearAxis\"},{\"id\":\"5daa20f8-fdda-4d86-a6cb-e84e2a0f7035\",\"type\":\"Grid\"},{\"id\":\"f8be4ad5-5002-44c9-8f34-00d0cc35ef80\",\"type\":\"BoxAnnotation\"},{\"id\":\"15e1d9e6-e607-4466-906c-7f52e0718f6f\",\"type\":\"GlyphRenderer\"},{\"id\":\"bba2e7c5-60e5-4160-9300-0ebed9cc0ad0\",\"type\":\"GlyphRenderer\"},{\"id\":\"8afed2b0-e1e2-4559-927d-e554e096693b\",\"type\":\"GlyphRenderer\"},{\"id\":\"9f02abcf-13aa-4fb4-a77d-e44e54fe6397\",\"type\":\"GlyphRenderer\"}],\"title\":{\"id\":\"514ed63a-03a1-4c9a-b246-99e568f6676b\",\"type\":\"Title\"},\"tool_events\":{\"id\":\"e14c06cc-b16a-4e35-bbf6-a55d1d342e79\",\"type\":\"ToolEvents\"},\"toolbar\":{\"id\":\"f1290a92-a132-4a7e-9904-b3b21b8c7efb\",\"type\":\"Toolbar\"},\"x_range\":{\"id\":\"20e61b98-5bb4-49ee-8710-28897cdf5c88\",\"type\":\"DataRange1d\"},\"y_range\":{\"id\":\"6d16b7c4-9c10-4461-a255-1e1d190c9aaf\",\"type\":\"DataRange1d\"}},\"id\":\"a4390110-e37b-440c-b501-a2703bca18b6\",\"subtype\":\"Figure\",\"type\":\"Plot\"},{\"attributes\":{\"line_color\":{\"value\":\"red\"},\"line_dash\":[6],\"x\":{\"field\":\"x\"},\"y\":{\"field\":\"y\"}},\"id\":\"522a2999-1efe-4b6b-b5b1-6605d795cc1b\",\"type\":\"Line\"},{\"attributes\":{\"bottom\":{\"value\":0},\"fill_color\":{\"value\":\"#036564\"},\"left\":{\"field\":\"left\"},\"line_color\":{\"value\":\"#033649\"},\"right\":{\"field\":\"right\"},\"top\":{\"field\":\"top\"}},\"id\":\"d6948975-3097-4100-8a81-dabfd966b7e2\",\"type\":\"Quad\"},{\"attributes\":{},\"id\":\"349a9054-cfd4-4c3b-9b97-4edd6dbbc4dc\",\"type\":\"BasicTickFormatter\"},{\"attributes\":{\"line_alpha\":{\"value\":0.1},\"line_color\":{\"value\":\"#1f77b4\"},\"x\":{\"field\":\"x\"},\"y\":{\"field\":\"y\"}},\"id\":\"4e3a6c42-31fa-43dc-aab0-6a81df7e495d\",\"type\":\"Line\"},{\"attributes\":{\"plot\":{\"id\":\"a4390110-e37b-440c-b501-a2703bca18b6\",\"subtype\":\"Figure\",\"type\":\"Plot\"}},\"id\":\"0c7760df-e0e3-495d-b3a5-992ec82da221\",\"type\":\"SaveTool\"},{\"attributes\":{\"data_source\":{\"id\":\"62d3fd2b-27fb-4ec6-af1a-92d6ad3e3cbf\",\"type\":\"ColumnDataSource\"},\"glyph\":{\"id\":\"97f93e23-2ab6-4e35-b207-5fa082b8fff0\",\"type\":\"Line\"},\"hover_glyph\":null,\"nonselection_glyph\":{\"id\":\"f1b9dd50-3751-4f7d-8f38-b3918c7fd048\",\"type\":\"Line\"},\"selection_glyph\":null},\"id\":\"9f02abcf-13aa-4fb4-a77d-e44e54fe6397\",\"type\":\"GlyphRenderer\"},{\"attributes\":{\"line_alpha\":{\"value\":0.1},\"line_color\":{\"value\":\"#1f77b4\"},\"line_dash\":[6],\"x\":{\"field\":\"x\"},\"y\":{\"field\":\"y\"}},\"id\":\"f1b9dd50-3751-4f7d-8f38-b3918c7fd048\",\"type\":\"Line\"},{\"attributes\":{\"data_source\":{\"id\":\"9b1a541a-430c-4741-90d1-120740ec87c8\",\"type\":\"ColumnDataSource\"},\"glyph\":{\"id\":\"d6948975-3097-4100-8a81-dabfd966b7e2\",\"type\":\"Quad\"},\"hover_glyph\":null,\"nonselection_glyph\":{\"id\":\"7bb3ae3c-c2a0-4330-9fdb-81067f9db488\",\"type\":\"Quad\"},\"selection_glyph\":null},\"id\":\"15e1d9e6-e607-4466-906c-7f52e0718f6f\",\"type\":\"GlyphRenderer\"},{\"attributes\":{},\"id\":\"9c1ad505-fb5e-4b27-9f6a-1532b32c8d98\",\"type\":\"BasicTickFormatter\"},{\"attributes\":{\"plot\":{\"id\":\"a4390110-e37b-440c-b501-a2703bca18b6\",\"subtype\":\"Figure\",\"type\":\"Plot\"}},\"id\":\"cb496122-ca11-4db2-b9e6-57dc8580d8a2\",\"type\":\"WheelZoomTool\"},{\"attributes\":{\"bottom_units\":\"screen\",\"fill_alpha\":{\"value\":0.5},\"fill_color\":{\"value\":\"lightgrey\"},\"left_units\":\"screen\",\"level\":\"overlay\",\"line_alpha\":{\"value\":1.0},\"line_color\":{\"value\":\"black\"},\"line_dash\":[4,4],\"line_width\":{\"value\":2},\"plot\":null,\"render_mode\":\"css\",\"right_units\":\"screen\",\"top_units\":\"screen\"},\"id\":\"f8be4ad5-5002-44c9-8f34-00d0cc35ef80\",\"type\":\"BoxAnnotation\"},{\"attributes\":{},\"id\":\"c6529500-3627-40f6-b2f2-3745170943b1\",\"type\":\"BasicTicker\"},{\"attributes\":{\"data_source\":{\"id\":\"e2a9b4b9-71aa-4644-9aed-96ba4df27800\",\"type\":\"ColumnDataSource\"},\"glyph\":{\"id\":\"b07614d8-4c55-44cc-ad82-7d568c5f695a\",\"type\":\"Line\"},\"hover_glyph\":null,\"nonselection_glyph\":{\"id\":\"4e3a6c42-31fa-43dc-aab0-6a81df7e495d\",\"type\":\"Line\"},\"selection_glyph\":null},\"id\":\"bba2e7c5-60e5-4160-9300-0ebed9cc0ad0\",\"type\":\"GlyphRenderer\"},{\"attributes\":{\"active_drag\":\"auto\",\"active_scroll\":\"auto\",\"active_tap\":\"auto\",\"tools\":[{\"id\":\"0c7760df-e0e3-495d-b3a5-992ec82da221\",\"type\":\"SaveTool\"},{\"id\":\"5b03f0a0-bf06-4b23-812f-cb90983126ab\",\"type\":\"PanTool\"},{\"id\":\"39918a1b-dc54-457b-8d0d-a3813b034a33\",\"type\":\"BoxZoomTool\"},{\"id\":\"cb496122-ca11-4db2-b9e6-57dc8580d8a2\",\"type\":\"WheelZoomTool\"},{\"id\":\"976a5975-c440-4585-98f7-c20c354832ca\",\"type\":\"ResetTool\"}]},\"id\":\"f1290a92-a132-4a7e-9904-b3b21b8c7efb\",\"type\":\"Toolbar\"},{\"attributes\":{\"formatter\":{\"id\":\"9c1ad505-fb5e-4b27-9f6a-1532b32c8d98\",\"type\":\"BasicTickFormatter\"},\"plot\":{\"id\":\"a4390110-e37b-440c-b501-a2703bca18b6\",\"subtype\":\"Figure\",\"type\":\"Plot\"},\"ticker\":{\"id\":\"a7815a3e-2066-4b4f-9f50-3cf38083a343\",\"type\":\"BasicTicker\"}},\"id\":\"baa92334-1183-49a3-822d-55e44ddc8703\",\"type\":\"LinearAxis\"},{\"attributes\":{\"callback\":null,\"column_names\":[\"y\",\"x\"],\"data\":{\"x\":[5.3,5.3],\"y\":[0.0,1.1]}},\"id\":\"e2a9b4b9-71aa-4644-9aed-96ba4df27800\",\"type\":\"ColumnDataSource\"},{\"attributes\":{\"callback\":null,\"column_names\":[\"y\",\"x\"],\"data\":{\"x\":[5.843139024560011,5.843139024560011],\"y\":[0,1]}},\"id\":\"62d3fd2b-27fb-4ec6-af1a-92d6ad3e3cbf\",\"type\":\"ColumnDataSource\"},{\"attributes\":{\"bottom\":{\"value\":0},\"fill_alpha\":{\"value\":0.1},\"fill_color\":{\"value\":\"#1f77b4\"},\"left\":{\"field\":\"left\"},\"line_alpha\":{\"value\":0.1},\"line_color\":{\"value\":\"#1f77b4\"},\"right\":{\"field\":\"right\"},\"top\":{\"field\":\"top\"}},\"id\":\"7bb3ae3c-c2a0-4330-9fdb-81067f9db488\",\"type\":\"Quad\"},{\"attributes\":{\"callback\":null},\"id\":\"20e61b98-5bb4-49ee-8710-28897cdf5c88\",\"type\":\"DataRange1d\"},{\"attributes\":{\"line_color\":{\"value\":\"red\"},\"x\":{\"field\":\"x\"},\"y\":{\"field\":\"y\"}},\"id\":\"b07614d8-4c55-44cc-ad82-7d568c5f695a\",\"type\":\"Line\"},{\"attributes\":{\"plot\":{\"id\":\"a4390110-e37b-440c-b501-a2703bca18b6\",\"subtype\":\"Figure\",\"type\":\"Plot\"}},\"id\":\"976a5975-c440-4585-98f7-c20c354832ca\",\"type\":\"ResetTool\"},{\"attributes\":{\"dimension\":1,\"plot\":{\"id\":\"a4390110-e37b-440c-b501-a2703bca18b6\",\"subtype\":\"Figure\",\"type\":\"Plot\"},\"ticker\":{\"id\":\"a7815a3e-2066-4b4f-9f50-3cf38083a343\",\"type\":\"BasicTicker\"}},\"id\":\"5daa20f8-fdda-4d86-a6cb-e84e2a0f7035\",\"type\":\"Grid\"},{\"attributes\":{\"line_color\":{\"value\":\"red\"},\"line_dash\":[6],\"x\":{\"field\":\"x\"},\"y\":{\"field\":\"y\"}},\"id\":\"97f93e23-2ab6-4e35-b207-5fa082b8fff0\",\"type\":\"Line\"},{\"attributes\":{\"formatter\":{\"id\":\"349a9054-cfd4-4c3b-9b97-4edd6dbbc4dc\",\"type\":\"BasicTickFormatter\"},\"plot\":{\"id\":\"a4390110-e37b-440c-b501-a2703bca18b6\",\"subtype\":\"Figure\",\"type\":\"Plot\"},\"ticker\":{\"id\":\"c6529500-3627-40f6-b2f2-3745170943b1\",\"type\":\"BasicTicker\"}},\"id\":\"f58800ec-b3cf-414f-9897-7be9a47e2049\",\"type\":\"LinearAxis\"},{\"attributes\":{},\"id\":\"e14c06cc-b16a-4e35-bbf6-a55d1d342e79\",\"type\":\"ToolEvents\"},{\"attributes\":{\"overlay\":{\"id\":\"f8be4ad5-5002-44c9-8f34-00d0cc35ef80\",\"type\":\"BoxAnnotation\"},\"plot\":{\"id\":\"a4390110-e37b-440c-b501-a2703bca18b6\",\"subtype\":\"Figure\",\"type\":\"Plot\"}},\"id\":\"39918a1b-dc54-457b-8d0d-a3813b034a33\",\"type\":\"BoxZoomTool\"},{\"attributes\":{\"plot\":{\"id\":\"a4390110-e37b-440c-b501-a2703bca18b6\",\"subtype\":\"Figure\",\"type\":\"Plot\"}},\"id\":\"5b03f0a0-bf06-4b23-812f-cb90983126ab\",\"type\":\"PanTool\"},{\"attributes\":{\"callback\":null,\"column_names\":[\"top\",\"right\",\"left\"],\"data\":{\"left\":[4.8,4.826,4.851999999999999,4.878,4.904,4.93,4.9559999999999995,4.982,5.008,5.034,5.06,5.085999999999999,5.112,5.138,5.164,5.1899999999999995,5.215999999999999,5.242,5.268,5.294,5.319999999999999,5.346,5.372,5.398,5.4239999999999995,5.449999999999999,5.476,5.502,5.528,5.553999999999999,5.58,5.606,5.632,5.6579999999999995,5.683999999999999,5.71,5.736,5.762,5.787999999999999,5.814,5.84,5.866,5.8919999999999995,5.917999999999999,5.943999999999999,5.97,5.9959999999999996,6.021999999999999,6.048,6.074],\"right\":[4.826,4.851999999999999,4.878,4.904,4.93,4.9559999999999995,4.982,5.008,5.034,5.06,5.085999999999999,5.112,5.138,5.164,5.1899999999999995,5.215999999999999,5.242,5.268,5.294,5.319999999999999,5.346,5.372,5.398,5.4239999999999995,5.449999999999999,5.476,5.502,5.528,5.553999999999999,5.58,5.606,5.632,5.6579999999999995,5.683999999999999,5.71,5.736,5.762,5.787999999999999,5.814,5.84,5.866,5.8919999999999995,5.917999999999999,5.943999999999999,5.97,5.9959999999999996,6.021999999999999,6.048,6.074,6.1],\"top\":[1,0,0,1,0,0,0,0,0,0,0,1,0,0,0,0,0,0,0,0,0,0,0,0,0,0,0,0,0,0,1,0,0,0,0,0,0,0,0,0,0,0,0,0,0,0,0,0,0,1]}},\"id\":\"9b1a541a-430c-4741-90d1-120740ec87c8\",\"type\":\"ColumnDataSource\"},{\"attributes\":{\"plot\":null,\"text\":\"unnamed_var6 Histogram\"},\"id\":\"514ed63a-03a1-4c9a-b246-99e568f6676b\",\"type\":\"Title\"}],\"root_ids\":[\"a4390110-e37b-440c-b501-a2703bca18b6\"]},\"title\":\"Bokeh Application\",\"version\":\"0.12.2\"}};\n",
       "            var render_items = [{\"docid\":\"f1a89763-89cf-410b-aec5-f676726ec323\",\"elementid\":\"25ac0f1d-969f-48c3-b209-7fcfe2a13cbf\",\"modelid\":\"a4390110-e37b-440c-b501-a2703bca18b6\"}];\n",
       "            \n",
       "            Bokeh.embed.embed_items(docs_json, render_items);\n",
       "        });\n",
       "      },\n",
       "      function(Bokeh) {\n",
       "      }\n",
       "    ];\n",
       "  \n",
       "    function run_inline_js() {\n",
       "      \n",
       "      if ((window.Bokeh !== undefined) || (force === \"1\")) {\n",
       "        for (var i = 0; i < inline_js.length; i++) {\n",
       "          inline_js[i](window.Bokeh);\n",
       "        }if (force === \"1\") {\n",
       "          display_loaded();\n",
       "        }} else if (Date.now() < window._bokeh_timeout) {\n",
       "        setTimeout(run_inline_js, 100);\n",
       "      } else if (!window._bokeh_failed_load) {\n",
       "        console.log(\"Bokeh: BokehJS failed to load within specified timeout.\");\n",
       "        window._bokeh_failed_load = true;\n",
       "      } else if (!force) {\n",
       "        var cell = $(\"#25ac0f1d-969f-48c3-b209-7fcfe2a13cbf\").parents('.cell').data().cell;\n",
       "        cell.output_area.append_execute_result(NB_LOAD_WARNING)\n",
       "      }\n",
       "  \n",
       "    }\n",
       "  \n",
       "    if (window._bokeh_is_loading === 0) {\n",
       "      console.log(\"Bokeh: BokehJS loaded, going straight to plotting\");\n",
       "      run_inline_js();\n",
       "    } else {\n",
       "      load_libs(js_urls, function() {\n",
       "        console.log(\"Bokeh: BokehJS plotting callback run at\", now());\n",
       "        run_inline_js();\n",
       "      });\n",
       "    }\n",
       "  }(this));\n",
       "</script>"
      ]
     },
     "metadata": {},
     "output_type": "display_data"
    },
    {
     "data": {
      "text/plain": [
       "<bokeh.plotting.figure.Figure at 0x18a96d5c358>"
      ]
     },
     "execution_count": 11,
     "metadata": {},
     "output_type": "execute_result"
    }
   ],
   "source": [
    "T.show_histogram()"
   ]
  },
  {
   "cell_type": "markdown",
   "metadata": {},
   "source": [
    "## Multiple measurements (Arrays of Measurements)\n",
    "QExPy can also handle the case of having multiple measurements, when each measurement has its own uncertainty. For example, if you have three measurements of a single quantity, in order to get an average value, you should weight each measurement by its uncertainty (or rather the weight should be 1 over the square of the uncertainty). This is handled by the MeasurementArray class:"
   ]
  },
  {
   "cell_type": "code",
   "execution_count": 12,
   "metadata": {
    "collapsed": false
   },
   "outputs": [
    {
     "name": "stdout",
     "output_type": "stream",
     "text": [
      "g_0 = 9.8000 +/- 0.2000 [m/s^2],\n",
      "g_1 = 14.000 +/- 3.000 [m/s^2],\n",
      "g_2 = 9.9000 +/- 0.1000 [m/s^2]\n",
      "The mean is  11.2333333333\n",
      "The error weighted mean is  9.88366 +/- 0.08940\n"
     ]
    }
   ],
   "source": [
    "gvals = q.MeasurementArray([(9.8,0.2), (14,3) , (9.9,0.1)], name=\"g\", units='m/s^2') \n",
    "print(gvals)\n",
    "print(\"The mean is \",gvals.get_mean())\n",
    "print(\"The error weighted mean is \",gvals.get_error_weighted_mean())"
   ]
  },
  {
   "cell_type": "markdown",
   "metadata": {},
   "source": [
    "The MeasurementArray object truly is an array of Measurement objects, so individual measurements can be retrieved (remember that the first element in an array in python has index 0 not 1, so element 1 is the second element):"
   ]
  },
  {
   "cell_type": "code",
   "execution_count": 13,
   "metadata": {
    "collapsed": false
   },
   "outputs": [
    {
     "name": "stdout",
     "output_type": "stream",
     "text": [
      "g_1 = 14.000 +/- 3.000 [m/s^2]\n"
     ]
    }
   ],
   "source": [
    "print(gvals[1])"
   ]
  },
  {
   "cell_type": "markdown",
   "metadata": {},
   "source": [
    "## Error propagation methods\n",
    "\n",
    "### Derivative method (default)\n",
    "By default, QExPy propagates the uncertainties using the \"derivative\" method. That is, for a function, $f(x,y)$, that depends on measured quantities $x\\pm\\sigma_x$ and $y\\pm\\sigma_y$, with covariance $\\sigma_{xy}$ between the two measured quantities, the uncertainty in $f$ is given by:\n",
    "$$ \\sigma_f = \\sqrt{ \\left(\\frac{\\partial f}{\\partial x} \\sigma_x \\right)^2 + \\left(\\frac{\\partial f}{\\partial y} \\sigma_y \\right)^2 + 2 \\frac{\\partial f}{\\partial x} \\frac{\\partial f}{\\partial y}\\sigma_{xy} }$$\n",
    "\n",
    "QExPy evaluates the derivatives exactly when propagating the uncertainties using an algorithm called \"automatic differentiation\". This is possible as QExPy internally keeps track of the dependency of quantities on each other, and as an added bonus can also be used to evaluate numerical derivatives exactly. Although the derivative method is commonly taught in undergraduate laboratories, it is only valid when the relative uncertainties in the quantities being propagated are small (e.g. less than ~10% relative uncertainty). This method is thus not strongly encouraged, although it has been made the default because it is so prevalent in undergraduate teaching. \n",
    "\n",
    "\n",
    "### Min-Max method (not recommended)\n",
    "This is not the only way to propagate the uncertainty in $f$. For example, the \"Min-Max\" method, is a method to yield a more conservative (larger) estimate of the uncertainty in $f$ and is often used in introductory courses. The Min-Max method defines the central value and uncertainty in $f$ as:\n",
    "$$f=\\frac{1}{2}(f^{max}+f^{min})$$\n",
    "$$\\sigma_f=\\frac{1}{2}(f^{max}-f^{min})$$\n",
    "\n",
    "where $f^{max}$ ($f^{min}$) is the maximum (minimum) value that $f$ takes when $x$ and $y$ are varied within their uncertainty range. For example, if $f(x,y)=x+y$, then the maximum and minimum of $f$ are easily found:\n",
    "\n",
    "$$f^{max} = (x+\\sigma_x)+(y+\\sigma_y)$$\n",
    "$$f^{min} = (x-\\sigma_x)-(y-\\sigma_y)$$\n",
    "\n",
    "The Min-Max method actually requires a numerical approximation to evaluate the values of $f^{max}$ and $f^{min}$ for all but the most simple cases. Hence although it is a good method to introduce the idea of uncertainty propagation, it is not recommended to use this method in any serious calculation (it also does not take correlations into account). \n",
    "\n",
    "### Monte Carlo method (recommended!)\n",
    "Finally, the recommended method to propagate errors is the \"Monte-Carlo\" method, although it is the hardest to understand. The MC method is based on a statiscal understanding of the measurements. In the QExPy implementation, currently, the main assumptions is that the uncertainty in a quantity is given by a \"standard error\"; that is, if $x = 10\\pm 1$, then we *assume* that this error and uncertainty should be interpreted as: \"if we measure $x$ multiple times, we will obtain a set of measurements that are normally distributed with a mean of 10 and a standard deviation of 1\". In other words, we assume that $x$ has a 68% chance of being in the range between 9 and 11.\n",
    "\n",
    "\n",
    "The MC method then uses the assumption that measured quantities are normally distributed and use this to propagate the errors by using Monte Carlo simulation. Suppose that we have measured $x$ and $y$ and wish to determine the central value and uncertainty in $x=x+y$. The Monte Carlo method will generate normally distributed random values for $x$ and $y$ (the random numbers will be correctly correlated if the user has indicated that $x$ and $y$ are correlated), then it will add those random values together, to obtain a set of values for $z$. The mean and standard deviation of the random values for $z$ are taken as the central value and uncertainty in $z$. \n",
    "\n",
    "## What QExPy actually does\n",
    "Although the user appears to choose the method used to propagate the errors, QExPy always uses all three methods behind the scenes and the user only decides which method to print out. This allows QExPy to compare the results behind the scenes, in particular, to inform the users that the uncertainties using a particular method (e.g. derivative) may be inaccurate and to suggest that the user choose a different method. \n",
    "\n",
    "## Example\n",
    "Below, we illustrate an example of using the different methods to propagate the uncertainty in the Coulomb force based on the measurement of two charges, $q_1$ and $q_2$, and the distance between them, $r$. We illustrate how the derivative method does not give the correct answer if the relative uncertainties in the measured quantities are large. \n",
    "\n",
    "### 1 % relative uncertainty calculation\n"
   ]
  },
  {
   "cell_type": "code",
   "execution_count": 14,
   "metadata": {
    "collapsed": false
   },
   "outputs": [
    {
     "name": "stdout",
     "output_type": "stream",
     "text": [
      "Derivative method, F =  18.0000 +/- 0.4409\n",
      "Min-Max method, F = 18.0144 +/- 0.7202\n",
      "Monte Carlo method, F = 18.0050 +/- 0.4362\n"
     ]
    }
   ],
   "source": [
    "#Measurements with 1% relative uncertainties:\n",
    "relative_factor = 0.01 \n",
    "\n",
    "#Measured values\n",
    "q1m=1e-6\n",
    "q2m=2e-5\n",
    "rm=0.1\n",
    "\n",
    "#Convert to Measurement objects\n",
    "q1 = q.Measurement(q1m,relative_factor*q1m)\n",
    "q2 = q.Measurement(q2m,relative_factor*q2m)\n",
    "r = q.Measurement(rm,relative_factor*rm)\n",
    "#Coulomb's constant:\n",
    "k = 9e9 \n",
    "\n",
    "#Define the Force:\n",
    "F = k*q1*q2/r**2\n",
    "\n",
    "#Print out the different errors\n",
    "q.set_error_method(\"derivative\")\n",
    "print(\"Derivative method, F = \",F)\n",
    "q.set_error_method(\"minmax\")\n",
    "print(\"Min-Max method, F =\", F)\n",
    "q.set_error_method(\"mc\")\n",
    "print(\"Monte Carlo method, F =\",F)\n",
    "\n"
   ]
  },
  {
   "cell_type": "markdown",
   "metadata": {},
   "source": [
    "### 10 % relative uncertainty calculation\n",
    "We see that in this case, the Monte Carlo method returns a different uncertainty than the derivative method, because the derivative method is incorrect when the uncertainties are this large."
   ]
  },
  {
   "cell_type": "code",
   "execution_count": 15,
   "metadata": {
    "collapsed": false,
    "scrolled": false
   },
   "outputs": [
    {
     "name": "stdout",
     "output_type": "stream",
     "text": [
      "Derivative method, F =  18.000 +/- 4.409\n",
      "Min-Max method, F = 19.469 +/- 7.420\n",
      "Monte Carlo method, F = 18.493 +/- 4.748\n"
     ]
    },
    {
     "data": {
      "text/html": [
       "\n",
       "\n",
       "    <div class=\"bk-root\">\n",
       "        <div class=\"plotdiv\" id=\"1fca690e-da59-430a-870f-c9345e2a0272\"></div>\n",
       "    </div>\n",
       "<script type=\"text/javascript\">\n",
       "  \n",
       "  (function(global) {\n",
       "    function now() {\n",
       "      return new Date();\n",
       "    }\n",
       "  \n",
       "    var force = \"\";\n",
       "  \n",
       "    if (typeof (window._bokeh_onload_callbacks) === \"undefined\" || force !== \"\") {\n",
       "      window._bokeh_onload_callbacks = [];\n",
       "      window._bokeh_is_loading = undefined;\n",
       "    }\n",
       "  \n",
       "  \n",
       "    \n",
       "    if (typeof (window._bokeh_timeout) === \"undefined\" || force !== \"\") {\n",
       "      window._bokeh_timeout = Date.now() + 0;\n",
       "      window._bokeh_failed_load = false;\n",
       "    }\n",
       "  \n",
       "    var NB_LOAD_WARNING = {'data': {'text/html':\n",
       "       \"<div style='background-color: #fdd'>\\n\"+\n",
       "       \"<p>\\n\"+\n",
       "       \"BokehJS does not appear to have successfully loaded. If loading BokehJS from CDN, this \\n\"+\n",
       "       \"may be due to a slow or bad network connection. Possible fixes:\\n\"+\n",
       "       \"</p>\\n\"+\n",
       "       \"<ul>\\n\"+\n",
       "       \"<li>re-rerun `output_notebook()` to attempt to load from CDN again, or</li>\\n\"+\n",
       "       \"<li>use INLINE resources instead, as so:</li>\\n\"+\n",
       "       \"</ul>\\n\"+\n",
       "       \"<code>\\n\"+\n",
       "       \"from bokeh.resources import INLINE\\n\"+\n",
       "       \"output_notebook(resources=INLINE)\\n\"+\n",
       "       \"</code>\\n\"+\n",
       "       \"</div>\"}};\n",
       "  \n",
       "    function display_loaded() {\n",
       "      if (window.Bokeh !== undefined) {\n",
       "        Bokeh.$(\"#1fca690e-da59-430a-870f-c9345e2a0272\").text(\"BokehJS successfully loaded.\");\n",
       "      } else if (Date.now() < window._bokeh_timeout) {\n",
       "        setTimeout(display_loaded, 100)\n",
       "      }\n",
       "    }\n",
       "  \n",
       "    function run_callbacks() {\n",
       "      window._bokeh_onload_callbacks.forEach(function(callback) { callback() });\n",
       "      delete window._bokeh_onload_callbacks\n",
       "      console.info(\"Bokeh: all callbacks have finished\");\n",
       "    }\n",
       "  \n",
       "    function load_libs(js_urls, callback) {\n",
       "      window._bokeh_onload_callbacks.push(callback);\n",
       "      if (window._bokeh_is_loading > 0) {\n",
       "        console.log(\"Bokeh: BokehJS is being loaded, scheduling callback at\", now());\n",
       "        return null;\n",
       "      }\n",
       "      if (js_urls == null || js_urls.length === 0) {\n",
       "        run_callbacks();\n",
       "        return null;\n",
       "      }\n",
       "      console.log(\"Bokeh: BokehJS not loaded, scheduling load and callback at\", now());\n",
       "      window._bokeh_is_loading = js_urls.length;\n",
       "      for (var i = 0; i < js_urls.length; i++) {\n",
       "        var url = js_urls[i];\n",
       "        var s = document.createElement('script');\n",
       "        s.src = url;\n",
       "        s.async = false;\n",
       "        s.onreadystatechange = s.onload = function() {\n",
       "          window._bokeh_is_loading--;\n",
       "          if (window._bokeh_is_loading === 0) {\n",
       "            console.log(\"Bokeh: all BokehJS libraries loaded\");\n",
       "            run_callbacks()\n",
       "          }\n",
       "        };\n",
       "        s.onerror = function() {\n",
       "          console.warn(\"failed to load library \" + url);\n",
       "        };\n",
       "        console.log(\"Bokeh: injecting script tag for BokehJS library: \", url);\n",
       "        document.getElementsByTagName(\"head\")[0].appendChild(s);\n",
       "      }\n",
       "    };var element = document.getElementById(\"1fca690e-da59-430a-870f-c9345e2a0272\");\n",
       "    if (element == null) {\n",
       "      console.log(\"Bokeh: ERROR: autoload.js configured with elementid '1fca690e-da59-430a-870f-c9345e2a0272' but no matching script tag was found. \")\n",
       "      return false;\n",
       "    }\n",
       "  \n",
       "    var js_urls = [];\n",
       "  \n",
       "    var inline_js = [\n",
       "      function(Bokeh) {\n",
       "        Bokeh.$(function() {\n",
       "            var docs_json = {\"dedf7778-6c50-4020-8d14-466805e940f1\":{\"roots\":{\"references\":[{\"attributes\":{\"plot\":{\"id\":\"7f4332cf-f911-438a-ae8b-9e4bb4c030b5\",\"subtype\":\"Figure\",\"type\":\"Plot\"}},\"id\":\"037946d2-e4fc-4fd4-93b6-09dda788cf97\",\"type\":\"WheelZoomTool\"},{\"attributes\":{\"line_color\":{\"value\":\"red\"},\"line_dash\":[6],\"x\":{\"field\":\"x\"},\"y\":{\"field\":\"y\"}},\"id\":\"8cdce59a-7c61-425e-bd7d-5723e70979d0\",\"type\":\"Line\"},{\"attributes\":{\"callback\":null,\"column_names\":[\"y\",\"x\"],\"data\":{\"x\":[18.0,18.0],\"y\":[0.0,1114.3000000000002]}},\"id\":\"2292aec1-1945-451d-8040-be5478513a26\",\"type\":\"ColumnDataSource\"},{\"attributes\":{\"line_color\":{\"value\":\"red\"},\"x\":{\"field\":\"x\"},\"y\":{\"field\":\"y\"}},\"id\":\"25fc0bc4-0f1a-4a64-8ef4-24d7eabd5e4e\",\"type\":\"Line\"},{\"attributes\":{\"callback\":null},\"id\":\"c43a7b7a-3b41-480e-a9bc-bd7f94b24ca9\",\"type\":\"DataRange1d\"},{\"attributes\":{\"formatter\":{\"id\":\"26c3e27c-a062-4be0-b00f-88f26ce89654\",\"type\":\"BasicTickFormatter\"},\"plot\":{\"id\":\"7f4332cf-f911-438a-ae8b-9e4bb4c030b5\",\"subtype\":\"Figure\",\"type\":\"Plot\"},\"ticker\":{\"id\":\"732025be-cb21-4a2a-abdd-e97c63ea1a90\",\"type\":\"BasicTicker\"}},\"id\":\"db2a0ec3-139b-4d21-bb11-f9041a550b70\",\"type\":\"LinearAxis\"},{\"attributes\":{},\"id\":\"6f264ca2-e641-4470-8395-9927298f406e\",\"type\":\"BasicTickFormatter\"},{\"attributes\":{\"active_drag\":\"auto\",\"active_scroll\":\"auto\",\"active_tap\":\"auto\",\"tools\":[{\"id\":\"000e8be8-ea32-4fca-aac0-afd586851cb7\",\"type\":\"SaveTool\"},{\"id\":\"b448f785-7eda-4cac-9ad7-6823667a484a\",\"type\":\"PanTool\"},{\"id\":\"3577de63-bf70-4e7b-9177-0b18e29b8c54\",\"type\":\"BoxZoomTool\"},{\"id\":\"037946d2-e4fc-4fd4-93b6-09dda788cf97\",\"type\":\"WheelZoomTool\"},{\"id\":\"2056e6c1-386a-4e0c-8835-7a8cf441c993\",\"type\":\"ResetTool\"}]},\"id\":\"0c881c7c-ec8f-4f68-ad74-15aeb4f7b5a9\",\"type\":\"Toolbar\"},{\"attributes\":{\"line_alpha\":{\"value\":0.1},\"line_color\":{\"value\":\"#1f77b4\"},\"line_dash\":[6],\"x\":{\"field\":\"x\"},\"y\":{\"field\":\"y\"}},\"id\":\"76b84a9d-b5a1-48fd-9b14-05bd40c77680\",\"type\":\"Line\"},{\"attributes\":{\"plot\":{\"id\":\"7f4332cf-f911-438a-ae8b-9e4bb4c030b5\",\"subtype\":\"Figure\",\"type\":\"Plot\"}},\"id\":\"2056e6c1-386a-4e0c-8835-7a8cf441c993\",\"type\":\"ResetTool\"},{\"attributes\":{\"callback\":null,\"column_names\":[\"y\",\"x\"],\"data\":{\"x\":[13.59091846299028,13.59091846299028],\"y\":[0,1013]}},\"id\":\"179886ae-c5a2-4027-bbd6-098a8dd73b3d\",\"type\":\"ColumnDataSource\"},{\"attributes\":{\"bottom\":{\"value\":0},\"fill_color\":{\"value\":\"#036564\"},\"left\":{\"field\":\"left\"},\"line_color\":{\"value\":\"#033649\"},\"right\":{\"field\":\"right\"},\"top\":{\"field\":\"top\"}},\"id\":\"6649ea29-9fda-4223-9398-fff7b90f48e3\",\"type\":\"Quad\"},{\"attributes\":{\"dimension\":1,\"plot\":{\"id\":\"7f4332cf-f911-438a-ae8b-9e4bb4c030b5\",\"subtype\":\"Figure\",\"type\":\"Plot\"},\"ticker\":{\"id\":\"732025be-cb21-4a2a-abdd-e97c63ea1a90\",\"type\":\"BasicTicker\"}},\"id\":\"d97394fb-e4c5-4dab-b38a-eead3a0528ae\",\"type\":\"Grid\"},{\"attributes\":{\"plot\":{\"id\":\"7f4332cf-f911-438a-ae8b-9e4bb4c030b5\",\"subtype\":\"Figure\",\"type\":\"Plot\"},\"ticker\":{\"id\":\"3d8bc123-6ae1-4035-805e-bfac0f40eadf\",\"type\":\"BasicTicker\"}},\"id\":\"70bd9a59-8fff-4871-a44f-b9f4d6e964d0\",\"type\":\"Grid\"},{\"attributes\":{\"bottom\":{\"value\":0},\"fill_alpha\":{\"value\":0.1},\"fill_color\":{\"value\":\"#1f77b4\"},\"left\":{\"field\":\"left\"},\"line_alpha\":{\"value\":0.1},\"line_color\":{\"value\":\"#1f77b4\"},\"right\":{\"field\":\"right\"},\"top\":{\"field\":\"top\"}},\"id\":\"c75668a5-5a78-45c1-bf7d-678ddbd2b5b5\",\"type\":\"Quad\"},{\"attributes\":{},\"id\":\"3d8bc123-6ae1-4035-805e-bfac0f40eadf\",\"type\":\"BasicTicker\"},{\"attributes\":{},\"id\":\"cce7cb36-4af4-4268-9391-20b1a02715c9\",\"type\":\"ToolEvents\"},{\"attributes\":{\"line_alpha\":{\"value\":0.1},\"line_color\":{\"value\":\"#1f77b4\"},\"line_dash\":[6],\"x\":{\"field\":\"x\"},\"y\":{\"field\":\"y\"}},\"id\":\"fc975046-4eb8-48dc-bd13-d7e3ff0d7edc\",\"type\":\"Line\"},{\"attributes\":{\"overlay\":{\"id\":\"7ce6c38f-6b5d-4a8d-a29a-e185acbe5bb1\",\"type\":\"BoxAnnotation\"},\"plot\":{\"id\":\"7f4332cf-f911-438a-ae8b-9e4bb4c030b5\",\"subtype\":\"Figure\",\"type\":\"Plot\"}},\"id\":\"3577de63-bf70-4e7b-9177-0b18e29b8c54\",\"type\":\"BoxZoomTool\"},{\"attributes\":{\"callback\":null,\"column_names\":[\"top\",\"right\",\"left\"],\"data\":{\"left\":[7.811969999982827,8.863217845467304,9.91446569095178,10.965713536436256,12.016961381920733,13.068209227405209,14.119457072889686,15.170704918374163,16.22195276385864,17.273200609343114,18.32444845482759,19.375696300312068,20.426944145796547,21.478191991281022,22.529439836765498,23.580687682249973,24.63193552773445,25.683183373218924,26.734431218703406,27.78567906418788,28.836926909672357,29.888174755156832,30.939422600641308,31.990670446125783,33.041918291610266,34.09316613709474,35.144413982579216,36.19566182806369,37.24690967354817,38.29815751903264,39.34940536451712,40.4006532100016,41.451901055486076,42.50314890097055,43.554396746455026,44.6056445919395,45.656892437423984,46.70814028290846,47.759388128392935,48.81063597387741,49.861883819361886,50.91313166484636,51.96437951033084,53.01562735581532,54.066875201299794,55.11812304678427,56.169370892268745,57.22061873775322,58.2718665832377,59.32311442872218],\"right\":[8.863217845467304,9.91446569095178,10.965713536436256,12.016961381920733,13.068209227405209,14.119457072889686,15.170704918374163,16.22195276385864,17.273200609343114,18.32444845482759,19.375696300312068,20.426944145796547,21.478191991281022,22.529439836765498,23.580687682249973,24.63193552773445,25.683183373218924,26.734431218703406,27.78567906418788,28.836926909672357,29.888174755156832,30.939422600641308,31.990670446125783,33.041918291610266,34.09316613709474,35.144413982579216,36.19566182806369,37.24690967354817,38.29815751903264,39.34940536451712,40.4006532100016,41.451901055486076,42.50314890097055,43.554396746455026,44.6056445919395,45.656892437423984,46.70814028290846,47.759388128392935,48.81063597387741,49.861883819361886,50.91313166484636,51.96437951033084,53.01562735581532,54.066875201299794,55.11812304678427,56.169370892268745,57.22061873775322,58.2718665832377,59.32311442872218,60.37436227420665],\"top\":[14,47,138,261,491,711,820,1013,987,967,860,794,633,538,430,313,241,203,139,86,67,57,58,30,23,22,12,13,8,3,5,4,1,5,1,0,1,2,0,0,0,0,0,0,0,1,0,0,0,1]}},\"id\":\"518ce0ed-ec0a-4d47-a37e-ee4fd824a6c8\",\"type\":\"ColumnDataSource\"},{\"attributes\":{\"line_color\":{\"value\":\"red\"},\"line_dash\":[6],\"x\":{\"field\":\"x\"},\"y\":{\"field\":\"y\"}},\"id\":\"5281bd8a-43e6-42e7-b207-40140b8fdbb7\",\"type\":\"Line\"},{\"attributes\":{\"formatter\":{\"id\":\"6f264ca2-e641-4470-8395-9927298f406e\",\"type\":\"BasicTickFormatter\"},\"plot\":{\"id\":\"7f4332cf-f911-438a-ae8b-9e4bb4c030b5\",\"subtype\":\"Figure\",\"type\":\"Plot\"},\"ticker\":{\"id\":\"3d8bc123-6ae1-4035-805e-bfac0f40eadf\",\"type\":\"BasicTicker\"}},\"id\":\"6503fd83-1490-468b-aeaf-f89ab324ae20\",\"type\":\"LinearAxis\"},{\"attributes\":{\"callback\":null,\"column_names\":[\"y\",\"x\"],\"data\":{\"x\":[22.40908153700972,22.40908153700972],\"y\":[0,1013]}},\"id\":\"2f121b13-eb70-4047-a2fc-ba1210db988c\",\"type\":\"ColumnDataSource\"},{\"attributes\":{\"plot\":null,\"text\":\"unnamed_var14*9000000000*unnamed_var15/unnamed_var16**2 Histogram\"},\"id\":\"c0df08d5-844e-4f4f-b2b8-1d33b77c92cc\",\"type\":\"Title\"},{\"attributes\":{\"background_fill_color\":{\"value\":\"#FFFFFF\"},\"below\":[{\"id\":\"6503fd83-1490-468b-aeaf-f89ab324ae20\",\"type\":\"LinearAxis\"}],\"left\":[{\"id\":\"db2a0ec3-139b-4d21-bb11-f9041a550b70\",\"type\":\"LinearAxis\"}],\"renderers\":[{\"id\":\"6503fd83-1490-468b-aeaf-f89ab324ae20\",\"type\":\"LinearAxis\"},{\"id\":\"70bd9a59-8fff-4871-a44f-b9f4d6e964d0\",\"type\":\"Grid\"},{\"id\":\"db2a0ec3-139b-4d21-bb11-f9041a550b70\",\"type\":\"LinearAxis\"},{\"id\":\"d97394fb-e4c5-4dab-b38a-eead3a0528ae\",\"type\":\"Grid\"},{\"id\":\"7ce6c38f-6b5d-4a8d-a29a-e185acbe5bb1\",\"type\":\"BoxAnnotation\"},{\"id\":\"a5eef799-8cb5-4f96-98e3-5595f0d62624\",\"type\":\"GlyphRenderer\"},{\"id\":\"e5602392-3de7-4ece-a80f-92d127fe6b0f\",\"type\":\"GlyphRenderer\"},{\"id\":\"5286fbc3-5286-48f6-9ed9-7b8125357885\",\"type\":\"GlyphRenderer\"},{\"id\":\"eafc17bf-6083-439e-9fe5-6dba88780d9d\",\"type\":\"GlyphRenderer\"}],\"title\":{\"id\":\"c0df08d5-844e-4f4f-b2b8-1d33b77c92cc\",\"type\":\"Title\"},\"tool_events\":{\"id\":\"cce7cb36-4af4-4268-9391-20b1a02715c9\",\"type\":\"ToolEvents\"},\"toolbar\":{\"id\":\"0c881c7c-ec8f-4f68-ad74-15aeb4f7b5a9\",\"type\":\"Toolbar\"},\"x_range\":{\"id\":\"c43a7b7a-3b41-480e-a9bc-bd7f94b24ca9\",\"type\":\"DataRange1d\"},\"y_range\":{\"id\":\"01a9f89b-c407-448b-9c07-8471b62e7419\",\"type\":\"DataRange1d\"}},\"id\":\"7f4332cf-f911-438a-ae8b-9e4bb4c030b5\",\"subtype\":\"Figure\",\"type\":\"Plot\"},{\"attributes\":{\"data_source\":{\"id\":\"518ce0ed-ec0a-4d47-a37e-ee4fd824a6c8\",\"type\":\"ColumnDataSource\"},\"glyph\":{\"id\":\"6649ea29-9fda-4223-9398-fff7b90f48e3\",\"type\":\"Quad\"},\"hover_glyph\":null,\"nonselection_glyph\":{\"id\":\"c75668a5-5a78-45c1-bf7d-678ddbd2b5b5\",\"type\":\"Quad\"},\"selection_glyph\":null},\"id\":\"a5eef799-8cb5-4f96-98e3-5595f0d62624\",\"type\":\"GlyphRenderer\"},{\"attributes\":{\"bottom_units\":\"screen\",\"fill_alpha\":{\"value\":0.5},\"fill_color\":{\"value\":\"lightgrey\"},\"left_units\":\"screen\",\"level\":\"overlay\",\"line_alpha\":{\"value\":1.0},\"line_color\":{\"value\":\"black\"},\"line_dash\":[4,4],\"line_width\":{\"value\":2},\"plot\":null,\"render_mode\":\"css\",\"right_units\":\"screen\",\"top_units\":\"screen\"},\"id\":\"7ce6c38f-6b5d-4a8d-a29a-e185acbe5bb1\",\"type\":\"BoxAnnotation\"},{\"attributes\":{\"data_source\":{\"id\":\"2f121b13-eb70-4047-a2fc-ba1210db988c\",\"type\":\"ColumnDataSource\"},\"glyph\":{\"id\":\"5281bd8a-43e6-42e7-b207-40140b8fdbb7\",\"type\":\"Line\"},\"hover_glyph\":null,\"nonselection_glyph\":{\"id\":\"76b84a9d-b5a1-48fd-9b14-05bd40c77680\",\"type\":\"Line\"},\"selection_glyph\":null},\"id\":\"eafc17bf-6083-439e-9fe5-6dba88780d9d\",\"type\":\"GlyphRenderer\"},{\"attributes\":{\"plot\":{\"id\":\"7f4332cf-f911-438a-ae8b-9e4bb4c030b5\",\"subtype\":\"Figure\",\"type\":\"Plot\"}},\"id\":\"000e8be8-ea32-4fca-aac0-afd586851cb7\",\"type\":\"SaveTool\"},{\"attributes\":{\"plot\":{\"id\":\"7f4332cf-f911-438a-ae8b-9e4bb4c030b5\",\"subtype\":\"Figure\",\"type\":\"Plot\"}},\"id\":\"b448f785-7eda-4cac-9ad7-6823667a484a\",\"type\":\"PanTool\"},{\"attributes\":{},\"id\":\"732025be-cb21-4a2a-abdd-e97c63ea1a90\",\"type\":\"BasicTicker\"},{\"attributes\":{\"data_source\":{\"id\":\"2292aec1-1945-451d-8040-be5478513a26\",\"type\":\"ColumnDataSource\"},\"glyph\":{\"id\":\"25fc0bc4-0f1a-4a64-8ef4-24d7eabd5e4e\",\"type\":\"Line\"},\"hover_glyph\":null,\"nonselection_glyph\":{\"id\":\"1f7c3bd6-be2d-4991-a450-9d41908bfc92\",\"type\":\"Line\"},\"selection_glyph\":null},\"id\":\"e5602392-3de7-4ece-a80f-92d127fe6b0f\",\"type\":\"GlyphRenderer\"},{\"attributes\":{\"line_alpha\":{\"value\":0.1},\"line_color\":{\"value\":\"#1f77b4\"},\"x\":{\"field\":\"x\"},\"y\":{\"field\":\"y\"}},\"id\":\"1f7c3bd6-be2d-4991-a450-9d41908bfc92\",\"type\":\"Line\"},{\"attributes\":{},\"id\":\"26c3e27c-a062-4be0-b00f-88f26ce89654\",\"type\":\"BasicTickFormatter\"},{\"attributes\":{\"callback\":null},\"id\":\"01a9f89b-c407-448b-9c07-8471b62e7419\",\"type\":\"DataRange1d\"},{\"attributes\":{\"data_source\":{\"id\":\"179886ae-c5a2-4027-bbd6-098a8dd73b3d\",\"type\":\"ColumnDataSource\"},\"glyph\":{\"id\":\"8cdce59a-7c61-425e-bd7d-5723e70979d0\",\"type\":\"Line\"},\"hover_glyph\":null,\"nonselection_glyph\":{\"id\":\"fc975046-4eb8-48dc-bd13-d7e3ff0d7edc\",\"type\":\"Line\"},\"selection_glyph\":null},\"id\":\"5286fbc3-5286-48f6-9ed9-7b8125357885\",\"type\":\"GlyphRenderer\"}],\"root_ids\":[\"7f4332cf-f911-438a-ae8b-9e4bb4c030b5\"]},\"title\":\"Bokeh Application\",\"version\":\"0.12.2\"}};\n",
       "            var render_items = [{\"docid\":\"dedf7778-6c50-4020-8d14-466805e940f1\",\"elementid\":\"1fca690e-da59-430a-870f-c9345e2a0272\",\"modelid\":\"7f4332cf-f911-438a-ae8b-9e4bb4c030b5\"}];\n",
       "            \n",
       "            Bokeh.embed.embed_items(docs_json, render_items);\n",
       "        });\n",
       "      },\n",
       "      function(Bokeh) {\n",
       "      }\n",
       "    ];\n",
       "  \n",
       "    function run_inline_js() {\n",
       "      \n",
       "      if ((window.Bokeh !== undefined) || (force === \"1\")) {\n",
       "        for (var i = 0; i < inline_js.length; i++) {\n",
       "          inline_js[i](window.Bokeh);\n",
       "        }if (force === \"1\") {\n",
       "          display_loaded();\n",
       "        }} else if (Date.now() < window._bokeh_timeout) {\n",
       "        setTimeout(run_inline_js, 100);\n",
       "      } else if (!window._bokeh_failed_load) {\n",
       "        console.log(\"Bokeh: BokehJS failed to load within specified timeout.\");\n",
       "        window._bokeh_failed_load = true;\n",
       "      } else if (!force) {\n",
       "        var cell = $(\"#1fca690e-da59-430a-870f-c9345e2a0272\").parents('.cell').data().cell;\n",
       "        cell.output_area.append_execute_result(NB_LOAD_WARNING)\n",
       "      }\n",
       "  \n",
       "    }\n",
       "  \n",
       "    if (window._bokeh_is_loading === 0) {\n",
       "      console.log(\"Bokeh: BokehJS loaded, going straight to plotting\");\n",
       "      run_inline_js();\n",
       "    } else {\n",
       "      load_libs(js_urls, function() {\n",
       "        console.log(\"Bokeh: BokehJS plotting callback run at\", now());\n",
       "        run_inline_js();\n",
       "      });\n",
       "    }\n",
       "  }(this));\n",
       "</script>"
      ]
     },
     "metadata": {},
     "output_type": "display_data"
    },
    {
     "data": {
      "text/plain": [
       "<bokeh.plotting.figure.Figure at 0x18a96dad400>"
      ]
     },
     "execution_count": 15,
     "metadata": {},
     "output_type": "execute_result"
    }
   ],
   "source": [
    "#Measurements with 10% relative uncertainties:\n",
    "relative_factor = 0.1 \n",
    "\n",
    "#Measured values\n",
    "q1m=1e-6\n",
    "q2m=2e-5\n",
    "rm=0.1\n",
    "\n",
    "#Convert to Measurement objects\n",
    "q1 = q.Measurement(q1m,relative_factor*q1m)\n",
    "q2 = q.Measurement(q2m,relative_factor*q2m)\n",
    "r = q.Measurement(rm,relative_factor*rm)\n",
    "#Coulomb's constant:\n",
    "k = 9e9 \n",
    "\n",
    "#Define the Force:\n",
    "F = k*q1*q2/r**2\n",
    "\n",
    "#Print out the different errors\n",
    "q.set_error_method(\"derivative\")\n",
    "print(\"Derivative method, F = \",F)\n",
    "q.set_error_method(\"minmax\")\n",
    "print(\"Min-Max method, F =\", F)\n",
    "q.set_error_method(\"mc\")\n",
    "print(\"Monte Carlo method, F =\",F)\n",
    "\n",
    "q.plot_engine=\"bokeh\"\n",
    "F.show_MC_histogram()"
   ]
  },
  {
   "cell_type": "markdown",
   "metadata": {},
   "source": [
    "## Printing style and formatting\n",
    "QExPy can print results in different styles, and the user can assign names and units to variables (although one should not rely on units being correctly propagated). If one assigns and name and units to a variable, the print() function will automatically include those when printing out the variable.\n",
    "\n",
    "One can also set the \"print style\" to be either \"Default\", \"Scientific\" or \"Latex\". In the scientific and default styles, QExPy will factor out the powers of 10 to make the central value and uncertainty easier to compare. "
   ]
  },
  {
   "cell_type": "code",
   "execution_count": 16,
   "metadata": {
    "collapsed": false
   },
   "outputs": [
    {
     "name": "stdout",
     "output_type": "stream",
     "text": [
      "distance = (10000 +/- 1220)*10^(-3) [m]\n",
      "distance = (10000 \\pm 1220)*10^{-3}\\,m\n",
      "distance = 10.000 +/- 1.220 [m]\n"
     ]
    }
   ],
   "source": [
    "x = q.Measurement(10,1.22,name=\"distance\", units=\"m\")\n",
    "q.set_print_style(\"Scientific\")\n",
    "print(x)\n",
    "q.set_print_style(\"Latex\")\n",
    "print(x)\n",
    "q.set_print_style(\"Default\")\n",
    "print(x)"
   ]
  },
  {
   "cell_type": "markdown",
   "metadata": {
    "collapsed": false
   },
   "source": [
    "## Exact derivatives\n",
    "Since QExPy needs to be able to evaluate derivatives (by using the automatic differentiation algorithm that exploits the Chain Rule), we can use QExPy to evaluate numerical derivatives exactly. That is, given a function, $f(x,y)$, QExPy can evaluate $\\frac{\\partial f(x,y)}{\\partial x}$ at a given value of $x$ and $y$.\n",
    "\n",
    "For example, if we have:\n",
    "$$x(t) = \\frac{1}{2}gt^2 $$\n",
    "\n",
    "and we have measured $t=8 \\pm 1$, we can evaluate the exact value of the derivative:\n",
    "\n",
    "$$\\frac{\\partial x(t)}{\\partial t} = \\frac{d x(t)}{d t}  = gt$$\n",
    "\n",
    "at $t=8 \\pm 1$\n"
   ]
  },
  {
   "cell_type": "code",
   "execution_count": 17,
   "metadata": {
    "collapsed": false
   },
   "outputs": [
    {
     "name": "stdout",
     "output_type": "stream",
     "text": [
      "78.48\n"
     ]
    }
   ],
   "source": [
    "t = q.Measurement(8,1)\n",
    "x = 0.5 * 9.81 * t**2\n",
    "print(x.get_derivative(t))"
   ]
  },
  {
   "cell_type": "code",
   "execution_count": null,
   "metadata": {
    "collapsed": false
   },
   "outputs": [],
   "source": []
  }
 ],
 "metadata": {
  "anaconda-cloud": {},
  "kernelspec": {
   "display_name": "Python 3",
   "language": "python",
   "name": "python3"
  },
  "language_info": {
   "codemirror_mode": {
    "name": "ipython",
    "version": 3
   },
   "file_extension": ".py",
   "mimetype": "text/x-python",
   "name": "python",
   "nbconvert_exporter": "python",
   "pygments_lexer": "ipython3",
   "version": "3.5.2"
  }
 },
 "nbformat": 4,
 "nbformat_minor": 0
}
