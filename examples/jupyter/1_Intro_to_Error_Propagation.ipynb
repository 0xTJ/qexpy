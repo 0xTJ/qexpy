{
 "cells": [
  {
   "cell_type": "markdown",
   "metadata": {},
   "source": [
    "# Error Propagation with QExPy\n",
    "\n",
    "The first step is to import the error module for error propagation. We'll import it as \"q\":"
   ]
  },
  {
   "cell_type": "code",
   "execution_count": 1,
   "metadata": {
    "collapsed": false
   },
   "outputs": [
    {
     "data": {
      "text/html": [
       "\n",
       "    <div class=\"bk-root\">\n",
       "        <a href=\"http://bokeh.pydata.org\" target=\"_blank\" class=\"bk-logo bk-logo-small bk-logo-notebook\"></a>\n",
       "        <span id=\"a63722f2-19f7-4d5c-b04f-e497f857f103\">Loading BokehJS ...</span>\n",
       "    </div>"
      ]
     },
     "metadata": {},
     "output_type": "display_data"
    },
    {
     "data": {
      "application/javascript": [
       "\n",
       "(function(global) {\n",
       "  function now() {\n",
       "    return new Date();\n",
       "  }\n",
       "\n",
       "  var force = \"1\";\n",
       "\n",
       "  if (typeof (window._bokeh_onload_callbacks) === \"undefined\" || force !== \"\") {\n",
       "    window._bokeh_onload_callbacks = [];\n",
       "    window._bokeh_is_loading = undefined;\n",
       "  }\n",
       "\n",
       "\n",
       "  \n",
       "  if (typeof (window._bokeh_timeout) === \"undefined\" || force !== \"\") {\n",
       "    window._bokeh_timeout = Date.now() + 5000;\n",
       "    window._bokeh_failed_load = false;\n",
       "  }\n",
       "\n",
       "  var NB_LOAD_WARNING = {'data': {'text/html':\n",
       "     \"<div style='background-color: #fdd'>\\n\"+\n",
       "     \"<p>\\n\"+\n",
       "     \"BokehJS does not appear to have successfully loaded. If loading BokehJS from CDN, this \\n\"+\n",
       "     \"may be due to a slow or bad network connection. Possible fixes:\\n\"+\n",
       "     \"</p>\\n\"+\n",
       "     \"<ul>\\n\"+\n",
       "     \"<li>re-rerun `output_notebook()` to attempt to load from CDN again, or</li>\\n\"+\n",
       "     \"<li>use INLINE resources instead, as so:</li>\\n\"+\n",
       "     \"</ul>\\n\"+\n",
       "     \"<code>\\n\"+\n",
       "     \"from bokeh.resources import INLINE\\n\"+\n",
       "     \"output_notebook(resources=INLINE)\\n\"+\n",
       "     \"</code>\\n\"+\n",
       "     \"</div>\"}};\n",
       "\n",
       "  function display_loaded() {\n",
       "    if (window.Bokeh !== undefined) {\n",
       "      Bokeh.$(\"#a63722f2-19f7-4d5c-b04f-e497f857f103\").text(\"BokehJS successfully loaded.\");\n",
       "    } else if (Date.now() < window._bokeh_timeout) {\n",
       "      setTimeout(display_loaded, 100)\n",
       "    }\n",
       "  }\n",
       "\n",
       "  function run_callbacks() {\n",
       "    window._bokeh_onload_callbacks.forEach(function(callback) { callback() });\n",
       "    delete window._bokeh_onload_callbacks\n",
       "    console.info(\"Bokeh: all callbacks have finished\");\n",
       "  }\n",
       "\n",
       "  function load_libs(js_urls, callback) {\n",
       "    window._bokeh_onload_callbacks.push(callback);\n",
       "    if (window._bokeh_is_loading > 0) {\n",
       "      console.log(\"Bokeh: BokehJS is being loaded, scheduling callback at\", now());\n",
       "      return null;\n",
       "    }\n",
       "    if (js_urls == null || js_urls.length === 0) {\n",
       "      run_callbacks();\n",
       "      return null;\n",
       "    }\n",
       "    console.log(\"Bokeh: BokehJS not loaded, scheduling load and callback at\", now());\n",
       "    window._bokeh_is_loading = js_urls.length;\n",
       "    for (var i = 0; i < js_urls.length; i++) {\n",
       "      var url = js_urls[i];\n",
       "      var s = document.createElement('script');\n",
       "      s.src = url;\n",
       "      s.async = false;\n",
       "      s.onreadystatechange = s.onload = function() {\n",
       "        window._bokeh_is_loading--;\n",
       "        if (window._bokeh_is_loading === 0) {\n",
       "          console.log(\"Bokeh: all BokehJS libraries loaded\");\n",
       "          run_callbacks()\n",
       "        }\n",
       "      };\n",
       "      s.onerror = function() {\n",
       "        console.warn(\"failed to load library \" + url);\n",
       "      };\n",
       "      console.log(\"Bokeh: injecting script tag for BokehJS library: \", url);\n",
       "      document.getElementsByTagName(\"head\")[0].appendChild(s);\n",
       "    }\n",
       "  };var element = document.getElementById(\"a63722f2-19f7-4d5c-b04f-e497f857f103\");\n",
       "  if (element == null) {\n",
       "    console.log(\"Bokeh: ERROR: autoload.js configured with elementid 'a63722f2-19f7-4d5c-b04f-e497f857f103' but no matching script tag was found. \")\n",
       "    return false;\n",
       "  }\n",
       "\n",
       "  var js_urls = ['https://cdn.pydata.org/bokeh/release/bokeh-0.12.2.min.js', 'https://cdn.pydata.org/bokeh/release/bokeh-widgets-0.12.2.min.js', 'https://cdn.pydata.org/bokeh/release/bokeh-compiler-0.12.2.min.js'];\n",
       "\n",
       "  var inline_js = [\n",
       "    function(Bokeh) {\n",
       "      Bokeh.set_log_level(\"info\");\n",
       "    },\n",
       "    \n",
       "    function(Bokeh) {\n",
       "      \n",
       "      Bokeh.$(\"#a63722f2-19f7-4d5c-b04f-e497f857f103\").text(\"BokehJS is loading...\");\n",
       "    },\n",
       "    function(Bokeh) {\n",
       "      console.log(\"Bokeh: injecting CSS: https://cdn.pydata.org/bokeh/release/bokeh-0.12.2.min.css\");\n",
       "      Bokeh.embed.inject_css(\"https://cdn.pydata.org/bokeh/release/bokeh-0.12.2.min.css\");\n",
       "      console.log(\"Bokeh: injecting CSS: https://cdn.pydata.org/bokeh/release/bokeh-widgets-0.12.2.min.css\");\n",
       "      Bokeh.embed.inject_css(\"https://cdn.pydata.org/bokeh/release/bokeh-widgets-0.12.2.min.css\");\n",
       "    }\n",
       "  ];\n",
       "\n",
       "  function run_inline_js() {\n",
       "    \n",
       "    if ((window.Bokeh !== undefined) || (force === \"1\")) {\n",
       "      for (var i = 0; i < inline_js.length; i++) {\n",
       "        inline_js[i](window.Bokeh);\n",
       "      }if (force === \"1\") {\n",
       "        display_loaded();\n",
       "      }} else if (Date.now() < window._bokeh_timeout) {\n",
       "      setTimeout(run_inline_js, 100);\n",
       "    } else if (!window._bokeh_failed_load) {\n",
       "      console.log(\"Bokeh: BokehJS failed to load within specified timeout.\");\n",
       "      window._bokeh_failed_load = true;\n",
       "    } else if (!force) {\n",
       "      var cell = $(\"#a63722f2-19f7-4d5c-b04f-e497f857f103\").parents('.cell').data().cell;\n",
       "      cell.output_area.append_execute_result(NB_LOAD_WARNING)\n",
       "    }\n",
       "\n",
       "  }\n",
       "\n",
       "  if (window._bokeh_is_loading === 0) {\n",
       "    console.log(\"Bokeh: BokehJS loaded, going straight to plotting\");\n",
       "    run_inline_js();\n",
       "  } else {\n",
       "    load_libs(js_urls, function() {\n",
       "      console.log(\"Bokeh: BokehJS plotting callback run at\", now());\n",
       "      run_inline_js();\n",
       "    });\n",
       "  }\n",
       "}(this));"
      ]
     },
     "metadata": {},
     "output_type": "display_data"
    }
   ],
   "source": [
    "import qexpy as q\n"
   ]
  },
  {
   "cell_type": "markdown",
   "metadata": {},
   "source": [
    "Next, we'll declare two measured values, x and y, with uncertainties, and print them out. We use the Measurement object from qexpy:"
   ]
  },
  {
   "cell_type": "code",
   "execution_count": 2,
   "metadata": {
    "collapsed": false,
    "scrolled": true
   },
   "outputs": [
    {
     "name": "stdout",
     "output_type": "stream",
     "text": [
      "x = 10 +/- 1\n",
      "y = 5 +/- 3\n"
     ]
    }
   ],
   "source": [
    "#Our two measured values:\n",
    "x = q.Measurement(10,1)\n",
    "y = q.Measurement(5,3)\n",
    "\n",
    "#We can print them out:\n",
    "print(\"x =\",x)\n",
    "print(\"y =\",y)\n",
    "#x.set_correlation(y,0.3)"
   ]
  },
  {
   "cell_type": "markdown",
   "metadata": {},
   "source": [
    "We can declare a third object, z, which depends on x and y. The uncertainty in x and y will be correctly propagated to z, so once we have defined z, we can simply print it out with the correct uncertainty:"
   ]
  },
  {
   "cell_type": "code",
   "execution_count": 3,
   "metadata": {
    "collapsed": false
   },
   "outputs": [
    {
     "name": "stdout",
     "output_type": "stream",
     "text": [
      "z = 15 +/- 3\n"
     ]
    }
   ],
   "source": [
    "#We define z\n",
    "z = x+y\n",
    "#z can now be printed out\n",
    "print(\"z =\",z)"
   ]
  },
  {
   "cell_type": "markdown",
   "metadata": {},
   "source": [
    "Note how the uncertainties have been kept to 1 significant figure. In this case, the error in z was obtained by adding the errors in x and y in quadrature. We can change the number of significant figures to confirm that the errors were indeed added in quadrature. We can choose between setting  the number of significant figures based on the uncertainty (more common) or based on the central value."
   ]
  },
  {
   "cell_type": "code",
   "execution_count": 4,
   "metadata": {
    "collapsed": false
   },
   "outputs": [
    {
     "name": "stdout",
     "output_type": "stream",
     "text": [
      "z = 15.000 +/- 3.162\n"
     ]
    }
   ],
   "source": [
    "q.set_sigfigs_error(4) # set sigfigs based on the error\n",
    "print(\"z =\",z)"
   ]
  },
  {
   "cell_type": "markdown",
   "metadata": {},
   "source": [
    "Let's compare the error in z to what the errors in x and y are when added manually in quadrature. We need to import the sqrt() function from the math package to apply mathematical functions to numbers:"
   ]
  },
  {
   "cell_type": "code",
   "execution_count": 5,
   "metadata": {
    "collapsed": false
   },
   "outputs": [
    {
     "name": "stdout",
     "output_type": "stream",
     "text": [
      "3.1622776601683795\n"
     ]
    }
   ],
   "source": [
    "import math as m\n",
    "quadrature = m.sqrt(x.std**2+y.std**2)\n",
    "print(quadrature)"
   ]
  },
  {
   "cell_type": "markdown",
   "metadata": {},
   "source": [
    "## Math functions\n",
    "We can propagate the uncertainties through any operator (+,-,\\*,/) automatically as we showed above. QExPy also knows how to propagate the uncertainty through common mathematical functions. To use mathematical functions on Measurement objects, we need to call the functions from the QExPy package (as opposed to the math package as we did above for 2 numbers)."
   ]
  },
  {
   "cell_type": "code",
   "execution_count": 6,
   "metadata": {
    "collapsed": false
   },
   "outputs": [
    {
     "name": "stdout",
     "output_type": "stream",
     "text": [
      "time =  1.277102 +/- 0.007982 seconds\n"
     ]
    }
   ],
   "source": [
    "#If an object fell a distance of 8.0 +/0.1 m, how long did it take to fall?\n",
    "y = q.Measurement(8,0.1)\n",
    "g = 9.81\n",
    "t = q.sqrt(2*y/g)\n",
    "print(\"time = \",t, \"seconds\")"
   ]
  },
  {
   "cell_type": "markdown",
   "metadata": {},
   "source": [
    "## Error in correlated quantities\n",
    "If we have two measurements, x and y, that are correlated, then their correlation factor will impact the uncertainty on a quantity that depends on them:"
   ]
  },
  {
   "cell_type": "code",
   "execution_count": 7,
   "metadata": {
    "collapsed": false
   },
   "outputs": [
    {
     "name": "stdout",
     "output_type": "stream",
     "text": [
      "x and y uncorrelated: z= 15.000 +/- 3.162\n",
      "x and y positively correlated: z= 15.000 +/- 3.606\n",
      "x and y negatively correlated: z= 15.000 +/- 2.646\n"
     ]
    }
   ],
   "source": [
    "x = q.Measurement(10,1)\n",
    "y = q.Measurement(5,3)\n",
    "z = x+y\n",
    "print(\"x and y uncorrelated: z=\",z)\n",
    "\n",
    "#Now set a correlation factor between x and y:\n",
    "x.set_correlation(y,0.5)\n",
    "z = x+y\n",
    "print(\"x and y positively correlated: z=\",z)\n",
    "\n",
    "#We can also use the covariance factor instead of the correlation factor:\n",
    "x.set_covariance(y,-1.5)\n",
    "z = x+y\n",
    "print(\"x and y negatively correlated: z=\",z)"
   ]
  },
  {
   "cell_type": "markdown",
   "metadata": {},
   "source": [
    "If we don't specify any correlation factors, then all quantities are assumed to be independent. However, a quantity should not be independent from itself, so QExPy knows how to track the correlation in quantities that depend on common quantities. "
   ]
  },
  {
   "cell_type": "code",
   "execution_count": 8,
   "metadata": {
    "collapsed": false
   },
   "outputs": [
    {
     "name": "stdout",
     "output_type": "stream",
     "text": [
      "0.000 +/- 0.000\n"
     ]
    }
   ],
   "source": [
    "x = q.Measurement(10,1)\n",
    "y = x*x\n",
    "z = x*x - y #this should be 0 +/- 0, since it's really x^2 - x^2 \n",
    "print(z)"
   ]
  },
  {
   "cell_type": "markdown",
   "metadata": {
    "collapsed": true
   },
   "source": [
    "## Statistical measurements\n",
    "QExPy can also handle the case when you have repeated measurements of a single quantity and you want to average them together. Suppose that you have measured 5 values of some quantity T. QExPy will automatically assume that those values should be averaged together so that T is given by the mean of the measured values with an uncertainty given by the standard deviation of the values.\n"
   ]
  },
  {
   "cell_type": "code",
   "execution_count": 9,
   "metadata": {
    "collapsed": false
   },
   "outputs": [
    {
     "name": "stdout",
     "output_type": "stream",
     "text": [
      "5.3000 +/- 0.5431\n"
     ]
    }
   ],
   "source": [
    "T=q.Measurement( [5.6, 4.8, 6.1, 4.9, 5.1 ] )\n",
    "print(T)"
   ]
  },
  {
   "cell_type": "markdown",
   "metadata": {},
   "source": [
    "T can be used just as any other measurement with uncertainties, and its error will be propagate correctly:"
   ]
  },
  {
   "cell_type": "code",
   "execution_count": 10,
   "metadata": {
    "collapsed": false
   },
   "outputs": [
    {
     "name": "stdout",
     "output_type": "stream",
     "text": [
      "1.1849 +/- 0.1214\n"
     ]
    }
   ],
   "source": [
    "omega = 2*3.14/T\n",
    "print(omega)"
   ]
  },
  {
   "cell_type": "markdown",
   "metadata": {},
   "source": [
    "If we have measured many values, it can sometimes be useful to visualize those measurements in a histogram. QExPy will automatically create a histogram of the values, showing lines corresponding to the mean and the range covered by one standard deviation"
   ]
  },
  {
   "cell_type": "code",
   "execution_count": 11,
   "metadata": {
    "collapsed": false
   },
   "outputs": [
    {
     "data": {
      "text/html": [
       "\n",
       "\n",
       "    <div class=\"bk-root\">\n",
       "        <div class=\"plotdiv\" id=\"87aecdd5-ce6d-4ffe-83f9-cec456cfbf51\"></div>\n",
       "    </div>\n",
       "<script type=\"text/javascript\">\n",
       "  \n",
       "  (function(global) {\n",
       "    function now() {\n",
       "      return new Date();\n",
       "    }\n",
       "  \n",
       "    var force = \"\";\n",
       "  \n",
       "    if (typeof (window._bokeh_onload_callbacks) === \"undefined\" || force !== \"\") {\n",
       "      window._bokeh_onload_callbacks = [];\n",
       "      window._bokeh_is_loading = undefined;\n",
       "    }\n",
       "  \n",
       "  \n",
       "    \n",
       "    if (typeof (window._bokeh_timeout) === \"undefined\" || force !== \"\") {\n",
       "      window._bokeh_timeout = Date.now() + 0;\n",
       "      window._bokeh_failed_load = false;\n",
       "    }\n",
       "  \n",
       "    var NB_LOAD_WARNING = {'data': {'text/html':\n",
       "       \"<div style='background-color: #fdd'>\\n\"+\n",
       "       \"<p>\\n\"+\n",
       "       \"BokehJS does not appear to have successfully loaded. If loading BokehJS from CDN, this \\n\"+\n",
       "       \"may be due to a slow or bad network connection. Possible fixes:\\n\"+\n",
       "       \"</p>\\n\"+\n",
       "       \"<ul>\\n\"+\n",
       "       \"<li>re-rerun `output_notebook()` to attempt to load from CDN again, or</li>\\n\"+\n",
       "       \"<li>use INLINE resources instead, as so:</li>\\n\"+\n",
       "       \"</ul>\\n\"+\n",
       "       \"<code>\\n\"+\n",
       "       \"from bokeh.resources import INLINE\\n\"+\n",
       "       \"output_notebook(resources=INLINE)\\n\"+\n",
       "       \"</code>\\n\"+\n",
       "       \"</div>\"}};\n",
       "  \n",
       "    function display_loaded() {\n",
       "      if (window.Bokeh !== undefined) {\n",
       "        Bokeh.$(\"#87aecdd5-ce6d-4ffe-83f9-cec456cfbf51\").text(\"BokehJS successfully loaded.\");\n",
       "      } else if (Date.now() < window._bokeh_timeout) {\n",
       "        setTimeout(display_loaded, 100)\n",
       "      }\n",
       "    }\n",
       "  \n",
       "    function run_callbacks() {\n",
       "      window._bokeh_onload_callbacks.forEach(function(callback) { callback() });\n",
       "      delete window._bokeh_onload_callbacks\n",
       "      console.info(\"Bokeh: all callbacks have finished\");\n",
       "    }\n",
       "  \n",
       "    function load_libs(js_urls, callback) {\n",
       "      window._bokeh_onload_callbacks.push(callback);\n",
       "      if (window._bokeh_is_loading > 0) {\n",
       "        console.log(\"Bokeh: BokehJS is being loaded, scheduling callback at\", now());\n",
       "        return null;\n",
       "      }\n",
       "      if (js_urls == null || js_urls.length === 0) {\n",
       "        run_callbacks();\n",
       "        return null;\n",
       "      }\n",
       "      console.log(\"Bokeh: BokehJS not loaded, scheduling load and callback at\", now());\n",
       "      window._bokeh_is_loading = js_urls.length;\n",
       "      for (var i = 0; i < js_urls.length; i++) {\n",
       "        var url = js_urls[i];\n",
       "        var s = document.createElement('script');\n",
       "        s.src = url;\n",
       "        s.async = false;\n",
       "        s.onreadystatechange = s.onload = function() {\n",
       "          window._bokeh_is_loading--;\n",
       "          if (window._bokeh_is_loading === 0) {\n",
       "            console.log(\"Bokeh: all BokehJS libraries loaded\");\n",
       "            run_callbacks()\n",
       "          }\n",
       "        };\n",
       "        s.onerror = function() {\n",
       "          console.warn(\"failed to load library \" + url);\n",
       "        };\n",
       "        console.log(\"Bokeh: injecting script tag for BokehJS library: \", url);\n",
       "        document.getElementsByTagName(\"head\")[0].appendChild(s);\n",
       "      }\n",
       "    };var element = document.getElementById(\"87aecdd5-ce6d-4ffe-83f9-cec456cfbf51\");\n",
       "    if (element == null) {\n",
       "      console.log(\"Bokeh: ERROR: autoload.js configured with elementid '87aecdd5-ce6d-4ffe-83f9-cec456cfbf51' but no matching script tag was found. \")\n",
       "      return false;\n",
       "    }\n",
       "  \n",
       "    var js_urls = [];\n",
       "  \n",
       "    var inline_js = [\n",
       "      function(Bokeh) {\n",
       "        Bokeh.$(function() {\n",
       "            var docs_json = {\"dd052313-2047-411d-a1b2-be84680eb7a1\":{\"roots\":{\"references\":[{\"attributes\":{\"data_source\":{\"id\":\"573767df-468f-4f31-8278-a6372c1b2082\",\"type\":\"ColumnDataSource\"},\"glyph\":{\"id\":\"dfbd0828-ee81-4ed8-8610-99d515544a6a\",\"type\":\"Line\"},\"hover_glyph\":null,\"nonselection_glyph\":{\"id\":\"f9842c31-f215-4401-b00d-2422fdcdf25b\",\"type\":\"Line\"},\"selection_glyph\":null},\"id\":\"f7bcf715-e356-46b8-a115-e9e4d800cefc\",\"type\":\"GlyphRenderer\"},{\"attributes\":{\"formatter\":{\"id\":\"964f6c21-881e-4045-9ce2-45d6d9c7e018\",\"type\":\"BasicTickFormatter\"},\"plot\":{\"id\":\"ed1bc65f-bec5-4abc-9f33-c566c19bac33\",\"subtype\":\"Figure\",\"type\":\"Plot\"},\"ticker\":{\"id\":\"a01e78fb-847c-4648-9447-2dfd6bf1f336\",\"type\":\"BasicTicker\"}},\"id\":\"6bcf8992-537d-41b0-a394-2dad30290c30\",\"type\":\"LinearAxis\"},{\"attributes\":{\"active_drag\":\"auto\",\"active_scroll\":\"auto\",\"active_tap\":\"auto\",\"tools\":[{\"id\":\"cad2dbd8-d7ac-4f14-8f4f-c282f57d58b5\",\"type\":\"SaveTool\"},{\"id\":\"fe917b0e-d4ca-472f-828f-877084744c73\",\"type\":\"PanTool\"},{\"id\":\"a6fa25e9-6a7e-487e-9b57-14eb5d325d6b\",\"type\":\"BoxZoomTool\"},{\"id\":\"a3b0468f-7cee-4c91-aafc-1cd4c82bd6b0\",\"type\":\"WheelZoomTool\"},{\"id\":\"77768f32-acda-40e9-8c18-beaae7e9283b\",\"type\":\"ResetTool\"}]},\"id\":\"243a8a47-372f-454d-a32b-dcdcd2d66042\",\"type\":\"Toolbar\"},{\"attributes\":{\"line_alpha\":{\"value\":0.1},\"line_color\":{\"value\":\"#1f77b4\"},\"line_dash\":[6],\"x\":{\"field\":\"x\"},\"y\":{\"field\":\"y\"}},\"id\":\"f9842c31-f215-4401-b00d-2422fdcdf25b\",\"type\":\"Line\"},{\"attributes\":{\"line_color\":{\"value\":\"red\"},\"x\":{\"field\":\"x\"},\"y\":{\"field\":\"y\"}},\"id\":\"165b1dcc-0b82-48a8-8ba7-d36235dbcec7\",\"type\":\"Line\"},{\"attributes\":{\"plot\":{\"id\":\"ed1bc65f-bec5-4abc-9f33-c566c19bac33\",\"subtype\":\"Figure\",\"type\":\"Plot\"}},\"id\":\"77768f32-acda-40e9-8c18-beaae7e9283b\",\"type\":\"ResetTool\"},{\"attributes\":{\"line_alpha\":{\"value\":0.1},\"line_color\":{\"value\":\"#1f77b4\"},\"line_dash\":[6],\"x\":{\"field\":\"x\"},\"y\":{\"field\":\"y\"}},\"id\":\"fcd4a30e-1f5c-466b-8f19-eb16dc7fb50e\",\"type\":\"Line\"},{\"attributes\":{},\"id\":\"47995ec9-0747-4593-9449-b67a3f2d0e55\",\"type\":\"ToolEvents\"},{\"attributes\":{\"bottom\":{\"value\":0},\"fill_color\":{\"value\":\"#036564\"},\"left\":{\"field\":\"left\"},\"line_color\":{\"value\":\"#033649\"},\"right\":{\"field\":\"right\"},\"top\":{\"field\":\"top\"}},\"id\":\"fa2046e1-b9c8-4c50-86a0-aea6c4d657ff\",\"type\":\"Quad\"},{\"attributes\":{\"data_source\":{\"id\":\"ead316ce-7b7c-4f87-94e0-1872f2ef4584\",\"type\":\"ColumnDataSource\"},\"glyph\":{\"id\":\"fa2046e1-b9c8-4c50-86a0-aea6c4d657ff\",\"type\":\"Quad\"},\"hover_glyph\":null,\"nonselection_glyph\":{\"id\":\"e6151c89-02e3-49ef-88c2-c6eeca2e8d7f\",\"type\":\"Quad\"},\"selection_glyph\":null},\"id\":\"fe2e7be1-ccbe-4dd0-a5a0-122a52fc4672\",\"type\":\"GlyphRenderer\"},{\"attributes\":{\"dimension\":1,\"plot\":{\"id\":\"ed1bc65f-bec5-4abc-9f33-c566c19bac33\",\"subtype\":\"Figure\",\"type\":\"Plot\"},\"ticker\":{\"id\":\"8d626f56-1480-46b5-968a-a795ac37b646\",\"type\":\"BasicTicker\"}},\"id\":\"6ed2125e-58ac-4377-a322-5a5b0baefd7b\",\"type\":\"Grid\"},{\"attributes\":{\"callback\":null,\"column_names\":[\"x\",\"y\"],\"data\":{\"x\":[5.843139024560011,5.843139024560011],\"y\":[0,1]}},\"id\":\"6a673d53-4ba3-4a42-b7a9-7271a25ee0a5\",\"type\":\"ColumnDataSource\"},{\"attributes\":{},\"id\":\"a01e78fb-847c-4648-9447-2dfd6bf1f336\",\"type\":\"BasicTicker\"},{\"attributes\":{\"callback\":null},\"id\":\"68e6a6cb-da1a-4628-94de-a74051e8d3fd\",\"type\":\"DataRange1d\"},{\"attributes\":{\"data_source\":{\"id\":\"59667887-a83f-4110-9951-5c4b45043e61\",\"type\":\"ColumnDataSource\"},\"glyph\":{\"id\":\"165b1dcc-0b82-48a8-8ba7-d36235dbcec7\",\"type\":\"Line\"},\"hover_glyph\":null,\"nonselection_glyph\":{\"id\":\"ead4b3db-3a6b-4948-8c45-784d8a0a380d\",\"type\":\"Line\"},\"selection_glyph\":null},\"id\":\"18cb09aa-b2d8-4de6-a30a-ae151bc35a60\",\"type\":\"GlyphRenderer\"},{\"attributes\":{\"background_fill_color\":{\"value\":\"#FFFFFF\"},\"below\":[{\"id\":\"6bcf8992-537d-41b0-a394-2dad30290c30\",\"type\":\"LinearAxis\"}],\"left\":[{\"id\":\"892f5648-799b-4c89-9411-112da4219d8d\",\"type\":\"LinearAxis\"}],\"renderers\":[{\"id\":\"6bcf8992-537d-41b0-a394-2dad30290c30\",\"type\":\"LinearAxis\"},{\"id\":\"6abeb83f-0367-4f30-a6bf-236e331eccac\",\"type\":\"Grid\"},{\"id\":\"892f5648-799b-4c89-9411-112da4219d8d\",\"type\":\"LinearAxis\"},{\"id\":\"6ed2125e-58ac-4377-a322-5a5b0baefd7b\",\"type\":\"Grid\"},{\"id\":\"95fd1029-bf50-4bdf-a7f8-7b16a88c984e\",\"type\":\"BoxAnnotation\"},{\"id\":\"fe2e7be1-ccbe-4dd0-a5a0-122a52fc4672\",\"type\":\"GlyphRenderer\"},{\"id\":\"18cb09aa-b2d8-4de6-a30a-ae151bc35a60\",\"type\":\"GlyphRenderer\"},{\"id\":\"f7bcf715-e356-46b8-a115-e9e4d800cefc\",\"type\":\"GlyphRenderer\"},{\"id\":\"6dc70c0f-be27-4137-8e8d-9b821686e06d\",\"type\":\"GlyphRenderer\"}],\"title\":{\"id\":\"231429de-f30e-4e32-82c4-624e51e6017a\",\"type\":\"Title\"},\"tool_events\":{\"id\":\"47995ec9-0747-4593-9449-b67a3f2d0e55\",\"type\":\"ToolEvents\"},\"toolbar\":{\"id\":\"243a8a47-372f-454d-a32b-dcdcd2d66042\",\"type\":\"Toolbar\"},\"x_range\":{\"id\":\"e169ad1c-2a81-44ba-a51d-396e80f2162a\",\"type\":\"DataRange1d\"},\"y_range\":{\"id\":\"68e6a6cb-da1a-4628-94de-a74051e8d3fd\",\"type\":\"DataRange1d\"}},\"id\":\"ed1bc65f-bec5-4abc-9f33-c566c19bac33\",\"subtype\":\"Figure\",\"type\":\"Plot\"},{\"attributes\":{},\"id\":\"964f6c21-881e-4045-9ce2-45d6d9c7e018\",\"type\":\"BasicTickFormatter\"},{\"attributes\":{\"line_color\":{\"value\":\"red\"},\"line_dash\":[6],\"x\":{\"field\":\"x\"},\"y\":{\"field\":\"y\"}},\"id\":\"37859e49-a2f6-4027-b9e4-9e5dfb412d3e\",\"type\":\"Line\"},{\"attributes\":{\"bottom\":{\"value\":0},\"fill_alpha\":{\"value\":0.1},\"fill_color\":{\"value\":\"#1f77b4\"},\"left\":{\"field\":\"left\"},\"line_alpha\":{\"value\":0.1},\"line_color\":{\"value\":\"#1f77b4\"},\"right\":{\"field\":\"right\"},\"top\":{\"field\":\"top\"}},\"id\":\"e6151c89-02e3-49ef-88c2-c6eeca2e8d7f\",\"type\":\"Quad\"},{\"attributes\":{},\"id\":\"2d7b50c9-8cf2-4d97-9cb5-6ccd2a1fd2cd\",\"type\":\"BasicTickFormatter\"},{\"attributes\":{\"formatter\":{\"id\":\"2d7b50c9-8cf2-4d97-9cb5-6ccd2a1fd2cd\",\"type\":\"BasicTickFormatter\"},\"plot\":{\"id\":\"ed1bc65f-bec5-4abc-9f33-c566c19bac33\",\"subtype\":\"Figure\",\"type\":\"Plot\"},\"ticker\":{\"id\":\"8d626f56-1480-46b5-968a-a795ac37b646\",\"type\":\"BasicTicker\"}},\"id\":\"892f5648-799b-4c89-9411-112da4219d8d\",\"type\":\"LinearAxis\"},{\"attributes\":{\"line_color\":{\"value\":\"red\"},\"line_dash\":[6],\"x\":{\"field\":\"x\"},\"y\":{\"field\":\"y\"}},\"id\":\"dfbd0828-ee81-4ed8-8610-99d515544a6a\",\"type\":\"Line\"},{\"attributes\":{\"callback\":null,\"column_names\":[\"right\",\"left\",\"top\"],\"data\":{\"left\":[4.8,4.826,4.851999999999999,4.878,4.904,4.93,4.9559999999999995,4.982,5.008,5.034,5.06,5.085999999999999,5.112,5.138,5.164,5.1899999999999995,5.215999999999999,5.242,5.268,5.294,5.319999999999999,5.346,5.372,5.398,5.4239999999999995,5.449999999999999,5.476,5.502,5.528,5.553999999999999,5.58,5.606,5.632,5.6579999999999995,5.683999999999999,5.71,5.736,5.762,5.787999999999999,5.814,5.84,5.866,5.8919999999999995,5.917999999999999,5.943999999999999,5.97,5.9959999999999996,6.021999999999999,6.048,6.074],\"right\":[4.826,4.851999999999999,4.878,4.904,4.93,4.9559999999999995,4.982,5.008,5.034,5.06,5.085999999999999,5.112,5.138,5.164,5.1899999999999995,5.215999999999999,5.242,5.268,5.294,5.319999999999999,5.346,5.372,5.398,5.4239999999999995,5.449999999999999,5.476,5.502,5.528,5.553999999999999,5.58,5.606,5.632,5.6579999999999995,5.683999999999999,5.71,5.736,5.762,5.787999999999999,5.814,5.84,5.866,5.8919999999999995,5.917999999999999,5.943999999999999,5.97,5.9959999999999996,6.021999999999999,6.048,6.074,6.1],\"top\":[1,0,0,1,0,0,0,0,0,0,0,1,0,0,0,0,0,0,0,0,0,0,0,0,0,0,0,0,0,0,1,0,0,0,0,0,0,0,0,0,0,0,0,0,0,0,0,0,0,1]}},\"id\":\"ead316ce-7b7c-4f87-94e0-1872f2ef4584\",\"type\":\"ColumnDataSource\"},{\"attributes\":{\"callback\":null},\"id\":\"e169ad1c-2a81-44ba-a51d-396e80f2162a\",\"type\":\"DataRange1d\"},{\"attributes\":{},\"id\":\"8d626f56-1480-46b5-968a-a795ac37b646\",\"type\":\"BasicTicker\"},{\"attributes\":{\"overlay\":{\"id\":\"95fd1029-bf50-4bdf-a7f8-7b16a88c984e\",\"type\":\"BoxAnnotation\"},\"plot\":{\"id\":\"ed1bc65f-bec5-4abc-9f33-c566c19bac33\",\"subtype\":\"Figure\",\"type\":\"Plot\"}},\"id\":\"a6fa25e9-6a7e-487e-9b57-14eb5d325d6b\",\"type\":\"BoxZoomTool\"},{\"attributes\":{\"line_alpha\":{\"value\":0.1},\"line_color\":{\"value\":\"#1f77b4\"},\"x\":{\"field\":\"x\"},\"y\":{\"field\":\"y\"}},\"id\":\"ead4b3db-3a6b-4948-8c45-784d8a0a380d\",\"type\":\"Line\"},{\"attributes\":{\"callback\":null,\"column_names\":[\"x\",\"y\"],\"data\":{\"x\":[4.756860975439989,4.756860975439989],\"y\":[0,1]}},\"id\":\"573767df-468f-4f31-8278-a6372c1b2082\",\"type\":\"ColumnDataSource\"},{\"attributes\":{\"bottom_units\":\"screen\",\"fill_alpha\":{\"value\":0.5},\"fill_color\":{\"value\":\"lightgrey\"},\"left_units\":\"screen\",\"level\":\"overlay\",\"line_alpha\":{\"value\":1.0},\"line_color\":{\"value\":\"black\"},\"line_dash\":[4,4],\"line_width\":{\"value\":2},\"plot\":null,\"render_mode\":\"css\",\"right_units\":\"screen\",\"top_units\":\"screen\"},\"id\":\"95fd1029-bf50-4bdf-a7f8-7b16a88c984e\",\"type\":\"BoxAnnotation\"},{\"attributes\":{\"plot\":{\"id\":\"ed1bc65f-bec5-4abc-9f33-c566c19bac33\",\"subtype\":\"Figure\",\"type\":\"Plot\"}},\"id\":\"fe917b0e-d4ca-472f-828f-877084744c73\",\"type\":\"PanTool\"},{\"attributes\":{\"plot\":{\"id\":\"ed1bc65f-bec5-4abc-9f33-c566c19bac33\",\"subtype\":\"Figure\",\"type\":\"Plot\"}},\"id\":\"cad2dbd8-d7ac-4f14-8f4f-c282f57d58b5\",\"type\":\"SaveTool\"},{\"attributes\":{\"plot\":null,\"text\":\"unnamed_var6 Histogram\"},\"id\":\"231429de-f30e-4e32-82c4-624e51e6017a\",\"type\":\"Title\"},{\"attributes\":{\"data_source\":{\"id\":\"6a673d53-4ba3-4a42-b7a9-7271a25ee0a5\",\"type\":\"ColumnDataSource\"},\"glyph\":{\"id\":\"37859e49-a2f6-4027-b9e4-9e5dfb412d3e\",\"type\":\"Line\"},\"hover_glyph\":null,\"nonselection_glyph\":{\"id\":\"fcd4a30e-1f5c-466b-8f19-eb16dc7fb50e\",\"type\":\"Line\"},\"selection_glyph\":null},\"id\":\"6dc70c0f-be27-4137-8e8d-9b821686e06d\",\"type\":\"GlyphRenderer\"},{\"attributes\":{\"plot\":{\"id\":\"ed1bc65f-bec5-4abc-9f33-c566c19bac33\",\"subtype\":\"Figure\",\"type\":\"Plot\"}},\"id\":\"a3b0468f-7cee-4c91-aafc-1cd4c82bd6b0\",\"type\":\"WheelZoomTool\"},{\"attributes\":{\"plot\":{\"id\":\"ed1bc65f-bec5-4abc-9f33-c566c19bac33\",\"subtype\":\"Figure\",\"type\":\"Plot\"},\"ticker\":{\"id\":\"a01e78fb-847c-4648-9447-2dfd6bf1f336\",\"type\":\"BasicTicker\"}},\"id\":\"6abeb83f-0367-4f30-a6bf-236e331eccac\",\"type\":\"Grid\"},{\"attributes\":{\"callback\":null,\"column_names\":[\"x\",\"y\"],\"data\":{\"x\":[5.3,5.3],\"y\":[0.0,1.1]}},\"id\":\"59667887-a83f-4110-9951-5c4b45043e61\",\"type\":\"ColumnDataSource\"}],\"root_ids\":[\"ed1bc65f-bec5-4abc-9f33-c566c19bac33\"]},\"title\":\"Bokeh Application\",\"version\":\"0.12.2\"}};\n",
       "            var render_items = [{\"docid\":\"dd052313-2047-411d-a1b2-be84680eb7a1\",\"elementid\":\"87aecdd5-ce6d-4ffe-83f9-cec456cfbf51\",\"modelid\":\"ed1bc65f-bec5-4abc-9f33-c566c19bac33\"}];\n",
       "            \n",
       "            Bokeh.embed.embed_items(docs_json, render_items);\n",
       "        });\n",
       "      },\n",
       "      function(Bokeh) {\n",
       "      }\n",
       "    ];\n",
       "  \n",
       "    function run_inline_js() {\n",
       "      \n",
       "      if ((window.Bokeh !== undefined) || (force === \"1\")) {\n",
       "        for (var i = 0; i < inline_js.length; i++) {\n",
       "          inline_js[i](window.Bokeh);\n",
       "        }if (force === \"1\") {\n",
       "          display_loaded();\n",
       "        }} else if (Date.now() < window._bokeh_timeout) {\n",
       "        setTimeout(run_inline_js, 100);\n",
       "      } else if (!window._bokeh_failed_load) {\n",
       "        console.log(\"Bokeh: BokehJS failed to load within specified timeout.\");\n",
       "        window._bokeh_failed_load = true;\n",
       "      } else if (!force) {\n",
       "        var cell = $(\"#87aecdd5-ce6d-4ffe-83f9-cec456cfbf51\").parents('.cell').data().cell;\n",
       "        cell.output_area.append_execute_result(NB_LOAD_WARNING)\n",
       "      }\n",
       "  \n",
       "    }\n",
       "  \n",
       "    if (window._bokeh_is_loading === 0) {\n",
       "      console.log(\"Bokeh: BokehJS loaded, going straight to plotting\");\n",
       "      run_inline_js();\n",
       "    } else {\n",
       "      load_libs(js_urls, function() {\n",
       "        console.log(\"Bokeh: BokehJS plotting callback run at\", now());\n",
       "        run_inline_js();\n",
       "      });\n",
       "    }\n",
       "  }(this));\n",
       "</script>"
      ]
     },
     "metadata": {},
     "output_type": "display_data"
    },
    {
     "data": {
      "text/plain": [
       "<bokeh.plotting.figure.Figure at 0x1b26eaaa358>"
      ]
     },
     "execution_count": 11,
     "metadata": {},
     "output_type": "execute_result"
    }
   ],
   "source": [
    "T.show_histogram()"
   ]
  },
  {
   "cell_type": "markdown",
   "metadata": {},
   "source": [
    "## Multiple measurements (Arrays of Measurements)\n",
    "QExPy can also handle the case of having multiple measurements, when each measurement has its own uncertainty. For example, if you have three measurements of a single quantity, in order to get an average value, you should weight each measurement by its uncertainty (or rather the weight should be 1 over the square of the uncertainty). This is handled by the MeasurementArray class:"
   ]
  },
  {
   "cell_type": "code",
   "execution_count": 12,
   "metadata": {
    "collapsed": false
   },
   "outputs": [
    {
     "name": "stdout",
     "output_type": "stream",
     "text": [
      "g_0 = 9.8000 +/- 0.2000 [m/s^2],\n",
      "g_1 = 14.000 +/- 3.000 [m/s^2],\n",
      "g_2 = 9.9000 +/- 0.1000 [m/s^2]\n",
      "The mean is  11.2333333333\n",
      "The error weighted mean is  9.88366 +/- 0.08940\n"
     ]
    }
   ],
   "source": [
    "gvals = q.MeasurementArray([(9.8,0.2), (14,3) , (9.9,0.1)], name=\"g\", units='m/s^2') \n",
    "print(gvals)\n",
    "print(\"The mean is \",gvals.get_mean())\n",
    "print(\"The error weighted mean is \",gvals.get_error_weighted_mean())"
   ]
  },
  {
   "cell_type": "markdown",
   "metadata": {},
   "source": [
    "The MeasurementArray object truly is an array of Measurement objects, so individual measurements can be retrieved (remember that the first element in an array in python has index 0 not 1, so element 1 is the second element):"
   ]
  },
  {
   "cell_type": "code",
   "execution_count": 13,
   "metadata": {
    "collapsed": false
   },
   "outputs": [
    {
     "name": "stdout",
     "output_type": "stream",
     "text": [
      "g_1 = 14.000 +/- 3.000 [m/s^2]\n"
     ]
    }
   ],
   "source": [
    "print(gvals[1])"
   ]
  },
  {
   "cell_type": "markdown",
   "metadata": {},
   "source": [
    "## Error propagation methods\n",
    "\n",
    "### Derivative method (default)\n",
    "By default, QExPy propagates the uncertainties using the \"derivative\" method. That is, for a function, $f(x,y)$, that depends on measured quantities $x\\pm\\sigma_x$ and $y\\pm\\sigma_y$, with covariance $\\sigma_{xy}$ between the two measured quantities, the uncertainty in $f$ is given by:\n",
    "$$ \\sigma_f = \\sqrt{ \\left(\\frac{\\partial f}{\\partial x} \\sigma_x \\right)^2 + \\left(\\frac{\\partial f}{\\partial y} \\sigma_y \\right)^2 + 2 \\frac{\\partial f}{\\partial x} \\frac{\\partial f}{\\partial y}\\sigma_{xy} }$$\n",
    "\n",
    "QExPy evaluates the derivatives exactly when propagating the uncertainties using an algorithm called \"automatic differentiation\". This is possible as QExPy internally keeps track of the dependency of quantities on each other, and as an added bonus can also be used to evaluate numerical derivatives exactly. Although the derivative method is commonly taught in undergraduate laboratories, it is only valid when the relative uncertainties in the quantities being propagated are small (e.g. less than ~10% relative uncertainty). This method is thus not strongly encouraged, although it has been made the default because it is so prevalent in undergraduate teaching. \n",
    "\n",
    "\n",
    "### Min-Max method (not recommended)\n",
    "This is not the only way to propagate the uncertainty in $f$. For example, the \"Min-Max\" method, is a method to yield a more conservative (larger) estimate of the uncertainty in $f$ and is often used in introductory courses. The Min-Max method defines the central value and uncertainty in $f$ as:\n",
    "$$f=\\frac{1}{2}(f^{max}+f^{min})$$\n",
    "$$\\sigma_f=\\frac{1}{2}(f^{max}-f^{min})$$\n",
    "\n",
    "where $f^{max}$ ($f^{min}$) is the maximum (minimum) value that $f$ takes when $x$ and $y$ are varied within their uncertainty range. For example, if $f(x,y)=x+y$, then the maximum and minimum of $f$ are easily found:\n",
    "\n",
    "$$f^{max} = (x+\\sigma_x)+(y+\\sigma_y)$$\n",
    "$$f^{min} = (x-\\sigma_x)-(y-\\sigma_y)$$\n",
    "\n",
    "The Min-Max method actually requires a numerical approximation to evaluate the values of $f^{max}$ and $f^{min}$ for all but the most simple cases. Hence although it is a good method to introduce the idea of uncertainty propagation, it is not recommended to use this method in any serious calculation (it also does not take correlations into account). \n",
    "\n",
    "### Monte Carlo method (recommended!)\n",
    "Finally, the recommended method to propagate errors is the \"Monte-Carlo\" method, although it is the hardest to understand. The MC method is based on a statiscal understanding of the measurements. In the QExPy implementation, currently, the main assumptions is that the uncertainty in a quantity is given by a \"standard error\"; that is, if $x = 10\\pm 1$, then we *assume* that this error and uncertainty should be interpreted as: \"if we measure $x$ multiple times, we will obtain a set of measurements that are normally distributed with a mean of 10 and a standard deviation of 1\". In other words, we assume that $x$ has a 68% chance of being in the range between 9 and 11.\n",
    "\n",
    "\n",
    "The MC method then uses the assumption that measured quantities are normally distributed and use this to propagate the errors by using Monte Carlo simulation. Suppose that we have measured $x$ and $y$ and wish to determine the central value and uncertainty in $x=x+y$. The Monte Carlo method will generate normally distributed random values for $x$ and $y$ (the random numbers will be correctly correlated if the user has indicated that $x$ and $y$ are correlated), then it will add those random values together, to obtain a set of values for $z$. The mean and standard deviation of the random values for $z$ are taken as the central value and uncertainty in $z$. \n",
    "\n",
    "## What QExPy actually does\n",
    "Although the user appears to choose the method used to propagate the errors, QExPy always uses all three methods behind the scenes and the user only decides which method to print out. This allows QExPy to compare the results behind the scenes, in particular, to inform the users that the uncertainties using a particular method (e.g. derivative) may be inaccurate and to suggest that the user choose a different method. \n",
    "\n",
    "## Example\n",
    "Below, we illustrate an example of using the different methods to propagate the uncertainty in the Coulomb force based on the measurement of two charges, $q_1$ and $q_2$, and the distance between them, $r$. We illustrate how the derivative method does not give the correct answer if the relative uncertainties in the measured quantities are large. \n",
    "\n",
    "### 1 % relative uncertainty calculation\n"
   ]
  },
  {
   "cell_type": "code",
   "execution_count": 14,
   "metadata": {
    "collapsed": false
   },
   "outputs": [
    {
     "name": "stdout",
     "output_type": "stream",
     "text": [
      "Derivative method, F =  18.0000 +/- 0.4409\n",
      "Min-Max method, F = 18.0144 +/- 0.7202\n",
      "Monte Carlo method, F = 18.0012 +/- 0.4435\n"
     ]
    }
   ],
   "source": [
    "#Measurements with 1% relative uncertainties:\n",
    "relative_factor = 0.01 \n",
    "\n",
    "#Measured values\n",
    "q1m=1e-6\n",
    "q2m=2e-5\n",
    "rm=0.1\n",
    "\n",
    "#Convert to Measurement objects\n",
    "q1 = q.Measurement(q1m,relative_factor*q1m)\n",
    "q2 = q.Measurement(q2m,relative_factor*q2m)\n",
    "r = q.Measurement(rm,relative_factor*rm)\n",
    "#Coulomb's constant:\n",
    "k = 9e9 \n",
    "\n",
    "#Define the Force:\n",
    "F = k*q1*q2/r**2\n",
    "\n",
    "#Print out the different errors\n",
    "q.set_error_method(\"derivative\")\n",
    "print(\"Derivative method, F = \",F)\n",
    "q.set_error_method(\"minmax\")\n",
    "print(\"Min-Max method, F =\", F)\n",
    "q.set_error_method(\"mc\")\n",
    "print(\"Monte Carlo method, F =\",F)\n",
    "\n"
   ]
  },
  {
   "cell_type": "markdown",
   "metadata": {},
   "source": [
    "### 10 % relative uncertainty calculation\n",
    "We see that in this case, the Monte Carlo method returns a different uncertainty than the derivative method, because the derivative method is incorrect when the uncertainties are this large."
   ]
  },
  {
   "cell_type": "code",
   "execution_count": 15,
   "metadata": {
    "collapsed": false,
    "scrolled": false
   },
   "outputs": [
    {
     "name": "stdout",
     "output_type": "stream",
     "text": [
      "Derivative method, F =  18.000 +/- 4.409\n",
      "Min-Max method, F = 19.469 +/- 7.420\n",
      "Monte Carlo method, F = 18.598 +/- 4.869\n"
     ]
    },
    {
     "data": {
      "text/html": [
       "\n",
       "\n",
       "    <div class=\"bk-root\">\n",
       "        <div class=\"plotdiv\" id=\"3b99d311-1a64-4f43-bcae-ce3ff83a263c\"></div>\n",
       "    </div>\n",
       "<script type=\"text/javascript\">\n",
       "  \n",
       "  (function(global) {\n",
       "    function now() {\n",
       "      return new Date();\n",
       "    }\n",
       "  \n",
       "    var force = \"\";\n",
       "  \n",
       "    if (typeof (window._bokeh_onload_callbacks) === \"undefined\" || force !== \"\") {\n",
       "      window._bokeh_onload_callbacks = [];\n",
       "      window._bokeh_is_loading = undefined;\n",
       "    }\n",
       "  \n",
       "  \n",
       "    \n",
       "    if (typeof (window._bokeh_timeout) === \"undefined\" || force !== \"\") {\n",
       "      window._bokeh_timeout = Date.now() + 0;\n",
       "      window._bokeh_failed_load = false;\n",
       "    }\n",
       "  \n",
       "    var NB_LOAD_WARNING = {'data': {'text/html':\n",
       "       \"<div style='background-color: #fdd'>\\n\"+\n",
       "       \"<p>\\n\"+\n",
       "       \"BokehJS does not appear to have successfully loaded. If loading BokehJS from CDN, this \\n\"+\n",
       "       \"may be due to a slow or bad network connection. Possible fixes:\\n\"+\n",
       "       \"</p>\\n\"+\n",
       "       \"<ul>\\n\"+\n",
       "       \"<li>re-rerun `output_notebook()` to attempt to load from CDN again, or</li>\\n\"+\n",
       "       \"<li>use INLINE resources instead, as so:</li>\\n\"+\n",
       "       \"</ul>\\n\"+\n",
       "       \"<code>\\n\"+\n",
       "       \"from bokeh.resources import INLINE\\n\"+\n",
       "       \"output_notebook(resources=INLINE)\\n\"+\n",
       "       \"</code>\\n\"+\n",
       "       \"</div>\"}};\n",
       "  \n",
       "    function display_loaded() {\n",
       "      if (window.Bokeh !== undefined) {\n",
       "        Bokeh.$(\"#3b99d311-1a64-4f43-bcae-ce3ff83a263c\").text(\"BokehJS successfully loaded.\");\n",
       "      } else if (Date.now() < window._bokeh_timeout) {\n",
       "        setTimeout(display_loaded, 100)\n",
       "      }\n",
       "    }\n",
       "  \n",
       "    function run_callbacks() {\n",
       "      window._bokeh_onload_callbacks.forEach(function(callback) { callback() });\n",
       "      delete window._bokeh_onload_callbacks\n",
       "      console.info(\"Bokeh: all callbacks have finished\");\n",
       "    }\n",
       "  \n",
       "    function load_libs(js_urls, callback) {\n",
       "      window._bokeh_onload_callbacks.push(callback);\n",
       "      if (window._bokeh_is_loading > 0) {\n",
       "        console.log(\"Bokeh: BokehJS is being loaded, scheduling callback at\", now());\n",
       "        return null;\n",
       "      }\n",
       "      if (js_urls == null || js_urls.length === 0) {\n",
       "        run_callbacks();\n",
       "        return null;\n",
       "      }\n",
       "      console.log(\"Bokeh: BokehJS not loaded, scheduling load and callback at\", now());\n",
       "      window._bokeh_is_loading = js_urls.length;\n",
       "      for (var i = 0; i < js_urls.length; i++) {\n",
       "        var url = js_urls[i];\n",
       "        var s = document.createElement('script');\n",
       "        s.src = url;\n",
       "        s.async = false;\n",
       "        s.onreadystatechange = s.onload = function() {\n",
       "          window._bokeh_is_loading--;\n",
       "          if (window._bokeh_is_loading === 0) {\n",
       "            console.log(\"Bokeh: all BokehJS libraries loaded\");\n",
       "            run_callbacks()\n",
       "          }\n",
       "        };\n",
       "        s.onerror = function() {\n",
       "          console.warn(\"failed to load library \" + url);\n",
       "        };\n",
       "        console.log(\"Bokeh: injecting script tag for BokehJS library: \", url);\n",
       "        document.getElementsByTagName(\"head\")[0].appendChild(s);\n",
       "      }\n",
       "    };var element = document.getElementById(\"3b99d311-1a64-4f43-bcae-ce3ff83a263c\");\n",
       "    if (element == null) {\n",
       "      console.log(\"Bokeh: ERROR: autoload.js configured with elementid '3b99d311-1a64-4f43-bcae-ce3ff83a263c' but no matching script tag was found. \")\n",
       "      return false;\n",
       "    }\n",
       "  \n",
       "    var js_urls = [];\n",
       "  \n",
       "    var inline_js = [\n",
       "      function(Bokeh) {\n",
       "        Bokeh.$(function() {\n",
       "            var docs_json = {\"55d9cc3b-2323-464e-919c-3f8716c53147\":{\"roots\":{\"references\":[{\"attributes\":{\"data_source\":{\"id\":\"5155aa18-faf6-4c2a-8e2c-a0c54a5266e2\",\"type\":\"ColumnDataSource\"},\"glyph\":{\"id\":\"638710fb-0c2e-4b3a-a3aa-55c45d10473a\",\"type\":\"Quad\"},\"hover_glyph\":null,\"nonselection_glyph\":{\"id\":\"0a7f3077-9db6-48aa-a3e1-80a365b13250\",\"type\":\"Quad\"},\"selection_glyph\":null},\"id\":\"517d512e-9a35-4dd0-8a56-f7e2328ae700\",\"type\":\"GlyphRenderer\"},{\"attributes\":{\"background_fill_color\":{\"value\":\"#FFFFFF\"},\"below\":[{\"id\":\"959005e3-fbb7-4603-9360-c539b9768610\",\"type\":\"LinearAxis\"}],\"left\":[{\"id\":\"cf6b23e3-bf24-465d-9764-62970cf88572\",\"type\":\"LinearAxis\"}],\"renderers\":[{\"id\":\"959005e3-fbb7-4603-9360-c539b9768610\",\"type\":\"LinearAxis\"},{\"id\":\"64d729a9-2a6c-4068-b79a-d5d46041e4cd\",\"type\":\"Grid\"},{\"id\":\"cf6b23e3-bf24-465d-9764-62970cf88572\",\"type\":\"LinearAxis\"},{\"id\":\"9e0ad54e-6174-4ccf-b072-9284636e08a8\",\"type\":\"Grid\"},{\"id\":\"3b1ab936-b7c1-4edc-b16b-43ba5e427e03\",\"type\":\"BoxAnnotation\"},{\"id\":\"517d512e-9a35-4dd0-8a56-f7e2328ae700\",\"type\":\"GlyphRenderer\"},{\"id\":\"793c03bd-5ab9-49a8-9348-7c73381a3793\",\"type\":\"GlyphRenderer\"},{\"id\":\"06a57fcc-cef0-4111-86bb-9c323fee2cdd\",\"type\":\"GlyphRenderer\"},{\"id\":\"39b2eb36-f7e0-46ed-9614-6fa7ea089aa2\",\"type\":\"GlyphRenderer\"}],\"title\":{\"id\":\"b38fc14d-cbad-4066-807f-66a02082751f\",\"type\":\"Title\"},\"tool_events\":{\"id\":\"796243fb-24f5-4ab0-912e-cdddddd52f1d\",\"type\":\"ToolEvents\"},\"toolbar\":{\"id\":\"0e5a6a8e-21b3-4b21-8665-34d3168a6fbf\",\"type\":\"Toolbar\"},\"x_range\":{\"id\":\"a174564d-c6cd-4b4d-9982-2fca1f03f08c\",\"type\":\"DataRange1d\"},\"y_range\":{\"id\":\"3ca3325b-b652-49b9-9ff5-fe65d52ef175\",\"type\":\"DataRange1d\"}},\"id\":\"4d8b7654-b118-45a4-b175-114bf6469c06\",\"subtype\":\"Figure\",\"type\":\"Plot\"},{\"attributes\":{\"callback\":null},\"id\":\"a174564d-c6cd-4b4d-9982-2fca1f03f08c\",\"type\":\"DataRange1d\"},{\"attributes\":{\"data_source\":{\"id\":\"e89aa4f3-6332-467e-b97a-747084c45631\",\"type\":\"ColumnDataSource\"},\"glyph\":{\"id\":\"265aacc4-5dc8-4111-9b46-4a7073f5933b\",\"type\":\"Line\"},\"hover_glyph\":null,\"nonselection_glyph\":{\"id\":\"18240922-f35f-4e9c-a322-3e752ea92b96\",\"type\":\"Line\"},\"selection_glyph\":null},\"id\":\"06a57fcc-cef0-4111-86bb-9c323fee2cdd\",\"type\":\"GlyphRenderer\"},{\"attributes\":{\"line_color\":{\"value\":\"red\"},\"line_dash\":[6],\"x\":{\"field\":\"x\"},\"y\":{\"field\":\"y\"}},\"id\":\"265aacc4-5dc8-4111-9b46-4a7073f5933b\",\"type\":\"Line\"},{\"attributes\":{\"dimension\":1,\"plot\":{\"id\":\"4d8b7654-b118-45a4-b175-114bf6469c06\",\"subtype\":\"Figure\",\"type\":\"Plot\"},\"ticker\":{\"id\":\"34f48e03-eead-45fc-8cd5-d62de35269b1\",\"type\":\"BasicTicker\"}},\"id\":\"9e0ad54e-6174-4ccf-b072-9284636e08a8\",\"type\":\"Grid\"},{\"attributes\":{\"bottom\":{\"value\":0},\"fill_alpha\":{\"value\":0.1},\"fill_color\":{\"value\":\"#1f77b4\"},\"left\":{\"field\":\"left\"},\"line_alpha\":{\"value\":0.1},\"line_color\":{\"value\":\"#1f77b4\"},\"right\":{\"field\":\"right\"},\"top\":{\"field\":\"top\"}},\"id\":\"0a7f3077-9db6-48aa-a3e1-80a365b13250\",\"type\":\"Quad\"},{\"attributes\":{\"callback\":null,\"column_names\":[\"x\",\"y\"],\"data\":{\"x\":[13.59091846299028,13.59091846299028],\"y\":[0,824]}},\"id\":\"e89aa4f3-6332-467e-b97a-747084c45631\",\"type\":\"ColumnDataSource\"},{\"attributes\":{\"data_source\":{\"id\":\"1d49be68-a005-4a03-ab66-c3f1bdf435d7\",\"type\":\"ColumnDataSource\"},\"glyph\":{\"id\":\"e0d32e3d-3336-4fed-ad7a-01b6639e5a36\",\"type\":\"Line\"},\"hover_glyph\":null,\"nonselection_glyph\":{\"id\":\"1f1ec0d5-aa9c-4341-90b2-291ccf79743f\",\"type\":\"Line\"},\"selection_glyph\":null},\"id\":\"39b2eb36-f7e0-46ed-9614-6fa7ea089aa2\",\"type\":\"GlyphRenderer\"},{\"attributes\":{},\"id\":\"34f48e03-eead-45fc-8cd5-d62de35269b1\",\"type\":\"BasicTicker\"},{\"attributes\":{},\"id\":\"0735bfbc-4c14-4988-a52c-b1a00ebabac2\",\"type\":\"BasicTickFormatter\"},{\"attributes\":{\"formatter\":{\"id\":\"0735bfbc-4c14-4988-a52c-b1a00ebabac2\",\"type\":\"BasicTickFormatter\"},\"plot\":{\"id\":\"4d8b7654-b118-45a4-b175-114bf6469c06\",\"subtype\":\"Figure\",\"type\":\"Plot\"},\"ticker\":{\"id\":\"5ee9de52-4781-4aa1-94e9-f6945e3c0d7b\",\"type\":\"BasicTicker\"}},\"id\":\"959005e3-fbb7-4603-9360-c539b9768610\",\"type\":\"LinearAxis\"},{\"attributes\":{\"line_alpha\":{\"value\":0.1},\"line_color\":{\"value\":\"#1f77b4\"},\"x\":{\"field\":\"x\"},\"y\":{\"field\":\"y\"}},\"id\":\"187e6f44-cf9d-4b80-a684-ecd0150f23d4\",\"type\":\"Line\"},{\"attributes\":{\"overlay\":{\"id\":\"3b1ab936-b7c1-4edc-b16b-43ba5e427e03\",\"type\":\"BoxAnnotation\"},\"plot\":{\"id\":\"4d8b7654-b118-45a4-b175-114bf6469c06\",\"subtype\":\"Figure\",\"type\":\"Plot\"}},\"id\":\"842caeed-e6e8-4722-9aab-e6e21ca9b692\",\"type\":\"BoxZoomTool\"},{\"attributes\":{\"line_alpha\":{\"value\":0.1},\"line_color\":{\"value\":\"#1f77b4\"},\"line_dash\":[6],\"x\":{\"field\":\"x\"},\"y\":{\"field\":\"y\"}},\"id\":\"1f1ec0d5-aa9c-4341-90b2-291ccf79743f\",\"type\":\"Line\"},{\"attributes\":{\"callback\":null,\"column_names\":[\"x\",\"y\"],\"data\":{\"x\":[18.0,18.0],\"y\":[0.0,906.4000000000001]}},\"id\":\"b090d90b-284d-413b-a0ac-a52df32d60c3\",\"type\":\"ColumnDataSource\"},{\"attributes\":{\"plot\":{\"id\":\"4d8b7654-b118-45a4-b175-114bf6469c06\",\"subtype\":\"Figure\",\"type\":\"Plot\"}},\"id\":\"05d8cb90-d571-4b9f-91ad-c07bbcfb9ee0\",\"type\":\"PanTool\"},{\"attributes\":{\"callback\":null},\"id\":\"3ca3325b-b652-49b9-9ff5-fe65d52ef175\",\"type\":\"DataRange1d\"},{\"attributes\":{\"plot\":null,\"text\":\"unnamed_var14*9000000000*unnamed_var15/unnamed_var16**2 Histogram\"},\"id\":\"b38fc14d-cbad-4066-807f-66a02082751f\",\"type\":\"Title\"},{\"attributes\":{\"callback\":null,\"column_names\":[\"right\",\"left\",\"top\"],\"data\":{\"left\":[7.289406638764567,8.153023715989098,9.016640793213629,9.880257870438161,10.743874947662691,11.607492024887222,12.471109102111754,13.334726179336286,14.198343256560817,15.061960333785347,15.92557741100988,16.78919448823441,17.65281156545894,18.516428642683472,19.380045719908004,20.243662797132536,21.107279874357065,21.970896951581597,22.83451402880613,23.69813110603066,24.56174818325519,25.425365260479722,26.288982337704255,27.152599414928787,28.016216492153315,28.879833569377848,29.74345064660238,30.60706772382691,31.47068480105144,32.33430187827597,33.197918955500505,34.06153603272503,34.92515310994956,35.788770187174094,36.65238726439863,37.51600434162316,38.37962141884769,39.24323849607222,40.106855573296755,40.97047265052129,41.83408972774581,42.697706804970345,43.56132388219488,44.42494095941941,45.28855803664394,46.15217511386847,47.015792191093006,47.87940926831753,48.74302634554206,49.606643422766595],\"right\":[8.153023715989098,9.016640793213629,9.880257870438161,10.743874947662691,11.607492024887222,12.471109102111754,13.334726179336286,14.198343256560817,15.061960333785347,15.92557741100988,16.78919448823441,17.65281156545894,18.516428642683472,19.380045719908004,20.243662797132536,21.107279874357065,21.970896951581597,22.83451402880613,23.69813110603066,24.56174818325519,25.425365260479722,26.288982337704255,27.152599414928787,28.016216492153315,28.879833569377848,29.74345064660238,30.60706772382691,31.47068480105144,32.33430187827597,33.197918955500505,34.06153603272503,34.92515310994956,35.788770187174094,36.65238726439863,37.51600434162316,38.37962141884769,39.24323849607222,40.106855573296755,40.97047265052129,41.83408972774581,42.697706804970345,43.56132388219488,44.42494095941941,45.28855803664394,46.15217511386847,47.015792191093006,47.87940926831753,48.74302634554206,49.606643422766595,50.47026049999113],\"top\":[9,19,35,98,169,314,456,570,750,761,814,824,739,688,630,553,495,385,328,268,212,198,158,119,82,62,50,47,29,20,20,20,14,13,9,12,5,6,0,2,2,4,2,0,3,3,1,0,1,1]}},\"id\":\"5155aa18-faf6-4c2a-8e2c-a0c54a5266e2\",\"type\":\"ColumnDataSource\"},{\"attributes\":{\"bottom\":{\"value\":0},\"fill_color\":{\"value\":\"#036564\"},\"left\":{\"field\":\"left\"},\"line_color\":{\"value\":\"#033649\"},\"right\":{\"field\":\"right\"},\"top\":{\"field\":\"top\"}},\"id\":\"638710fb-0c2e-4b3a-a3aa-55c45d10473a\",\"type\":\"Quad\"},{\"attributes\":{\"line_color\":{\"value\":\"red\"},\"x\":{\"field\":\"x\"},\"y\":{\"field\":\"y\"}},\"id\":\"401ca8b0-6198-4169-bd24-a2e0255664ee\",\"type\":\"Line\"},{\"attributes\":{\"formatter\":{\"id\":\"1e7186e2-7de0-48af-9ac2-b900c8ec977c\",\"type\":\"BasicTickFormatter\"},\"plot\":{\"id\":\"4d8b7654-b118-45a4-b175-114bf6469c06\",\"subtype\":\"Figure\",\"type\":\"Plot\"},\"ticker\":{\"id\":\"34f48e03-eead-45fc-8cd5-d62de35269b1\",\"type\":\"BasicTicker\"}},\"id\":\"cf6b23e3-bf24-465d-9764-62970cf88572\",\"type\":\"LinearAxis\"},{\"attributes\":{\"data_source\":{\"id\":\"b090d90b-284d-413b-a0ac-a52df32d60c3\",\"type\":\"ColumnDataSource\"},\"glyph\":{\"id\":\"401ca8b0-6198-4169-bd24-a2e0255664ee\",\"type\":\"Line\"},\"hover_glyph\":null,\"nonselection_glyph\":{\"id\":\"187e6f44-cf9d-4b80-a684-ecd0150f23d4\",\"type\":\"Line\"},\"selection_glyph\":null},\"id\":\"793c03bd-5ab9-49a8-9348-7c73381a3793\",\"type\":\"GlyphRenderer\"},{\"attributes\":{\"plot\":{\"id\":\"4d8b7654-b118-45a4-b175-114bf6469c06\",\"subtype\":\"Figure\",\"type\":\"Plot\"}},\"id\":\"a156db21-94c8-40b0-bb78-42abfdb7c9c8\",\"type\":\"SaveTool\"},{\"attributes\":{\"callback\":null,\"column_names\":[\"x\",\"y\"],\"data\":{\"x\":[22.40908153700972,22.40908153700972],\"y\":[0,824]}},\"id\":\"1d49be68-a005-4a03-ab66-c3f1bdf435d7\",\"type\":\"ColumnDataSource\"},{\"attributes\":{\"plot\":{\"id\":\"4d8b7654-b118-45a4-b175-114bf6469c06\",\"subtype\":\"Figure\",\"type\":\"Plot\"}},\"id\":\"605172d9-7e5e-4d5a-9ad6-8180d97c4160\",\"type\":\"ResetTool\"},{\"attributes\":{\"line_alpha\":{\"value\":0.1},\"line_color\":{\"value\":\"#1f77b4\"},\"line_dash\":[6],\"x\":{\"field\":\"x\"},\"y\":{\"field\":\"y\"}},\"id\":\"18240922-f35f-4e9c-a322-3e752ea92b96\",\"type\":\"Line\"},{\"attributes\":{},\"id\":\"1e7186e2-7de0-48af-9ac2-b900c8ec977c\",\"type\":\"BasicTickFormatter\"},{\"attributes\":{},\"id\":\"796243fb-24f5-4ab0-912e-cdddddd52f1d\",\"type\":\"ToolEvents\"},{\"attributes\":{},\"id\":\"5ee9de52-4781-4aa1-94e9-f6945e3c0d7b\",\"type\":\"BasicTicker\"},{\"attributes\":{\"active_drag\":\"auto\",\"active_scroll\":\"auto\",\"active_tap\":\"auto\",\"tools\":[{\"id\":\"a156db21-94c8-40b0-bb78-42abfdb7c9c8\",\"type\":\"SaveTool\"},{\"id\":\"05d8cb90-d571-4b9f-91ad-c07bbcfb9ee0\",\"type\":\"PanTool\"},{\"id\":\"842caeed-e6e8-4722-9aab-e6e21ca9b692\",\"type\":\"BoxZoomTool\"},{\"id\":\"b0762238-ad2d-4794-a8b0-7fa8099e5f19\",\"type\":\"WheelZoomTool\"},{\"id\":\"605172d9-7e5e-4d5a-9ad6-8180d97c4160\",\"type\":\"ResetTool\"}]},\"id\":\"0e5a6a8e-21b3-4b21-8665-34d3168a6fbf\",\"type\":\"Toolbar\"},{\"attributes\":{\"plot\":{\"id\":\"4d8b7654-b118-45a4-b175-114bf6469c06\",\"subtype\":\"Figure\",\"type\":\"Plot\"},\"ticker\":{\"id\":\"5ee9de52-4781-4aa1-94e9-f6945e3c0d7b\",\"type\":\"BasicTicker\"}},\"id\":\"64d729a9-2a6c-4068-b79a-d5d46041e4cd\",\"type\":\"Grid\"},{\"attributes\":{\"plot\":{\"id\":\"4d8b7654-b118-45a4-b175-114bf6469c06\",\"subtype\":\"Figure\",\"type\":\"Plot\"}},\"id\":\"b0762238-ad2d-4794-a8b0-7fa8099e5f19\",\"type\":\"WheelZoomTool\"},{\"attributes\":{\"line_color\":{\"value\":\"red\"},\"line_dash\":[6],\"x\":{\"field\":\"x\"},\"y\":{\"field\":\"y\"}},\"id\":\"e0d32e3d-3336-4fed-ad7a-01b6639e5a36\",\"type\":\"Line\"},{\"attributes\":{\"bottom_units\":\"screen\",\"fill_alpha\":{\"value\":0.5},\"fill_color\":{\"value\":\"lightgrey\"},\"left_units\":\"screen\",\"level\":\"overlay\",\"line_alpha\":{\"value\":1.0},\"line_color\":{\"value\":\"black\"},\"line_dash\":[4,4],\"line_width\":{\"value\":2},\"plot\":null,\"render_mode\":\"css\",\"right_units\":\"screen\",\"top_units\":\"screen\"},\"id\":\"3b1ab936-b7c1-4edc-b16b-43ba5e427e03\",\"type\":\"BoxAnnotation\"}],\"root_ids\":[\"4d8b7654-b118-45a4-b175-114bf6469c06\"]},\"title\":\"Bokeh Application\",\"version\":\"0.12.2\"}};\n",
       "            var render_items = [{\"docid\":\"55d9cc3b-2323-464e-919c-3f8716c53147\",\"elementid\":\"3b99d311-1a64-4f43-bcae-ce3ff83a263c\",\"modelid\":\"4d8b7654-b118-45a4-b175-114bf6469c06\"}];\n",
       "            \n",
       "            Bokeh.embed.embed_items(docs_json, render_items);\n",
       "        });\n",
       "      },\n",
       "      function(Bokeh) {\n",
       "      }\n",
       "    ];\n",
       "  \n",
       "    function run_inline_js() {\n",
       "      \n",
       "      if ((window.Bokeh !== undefined) || (force === \"1\")) {\n",
       "        for (var i = 0; i < inline_js.length; i++) {\n",
       "          inline_js[i](window.Bokeh);\n",
       "        }if (force === \"1\") {\n",
       "          display_loaded();\n",
       "        }} else if (Date.now() < window._bokeh_timeout) {\n",
       "        setTimeout(run_inline_js, 100);\n",
       "      } else if (!window._bokeh_failed_load) {\n",
       "        console.log(\"Bokeh: BokehJS failed to load within specified timeout.\");\n",
       "        window._bokeh_failed_load = true;\n",
       "      } else if (!force) {\n",
       "        var cell = $(\"#3b99d311-1a64-4f43-bcae-ce3ff83a263c\").parents('.cell').data().cell;\n",
       "        cell.output_area.append_execute_result(NB_LOAD_WARNING)\n",
       "      }\n",
       "  \n",
       "    }\n",
       "  \n",
       "    if (window._bokeh_is_loading === 0) {\n",
       "      console.log(\"Bokeh: BokehJS loaded, going straight to plotting\");\n",
       "      run_inline_js();\n",
       "    } else {\n",
       "      load_libs(js_urls, function() {\n",
       "        console.log(\"Bokeh: BokehJS plotting callback run at\", now());\n",
       "        run_inline_js();\n",
       "      });\n",
       "    }\n",
       "  }(this));\n",
       "</script>"
      ]
     },
     "metadata": {},
     "output_type": "display_data"
    },
    {
     "data": {
      "text/plain": [
       "<bokeh.plotting.figure.Figure at 0x1b26eb022e8>"
      ]
     },
     "execution_count": 15,
     "metadata": {},
     "output_type": "execute_result"
    }
   ],
   "source": [
    "#Measurements with 10% relative uncertainties:\n",
    "relative_factor = 0.1 \n",
    "\n",
    "#Measured values\n",
    "q1m=1e-6\n",
    "q2m=2e-5\n",
    "rm=0.1\n",
    "\n",
    "#Convert to Measurement objects\n",
    "q1 = q.Measurement(q1m,relative_factor*q1m)\n",
    "q2 = q.Measurement(q2m,relative_factor*q2m)\n",
    "r = q.Measurement(rm,relative_factor*rm)\n",
    "#Coulomb's constant:\n",
    "k = 9e9 \n",
    "\n",
    "#Define the Force:\n",
    "F = k*q1*q2/r**2\n",
    "\n",
    "#Print out the different errors\n",
    "q.set_error_method(\"derivative\")\n",
    "print(\"Derivative method, F = \",F)\n",
    "q.set_error_method(\"minmax\")\n",
    "print(\"Min-Max method, F =\", F)\n",
    "q.set_error_method(\"mc\")\n",
    "print(\"Monte Carlo method, F =\",F)\n",
    "\n",
    "q.plot_engine=\"bokeh\"\n",
    "F.show_MC_histogram()"
   ]
  },
  {
   "cell_type": "markdown",
   "metadata": {},
   "source": [
    "## Printing style and formatting\n",
    "QExPy can print results in different styles, and the user can assign names and units to variables (although one should not rely on units being correctly propagated). If one assigns and name and units to a variable, the print() function will automatically include those when printing out the variable.\n",
    "\n",
    "One can also set the \"print style\" to be either \"Default\", \"Scientific\" or \"Latex\". In the scientific and default styles, QExPy will factor out the powers of 10 to make the central value and uncertainty easier to compare. "
   ]
  },
  {
   "cell_type": "code",
   "execution_count": 16,
   "metadata": {
    "collapsed": false
   },
   "outputs": [
    {
     "name": "stdout",
     "output_type": "stream",
     "text": [
      "distance = (10000 +/- 1220)*10^(-3) [m]\n",
      "distance = (10000 \\pm 1220)*10^{-3}\\,m\n",
      "distance = 10.000 +/- 1.220 [m]\n"
     ]
    }
   ],
   "source": [
    "x = q.Measurement(10,1.22,name=\"distance\", units=\"m\")\n",
    "q.set_print_style(\"Scientific\")\n",
    "print(x)\n",
    "q.set_print_style(\"Latex\")\n",
    "print(x)\n",
    "q.set_print_style(\"Default\")\n",
    "print(x)"
   ]
  },
  {
   "cell_type": "markdown",
   "metadata": {
    "collapsed": false
   },
   "source": [
    "## Exact derivatives\n",
    "Since QExPy needs to be able to evaluate derivatives (by using the automatic differentiation algorithm that exploits the Chain Rule), we can use QExPy to evaluate numerical derivatives exactly. That is, given a function, $f(x,y)$, QExPy can evaluate $\\frac{\\partial f(x,y)}{\\partial x}$ at a given value of $x$ and $y$.\n",
    "\n",
    "For example, if we have:\n",
    "$$x(t) = \\frac{1}{2}gt^2 $$\n",
    "\n",
    "and we have measured $t=8 \\pm 1$, we can evaluate the exact value of the derivative:\n",
    "\n",
    "$$\\frac{\\partial x(t)}{\\partial t} = \\frac{d x(t)}{d t}  = gt$$\n",
    "\n",
    "at $t=8 \\pm 1$\n"
   ]
  },
  {
   "cell_type": "code",
   "execution_count": 17,
   "metadata": {
    "collapsed": false
   },
   "outputs": [
    {
     "name": "stdout",
     "output_type": "stream",
     "text": [
      "78.48\n"
     ]
    }
   ],
   "source": [
    "t = q.Measurement(8,1)\n",
    "x = 0.5 * 9.81 * t**2\n",
    "print(x.get_derivative(t))"
   ]
  },
  {
   "cell_type": "code",
   "execution_count": null,
   "metadata": {
    "collapsed": false
   },
   "outputs": [],
   "source": []
  }
 ],
 "metadata": {
  "anaconda-cloud": {},
  "kernelspec": {
   "display_name": "Python [default]",
   "language": "python",
   "name": "python3"
  },
  "language_info": {
   "codemirror_mode": {
    "name": "ipython",
    "version": 3
   },
   "file_extension": ".py",
   "mimetype": "text/x-python",
   "name": "python",
   "nbconvert_exporter": "python",
   "pygments_lexer": "ipython3",
   "version": "3.5.2"
  }
 },
 "nbformat": 4,
 "nbformat_minor": 0
}
