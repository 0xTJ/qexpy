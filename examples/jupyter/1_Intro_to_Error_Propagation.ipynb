{
 "cells": [
  {
   "cell_type": "markdown",
   "metadata": {},
   "source": [
    "# Error Propagation with QExPy\n",
    "\n",
    "The first step is to import the error module for error propagation. We'll import it as \"e\":"
   ]
  },
  {
   "cell_type": "code",
   "execution_count": 1,
   "metadata": {
    "collapsed": false
   },
   "outputs": [
    {
     "data": {
      "text/html": [
       "\n",
       "    <div class=\"bk-root\">\n",
       "        <a href=\"http://bokeh.pydata.org\" target=\"_blank\" class=\"bk-logo bk-logo-small bk-logo-notebook\"></a>\n",
       "        <span id=\"739b4ef6-57fc-462d-adea-a456604bed89\">Loading BokehJS ...</span>\n",
       "    </div>"
      ]
     },
     "metadata": {},
     "output_type": "display_data"
    },
    {
     "data": {
      "application/javascript": [
       "\n",
       "(function(global) {\n",
       "  function now() {\n",
       "    return new Date();\n",
       "  }\n",
       "\n",
       "  var force = \"1\";\n",
       "\n",
       "  if (typeof (window._bokeh_onload_callbacks) === \"undefined\" || force !== \"\") {\n",
       "    window._bokeh_onload_callbacks = [];\n",
       "    window._bokeh_is_loading = undefined;\n",
       "  }\n",
       "\n",
       "  function run_callbacks() {\n",
       "    window._bokeh_onload_callbacks.forEach(function(callback) { callback() });\n",
       "    delete window._bokeh_onload_callbacks\n",
       "    console.info(\"Bokeh: all callbacks have finished\");\n",
       "  }\n",
       "\n",
       "  function load_libs(js_urls, callback) {\n",
       "    window._bokeh_onload_callbacks.push(callback);\n",
       "    if (window._bokeh_is_loading > 0) {\n",
       "      console.log(\"Bokeh: BokehJS is being loaded, scheduling callback at\", now());\n",
       "      return null;\n",
       "    }\n",
       "    if (js_urls == null || js_urls.length === 0) {\n",
       "      run_callbacks();\n",
       "      return null;\n",
       "    }\n",
       "    console.log(\"Bokeh: BokehJS not loaded, scheduling load and callback at\", now());\n",
       "    window._bokeh_is_loading = js_urls.length;\n",
       "    for (var i = 0; i < js_urls.length; i++) {\n",
       "      var url = js_urls[i];\n",
       "      var s = document.createElement('script');\n",
       "      s.src = url;\n",
       "      s.async = false;\n",
       "      s.onreadystatechange = s.onload = function() {\n",
       "        window._bokeh_is_loading--;\n",
       "        if (window._bokeh_is_loading === 0) {\n",
       "          console.log(\"Bokeh: all BokehJS libraries loaded\");\n",
       "          run_callbacks()\n",
       "        }\n",
       "      };\n",
       "      s.onerror = function() {\n",
       "        console.warn(\"failed to load library \" + url);\n",
       "      };\n",
       "      console.log(\"Bokeh: injecting script tag for BokehJS library: \", url);\n",
       "      document.getElementsByTagName(\"head\")[0].appendChild(s);\n",
       "    }\n",
       "  };\n",
       "\n",
       "  var js_urls = ['https://cdn.pydata.org/bokeh/release/bokeh-0.12.1.min.js', 'https://cdn.pydata.org/bokeh/release/bokeh-widgets-0.12.1.min.js', 'https://cdn.pydata.org/bokeh/release/bokeh-compiler-0.12.1.min.js'];\n",
       "\n",
       "  var inline_js = [\n",
       "    function(Bokeh) {\n",
       "      Bokeh.set_log_level(\"info\");\n",
       "    },\n",
       "    \n",
       "    function(Bokeh) {\n",
       "      \n",
       "      Bokeh.$(\"#739b4ef6-57fc-462d-adea-a456604bed89\").text(\"BokehJS successfully loaded\");\n",
       "      var kernel = Jupyter.notebook.kernel\n",
       "      if (kernel.execute !== undefined) {\n",
       "          kernel.execute(\"import bokeh.io; bokeh.io._nb_loaded = True\");\n",
       "      }\n",
       "    },\n",
       "    function(Bokeh) {\n",
       "      console.log(\"Bokeh: injecting CSS: https://cdn.pydata.org/bokeh/release/bokeh-0.12.1.min.css\");\n",
       "      Bokeh.embed.inject_css(\"https://cdn.pydata.org/bokeh/release/bokeh-0.12.1.min.css\");\n",
       "      console.log(\"Bokeh: injecting CSS: https://cdn.pydata.org/bokeh/release/bokeh-widgets-0.12.1.min.css\");\n",
       "      Bokeh.embed.inject_css(\"https://cdn.pydata.org/bokeh/release/bokeh-widgets-0.12.1.min.css\");\n",
       "    }\n",
       "  ];\n",
       "\n",
       "  function run_inline_js() {\n",
       "    for (var i = 0; i < inline_js.length; i++) {\n",
       "      inline_js[i](window.Bokeh);\n",
       "    }\n",
       "  }\n",
       "\n",
       "  if (window._bokeh_is_loading === 0) {\n",
       "    console.log(\"Bokeh: BokehJS loaded, going straight to plotting\");\n",
       "    run_inline_js();\n",
       "  } else {\n",
       "    load_libs(js_urls, function() {\n",
       "      console.log(\"Bokeh: BokehJS plotting callback run at\", now());\n",
       "      run_inline_js();\n",
       "    });\n",
       "  }\n",
       "}(this));"
      ]
     },
     "metadata": {},
     "output_type": "display_data"
    }
   ],
   "source": [
    "import qexpy as q\n"
   ]
  },
  {
   "cell_type": "markdown",
   "metadata": {},
   "source": [
    "Next, we'll declare two measured values, x and y, with uncertainties, and print them out. We use the Measurement object from the qexpy.error package:"
   ]
  },
  {
   "cell_type": "code",
   "execution_count": 2,
   "metadata": {
    "collapsed": false,
    "scrolled": true
   },
   "outputs": [
    {
     "name": "stdout",
     "output_type": "stream",
     "text": [
      "x = 10 +/- 1\n",
      "y = 5 +/- 3\n"
     ]
    }
   ],
   "source": [
    "#Our two measured values:\n",
    "x = q.Measurement(10,1)\n",
    "y = q.Measurement(5,3)\n",
    "\n",
    "#We can print them out:\n",
    "print(\"x =\",x)\n",
    "print(\"y =\",y)\n",
    "#x.set_correlation(y,0.3)"
   ]
  },
  {
   "cell_type": "markdown",
   "metadata": {},
   "source": [
    "We can declare a third object, z, which depends on x and y. The uncertainty in x and y will be correctly propagated to z, so once we have defined z, we can simply print it out with the correct uncertainty:"
   ]
  },
  {
   "cell_type": "code",
   "execution_count": 3,
   "metadata": {
    "collapsed": false
   },
   "outputs": [
    {
     "name": "stdout",
     "output_type": "stream",
     "text": [
      "z = 15 +/- 3\n"
     ]
    }
   ],
   "source": [
    "#We define z\n",
    "z = x+y\n",
    "#z can now be printed out\n",
    "print(\"z =\",z)"
   ]
  },
  {
   "cell_type": "markdown",
   "metadata": {},
   "source": [
    "Note how the uncertainties have been kept to 1 significant figure. In this case, the error in z was obtained by adding the errors in x and y in quadrature. We can change the number of significant figures to confirm that the errors were indeed added in quadrature. We can choose between setting  the number of significant figures based on the uncertainty (more common) or based on the central value."
   ]
  },
  {
   "cell_type": "code",
   "execution_count": 4,
   "metadata": {
    "collapsed": false
   },
   "outputs": [
    {
     "name": "stdout",
     "output_type": "stream",
     "text": [
      "z = 15.000 +/- 3.162\n"
     ]
    }
   ],
   "source": [
    "q.set_sigfigs_error(4) # set sigfigs based on the error\n",
    "print(\"z =\",z)"
   ]
  },
  {
   "cell_type": "markdown",
   "metadata": {},
   "source": [
    "Let's compare the error in z to what the errors in x and y are when added manually in quadrature. We need to import the sqrt() function from the math package to apply mathematical functions to numbers:"
   ]
  },
  {
   "cell_type": "code",
   "execution_count": 5,
   "metadata": {
    "collapsed": false
   },
   "outputs": [
    {
     "name": "stdout",
     "output_type": "stream",
     "text": [
      "3.1622776601683795\n"
     ]
    }
   ],
   "source": [
    "import math as m\n",
    "quadrature = m.sqrt(x.std**2+y.std**2)\n",
    "print(quadrature)"
   ]
  },
  {
   "cell_type": "markdown",
   "metadata": {},
   "source": [
    "## Math functions\n",
    "We can propagate the uncertainties through any operator (+,-,\\*,/) automatically as we showed above. QExPy also knows how to propagate the uncertainty through common mathematical functions. To use mathematical functions on Measurement objects, we need to call the functions from the QExPy package (as opposed to the math package as we did above for 2 numbers)."
   ]
  },
  {
   "cell_type": "code",
   "execution_count": 6,
   "metadata": {
    "collapsed": false
   },
   "outputs": [
    {
     "name": "stdout",
     "output_type": "stream",
     "text": [
      "time =  1.277102 +/- 0.007982 seconds\n"
     ]
    }
   ],
   "source": [
    "#If an object fell a distance of 8.0 +/0.1 m, how long did it take to fall?\n",
    "y = q.Measurement(8,0.1)\n",
    "g = 9.81\n",
    "t = q.sqrt(2*y/g)\n",
    "print(\"time = \",t, \"seconds\")"
   ]
  },
  {
   "cell_type": "markdown",
   "metadata": {},
   "source": [
    "## Error in correlated quantities\n",
    "If we have two measurements, x and y, that are correlated, then their correlation factor will impact the uncertainty on a quantity that depends on them:"
   ]
  },
  {
   "cell_type": "code",
   "execution_count": 7,
   "metadata": {
    "collapsed": false
   },
   "outputs": [
    {
     "name": "stdout",
     "output_type": "stream",
     "text": [
      "x and y uncorrelated: z= 15.000 +/- 3.162\n",
      "x and y positively correlated: z= 15.000 +/- 3.606\n",
      "x and y negatively correlated: z= 15.000 +/- 2.646\n"
     ]
    }
   ],
   "source": [
    "x = q.Measurement(10,1)\n",
    "y = q.Measurement(5,3)\n",
    "z = x+y\n",
    "print(\"x and y uncorrelated: z=\",z)\n",
    "\n",
    "#Now set a correlation factor between x and y:\n",
    "x.set_correlation(y,0.5)\n",
    "z = x+y\n",
    "print(\"x and y positively correlated: z=\",z)\n",
    "\n",
    "#We can also use the covariance factor instead of the correlation factor:\n",
    "x.set_covariance(y,-1.5)\n",
    "z = x+y\n",
    "print(\"x and y negatively correlated: z=\",z)"
   ]
  },
  {
   "cell_type": "markdown",
   "metadata": {},
   "source": [
    "If we don't specify any correlation factors, then all quantities are assumed to be independent. However, a quantity should not be independent from itself, so QExPy knows how to track the correlation in quantities that depend on common quantities. "
   ]
  },
  {
   "cell_type": "code",
   "execution_count": 8,
   "metadata": {
    "collapsed": false
   },
   "outputs": [
    {
     "name": "stdout",
     "output_type": "stream",
     "text": [
      "0.000 +/- 0.000\n"
     ]
    }
   ],
   "source": [
    "x = q.Measurement(10,1)\n",
    "y = x*x\n",
    "z = x*x - y #this should be 0 +/- 0, since it's really x^2 - x^2 \n",
    "print(z)"
   ]
  },
  {
   "cell_type": "markdown",
   "metadata": {
    "collapsed": true
   },
   "source": [
    "## Statistical measurements\n",
    "QExPy can also handle the case when you have repeated measurements of a single quantity and you want to average them together. Suppose that you have measured 5 values of some quantity T. QExPy will automatically assume that those values should be averaged together so that T is given by the mean of the measured values with an uncertainty given by the standard deviation of the values.\n"
   ]
  },
  {
   "cell_type": "code",
   "execution_count": 9,
   "metadata": {
    "collapsed": false
   },
   "outputs": [
    {
     "name": "stdout",
     "output_type": "stream",
     "text": [
      "5.3000 +/- 0.5431\n"
     ]
    }
   ],
   "source": [
    "T=q.Measurement( [5.6, 4.8, 6.1, 4.9, 5.1 ] )\n",
    "print(T)"
   ]
  },
  {
   "cell_type": "markdown",
   "metadata": {},
   "source": [
    "T can be used just as any other measurement with uncertainties, and its error will be propagate correctly:"
   ]
  },
  {
   "cell_type": "code",
   "execution_count": 10,
   "metadata": {
    "collapsed": false
   },
   "outputs": [
    {
     "name": "stdout",
     "output_type": "stream",
     "text": [
      "1.1849 +/- 0.1214\n"
     ]
    }
   ],
   "source": [
    "omega = 2*3.14/T\n",
    "print(omega)"
   ]
  },
  {
   "cell_type": "markdown",
   "metadata": {},
   "source": [
    "If we have measured many values, it can sometimes be useful to visualize those measurements in a histogram. QExPy will automatically create a histogram of the values, showing lines corresponding to the mean and the range covered by one standard deviation"
   ]
  },
  {
   "cell_type": "code",
   "execution_count": 11,
   "metadata": {
    "collapsed": false
   },
   "outputs": [
    {
     "data": {
      "text/html": [
       "\n",
       "\n",
       "    <div class=\"bk-root\">\n",
       "        <div class=\"plotdiv\" id=\"899fe625-4e23-49bf-bdf1-22047bea0db2\"></div>\n",
       "    </div>\n",
       "<script type=\"text/javascript\">\n",
       "  \n",
       "  (function(global) {\n",
       "    function now() {\n",
       "      return new Date();\n",
       "    }\n",
       "  \n",
       "    var force = \"\";\n",
       "  \n",
       "    if (typeof (window._bokeh_onload_callbacks) === \"undefined\" || force !== \"\") {\n",
       "      window._bokeh_onload_callbacks = [];\n",
       "      window._bokeh_is_loading = undefined;\n",
       "    }\n",
       "  \n",
       "    function run_callbacks() {\n",
       "      window._bokeh_onload_callbacks.forEach(function(callback) { callback() });\n",
       "      delete window._bokeh_onload_callbacks\n",
       "      console.info(\"Bokeh: all callbacks have finished\");\n",
       "    }\n",
       "  \n",
       "    function load_libs(js_urls, callback) {\n",
       "      window._bokeh_onload_callbacks.push(callback);\n",
       "      if (window._bokeh_is_loading > 0) {\n",
       "        console.log(\"Bokeh: BokehJS is being loaded, scheduling callback at\", now());\n",
       "        return null;\n",
       "      }\n",
       "      if (js_urls == null || js_urls.length === 0) {\n",
       "        run_callbacks();\n",
       "        return null;\n",
       "      }\n",
       "      console.log(\"Bokeh: BokehJS not loaded, scheduling load and callback at\", now());\n",
       "      window._bokeh_is_loading = js_urls.length;\n",
       "      for (var i = 0; i < js_urls.length; i++) {\n",
       "        var url = js_urls[i];\n",
       "        var s = document.createElement('script');\n",
       "        s.src = url;\n",
       "        s.async = false;\n",
       "        s.onreadystatechange = s.onload = function() {\n",
       "          window._bokeh_is_loading--;\n",
       "          if (window._bokeh_is_loading === 0) {\n",
       "            console.log(\"Bokeh: all BokehJS libraries loaded\");\n",
       "            run_callbacks()\n",
       "          }\n",
       "        };\n",
       "        s.onerror = function() {\n",
       "          console.warn(\"failed to load library \" + url);\n",
       "        };\n",
       "        console.log(\"Bokeh: injecting script tag for BokehJS library: \", url);\n",
       "        document.getElementsByTagName(\"head\")[0].appendChild(s);\n",
       "      }\n",
       "    };var element = document.getElementById(\"899fe625-4e23-49bf-bdf1-22047bea0db2\");\n",
       "    if (element == null) {\n",
       "      console.log(\"Bokeh: ERROR: autoload.js configured with elementid '899fe625-4e23-49bf-bdf1-22047bea0db2' but no matching script tag was found. \")\n",
       "      return false;\n",
       "    }\n",
       "  \n",
       "    var js_urls = [];\n",
       "  \n",
       "    var inline_js = [\n",
       "      function(Bokeh) {\n",
       "        Bokeh.$(function() {\n",
       "            var docs_json = {\"a581743d-49d1-4864-9e31-c989fb794a9a\":{\"roots\":{\"references\":[{\"attributes\":{\"data_source\":{\"id\":\"5d690ce0-df91-42df-9350-92d87dac2207\",\"type\":\"ColumnDataSource\"},\"glyph\":{\"id\":\"f066b924-674c-4490-87ca-9b29ffe0cfbb\",\"type\":\"Line\"},\"hover_glyph\":null,\"nonselection_glyph\":{\"id\":\"baba6f90-f8a1-4ce4-8293-632af84dff0d\",\"type\":\"Line\"},\"selection_glyph\":null},\"id\":\"07705521-1d04-41c0-8492-9390a5ad5654\",\"type\":\"GlyphRenderer\"},{\"attributes\":{},\"id\":\"76273a66-fecb-4d72-a9c9-26eca06dcbe5\",\"type\":\"BasicTicker\"},{\"attributes\":{\"line_color\":{\"value\":\"red\"},\"line_dash\":[6],\"x\":{\"field\":\"x\"},\"y\":{\"field\":\"y\"}},\"id\":\"9d5bb165-bd22-4a67-bf7c-3af6a25ff0bf\",\"type\":\"Line\"},{\"attributes\":{\"callback\":null,\"column_names\":[\"x\",\"y\"],\"data\":{\"x\":[4.756860975439989,4.756860975439989],\"y\":[0,1]}},\"id\":\"3a1b865b-6f23-4291-b9bc-e4eedfad0aad\",\"type\":\"ColumnDataSource\"},{\"attributes\":{\"formatter\":{\"id\":\"9762e2be-b17f-4b70-ba16-e73d3531694c\",\"type\":\"BasicTickFormatter\"},\"plot\":{\"id\":\"71dcb7b1-2400-4d9b-899a-759184f29257\",\"subtype\":\"Figure\",\"type\":\"Plot\"},\"ticker\":{\"id\":\"76273a66-fecb-4d72-a9c9-26eca06dcbe5\",\"type\":\"BasicTicker\"}},\"id\":\"a39c091d-36e3-4468-b8cb-42c8f8ce5c64\",\"type\":\"LinearAxis\"},{\"attributes\":{\"callback\":null,\"column_names\":[\"x\",\"y\"],\"data\":{\"x\":[5.843139024560011,5.843139024560011],\"y\":[0,1]}},\"id\":\"cbc4d9b9-5a69-417c-9e8d-5544db63bbf8\",\"type\":\"ColumnDataSource\"},{\"attributes\":{\"plot\":{\"id\":\"71dcb7b1-2400-4d9b-899a-759184f29257\",\"subtype\":\"Figure\",\"type\":\"Plot\"},\"ticker\":{\"id\":\"76273a66-fecb-4d72-a9c9-26eca06dcbe5\",\"type\":\"BasicTicker\"}},\"id\":\"0153594d-5027-4041-a11c-54860215f6f5\",\"type\":\"Grid\"},{\"attributes\":{\"overlay\":{\"id\":\"30256a81-77b3-44bd-8b04-e6d1158310fd\",\"type\":\"BoxAnnotation\"},\"plot\":{\"id\":\"71dcb7b1-2400-4d9b-899a-759184f29257\",\"subtype\":\"Figure\",\"type\":\"Plot\"}},\"id\":\"bff721a4-c1b9-40ca-b5e5-b0be0e4050d2\",\"type\":\"BoxZoomTool\"},{\"attributes\":{\"plot\":{\"id\":\"71dcb7b1-2400-4d9b-899a-759184f29257\",\"subtype\":\"Figure\",\"type\":\"Plot\"}},\"id\":\"c12ff2d6-e69f-4852-8807-a91c9e289f45\",\"type\":\"PanTool\"},{\"attributes\":{},\"id\":\"d0e2d89f-144f-453f-beb1-aa807ecccf05\",\"type\":\"BasicTickFormatter\"},{\"attributes\":{},\"id\":\"9762e2be-b17f-4b70-ba16-e73d3531694c\",\"type\":\"BasicTickFormatter\"},{\"attributes\":{},\"id\":\"021accaf-6dbf-4f29-a9f2-0fae3d673ffc\",\"type\":\"BasicTicker\"},{\"attributes\":{\"callback\":null,\"column_names\":[\"left\",\"right\",\"top\"],\"data\":{\"left\":[4.8,4.826,4.851999999999999,4.878,4.904,4.93,4.9559999999999995,4.982,5.008,5.034,5.06,5.085999999999999,5.112,5.138,5.164,5.1899999999999995,5.215999999999999,5.242,5.268,5.294,5.319999999999999,5.346,5.372,5.398,5.4239999999999995,5.449999999999999,5.476,5.502,5.528,5.553999999999999,5.58,5.606,5.632,5.6579999999999995,5.683999999999999,5.71,5.736,5.762,5.787999999999999,5.814,5.84,5.866,5.8919999999999995,5.917999999999999,5.943999999999999,5.97,5.9959999999999996,6.021999999999999,6.048,6.074],\"right\":[4.826,4.851999999999999,4.878,4.904,4.93,4.9559999999999995,4.982,5.008,5.034,5.06,5.085999999999999,5.112,5.138,5.164,5.1899999999999995,5.215999999999999,5.242,5.268,5.294,5.319999999999999,5.346,5.372,5.398,5.4239999999999995,5.449999999999999,5.476,5.502,5.528,5.553999999999999,5.58,5.606,5.632,5.6579999999999995,5.683999999999999,5.71,5.736,5.762,5.787999999999999,5.814,5.84,5.866,5.8919999999999995,5.917999999999999,5.943999999999999,5.97,5.9959999999999996,6.021999999999999,6.048,6.074,6.1],\"top\":[1,0,0,1,0,0,0,0,0,0,0,1,0,0,0,0,0,0,0,0,0,0,0,0,0,0,0,0,0,0,1,0,0,0,0,0,0,0,0,0,0,0,0,0,0,0,0,0,0,1]}},\"id\":\"2bb28e7e-6e82-40b6-84ce-9d62c15cd34b\",\"type\":\"ColumnDataSource\"},{\"attributes\":{},\"id\":\"56d65dd8-0686-40ea-8ffa-d7ad52f9342d\",\"type\":\"ToolEvents\"},{\"attributes\":{\"data_source\":{\"id\":\"2bb28e7e-6e82-40b6-84ce-9d62c15cd34b\",\"type\":\"ColumnDataSource\"},\"glyph\":{\"id\":\"b043244b-9a08-4f14-b347-87201092a196\",\"type\":\"Quad\"},\"hover_glyph\":null,\"nonselection_glyph\":{\"id\":\"b6691d5f-1001-44d1-8dfd-1aa17973cf21\",\"type\":\"Quad\"},\"selection_glyph\":null},\"id\":\"29ebd8c7-9846-432c-9db6-125040da6026\",\"type\":\"GlyphRenderer\"},{\"attributes\":{\"active_drag\":\"auto\",\"active_scroll\":\"auto\",\"active_tap\":\"auto\",\"tools\":[{\"id\":\"0abcd95f-2ba1-44be-9305-ab4e05ef3992\",\"type\":\"SaveTool\"},{\"id\":\"c12ff2d6-e69f-4852-8807-a91c9e289f45\",\"type\":\"PanTool\"},{\"id\":\"bff721a4-c1b9-40ca-b5e5-b0be0e4050d2\",\"type\":\"BoxZoomTool\"},{\"id\":\"815323c5-a435-46a7-bf9f-9afae3ddf2fe\",\"type\":\"WheelZoomTool\"},{\"id\":\"8675554c-b873-453a-9286-c60ea4ad6acf\",\"type\":\"ResetTool\"}]},\"id\":\"a28ad762-b18f-4350-8a1f-ad7109713bc8\",\"type\":\"Toolbar\"},{\"attributes\":{\"bottom\":{\"value\":0},\"fill_alpha\":{\"value\":0.1},\"fill_color\":{\"value\":\"#1f77b4\"},\"left\":{\"field\":\"left\"},\"line_alpha\":{\"value\":0.1},\"line_color\":{\"value\":\"#1f77b4\"},\"right\":{\"field\":\"right\"},\"top\":{\"field\":\"top\"}},\"id\":\"b6691d5f-1001-44d1-8dfd-1aa17973cf21\",\"type\":\"Quad\"},{\"attributes\":{\"line_alpha\":{\"value\":0.1},\"line_color\":{\"value\":\"#1f77b4\"},\"line_dash\":[6],\"x\":{\"field\":\"x\"},\"y\":{\"field\":\"y\"}},\"id\":\"0d2cf6da-ef96-4022-88b6-1f23d44532a2\",\"type\":\"Line\"},{\"attributes\":{\"plot\":{\"id\":\"71dcb7b1-2400-4d9b-899a-759184f29257\",\"subtype\":\"Figure\",\"type\":\"Plot\"}},\"id\":\"0abcd95f-2ba1-44be-9305-ab4e05ef3992\",\"type\":\"SaveTool\"},{\"attributes\":{\"data_source\":{\"id\":\"3a1b865b-6f23-4291-b9bc-e4eedfad0aad\",\"type\":\"ColumnDataSource\"},\"glyph\":{\"id\":\"9d5bb165-bd22-4a67-bf7c-3af6a25ff0bf\",\"type\":\"Line\"},\"hover_glyph\":null,\"nonselection_glyph\":{\"id\":\"323e4c80-f11a-4610-913e-6bc94793dd69\",\"type\":\"Line\"},\"selection_glyph\":null},\"id\":\"81379c9c-8095-4b37-9e72-b9845754df9a\",\"type\":\"GlyphRenderer\"},{\"attributes\":{\"background_fill_color\":{\"value\":\"#FFFFFF\"},\"below\":[{\"id\":\"a39c091d-36e3-4468-b8cb-42c8f8ce5c64\",\"type\":\"LinearAxis\"}],\"left\":[{\"id\":\"9743ffa2-0f61-413e-bd21-f91a3485cec4\",\"type\":\"LinearAxis\"}],\"renderers\":[{\"id\":\"a39c091d-36e3-4468-b8cb-42c8f8ce5c64\",\"type\":\"LinearAxis\"},{\"id\":\"0153594d-5027-4041-a11c-54860215f6f5\",\"type\":\"Grid\"},{\"id\":\"9743ffa2-0f61-413e-bd21-f91a3485cec4\",\"type\":\"LinearAxis\"},{\"id\":\"1ba6c3d2-36f7-4152-93e9-f04c36cc7860\",\"type\":\"Grid\"},{\"id\":\"30256a81-77b3-44bd-8b04-e6d1158310fd\",\"type\":\"BoxAnnotation\"},{\"id\":\"29ebd8c7-9846-432c-9db6-125040da6026\",\"type\":\"GlyphRenderer\"},{\"id\":\"07705521-1d04-41c0-8492-9390a5ad5654\",\"type\":\"GlyphRenderer\"},{\"id\":\"81379c9c-8095-4b37-9e72-b9845754df9a\",\"type\":\"GlyphRenderer\"},{\"id\":\"64190359-1034-432e-b3df-bdd7c7d3b100\",\"type\":\"GlyphRenderer\"}],\"title\":{\"id\":\"965bc5b2-b0c5-43d2-8a5b-b4a5e4a49cf4\",\"type\":\"Title\"},\"tool_events\":{\"id\":\"56d65dd8-0686-40ea-8ffa-d7ad52f9342d\",\"type\":\"ToolEvents\"},\"toolbar\":{\"id\":\"a28ad762-b18f-4350-8a1f-ad7109713bc8\",\"type\":\"Toolbar\"},\"x_range\":{\"id\":\"2756ebd3-07f2-4c99-aa2c-af60bf5e508d\",\"type\":\"DataRange1d\"},\"y_range\":{\"id\":\"b5de3e33-d02c-4edf-946e-b4c6615e1c36\",\"type\":\"DataRange1d\"}},\"id\":\"71dcb7b1-2400-4d9b-899a-759184f29257\",\"subtype\":\"Figure\",\"type\":\"Plot\"},{\"attributes\":{\"line_alpha\":{\"value\":0.1},\"line_color\":{\"value\":\"#1f77b4\"},\"x\":{\"field\":\"x\"},\"y\":{\"field\":\"y\"}},\"id\":\"baba6f90-f8a1-4ce4-8293-632af84dff0d\",\"type\":\"Line\"},{\"attributes\":{\"callback\":null,\"column_names\":[\"x\",\"y\"],\"data\":{\"x\":[5.3,5.3],\"y\":[0.0,1.1]}},\"id\":\"5d690ce0-df91-42df-9350-92d87dac2207\",\"type\":\"ColumnDataSource\"},{\"attributes\":{\"dimension\":1,\"plot\":{\"id\":\"71dcb7b1-2400-4d9b-899a-759184f29257\",\"subtype\":\"Figure\",\"type\":\"Plot\"},\"ticker\":{\"id\":\"021accaf-6dbf-4f29-a9f2-0fae3d673ffc\",\"type\":\"BasicTicker\"}},\"id\":\"1ba6c3d2-36f7-4152-93e9-f04c36cc7860\",\"type\":\"Grid\"},{\"attributes\":{\"callback\":null},\"id\":\"b5de3e33-d02c-4edf-946e-b4c6615e1c36\",\"type\":\"DataRange1d\"},{\"attributes\":{\"plot\":null,\"text\":\"unnamed_var6 Histogram\"},\"id\":\"965bc5b2-b0c5-43d2-8a5b-b4a5e4a49cf4\",\"type\":\"Title\"},{\"attributes\":{\"bottom_units\":\"screen\",\"fill_alpha\":{\"value\":0.5},\"fill_color\":{\"value\":\"lightgrey\"},\"left_units\":\"screen\",\"level\":\"overlay\",\"line_alpha\":{\"value\":1.0},\"line_color\":{\"value\":\"black\"},\"line_dash\":[4,4],\"line_width\":{\"value\":2},\"plot\":null,\"render_mode\":\"css\",\"right_units\":\"screen\",\"top_units\":\"screen\"},\"id\":\"30256a81-77b3-44bd-8b04-e6d1158310fd\",\"type\":\"BoxAnnotation\"},{\"attributes\":{\"line_color\":{\"value\":\"red\"},\"line_dash\":[6],\"x\":{\"field\":\"x\"},\"y\":{\"field\":\"y\"}},\"id\":\"66d00027-f302-4631-a0b5-e967713cc60d\",\"type\":\"Line\"},{\"attributes\":{\"bottom\":{\"value\":0},\"fill_color\":{\"value\":\"#036564\"},\"left\":{\"field\":\"left\"},\"line_color\":{\"value\":\"#033649\"},\"right\":{\"field\":\"right\"},\"top\":{\"field\":\"top\"}},\"id\":\"b043244b-9a08-4f14-b347-87201092a196\",\"type\":\"Quad\"},{\"attributes\":{\"plot\":{\"id\":\"71dcb7b1-2400-4d9b-899a-759184f29257\",\"subtype\":\"Figure\",\"type\":\"Plot\"}},\"id\":\"815323c5-a435-46a7-bf9f-9afae3ddf2fe\",\"type\":\"WheelZoomTool\"},{\"attributes\":{\"line_color\":{\"value\":\"red\"},\"x\":{\"field\":\"x\"},\"y\":{\"field\":\"y\"}},\"id\":\"f066b924-674c-4490-87ca-9b29ffe0cfbb\",\"type\":\"Line\"},{\"attributes\":{\"plot\":{\"id\":\"71dcb7b1-2400-4d9b-899a-759184f29257\",\"subtype\":\"Figure\",\"type\":\"Plot\"}},\"id\":\"8675554c-b873-453a-9286-c60ea4ad6acf\",\"type\":\"ResetTool\"},{\"attributes\":{\"formatter\":{\"id\":\"d0e2d89f-144f-453f-beb1-aa807ecccf05\",\"type\":\"BasicTickFormatter\"},\"plot\":{\"id\":\"71dcb7b1-2400-4d9b-899a-759184f29257\",\"subtype\":\"Figure\",\"type\":\"Plot\"},\"ticker\":{\"id\":\"021accaf-6dbf-4f29-a9f2-0fae3d673ffc\",\"type\":\"BasicTicker\"}},\"id\":\"9743ffa2-0f61-413e-bd21-f91a3485cec4\",\"type\":\"LinearAxis\"},{\"attributes\":{\"callback\":null},\"id\":\"2756ebd3-07f2-4c99-aa2c-af60bf5e508d\",\"type\":\"DataRange1d\"},{\"attributes\":{\"line_alpha\":{\"value\":0.1},\"line_color\":{\"value\":\"#1f77b4\"},\"line_dash\":[6],\"x\":{\"field\":\"x\"},\"y\":{\"field\":\"y\"}},\"id\":\"323e4c80-f11a-4610-913e-6bc94793dd69\",\"type\":\"Line\"},{\"attributes\":{\"data_source\":{\"id\":\"cbc4d9b9-5a69-417c-9e8d-5544db63bbf8\",\"type\":\"ColumnDataSource\"},\"glyph\":{\"id\":\"66d00027-f302-4631-a0b5-e967713cc60d\",\"type\":\"Line\"},\"hover_glyph\":null,\"nonselection_glyph\":{\"id\":\"0d2cf6da-ef96-4022-88b6-1f23d44532a2\",\"type\":\"Line\"},\"selection_glyph\":null},\"id\":\"64190359-1034-432e-b3df-bdd7c7d3b100\",\"type\":\"GlyphRenderer\"}],\"root_ids\":[\"71dcb7b1-2400-4d9b-899a-759184f29257\"]},\"title\":\"Bokeh Application\",\"version\":\"0.12.1\"}};\n",
       "            var render_items = [{\"docid\":\"a581743d-49d1-4864-9e31-c989fb794a9a\",\"elementid\":\"899fe625-4e23-49bf-bdf1-22047bea0db2\",\"modelid\":\"71dcb7b1-2400-4d9b-899a-759184f29257\",\"notebook_comms_target\":\"ea51dabe-f56a-4dcf-a901-fbe960ec0580\"}];\n",
       "            \n",
       "            Bokeh.embed.embed_items(docs_json, render_items);\n",
       "        });\n",
       "      },\n",
       "      function(Bokeh) {\n",
       "      }\n",
       "    ];\n",
       "  \n",
       "    function run_inline_js() {\n",
       "      for (var i = 0; i < inline_js.length; i++) {\n",
       "        inline_js[i](window.Bokeh);\n",
       "      }\n",
       "    }\n",
       "  \n",
       "    if (window._bokeh_is_loading === 0) {\n",
       "      console.log(\"Bokeh: BokehJS loaded, going straight to plotting\");\n",
       "      run_inline_js();\n",
       "    } else {\n",
       "      load_libs(js_urls, function() {\n",
       "        console.log(\"Bokeh: BokehJS plotting callback run at\", now());\n",
       "        run_inline_js();\n",
       "      });\n",
       "    }\n",
       "  }(this));\n",
       "</script>"
      ]
     },
     "metadata": {},
     "output_type": "display_data"
    },
    {
     "data": {
      "text/plain": [
       "<bokeh.plotting.figure.Figure at 0x1d2696dfe48>"
      ]
     },
     "execution_count": 11,
     "metadata": {},
     "output_type": "execute_result"
    }
   ],
   "source": [
    "T.show_histogram()"
   ]
  },
  {
   "cell_type": "markdown",
   "metadata": {},
   "source": [
    "## Multiple measurements (Arrays of Measurements)\n",
    "QExPy can also handle the case of having multiple measurements, when each measurement has its own uncertainty. For example, if you have three measurements of a single quantity, in order to get an average value, you should weight each measurement by its uncertainty (or rather the weight should be 1 over the square of the uncertainty). This is handled by the MeasurementArray class:"
   ]
  },
  {
   "cell_type": "code",
   "execution_count": 12,
   "metadata": {
    "collapsed": false
   },
   "outputs": [
    {
     "name": "stdout",
     "output_type": "stream",
     "text": [
      "g_0 = 9.8000 +/- 0.2000 [m/s^2],\n",
      "g_1 = 14.000 +/- 3.000 [m/s^2],\n",
      "g_2 = 9.9000 +/- 0.1000 [m/s^2]\n",
      "The mean is  11.2333333333\n",
      "The error weighted mean is  9.72815 +/- 0.08870\n"
     ]
    }
   ],
   "source": [
    "gvals = q.MeasurementArray([(9.8,0.2), (14,3) , (9.9,0.1)], name=\"g\", units='m/s^2') \n",
    "print(gvals)\n",
    "print(\"The mean is \",gvals.get_mean())\n",
    "print(\"The error weighted mean is \",gvals.get_error_weighted_mean())"
   ]
  },
  {
   "cell_type": "markdown",
   "metadata": {},
   "source": [
    "The MeasurementArray object truly is an array of Measurement objects, so individual measurements can be retrieved (remember that the first element in an array in python has index 0 not 1, so element 1 is the second element):"
   ]
  },
  {
   "cell_type": "code",
   "execution_count": 13,
   "metadata": {
    "collapsed": false
   },
   "outputs": [
    {
     "name": "stdout",
     "output_type": "stream",
     "text": [
      "g_1 = 14.000 +/- 3.000 [m/s^2]\n"
     ]
    }
   ],
   "source": [
    "print(gvals[1])"
   ]
  },
  {
   "cell_type": "markdown",
   "metadata": {},
   "source": [
    "## Error propagation methods\n",
    "\n",
    "### Derivative method (default)\n",
    "By default, QExPy propagates the uncertainties using the \"derivative\" method. That is, for a function, $f(x,y)$, that depends on measured quantities $x\\pm\\sigma_x$ and $y\\pm\\sigma_y$, with covariance $\\sigma_{xy}$ between the two measured quantities, the uncertainty in $f$ is given by:\n",
    "$$ \\sigma_f = \\sqrt{ \\left(\\frac{\\partial f}{\\partial x} \\sigma_x \\right)^2 + \\left(\\frac{\\partial f}{\\partial y} \\sigma_y \\right)^2 + 2 \\frac{\\partial f}{\\partial x} \\frac{\\partial f}{\\partial y}\\sigma_{xy} }$$\n",
    "\n",
    "QExPy evaluates the derivatives exactly when propagating the uncertainties using an algorithm called \"automatic differentiation\". This is possible as QExPy internally keeps track of the dependency of quantities on each other, and as an added bonus can also be used to evaluate numerical derivatives exactly. Although the derivative method is commonly taught in undergraduate laboratories, it is only valid when the relative uncertainties in the quantities being propagated are small (e.g. less than ~10% relative uncertainty). This method is thus not strongly encouraged, although it has been made the default because it is so prevalent in undergraduate teaching. \n",
    "\n",
    "\n",
    "### Min-Max method (not recommended)\n",
    "This is not the only way to propagate the uncertainty in $f$. For example, the \"Min-Max\" method, is a method to yield a more conservative (larger) estimate of the uncertainty in $f$ and is often used in introductory courses. The Min-Max method defines the central value and uncertainty in $f$ as:\n",
    "$$f=\\frac{1}{2}(f^{max}+f^{min})$$\n",
    "$$\\sigma_f=\\frac{1}{2}(f^{max}-f^{min})$$\n",
    "\n",
    "where $f^{max}$ ($f^{min}$) is the maximum (minimum) value that $f$ takes when $x$ and $y$ are varied within their uncertainty range. For example, if $f(x,y)=x+y$, then the maximum and minimum of $f$ are easily found:\n",
    "\n",
    "$$f^{max} = (x+\\sigma_x)+(y+\\sigma_y)$$\n",
    "$$f^{min} = (x-\\sigma_x)-(y-\\sigma_y)$$\n",
    "\n",
    "The Min-Max method actually requires a numerical approximation to evaluate the values of $f^{max}$ and $f^{min}$ for all but the most simple cases. Hence although it is a good method to introduce the idea of uncertainty propagation, it is not recommended to use this method in any serious calculation (it also does not take correlations into account). \n",
    "\n",
    "### Monte Carlo method (recommended!)\n",
    "Finally, the recommended method to propagate errors is the \"Monte-Carlo\" method, although it is the hardest to understand. The MC method is based on a statiscal understanding of the measurements. In the QExPy implementation, currently, the main assumptions is that the uncertainty in a quantity is given by a \"standard error\"; that is, if $x = 10\\pm 1$, then we *assume* that this error and uncertainty should be interpreted as: \"if we measure $x$ multiple times, we will obtain a set of measurements that are normally distributed with a mean of 10 and a standard deviation of 1\". In other words, we assume that $x$ has a 68% chance of being in the range between 9 and 11.\n",
    "\n",
    "\n",
    "The MC method then uses the assumption that measured quantities are normally distributed and use this to propagate the errors by using Monte Carlo simulation. Suppose that we have measured $x$ and $y$ and wish to determine the central value and uncertainty in $x=x+y$. The Monte Carlo method will generate normally distributed random values for $x$ and $y$ (the random numbers will be correctly correlated if the user has indicated that $x$ and $y$ are correlated), then it will add those random values together, to obtain a set of values for $z$. The mean and standard deviation of the random values for $z$ are taken as the central value and uncertainty in $z$. \n",
    "\n",
    "## What QExPy actually does\n",
    "Although the user appears to choose the method used to propagate the errors, QExPy always uses all three methods behind the scenes and the user only decides which method to print out. This allows QExPy to compare the results behind the scenes, in particular, to inform the users that the uncertainties using a particular method (e.g. derivative) may be inaccurate and to suggest that the user choose a different method. \n",
    "\n",
    "## Example\n",
    "Below, we illustrate an example of using the different methods to propagate the uncertainty in the Coulomb force based on the measurement of two charges, $q_1$ and $q_2$, and the distance between them, $r$. We illustrate how the derivative method does not give the correct answer if the relative uncertainties in the measured quantities are large. \n",
    "\n",
    "### 1 % relative uncertainty calculation\n"
   ]
  },
  {
   "cell_type": "code",
   "execution_count": 14,
   "metadata": {
    "collapsed": false
   },
   "outputs": [
    {
     "name": "stdout",
     "output_type": "stream",
     "text": [
      "Derivative method, F =  18.0000 +/- 0.4409\n",
      "Min-Max method, F = 18.0144 +/- 0.7202\n",
      "Monte Carlo method, F = 18.0033 +/- 0.4409\n"
     ]
    }
   ],
   "source": [
    "#Measurements with 1% relative uncertainties:\n",
    "relative_factor = 0.01 \n",
    "\n",
    "#Measured values\n",
    "q1m=1e-6\n",
    "q2m=2e-5\n",
    "rm=0.1\n",
    "\n",
    "#Convert to Measurement objects\n",
    "q1 = q.Measurement(q1m,relative_factor*q1m)\n",
    "q2 = q.Measurement(q2m,relative_factor*q2m)\n",
    "r = q.Measurement(rm,relative_factor*rm)\n",
    "#Coulomb's constant:\n",
    "k = 9e9 \n",
    "\n",
    "#Define the Force:\n",
    "F = k*q1*q2/r**2\n",
    "\n",
    "#Print out the different errors\n",
    "q.set_error_method(\"derivative\")\n",
    "print(\"Derivative method, F = \",F)\n",
    "q.set_error_method(\"minmax\")\n",
    "print(\"Min-Max method, F =\", F)\n",
    "q.set_error_method(\"mc\")\n",
    "print(\"Monte Carlo method, F =\",F)\n",
    "\n"
   ]
  },
  {
   "cell_type": "markdown",
   "metadata": {},
   "source": [
    "### 10 % relative uncertainty calculation\n",
    "We see that in this case, the Monte Carlo method returns a different uncertainty than the derivative method, because the derivative method is incorrect when the uncertainties are this large."
   ]
  },
  {
   "cell_type": "code",
   "execution_count": 15,
   "metadata": {
    "collapsed": false,
    "scrolled": false
   },
   "outputs": [
    {
     "name": "stdout",
     "output_type": "stream",
     "text": [
      "Derivative method, F =  18.000 +/- 4.409\n",
      "Min-Max method, F = 19.469 +/- 7.420\n",
      "Monte Carlo method, F = 18.581 +/- 4.807\n"
     ]
    },
    {
     "data": {
      "text/html": [
       "\n",
       "\n",
       "    <div class=\"bk-root\">\n",
       "        <div class=\"plotdiv\" id=\"ea38cdf6-ff45-4314-be3e-14f1e83613a2\"></div>\n",
       "    </div>\n",
       "<script type=\"text/javascript\">\n",
       "  \n",
       "  (function(global) {\n",
       "    function now() {\n",
       "      return new Date();\n",
       "    }\n",
       "  \n",
       "    var force = \"\";\n",
       "  \n",
       "    if (typeof (window._bokeh_onload_callbacks) === \"undefined\" || force !== \"\") {\n",
       "      window._bokeh_onload_callbacks = [];\n",
       "      window._bokeh_is_loading = undefined;\n",
       "    }\n",
       "  \n",
       "    function run_callbacks() {\n",
       "      window._bokeh_onload_callbacks.forEach(function(callback) { callback() });\n",
       "      delete window._bokeh_onload_callbacks\n",
       "      console.info(\"Bokeh: all callbacks have finished\");\n",
       "    }\n",
       "  \n",
       "    function load_libs(js_urls, callback) {\n",
       "      window._bokeh_onload_callbacks.push(callback);\n",
       "      if (window._bokeh_is_loading > 0) {\n",
       "        console.log(\"Bokeh: BokehJS is being loaded, scheduling callback at\", now());\n",
       "        return null;\n",
       "      }\n",
       "      if (js_urls == null || js_urls.length === 0) {\n",
       "        run_callbacks();\n",
       "        return null;\n",
       "      }\n",
       "      console.log(\"Bokeh: BokehJS not loaded, scheduling load and callback at\", now());\n",
       "      window._bokeh_is_loading = js_urls.length;\n",
       "      for (var i = 0; i < js_urls.length; i++) {\n",
       "        var url = js_urls[i];\n",
       "        var s = document.createElement('script');\n",
       "        s.src = url;\n",
       "        s.async = false;\n",
       "        s.onreadystatechange = s.onload = function() {\n",
       "          window._bokeh_is_loading--;\n",
       "          if (window._bokeh_is_loading === 0) {\n",
       "            console.log(\"Bokeh: all BokehJS libraries loaded\");\n",
       "            run_callbacks()\n",
       "          }\n",
       "        };\n",
       "        s.onerror = function() {\n",
       "          console.warn(\"failed to load library \" + url);\n",
       "        };\n",
       "        console.log(\"Bokeh: injecting script tag for BokehJS library: \", url);\n",
       "        document.getElementsByTagName(\"head\")[0].appendChild(s);\n",
       "      }\n",
       "    };var element = document.getElementById(\"ea38cdf6-ff45-4314-be3e-14f1e83613a2\");\n",
       "    if (element == null) {\n",
       "      console.log(\"Bokeh: ERROR: autoload.js configured with elementid 'ea38cdf6-ff45-4314-be3e-14f1e83613a2' but no matching script tag was found. \")\n",
       "      return false;\n",
       "    }\n",
       "  \n",
       "    var js_urls = [];\n",
       "  \n",
       "    var inline_js = [\n",
       "      function(Bokeh) {\n",
       "        Bokeh.$(function() {\n",
       "            var docs_json = {\"187ec597-a4f7-4ab8-bf37-fff396564a5b\":{\"roots\":{\"references\":[{\"attributes\":{\"line_alpha\":{\"value\":0.1},\"line_color\":{\"value\":\"#1f77b4\"},\"line_dash\":[6],\"x\":{\"field\":\"x\"},\"y\":{\"field\":\"y\"}},\"id\":\"a3dad6dc-42d0-45d7-9acb-b1f0ad01d9f7\",\"type\":\"Line\"},{\"attributes\":{\"data_source\":{\"id\":\"c8369b82-ec82-41d7-959b-86b636ed1d09\",\"type\":\"ColumnDataSource\"},\"glyph\":{\"id\":\"95ec5c0f-4079-41d5-a038-5d47c2d53620\",\"type\":\"Line\"},\"hover_glyph\":null,\"nonselection_glyph\":{\"id\":\"a53f7e14-6cfa-48da-9146-2009e58e5165\",\"type\":\"Line\"},\"selection_glyph\":null},\"id\":\"d44c30d1-a430-448c-9d45-b7ed47ccf803\",\"type\":\"GlyphRenderer\"},{\"attributes\":{\"formatter\":{\"id\":\"6ea72114-91c1-46c0-ba8f-b9785ce96342\",\"type\":\"BasicTickFormatter\"},\"plot\":{\"id\":\"17b8e196-f4a4-45e4-b77b-88c606676f29\",\"subtype\":\"Figure\",\"type\":\"Plot\"},\"ticker\":{\"id\":\"818f6232-c110-41f8-a0de-455105af532d\",\"type\":\"BasicTicker\"}},\"id\":\"0558a7a2-08e0-435a-ace0-b2c88392fb8a\",\"type\":\"LinearAxis\"},{\"attributes\":{\"line_color\":{\"value\":\"red\"},\"line_dash\":[6],\"x\":{\"field\":\"x\"},\"y\":{\"field\":\"y\"}},\"id\":\"028a1894-e952-4ffa-9b46-43ad33eabc3f\",\"type\":\"Line\"},{\"attributes\":{\"data_source\":{\"id\":\"39b66307-ca55-4e93-946a-61e65f0bcc61\",\"type\":\"ColumnDataSource\"},\"glyph\":{\"id\":\"fdfb5aa6-405e-40c1-a20e-1b266a3d1a90\",\"type\":\"Line\"},\"hover_glyph\":null,\"nonselection_glyph\":{\"id\":\"a3dad6dc-42d0-45d7-9acb-b1f0ad01d9f7\",\"type\":\"Line\"},\"selection_glyph\":null},\"id\":\"6cc1ffe5-9088-45b6-9dfa-534fbc6dbb7c\",\"type\":\"GlyphRenderer\"},{\"attributes\":{\"plot\":{\"id\":\"17b8e196-f4a4-45e4-b77b-88c606676f29\",\"subtype\":\"Figure\",\"type\":\"Plot\"},\"ticker\":{\"id\":\"ddc7ac49-4645-41d0-a679-385c1f4b5d47\",\"type\":\"BasicTicker\"}},\"id\":\"ab9a9dbd-43c2-4aa3-9cfa-3b3a2b563659\",\"type\":\"Grid\"},{\"attributes\":{\"callback\":null,\"column_names\":[\"x\",\"y\"],\"data\":{\"x\":[18.0,18.0],\"y\":[0.0,1097.8000000000002]}},\"id\":\"c8369b82-ec82-41d7-959b-86b636ed1d09\",\"type\":\"ColumnDataSource\"},{\"attributes\":{\"plot\":{\"id\":\"17b8e196-f4a4-45e4-b77b-88c606676f29\",\"subtype\":\"Figure\",\"type\":\"Plot\"}},\"id\":\"7d86c95f-727e-43ce-aa74-d3553d191c32\",\"type\":\"ResetTool\"},{\"attributes\":{\"formatter\":{\"id\":\"aa29deb6-eeaa-488c-b121-e546f41df865\",\"type\":\"BasicTickFormatter\"},\"plot\":{\"id\":\"17b8e196-f4a4-45e4-b77b-88c606676f29\",\"subtype\":\"Figure\",\"type\":\"Plot\"},\"ticker\":{\"id\":\"ddc7ac49-4645-41d0-a679-385c1f4b5d47\",\"type\":\"BasicTicker\"}},\"id\":\"b66b2220-d333-4bb8-b111-6c1a10bcde4e\",\"type\":\"LinearAxis\"},{\"attributes\":{},\"id\":\"818f6232-c110-41f8-a0de-455105af532d\",\"type\":\"BasicTicker\"},{\"attributes\":{\"line_color\":{\"value\":\"red\"},\"line_dash\":[6],\"x\":{\"field\":\"x\"},\"y\":{\"field\":\"y\"}},\"id\":\"fdfb5aa6-405e-40c1-a20e-1b266a3d1a90\",\"type\":\"Line\"},{\"attributes\":{\"callback\":null,\"column_names\":[\"x\",\"y\"],\"data\":{\"x\":[22.40908153700972,22.40908153700972],\"y\":[0,998]}},\"id\":\"39b66307-ca55-4e93-946a-61e65f0bcc61\",\"type\":\"ColumnDataSource\"},{\"attributes\":{\"data_source\":{\"id\":\"599a1c99-f755-438a-b026-8753a572f38b\",\"type\":\"ColumnDataSource\"},\"glyph\":{\"id\":\"acc11d17-2bf9-4e9c-8866-27f37e406862\",\"type\":\"Quad\"},\"hover_glyph\":null,\"nonselection_glyph\":{\"id\":\"0d147352-662e-49ba-be02-f2d9bcc71bb4\",\"type\":\"Quad\"},\"selection_glyph\":null},\"id\":\"bb8817c4-8f5e-424d-b5a9-9c39b4d27cb2\",\"type\":\"GlyphRenderer\"},{\"attributes\":{\"bottom\":{\"value\":0},\"fill_alpha\":{\"value\":0.1},\"fill_color\":{\"value\":\"#1f77b4\"},\"left\":{\"field\":\"left\"},\"line_alpha\":{\"value\":0.1},\"line_color\":{\"value\":\"#1f77b4\"},\"right\":{\"field\":\"right\"},\"top\":{\"field\":\"top\"}},\"id\":\"0d147352-662e-49ba-be02-f2d9bcc71bb4\",\"type\":\"Quad\"},{\"attributes\":{\"plot\":{\"id\":\"17b8e196-f4a4-45e4-b77b-88c606676f29\",\"subtype\":\"Figure\",\"type\":\"Plot\"}},\"id\":\"10dfffc7-2d31-462a-9374-27c0ea68f82a\",\"type\":\"WheelZoomTool\"},{\"attributes\":{},\"id\":\"6ea72114-91c1-46c0-ba8f-b9785ce96342\",\"type\":\"BasicTickFormatter\"},{\"attributes\":{\"bottom_units\":\"screen\",\"fill_alpha\":{\"value\":0.5},\"fill_color\":{\"value\":\"lightgrey\"},\"left_units\":\"screen\",\"level\":\"overlay\",\"line_alpha\":{\"value\":1.0},\"line_color\":{\"value\":\"black\"},\"line_dash\":[4,4],\"line_width\":{\"value\":2},\"plot\":null,\"render_mode\":\"css\",\"right_units\":\"screen\",\"top_units\":\"screen\"},\"id\":\"87758b84-08e4-4104-884e-7246417c645f\",\"type\":\"BoxAnnotation\"},{\"attributes\":{\"plot\":{\"id\":\"17b8e196-f4a4-45e4-b77b-88c606676f29\",\"subtype\":\"Figure\",\"type\":\"Plot\"}},\"id\":\"a1b480de-9bb7-48d3-8451-3746763dcce9\",\"type\":\"PanTool\"},{\"attributes\":{},\"id\":\"301a7c92-916f-40a6-ad64-36c7ea2b0b72\",\"type\":\"ToolEvents\"},{\"attributes\":{\"callback\":null,\"column_names\":[\"left\",\"right\",\"top\"],\"data\":{\"left\":[7.248516350538918,8.334882685301881,9.421249020064845,10.507615354827808,11.59398168959077,12.680348024353734,13.766714359116698,14.85308069387966,15.939447028642622,17.025813363405586,18.11217969816855,19.19854603293151,20.284912367694474,21.371278702457438,22.457645037220402,23.544011371983363,24.630377706746327,25.71674404150929,26.803110376272254,27.889476711035215,28.97584304579818,30.062209380561143,31.148575715324103,32.23494205008707,33.321308384850035,34.407674719613,35.49404105437596,36.58040738913892,37.66677372390188,38.75314005866485,39.83950639342781,40.925872728190775,42.01223906295374,43.0986053977167,44.18497173247967,45.27133806724263,46.357704402005595,47.44407073676855,48.530437071531516,49.61680340629448,50.703169741057444,51.78953607582041,52.87590241058337,53.962268745346336,55.04863508010929,56.13500141487226,57.22136774963522,58.307734084398184,59.39410041916115,60.48046675392411],\"right\":[8.334882685301881,9.421249020064845,10.507615354827808,11.59398168959077,12.680348024353734,13.766714359116698,14.85308069387966,15.939447028642622,17.025813363405586,18.11217969816855,19.19854603293151,20.284912367694474,21.371278702457438,22.457645037220402,23.544011371983363,24.630377706746327,25.71674404150929,26.803110376272254,27.889476711035215,28.97584304579818,30.062209380561143,31.148575715324103,32.23494205008707,33.321308384850035,34.407674719613,35.49404105437596,36.58040738913892,37.66677372390188,38.75314005866485,39.83950639342781,40.925872728190775,42.01223906295374,43.0986053977167,44.18497173247967,45.27133806724263,46.357704402005595,47.44407073676855,48.530437071531516,49.61680340629448,50.703169741057444,51.78953607582041,52.87590241058337,53.962268745346336,55.04863508010929,56.13500141487226,57.22136774963522,58.307734084398184,59.39410041916115,60.48046675392411,61.566833088687076],\"top\":[5,30,94,207,417,651,831,970,998,953,955,804,650,584,425,354,290,207,134,121,102,56,36,29,36,17,7,10,5,3,5,3,1,4,1,2,0,2,0,0,0,0,0,0,0,0,0,0,0,1]}},\"id\":\"599a1c99-f755-438a-b026-8753a572f38b\",\"type\":\"ColumnDataSource\"},{\"attributes\":{\"plot\":{\"id\":\"17b8e196-f4a4-45e4-b77b-88c606676f29\",\"subtype\":\"Figure\",\"type\":\"Plot\"}},\"id\":\"9f8f6c0d-1379-4007-b068-aed7f14f2fe5\",\"type\":\"SaveTool\"},{\"attributes\":{\"callback\":null,\"column_names\":[\"x\",\"y\"],\"data\":{\"x\":[13.59091846299028,13.59091846299028],\"y\":[0,998]}},\"id\":\"91f3af75-ed99-4043-b02e-e328e1f8748d\",\"type\":\"ColumnDataSource\"},{\"attributes\":{\"data_source\":{\"id\":\"91f3af75-ed99-4043-b02e-e328e1f8748d\",\"type\":\"ColumnDataSource\"},\"glyph\":{\"id\":\"028a1894-e952-4ffa-9b46-43ad33eabc3f\",\"type\":\"Line\"},\"hover_glyph\":null,\"nonselection_glyph\":{\"id\":\"388bed2a-4bb2-47c3-8f9a-5c5f6b3d355d\",\"type\":\"Line\"},\"selection_glyph\":null},\"id\":\"e7ddf243-84f8-41dc-a09f-9f71be267901\",\"type\":\"GlyphRenderer\"},{\"attributes\":{\"callback\":null},\"id\":\"036b28a7-86e5-44b0-b41a-dd812979c893\",\"type\":\"DataRange1d\"},{\"attributes\":{\"overlay\":{\"id\":\"87758b84-08e4-4104-884e-7246417c645f\",\"type\":\"BoxAnnotation\"},\"plot\":{\"id\":\"17b8e196-f4a4-45e4-b77b-88c606676f29\",\"subtype\":\"Figure\",\"type\":\"Plot\"}},\"id\":\"6a741053-4723-434d-8dd8-5ce5e75c77bb\",\"type\":\"BoxZoomTool\"},{\"attributes\":{\"plot\":null,\"text\":\"unnamed_var14*9000000000*unnamed_var15/unnamed_var16**2 Histogram\"},\"id\":\"5119a64c-8ace-4cca-aa24-b7349ba4b3be\",\"type\":\"Title\"},{\"attributes\":{},\"id\":\"ddc7ac49-4645-41d0-a679-385c1f4b5d47\",\"type\":\"BasicTicker\"},{\"attributes\":{\"bottom\":{\"value\":0},\"fill_color\":{\"value\":\"#036564\"},\"left\":{\"field\":\"left\"},\"line_color\":{\"value\":\"#033649\"},\"right\":{\"field\":\"right\"},\"top\":{\"field\":\"top\"}},\"id\":\"acc11d17-2bf9-4e9c-8866-27f37e406862\",\"type\":\"Quad\"},{\"attributes\":{\"dimension\":1,\"plot\":{\"id\":\"17b8e196-f4a4-45e4-b77b-88c606676f29\",\"subtype\":\"Figure\",\"type\":\"Plot\"},\"ticker\":{\"id\":\"818f6232-c110-41f8-a0de-455105af532d\",\"type\":\"BasicTicker\"}},\"id\":\"2aee542d-1aab-49e9-9f42-4d4a8177f333\",\"type\":\"Grid\"},{\"attributes\":{\"background_fill_color\":{\"value\":\"#FFFFFF\"},\"below\":[{\"id\":\"b66b2220-d333-4bb8-b111-6c1a10bcde4e\",\"type\":\"LinearAxis\"}],\"left\":[{\"id\":\"0558a7a2-08e0-435a-ace0-b2c88392fb8a\",\"type\":\"LinearAxis\"}],\"renderers\":[{\"id\":\"b66b2220-d333-4bb8-b111-6c1a10bcde4e\",\"type\":\"LinearAxis\"},{\"id\":\"ab9a9dbd-43c2-4aa3-9cfa-3b3a2b563659\",\"type\":\"Grid\"},{\"id\":\"0558a7a2-08e0-435a-ace0-b2c88392fb8a\",\"type\":\"LinearAxis\"},{\"id\":\"2aee542d-1aab-49e9-9f42-4d4a8177f333\",\"type\":\"Grid\"},{\"id\":\"87758b84-08e4-4104-884e-7246417c645f\",\"type\":\"BoxAnnotation\"},{\"id\":\"bb8817c4-8f5e-424d-b5a9-9c39b4d27cb2\",\"type\":\"GlyphRenderer\"},{\"id\":\"d44c30d1-a430-448c-9d45-b7ed47ccf803\",\"type\":\"GlyphRenderer\"},{\"id\":\"e7ddf243-84f8-41dc-a09f-9f71be267901\",\"type\":\"GlyphRenderer\"},{\"id\":\"6cc1ffe5-9088-45b6-9dfa-534fbc6dbb7c\",\"type\":\"GlyphRenderer\"}],\"title\":{\"id\":\"5119a64c-8ace-4cca-aa24-b7349ba4b3be\",\"type\":\"Title\"},\"tool_events\":{\"id\":\"301a7c92-916f-40a6-ad64-36c7ea2b0b72\",\"type\":\"ToolEvents\"},\"toolbar\":{\"id\":\"ff629d09-bf1b-477a-8638-7966a605fe67\",\"type\":\"Toolbar\"},\"x_range\":{\"id\":\"41a84614-aa8d-434e-83b3-e89bdc130a55\",\"type\":\"DataRange1d\"},\"y_range\":{\"id\":\"036b28a7-86e5-44b0-b41a-dd812979c893\",\"type\":\"DataRange1d\"}},\"id\":\"17b8e196-f4a4-45e4-b77b-88c606676f29\",\"subtype\":\"Figure\",\"type\":\"Plot\"},{\"attributes\":{\"line_color\":{\"value\":\"red\"},\"x\":{\"field\":\"x\"},\"y\":{\"field\":\"y\"}},\"id\":\"95ec5c0f-4079-41d5-a038-5d47c2d53620\",\"type\":\"Line\"},{\"attributes\":{\"active_drag\":\"auto\",\"active_scroll\":\"auto\",\"active_tap\":\"auto\",\"tools\":[{\"id\":\"9f8f6c0d-1379-4007-b068-aed7f14f2fe5\",\"type\":\"SaveTool\"},{\"id\":\"a1b480de-9bb7-48d3-8451-3746763dcce9\",\"type\":\"PanTool\"},{\"id\":\"6a741053-4723-434d-8dd8-5ce5e75c77bb\",\"type\":\"BoxZoomTool\"},{\"id\":\"10dfffc7-2d31-462a-9374-27c0ea68f82a\",\"type\":\"WheelZoomTool\"},{\"id\":\"7d86c95f-727e-43ce-aa74-d3553d191c32\",\"type\":\"ResetTool\"}]},\"id\":\"ff629d09-bf1b-477a-8638-7966a605fe67\",\"type\":\"Toolbar\"},{\"attributes\":{\"callback\":null},\"id\":\"41a84614-aa8d-434e-83b3-e89bdc130a55\",\"type\":\"DataRange1d\"},{\"attributes\":{},\"id\":\"aa29deb6-eeaa-488c-b121-e546f41df865\",\"type\":\"BasicTickFormatter\"},{\"attributes\":{\"line_alpha\":{\"value\":0.1},\"line_color\":{\"value\":\"#1f77b4\"},\"x\":{\"field\":\"x\"},\"y\":{\"field\":\"y\"}},\"id\":\"a53f7e14-6cfa-48da-9146-2009e58e5165\",\"type\":\"Line\"},{\"attributes\":{\"line_alpha\":{\"value\":0.1},\"line_color\":{\"value\":\"#1f77b4\"},\"line_dash\":[6],\"x\":{\"field\":\"x\"},\"y\":{\"field\":\"y\"}},\"id\":\"388bed2a-4bb2-47c3-8f9a-5c5f6b3d355d\",\"type\":\"Line\"}],\"root_ids\":[\"17b8e196-f4a4-45e4-b77b-88c606676f29\"]},\"title\":\"Bokeh Application\",\"version\":\"0.12.1\"}};\n",
       "            var render_items = [{\"docid\":\"187ec597-a4f7-4ab8-bf37-fff396564a5b\",\"elementid\":\"ea38cdf6-ff45-4314-be3e-14f1e83613a2\",\"modelid\":\"17b8e196-f4a4-45e4-b77b-88c606676f29\",\"notebook_comms_target\":\"70c476d4-155f-4bc3-8c87-8628eac6c1d0\"}];\n",
       "            \n",
       "            Bokeh.embed.embed_items(docs_json, render_items);\n",
       "        });\n",
       "      },\n",
       "      function(Bokeh) {\n",
       "      }\n",
       "    ];\n",
       "  \n",
       "    function run_inline_js() {\n",
       "      for (var i = 0; i < inline_js.length; i++) {\n",
       "        inline_js[i](window.Bokeh);\n",
       "      }\n",
       "    }\n",
       "  \n",
       "    if (window._bokeh_is_loading === 0) {\n",
       "      console.log(\"Bokeh: BokehJS loaded, going straight to plotting\");\n",
       "      run_inline_js();\n",
       "    } else {\n",
       "      load_libs(js_urls, function() {\n",
       "        console.log(\"Bokeh: BokehJS plotting callback run at\", now());\n",
       "        run_inline_js();\n",
       "      });\n",
       "    }\n",
       "  }(this));\n",
       "</script>"
      ]
     },
     "metadata": {},
     "output_type": "display_data"
    },
    {
     "data": {
      "text/plain": [
       "<bokeh.plotting.figure.Figure at 0x1d269732470>"
      ]
     },
     "execution_count": 15,
     "metadata": {},
     "output_type": "execute_result"
    }
   ],
   "source": [
    "#Measurements with 10% relative uncertainties:\n",
    "relative_factor = 0.1 \n",
    "\n",
    "#Measured values\n",
    "q1m=1e-6\n",
    "q2m=2e-5\n",
    "rm=0.1\n",
    "\n",
    "#Convert to Measurement objects\n",
    "q1 = q.Measurement(q1m,relative_factor*q1m)\n",
    "q2 = q.Measurement(q2m,relative_factor*q2m)\n",
    "r = q.Measurement(rm,relative_factor*rm)\n",
    "#Coulomb's constant:\n",
    "k = 9e9 \n",
    "\n",
    "#Define the Force:\n",
    "F = k*q1*q2/r**2\n",
    "\n",
    "#Print out the different errors\n",
    "q.set_error_method(\"derivative\")\n",
    "print(\"Derivative method, F = \",F)\n",
    "q.set_error_method(\"minmax\")\n",
    "print(\"Min-Max method, F =\", F)\n",
    "q.set_error_method(\"mc\")\n",
    "print(\"Monte Carlo method, F =\",F)\n",
    "\n",
    "q.plot_engine=\"bokeh\"\n",
    "F.show_MC_histogram()"
   ]
  },
  {
   "cell_type": "markdown",
   "metadata": {},
   "source": [
    "## Printing style and formatting\n",
    "QExPy can print results in different styles, and the user can assign names and units to variables (although one should not rely on units being correctly propagated). If one assigns and name and units to a variable, the print() function will automatically include those when printing out the variable.\n",
    "\n",
    "One can also set the \"print style\" to be either \"Default\", \"Scientific\" or \"Latex\". In the scientific and default styles, QExPy will factor out the powers of 10 to make the central value and uncertainty easier to compare. "
   ]
  },
  {
   "cell_type": "code",
   "execution_count": 16,
   "metadata": {
    "collapsed": false
   },
   "outputs": [
    {
     "name": "stdout",
     "output_type": "stream",
     "text": [
      "distance = (10000 +/- 1220)*10^(-3) [m]\n",
      "distance = (10000 \\pm 1220)*10^{-3}\\,m\n",
      "distance = 10.000 +/- 1.220 [m]\n"
     ]
    }
   ],
   "source": [
    "x = q.Measurement(10,1.22,name=\"distance\", units=\"m\")\n",
    "q.set_print_style(\"Scientific\")\n",
    "print(x)\n",
    "q.set_print_style(\"Latex\")\n",
    "print(x)\n",
    "q.set_print_style(\"Default\")\n",
    "print(x)"
   ]
  },
  {
   "cell_type": "markdown",
   "metadata": {
    "collapsed": false
   },
   "source": [
    "## Exact derivatives\n",
    "Since QExPy needs to be able to evaluate derivatives (by using the automatic differentiation algorithm that exploits the Chain Rule), we can use QExPy to evaluate numerical derivatives exactly. That is, given a function, $f(x,y)$, QExPy can evaluate $\\frac{\\partial f(x,y)}{\\partial x}$ at a given value of $x$ and $y$.\n",
    "\n",
    "For example, if we have:\n",
    "$$x(t) = \\frac{1}{2}gt^2 $$\n",
    "\n",
    "and we have measured $t=8 \\pm 1$, we can evaluate the exact value of the derivative:\n",
    "\n",
    "$$\\frac{\\partial x(t)}{\\partial t} = \\frac{d x(t)}{d t}  = gt$$\n",
    "\n",
    "at $t=8 \\pm 1$\n"
   ]
  },
  {
   "cell_type": "code",
   "execution_count": 17,
   "metadata": {
    "collapsed": false
   },
   "outputs": [
    {
     "name": "stdout",
     "output_type": "stream",
     "text": [
      "78.48\n"
     ]
    }
   ],
   "source": [
    "t = q.Measurement(8,1)\n",
    "x = 0.5 * 9.81 * t**2\n",
    "print(x.get_derivative(t))"
   ]
  },
  {
   "cell_type": "code",
   "execution_count": null,
   "metadata": {
    "collapsed": false
   },
   "outputs": [],
   "source": []
  }
 ],
 "metadata": {
  "anaconda-cloud": {},
  "kernelspec": {
   "display_name": "Python [default]",
   "language": "python",
   "name": "python3"
  },
  "language_info": {
   "codemirror_mode": {
    "name": "ipython",
    "version": 3
   },
   "file_extension": ".py",
   "mimetype": "text/x-python",
   "name": "python",
   "nbconvert_exporter": "python",
   "pygments_lexer": "ipython3",
   "version": "3.5.2"
  }
 },
 "nbformat": 4,
 "nbformat_minor": 0
}
