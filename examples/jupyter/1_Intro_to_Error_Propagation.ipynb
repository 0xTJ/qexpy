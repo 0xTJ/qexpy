{
 "cells": [
  {
   "cell_type": "markdown",
   "metadata": {},
   "source": [
    "# Error Propagation with QExPy\n",
    "\n",
    "The first step is to import the error module for error propagation. We'll import it as \"e\":"
   ]
  },
  {
   "cell_type": "code",
   "execution_count": 1,
   "metadata": {
    "collapsed": false
   },
   "outputs": [
    {
     "data": {
      "text/html": [
       "\n",
       "    <div class=\"bk-root\">\n",
       "        <a href=\"http://bokeh.pydata.org\" target=\"_blank\" class=\"bk-logo bk-logo-small bk-logo-notebook\"></a>\n",
       "        <span id=\"3f2496bb-46e1-46bf-ac8b-d44016f67779\">Loading BokehJS ...</span>\n",
       "    </div>"
      ]
     },
     "metadata": {},
     "output_type": "display_data"
    },
    {
     "data": {
      "application/javascript": [
       "\n",
       "(function(global) {\n",
       "  function now() {\n",
       "    return new Date();\n",
       "  }\n",
       "\n",
       "  var force = \"1\";\n",
       "\n",
       "  if (typeof (window._bokeh_onload_callbacks) === \"undefined\" || force !== \"\") {\n",
       "    window._bokeh_onload_callbacks = [];\n",
       "    window._bokeh_is_loading = undefined;\n",
       "  }\n",
       "\n",
       "  function run_callbacks() {\n",
       "    window._bokeh_onload_callbacks.forEach(function(callback) { callback() });\n",
       "    delete window._bokeh_onload_callbacks\n",
       "    console.info(\"Bokeh: all callbacks have finished\");\n",
       "  }\n",
       "\n",
       "  function load_libs(js_urls, callback) {\n",
       "    window._bokeh_onload_callbacks.push(callback);\n",
       "    if (window._bokeh_is_loading > 0) {\n",
       "      console.log(\"Bokeh: BokehJS is being loaded, scheduling callback at\", now());\n",
       "      return null;\n",
       "    }\n",
       "    if (js_urls == null || js_urls.length === 0) {\n",
       "      run_callbacks();\n",
       "      return null;\n",
       "    }\n",
       "    console.log(\"Bokeh: BokehJS not loaded, scheduling load and callback at\", now());\n",
       "    window._bokeh_is_loading = js_urls.length;\n",
       "    for (var i = 0; i < js_urls.length; i++) {\n",
       "      var url = js_urls[i];\n",
       "      var s = document.createElement('script');\n",
       "      s.src = url;\n",
       "      s.async = false;\n",
       "      s.onreadystatechange = s.onload = function() {\n",
       "        window._bokeh_is_loading--;\n",
       "        if (window._bokeh_is_loading === 0) {\n",
       "          console.log(\"Bokeh: all BokehJS libraries loaded\");\n",
       "          run_callbacks()\n",
       "        }\n",
       "      };\n",
       "      s.onerror = function() {\n",
       "        console.warn(\"failed to load library \" + url);\n",
       "      };\n",
       "      console.log(\"Bokeh: injecting script tag for BokehJS library: \", url);\n",
       "      document.getElementsByTagName(\"head\")[0].appendChild(s);\n",
       "    }\n",
       "  };\n",
       "\n",
       "  var js_urls = ['https://cdn.pydata.org/bokeh/release/bokeh-0.12.1.min.js', 'https://cdn.pydata.org/bokeh/release/bokeh-widgets-0.12.1.min.js', 'https://cdn.pydata.org/bokeh/release/bokeh-compiler-0.12.1.min.js'];\n",
       "\n",
       "  var inline_js = [\n",
       "    function(Bokeh) {\n",
       "      Bokeh.set_log_level(\"info\");\n",
       "    },\n",
       "    \n",
       "    function(Bokeh) {\n",
       "      \n",
       "      Bokeh.$(\"#3f2496bb-46e1-46bf-ac8b-d44016f67779\").text(\"BokehJS successfully loaded\");\n",
       "      var kernel = Jupyter.notebook.kernel\n",
       "      if (kernel.execute !== undefined) {\n",
       "          kernel.execute(\"import bokeh.io; bokeh.io._nb_loaded = True\");\n",
       "      }\n",
       "    },\n",
       "    function(Bokeh) {\n",
       "      console.log(\"Bokeh: injecting CSS: https://cdn.pydata.org/bokeh/release/bokeh-0.12.1.min.css\");\n",
       "      Bokeh.embed.inject_css(\"https://cdn.pydata.org/bokeh/release/bokeh-0.12.1.min.css\");\n",
       "      console.log(\"Bokeh: injecting CSS: https://cdn.pydata.org/bokeh/release/bokeh-widgets-0.12.1.min.css\");\n",
       "      Bokeh.embed.inject_css(\"https://cdn.pydata.org/bokeh/release/bokeh-widgets-0.12.1.min.css\");\n",
       "    }\n",
       "  ];\n",
       "\n",
       "  function run_inline_js() {\n",
       "    for (var i = 0; i < inline_js.length; i++) {\n",
       "      inline_js[i](window.Bokeh);\n",
       "    }\n",
       "  }\n",
       "\n",
       "  if (window._bokeh_is_loading === 0) {\n",
       "    console.log(\"Bokeh: BokehJS loaded, going straight to plotting\");\n",
       "    run_inline_js();\n",
       "  } else {\n",
       "    load_libs(js_urls, function() {\n",
       "      console.log(\"Bokeh: BokehJS plotting callback run at\", now());\n",
       "      run_inline_js();\n",
       "    });\n",
       "  }\n",
       "}(this));"
      ]
     },
     "metadata": {},
     "output_type": "display_data"
    }
   ],
   "source": [
    "import qexpy as q\n"
   ]
  },
  {
   "cell_type": "markdown",
   "metadata": {},
   "source": [
    "Next, we'll declare two measured values, x and y, with uncertainties, and print them out. We use the Measurement object from the qexpy.error package:"
   ]
  },
  {
   "cell_type": "code",
   "execution_count": 2,
   "metadata": {
    "collapsed": false,
    "scrolled": true
   },
   "outputs": [
    {
     "name": "stdout",
     "output_type": "stream",
     "text": [
      "x = 10 +/- 1\n",
      "y = 5 +/- 3\n"
     ]
    }
   ],
   "source": [
    "#Our two measured values:\n",
    "x = q.Measurement(10,1)\n",
    "y = q.Measurement(5,3)\n",
    "\n",
    "#We can print them out:\n",
    "print(\"x =\",x)\n",
    "print(\"y =\",y)\n",
    "#x.set_correlation(y,0.3)"
   ]
  },
  {
   "cell_type": "markdown",
   "metadata": {},
   "source": [
    "We can declare a third object, z, which depends on x and y. The uncertainty in x and y will be correctly propagated to z, so once we have defined z, we can simply print it out with the correct uncertainty:"
   ]
  },
  {
   "cell_type": "code",
   "execution_count": 3,
   "metadata": {
    "collapsed": false
   },
   "outputs": [
    {
     "name": "stdout",
     "output_type": "stream",
     "text": [
      "z = 15 +/- 3\n"
     ]
    }
   ],
   "source": [
    "#We define z\n",
    "z = x+y\n",
    "#z can now be printed out\n",
    "print(\"z =\",z)"
   ]
  },
  {
   "cell_type": "markdown",
   "metadata": {},
   "source": [
    "Note how the uncertainties have been kept to 1 significant figure. In this case, the error in z was obtained by adding the errors in x and y in quadrature. We can change the number of significant figures to confirm that the errors were indeed added in quadrature. We can choose between setting  the number of significant figures based on the uncertainty (more common) or based on the central value."
   ]
  },
  {
   "cell_type": "code",
   "execution_count": 4,
   "metadata": {
    "collapsed": false
   },
   "outputs": [
    {
     "name": "stdout",
     "output_type": "stream",
     "text": [
      "z = 15.000 +/- 3.162\n"
     ]
    }
   ],
   "source": [
    "q.set_sigfigs_error(4) # set sigfigs based on the error\n",
    "print(\"z =\",z)"
   ]
  },
  {
   "cell_type": "markdown",
   "metadata": {},
   "source": [
    "Let's compare the error in z to what the errors in x and y are when added manually in quadrature. We need to import the sqrt() function from the math package to apply mathematical functions to numbers:"
   ]
  },
  {
   "cell_type": "code",
   "execution_count": 5,
   "metadata": {
    "collapsed": false
   },
   "outputs": [
    {
     "name": "stdout",
     "output_type": "stream",
     "text": [
      "3.1622776601683795\n"
     ]
    }
   ],
   "source": [
    "import math as m\n",
    "quadrature = m.sqrt(x.std**2+y.std**2)\n",
    "print(quadrature)"
   ]
  },
  {
   "cell_type": "markdown",
   "metadata": {},
   "source": [
    "## Math functions\n",
    "We can propagate the uncertainties through any operator (+,-,\\*,/) automatically as we showed above. QExPy also knows how to propagate the uncertainty through common mathematical functions. To use mathematical functions on Measurement objects, we need to call the functions from the QExPy package (as opposed to the math package as we did above for 2 numbers)."
   ]
  },
  {
   "cell_type": "code",
   "execution_count": 6,
   "metadata": {
    "collapsed": false
   },
   "outputs": [
    {
     "name": "stdout",
     "output_type": "stream",
     "text": [
      "time =  1.277102 +/- 0.007982 seconds\n"
     ]
    }
   ],
   "source": [
    "#If an object fell a distance of 8.0 +/0.1 m, how long did it take to fall?\n",
    "y = q.Measurement(8,0.1)\n",
    "g = 9.81\n",
    "t = q.sqrt(2*y/g)\n",
    "print(\"time = \",t, \"seconds\")"
   ]
  },
  {
   "cell_type": "markdown",
   "metadata": {},
   "source": [
    "## Error in correlated quantities\n",
    "If we have two measurements, x and y, that are correlated, then their correlation factor will impact the uncertainty on a quantity that depends on them:"
   ]
  },
  {
   "cell_type": "code",
   "execution_count": 7,
   "metadata": {
    "collapsed": false
   },
   "outputs": [
    {
     "name": "stdout",
     "output_type": "stream",
     "text": [
      "x and y uncorrelated: z= 15.000 +/- 3.162\n",
      "x and y positively correlated: z= 15.000 +/- 3.606\n",
      "x and y negatively correlated: z= 15.000 +/- 2.646\n"
     ]
    }
   ],
   "source": [
    "x = q.Measurement(10,1)\n",
    "y = q.Measurement(5,3)\n",
    "z = x+y\n",
    "print(\"x and y uncorrelated: z=\",z)\n",
    "\n",
    "#Now set a correlation factor between x and y:\n",
    "x.set_correlation(y,0.5)\n",
    "z = x+y\n",
    "print(\"x and y positively correlated: z=\",z)\n",
    "\n",
    "#We can also use the covariance factor instead of the correlation factor:\n",
    "x.set_covariance(y,-1.5)\n",
    "z = x+y\n",
    "print(\"x and y negatively correlated: z=\",z)"
   ]
  },
  {
   "cell_type": "markdown",
   "metadata": {},
   "source": [
    "If we don't specify any correlation factors, then all quantities are assumed to be independent. However, a quantity should not be independent from itself, so QExPy knows how to track the correlation in quantities that depend on common quantities. "
   ]
  },
  {
   "cell_type": "code",
   "execution_count": 8,
   "metadata": {
    "collapsed": false
   },
   "outputs": [
    {
     "name": "stdout",
     "output_type": "stream",
     "text": [
      "0.000 +/- 0.000\n"
     ]
    }
   ],
   "source": [
    "x = q.Measurement(10,1)\n",
    "y = x*x\n",
    "z = x*x - y #this should be 0 +/- 0, since it's really x^2 - x^2 \n",
    "print(z)"
   ]
  },
  {
   "cell_type": "markdown",
   "metadata": {
    "collapsed": true
   },
   "source": [
    "## Statistical measurements\n",
    "QExPy can also handle the case when you have repeated measurements of a single quantity and you want to average them together. Suppose that you have measured 5 values of some quantity T. QExPy will automatically assume that those values should be averaged together so that T is given by the mean of the measured values with an uncertainty given by the standard deviation of the values.\n"
   ]
  },
  {
   "cell_type": "code",
   "execution_count": 9,
   "metadata": {
    "collapsed": false
   },
   "outputs": [
    {
     "name": "stdout",
     "output_type": "stream",
     "text": [
      "5.3000 +/- 0.5431\n"
     ]
    }
   ],
   "source": [
    "T=q.Measurement( [5.6, 4.8, 6.1, 4.9, 5.1 ] )\n",
    "print(T)"
   ]
  },
  {
   "cell_type": "markdown",
   "metadata": {},
   "source": [
    "T can be used just as any other measurement with uncertainties, and its error will be propagate correctly:"
   ]
  },
  {
   "cell_type": "code",
   "execution_count": 10,
   "metadata": {
    "collapsed": false
   },
   "outputs": [
    {
     "name": "stdout",
     "output_type": "stream",
     "text": [
      "1.1849 +/- 0.1214\n"
     ]
    }
   ],
   "source": [
    "omega = 2*3.14/T\n",
    "print(omega)"
   ]
  },
  {
   "cell_type": "markdown",
   "metadata": {},
   "source": [
    "If we have measured many values, it can sometimes be useful to visualize those measurements in a histogram. QExPy will automatically create a histogram of the values, showing lines corresponding to the mean and the range covered by one standard deviation"
   ]
  },
  {
   "cell_type": "code",
   "execution_count": 11,
   "metadata": {
    "collapsed": false
   },
   "outputs": [
    {
     "data": {
      "text/html": [
       "\n",
       "\n",
       "    <div class=\"bk-root\">\n",
       "        <div class=\"plotdiv\" id=\"2ad90512-32f4-4258-a29a-3a5be3eaaa89\"></div>\n",
       "    </div>\n",
       "<script type=\"text/javascript\">\n",
       "  \n",
       "  (function(global) {\n",
       "    function now() {\n",
       "      return new Date();\n",
       "    }\n",
       "  \n",
       "    var force = \"\";\n",
       "  \n",
       "    if (typeof (window._bokeh_onload_callbacks) === \"undefined\" || force !== \"\") {\n",
       "      window._bokeh_onload_callbacks = [];\n",
       "      window._bokeh_is_loading = undefined;\n",
       "    }\n",
       "  \n",
       "    function run_callbacks() {\n",
       "      window._bokeh_onload_callbacks.forEach(function(callback) { callback() });\n",
       "      delete window._bokeh_onload_callbacks\n",
       "      console.info(\"Bokeh: all callbacks have finished\");\n",
       "    }\n",
       "  \n",
       "    function load_libs(js_urls, callback) {\n",
       "      window._bokeh_onload_callbacks.push(callback);\n",
       "      if (window._bokeh_is_loading > 0) {\n",
       "        console.log(\"Bokeh: BokehJS is being loaded, scheduling callback at\", now());\n",
       "        return null;\n",
       "      }\n",
       "      if (js_urls == null || js_urls.length === 0) {\n",
       "        run_callbacks();\n",
       "        return null;\n",
       "      }\n",
       "      console.log(\"Bokeh: BokehJS not loaded, scheduling load and callback at\", now());\n",
       "      window._bokeh_is_loading = js_urls.length;\n",
       "      for (var i = 0; i < js_urls.length; i++) {\n",
       "        var url = js_urls[i];\n",
       "        var s = document.createElement('script');\n",
       "        s.src = url;\n",
       "        s.async = false;\n",
       "        s.onreadystatechange = s.onload = function() {\n",
       "          window._bokeh_is_loading--;\n",
       "          if (window._bokeh_is_loading === 0) {\n",
       "            console.log(\"Bokeh: all BokehJS libraries loaded\");\n",
       "            run_callbacks()\n",
       "          }\n",
       "        };\n",
       "        s.onerror = function() {\n",
       "          console.warn(\"failed to load library \" + url);\n",
       "        };\n",
       "        console.log(\"Bokeh: injecting script tag for BokehJS library: \", url);\n",
       "        document.getElementsByTagName(\"head\")[0].appendChild(s);\n",
       "      }\n",
       "    };var element = document.getElementById(\"2ad90512-32f4-4258-a29a-3a5be3eaaa89\");\n",
       "    if (element == null) {\n",
       "      console.log(\"Bokeh: ERROR: autoload.js configured with elementid '2ad90512-32f4-4258-a29a-3a5be3eaaa89' but no matching script tag was found. \")\n",
       "      return false;\n",
       "    }\n",
       "  \n",
       "    var js_urls = [];\n",
       "  \n",
       "    var inline_js = [\n",
       "      function(Bokeh) {\n",
       "        Bokeh.$(function() {\n",
       "            var docs_json = {\"4123da0c-8ca9-494a-891a-b36fbcb32792\":{\"roots\":{\"references\":[{\"attributes\":{\"callback\":null,\"column_names\":[\"x\",\"y\"],\"data\":{\"x\":[4.756860975439989,4.756860975439989],\"y\":[0,1]}},\"id\":\"9e713722-b331-48e7-b1d0-a29ce2c6aae1\",\"type\":\"ColumnDataSource\"},{\"attributes\":{\"callback\":null},\"id\":\"4f56c213-4a67-4036-a863-de4d4cc233b1\",\"type\":\"DataRange1d\"},{\"attributes\":{},\"id\":\"f3e7e4cc-8baf-438e-8c78-e9065f0fa067\",\"type\":\"BasicTicker\"},{\"attributes\":{\"callback\":null,\"column_names\":[\"x\",\"y\"],\"data\":{\"x\":[5.843139024560011,5.843139024560011],\"y\":[0,1]}},\"id\":\"3ec6619f-30cc-41c2-9dbb-fa8f22884666\",\"type\":\"ColumnDataSource\"},{\"attributes\":{\"active_drag\":\"auto\",\"active_scroll\":\"auto\",\"active_tap\":\"auto\",\"tools\":[{\"id\":\"191d3438-c2bb-4dd2-bbba-03727e637d2b\",\"type\":\"SaveTool\"},{\"id\":\"a892f871-e996-4f08-9d9d-4c8a51c22172\",\"type\":\"PanTool\"},{\"id\":\"48dd97ce-9f8a-4e2b-a998-7af29d47bb0d\",\"type\":\"BoxZoomTool\"},{\"id\":\"424d0b93-2c14-41e5-bbb4-623b69fb7cf8\",\"type\":\"WheelZoomTool\"},{\"id\":\"79a8eaf0-1699-4d7b-b5b9-5bd113db5b1b\",\"type\":\"ResetTool\"}]},\"id\":\"44878bd5-b619-41c6-ad90-002d10fd5774\",\"type\":\"Toolbar\"},{\"attributes\":{\"data_source\":{\"id\":\"da8d538c-6fa9-4df2-b933-ebafd50af1f0\",\"type\":\"ColumnDataSource\"},\"glyph\":{\"id\":\"081ae17a-3ad5-4b3b-bf81-f7c2ede658ab\",\"type\":\"Quad\"},\"hover_glyph\":null,\"nonselection_glyph\":{\"id\":\"f43d487a-3c64-4c69-9c32-4c3b96a42615\",\"type\":\"Quad\"},\"selection_glyph\":null},\"id\":\"26131ba6-2f15-4f2a-8344-dcf609d218b3\",\"type\":\"GlyphRenderer\"},{\"attributes\":{\"plot\":{\"id\":\"6a070c09-2e54-4e5f-a586-b31fee5fd980\",\"subtype\":\"Figure\",\"type\":\"Plot\"},\"ticker\":{\"id\":\"f3e7e4cc-8baf-438e-8c78-e9065f0fa067\",\"type\":\"BasicTicker\"}},\"id\":\"e41a90f5-c274-4289-b58c-8ac06802eb6f\",\"type\":\"Grid\"},{\"attributes\":{\"callback\":null,\"column_names\":[\"top\",\"left\",\"right\"],\"data\":{\"left\":[4.8,4.826,4.851999999999999,4.878,4.904,4.93,4.9559999999999995,4.982,5.008,5.034,5.06,5.085999999999999,5.112,5.138,5.164,5.1899999999999995,5.215999999999999,5.242,5.268,5.294,5.319999999999999,5.346,5.372,5.398,5.4239999999999995,5.449999999999999,5.476,5.502,5.528,5.553999999999999,5.58,5.606,5.632,5.6579999999999995,5.683999999999999,5.71,5.736,5.762,5.787999999999999,5.814,5.84,5.866,5.8919999999999995,5.917999999999999,5.943999999999999,5.97,5.9959999999999996,6.021999999999999,6.048,6.074],\"right\":[4.826,4.851999999999999,4.878,4.904,4.93,4.9559999999999995,4.982,5.008,5.034,5.06,5.085999999999999,5.112,5.138,5.164,5.1899999999999995,5.215999999999999,5.242,5.268,5.294,5.319999999999999,5.346,5.372,5.398,5.4239999999999995,5.449999999999999,5.476,5.502,5.528,5.553999999999999,5.58,5.606,5.632,5.6579999999999995,5.683999999999999,5.71,5.736,5.762,5.787999999999999,5.814,5.84,5.866,5.8919999999999995,5.917999999999999,5.943999999999999,5.97,5.9959999999999996,6.021999999999999,6.048,6.074,6.1],\"top\":[1,0,0,1,0,0,0,0,0,0,0,1,0,0,0,0,0,0,0,0,0,0,0,0,0,0,0,0,0,0,1,0,0,0,0,0,0,0,0,0,0,0,0,0,0,0,0,0,0,1]}},\"id\":\"da8d538c-6fa9-4df2-b933-ebafd50af1f0\",\"type\":\"ColumnDataSource\"},{\"attributes\":{\"formatter\":{\"id\":\"aec4ea63-0740-4a50-9f53-ccafec5a70e4\",\"type\":\"BasicTickFormatter\"},\"plot\":{\"id\":\"6a070c09-2e54-4e5f-a586-b31fee5fd980\",\"subtype\":\"Figure\",\"type\":\"Plot\"},\"ticker\":{\"id\":\"19680ae3-e68d-40c1-bbe0-9b97a7160615\",\"type\":\"BasicTicker\"}},\"id\":\"e8b1dc79-516a-49f6-b809-d5298250fae7\",\"type\":\"LinearAxis\"},{\"attributes\":{\"plot\":{\"id\":\"6a070c09-2e54-4e5f-a586-b31fee5fd980\",\"subtype\":\"Figure\",\"type\":\"Plot\"}},\"id\":\"a892f871-e996-4f08-9d9d-4c8a51c22172\",\"type\":\"PanTool\"},{\"attributes\":{\"data_source\":{\"id\":\"94f9035d-4ed2-478b-b8fa-900209a1eb0b\",\"type\":\"ColumnDataSource\"},\"glyph\":{\"id\":\"09a58d84-3a2a-427b-abff-9fe4a80f1d4b\",\"type\":\"Line\"},\"hover_glyph\":null,\"nonselection_glyph\":{\"id\":\"799aff47-25e7-4dce-a6fe-2702656a1e3b\",\"type\":\"Line\"},\"selection_glyph\":null},\"id\":\"3b6a52f8-e222-4359-bf91-81d117e6d691\",\"type\":\"GlyphRenderer\"},{\"attributes\":{\"bottom\":{\"value\":0},\"fill_alpha\":{\"value\":0.1},\"fill_color\":{\"value\":\"#1f77b4\"},\"left\":{\"field\":\"left\"},\"line_alpha\":{\"value\":0.1},\"line_color\":{\"value\":\"#1f77b4\"},\"right\":{\"field\":\"right\"},\"top\":{\"field\":\"top\"}},\"id\":\"f43d487a-3c64-4c69-9c32-4c3b96a42615\",\"type\":\"Quad\"},{\"attributes\":{\"callback\":null,\"column_names\":[\"x\",\"y\"],\"data\":{\"x\":[5.3,5.3],\"y\":[0.0,1.1]}},\"id\":\"94f9035d-4ed2-478b-b8fa-900209a1eb0b\",\"type\":\"ColumnDataSource\"},{\"attributes\":{\"data_source\":{\"id\":\"9e713722-b331-48e7-b1d0-a29ce2c6aae1\",\"type\":\"ColumnDataSource\"},\"glyph\":{\"id\":\"695b08f5-6111-4943-8d0d-c9fffd94aefb\",\"type\":\"Line\"},\"hover_glyph\":null,\"nonselection_glyph\":{\"id\":\"ecc0214f-eb4e-480a-93c7-f1a28b12a2b0\",\"type\":\"Line\"},\"selection_glyph\":null},\"id\":\"d52e42bf-dd29-4336-95f4-af0086a727f3\",\"type\":\"GlyphRenderer\"},{\"attributes\":{},\"id\":\"c5cfe4f2-8a79-4207-80f3-5078a84169cf\",\"type\":\"ToolEvents\"},{\"attributes\":{\"plot\":{\"id\":\"6a070c09-2e54-4e5f-a586-b31fee5fd980\",\"subtype\":\"Figure\",\"type\":\"Plot\"}},\"id\":\"191d3438-c2bb-4dd2-bbba-03727e637d2b\",\"type\":\"SaveTool\"},{\"attributes\":{},\"id\":\"19680ae3-e68d-40c1-bbe0-9b97a7160615\",\"type\":\"BasicTicker\"},{\"attributes\":{\"bottom\":{\"value\":0},\"fill_color\":{\"value\":\"#036564\"},\"left\":{\"field\":\"left\"},\"line_color\":{\"value\":\"#033649\"},\"right\":{\"field\":\"right\"},\"top\":{\"field\":\"top\"}},\"id\":\"081ae17a-3ad5-4b3b-bf81-f7c2ede658ab\",\"type\":\"Quad\"},{\"attributes\":{\"plot\":{\"id\":\"6a070c09-2e54-4e5f-a586-b31fee5fd980\",\"subtype\":\"Figure\",\"type\":\"Plot\"}},\"id\":\"79a8eaf0-1699-4d7b-b5b9-5bd113db5b1b\",\"type\":\"ResetTool\"},{\"attributes\":{\"line_color\":{\"value\":\"red\"},\"line_dash\":[6],\"x\":{\"field\":\"x\"},\"y\":{\"field\":\"y\"}},\"id\":\"f9bd30b8-07fb-4473-bf5e-579532885d30\",\"type\":\"Line\"},{\"attributes\":{\"bottom_units\":\"screen\",\"fill_alpha\":{\"value\":0.5},\"fill_color\":{\"value\":\"lightgrey\"},\"left_units\":\"screen\",\"level\":\"overlay\",\"line_alpha\":{\"value\":1.0},\"line_color\":{\"value\":\"black\"},\"line_dash\":[4,4],\"line_width\":{\"value\":2},\"plot\":null,\"render_mode\":\"css\",\"right_units\":\"screen\",\"top_units\":\"screen\"},\"id\":\"f4fd77f0-ec70-44f2-b0d6-c9878eadd15c\",\"type\":\"BoxAnnotation\"},{\"attributes\":{\"line_alpha\":{\"value\":0.1},\"line_color\":{\"value\":\"#1f77b4\"},\"line_dash\":[6],\"x\":{\"field\":\"x\"},\"y\":{\"field\":\"y\"}},\"id\":\"5d006055-bc7b-48b7-aa26-982583267bc7\",\"type\":\"Line\"},{\"attributes\":{\"plot\":null,\"text\":\"unnamed_var6 Histogram\"},\"id\":\"9895efa4-8e13-4882-b11a-fc4d883aa8a5\",\"type\":\"Title\"},{\"attributes\":{},\"id\":\"aec4ea63-0740-4a50-9f53-ccafec5a70e4\",\"type\":\"BasicTickFormatter\"},{\"attributes\":{\"line_color\":{\"value\":\"red\"},\"x\":{\"field\":\"x\"},\"y\":{\"field\":\"y\"}},\"id\":\"09a58d84-3a2a-427b-abff-9fe4a80f1d4b\",\"type\":\"Line\"},{\"attributes\":{\"line_color\":{\"value\":\"red\"},\"line_dash\":[6],\"x\":{\"field\":\"x\"},\"y\":{\"field\":\"y\"}},\"id\":\"695b08f5-6111-4943-8d0d-c9fffd94aefb\",\"type\":\"Line\"},{\"attributes\":{\"dimension\":1,\"plot\":{\"id\":\"6a070c09-2e54-4e5f-a586-b31fee5fd980\",\"subtype\":\"Figure\",\"type\":\"Plot\"},\"ticker\":{\"id\":\"19680ae3-e68d-40c1-bbe0-9b97a7160615\",\"type\":\"BasicTicker\"}},\"id\":\"5ef97b4e-08db-4b3e-9243-47cfe01cc51f\",\"type\":\"Grid\"},{\"attributes\":{},\"id\":\"e5651b21-b61f-40e6-b1bd-f780c92102d4\",\"type\":\"BasicTickFormatter\"},{\"attributes\":{\"data_source\":{\"id\":\"3ec6619f-30cc-41c2-9dbb-fa8f22884666\",\"type\":\"ColumnDataSource\"},\"glyph\":{\"id\":\"f9bd30b8-07fb-4473-bf5e-579532885d30\",\"type\":\"Line\"},\"hover_glyph\":null,\"nonselection_glyph\":{\"id\":\"5d006055-bc7b-48b7-aa26-982583267bc7\",\"type\":\"Line\"},\"selection_glyph\":null},\"id\":\"cb992ec9-f59a-4346-90fe-9aff5599a234\",\"type\":\"GlyphRenderer\"},{\"attributes\":{\"formatter\":{\"id\":\"e5651b21-b61f-40e6-b1bd-f780c92102d4\",\"type\":\"BasicTickFormatter\"},\"plot\":{\"id\":\"6a070c09-2e54-4e5f-a586-b31fee5fd980\",\"subtype\":\"Figure\",\"type\":\"Plot\"},\"ticker\":{\"id\":\"f3e7e4cc-8baf-438e-8c78-e9065f0fa067\",\"type\":\"BasicTicker\"}},\"id\":\"2c400761-8bc6-4113-bfc5-1d801a343a5f\",\"type\":\"LinearAxis\"},{\"attributes\":{\"callback\":null},\"id\":\"f015d385-b07c-4d34-b60a-d7c0ea49b1c4\",\"type\":\"DataRange1d\"},{\"attributes\":{\"line_alpha\":{\"value\":0.1},\"line_color\":{\"value\":\"#1f77b4\"},\"line_dash\":[6],\"x\":{\"field\":\"x\"},\"y\":{\"field\":\"y\"}},\"id\":\"ecc0214f-eb4e-480a-93c7-f1a28b12a2b0\",\"type\":\"Line\"},{\"attributes\":{\"line_alpha\":{\"value\":0.1},\"line_color\":{\"value\":\"#1f77b4\"},\"x\":{\"field\":\"x\"},\"y\":{\"field\":\"y\"}},\"id\":\"799aff47-25e7-4dce-a6fe-2702656a1e3b\",\"type\":\"Line\"},{\"attributes\":{\"overlay\":{\"id\":\"f4fd77f0-ec70-44f2-b0d6-c9878eadd15c\",\"type\":\"BoxAnnotation\"},\"plot\":{\"id\":\"6a070c09-2e54-4e5f-a586-b31fee5fd980\",\"subtype\":\"Figure\",\"type\":\"Plot\"}},\"id\":\"48dd97ce-9f8a-4e2b-a998-7af29d47bb0d\",\"type\":\"BoxZoomTool\"},{\"attributes\":{\"plot\":{\"id\":\"6a070c09-2e54-4e5f-a586-b31fee5fd980\",\"subtype\":\"Figure\",\"type\":\"Plot\"}},\"id\":\"424d0b93-2c14-41e5-bbb4-623b69fb7cf8\",\"type\":\"WheelZoomTool\"},{\"attributes\":{\"background_fill_color\":{\"value\":\"#FFFFFF\"},\"below\":[{\"id\":\"2c400761-8bc6-4113-bfc5-1d801a343a5f\",\"type\":\"LinearAxis\"}],\"left\":[{\"id\":\"e8b1dc79-516a-49f6-b809-d5298250fae7\",\"type\":\"LinearAxis\"}],\"renderers\":[{\"id\":\"2c400761-8bc6-4113-bfc5-1d801a343a5f\",\"type\":\"LinearAxis\"},{\"id\":\"e41a90f5-c274-4289-b58c-8ac06802eb6f\",\"type\":\"Grid\"},{\"id\":\"e8b1dc79-516a-49f6-b809-d5298250fae7\",\"type\":\"LinearAxis\"},{\"id\":\"5ef97b4e-08db-4b3e-9243-47cfe01cc51f\",\"type\":\"Grid\"},{\"id\":\"f4fd77f0-ec70-44f2-b0d6-c9878eadd15c\",\"type\":\"BoxAnnotation\"},{\"id\":\"26131ba6-2f15-4f2a-8344-dcf609d218b3\",\"type\":\"GlyphRenderer\"},{\"id\":\"3b6a52f8-e222-4359-bf91-81d117e6d691\",\"type\":\"GlyphRenderer\"},{\"id\":\"d52e42bf-dd29-4336-95f4-af0086a727f3\",\"type\":\"GlyphRenderer\"},{\"id\":\"cb992ec9-f59a-4346-90fe-9aff5599a234\",\"type\":\"GlyphRenderer\"}],\"title\":{\"id\":\"9895efa4-8e13-4882-b11a-fc4d883aa8a5\",\"type\":\"Title\"},\"tool_events\":{\"id\":\"c5cfe4f2-8a79-4207-80f3-5078a84169cf\",\"type\":\"ToolEvents\"},\"toolbar\":{\"id\":\"44878bd5-b619-41c6-ad90-002d10fd5774\",\"type\":\"Toolbar\"},\"x_range\":{\"id\":\"4f56c213-4a67-4036-a863-de4d4cc233b1\",\"type\":\"DataRange1d\"},\"y_range\":{\"id\":\"f015d385-b07c-4d34-b60a-d7c0ea49b1c4\",\"type\":\"DataRange1d\"}},\"id\":\"6a070c09-2e54-4e5f-a586-b31fee5fd980\",\"subtype\":\"Figure\",\"type\":\"Plot\"}],\"root_ids\":[\"6a070c09-2e54-4e5f-a586-b31fee5fd980\"]},\"title\":\"Bokeh Application\",\"version\":\"0.12.1\"}};\n",
       "            var render_items = [{\"docid\":\"4123da0c-8ca9-494a-891a-b36fbcb32792\",\"elementid\":\"2ad90512-32f4-4258-a29a-3a5be3eaaa89\",\"modelid\":\"6a070c09-2e54-4e5f-a586-b31fee5fd980\",\"notebook_comms_target\":\"ecc44399-a2c7-4ebd-bee8-ad5e4335602e\"}];\n",
       "            \n",
       "            Bokeh.embed.embed_items(docs_json, render_items);\n",
       "        });\n",
       "      },\n",
       "      function(Bokeh) {\n",
       "      }\n",
       "    ];\n",
       "  \n",
       "    function run_inline_js() {\n",
       "      for (var i = 0; i < inline_js.length; i++) {\n",
       "        inline_js[i](window.Bokeh);\n",
       "      }\n",
       "    }\n",
       "  \n",
       "    if (window._bokeh_is_loading === 0) {\n",
       "      console.log(\"Bokeh: BokehJS loaded, going straight to plotting\");\n",
       "      run_inline_js();\n",
       "    } else {\n",
       "      load_libs(js_urls, function() {\n",
       "        console.log(\"Bokeh: BokehJS plotting callback run at\", now());\n",
       "        run_inline_js();\n",
       "      });\n",
       "    }\n",
       "  }(this));\n",
       "</script>"
      ]
     },
     "metadata": {},
     "output_type": "display_data"
    },
    {
     "data": {
      "text/plain": [
       "<bokeh.plotting.figure.Figure at 0x1d74dbaa128>"
      ]
     },
     "execution_count": 11,
     "metadata": {},
     "output_type": "execute_result"
    }
   ],
   "source": [
    "T.show_histogram()"
   ]
  },
  {
   "cell_type": "markdown",
   "metadata": {},
   "source": [
    "## Multiple measurements (Arrays of Measurements)\n",
    "QExPy can also handle the case of having multiple measurements, when each measurement has its own uncertainty. For example, if you have three measurements of a single quantity, in order to get an average value, you should weight each measurement by its uncertainty (or rather the weight should be 1 over the square of the uncertainty). This is handled by the MeasurementArray class:"
   ]
  },
  {
   "cell_type": "code",
   "execution_count": 12,
   "metadata": {
    "collapsed": false
   },
   "outputs": [
    {
     "name": "stdout",
     "output_type": "stream",
     "text": [
      "g_0 = 9.8000 +/- 0.2000 [m/s^2],\n",
      "g_1 = 14.000 +/- 3.000 [m/s^2],\n",
      "g_2 = 9.9000 +/- 0.1000 [m/s^2]\n",
      "The mean is  11.2333333333\n",
      "The error weighted mean is  9.72815 +/- 0.08870\n"
     ]
    }
   ],
   "source": [
    "gvals = q.MeasurementArray([(9.8,0.2), (14,3) , (9.9,0.1)], name=\"g\", units='m/s^2') \n",
    "print(gvals)\n",
    "print(\"The mean is \",gvals.get_mean())\n",
    "print(\"The error weighted mean is \",gvals.get_error_weighted_mean())"
   ]
  },
  {
   "cell_type": "markdown",
   "metadata": {},
   "source": [
    "The MeasurementArray object truly is an array of Measurement objects, so individual measurements can be retrieved (remember that the first element in an array in python has index 0 not 1, so element 1 is the second element):"
   ]
  },
  {
   "cell_type": "code",
   "execution_count": 13,
   "metadata": {
    "collapsed": false
   },
   "outputs": [
    {
     "name": "stdout",
     "output_type": "stream",
     "text": [
      "g_1 = 14.000 +/- 3.000 [m/s^2]\n"
     ]
    }
   ],
   "source": [
    "print(gvals[1])"
   ]
  },
  {
   "cell_type": "markdown",
   "metadata": {},
   "source": [
    "## Error propagation methods\n",
    "\n",
    "### Derivative method (default)\n",
    "By default, QExPy propagates the uncertainties using the \"derivative\" method. That is, for a function, $f(x,y)$, that depends on measured quantities $x\\pm\\sigma_x$ and $y\\pm\\sigma_y$, with covariance $\\sigma_{xy}$ between the two measured quantities, the uncertainty in $f$ is given by:\n",
    "$$ \\sigma_f = \\sqrt{ \\left(\\frac{\\partial f}{\\partial x} \\sigma_x \\right)^2 + \\left(\\frac{\\partial f}{\\partial y} \\sigma_y \\right)^2 + 2 \\frac{\\partial f}{\\partial x} \\frac{\\partial f}{\\partial y}\\sigma_{xy} }$$\n",
    "\n",
    "QExPy evaluates the derivatives exactly when propagating the uncertainties using an algorithm called \"automatic differentiation\". This is possible as QExPy internally keeps track of the dependency of quantities on each other, and as an added bonus can also be used to evaluate numerical derivatives exactly. Although the derivative method is commonly taught in undergraduate laboratories, it is only valid when the relative uncertainties in the quantities being propagated are small (e.g. less than ~10% relative uncertainty). This method is thus not strongly encouraged, although it has been made the default because it is so prevalent in undergraduate teaching. \n",
    "\n",
    "\n",
    "### Min-Max method (not recommended)\n",
    "This is not the only way to propagate the uncertainty in $f$. For example, the \"Min-Max\" method, is a method to yield a more conservative (larger) estimate of the uncertainty in $f$ and is often used in introductory courses. The Min-Max method defines the central value and uncertainty in $f$ as:\n",
    "$$f=\\frac{1}{2}(f^{max}+f^{min})$$\n",
    "$$\\sigma_f=\\frac{1}{2}(f^{max}-f^{min})$$\n",
    "\n",
    "where $f^{max}$ ($f^{min}$) is the maximum (minimum) value that $f$ takes when $x$ and $y$ are varied within their uncertainty range. For example, if $f(x,y)=x+y$, then the maximum and minimum of $f$ are easily found:\n",
    "\n",
    "$$f^{max} = (x+\\sigma_x)+(y+\\sigma_y)$$\n",
    "$$f^{min} = (x-\\sigma_x)-(y-\\sigma_y)$$\n",
    "\n",
    "The Min-Max method actually requires a numerical approximation to evaluate the values of $f^{max}$ and $f^{min}$ for all but the most simple cases. Hence although it is a good method to introduce the idea of uncertainty propagation, it is not recommended to use this method in any serious calculation (it also does not take correlations into account). \n",
    "\n",
    "### Monte Carlo method (recommended!)\n",
    "Finally, the recommended method to propagate errors is the \"Monte-Carlo\" method, although it is the hardest to understand. The MC method is based on a statiscal understanding of the measurements. In the QExPy implementation, currently, the main assumptions is that the uncertainty in a quantity is given by a \"standard error\"; that is, if $x = 10\\pm 1$, then we *assume* that this error and uncertainty should be interpreted as: \"if we measure $x$ multiple times, we will obtain a set of measurements that are normally distributed with a mean of 10 and a standard deviation of 1\". In other words, we assume that $x$ has a 68% chance of being in the range between 9 and 11.\n",
    "\n",
    "\n",
    "The MC method then uses the assumption that measured quantities are normally distributed and use this to propagate the errors by using Monte Carlo simulation. Suppose that we have measured $x$ and $y$ and wish to determine the central value and uncertainty in $x=x+y$. The Monte Carlo method will generate normally distributed random values for $x$ and $y$ (the random numbers will be correctly correlated if the user has indicated that $x$ and $y$ are correlated), then it will add those random values together, to obtain a set of values for $z$. The mean and standard deviation of the random values for $z$ are taken as the central value and uncertainty in $z$. \n",
    "\n",
    "## What QExPy actually does\n",
    "Although the user appears to choose the method used to propagate the errors, QExPy always uses all three methods behind the scenes and the user only decides which method to print out. This allows QExPy to compare the results behind the scenes, in particular, to inform the users that the uncertainties using a particular method (e.g. derivative) may be inaccurate and to suggest that the user choose a different method. \n",
    "\n",
    "## Example\n",
    "Below, we illustrate an example of using the different methods to propagate the uncertainty in the Coulomb force based on the measurement of two charges, $q_1$ and $q_2$, and the distance between them, $r$. We illustrate how the derivative method does not give the correct answer if the relative uncertainties in the measured quantities are large. \n",
    "\n",
    "### 1 % relative uncertainty calculation\n"
   ]
  },
  {
   "cell_type": "code",
   "execution_count": 14,
   "metadata": {
    "collapsed": false
   },
   "outputs": [
    {
     "name": "stdout",
     "output_type": "stream",
     "text": [
      "Derivative method, F =  18.0000 +/- 0.4409\n",
      "Min-Max method, F = 18.0144 +/- 0.7202\n",
      "Monte Carlo method, F = 18.0035 +/- 0.4433\n"
     ]
    }
   ],
   "source": [
    "#Measurements with 1% relative uncertainties:\n",
    "relative_factor = 0.01 \n",
    "\n",
    "#Measured values\n",
    "q1m=1e-6\n",
    "q2m=2e-5\n",
    "rm=0.1\n",
    "\n",
    "#Convert to Measurement objects\n",
    "q1 = q.Measurement(q1m,relative_factor*q1m)\n",
    "q2 = q.Measurement(q2m,relative_factor*q2m)\n",
    "r = q.Measurement(rm,relative_factor*rm)\n",
    "#Coulomb's constant:\n",
    "k = 9e9 \n",
    "\n",
    "#Define the Force:\n",
    "F = k*q1*q2/r**2\n",
    "\n",
    "#Print out the different errors\n",
    "q.set_error_method(\"derivative\")\n",
    "print(\"Derivative method, F = \",F)\n",
    "q.set_error_method(\"minmax\")\n",
    "print(\"Min-Max method, F =\", F)\n",
    "q.set_error_method(\"mc\")\n",
    "print(\"Monte Carlo method, F =\",F)\n",
    "\n"
   ]
  },
  {
   "cell_type": "markdown",
   "metadata": {},
   "source": [
    "### 10 % relative uncertainty calculation\n",
    "We see that in this case, the Monte Carlo method returns a different uncertainty than the derivative method, because the derivative method is incorrect when the uncertainties are this large."
   ]
  },
  {
   "cell_type": "code",
   "execution_count": 15,
   "metadata": {
    "collapsed": false,
    "scrolled": false
   },
   "outputs": [
    {
     "name": "stdout",
     "output_type": "stream",
     "text": [
      "Derivative method, F =  18.000 +/- 4.409\n",
      "Min-Max method, F = 19.469 +/- 7.420\n",
      "Monte Carlo method, F = 18.592 +/- 4.691\n"
     ]
    },
    {
     "data": {
      "text/html": [
       "\n",
       "\n",
       "    <div class=\"bk-root\">\n",
       "        <div class=\"plotdiv\" id=\"abf75191-622e-465a-91ac-dacfb9b7fcb0\"></div>\n",
       "    </div>\n",
       "<script type=\"text/javascript\">\n",
       "  \n",
       "  (function(global) {\n",
       "    function now() {\n",
       "      return new Date();\n",
       "    }\n",
       "  \n",
       "    var force = \"\";\n",
       "  \n",
       "    if (typeof (window._bokeh_onload_callbacks) === \"undefined\" || force !== \"\") {\n",
       "      window._bokeh_onload_callbacks = [];\n",
       "      window._bokeh_is_loading = undefined;\n",
       "    }\n",
       "  \n",
       "    function run_callbacks() {\n",
       "      window._bokeh_onload_callbacks.forEach(function(callback) { callback() });\n",
       "      delete window._bokeh_onload_callbacks\n",
       "      console.info(\"Bokeh: all callbacks have finished\");\n",
       "    }\n",
       "  \n",
       "    function load_libs(js_urls, callback) {\n",
       "      window._bokeh_onload_callbacks.push(callback);\n",
       "      if (window._bokeh_is_loading > 0) {\n",
       "        console.log(\"Bokeh: BokehJS is being loaded, scheduling callback at\", now());\n",
       "        return null;\n",
       "      }\n",
       "      if (js_urls == null || js_urls.length === 0) {\n",
       "        run_callbacks();\n",
       "        return null;\n",
       "      }\n",
       "      console.log(\"Bokeh: BokehJS not loaded, scheduling load and callback at\", now());\n",
       "      window._bokeh_is_loading = js_urls.length;\n",
       "      for (var i = 0; i < js_urls.length; i++) {\n",
       "        var url = js_urls[i];\n",
       "        var s = document.createElement('script');\n",
       "        s.src = url;\n",
       "        s.async = false;\n",
       "        s.onreadystatechange = s.onload = function() {\n",
       "          window._bokeh_is_loading--;\n",
       "          if (window._bokeh_is_loading === 0) {\n",
       "            console.log(\"Bokeh: all BokehJS libraries loaded\");\n",
       "            run_callbacks()\n",
       "          }\n",
       "        };\n",
       "        s.onerror = function() {\n",
       "          console.warn(\"failed to load library \" + url);\n",
       "        };\n",
       "        console.log(\"Bokeh: injecting script tag for BokehJS library: \", url);\n",
       "        document.getElementsByTagName(\"head\")[0].appendChild(s);\n",
       "      }\n",
       "    };var element = document.getElementById(\"abf75191-622e-465a-91ac-dacfb9b7fcb0\");\n",
       "    if (element == null) {\n",
       "      console.log(\"Bokeh: ERROR: autoload.js configured with elementid 'abf75191-622e-465a-91ac-dacfb9b7fcb0' but no matching script tag was found. \")\n",
       "      return false;\n",
       "    }\n",
       "  \n",
       "    var js_urls = [];\n",
       "  \n",
       "    var inline_js = [\n",
       "      function(Bokeh) {\n",
       "        Bokeh.$(function() {\n",
       "            var docs_json = {\"7197ec4a-ca34-4481-a189-b679003c1dfe\":{\"roots\":{\"references\":[{\"attributes\":{},\"id\":\"2f535105-f473-49f0-8a74-78b5262dcb18\",\"type\":\"BasicTicker\"},{\"attributes\":{\"callback\":null,\"column_names\":[\"x\",\"y\"],\"data\":{\"x\":[13.59091846299028,13.59091846299028],\"y\":[0,944]}},\"id\":\"b1379f8a-1999-4cda-ad9d-f829cd57f7f3\",\"type\":\"ColumnDataSource\"},{\"attributes\":{},\"id\":\"b672ca3d-e218-4f9d-84e0-6c49cf45b74b\",\"type\":\"BasicTickFormatter\"},{\"attributes\":{\"callback\":null},\"id\":\"1fea57f6-40a6-4bb6-8988-c6a54304ffb2\",\"type\":\"DataRange1d\"},{\"attributes\":{\"formatter\":{\"id\":\"b672ca3d-e218-4f9d-84e0-6c49cf45b74b\",\"type\":\"BasicTickFormatter\"},\"plot\":{\"id\":\"cb4c54ea-0e96-4dee-b059-d084a2001da0\",\"subtype\":\"Figure\",\"type\":\"Plot\"},\"ticker\":{\"id\":\"2f535105-f473-49f0-8a74-78b5262dcb18\",\"type\":\"BasicTicker\"}},\"id\":\"054e3fec-8820-4e90-85f8-a6150d3e5bb2\",\"type\":\"LinearAxis\"},{\"attributes\":{\"plot\":{\"id\":\"cb4c54ea-0e96-4dee-b059-d084a2001da0\",\"subtype\":\"Figure\",\"type\":\"Plot\"}},\"id\":\"ba437256-063e-42ad-be97-85af93592633\",\"type\":\"PanTool\"},{\"attributes\":{\"callback\":null,\"column_names\":[\"x\",\"y\"],\"data\":{\"x\":[18.0,18.0],\"y\":[0.0,1038.4]}},\"id\":\"7e99bc76-1f2f-4703-8c60-f345c544650e\",\"type\":\"ColumnDataSource\"},{\"attributes\":{\"data_source\":{\"id\":\"665979ab-cdc5-4733-9441-053e666e292b\",\"type\":\"ColumnDataSource\"},\"glyph\":{\"id\":\"68912f58-1f79-430b-ac19-044fc41c7e9b\",\"type\":\"Line\"},\"hover_glyph\":null,\"nonselection_glyph\":{\"id\":\"5820d31a-1360-41fb-a268-58967a4a26f9\",\"type\":\"Line\"},\"selection_glyph\":null},\"id\":\"b44290d0-42fd-4e62-8340-0b4bf37cb37d\",\"type\":\"GlyphRenderer\"},{\"attributes\":{\"plot\":{\"id\":\"cb4c54ea-0e96-4dee-b059-d084a2001da0\",\"subtype\":\"Figure\",\"type\":\"Plot\"},\"ticker\":{\"id\":\"3c81a1fe-25b4-4b9b-90db-f89bdf8e084e\",\"type\":\"BasicTicker\"}},\"id\":\"0c04c3c5-0a55-49ac-a104-b20ad36de6ee\",\"type\":\"Grid\"},{\"attributes\":{\"formatter\":{\"id\":\"bc528716-bd49-4032-8b0c-4deaac3bac1d\",\"type\":\"BasicTickFormatter\"},\"plot\":{\"id\":\"cb4c54ea-0e96-4dee-b059-d084a2001da0\",\"subtype\":\"Figure\",\"type\":\"Plot\"},\"ticker\":{\"id\":\"3c81a1fe-25b4-4b9b-90db-f89bdf8e084e\",\"type\":\"BasicTicker\"}},\"id\":\"62c57454-1c7d-4e87-acc0-a7a24fe57ba7\",\"type\":\"LinearAxis\"},{\"attributes\":{\"data_source\":{\"id\":\"413c0fc3-d64d-4b55-885a-a31ef051a185\",\"type\":\"ColumnDataSource\"},\"glyph\":{\"id\":\"894d22c8-224d-4182-b412-6a973c962f46\",\"type\":\"Quad\"},\"hover_glyph\":null,\"nonselection_glyph\":{\"id\":\"983df05e-1452-4c94-9620-e3d2e0574ec9\",\"type\":\"Quad\"},\"selection_glyph\":null},\"id\":\"4dac4adb-480b-4456-b4f5-65dd6c7cc4a5\",\"type\":\"GlyphRenderer\"},{\"attributes\":{\"bottom_units\":\"screen\",\"fill_alpha\":{\"value\":0.5},\"fill_color\":{\"value\":\"lightgrey\"},\"left_units\":\"screen\",\"level\":\"overlay\",\"line_alpha\":{\"value\":1.0},\"line_color\":{\"value\":\"black\"},\"line_dash\":[4,4],\"line_width\":{\"value\":2},\"plot\":null,\"render_mode\":\"css\",\"right_units\":\"screen\",\"top_units\":\"screen\"},\"id\":\"91da0304-63bd-4eb9-836d-59210bf44532\",\"type\":\"BoxAnnotation\"},{\"attributes\":{\"line_alpha\":{\"value\":0.1},\"line_color\":{\"value\":\"#1f77b4\"},\"line_dash\":[6],\"x\":{\"field\":\"x\"},\"y\":{\"field\":\"y\"}},\"id\":\"5820d31a-1360-41fb-a268-58967a4a26f9\",\"type\":\"Line\"},{\"attributes\":{\"line_alpha\":{\"value\":0.1},\"line_color\":{\"value\":\"#1f77b4\"},\"line_dash\":[6],\"x\":{\"field\":\"x\"},\"y\":{\"field\":\"y\"}},\"id\":\"a5af3403-b51f-4970-93e8-6ba8cb96af20\",\"type\":\"Line\"},{\"attributes\":{\"overlay\":{\"id\":\"91da0304-63bd-4eb9-836d-59210bf44532\",\"type\":\"BoxAnnotation\"},\"plot\":{\"id\":\"cb4c54ea-0e96-4dee-b059-d084a2001da0\",\"subtype\":\"Figure\",\"type\":\"Plot\"}},\"id\":\"a7d8fc0c-80af-4bd3-8e1c-dbbefe5efadc\",\"type\":\"BoxZoomTool\"},{\"attributes\":{\"callback\":null},\"id\":\"4e7e5578-5d0e-4620-bdaf-6a90fdae5e7e\",\"type\":\"DataRange1d\"},{\"attributes\":{\"plot\":{\"id\":\"cb4c54ea-0e96-4dee-b059-d084a2001da0\",\"subtype\":\"Figure\",\"type\":\"Plot\"}},\"id\":\"5cc37bdd-7775-4602-9b47-1d47af3aee80\",\"type\":\"SaveTool\"},{\"attributes\":{\"plot\":{\"id\":\"cb4c54ea-0e96-4dee-b059-d084a2001da0\",\"subtype\":\"Figure\",\"type\":\"Plot\"}},\"id\":\"9f4c68b0-c1bb-4c82-85be-ad65e6c2666f\",\"type\":\"WheelZoomTool\"},{\"attributes\":{\"data_source\":{\"id\":\"b1379f8a-1999-4cda-ad9d-f829cd57f7f3\",\"type\":\"ColumnDataSource\"},\"glyph\":{\"id\":\"dbc937f9-7bd3-4618-8f41-0411bca99bec\",\"type\":\"Line\"},\"hover_glyph\":null,\"nonselection_glyph\":{\"id\":\"a5af3403-b51f-4970-93e8-6ba8cb96af20\",\"type\":\"Line\"},\"selection_glyph\":null},\"id\":\"c2258eda-1dcb-4750-b822-eada7fe3b66b\",\"type\":\"GlyphRenderer\"},{\"attributes\":{\"background_fill_color\":{\"value\":\"#FFFFFF\"},\"below\":[{\"id\":\"62c57454-1c7d-4e87-acc0-a7a24fe57ba7\",\"type\":\"LinearAxis\"}],\"left\":[{\"id\":\"054e3fec-8820-4e90-85f8-a6150d3e5bb2\",\"type\":\"LinearAxis\"}],\"renderers\":[{\"id\":\"62c57454-1c7d-4e87-acc0-a7a24fe57ba7\",\"type\":\"LinearAxis\"},{\"id\":\"0c04c3c5-0a55-49ac-a104-b20ad36de6ee\",\"type\":\"Grid\"},{\"id\":\"054e3fec-8820-4e90-85f8-a6150d3e5bb2\",\"type\":\"LinearAxis\"},{\"id\":\"7d884ab3-e5ea-4c06-86b8-9dd9280f8543\",\"type\":\"Grid\"},{\"id\":\"91da0304-63bd-4eb9-836d-59210bf44532\",\"type\":\"BoxAnnotation\"},{\"id\":\"4dac4adb-480b-4456-b4f5-65dd6c7cc4a5\",\"type\":\"GlyphRenderer\"},{\"id\":\"cf46eace-0cfb-4414-bb81-2302ee72da9b\",\"type\":\"GlyphRenderer\"},{\"id\":\"c2258eda-1dcb-4750-b822-eada7fe3b66b\",\"type\":\"GlyphRenderer\"},{\"id\":\"b44290d0-42fd-4e62-8340-0b4bf37cb37d\",\"type\":\"GlyphRenderer\"}],\"title\":{\"id\":\"04a1a51d-fa64-4c64-9353-8f5a6088abd9\",\"type\":\"Title\"},\"tool_events\":{\"id\":\"6e678f59-bb44-470c-bdbe-b7c3cfc90a67\",\"type\":\"ToolEvents\"},\"toolbar\":{\"id\":\"3c21475b-b5ef-4c2e-8808-f6823192d802\",\"type\":\"Toolbar\"},\"x_range\":{\"id\":\"1fea57f6-40a6-4bb6-8988-c6a54304ffb2\",\"type\":\"DataRange1d\"},\"y_range\":{\"id\":\"4e7e5578-5d0e-4620-bdaf-6a90fdae5e7e\",\"type\":\"DataRange1d\"}},\"id\":\"cb4c54ea-0e96-4dee-b059-d084a2001da0\",\"subtype\":\"Figure\",\"type\":\"Plot\"},{\"attributes\":{\"line_color\":{\"value\":\"red\"},\"line_dash\":[6],\"x\":{\"field\":\"x\"},\"y\":{\"field\":\"y\"}},\"id\":\"dbc937f9-7bd3-4618-8f41-0411bca99bec\",\"type\":\"Line\"},{\"attributes\":{\"data_source\":{\"id\":\"7e99bc76-1f2f-4703-8c60-f345c544650e\",\"type\":\"ColumnDataSource\"},\"glyph\":{\"id\":\"18eaa0b2-2862-4f40-a479-accdf5ff44e1\",\"type\":\"Line\"},\"hover_glyph\":null,\"nonselection_glyph\":{\"id\":\"2fce9234-1b1d-404d-b489-66be9048c66e\",\"type\":\"Line\"},\"selection_glyph\":null},\"id\":\"cf46eace-0cfb-4414-bb81-2302ee72da9b\",\"type\":\"GlyphRenderer\"},{\"attributes\":{\"bottom\":{\"value\":0},\"fill_color\":{\"value\":\"#036564\"},\"left\":{\"field\":\"left\"},\"line_color\":{\"value\":\"#033649\"},\"right\":{\"field\":\"right\"},\"top\":{\"field\":\"top\"}},\"id\":\"894d22c8-224d-4182-b412-6a973c962f46\",\"type\":\"Quad\"},{\"attributes\":{},\"id\":\"6e678f59-bb44-470c-bdbe-b7c3cfc90a67\",\"type\":\"ToolEvents\"},{\"attributes\":{\"plot\":{\"id\":\"cb4c54ea-0e96-4dee-b059-d084a2001da0\",\"subtype\":\"Figure\",\"type\":\"Plot\"}},\"id\":\"66073a45-2c4e-4aff-8b4a-84bf5b2df866\",\"type\":\"ResetTool\"},{\"attributes\":{\"callback\":null,\"column_names\":[\"top\",\"left\",\"right\"],\"data\":{\"left\":[7.51421038829209,8.483805649636636,9.453400910981184,10.42299617232573,11.392591433670276,12.362186695014822,13.331781956359368,14.301377217703916,15.270972479048462,16.240567740393008,17.210163001737556,18.1797582630821,19.149353524426648,20.118948785771195,21.08854404711574,22.058139308460287,23.027734569804835,23.99732983114938,24.966925092493923,25.936520353838475,26.90611561518302,27.875710876527563,28.845306137872115,29.81490139921666,30.784496660561203,31.754091921905754,32.7236871832503,33.69328244459484,34.662877705939394,35.63247296728394,36.60206822862848,37.57166348997303,38.54125875131758,39.51085401266212,40.48044927400667,41.45004453535122,42.41963979669576,43.38923505804031,44.35883031938486,45.3284255807294,46.298020842073946,47.2676161034185,48.23721136476304,49.206806626107586,50.17640188745214,51.14599714879668,52.115592410141225,53.08518767148578,54.05478293283032,55.024378194174865],\"right\":[8.483805649636636,9.453400910981184,10.42299617232573,11.392591433670276,12.362186695014822,13.331781956359368,14.301377217703916,15.270972479048462,16.240567740393008,17.210163001737556,18.1797582630821,19.149353524426648,20.118948785771195,21.08854404711574,22.058139308460287,23.027734569804835,23.99732983114938,24.966925092493923,25.936520353838475,26.90611561518302,27.875710876527563,28.845306137872115,29.81490139921666,30.784496660561203,31.754091921905754,32.7236871832503,33.69328244459484,34.662877705939394,35.63247296728394,36.60206822862848,37.57166348997303,38.54125875131758,39.51085401266212,40.48044927400667,41.45004453535122,42.41963979669576,43.38923505804031,44.35883031938486,45.3284255807294,46.298020842073946,47.2676161034185,48.23721136476304,49.206806626107586,50.17640188745214,51.14599714879668,52.115592410141225,53.08518767148578,54.05478293283032,55.024378194174865,55.993973455519416],\"top\":[9,15,77,147,299,496,640,798,944,920,858,847,745,650,556,424,351,285,244,158,125,97,72,59,43,32,32,20,17,13,6,2,5,4,3,2,1,0,0,0,1,2,0,0,0,0,0,0,0,1]}},\"id\":\"413c0fc3-d64d-4b55-885a-a31ef051a185\",\"type\":\"ColumnDataSource\"},{\"attributes\":{\"line_color\":{\"value\":\"red\"},\"x\":{\"field\":\"x\"},\"y\":{\"field\":\"y\"}},\"id\":\"18eaa0b2-2862-4f40-a479-accdf5ff44e1\",\"type\":\"Line\"},{\"attributes\":{\"line_color\":{\"value\":\"red\"},\"line_dash\":[6],\"x\":{\"field\":\"x\"},\"y\":{\"field\":\"y\"}},\"id\":\"68912f58-1f79-430b-ac19-044fc41c7e9b\",\"type\":\"Line\"},{\"attributes\":{\"dimension\":1,\"plot\":{\"id\":\"cb4c54ea-0e96-4dee-b059-d084a2001da0\",\"subtype\":\"Figure\",\"type\":\"Plot\"},\"ticker\":{\"id\":\"2f535105-f473-49f0-8a74-78b5262dcb18\",\"type\":\"BasicTicker\"}},\"id\":\"7d884ab3-e5ea-4c06-86b8-9dd9280f8543\",\"type\":\"Grid\"},{\"attributes\":{\"bottom\":{\"value\":0},\"fill_alpha\":{\"value\":0.1},\"fill_color\":{\"value\":\"#1f77b4\"},\"left\":{\"field\":\"left\"},\"line_alpha\":{\"value\":0.1},\"line_color\":{\"value\":\"#1f77b4\"},\"right\":{\"field\":\"right\"},\"top\":{\"field\":\"top\"}},\"id\":\"983df05e-1452-4c94-9620-e3d2e0574ec9\",\"type\":\"Quad\"},{\"attributes\":{},\"id\":\"bc528716-bd49-4032-8b0c-4deaac3bac1d\",\"type\":\"BasicTickFormatter\"},{\"attributes\":{\"line_alpha\":{\"value\":0.1},\"line_color\":{\"value\":\"#1f77b4\"},\"x\":{\"field\":\"x\"},\"y\":{\"field\":\"y\"}},\"id\":\"2fce9234-1b1d-404d-b489-66be9048c66e\",\"type\":\"Line\"},{\"attributes\":{\"plot\":null,\"text\":\"unnamed_var14*9000000000*unnamed_var15/unnamed_var16**2 Histogram\"},\"id\":\"04a1a51d-fa64-4c64-9353-8f5a6088abd9\",\"type\":\"Title\"},{\"attributes\":{\"active_drag\":\"auto\",\"active_scroll\":\"auto\",\"active_tap\":\"auto\",\"tools\":[{\"id\":\"5cc37bdd-7775-4602-9b47-1d47af3aee80\",\"type\":\"SaveTool\"},{\"id\":\"ba437256-063e-42ad-be97-85af93592633\",\"type\":\"PanTool\"},{\"id\":\"a7d8fc0c-80af-4bd3-8e1c-dbbefe5efadc\",\"type\":\"BoxZoomTool\"},{\"id\":\"9f4c68b0-c1bb-4c82-85be-ad65e6c2666f\",\"type\":\"WheelZoomTool\"},{\"id\":\"66073a45-2c4e-4aff-8b4a-84bf5b2df866\",\"type\":\"ResetTool\"}]},\"id\":\"3c21475b-b5ef-4c2e-8808-f6823192d802\",\"type\":\"Toolbar\"},{\"attributes\":{},\"id\":\"3c81a1fe-25b4-4b9b-90db-f89bdf8e084e\",\"type\":\"BasicTicker\"},{\"attributes\":{\"callback\":null,\"column_names\":[\"x\",\"y\"],\"data\":{\"x\":[22.40908153700972,22.40908153700972],\"y\":[0,944]}},\"id\":\"665979ab-cdc5-4733-9441-053e666e292b\",\"type\":\"ColumnDataSource\"}],\"root_ids\":[\"cb4c54ea-0e96-4dee-b059-d084a2001da0\"]},\"title\":\"Bokeh Application\",\"version\":\"0.12.1\"}};\n",
       "            var render_items = [{\"docid\":\"7197ec4a-ca34-4481-a189-b679003c1dfe\",\"elementid\":\"abf75191-622e-465a-91ac-dacfb9b7fcb0\",\"modelid\":\"cb4c54ea-0e96-4dee-b059-d084a2001da0\",\"notebook_comms_target\":\"7ca1edbf-a0a3-49a9-9951-0f3fe0ae40f9\"}];\n",
       "            \n",
       "            Bokeh.embed.embed_items(docs_json, render_items);\n",
       "        });\n",
       "      },\n",
       "      function(Bokeh) {\n",
       "      }\n",
       "    ];\n",
       "  \n",
       "    function run_inline_js() {\n",
       "      for (var i = 0; i < inline_js.length; i++) {\n",
       "        inline_js[i](window.Bokeh);\n",
       "      }\n",
       "    }\n",
       "  \n",
       "    if (window._bokeh_is_loading === 0) {\n",
       "      console.log(\"Bokeh: BokehJS loaded, going straight to plotting\");\n",
       "      run_inline_js();\n",
       "    } else {\n",
       "      load_libs(js_urls, function() {\n",
       "        console.log(\"Bokeh: BokehJS plotting callback run at\", now());\n",
       "        run_inline_js();\n",
       "      });\n",
       "    }\n",
       "  }(this));\n",
       "</script>"
      ]
     },
     "metadata": {},
     "output_type": "display_data"
    },
    {
     "data": {
      "text/plain": [
       "<bokeh.plotting.figure.Figure at 0x1d74dbf2710>"
      ]
     },
     "execution_count": 15,
     "metadata": {},
     "output_type": "execute_result"
    }
   ],
   "source": [
    "#Measurements with 10% relative uncertainties:\n",
    "relative_factor = 0.1 \n",
    "\n",
    "#Measured values\n",
    "q1m=1e-6\n",
    "q2m=2e-5\n",
    "rm=0.1\n",
    "\n",
    "#Convert to Measurement objects\n",
    "q1 = q.Measurement(q1m,relative_factor*q1m)\n",
    "q2 = q.Measurement(q2m,relative_factor*q2m)\n",
    "r = q.Measurement(rm,relative_factor*rm)\n",
    "#Coulomb's constant:\n",
    "k = 9e9 \n",
    "\n",
    "#Define the Force:\n",
    "F = k*q1*q2/r**2\n",
    "\n",
    "#Print out the different errors\n",
    "q.set_error_method(\"derivative\")\n",
    "print(\"Derivative method, F = \",F)\n",
    "q.set_error_method(\"minmax\")\n",
    "print(\"Min-Max method, F =\", F)\n",
    "q.set_error_method(\"mc\")\n",
    "print(\"Monte Carlo method, F =\",F)\n",
    "\n",
    "q.plot_engine=\"bokeh\"\n",
    "F.show_MC_histogram()"
   ]
  },
  {
   "cell_type": "markdown",
   "metadata": {},
   "source": [
    "## Printing style and formatting\n",
    "QExPy can print results in different styles, and the user can assign names and units to variables (although one should not rely on units being correctly propagated). If one assigns and name and units to a variable, the print() function will automatically include those when printing out the variable.\n",
    "\n",
    "One can also set the \"print style\" to be either \"Default\", \"Scientific\" or \"Latex\". In the scientific and default styles, QExPy will factor out the powers of 10 to make the central value and uncertainty easier to compare. "
   ]
  },
  {
   "cell_type": "code",
   "execution_count": 16,
   "metadata": {
    "collapsed": false
   },
   "outputs": [
    {
     "name": "stdout",
     "output_type": "stream",
     "text": [
      "distance = (10000 +/- 1220)*10^(-3) [m]\n",
      "distance = (10000 \\pm 1220)*10^{-3}\\,m\n",
      "distance = 10.000 +/- 1.220 [m]\n"
     ]
    }
   ],
   "source": [
    "x = q.Measurement(10,1.22,name=\"distance\", units=\"m\")\n",
    "q.set_print_style(\"Scientific\")\n",
    "print(x)\n",
    "q.set_print_style(\"Latex\")\n",
    "print(x)\n",
    "q.set_print_style(\"Default\")\n",
    "print(x)"
   ]
  },
  {
   "cell_type": "markdown",
   "metadata": {
    "collapsed": false
   },
   "source": [
    "## Exact derivatives\n",
    "Since QExPy needs to be able to evaluate derivatives (by using the automatic differentiation algorithm that exploits the Chain Rule), we can use QExPy to evaluate numerical derivatives exactly. That is, given a function, $f(x,y)$, QExPy can evaluate $\\frac{\\partial f(x,y)}{\\partial x}$ at a given value of $x$ and $y$.\n",
    "\n",
    "For example, if we have:\n",
    "$$x(t) = \\frac{1}{2}gt^2 $$\n",
    "\n",
    "and we have measured $t=8 \\pm 1$, we can evaluate the exact value of the derivative:\n",
    "\n",
    "$$\\frac{\\partial x(t)}{\\partial t} = \\frac{d x(t)}{d t}  = gt$$\n",
    "\n",
    "at $t=8 \\pm 1$\n"
   ]
  },
  {
   "cell_type": "code",
   "execution_count": 17,
   "metadata": {
    "collapsed": false
   },
   "outputs": [
    {
     "name": "stdout",
     "output_type": "stream",
     "text": [
      "78.48\n"
     ]
    }
   ],
   "source": [
    "t = q.Measurement(8,1)\n",
    "x = 0.5 * 9.81 * t**2\n",
    "print(x.get_derivative(t))"
   ]
  },
  {
   "cell_type": "code",
   "execution_count": null,
   "metadata": {
    "collapsed": false
   },
   "outputs": [],
   "source": []
  }
 ],
 "metadata": {
  "anaconda-cloud": {},
  "kernelspec": {
   "display_name": "Python [default]",
   "language": "python",
   "name": "python3"
  },
  "language_info": {
   "codemirror_mode": {
    "name": "ipython",
    "version": 3
   },
   "file_extension": ".py",
   "mimetype": "text/x-python",
   "name": "python",
   "nbconvert_exporter": "python",
   "pygments_lexer": "ipython3",
   "version": "3.5.2"
  }
 },
 "nbformat": 4,
 "nbformat_minor": 0
}
