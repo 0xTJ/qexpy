{
 "cells": [
  {
   "cell_type": "markdown",
   "metadata": {},
   "source": [
    "# Error Propagation with QExPy\n",
    "\n",
    "The first step is to import the error module for error propagation. We'll import it as \"q\":"
   ]
  },
  {
   "cell_type": "code",
   "execution_count": 1,
   "metadata": {
    "collapsed": false
   },
   "outputs": [
    {
     "data": {
      "text/html": [
       "\n",
       "    <div class=\"bk-root\">\n",
       "        <a href=\"http://bokeh.pydata.org\" target=\"_blank\" class=\"bk-logo bk-logo-small bk-logo-notebook\"></a>\n",
       "        <span id=\"27f5bd5d-be76-4417-8060-775df8356902\">Loading BokehJS ...</span>\n",
       "    </div>"
      ]
     },
     "metadata": {},
     "output_type": "display_data"
    },
    {
     "data": {
      "application/javascript": [
       "\n",
       "(function(global) {\n",
       "  function now() {\n",
       "    return new Date();\n",
       "  }\n",
       "\n",
       "  var force = true;\n",
       "\n",
       "  if (typeof (window._bokeh_onload_callbacks) === \"undefined\" || force === true) {\n",
       "    window._bokeh_onload_callbacks = [];\n",
       "    window._bokeh_is_loading = undefined;\n",
       "  }\n",
       "\n",
       "\n",
       "  \n",
       "  if (typeof (window._bokeh_timeout) === \"undefined\" || force === true) {\n",
       "    window._bokeh_timeout = Date.now() + 5000;\n",
       "    window._bokeh_failed_load = false;\n",
       "  }\n",
       "\n",
       "  var NB_LOAD_WARNING = {'data': {'text/html':\n",
       "     \"<div style='background-color: #fdd'>\\n\"+\n",
       "     \"<p>\\n\"+\n",
       "     \"BokehJS does not appear to have successfully loaded. If loading BokehJS from CDN, this \\n\"+\n",
       "     \"may be due to a slow or bad network connection. Possible fixes:\\n\"+\n",
       "     \"</p>\\n\"+\n",
       "     \"<ul>\\n\"+\n",
       "     \"<li>re-rerun `output_notebook()` to attempt to load from CDN again, or</li>\\n\"+\n",
       "     \"<li>use INLINE resources instead, as so:</li>\\n\"+\n",
       "     \"</ul>\\n\"+\n",
       "     \"<code>\\n\"+\n",
       "     \"from bokeh.resources import INLINE\\n\"+\n",
       "     \"output_notebook(resources=INLINE)\\n\"+\n",
       "     \"</code>\\n\"+\n",
       "     \"</div>\"}};\n",
       "\n",
       "  function display_loaded() {\n",
       "    if (window.Bokeh !== undefined) {\n",
       "      document.getElementById(\"27f5bd5d-be76-4417-8060-775df8356902\").textContent = \"BokehJS successfully loaded.\";\n",
       "    } else if (Date.now() < window._bokeh_timeout) {\n",
       "      setTimeout(display_loaded, 100)\n",
       "    }\n",
       "  }\n",
       "\n",
       "  function run_callbacks() {\n",
       "    window._bokeh_onload_callbacks.forEach(function(callback) { callback() });\n",
       "    delete window._bokeh_onload_callbacks\n",
       "    console.info(\"Bokeh: all callbacks have finished\");\n",
       "  }\n",
       "\n",
       "  function load_libs(js_urls, callback) {\n",
       "    window._bokeh_onload_callbacks.push(callback);\n",
       "    if (window._bokeh_is_loading > 0) {\n",
       "      console.log(\"Bokeh: BokehJS is being loaded, scheduling callback at\", now());\n",
       "      return null;\n",
       "    }\n",
       "    if (js_urls == null || js_urls.length === 0) {\n",
       "      run_callbacks();\n",
       "      return null;\n",
       "    }\n",
       "    console.log(\"Bokeh: BokehJS not loaded, scheduling load and callback at\", now());\n",
       "    window._bokeh_is_loading = js_urls.length;\n",
       "    for (var i = 0; i < js_urls.length; i++) {\n",
       "      var url = js_urls[i];\n",
       "      var s = document.createElement('script');\n",
       "      s.src = url;\n",
       "      s.async = false;\n",
       "      s.onreadystatechange = s.onload = function() {\n",
       "        window._bokeh_is_loading--;\n",
       "        if (window._bokeh_is_loading === 0) {\n",
       "          console.log(\"Bokeh: all BokehJS libraries loaded\");\n",
       "          run_callbacks()\n",
       "        }\n",
       "      };\n",
       "      s.onerror = function() {\n",
       "        console.warn(\"failed to load library \" + url);\n",
       "      };\n",
       "      console.log(\"Bokeh: injecting script tag for BokehJS library: \", url);\n",
       "      document.getElementsByTagName(\"head\")[0].appendChild(s);\n",
       "    }\n",
       "  };var element = document.getElementById(\"27f5bd5d-be76-4417-8060-775df8356902\");\n",
       "  if (element == null) {\n",
       "    console.log(\"Bokeh: ERROR: autoload.js configured with elementid '27f5bd5d-be76-4417-8060-775df8356902' but no matching script tag was found. \")\n",
       "    return false;\n",
       "  }\n",
       "\n",
       "  var js_urls = [\"https://cdn.pydata.org/bokeh/release/bokeh-0.12.4.min.js\", \"https://cdn.pydata.org/bokeh/release/bokeh-widgets-0.12.4.min.js\"];\n",
       "\n",
       "  var inline_js = [\n",
       "    function(Bokeh) {\n",
       "      Bokeh.set_log_level(\"info\");\n",
       "    },\n",
       "    \n",
       "    function(Bokeh) {\n",
       "      \n",
       "      document.getElementById(\"27f5bd5d-be76-4417-8060-775df8356902\").textContent = \"BokehJS is loading...\";\n",
       "    },\n",
       "    function(Bokeh) {\n",
       "      console.log(\"Bokeh: injecting CSS: https://cdn.pydata.org/bokeh/release/bokeh-0.12.4.min.css\");\n",
       "      Bokeh.embed.inject_css(\"https://cdn.pydata.org/bokeh/release/bokeh-0.12.4.min.css\");\n",
       "      console.log(\"Bokeh: injecting CSS: https://cdn.pydata.org/bokeh/release/bokeh-widgets-0.12.4.min.css\");\n",
       "      Bokeh.embed.inject_css(\"https://cdn.pydata.org/bokeh/release/bokeh-widgets-0.12.4.min.css\");\n",
       "    }\n",
       "  ];\n",
       "\n",
       "  function run_inline_js() {\n",
       "    \n",
       "    if ((window.Bokeh !== undefined) || (force === true)) {\n",
       "      for (var i = 0; i < inline_js.length; i++) {\n",
       "        inline_js[i](window.Bokeh);\n",
       "      }if (force === true) {\n",
       "        display_loaded();\n",
       "      }} else if (Date.now() < window._bokeh_timeout) {\n",
       "      setTimeout(run_inline_js, 100);\n",
       "    } else if (!window._bokeh_failed_load) {\n",
       "      console.log(\"Bokeh: BokehJS failed to load within specified timeout.\");\n",
       "      window._bokeh_failed_load = true;\n",
       "    } else if (force !== true) {\n",
       "      var cell = $(document.getElementById(\"27f5bd5d-be76-4417-8060-775df8356902\")).parents('.cell').data().cell;\n",
       "      cell.output_area.append_execute_result(NB_LOAD_WARNING)\n",
       "    }\n",
       "\n",
       "  }\n",
       "\n",
       "  if (window._bokeh_is_loading === 0) {\n",
       "    console.log(\"Bokeh: BokehJS loaded, going straight to plotting\");\n",
       "    run_inline_js();\n",
       "  } else {\n",
       "    load_libs(js_urls, function() {\n",
       "      console.log(\"Bokeh: BokehJS plotting callback run at\", now());\n",
       "      run_inline_js();\n",
       "    });\n",
       "  }\n",
       "}(this));"
      ]
     },
     "metadata": {},
     "output_type": "display_data"
    }
   ],
   "source": [
    "import qexpy as q"
   ]
  },
  {
   "cell_type": "markdown",
   "metadata": {},
   "source": [
    "Next, we'll declare two measured values, x and y, with uncertainties, and print them out. We use the Measurement object from qexpy:"
   ]
  },
  {
   "cell_type": "code",
   "execution_count": 2,
   "metadata": {
    "collapsed": false,
    "scrolled": true
   },
   "outputs": [
    {
     "name": "stdout",
     "output_type": "stream",
     "text": [
      "x = 10 +/- 1\n",
      "y = 5 +/- 3\n"
     ]
    }
   ],
   "source": [
    "#Our two measured values:\n",
    "x = q.Measurement(10,1)\n",
    "y = q.Measurement(5,3)\n",
    "\n",
    "#We can print them out:\n",
    "print(\"x =\",x)\n",
    "print(\"y =\",y)\n",
    "#x.set_correlation(y,0.3)"
   ]
  },
  {
   "cell_type": "markdown",
   "metadata": {},
   "source": [
    "We can declare a third object, z, which depends on x and y. The uncertainty in x and y will be correctly propagated to z, so once we have defined z, we can simply print it out with the correct uncertainty:"
   ]
  },
  {
   "cell_type": "code",
   "execution_count": 3,
   "metadata": {
    "collapsed": false
   },
   "outputs": [
    {
     "name": "stdout",
     "output_type": "stream",
     "text": [
      "z = 15 +/- 3\n"
     ]
    }
   ],
   "source": [
    "#We define z\n",
    "z = x+y\n",
    "#z can now be printed out\n",
    "print(\"z =\",z)"
   ]
  },
  {
   "cell_type": "markdown",
   "metadata": {},
   "source": [
    "Note how the uncertainties have been kept to 1 significant figure. In this case, the error in z was obtained by adding the errors in x and y in quadrature. We can change the number of significant figures to confirm that the errors were indeed added in quadrature. We can choose between setting  the number of significant figures based on the uncertainty (more common) or based on the central value."
   ]
  },
  {
   "cell_type": "code",
   "execution_count": 4,
   "metadata": {
    "collapsed": false
   },
   "outputs": [
    {
     "name": "stdout",
     "output_type": "stream",
     "text": [
      "z = 15.000 +/- 3.162\n"
     ]
    }
   ],
   "source": [
    "q.set_sigfigs_error(4) # set sigfigs based on the error\n",
    "print(\"z =\",z)"
   ]
  },
  {
   "cell_type": "markdown",
   "metadata": {},
   "source": [
    "Let's compare the error in z to what the errors in x and y are when added manually in quadrature. We need to import the sqrt() function from the math package to apply mathematical functions to numbers:"
   ]
  },
  {
   "cell_type": "code",
   "execution_count": 5,
   "metadata": {
    "collapsed": false
   },
   "outputs": [
    {
     "name": "stdout",
     "output_type": "stream",
     "text": [
      "3.1622776601683795\n"
     ]
    }
   ],
   "source": [
    "import math as m\n",
    "quadrature = m.sqrt(x.std**2+y.std**2)\n",
    "print(quadrature)"
   ]
  },
  {
   "cell_type": "markdown",
   "metadata": {},
   "source": [
    "## Math functions\n",
    "We can propagate the uncertainties through any operator (+,-,\\*,/) automatically as we showed above. QExPy also knows how to propagate the uncertainty through common mathematical functions. To use mathematical functions on Measurement objects, we need to call the functions from the QExPy package (as opposed to the math package as we did above for 2 numbers)."
   ]
  },
  {
   "cell_type": "code",
   "execution_count": 6,
   "metadata": {
    "collapsed": false
   },
   "outputs": [
    {
     "name": "stdout",
     "output_type": "stream",
     "text": [
      "time =  1.277102 +/- 0.007982 seconds\n"
     ]
    }
   ],
   "source": [
    "#If an object fell a distance of 8.0 +/0.1 m, how long did it take to fall?\n",
    "y = q.Measurement(8,0.1)\n",
    "g = 9.81\n",
    "t = q.sqrt(2*y/g)\n",
    "print(\"time = \",t, \"seconds\")"
   ]
  },
  {
   "cell_type": "markdown",
   "metadata": {},
   "source": [
    "## Error in correlated quantities\n",
    "If we have two measurements, x and y, that are correlated, then their correlation factor will impact the uncertainty on a quantity that depends on them:"
   ]
  },
  {
   "cell_type": "code",
   "execution_count": 7,
   "metadata": {
    "collapsed": false
   },
   "outputs": [
    {
     "name": "stdout",
     "output_type": "stream",
     "text": [
      "x and y uncorrelated: z= 15.000 +/- 3.162\n",
      "x and y positively correlated: z= 15.000 +/- 3.606\n",
      "x and y negatively correlated: z= 15.000 +/- 2.646\n"
     ]
    }
   ],
   "source": [
    "x = q.Measurement(10,1)\n",
    "y = q.Measurement(5,3)\n",
    "z = x+y\n",
    "print(\"x and y uncorrelated: z=\",z)\n",
    "\n",
    "#Now set a correlation factor between x and y:\n",
    "x.set_correlation(y,0.5)\n",
    "z = x+y\n",
    "print(\"x and y positively correlated: z=\",z)\n",
    "\n",
    "#We can also use the covariance factor instead of the correlation factor:\n",
    "x.set_covariance(y,-1.5)\n",
    "z = x+y\n",
    "print(\"x and y negatively correlated: z=\",z)"
   ]
  },
  {
   "cell_type": "markdown",
   "metadata": {},
   "source": [
    "If we don't specify any correlation factors, then all quantities are assumed to be independent. However, a quantity should not be independent from itself, so QExPy knows how to track the correlation in quantities that depend on common quantities. "
   ]
  },
  {
   "cell_type": "code",
   "execution_count": 8,
   "metadata": {
    "collapsed": false
   },
   "outputs": [
    {
     "name": "stdout",
     "output_type": "stream",
     "text": [
      "0.000 +/- 0.000\n"
     ]
    }
   ],
   "source": [
    "x = q.Measurement(10,1)\n",
    "y = x*x\n",
    "z = x*x - y #this should be 0 +/- 0, since it's really x^2 - x^2 \n",
    "print(z)"
   ]
  },
  {
   "cell_type": "markdown",
   "metadata": {
    "collapsed": true
   },
   "source": [
    "## Statistical measurements\n",
    "QExPy can also handle the case when you have repeated measurements of a single quantity and you want to average them together. Suppose that you have measured 5 values of some quantity T. QExPy will automatically assume that those values should be averaged together so that T is given by the mean of the measured values with an uncertainty given by the standard deviation of the values.\n"
   ]
  },
  {
   "cell_type": "code",
   "execution_count": 9,
   "metadata": {
    "collapsed": false
   },
   "outputs": [
    {
     "name": "stdout",
     "output_type": "stream",
     "text": [
      "5.3000 +/- 0.5431\n"
     ]
    }
   ],
   "source": [
    "T=q.Measurement( [5.6, 4.8, 6.1, 4.9, 5.1 ] )\n",
    "print(T)"
   ]
  },
  {
   "cell_type": "markdown",
   "metadata": {},
   "source": [
    "T can be used just as any other measurement with uncertainties, and its error will be propagate correctly:"
   ]
  },
  {
   "cell_type": "code",
   "execution_count": 10,
   "metadata": {
    "collapsed": false
   },
   "outputs": [
    {
     "name": "stdout",
     "output_type": "stream",
     "text": [
      "1.1849 +/- 0.1214\n"
     ]
    }
   ],
   "source": [
    "omega = 2*3.14/T\n",
    "print(omega)"
   ]
  },
  {
   "cell_type": "markdown",
   "metadata": {},
   "source": [
    "If we have measured many values, it can sometimes be useful to visualize those measurements in a histogram. QExPy will automatically create a histogram of the values, showing lines corresponding to the mean and the range covered by one standard deviation"
   ]
  },
  {
   "cell_type": "code",
   "execution_count": 11,
   "metadata": {
    "collapsed": false
   },
   "outputs": [
    {
     "data": {
      "text/html": [
       "\n",
       "\n",
       "    <div class=\"bk-root\">\n",
       "        <div class=\"bk-plotdiv\" id=\"b5202c1e-303f-47d7-81da-d415cbf0676e\"></div>\n",
       "    </div>\n",
       "<script type=\"text/javascript\">\n",
       "  \n",
       "  (function(global) {\n",
       "    function now() {\n",
       "      return new Date();\n",
       "    }\n",
       "  \n",
       "    var force = false;\n",
       "  \n",
       "    if (typeof (window._bokeh_onload_callbacks) === \"undefined\" || force === true) {\n",
       "      window._bokeh_onload_callbacks = [];\n",
       "      window._bokeh_is_loading = undefined;\n",
       "    }\n",
       "  \n",
       "  \n",
       "    \n",
       "    if (typeof (window._bokeh_timeout) === \"undefined\" || force === true) {\n",
       "      window._bokeh_timeout = Date.now() + 0;\n",
       "      window._bokeh_failed_load = false;\n",
       "    }\n",
       "  \n",
       "    var NB_LOAD_WARNING = {'data': {'text/html':\n",
       "       \"<div style='background-color: #fdd'>\\n\"+\n",
       "       \"<p>\\n\"+\n",
       "       \"BokehJS does not appear to have successfully loaded. If loading BokehJS from CDN, this \\n\"+\n",
       "       \"may be due to a slow or bad network connection. Possible fixes:\\n\"+\n",
       "       \"</p>\\n\"+\n",
       "       \"<ul>\\n\"+\n",
       "       \"<li>re-rerun `output_notebook()` to attempt to load from CDN again, or</li>\\n\"+\n",
       "       \"<li>use INLINE resources instead, as so:</li>\\n\"+\n",
       "       \"</ul>\\n\"+\n",
       "       \"<code>\\n\"+\n",
       "       \"from bokeh.resources import INLINE\\n\"+\n",
       "       \"output_notebook(resources=INLINE)\\n\"+\n",
       "       \"</code>\\n\"+\n",
       "       \"</div>\"}};\n",
       "  \n",
       "    function display_loaded() {\n",
       "      if (window.Bokeh !== undefined) {\n",
       "        document.getElementById(\"b5202c1e-303f-47d7-81da-d415cbf0676e\").textContent = \"BokehJS successfully loaded.\";\n",
       "      } else if (Date.now() < window._bokeh_timeout) {\n",
       "        setTimeout(display_loaded, 100)\n",
       "      }\n",
       "    }if ((window.Jupyter !== undefined) && Jupyter.notebook.kernel) {\n",
       "      comm_manager = Jupyter.notebook.kernel.comm_manager\n",
       "      comm_manager.register_target(\"05714e06-a95a-427f-a400-1b0ddd3924ea\", function () {});\n",
       "    }\n",
       "  \n",
       "    function run_callbacks() {\n",
       "      window._bokeh_onload_callbacks.forEach(function(callback) { callback() });\n",
       "      delete window._bokeh_onload_callbacks\n",
       "      console.info(\"Bokeh: all callbacks have finished\");\n",
       "    }\n",
       "  \n",
       "    function load_libs(js_urls, callback) {\n",
       "      window._bokeh_onload_callbacks.push(callback);\n",
       "      if (window._bokeh_is_loading > 0) {\n",
       "        console.log(\"Bokeh: BokehJS is being loaded, scheduling callback at\", now());\n",
       "        return null;\n",
       "      }\n",
       "      if (js_urls == null || js_urls.length === 0) {\n",
       "        run_callbacks();\n",
       "        return null;\n",
       "      }\n",
       "      console.log(\"Bokeh: BokehJS not loaded, scheduling load and callback at\", now());\n",
       "      window._bokeh_is_loading = js_urls.length;\n",
       "      for (var i = 0; i < js_urls.length; i++) {\n",
       "        var url = js_urls[i];\n",
       "        var s = document.createElement('script');\n",
       "        s.src = url;\n",
       "        s.async = false;\n",
       "        s.onreadystatechange = s.onload = function() {\n",
       "          window._bokeh_is_loading--;\n",
       "          if (window._bokeh_is_loading === 0) {\n",
       "            console.log(\"Bokeh: all BokehJS libraries loaded\");\n",
       "            run_callbacks()\n",
       "          }\n",
       "        };\n",
       "        s.onerror = function() {\n",
       "          console.warn(\"failed to load library \" + url);\n",
       "        };\n",
       "        console.log(\"Bokeh: injecting script tag for BokehJS library: \", url);\n",
       "        document.getElementsByTagName(\"head\")[0].appendChild(s);\n",
       "      }\n",
       "    };var element = document.getElementById(\"b5202c1e-303f-47d7-81da-d415cbf0676e\");\n",
       "    if (element == null) {\n",
       "      console.log(\"Bokeh: ERROR: autoload.js configured with elementid 'b5202c1e-303f-47d7-81da-d415cbf0676e' but no matching script tag was found. \")\n",
       "      return false;\n",
       "    }\n",
       "  \n",
       "    var js_urls = [];\n",
       "  \n",
       "    var inline_js = [\n",
       "      function(Bokeh) {\n",
       "        (function() {\n",
       "          var fn = function() {\n",
       "            var docs_json = {\"7583bdc9-e4de-470b-abac-6bbc28e91dac\":{\"roots\":{\"references\":[{\"attributes\":{\"callback\":null,\"column_names\":[\"x\",\"y\"],\"data\":{\"x\":[4.756860975439989,4.756860975439989],\"y\":[0,1.2]}},\"id\":\"a68ab429-bd35-4f8f-bf48-4a31b6eb887e\",\"type\":\"ColumnDataSource\"},{\"attributes\":{\"line_alpha\":{\"value\":0.1},\"line_color\":{\"value\":\"#1f77b4\"},\"x\":{\"field\":\"x\"},\"y\":{\"field\":\"y\"}},\"id\":\"748863a0-c17e-478f-a8c3-b861f106f229\",\"type\":\"Line\"},{\"attributes\":{\"plot\":{\"id\":\"9e16cc27-bf09-4e88-abd0-b2d65f1c5dd0\",\"subtype\":\"Figure\",\"type\":\"Plot\"},\"ticker\":{\"id\":\"1673dfa8-a7c4-4604-992b-c5017c9468c8\",\"type\":\"BasicTicker\"}},\"id\":\"3443edf1-54b9-4a6c-939f-9d0f95fe66bc\",\"type\":\"Grid\"},{\"attributes\":{\"items\":[{\"id\":\"7701b3ba-9b7c-44d8-8c94-e28c39205c81\",\"type\":\"LegendItem\"}],\"location\":\"top_left\",\"plot\":{\"id\":\"9e16cc27-bf09-4e88-abd0-b2d65f1c5dd0\",\"subtype\":\"Figure\",\"type\":\"Plot\"}},\"id\":\"f431d1db-39fb-4a74-b599-8c56619969ec\",\"type\":\"Legend\"},{\"attributes\":{\"data_source\":{\"id\":\"a68ab429-bd35-4f8f-bf48-4a31b6eb887e\",\"type\":\"ColumnDataSource\"},\"glyph\":{\"id\":\"02b5e446-ef33-43cf-9919-bb7a898a23ca\",\"type\":\"Line\"},\"hover_glyph\":null,\"nonselection_glyph\":{\"id\":\"8585758b-ea6a-4f0f-90a5-7dc19a3d9040\",\"type\":\"Line\"},\"selection_glyph\":null},\"id\":\"ceae831a-3ab7-4982-ad51-9d86fbde3968\",\"type\":\"GlyphRenderer\"},{\"attributes\":{\"axis_label\":\"unnamed_arr1 []\",\"formatter\":{\"id\":\"ba1d21f4-e241-4349-b5f8-b8c523adef41\",\"type\":\"BasicTickFormatter\"},\"plot\":{\"id\":\"9e16cc27-bf09-4e88-abd0-b2d65f1c5dd0\",\"subtype\":\"Figure\",\"type\":\"Plot\"},\"ticker\":{\"id\":\"8fccc62b-0ccb-49bb-8946-c755a80ea09e\",\"type\":\"BasicTicker\"}},\"id\":\"d526d3d6-94d4-4860-8eeb-b40cd7c56e9a\",\"type\":\"LinearAxis\"},{\"attributes\":{\"line_alpha\":{\"value\":0.1},\"line_color\":{\"value\":\"#1f77b4\"},\"line_dash\":[6],\"x\":{\"field\":\"x\"},\"y\":{\"field\":\"y\"}},\"id\":\"9620d803-40c7-43bb-8596-9f79fd7cd01f\",\"type\":\"Line\"},{\"attributes\":{\"callback\":null,\"column_names\":[\"x\",\"y\"],\"data\":{\"x\":[5.3,5.3],\"y\":[0,1.2]}},\"id\":\"b6201774-4af9-49e8-a603-8ed630fc03b2\",\"type\":\"ColumnDataSource\"},{\"attributes\":{\"data_source\":{\"id\":\"e489caa7-3bfd-4e57-8606-9e7cb701987c\",\"type\":\"ColumnDataSource\"},\"glyph\":{\"id\":\"2b6cacf1-fe13-45d5-acc4-db7860c025cd\",\"type\":\"Line\"},\"hover_glyph\":null,\"nonselection_glyph\":{\"id\":\"9620d803-40c7-43bb-8596-9f79fd7cd01f\",\"type\":\"Line\"},\"selection_glyph\":null},\"id\":\"0f54538b-22f4-449d-af9a-dde3510d1198\",\"type\":\"GlyphRenderer\"},{\"attributes\":{\"callback\":null,\"column_names\":[\"top\",\"right\",\"left\"],\"data\":{\"left\":{\"__ndarray__\":\"MzMzMzMzE0Dn+6nx0k0TQJvEILByaBNAUI2XbhKDE0AEVg4tsp0TQLgehetRuBNAbOf7qfHSE0AhsHJoke0TQNV46SYxCBRAiUFg5dAiFEA9CtejcD0UQPHSTWIQWBRAppvEILByFEBaZDvfT40UQA4tsp3vpxRAwvUoXI/CFEB2vp8aL90UQCuHFtnO9xRA30+Nl24SFUCTGARWDi0VQEfhehSuRxVA/Knx0k1iFUCwcmiR7XwVQGQ730+NlxVAGARWDi2yFUDMzMzMzMwVQIGVQ4ts5xVANV66SQwCFkDpJjEIrBwWQJ3vp8ZLNxZAUrgehetRFkAGgZVDi2wWQLpJDAIrhxZAbhKDwMqhFkAi2/l+arwWQNejcD0K1xZAi2zn+6nxFkA/NV66SQwXQPP91HjpJhdAqMZLN4lBF0Bcj8L1KFwXQBBYObTIdhdAxCCwcmiRF0B46SYxCKwXQCyyne+nxhdA4XoUrkfhF0CVQ4ts5/sXQEkMAiuHFhhA/tR46SYxGECyne+nxksYQA==\",\"dtype\":\"float64\",\"shape\":[50]},\"right\":{\"__ndarray__\":\"5/up8dJNE0CbxCCwcmgTQFCNl24SgxNABFYOLbKdE0C4HoXrUbgTQGzn+6nx0hNAIbByaJHtE0DVeOkmMQgUQIlBYOXQIhRAPQrXo3A9FEDx0k1iEFgUQKabxCCwchRAWmQ730+NFEAOLbKd76cUQML1KFyPwhRAdr6fGi/dFEArhxbZzvcUQN9PjZduEhVAkxgEVg4tFUBH4XoUrkcVQPyp8dJNYhVAsHJoke18FUBkO99PjZcVQBgEVg4tshVAzMzMzMzMFUCBlUOLbOcVQDVeukkMAhZA6SYxCKwcFkCd76fGSzcWQFK4HoXrURZABoGVQ4tsFkC6SQwCK4cWQG4Sg8DKoRZAItv5fmq8FkDXo3A9CtcWQIts5/up8RZAPzVeukkMF0Dz/dR46SYXQKjGSzeJQRdAXI/C9ShcF0AQWDm0yHYXQMQgsHJokRdAeOkmMQisF0Assp3vp8YXQOF6FK5H4RdAlUOLbOf7F0BJDAIrhxYYQP7UeOkmMRhAsp3vp8ZLGEBmZmZmZmYYQA==\",\"dtype\":\"float64\",\"shape\":[50]},\"top\":[1,0,0,1,0,0,0,0,0,0,0,1,0,0,0,0,0,0,0,0,0,0,0,0,0,0,0,0,0,0,1,0,0,0,0,0,0,0,0,0,0,0,0,0,0,0,0,0,0,1]}},\"id\":\"82bc647b-ff45-49aa-8adb-1d6f8ed248ae\",\"type\":\"ColumnDataSource\"},{\"attributes\":{\"plot\":{\"id\":\"9e16cc27-bf09-4e88-abd0-b2d65f1c5dd0\",\"subtype\":\"Figure\",\"type\":\"Plot\"}},\"id\":\"4547419b-4982-40fc-9e63-6d8361c5cd8e\",\"type\":\"PanTool\"},{\"attributes\":{\"axis_label\":\"unnamed_arr0 []\",\"formatter\":{\"id\":\"1c9b02b5-42b6-482b-b992-e8ccc916c24d\",\"type\":\"BasicTickFormatter\"},\"plot\":{\"id\":\"9e16cc27-bf09-4e88-abd0-b2d65f1c5dd0\",\"subtype\":\"Figure\",\"type\":\"Plot\"},\"ticker\":{\"id\":\"1673dfa8-a7c4-4604-992b-c5017c9468c8\",\"type\":\"BasicTicker\"}},\"id\":\"38cbf8c7-902e-44b6-893c-785f423a86f2\",\"type\":\"LinearAxis\"},{\"attributes\":{\"callback\":null,\"column_names\":[\"x\",\"y\"],\"data\":{\"x\":[5.843139024560011,5.843139024560011],\"y\":[0,1.2]}},\"id\":\"e489caa7-3bfd-4e57-8606-9e7cb701987c\",\"type\":\"ColumnDataSource\"},{\"attributes\":{\"line_color\":{\"value\":\"red\"},\"line_dash\":[6],\"x\":{\"field\":\"x\"},\"y\":{\"field\":\"y\"}},\"id\":\"02b5e446-ef33-43cf-9919-bb7a898a23ca\",\"type\":\"Line\"},{\"attributes\":{\"plot\":{\"id\":\"9e16cc27-bf09-4e88-abd0-b2d65f1c5dd0\",\"subtype\":\"Figure\",\"type\":\"Plot\"}},\"id\":\"de8684b3-4ae2-46c9-b784-1ad3c22fa847\",\"type\":\"WheelZoomTool\"},{\"attributes\":{\"bottom_units\":\"screen\",\"fill_alpha\":{\"value\":0.5},\"fill_color\":{\"value\":\"lightgrey\"},\"left_units\":\"screen\",\"level\":\"overlay\",\"line_alpha\":{\"value\":1.0},\"line_color\":{\"value\":\"black\"},\"line_dash\":[4,4],\"line_width\":{\"value\":2},\"plot\":null,\"render_mode\":\"css\",\"right_units\":\"screen\",\"top_units\":\"screen\"},\"id\":\"8e3a4479-9fe7-440a-9f04-541e25408be6\",\"type\":\"BoxAnnotation\"},{\"attributes\":{\"callback\":null,\"end\":6.405,\"start\":4.56},\"id\":\"443a604c-7d1e-4b3b-9ac4-abce80f20471\",\"type\":\"Range1d\"},{\"attributes\":{\"active_drag\":\"auto\",\"active_scroll\":\"auto\",\"active_tap\":\"auto\",\"tools\":[{\"id\":\"c1aa0db6-2302-4770-9ba8-94ab0e090844\",\"type\":\"SaveTool\"},{\"id\":\"4547419b-4982-40fc-9e63-6d8361c5cd8e\",\"type\":\"PanTool\"},{\"id\":\"a2cba71d-f441-47df-ab61-28cd28e9fa44\",\"type\":\"BoxZoomTool\"},{\"id\":\"de8684b3-4ae2-46c9-b784-1ad3c22fa847\",\"type\":\"WheelZoomTool\"},{\"id\":\"776a6db6-700c-4d72-9760-8b04c581d3c2\",\"type\":\"ResetTool\"}]},\"id\":\"32216e14-0a34-4fcd-bb87-b901a2f43d03\",\"type\":\"Toolbar\"},{\"attributes\":{\"below\":[{\"id\":\"38cbf8c7-902e-44b6-893c-785f423a86f2\",\"type\":\"LinearAxis\"}],\"left\":[{\"id\":\"d526d3d6-94d4-4860-8eeb-b40cd7c56e9a\",\"type\":\"LinearAxis\"}],\"plot_height\":400,\"renderers\":[{\"id\":\"38cbf8c7-902e-44b6-893c-785f423a86f2\",\"type\":\"LinearAxis\"},{\"id\":\"3443edf1-54b9-4a6c-939f-9d0f95fe66bc\",\"type\":\"Grid\"},{\"id\":\"d526d3d6-94d4-4860-8eeb-b40cd7c56e9a\",\"type\":\"LinearAxis\"},{\"id\":\"4a1655f7-1a0e-46c1-960d-9deb60cf98c5\",\"type\":\"Grid\"},{\"id\":\"8e3a4479-9fe7-440a-9f04-541e25408be6\",\"type\":\"BoxAnnotation\"},{\"id\":\"f431d1db-39fb-4a74-b599-8c56619969ec\",\"type\":\"Legend\"},{\"id\":\"db9c0451-ff9c-4544-87ee-238b7bd08465\",\"type\":\"GlyphRenderer\"},{\"id\":\"f9cae822-3999-4161-80e1-c53a097a1452\",\"type\":\"GlyphRenderer\"},{\"id\":\"0f54538b-22f4-449d-af9a-dde3510d1198\",\"type\":\"GlyphRenderer\"},{\"id\":\"ceae831a-3ab7-4982-ad51-9d86fbde3968\",\"type\":\"GlyphRenderer\"}],\"title\":{\"id\":\"8b978916-50b0-47d8-96c2-c60a7bae52a1\",\"type\":\"Title\"},\"tool_events\":{\"id\":\"da945f85-8f15-4aea-b889-8bfddffc3249\",\"type\":\"ToolEvents\"},\"toolbar\":{\"id\":\"32216e14-0a34-4fcd-bb87-b901a2f43d03\",\"type\":\"Toolbar\"},\"toolbar_location\":\"above\",\"x_range\":{\"id\":\"443a604c-7d1e-4b3b-9ac4-abce80f20471\",\"type\":\"Range1d\"},\"y_range\":{\"id\":\"3fa39ea7-fa4c-49c7-9475-a0c9f9f76464\",\"type\":\"Range1d\"}},\"id\":\"9e16cc27-bf09-4e88-abd0-b2d65f1c5dd0\",\"subtype\":\"Figure\",\"type\":\"Plot\"},{\"attributes\":{\"data_source\":{\"id\":\"82bc647b-ff45-49aa-8adb-1d6f8ed248ae\",\"type\":\"ColumnDataSource\"},\"glyph\":{\"id\":\"e66ca93a-a39a-4dc5-be50-f928a3467726\",\"type\":\"Quad\"},\"hover_glyph\":null,\"nonselection_glyph\":{\"id\":\"75cf8d59-403c-486e-8f0f-3a6db5f03d2d\",\"type\":\"Quad\"},\"selection_glyph\":null},\"id\":\"db9c0451-ff9c-4544-87ee-238b7bd08465\",\"type\":\"GlyphRenderer\"},{\"attributes\":{},\"id\":\"ba1d21f4-e241-4349-b5f8-b8c523adef41\",\"type\":\"BasicTickFormatter\"},{\"attributes\":{\"plot\":null,\"text\":\"unnamed_var6 Histogram\"},\"id\":\"8b978916-50b0-47d8-96c2-c60a7bae52a1\",\"type\":\"Title\"},{\"attributes\":{},\"id\":\"1c9b02b5-42b6-482b-b992-e8ccc916c24d\",\"type\":\"BasicTickFormatter\"},{\"attributes\":{\"plot\":{\"id\":\"9e16cc27-bf09-4e88-abd0-b2d65f1c5dd0\",\"subtype\":\"Figure\",\"type\":\"Plot\"}},\"id\":\"c1aa0db6-2302-4770-9ba8-94ab0e090844\",\"type\":\"SaveTool\"},{\"attributes\":{\"dimension\":1,\"plot\":{\"id\":\"9e16cc27-bf09-4e88-abd0-b2d65f1c5dd0\",\"subtype\":\"Figure\",\"type\":\"Plot\"},\"ticker\":{\"id\":\"8fccc62b-0ccb-49bb-8946-c755a80ea09e\",\"type\":\"BasicTicker\"}},\"id\":\"4a1655f7-1a0e-46c1-960d-9deb60cf98c5\",\"type\":\"Grid\"},{\"attributes\":{\"bottom\":{\"value\":0},\"fill_alpha\":{\"value\":0.1},\"fill_color\":{\"value\":\"#1f77b4\"},\"left\":{\"field\":\"left\"},\"line_alpha\":{\"value\":0.1},\"line_color\":{\"value\":\"#1f77b4\"},\"right\":{\"field\":\"right\"},\"top\":{\"field\":\"top\"}},\"id\":\"75cf8d59-403c-486e-8f0f-3a6db5f03d2d\",\"type\":\"Quad\"},{\"attributes\":{\"label\":{\"value\":\"unnamed_var6 Histogram\"},\"renderers\":[{\"id\":\"db9c0451-ff9c-4544-87ee-238b7bd08465\",\"type\":\"GlyphRenderer\"}]},\"id\":\"7701b3ba-9b7c-44d8-8c94-e28c39205c81\",\"type\":\"LegendItem\"},{\"attributes\":{\"line_color\":{\"value\":\"red\"},\"line_dash\":[6],\"x\":{\"field\":\"x\"},\"y\":{\"field\":\"y\"}},\"id\":\"2b6cacf1-fe13-45d5-acc4-db7860c025cd\",\"type\":\"Line\"},{\"attributes\":{\"callback\":null,\"end\":1.2},\"id\":\"3fa39ea7-fa4c-49c7-9475-a0c9f9f76464\",\"type\":\"Range1d\"},{\"attributes\":{},\"id\":\"8fccc62b-0ccb-49bb-8946-c755a80ea09e\",\"type\":\"BasicTicker\"},{\"attributes\":{},\"id\":\"da945f85-8f15-4aea-b889-8bfddffc3249\",\"type\":\"ToolEvents\"},{\"attributes\":{},\"id\":\"1673dfa8-a7c4-4604-992b-c5017c9468c8\",\"type\":\"BasicTicker\"},{\"attributes\":{\"overlay\":{\"id\":\"8e3a4479-9fe7-440a-9f04-541e25408be6\",\"type\":\"BoxAnnotation\"},\"plot\":{\"id\":\"9e16cc27-bf09-4e88-abd0-b2d65f1c5dd0\",\"subtype\":\"Figure\",\"type\":\"Plot\"}},\"id\":\"a2cba71d-f441-47df-ab61-28cd28e9fa44\",\"type\":\"BoxZoomTool\"},{\"attributes\":{\"data_source\":{\"id\":\"b6201774-4af9-49e8-a603-8ed630fc03b2\",\"type\":\"ColumnDataSource\"},\"glyph\":{\"id\":\"61ef5ec3-ab1d-4661-936a-065ec3509bf6\",\"type\":\"Line\"},\"hover_glyph\":null,\"nonselection_glyph\":{\"id\":\"748863a0-c17e-478f-a8c3-b861f106f229\",\"type\":\"Line\"},\"selection_glyph\":null},\"id\":\"f9cae822-3999-4161-80e1-c53a097a1452\",\"type\":\"GlyphRenderer\"},{\"attributes\":{\"line_color\":{\"value\":\"red\"},\"x\":{\"field\":\"x\"},\"y\":{\"field\":\"y\"}},\"id\":\"61ef5ec3-ab1d-4661-936a-065ec3509bf6\",\"type\":\"Line\"},{\"attributes\":{\"bottom\":{\"value\":0},\"fill_alpha\":{\"value\":0.7},\"fill_color\":{\"value\":\"#036564\"},\"left\":{\"field\":\"left\"},\"line_alpha\":{\"value\":0.7},\"line_color\":{\"value\":\"#036564\"},\"right\":{\"field\":\"right\"},\"top\":{\"field\":\"top\"}},\"id\":\"e66ca93a-a39a-4dc5-be50-f928a3467726\",\"type\":\"Quad\"},{\"attributes\":{\"plot\":{\"id\":\"9e16cc27-bf09-4e88-abd0-b2d65f1c5dd0\",\"subtype\":\"Figure\",\"type\":\"Plot\"}},\"id\":\"776a6db6-700c-4d72-9760-8b04c581d3c2\",\"type\":\"ResetTool\"},{\"attributes\":{\"line_alpha\":{\"value\":0.1},\"line_color\":{\"value\":\"#1f77b4\"},\"line_dash\":[6],\"x\":{\"field\":\"x\"},\"y\":{\"field\":\"y\"}},\"id\":\"8585758b-ea6a-4f0f-90a5-7dc19a3d9040\",\"type\":\"Line\"}],\"root_ids\":[\"9e16cc27-bf09-4e88-abd0-b2d65f1c5dd0\"]},\"title\":\"Bokeh Application\",\"version\":\"0.12.4\"}};\n",
       "            var render_items = [{\"docid\":\"7583bdc9-e4de-470b-abac-6bbc28e91dac\",\"elementid\":\"b5202c1e-303f-47d7-81da-d415cbf0676e\",\"modelid\":\"9e16cc27-bf09-4e88-abd0-b2d65f1c5dd0\",\"notebook_comms_target\":\"05714e06-a95a-427f-a400-1b0ddd3924ea\"}];\n",
       "            \n",
       "            Bokeh.embed.embed_items(docs_json, render_items);\n",
       "          };\n",
       "          if (document.readyState != \"loading\") fn();\n",
       "          else document.addEventListener(\"DOMContentLoaded\", fn);\n",
       "        })();\n",
       "      },\n",
       "      function(Bokeh) {\n",
       "      }\n",
       "    ];\n",
       "  \n",
       "    function run_inline_js() {\n",
       "      \n",
       "      if ((window.Bokeh !== undefined) || (force === true)) {\n",
       "        for (var i = 0; i < inline_js.length; i++) {\n",
       "          inline_js[i](window.Bokeh);\n",
       "        }if (force === true) {\n",
       "          display_loaded();\n",
       "        }} else if (Date.now() < window._bokeh_timeout) {\n",
       "        setTimeout(run_inline_js, 100);\n",
       "      } else if (!window._bokeh_failed_load) {\n",
       "        console.log(\"Bokeh: BokehJS failed to load within specified timeout.\");\n",
       "        window._bokeh_failed_load = true;\n",
       "      } else if (force !== true) {\n",
       "        var cell = $(document.getElementById(\"b5202c1e-303f-47d7-81da-d415cbf0676e\")).parents('.cell').data().cell;\n",
       "        cell.output_area.append_execute_result(NB_LOAD_WARNING)\n",
       "      }\n",
       "  \n",
       "    }\n",
       "  \n",
       "    if (window._bokeh_is_loading === 0) {\n",
       "      console.log(\"Bokeh: BokehJS loaded, going straight to plotting\");\n",
       "      run_inline_js();\n",
       "    } else {\n",
       "      load_libs(js_urls, function() {\n",
       "        console.log(\"Bokeh: BokehJS plotting callback run at\", now());\n",
       "        run_inline_js();\n",
       "      });\n",
       "    }\n",
       "  }(this));\n",
       "</script>"
      ]
     },
     "metadata": {},
     "output_type": "display_data"
    },
    {
     "data": {
      "text/plain": [
       "<qexpy.plotting.Plot at 0x111bcaef0>"
      ]
     },
     "execution_count": 11,
     "metadata": {},
     "output_type": "execute_result"
    }
   ],
   "source": [
    "T.show_histogram()"
   ]
  },
  {
   "cell_type": "markdown",
   "metadata": {},
   "source": [
    "## Multiple measurements (Arrays of Measurements)\n",
    "QExPy can also handle the case of having multiple measurements, when each measurement has its own uncertainty. For example, if you have three measurements of a single quantity, in order to get an average value, you should weight each measurement by its uncertainty (or rather the weight should be 1 over the square of the uncertainty). This is handled by the MeasurementArray class:"
   ]
  },
  {
   "cell_type": "code",
   "execution_count": 12,
   "metadata": {
    "collapsed": false
   },
   "outputs": [
    {
     "name": "stdout",
     "output_type": "stream",
     "text": [
      "g_0 = 9.8000 +/- 0.2000 [s^-2 m^1 ],\n",
      "g_1 = 14.000 +/- 3.000 [s^-2 m^1 ],\n",
      "g_2 = 9.9000 +/- 0.1000 [s^-2 m^1 ]\n",
      "The mean is  11.2333333333\n",
      "The error weighted mean is  9.88366 +/- 0.08940\n"
     ]
    }
   ],
   "source": [
    "gvals = q.MeasurementArray([(9.8,0.2), (14,3) , (9.9,0.1)], name=\"g\", units='m/s^2') \n",
    "print(gvals)\n",
    "print(\"The mean is \",gvals.mean)\n",
    "print(\"The error weighted mean is \",gvals.error_weighted_mean)"
   ]
  },
  {
   "cell_type": "markdown",
   "metadata": {},
   "source": [
    "The MeasurementArray object truly is an array of Measurement objects, so individual measurements can be retrieved (remember that the first element in an array in python has index 0 not 1, so element 1 is the second element):"
   ]
  },
  {
   "cell_type": "code",
   "execution_count": 13,
   "metadata": {
    "collapsed": false
   },
   "outputs": [
    {
     "name": "stdout",
     "output_type": "stream",
     "text": [
      "g_1 = 14.000 +/- 3.000 [s^-2 m^1 ]\n"
     ]
    }
   ],
   "source": [
    "print(gvals[1])"
   ]
  },
  {
   "cell_type": "markdown",
   "metadata": {},
   "source": [
    "## Error propagation methods\n",
    "\n",
    "### Derivative method (default)\n",
    "By default, QExPy propagates the uncertainties using the \"derivative\" method. That is, for a function, $f(x,y)$, that depends on measured quantities $x\\pm\\sigma_x$ and $y\\pm\\sigma_y$, with covariance $\\sigma_{xy}$ between the two measured quantities, the uncertainty in $f$ is given by:\n",
    "$$ \\sigma_f = \\sqrt{ \\left(\\frac{\\partial f}{\\partial x} \\sigma_x \\right)^2 + \\left(\\frac{\\partial f}{\\partial y} \\sigma_y \\right)^2 + 2 \\frac{\\partial f}{\\partial x} \\frac{\\partial f}{\\partial y}\\sigma_{xy} }$$\n",
    "\n",
    "QExPy evaluates the derivatives exactly when propagating the uncertainties using an algorithm called \"automatic differentiation\". This is possible as QExPy internally keeps track of the dependency of quantities on each other, and as an added bonus can also be used to evaluate numerical derivatives exactly. Although the derivative method is commonly taught in undergraduate laboratories, it is only valid when the relative uncertainties in the quantities being propagated are small (e.g. less than ~10% relative uncertainty). This method is thus not strongly encouraged, although it has been made the default because it is so prevalent in undergraduate teaching. \n",
    "\n",
    "\n",
    "### Min-Max method (not recommended)\n",
    "This is not the only way to propagate the uncertainty in $f$. For example, the \"Min-Max\" method, is a method to yield a more conservative (larger) estimate of the uncertainty in $f$ and is often used in introductory courses. The Min-Max method defines the central value and uncertainty in $f$ as:\n",
    "$$f=\\frac{1}{2}(f^{max}+f^{min})$$\n",
    "$$\\sigma_f=\\frac{1}{2}(f^{max}-f^{min})$$\n",
    "\n",
    "where $f^{max}$ ($f^{min}$) is the maximum (minimum) value that $f$ takes when $x$ and $y$ are varied within their uncertainty range. For example, if $f(x,y)=x+y$, then the maximum and minimum of $f$ are easily found:\n",
    "\n",
    "$$f^{max} = (x+\\sigma_x)+(y+\\sigma_y)$$\n",
    "$$f^{min} = (x-\\sigma_x)-(y-\\sigma_y)$$\n",
    "\n",
    "The Min-Max method actually requires a numerical approximation to evaluate the values of $f^{max}$ and $f^{min}$ for all but the most simple cases. Hence although it is a good method to introduce the idea of uncertainty propagation, it is not recommended to use this method in any serious calculation (it also does not take correlations into account). \n",
    "\n",
    "### Monte Carlo method (recommended!)\n",
    "Finally, the recommended method to propagate errors is the \"Monte-Carlo\" method, although it is the hardest to understand. The MC method is based on a statiscal understanding of the measurements. In the QExPy implementation, currently, the main assumptions is that the uncertainty in a quantity is given by a \"standard error\"; that is, if $x = 10\\pm 1$, then we *assume* that this error and uncertainty should be interpreted as: \"if we measure $x$ multiple times, we will obtain a set of measurements that are normally distributed with a mean of 10 and a standard deviation of 1\". In other words, we assume that $x$ has a 68% chance of being in the range between 9 and 11.\n",
    "\n",
    "\n",
    "The MC method then uses the assumption that measured quantities are normally distributed and use this to propagate the errors by using Monte Carlo simulation. Suppose that we have measured $x$ and $y$ and wish to determine the central value and uncertainty in $x=x+y$. The Monte Carlo method will generate normally distributed random values for $x$ and $y$ (the random numbers will be correctly correlated if the user has indicated that $x$ and $y$ are correlated), then it will add those random values together, to obtain a set of values for $z$. The mean and standard deviation of the random values for $z$ are taken as the central value and uncertainty in $z$. \n",
    "\n",
    "## What QExPy actually does\n",
    "Although the user appears to choose the method used to propagate the errors, QExPy always uses all three methods behind the scenes and the user only decides which method to print out. This allows QExPy to compare the results behind the scenes, in particular, to inform the users that the uncertainties using a particular method (e.g. derivative) may be inaccurate and to suggest that the user choose a different method. \n",
    "\n",
    "## Example\n",
    "Below, we illustrate an example of using the different methods to propagate the uncertainty in the Coulomb force based on the measurement of two charges, $q_1$ and $q_2$, and the distance between them, $r$. We illustrate how the derivative method does not give the correct answer if the relative uncertainties in the measured quantities are large. \n",
    "\n",
    "### 1 % relative uncertainty calculation\n"
   ]
  },
  {
   "cell_type": "code",
   "execution_count": 14,
   "metadata": {
    "collapsed": false
   },
   "outputs": [
    {
     "name": "stdout",
     "output_type": "stream",
     "text": [
      "Derivative method, F =  18.0000 +/- 0.4409\n",
      "Min-Max method, F = 18.0144 +/- 0.7202\n",
      "Monte Carlo method, F = 17.9972 +/- 0.4425\n"
     ]
    }
   ],
   "source": [
    "#Measurements with 1% relative uncertainties:\n",
    "relative_factor = 0.01 \n",
    "\n",
    "#Measured values\n",
    "q1m=1e-6\n",
    "q2m=2e-5\n",
    "rm=0.1\n",
    "\n",
    "#Convert to Measurement objects\n",
    "q1 = q.Measurement(q1m,relative_factor*q1m)\n",
    "q2 = q.Measurement(q2m,relative_factor*q2m)\n",
    "r = q.Measurement(rm,relative_factor*rm)\n",
    "#Coulomb's constant:\n",
    "k = 9e9 \n",
    "\n",
    "#Define the Force:\n",
    "F = k*q1*q2/r**2\n",
    "\n",
    "#Print out the different errors\n",
    "q.set_error_method(\"derivative\")\n",
    "print(\"Derivative method, F = \",F)\n",
    "q.set_error_method(\"minmax\")\n",
    "print(\"Min-Max method, F =\", F)\n",
    "q.set_error_method(\"mc\")\n",
    "print(\"Monte Carlo method, F =\",F)\n",
    "\n"
   ]
  },
  {
   "cell_type": "markdown",
   "metadata": {},
   "source": [
    "### 10 % relative uncertainty calculation\n",
    "We see that in this case, the Monte Carlo method returns a different uncertainty than the derivative method, because the derivative method is incorrect when the uncertainties are this large."
   ]
  },
  {
   "cell_type": "code",
   "execution_count": 15,
   "metadata": {
    "collapsed": false,
    "scrolled": false
   },
   "outputs": [
    {
     "name": "stdout",
     "output_type": "stream",
     "text": [
      "Derivative method, F =  18.000 +/- 4.409\n",
      "Min-Max method, F = 19.469 +/- 7.420\n",
      "Monte Carlo method, F = 18.771 +/- 5.036\n"
     ]
    },
    {
     "data": {
      "text/html": [
       "\n",
       "\n",
       "    <div class=\"bk-root\">\n",
       "        <div class=\"bk-plotdiv\" id=\"dafe7b95-0723-42b7-91ea-bdd375cfa7ce\"></div>\n",
       "    </div>\n",
       "<script type=\"text/javascript\">\n",
       "  \n",
       "  (function(global) {\n",
       "    function now() {\n",
       "      return new Date();\n",
       "    }\n",
       "  \n",
       "    var force = false;\n",
       "  \n",
       "    if (typeof (window._bokeh_onload_callbacks) === \"undefined\" || force === true) {\n",
       "      window._bokeh_onload_callbacks = [];\n",
       "      window._bokeh_is_loading = undefined;\n",
       "    }\n",
       "  \n",
       "  \n",
       "    \n",
       "    if (typeof (window._bokeh_timeout) === \"undefined\" || force === true) {\n",
       "      window._bokeh_timeout = Date.now() + 0;\n",
       "      window._bokeh_failed_load = false;\n",
       "    }\n",
       "  \n",
       "    var NB_LOAD_WARNING = {'data': {'text/html':\n",
       "       \"<div style='background-color: #fdd'>\\n\"+\n",
       "       \"<p>\\n\"+\n",
       "       \"BokehJS does not appear to have successfully loaded. If loading BokehJS from CDN, this \\n\"+\n",
       "       \"may be due to a slow or bad network connection. Possible fixes:\\n\"+\n",
       "       \"</p>\\n\"+\n",
       "       \"<ul>\\n\"+\n",
       "       \"<li>re-rerun `output_notebook()` to attempt to load from CDN again, or</li>\\n\"+\n",
       "       \"<li>use INLINE resources instead, as so:</li>\\n\"+\n",
       "       \"</ul>\\n\"+\n",
       "       \"<code>\\n\"+\n",
       "       \"from bokeh.resources import INLINE\\n\"+\n",
       "       \"output_notebook(resources=INLINE)\\n\"+\n",
       "       \"</code>\\n\"+\n",
       "       \"</div>\"}};\n",
       "  \n",
       "    function display_loaded() {\n",
       "      if (window.Bokeh !== undefined) {\n",
       "        document.getElementById(\"dafe7b95-0723-42b7-91ea-bdd375cfa7ce\").textContent = \"BokehJS successfully loaded.\";\n",
       "      } else if (Date.now() < window._bokeh_timeout) {\n",
       "        setTimeout(display_loaded, 100)\n",
       "      }\n",
       "    }if ((window.Jupyter !== undefined) && Jupyter.notebook.kernel) {\n",
       "      comm_manager = Jupyter.notebook.kernel.comm_manager\n",
       "      comm_manager.register_target(\"75adab4e-c697-421f-98b6-ad5bbb3c9489\", function () {});\n",
       "    }\n",
       "  \n",
       "    function run_callbacks() {\n",
       "      window._bokeh_onload_callbacks.forEach(function(callback) { callback() });\n",
       "      delete window._bokeh_onload_callbacks\n",
       "      console.info(\"Bokeh: all callbacks have finished\");\n",
       "    }\n",
       "  \n",
       "    function load_libs(js_urls, callback) {\n",
       "      window._bokeh_onload_callbacks.push(callback);\n",
       "      if (window._bokeh_is_loading > 0) {\n",
       "        console.log(\"Bokeh: BokehJS is being loaded, scheduling callback at\", now());\n",
       "        return null;\n",
       "      }\n",
       "      if (js_urls == null || js_urls.length === 0) {\n",
       "        run_callbacks();\n",
       "        return null;\n",
       "      }\n",
       "      console.log(\"Bokeh: BokehJS not loaded, scheduling load and callback at\", now());\n",
       "      window._bokeh_is_loading = js_urls.length;\n",
       "      for (var i = 0; i < js_urls.length; i++) {\n",
       "        var url = js_urls[i];\n",
       "        var s = document.createElement('script');\n",
       "        s.src = url;\n",
       "        s.async = false;\n",
       "        s.onreadystatechange = s.onload = function() {\n",
       "          window._bokeh_is_loading--;\n",
       "          if (window._bokeh_is_loading === 0) {\n",
       "            console.log(\"Bokeh: all BokehJS libraries loaded\");\n",
       "            run_callbacks()\n",
       "          }\n",
       "        };\n",
       "        s.onerror = function() {\n",
       "          console.warn(\"failed to load library \" + url);\n",
       "        };\n",
       "        console.log(\"Bokeh: injecting script tag for BokehJS library: \", url);\n",
       "        document.getElementsByTagName(\"head\")[0].appendChild(s);\n",
       "      }\n",
       "    };var element = document.getElementById(\"dafe7b95-0723-42b7-91ea-bdd375cfa7ce\");\n",
       "    if (element == null) {\n",
       "      console.log(\"Bokeh: ERROR: autoload.js configured with elementid 'dafe7b95-0723-42b7-91ea-bdd375cfa7ce' but no matching script tag was found. \")\n",
       "      return false;\n",
       "    }\n",
       "  \n",
       "    var js_urls = [];\n",
       "  \n",
       "    var inline_js = [\n",
       "      function(Bokeh) {\n",
       "        (function() {\n",
       "          var fn = function() {\n",
       "            var docs_json = {\"10ca9792-86f5-4d97-b721-4c82a5f773ba\":{\"roots\":{\"references\":[{\"attributes\":{\"callback\":null,\"column_names\":[\"top\",\"right\",\"left\"],\"data\":{\"left\":{\"__ndarray__\":\"sk8hmvm9G0Ci4nKB+H8fQMk6YrT7oCFAQQQLKPuBI0C5zbOb+mIlQDKXXA/6QydAqmAFg/kkKUAiKq72+AUrQJrzVmr45ixAEr3/3ffHLkBFQ9Soe1QwQAGoqGL7RDFAvQx9HHs1MkB5cVHW+iUzQDXWJZB6FjRA8Tr6SfoGNUCtn84Devc1QGkEo7355zZAJml3d3nYN0DizUsx+cg4QJ4yIOt4uTlAWpf0pPipOkAW/MheeJo7QNJgnRj4ijxAjsVx0nd7PUBKKkaM92s+QAaPGkZ3XD9A4Xn3f3smQEA/rOFcu55AQJ3eyzn7FkFA+xC2FjuPQUBZQ6DzegdCQLd1itC6f0JAFah0rfr3QkBz2l6KOnBDQNEMSWd66ENALz8zRLpgRECNcR0h+thEQOujB/45UUVASdbx2nnJRUCnCNy3uUFGQAU7xpT5uUZAY22wcTkyR0DBn5pOeapHQB/ShCu5IkhAfQRvCPmaSEDbNlnlOBNJQDlpQ8J4i0lAl5stn7gDSkD1zRd8+HtKQA==\",\"dtype\":\"float64\",\"shape\":[50]},\"right\":{\"__ndarray__\":\"ouJygfh/H0DJOmK0+6AhQEEECyj7gSNAuc2zm/piJUAyl1wP+kMnQKpgBYP5JClAIiqu9vgFK0Ca81Zq+OYsQBK9/933xy5ARUPUqHtUMEABqKhi+0QxQL0MfRx7NTJAeXFR1volM0A11iWQehY0QPE6+kn6BjVArZ/OA3r3NUBpBKO9+ec2QCZpd3d52DdA4s1LMfnIOECeMiDreLk5QFqX9KT4qTpAFvzIXniaO0DSYJ0Y+Io8QI7FcdJ3ez1ASipGjPdrPkAGjxpGd1w/QOF59397JkBAP6zhXLueQECd3ss5+xZBQPsQthY7j0FAWUOg83oHQkC3dYrQun9CQBWodK3690JAc9peijpwQ0DRDElneuhDQC8/M0S6YERAjXEdIfrYREDrowf+OVFFQEnW8dp5yUVApwjct7lBRkAFO8aU+blGQGNtsHE5MkdAwZ+aTnmqR0Af0oQruSJIQH0Ebwj5mkhA2zZZ5TgTSUA5aUPCeItJQJebLZ+4A0pA9c0XfPh7SkBTAAJZOPRKQA==\",\"dtype\":\"float64\",\"shape\":[50]},\"top\":[4,12,44,68,195,326,439,680,783,888,874,919,820,738,582,488,403,354,280,213,183,148,129,80,86,57,33,35,26,13,22,11,10,6,6,8,7,7,4,3,5,1,2,1,1,3,1,1,0,1]}},\"id\":\"c3bcdd01-5d6a-4767-afd3-e3f88c3eba61\",\"type\":\"ColumnDataSource\"},{\"attributes\":{\"bottom\":{\"value\":0},\"fill_alpha\":{\"value\":0.1},\"fill_color\":{\"value\":\"#1f77b4\"},\"left\":{\"field\":\"left\"},\"line_alpha\":{\"value\":0.1},\"line_color\":{\"value\":\"#1f77b4\"},\"right\":{\"field\":\"right\"},\"top\":{\"field\":\"top\"}},\"id\":\"a02121ff-74b2-4374-9846-c729c7e74e70\",\"type\":\"Quad\"},{\"attributes\":{\"below\":[{\"id\":\"c60609b4-d991-482e-a19f-953c4a1dc3eb\",\"type\":\"LinearAxis\"}],\"left\":[{\"id\":\"e4416358-d8d0-412b-b32e-bf296487373d\",\"type\":\"LinearAxis\"}],\"plot_height\":400,\"renderers\":[{\"id\":\"c60609b4-d991-482e-a19f-953c4a1dc3eb\",\"type\":\"LinearAxis\"},{\"id\":\"88c0a322-c454-4e44-ae4d-c51115f442ac\",\"type\":\"Grid\"},{\"id\":\"e4416358-d8d0-412b-b32e-bf296487373d\",\"type\":\"LinearAxis\"},{\"id\":\"96e4a41c-b43f-410d-8f9d-d487820bdacb\",\"type\":\"Grid\"},{\"id\":\"2f8d637a-1565-4578-936d-7f1c37e43abc\",\"type\":\"BoxAnnotation\"},{\"id\":\"fc9ea8bd-865d-4cd9-aa7c-3c4b3882fc56\",\"type\":\"Legend\"},{\"id\":\"e60cf926-410f-4db5-bcff-651191bc93a5\",\"type\":\"GlyphRenderer\"},{\"id\":\"ed5432f0-8688-4e75-b829-c05e3036b2cb\",\"type\":\"GlyphRenderer\"},{\"id\":\"528e8a20-f740-4f33-866a-919b5c8f0aa4\",\"type\":\"GlyphRenderer\"},{\"id\":\"ac515d05-ef5a-4f8d-807a-97ddf23c053b\",\"type\":\"GlyphRenderer\"}],\"title\":{\"id\":\"445681f7-3ed2-457a-96c6-337a4f7c66a4\",\"type\":\"Title\"},\"tool_events\":{\"id\":\"1d7b1fd4-804d-48d1-bd31-21b8140747bd\",\"type\":\"ToolEvents\"},\"toolbar\":{\"id\":\"426eaa69-8580-4dd6-80d9-0eec76c87bbc\",\"type\":\"Toolbar\"},\"toolbar_location\":\"above\",\"x_range\":{\"id\":\"2c4ed69a-4ac3-472a-98c7-09d12f94e7a6\",\"type\":\"Range1d\"},\"y_range\":{\"id\":\"aa8d15ce-9d6c-4006-a1ad-b2404ff6cc7a\",\"type\":\"Range1d\"}},\"id\":\"14f9d061-c00e-4751-a38c-35f596fb5520\",\"subtype\":\"Figure\",\"type\":\"Plot\"},{\"attributes\":{\"callback\":null,\"end\":56.60336807468037,\"start\":6.588746345395091},\"id\":\"2c4ed69a-4ac3-472a-98c7-09d12f94e7a6\",\"type\":\"Range1d\"},{\"attributes\":{\"label\":{\"value\":\"unnamed_var114*9000000000*unnamed_var115/unnamed_var116**2 Histogram\"},\"renderers\":[{\"id\":\"e60cf926-410f-4db5-bcff-651191bc93a5\",\"type\":\"GlyphRenderer\"}]},\"id\":\"18ceaa94-0896-4302-b8cc-122a0efdff7e\",\"type\":\"LegendItem\"},{\"attributes\":{\"data_source\":{\"id\":\"e9fa0a79-5e87-474d-aa6f-fa10b106ee5b\",\"type\":\"ColumnDataSource\"},\"glyph\":{\"id\":\"f756ed06-ff28-40b8-9f5c-1d6da6dc70d1\",\"type\":\"Line\"},\"hover_glyph\":null,\"nonselection_glyph\":{\"id\":\"2b634486-9e90-4e9c-ac30-82dfffd9d660\",\"type\":\"Line\"},\"selection_glyph\":null},\"id\":\"ed5432f0-8688-4e75-b829-c05e3036b2cb\",\"type\":\"GlyphRenderer\"},{\"attributes\":{\"plot\":{\"id\":\"14f9d061-c00e-4751-a38c-35f596fb5520\",\"subtype\":\"Figure\",\"type\":\"Plot\"}},\"id\":\"69241922-6b84-4936-96c9-131631488fa1\",\"type\":\"ResetTool\"},{\"attributes\":{\"bottom_units\":\"screen\",\"fill_alpha\":{\"value\":0.5},\"fill_color\":{\"value\":\"lightgrey\"},\"left_units\":\"screen\",\"level\":\"overlay\",\"line_alpha\":{\"value\":1.0},\"line_color\":{\"value\":\"black\"},\"line_dash\":[4,4],\"line_width\":{\"value\":2},\"plot\":null,\"render_mode\":\"css\",\"right_units\":\"screen\",\"top_units\":\"screen\"},\"id\":\"2f8d637a-1565-4578-936d-7f1c37e43abc\",\"type\":\"BoxAnnotation\"},{\"attributes\":{\"line_color\":{\"value\":\"red\"},\"line_dash\":[6],\"x\":{\"field\":\"x\"},\"y\":{\"field\":\"y\"}},\"id\":\"7908400f-0662-49a8-9897-6ca3ec80dcff\",\"type\":\"Line\"},{\"attributes\":{\"plot\":null,\"text\":\"unnamed_var114*9000000000*unnamed_var115/unnamed_var116**2 Histogram\"},\"id\":\"445681f7-3ed2-457a-96c6-337a4f7c66a4\",\"type\":\"Title\"},{\"attributes\":{\"plot\":{\"id\":\"14f9d061-c00e-4751-a38c-35f596fb5520\",\"subtype\":\"Figure\",\"type\":\"Plot\"}},\"id\":\"dba4c22a-a6f5-4311-8e1f-4f4435041aa8\",\"type\":\"PanTool\"},{\"attributes\":{\"items\":[{\"id\":\"18ceaa94-0896-4302-b8cc-122a0efdff7e\",\"type\":\"LegendItem\"}],\"location\":\"top_left\",\"plot\":{\"id\":\"14f9d061-c00e-4751-a38c-35f596fb5520\",\"subtype\":\"Figure\",\"type\":\"Plot\"}},\"id\":\"fc9ea8bd-865d-4cd9-aa7c-3c4b3882fc56\",\"type\":\"Legend\"},{\"attributes\":{\"bottom\":{\"value\":0},\"fill_alpha\":{\"value\":0.7},\"fill_color\":{\"value\":\"#036564\"},\"left\":{\"field\":\"left\"},\"line_alpha\":{\"value\":0.7},\"line_color\":{\"value\":\"#036564\"},\"right\":{\"field\":\"right\"},\"top\":{\"field\":\"top\"}},\"id\":\"66afc401-1f35-41bf-8659-3d951e776860\",\"type\":\"Quad\"},{\"attributes\":{},\"id\":\"105a40a0-56f4-4450-84db-bb94f91b7d3c\",\"type\":\"BasicTickFormatter\"},{\"attributes\":{\"plot\":{\"id\":\"14f9d061-c00e-4751-a38c-35f596fb5520\",\"subtype\":\"Figure\",\"type\":\"Plot\"}},\"id\":\"92925d48-bacd-4ddb-a457-0481e7f720b2\",\"type\":\"SaveTool\"},{\"attributes\":{\"dimension\":1,\"plot\":{\"id\":\"14f9d061-c00e-4751-a38c-35f596fb5520\",\"subtype\":\"Figure\",\"type\":\"Plot\"},\"ticker\":{\"id\":\"83102efb-9dbb-4795-9e09-6204698e035b\",\"type\":\"BasicTicker\"}},\"id\":\"96e4a41c-b43f-410d-8f9d-d487820bdacb\",\"type\":\"Grid\"},{\"attributes\":{\"data_source\":{\"id\":\"202f7fa8-076f-474f-a006-a9e773460095\",\"type\":\"ColumnDataSource\"},\"glyph\":{\"id\":\"7908400f-0662-49a8-9897-6ca3ec80dcff\",\"type\":\"Line\"},\"hover_glyph\":null,\"nonselection_glyph\":{\"id\":\"8d01ab9c-7209-47a0-aa1b-0ff7dda60045\",\"type\":\"Line\"},\"selection_glyph\":null},\"id\":\"ac515d05-ef5a-4f8d-807a-97ddf23c053b\",\"type\":\"GlyphRenderer\"},{\"attributes\":{\"callback\":null,\"column_names\":[\"x\",\"y\"],\"data\":{\"x\":[13.734293861546558,13.734293861546558],\"y\":[0,1102.8]}},\"id\":\"202f7fa8-076f-474f-a006-a9e773460095\",\"type\":\"ColumnDataSource\"},{\"attributes\":{\"data_source\":{\"id\":\"974f8b49-bf77-451b-a5ee-af2753cfcbec\",\"type\":\"ColumnDataSource\"},\"glyph\":{\"id\":\"5b574400-a191-4ee0-89a8-b3c68594794d\",\"type\":\"Line\"},\"hover_glyph\":null,\"nonselection_glyph\":{\"id\":\"3e31b06b-09db-46bd-acc6-b3f4ab223052\",\"type\":\"Line\"},\"selection_glyph\":null},\"id\":\"528e8a20-f740-4f33-866a-919b5c8f0aa4\",\"type\":\"GlyphRenderer\"},{\"attributes\":{\"plot\":{\"id\":\"14f9d061-c00e-4751-a38c-35f596fb5520\",\"subtype\":\"Figure\",\"type\":\"Plot\"},\"ticker\":{\"id\":\"63cba4ef-3fef-4888-9739-a20d8e6bd674\",\"type\":\"BasicTicker\"}},\"id\":\"88c0a322-c454-4e44-ae4d-c51115f442ac\",\"type\":\"Grid\"},{\"attributes\":{},\"id\":\"117b7e26-64af-42c9-a8e8-0dcc8e9de6db\",\"type\":\"BasicTickFormatter\"},{\"attributes\":{\"axis_label\":\"unnamed_arr4 []\",\"formatter\":{\"id\":\"105a40a0-56f4-4450-84db-bb94f91b7d3c\",\"type\":\"BasicTickFormatter\"},\"plot\":{\"id\":\"14f9d061-c00e-4751-a38c-35f596fb5520\",\"subtype\":\"Figure\",\"type\":\"Plot\"},\"ticker\":{\"id\":\"83102efb-9dbb-4795-9e09-6204698e035b\",\"type\":\"BasicTicker\"}},\"id\":\"e4416358-d8d0-412b-b32e-bf296487373d\",\"type\":\"LinearAxis\"},{\"attributes\":{\"callback\":null,\"column_names\":[\"x\",\"y\"],\"data\":{\"x\":[18.770501850660217,18.770501850660217],\"y\":[0,1102.8]}},\"id\":\"e9fa0a79-5e87-474d-aa6f-fa10b106ee5b\",\"type\":\"ColumnDataSource\"},{\"attributes\":{\"line_color\":{\"value\":\"red\"},\"x\":{\"field\":\"x\"},\"y\":{\"field\":\"y\"}},\"id\":\"f756ed06-ff28-40b8-9f5c-1d6da6dc70d1\",\"type\":\"Line\"},{\"attributes\":{\"plot\":{\"id\":\"14f9d061-c00e-4751-a38c-35f596fb5520\",\"subtype\":\"Figure\",\"type\":\"Plot\"}},\"id\":\"5cc7f7f7-9307-4d34-8070-889d1ee5e5c5\",\"type\":\"WheelZoomTool\"},{\"attributes\":{\"active_drag\":\"auto\",\"active_scroll\":\"auto\",\"active_tap\":\"auto\",\"tools\":[{\"id\":\"92925d48-bacd-4ddb-a457-0481e7f720b2\",\"type\":\"SaveTool\"},{\"id\":\"dba4c22a-a6f5-4311-8e1f-4f4435041aa8\",\"type\":\"PanTool\"},{\"id\":\"b8f7e0e4-a862-450c-a161-4ab5d39f9706\",\"type\":\"BoxZoomTool\"},{\"id\":\"5cc7f7f7-9307-4d34-8070-889d1ee5e5c5\",\"type\":\"WheelZoomTool\"},{\"id\":\"69241922-6b84-4936-96c9-131631488fa1\",\"type\":\"ResetTool\"}]},\"id\":\"426eaa69-8580-4dd6-80d9-0eec76c87bbc\",\"type\":\"Toolbar\"},{\"attributes\":{\"data_source\":{\"id\":\"c3bcdd01-5d6a-4767-afd3-e3f88c3eba61\",\"type\":\"ColumnDataSource\"},\"glyph\":{\"id\":\"66afc401-1f35-41bf-8659-3d951e776860\",\"type\":\"Quad\"},\"hover_glyph\":null,\"nonselection_glyph\":{\"id\":\"a02121ff-74b2-4374-9846-c729c7e74e70\",\"type\":\"Quad\"},\"selection_glyph\":null},\"id\":\"e60cf926-410f-4db5-bcff-651191bc93a5\",\"type\":\"GlyphRenderer\"},{\"attributes\":{\"callback\":null,\"end\":1102.8},\"id\":\"aa8d15ce-9d6c-4006-a1ad-b2404ff6cc7a\",\"type\":\"Range1d\"},{\"attributes\":{\"overlay\":{\"id\":\"2f8d637a-1565-4578-936d-7f1c37e43abc\",\"type\":\"BoxAnnotation\"},\"plot\":{\"id\":\"14f9d061-c00e-4751-a38c-35f596fb5520\",\"subtype\":\"Figure\",\"type\":\"Plot\"}},\"id\":\"b8f7e0e4-a862-450c-a161-4ab5d39f9706\",\"type\":\"BoxZoomTool\"},{\"attributes\":{\"callback\":null,\"column_names\":[\"x\",\"y\"],\"data\":{\"x\":[23.806709839773877,23.806709839773877],\"y\":[0,1102.8]}},\"id\":\"974f8b49-bf77-451b-a5ee-af2753cfcbec\",\"type\":\"ColumnDataSource\"},{\"attributes\":{\"line_alpha\":{\"value\":0.1},\"line_color\":{\"value\":\"#1f77b4\"},\"line_dash\":[6],\"x\":{\"field\":\"x\"},\"y\":{\"field\":\"y\"}},\"id\":\"3e31b06b-09db-46bd-acc6-b3f4ab223052\",\"type\":\"Line\"},{\"attributes\":{\"line_color\":{\"value\":\"red\"},\"line_dash\":[6],\"x\":{\"field\":\"x\"},\"y\":{\"field\":\"y\"}},\"id\":\"5b574400-a191-4ee0-89a8-b3c68594794d\",\"type\":\"Line\"},{\"attributes\":{\"line_alpha\":{\"value\":0.1},\"line_color\":{\"value\":\"#1f77b4\"},\"x\":{\"field\":\"x\"},\"y\":{\"field\":\"y\"}},\"id\":\"2b634486-9e90-4e9c-ac30-82dfffd9d660\",\"type\":\"Line\"},{\"attributes\":{},\"id\":\"63cba4ef-3fef-4888-9739-a20d8e6bd674\",\"type\":\"BasicTicker\"},{\"attributes\":{},\"id\":\"1d7b1fd4-804d-48d1-bd31-21b8140747bd\",\"type\":\"ToolEvents\"},{\"attributes\":{\"line_alpha\":{\"value\":0.1},\"line_color\":{\"value\":\"#1f77b4\"},\"line_dash\":[6],\"x\":{\"field\":\"x\"},\"y\":{\"field\":\"y\"}},\"id\":\"8d01ab9c-7209-47a0-aa1b-0ff7dda60045\",\"type\":\"Line\"},{\"attributes\":{},\"id\":\"83102efb-9dbb-4795-9e09-6204698e035b\",\"type\":\"BasicTicker\"},{\"attributes\":{\"axis_label\":\"unnamed_arr3 []\",\"formatter\":{\"id\":\"117b7e26-64af-42c9-a8e8-0dcc8e9de6db\",\"type\":\"BasicTickFormatter\"},\"plot\":{\"id\":\"14f9d061-c00e-4751-a38c-35f596fb5520\",\"subtype\":\"Figure\",\"type\":\"Plot\"},\"ticker\":{\"id\":\"63cba4ef-3fef-4888-9739-a20d8e6bd674\",\"type\":\"BasicTicker\"}},\"id\":\"c60609b4-d991-482e-a19f-953c4a1dc3eb\",\"type\":\"LinearAxis\"}],\"root_ids\":[\"14f9d061-c00e-4751-a38c-35f596fb5520\"]},\"title\":\"Bokeh Application\",\"version\":\"0.12.4\"}};\n",
       "            var render_items = [{\"docid\":\"10ca9792-86f5-4d97-b721-4c82a5f773ba\",\"elementid\":\"dafe7b95-0723-42b7-91ea-bdd375cfa7ce\",\"modelid\":\"14f9d061-c00e-4751-a38c-35f596fb5520\",\"notebook_comms_target\":\"75adab4e-c697-421f-98b6-ad5bbb3c9489\"}];\n",
       "            \n",
       "            Bokeh.embed.embed_items(docs_json, render_items);\n",
       "          };\n",
       "          if (document.readyState != \"loading\") fn();\n",
       "          else document.addEventListener(\"DOMContentLoaded\", fn);\n",
       "        })();\n",
       "      },\n",
       "      function(Bokeh) {\n",
       "      }\n",
       "    ];\n",
       "  \n",
       "    function run_inline_js() {\n",
       "      \n",
       "      if ((window.Bokeh !== undefined) || (force === true)) {\n",
       "        for (var i = 0; i < inline_js.length; i++) {\n",
       "          inline_js[i](window.Bokeh);\n",
       "        }if (force === true) {\n",
       "          display_loaded();\n",
       "        }} else if (Date.now() < window._bokeh_timeout) {\n",
       "        setTimeout(run_inline_js, 100);\n",
       "      } else if (!window._bokeh_failed_load) {\n",
       "        console.log(\"Bokeh: BokehJS failed to load within specified timeout.\");\n",
       "        window._bokeh_failed_load = true;\n",
       "      } else if (force !== true) {\n",
       "        var cell = $(document.getElementById(\"dafe7b95-0723-42b7-91ea-bdd375cfa7ce\")).parents('.cell').data().cell;\n",
       "        cell.output_area.append_execute_result(NB_LOAD_WARNING)\n",
       "      }\n",
       "  \n",
       "    }\n",
       "  \n",
       "    if (window._bokeh_is_loading === 0) {\n",
       "      console.log(\"Bokeh: BokehJS loaded, going straight to plotting\");\n",
       "      run_inline_js();\n",
       "    } else {\n",
       "      load_libs(js_urls, function() {\n",
       "        console.log(\"Bokeh: BokehJS plotting callback run at\", now());\n",
       "        run_inline_js();\n",
       "      });\n",
       "    }\n",
       "  }(this));\n",
       "</script>"
      ]
     },
     "metadata": {},
     "output_type": "display_data"
    },
    {
     "data": {
      "text/plain": [
       "<qexpy.plotting.Plot at 0x111ba53c8>"
      ]
     },
     "execution_count": 15,
     "metadata": {},
     "output_type": "execute_result"
    }
   ],
   "source": [
    "#Measurements with 10% relative uncertainties:\n",
    "relative_factor = 0.1 \n",
    "\n",
    "#Measured values\n",
    "q1m=1e-6\n",
    "q2m=2e-5\n",
    "rm=0.1\n",
    "\n",
    "#Convert to Measurement objects\n",
    "q1 = q.Measurement(q1m,relative_factor*q1m)\n",
    "q2 = q.Measurement(q2m,relative_factor*q2m)\n",
    "r = q.Measurement(rm,relative_factor*rm)\n",
    "#Coulomb's constant:\n",
    "k = 9e9 \n",
    "\n",
    "#Define the Force:\n",
    "F = k*q1*q2/r**2\n",
    "\n",
    "#Print out the different errors\n",
    "q.set_error_method(\"derivative\")\n",
    "print(\"Derivative method, F = \",F)\n",
    "q.set_error_method(\"minmax\")\n",
    "print(\"Min-Max method, F =\", F)\n",
    "q.set_error_method(\"mc\")\n",
    "print(\"Monte Carlo method, F =\",F)\n",
    "\n",
    "q.plot_engine=\"bokeh\"\n",
    "F.show_MC_histogram()"
   ]
  },
  {
   "cell_type": "markdown",
   "metadata": {},
   "source": [
    "## Printing style and formatting\n",
    "QExPy can print results in different styles, and the user can assign names and units to variables (although one should not rely on units being correctly propagated). If one assigns and name and units to a variable, the print() function will automatically include those when printing out the variable.\n",
    "\n",
    "One can also set the \"print style\" to be either \"Default\", \"Scientific\" or \"Latex\". In the scientific and default styles, QExPy will factor out the powers of 10 to make the central value and uncertainty easier to compare. "
   ]
  },
  {
   "cell_type": "code",
   "execution_count": 16,
   "metadata": {
    "collapsed": false
   },
   "outputs": [
    {
     "name": "stdout",
     "output_type": "stream",
     "text": [
      "distance = (10000 +/- 1220)*10^(-3) [m]\n",
      "distance = (10000 \\pm 1220)*10^{-3}\\,m\n",
      "distance = 10.000 +/- 1.220 [m]\n"
     ]
    }
   ],
   "source": [
    "x = q.Measurement(10,1.22,name=\"distance\", units=\"m\")\n",
    "q.set_print_style(\"Scientific\")\n",
    "print(x)\n",
    "q.set_print_style(\"Latex\")\n",
    "print(x)\n",
    "q.set_print_style(\"Default\")\n",
    "print(x)"
   ]
  },
  {
   "cell_type": "markdown",
   "metadata": {
    "collapsed": false
   },
   "source": [
    "## Exact derivatives\n",
    "Since QExPy needs to be able to evaluate derivatives (by using the automatic differentiation algorithm that exploits the Chain Rule), we can use QExPy to evaluate numerical derivatives exactly. That is, given a function, $f(x,y)$, QExPy can evaluate $\\frac{\\partial f(x,y)}{\\partial x}$ at a given value of $x$ and $y$.\n",
    "\n",
    "For example, if we have:\n",
    "$$x(t) = \\frac{1}{2}gt^2 $$\n",
    "\n",
    "and we have measured $t=8 \\pm 1$, we can evaluate the exact value of the derivative:\n",
    "\n",
    "$$\\frac{\\partial x(t)}{\\partial t} = \\frac{d x(t)}{d t}  = gt$$\n",
    "\n",
    "at $t=8 \\pm 1$\n"
   ]
  },
  {
   "cell_type": "code",
   "execution_count": 17,
   "metadata": {
    "collapsed": false
   },
   "outputs": [
    {
     "name": "stdout",
     "output_type": "stream",
     "text": [
      "78.48\n"
     ]
    }
   ],
   "source": [
    "t = q.Measurement(8,1)\n",
    "x = 0.5 * 9.81 * t**2\n",
    "print(x.get_derivative(t))"
   ]
  },
  {
   "cell_type": "code",
   "execution_count": null,
   "metadata": {
    "collapsed": false
   },
   "outputs": [],
   "source": []
  }
 ],
 "metadata": {
  "anaconda-cloud": {},
  "kernelspec": {
   "display_name": "Python [default]",
   "language": "python",
   "name": "python3"
  },
  "language_info": {
   "codemirror_mode": {
    "name": "ipython",
    "version": 3
   },
   "file_extension": ".py",
   "mimetype": "text/x-python",
   "name": "python",
   "nbconvert_exporter": "python",
   "pygments_lexer": "ipython3",
   "version": "3.5.2"
  }
 },
 "nbformat": 4,
 "nbformat_minor": 0
}
