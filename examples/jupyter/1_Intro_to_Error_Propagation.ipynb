{
 "cells": [
  {
   "cell_type": "markdown",
   "metadata": {},
   "source": [
    "# Error Propagation with QExPy\n",
    "\n",
    "The first step is to import the error module for error propagation. We'll import it as \"q\":"
   ]
  },
  {
   "cell_type": "code",
   "execution_count": 1,
   "metadata": {
    "collapsed": false
   },
   "outputs": [
    {
     "data": {
      "text/html": [
       "\n",
       "    <div class=\"bk-root\">\n",
       "        <a href=\"http://bokeh.pydata.org\" target=\"_blank\" class=\"bk-logo bk-logo-small bk-logo-notebook\"></a>\n",
       "        <span id=\"4e6a6458-0331-4949-ba65-375a8ef5902f\">Loading BokehJS ...</span>\n",
       "    </div>"
      ]
     },
     "metadata": {},
     "output_type": "display_data"
    },
    {
     "data": {
      "application/javascript": [
       "\n",
       "(function(global) {\n",
       "  function now() {\n",
       "    return new Date();\n",
       "  }\n",
       "\n",
       "  var force = true;\n",
       "\n",
       "  if (typeof (window._bokeh_onload_callbacks) === \"undefined\" || force === true) {\n",
       "    window._bokeh_onload_callbacks = [];\n",
       "    window._bokeh_is_loading = undefined;\n",
       "  }\n",
       "\n",
       "\n",
       "  \n",
       "  if (typeof (window._bokeh_timeout) === \"undefined\" || force === true) {\n",
       "    window._bokeh_timeout = Date.now() + 5000;\n",
       "    window._bokeh_failed_load = false;\n",
       "  }\n",
       "\n",
       "  var NB_LOAD_WARNING = {'data': {'text/html':\n",
       "     \"<div style='background-color: #fdd'>\\n\"+\n",
       "     \"<p>\\n\"+\n",
       "     \"BokehJS does not appear to have successfully loaded. If loading BokehJS from CDN, this \\n\"+\n",
       "     \"may be due to a slow or bad network connection. Possible fixes:\\n\"+\n",
       "     \"</p>\\n\"+\n",
       "     \"<ul>\\n\"+\n",
       "     \"<li>re-rerun `output_notebook()` to attempt to load from CDN again, or</li>\\n\"+\n",
       "     \"<li>use INLINE resources instead, as so:</li>\\n\"+\n",
       "     \"</ul>\\n\"+\n",
       "     \"<code>\\n\"+\n",
       "     \"from bokeh.resources import INLINE\\n\"+\n",
       "     \"output_notebook(resources=INLINE)\\n\"+\n",
       "     \"</code>\\n\"+\n",
       "     \"</div>\"}};\n",
       "\n",
       "  function display_loaded() {\n",
       "    if (window.Bokeh !== undefined) {\n",
       "      document.getElementById(\"4e6a6458-0331-4949-ba65-375a8ef5902f\").textContent = \"BokehJS successfully loaded.\";\n",
       "    } else if (Date.now() < window._bokeh_timeout) {\n",
       "      setTimeout(display_loaded, 100)\n",
       "    }\n",
       "  }\n",
       "\n",
       "  function run_callbacks() {\n",
       "    window._bokeh_onload_callbacks.forEach(function(callback) { callback() });\n",
       "    delete window._bokeh_onload_callbacks\n",
       "    console.info(\"Bokeh: all callbacks have finished\");\n",
       "  }\n",
       "\n",
       "  function load_libs(js_urls, callback) {\n",
       "    window._bokeh_onload_callbacks.push(callback);\n",
       "    if (window._bokeh_is_loading > 0) {\n",
       "      console.log(\"Bokeh: BokehJS is being loaded, scheduling callback at\", now());\n",
       "      return null;\n",
       "    }\n",
       "    if (js_urls == null || js_urls.length === 0) {\n",
       "      run_callbacks();\n",
       "      return null;\n",
       "    }\n",
       "    console.log(\"Bokeh: BokehJS not loaded, scheduling load and callback at\", now());\n",
       "    window._bokeh_is_loading = js_urls.length;\n",
       "    for (var i = 0; i < js_urls.length; i++) {\n",
       "      var url = js_urls[i];\n",
       "      var s = document.createElement('script');\n",
       "      s.src = url;\n",
       "      s.async = false;\n",
       "      s.onreadystatechange = s.onload = function() {\n",
       "        window._bokeh_is_loading--;\n",
       "        if (window._bokeh_is_loading === 0) {\n",
       "          console.log(\"Bokeh: all BokehJS libraries loaded\");\n",
       "          run_callbacks()\n",
       "        }\n",
       "      };\n",
       "      s.onerror = function() {\n",
       "        console.warn(\"failed to load library \" + url);\n",
       "      };\n",
       "      console.log(\"Bokeh: injecting script tag for BokehJS library: \", url);\n",
       "      document.getElementsByTagName(\"head\")[0].appendChild(s);\n",
       "    }\n",
       "  };var element = document.getElementById(\"4e6a6458-0331-4949-ba65-375a8ef5902f\");\n",
       "  if (element == null) {\n",
       "    console.log(\"Bokeh: ERROR: autoload.js configured with elementid '4e6a6458-0331-4949-ba65-375a8ef5902f' but no matching script tag was found. \")\n",
       "    return false;\n",
       "  }\n",
       "\n",
       "  var js_urls = [\"https://cdn.pydata.org/bokeh/release/bokeh-0.12.4.min.js\", \"https://cdn.pydata.org/bokeh/release/bokeh-widgets-0.12.4.min.js\"];\n",
       "\n",
       "  var inline_js = [\n",
       "    function(Bokeh) {\n",
       "      Bokeh.set_log_level(\"info\");\n",
       "    },\n",
       "    \n",
       "    function(Bokeh) {\n",
       "      \n",
       "      document.getElementById(\"4e6a6458-0331-4949-ba65-375a8ef5902f\").textContent = \"BokehJS is loading...\";\n",
       "    },\n",
       "    function(Bokeh) {\n",
       "      console.log(\"Bokeh: injecting CSS: https://cdn.pydata.org/bokeh/release/bokeh-0.12.4.min.css\");\n",
       "      Bokeh.embed.inject_css(\"https://cdn.pydata.org/bokeh/release/bokeh-0.12.4.min.css\");\n",
       "      console.log(\"Bokeh: injecting CSS: https://cdn.pydata.org/bokeh/release/bokeh-widgets-0.12.4.min.css\");\n",
       "      Bokeh.embed.inject_css(\"https://cdn.pydata.org/bokeh/release/bokeh-widgets-0.12.4.min.css\");\n",
       "    }\n",
       "  ];\n",
       "\n",
       "  function run_inline_js() {\n",
       "    \n",
       "    if ((window.Bokeh !== undefined) || (force === true)) {\n",
       "      for (var i = 0; i < inline_js.length; i++) {\n",
       "        inline_js[i](window.Bokeh);\n",
       "      }if (force === true) {\n",
       "        display_loaded();\n",
       "      }} else if (Date.now() < window._bokeh_timeout) {\n",
       "      setTimeout(run_inline_js, 100);\n",
       "    } else if (!window._bokeh_failed_load) {\n",
       "      console.log(\"Bokeh: BokehJS failed to load within specified timeout.\");\n",
       "      window._bokeh_failed_load = true;\n",
       "    } else if (force !== true) {\n",
       "      var cell = $(document.getElementById(\"4e6a6458-0331-4949-ba65-375a8ef5902f\")).parents('.cell').data().cell;\n",
       "      cell.output_area.append_execute_result(NB_LOAD_WARNING)\n",
       "    }\n",
       "\n",
       "  }\n",
       "\n",
       "  if (window._bokeh_is_loading === 0) {\n",
       "    console.log(\"Bokeh: BokehJS loaded, going straight to plotting\");\n",
       "    run_inline_js();\n",
       "  } else {\n",
       "    load_libs(js_urls, function() {\n",
       "      console.log(\"Bokeh: BokehJS plotting callback run at\", now());\n",
       "      run_inline_js();\n",
       "    });\n",
       "  }\n",
       "}(this));"
      ]
     },
     "metadata": {},
     "output_type": "display_data"
    }
   ],
   "source": [
    "import qexpy as q\n"
   ]
  },
  {
   "cell_type": "markdown",
   "metadata": {},
   "source": [
    "Next, we'll declare two measured values, x and y, with uncertainties, and print them out. We use the Measurement object from qexpy:"
   ]
  },
  {
   "cell_type": "code",
   "execution_count": 2,
   "metadata": {
    "collapsed": false,
    "scrolled": true
   },
   "outputs": [
    {
     "name": "stdout",
     "output_type": "stream",
     "text": [
      "x = 10 +/- 1\n",
      "y = 5 +/- 3\n"
     ]
    }
   ],
   "source": [
    "#Our two measured values:\n",
    "x = q.Measurement(10,1)\n",
    "y = q.Measurement(5,3)\n",
    "\n",
    "#We can print them out:\n",
    "print(\"x =\",x)\n",
    "print(\"y =\",y)\n",
    "#x.set_correlation(y,0.3)"
   ]
  },
  {
   "cell_type": "markdown",
   "metadata": {},
   "source": [
    "We can declare a third object, z, which depends on x and y. The uncertainty in x and y will be correctly propagated to z, so once we have defined z, we can simply print it out with the correct uncertainty:"
   ]
  },
  {
   "cell_type": "code",
   "execution_count": 3,
   "metadata": {
    "collapsed": false
   },
   "outputs": [
    {
     "name": "stdout",
     "output_type": "stream",
     "text": [
      "z = 15 +/- 3\n"
     ]
    }
   ],
   "source": [
    "#We define z\n",
    "z = x+y\n",
    "#z can now be printed out\n",
    "print(\"z =\",z)"
   ]
  },
  {
   "cell_type": "markdown",
   "metadata": {},
   "source": [
    "Note how the uncertainties have been kept to 1 significant figure. In this case, the error in z was obtained by adding the errors in x and y in quadrature. We can change the number of significant figures to confirm that the errors were indeed added in quadrature. We can choose between setting  the number of significant figures based on the uncertainty (more common) or based on the central value."
   ]
  },
  {
   "cell_type": "code",
   "execution_count": 4,
   "metadata": {
    "collapsed": false
   },
   "outputs": [
    {
     "name": "stdout",
     "output_type": "stream",
     "text": [
      "z = 15.000 +/- 3.162\n"
     ]
    }
   ],
   "source": [
    "q.set_sigfigs_error(4) # set sigfigs based on the error\n",
    "print(\"z =\",z)"
   ]
  },
  {
   "cell_type": "markdown",
   "metadata": {},
   "source": [
    "Let's compare the error in z to what the errors in x and y are when added manually in quadrature. We need to import the sqrt() function from the math package to apply mathematical functions to numbers:"
   ]
  },
  {
   "cell_type": "code",
   "execution_count": 5,
   "metadata": {
    "collapsed": false
   },
   "outputs": [
    {
     "name": "stdout",
     "output_type": "stream",
     "text": [
      "3.1622776601683795\n"
     ]
    }
   ],
   "source": [
    "import math as m\n",
    "quadrature = m.sqrt(x.std**2+y.std**2)\n",
    "print(quadrature)"
   ]
  },
  {
   "cell_type": "markdown",
   "metadata": {},
   "source": [
    "## Math functions\n",
    "We can propagate the uncertainties through any operator (+,-,\\*,/) automatically as we showed above. QExPy also knows how to propagate the uncertainty through common mathematical functions. To use mathematical functions on Measurement objects, we need to call the functions from the QExPy package (as opposed to the math package as we did above for 2 numbers)."
   ]
  },
  {
   "cell_type": "code",
   "execution_count": 6,
   "metadata": {
    "collapsed": false
   },
   "outputs": [
    {
     "name": "stdout",
     "output_type": "stream",
     "text": [
      "time =  1.277102 +/- 0.007982 seconds\n"
     ]
    }
   ],
   "source": [
    "#If an object fell a distance of 8.0 +/0.1 m, how long did it take to fall?\n",
    "y = q.Measurement(8,0.1)\n",
    "g = 9.81\n",
    "t = q.sqrt(2*y/g)\n",
    "print(\"time = \",t, \"seconds\")"
   ]
  },
  {
   "cell_type": "markdown",
   "metadata": {},
   "source": [
    "## Error in correlated quantities\n",
    "If we have two measurements, x and y, that are correlated, then their correlation factor will impact the uncertainty on a quantity that depends on them:"
   ]
  },
  {
   "cell_type": "code",
   "execution_count": 7,
   "metadata": {
    "collapsed": false
   },
   "outputs": [
    {
     "name": "stdout",
     "output_type": "stream",
     "text": [
      "x and y uncorrelated: z= 15.000 +/- 3.162\n",
      "x and y positively correlated: z= 15.000 +/- 3.606\n",
      "x and y negatively correlated: z= 15.000 +/- 2.646\n"
     ]
    }
   ],
   "source": [
    "x = q.Measurement(10,1)\n",
    "y = q.Measurement(5,3)\n",
    "z = x+y\n",
    "print(\"x and y uncorrelated: z=\",z)\n",
    "\n",
    "#Now set a correlation factor between x and y:\n",
    "x.set_correlation(y,0.5)\n",
    "z = x+y\n",
    "print(\"x and y positively correlated: z=\",z)\n",
    "\n",
    "#We can also use the covariance factor instead of the correlation factor:\n",
    "x.set_covariance(y,-1.5)\n",
    "z = x+y\n",
    "print(\"x and y negatively correlated: z=\",z)"
   ]
  },
  {
   "cell_type": "markdown",
   "metadata": {},
   "source": [
    "If we don't specify any correlation factors, then all quantities are assumed to be independent. However, a quantity should not be independent from itself, so QExPy knows how to track the correlation in quantities that depend on common quantities. "
   ]
  },
  {
   "cell_type": "code",
   "execution_count": 8,
   "metadata": {
    "collapsed": false
   },
   "outputs": [
    {
     "name": "stdout",
     "output_type": "stream",
     "text": [
      "0.000 +/- 0.000\n"
     ]
    }
   ],
   "source": [
    "x = q.Measurement(10,1)\n",
    "y = x*x\n",
    "z = x*x - y #this should be 0 +/- 0, since it's really x^2 - x^2 \n",
    "print(z)"
   ]
  },
  {
   "cell_type": "markdown",
   "metadata": {
    "collapsed": true
   },
   "source": [
    "## Statistical measurements\n",
    "QExPy can also handle the case when you have repeated measurements of a single quantity and you want to average them together. Suppose that you have measured 5 values of some quantity T. QExPy will automatically assume that those values should be averaged together so that T is given by the mean of the measured values with an uncertainty given by the standard deviation of the values.\n"
   ]
  },
  {
   "cell_type": "code",
   "execution_count": 9,
   "metadata": {
    "collapsed": false
   },
   "outputs": [
    {
     "name": "stdout",
     "output_type": "stream",
     "text": [
      "5.3000 +/- 0.5431\n"
     ]
    }
   ],
   "source": [
    "T=q.Measurement( [5.6, 4.8, 6.1, 4.9, 5.1 ] )\n",
    "print(T)"
   ]
  },
  {
   "cell_type": "markdown",
   "metadata": {},
   "source": [
    "T can be used just as any other measurement with uncertainties, and its error will be propagate correctly:"
   ]
  },
  {
   "cell_type": "code",
   "execution_count": 10,
   "metadata": {
    "collapsed": false
   },
   "outputs": [
    {
     "name": "stdout",
     "output_type": "stream",
     "text": [
      "1.1849 +/- 0.1214\n"
     ]
    }
   ],
   "source": [
    "omega = 2*3.14/T\n",
    "print(omega)"
   ]
  },
  {
   "cell_type": "markdown",
   "metadata": {},
   "source": [
    "If we have measured many values, it can sometimes be useful to visualize those measurements in a histogram. QExPy will automatically create a histogram of the values, showing lines corresponding to the mean and the range covered by one standard deviation"
   ]
  },
  {
   "cell_type": "code",
   "execution_count": 11,
   "metadata": {
    "collapsed": false
   },
   "outputs": [
    {
     "data": {
      "text/html": [
       "\n",
       "\n",
       "    <div class=\"bk-root\">\n",
       "        <div class=\"bk-plotdiv\" id=\"d8740b4d-d3bf-46aa-b260-d2014e541aed\"></div>\n",
       "    </div>\n",
       "<script type=\"text/javascript\">\n",
       "  \n",
       "  (function(global) {\n",
       "    function now() {\n",
       "      return new Date();\n",
       "    }\n",
       "  \n",
       "    var force = false;\n",
       "  \n",
       "    if (typeof (window._bokeh_onload_callbacks) === \"undefined\" || force === true) {\n",
       "      window._bokeh_onload_callbacks = [];\n",
       "      window._bokeh_is_loading = undefined;\n",
       "    }\n",
       "  \n",
       "  \n",
       "    \n",
       "    if (typeof (window._bokeh_timeout) === \"undefined\" || force === true) {\n",
       "      window._bokeh_timeout = Date.now() + 0;\n",
       "      window._bokeh_failed_load = false;\n",
       "    }\n",
       "  \n",
       "    var NB_LOAD_WARNING = {'data': {'text/html':\n",
       "       \"<div style='background-color: #fdd'>\\n\"+\n",
       "       \"<p>\\n\"+\n",
       "       \"BokehJS does not appear to have successfully loaded. If loading BokehJS from CDN, this \\n\"+\n",
       "       \"may be due to a slow or bad network connection. Possible fixes:\\n\"+\n",
       "       \"</p>\\n\"+\n",
       "       \"<ul>\\n\"+\n",
       "       \"<li>re-rerun `output_notebook()` to attempt to load from CDN again, or</li>\\n\"+\n",
       "       \"<li>use INLINE resources instead, as so:</li>\\n\"+\n",
       "       \"</ul>\\n\"+\n",
       "       \"<code>\\n\"+\n",
       "       \"from bokeh.resources import INLINE\\n\"+\n",
       "       \"output_notebook(resources=INLINE)\\n\"+\n",
       "       \"</code>\\n\"+\n",
       "       \"</div>\"}};\n",
       "  \n",
       "    function display_loaded() {\n",
       "      if (window.Bokeh !== undefined) {\n",
       "        document.getElementById(\"d8740b4d-d3bf-46aa-b260-d2014e541aed\").textContent = \"BokehJS successfully loaded.\";\n",
       "      } else if (Date.now() < window._bokeh_timeout) {\n",
       "        setTimeout(display_loaded, 100)\n",
       "      }\n",
       "    }if ((window.Jupyter !== undefined) && Jupyter.notebook.kernel) {\n",
       "      comm_manager = Jupyter.notebook.kernel.comm_manager\n",
       "      comm_manager.register_target(\"4e08f37a-262d-4a94-8937-f92b1419ac47\", function () {});\n",
       "    }\n",
       "  \n",
       "    function run_callbacks() {\n",
       "      window._bokeh_onload_callbacks.forEach(function(callback) { callback() });\n",
       "      delete window._bokeh_onload_callbacks\n",
       "      console.info(\"Bokeh: all callbacks have finished\");\n",
       "    }\n",
       "  \n",
       "    function load_libs(js_urls, callback) {\n",
       "      window._bokeh_onload_callbacks.push(callback);\n",
       "      if (window._bokeh_is_loading > 0) {\n",
       "        console.log(\"Bokeh: BokehJS is being loaded, scheduling callback at\", now());\n",
       "        return null;\n",
       "      }\n",
       "      if (js_urls == null || js_urls.length === 0) {\n",
       "        run_callbacks();\n",
       "        return null;\n",
       "      }\n",
       "      console.log(\"Bokeh: BokehJS not loaded, scheduling load and callback at\", now());\n",
       "      window._bokeh_is_loading = js_urls.length;\n",
       "      for (var i = 0; i < js_urls.length; i++) {\n",
       "        var url = js_urls[i];\n",
       "        var s = document.createElement('script');\n",
       "        s.src = url;\n",
       "        s.async = false;\n",
       "        s.onreadystatechange = s.onload = function() {\n",
       "          window._bokeh_is_loading--;\n",
       "          if (window._bokeh_is_loading === 0) {\n",
       "            console.log(\"Bokeh: all BokehJS libraries loaded\");\n",
       "            run_callbacks()\n",
       "          }\n",
       "        };\n",
       "        s.onerror = function() {\n",
       "          console.warn(\"failed to load library \" + url);\n",
       "        };\n",
       "        console.log(\"Bokeh: injecting script tag for BokehJS library: \", url);\n",
       "        document.getElementsByTagName(\"head\")[0].appendChild(s);\n",
       "      }\n",
       "    };var element = document.getElementById(\"d8740b4d-d3bf-46aa-b260-d2014e541aed\");\n",
       "    if (element == null) {\n",
       "      console.log(\"Bokeh: ERROR: autoload.js configured with elementid 'd8740b4d-d3bf-46aa-b260-d2014e541aed' but no matching script tag was found. \")\n",
       "      return false;\n",
       "    }\n",
       "  \n",
       "    var js_urls = [];\n",
       "  \n",
       "    var inline_js = [\n",
       "      function(Bokeh) {\n",
       "        (function() {\n",
       "          var fn = function() {\n",
       "            var docs_json = {\"ae093539-023a-438a-8f26-52a96e4f3dbe\":{\"roots\":{\"references\":[{\"attributes\":{\"line_alpha\":{\"value\":0.1},\"line_color\":{\"value\":\"#1f77b4\"},\"line_dash\":[6],\"x\":{\"field\":\"x\"},\"y\":{\"field\":\"y\"}},\"id\":\"33a28ccf-0bd0-48db-af5b-62c7dcebd04a\",\"type\":\"Line\"},{\"attributes\":{},\"id\":\"ebb52c52-4b02-4442-8fdf-843226a9df33\",\"type\":\"BasicTickFormatter\"},{\"attributes\":{\"line_alpha\":{\"value\":0.1},\"line_color\":{\"value\":\"#1f77b4\"},\"x\":{\"field\":\"x\"},\"y\":{\"field\":\"y\"}},\"id\":\"afc01019-18cd-4dd8-a34d-5914a39606a8\",\"type\":\"Line\"},{\"attributes\":{},\"id\":\"c7911bd2-5e39-47c5-9b07-d14b914498b5\",\"type\":\"ToolEvents\"},{\"attributes\":{\"callback\":null,\"column_names\":[\"y\",\"x\"],\"data\":{\"x\":[5.3,5.3],\"y\":[0,1.2]}},\"id\":\"4819babe-8749-4ffb-b86c-cdb9e50dc36c\",\"type\":\"ColumnDataSource\"},{\"attributes\":{\"plot\":{\"id\":\"11942163-5d02-449d-bc67-1b9fe027fdf2\",\"subtype\":\"Figure\",\"type\":\"Plot\"}},\"id\":\"b2746f02-ef76-430a-afbd-425345071338\",\"type\":\"WheelZoomTool\"},{\"attributes\":{\"data_source\":{\"id\":\"e19fb268-638c-44f4-86ea-b5caf53a3da2\",\"type\":\"ColumnDataSource\"},\"glyph\":{\"id\":\"78c3f736-8106-49aa-9e35-20751e94f1df\",\"type\":\"Quad\"},\"hover_glyph\":null,\"nonselection_glyph\":{\"id\":\"59b64e95-2803-415b-836b-43fa86ce4a13\",\"type\":\"Quad\"},\"selection_glyph\":null},\"id\":\"98e6d293-cd53-45f0-abbe-58d53a65c5c0\",\"type\":\"GlyphRenderer\"},{\"attributes\":{},\"id\":\"e68ed18b-f362-46f8-98be-2d97825b1c7b\",\"type\":\"BasicTicker\"},{\"attributes\":{\"plot\":{\"id\":\"11942163-5d02-449d-bc67-1b9fe027fdf2\",\"subtype\":\"Figure\",\"type\":\"Plot\"}},\"id\":\"6f83263e-9dee-450d-a54c-8070543908b4\",\"type\":\"PanTool\"},{\"attributes\":{\"data_source\":{\"id\":\"3ef067de-409c-4406-a778-5fe516aafc1e\",\"type\":\"ColumnDataSource\"},\"glyph\":{\"id\":\"5e46ab32-e3f0-4c79-a333-f0cc4d5e6a02\",\"type\":\"Line\"},\"hover_glyph\":null,\"nonselection_glyph\":{\"id\":\"33a28ccf-0bd0-48db-af5b-62c7dcebd04a\",\"type\":\"Line\"},\"selection_glyph\":null},\"id\":\"622add8b-32fe-4676-bc0a-64a64ac7019a\",\"type\":\"GlyphRenderer\"},{\"attributes\":{\"dimension\":1,\"plot\":{\"id\":\"11942163-5d02-449d-bc67-1b9fe027fdf2\",\"subtype\":\"Figure\",\"type\":\"Plot\"},\"ticker\":{\"id\":\"e68ed18b-f362-46f8-98be-2d97825b1c7b\",\"type\":\"BasicTicker\"}},\"id\":\"b41ce76f-d5ed-45be-85dc-fdacd396af78\",\"type\":\"Grid\"},{\"attributes\":{\"plot\":{\"id\":\"11942163-5d02-449d-bc67-1b9fe027fdf2\",\"subtype\":\"Figure\",\"type\":\"Plot\"},\"ticker\":{\"id\":\"90a59b72-0eea-4215-b4d5-a29096e7dabc\",\"type\":\"BasicTicker\"}},\"id\":\"41ea01cf-5aef-433d-8fbf-422716405506\",\"type\":\"Grid\"},{\"attributes\":{\"plot\":null,\"text\":\"unnamed_var6 Histogram\"},\"id\":\"593067f3-d636-4572-907f-f36eb8b9155f\",\"type\":\"Title\"},{\"attributes\":{\"line_color\":{\"value\":\"red\"},\"line_dash\":[6],\"x\":{\"field\":\"x\"},\"y\":{\"field\":\"y\"}},\"id\":\"5e46ab32-e3f0-4c79-a333-f0cc4d5e6a02\",\"type\":\"Line\"},{\"attributes\":{\"callback\":null,\"column_names\":[\"y\",\"x\"],\"data\":{\"x\":[4.756860975439989,4.756860975439989],\"y\":[0,1.2]}},\"id\":\"3ef067de-409c-4406-a778-5fe516aafc1e\",\"type\":\"ColumnDataSource\"},{\"attributes\":{\"axis_label\":\"unnamed_arr1 []\",\"formatter\":{\"id\":\"ebb52c52-4b02-4442-8fdf-843226a9df33\",\"type\":\"BasicTickFormatter\"},\"plot\":{\"id\":\"11942163-5d02-449d-bc67-1b9fe027fdf2\",\"subtype\":\"Figure\",\"type\":\"Plot\"},\"ticker\":{\"id\":\"e68ed18b-f362-46f8-98be-2d97825b1c7b\",\"type\":\"BasicTicker\"}},\"id\":\"b38d372e-ab95-4d5a-a98f-409333afabc6\",\"type\":\"LinearAxis\"},{\"attributes\":{\"bottom_units\":\"screen\",\"fill_alpha\":{\"value\":0.5},\"fill_color\":{\"value\":\"lightgrey\"},\"left_units\":\"screen\",\"level\":\"overlay\",\"line_alpha\":{\"value\":1.0},\"line_color\":{\"value\":\"black\"},\"line_dash\":[4,4],\"line_width\":{\"value\":2},\"plot\":null,\"render_mode\":\"css\",\"right_units\":\"screen\",\"top_units\":\"screen\"},\"id\":\"9843260a-0575-4815-b465-1a75093890fb\",\"type\":\"BoxAnnotation\"},{\"attributes\":{},\"id\":\"90a59b72-0eea-4215-b4d5-a29096e7dabc\",\"type\":\"BasicTicker\"},{\"attributes\":{\"below\":[{\"id\":\"2d74453d-1ffa-4f5b-8344-a2d4826b155f\",\"type\":\"LinearAxis\"}],\"left\":[{\"id\":\"b38d372e-ab95-4d5a-a98f-409333afabc6\",\"type\":\"LinearAxis\"}],\"plot_height\":400,\"renderers\":[{\"id\":\"2d74453d-1ffa-4f5b-8344-a2d4826b155f\",\"type\":\"LinearAxis\"},{\"id\":\"41ea01cf-5aef-433d-8fbf-422716405506\",\"type\":\"Grid\"},{\"id\":\"b38d372e-ab95-4d5a-a98f-409333afabc6\",\"type\":\"LinearAxis\"},{\"id\":\"b41ce76f-d5ed-45be-85dc-fdacd396af78\",\"type\":\"Grid\"},{\"id\":\"9843260a-0575-4815-b465-1a75093890fb\",\"type\":\"BoxAnnotation\"},{\"id\":\"7ccd3fa0-4fbf-4493-ba1c-87a9d113a338\",\"type\":\"Legend\"},{\"id\":\"98e6d293-cd53-45f0-abbe-58d53a65c5c0\",\"type\":\"GlyphRenderer\"},{\"id\":\"527e28ea-9a77-4e36-8c9b-71825b264d77\",\"type\":\"GlyphRenderer\"},{\"id\":\"0557fa5e-b01c-46e0-86eb-84d92f11609b\",\"type\":\"GlyphRenderer\"},{\"id\":\"622add8b-32fe-4676-bc0a-64a64ac7019a\",\"type\":\"GlyphRenderer\"}],\"title\":{\"id\":\"593067f3-d636-4572-907f-f36eb8b9155f\",\"type\":\"Title\"},\"tool_events\":{\"id\":\"c7911bd2-5e39-47c5-9b07-d14b914498b5\",\"type\":\"ToolEvents\"},\"toolbar\":{\"id\":\"1cf6caf3-1e38-4890-bf9f-d1ffc6b63243\",\"type\":\"Toolbar\"},\"toolbar_location\":\"above\",\"x_range\":{\"id\":\"31616e17-5c29-4922-92bb-b687f4006bbd\",\"type\":\"Range1d\"},\"y_range\":{\"id\":\"6e31986e-783a-4c6b-b991-98b661a35b59\",\"type\":\"Range1d\"}},\"id\":\"11942163-5d02-449d-bc67-1b9fe027fdf2\",\"subtype\":\"Figure\",\"type\":\"Plot\"},{\"attributes\":{\"overlay\":{\"id\":\"9843260a-0575-4815-b465-1a75093890fb\",\"type\":\"BoxAnnotation\"},\"plot\":{\"id\":\"11942163-5d02-449d-bc67-1b9fe027fdf2\",\"subtype\":\"Figure\",\"type\":\"Plot\"}},\"id\":\"50a6b7a7-63d7-4374-8992-c5334aa431f0\",\"type\":\"BoxZoomTool\"},{\"attributes\":{\"axis_label\":\"unnamed_arr0 []\",\"formatter\":{\"id\":\"5f342a55-cb9b-4df7-8b86-a347eed382bc\",\"type\":\"BasicTickFormatter\"},\"plot\":{\"id\":\"11942163-5d02-449d-bc67-1b9fe027fdf2\",\"subtype\":\"Figure\",\"type\":\"Plot\"},\"ticker\":{\"id\":\"90a59b72-0eea-4215-b4d5-a29096e7dabc\",\"type\":\"BasicTicker\"}},\"id\":\"2d74453d-1ffa-4f5b-8344-a2d4826b155f\",\"type\":\"LinearAxis\"},{\"attributes\":{\"bottom\":{\"value\":0},\"fill_alpha\":{\"value\":0.7},\"fill_color\":{\"value\":\"#036564\"},\"left\":{\"field\":\"left\"},\"line_alpha\":{\"value\":0.7},\"line_color\":{\"value\":\"#036564\"},\"right\":{\"field\":\"right\"},\"top\":{\"field\":\"top\"}},\"id\":\"78c3f736-8106-49aa-9e35-20751e94f1df\",\"type\":\"Quad\"},{\"attributes\":{\"plot\":{\"id\":\"11942163-5d02-449d-bc67-1b9fe027fdf2\",\"subtype\":\"Figure\",\"type\":\"Plot\"}},\"id\":\"1711d1b9-d670-4191-9426-5ef63a1d665c\",\"type\":\"SaveTool\"},{\"attributes\":{\"callback\":null,\"end\":6.405,\"start\":4.56},\"id\":\"31616e17-5c29-4922-92bb-b687f4006bbd\",\"type\":\"Range1d\"},{\"attributes\":{\"callback\":null,\"column_names\":[\"right\",\"left\",\"top\"],\"data\":{\"left\":{\"__ndarray__\":\"MzMzMzMzE0Dn+6nx0k0TQJvEILByaBNAUI2XbhKDE0AEVg4tsp0TQLgehetRuBNAbOf7qfHSE0AhsHJoke0TQNV46SYxCBRAiUFg5dAiFEA9CtejcD0UQPHSTWIQWBRAppvEILByFEBaZDvfT40UQA4tsp3vpxRAwvUoXI/CFEB2vp8aL90UQCuHFtnO9xRA30+Nl24SFUCTGARWDi0VQEfhehSuRxVA/Knx0k1iFUCwcmiR7XwVQGQ730+NlxVAGARWDi2yFUDMzMzMzMwVQIGVQ4ts5xVANV66SQwCFkDpJjEIrBwWQJ3vp8ZLNxZAUrgehetRFkAGgZVDi2wWQLpJDAIrhxZAbhKDwMqhFkAi2/l+arwWQNejcD0K1xZAi2zn+6nxFkA/NV66SQwXQPP91HjpJhdAqMZLN4lBF0Bcj8L1KFwXQBBYObTIdhdAxCCwcmiRF0B46SYxCKwXQCyyne+nxhdA4XoUrkfhF0CVQ4ts5/sXQEkMAiuHFhhA/tR46SYxGECyne+nxksYQA==\",\"dtype\":\"float64\",\"shape\":[50]},\"right\":{\"__ndarray__\":\"5/up8dJNE0CbxCCwcmgTQFCNl24SgxNABFYOLbKdE0C4HoXrUbgTQGzn+6nx0hNAIbByaJHtE0DVeOkmMQgUQIlBYOXQIhRAPQrXo3A9FEDx0k1iEFgUQKabxCCwchRAWmQ730+NFEAOLbKd76cUQML1KFyPwhRAdr6fGi/dFEArhxbZzvcUQN9PjZduEhVAkxgEVg4tFUBH4XoUrkcVQPyp8dJNYhVAsHJoke18FUBkO99PjZcVQBgEVg4tshVAzMzMzMzMFUCBlUOLbOcVQDVeukkMAhZA6SYxCKwcFkCd76fGSzcWQFK4HoXrURZABoGVQ4tsFkC6SQwCK4cWQG4Sg8DKoRZAItv5fmq8FkDXo3A9CtcWQIts5/up8RZAPzVeukkMF0Dz/dR46SYXQKjGSzeJQRdAXI/C9ShcF0AQWDm0yHYXQMQgsHJokRdAeOkmMQisF0Assp3vp8YXQOF6FK5H4RdAlUOLbOf7F0BJDAIrhxYYQP7UeOkmMRhAsp3vp8ZLGEBmZmZmZmYYQA==\",\"dtype\":\"float64\",\"shape\":[50]},\"top\":[1,0,0,1,0,0,0,0,0,0,0,1,0,0,0,0,0,0,0,0,0,0,0,0,0,0,0,0,0,0,1,0,0,0,0,0,0,0,0,0,0,0,0,0,0,0,0,0,0,1]}},\"id\":\"e19fb268-638c-44f4-86ea-b5caf53a3da2\",\"type\":\"ColumnDataSource\"},{\"attributes\":{\"data_source\":{\"id\":\"4819babe-8749-4ffb-b86c-cdb9e50dc36c\",\"type\":\"ColumnDataSource\"},\"glyph\":{\"id\":\"2e3e767a-af07-418c-8bc1-eb5f50729e84\",\"type\":\"Line\"},\"hover_glyph\":null,\"nonselection_glyph\":{\"id\":\"afc01019-18cd-4dd8-a34d-5914a39606a8\",\"type\":\"Line\"},\"selection_glyph\":null},\"id\":\"527e28ea-9a77-4e36-8c9b-71825b264d77\",\"type\":\"GlyphRenderer\"},{\"attributes\":{\"plot\":{\"id\":\"11942163-5d02-449d-bc67-1b9fe027fdf2\",\"subtype\":\"Figure\",\"type\":\"Plot\"}},\"id\":\"9c80beae-57f2-4eec-bc87-498ed01d1481\",\"type\":\"ResetTool\"},{\"attributes\":{\"line_alpha\":{\"value\":0.1},\"line_color\":{\"value\":\"#1f77b4\"},\"line_dash\":[6],\"x\":{\"field\":\"x\"},\"y\":{\"field\":\"y\"}},\"id\":\"4af75acc-f538-4c1d-afec-a27e4def77fb\",\"type\":\"Line\"},{\"attributes\":{\"data_source\":{\"id\":\"f7248845-7a7f-499e-b920-0fd6cafd58f8\",\"type\":\"ColumnDataSource\"},\"glyph\":{\"id\":\"2b3c1ae1-8506-42f1-9fcd-f4b53292dbfc\",\"type\":\"Line\"},\"hover_glyph\":null,\"nonselection_glyph\":{\"id\":\"4af75acc-f538-4c1d-afec-a27e4def77fb\",\"type\":\"Line\"},\"selection_glyph\":null},\"id\":\"0557fa5e-b01c-46e0-86eb-84d92f11609b\",\"type\":\"GlyphRenderer\"},{\"attributes\":{\"items\":[{\"id\":\"39c647a5-1214-4071-9e8e-a7751a177db2\",\"type\":\"LegendItem\"}],\"location\":\"top_left\",\"plot\":{\"id\":\"11942163-5d02-449d-bc67-1b9fe027fdf2\",\"subtype\":\"Figure\",\"type\":\"Plot\"}},\"id\":\"7ccd3fa0-4fbf-4493-ba1c-87a9d113a338\",\"type\":\"Legend\"},{\"attributes\":{\"bottom\":{\"value\":0},\"fill_alpha\":{\"value\":0.1},\"fill_color\":{\"value\":\"#1f77b4\"},\"left\":{\"field\":\"left\"},\"line_alpha\":{\"value\":0.1},\"line_color\":{\"value\":\"#1f77b4\"},\"right\":{\"field\":\"right\"},\"top\":{\"field\":\"top\"}},\"id\":\"59b64e95-2803-415b-836b-43fa86ce4a13\",\"type\":\"Quad\"},{\"attributes\":{\"line_color\":{\"value\":\"red\"},\"x\":{\"field\":\"x\"},\"y\":{\"field\":\"y\"}},\"id\":\"2e3e767a-af07-418c-8bc1-eb5f50729e84\",\"type\":\"Line\"},{\"attributes\":{\"callback\":null,\"column_names\":[\"y\",\"x\"],\"data\":{\"x\":[5.843139024560011,5.843139024560011],\"y\":[0,1.2]}},\"id\":\"f7248845-7a7f-499e-b920-0fd6cafd58f8\",\"type\":\"ColumnDataSource\"},{\"attributes\":{\"active_drag\":\"auto\",\"active_scroll\":\"auto\",\"active_tap\":\"auto\",\"tools\":[{\"id\":\"1711d1b9-d670-4191-9426-5ef63a1d665c\",\"type\":\"SaveTool\"},{\"id\":\"6f83263e-9dee-450d-a54c-8070543908b4\",\"type\":\"PanTool\"},{\"id\":\"50a6b7a7-63d7-4374-8992-c5334aa431f0\",\"type\":\"BoxZoomTool\"},{\"id\":\"b2746f02-ef76-430a-afbd-425345071338\",\"type\":\"WheelZoomTool\"},{\"id\":\"9c80beae-57f2-4eec-bc87-498ed01d1481\",\"type\":\"ResetTool\"}]},\"id\":\"1cf6caf3-1e38-4890-bf9f-d1ffc6b63243\",\"type\":\"Toolbar\"},{\"attributes\":{\"label\":{\"value\":\"unnamed_var6 Histogram\"},\"renderers\":[{\"id\":\"98e6d293-cd53-45f0-abbe-58d53a65c5c0\",\"type\":\"GlyphRenderer\"}]},\"id\":\"39c647a5-1214-4071-9e8e-a7751a177db2\",\"type\":\"LegendItem\"},{\"attributes\":{\"callback\":null,\"end\":1.2},\"id\":\"6e31986e-783a-4c6b-b991-98b661a35b59\",\"type\":\"Range1d\"},{\"attributes\":{},\"id\":\"5f342a55-cb9b-4df7-8b86-a347eed382bc\",\"type\":\"BasicTickFormatter\"},{\"attributes\":{\"line_color\":{\"value\":\"red\"},\"line_dash\":[6],\"x\":{\"field\":\"x\"},\"y\":{\"field\":\"y\"}},\"id\":\"2b3c1ae1-8506-42f1-9fcd-f4b53292dbfc\",\"type\":\"Line\"}],\"root_ids\":[\"11942163-5d02-449d-bc67-1b9fe027fdf2\"]},\"title\":\"Bokeh Application\",\"version\":\"0.12.4\"}};\n",
       "            var render_items = [{\"docid\":\"ae093539-023a-438a-8f26-52a96e4f3dbe\",\"elementid\":\"d8740b4d-d3bf-46aa-b260-d2014e541aed\",\"modelid\":\"11942163-5d02-449d-bc67-1b9fe027fdf2\",\"notebook_comms_target\":\"4e08f37a-262d-4a94-8937-f92b1419ac47\"}];\n",
       "            \n",
       "            Bokeh.embed.embed_items(docs_json, render_items);\n",
       "          };\n",
       "          if (document.readyState != \"loading\") fn();\n",
       "          else document.addEventListener(\"DOMContentLoaded\", fn);\n",
       "        })();\n",
       "      },\n",
       "      function(Bokeh) {\n",
       "      }\n",
       "    ];\n",
       "  \n",
       "    function run_inline_js() {\n",
       "      \n",
       "      if ((window.Bokeh !== undefined) || (force === true)) {\n",
       "        for (var i = 0; i < inline_js.length; i++) {\n",
       "          inline_js[i](window.Bokeh);\n",
       "        }if (force === true) {\n",
       "          display_loaded();\n",
       "        }} else if (Date.now() < window._bokeh_timeout) {\n",
       "        setTimeout(run_inline_js, 100);\n",
       "      } else if (!window._bokeh_failed_load) {\n",
       "        console.log(\"Bokeh: BokehJS failed to load within specified timeout.\");\n",
       "        window._bokeh_failed_load = true;\n",
       "      } else if (force !== true) {\n",
       "        var cell = $(document.getElementById(\"d8740b4d-d3bf-46aa-b260-d2014e541aed\")).parents('.cell').data().cell;\n",
       "        cell.output_area.append_execute_result(NB_LOAD_WARNING)\n",
       "      }\n",
       "  \n",
       "    }\n",
       "  \n",
       "    if (window._bokeh_is_loading === 0) {\n",
       "      console.log(\"Bokeh: BokehJS loaded, going straight to plotting\");\n",
       "      run_inline_js();\n",
       "    } else {\n",
       "      load_libs(js_urls, function() {\n",
       "        console.log(\"Bokeh: BokehJS plotting callback run at\", now());\n",
       "        run_inline_js();\n",
       "      });\n",
       "    }\n",
       "  }(this));\n",
       "</script>"
      ]
     },
     "metadata": {},
     "output_type": "display_data"
    },
    {
     "data": {
      "text/plain": [
       "<qexpy.plotting.Plot at 0x111c0bd30>"
      ]
     },
     "execution_count": 11,
     "metadata": {},
     "output_type": "execute_result"
    }
   ],
   "source": [
    "T.show_histogram()"
   ]
  },
  {
   "cell_type": "markdown",
   "metadata": {},
   "source": [
    "## Multiple measurements (Arrays of Measurements)\n",
    "QExPy can also handle the case of having multiple measurements, when each measurement has its own uncertainty. For example, if you have three measurements of a single quantity, in order to get an average value, you should weight each measurement by its uncertainty (or rather the weight should be 1 over the square of the uncertainty). This is handled by the MeasurementArray class:"
   ]
  },
  {
   "cell_type": "code",
   "execution_count": 12,
   "metadata": {
    "collapsed": false
   },
   "outputs": [
    {
     "name": "stdout",
     "output_type": "stream",
     "text": [
      "g_0 = 9.8000 +/- 0.2000 [m/s^2],\n",
      "g_1 = 14.000 +/- 3.000 [m/s^2],\n",
      "g_2 = 9.9000 +/- 0.1000 [m/s^2]\n",
      "The mean is  11.2333333333\n",
      "The error weighted mean is  9.88366 +/- 0.08940\n"
     ]
    }
   ],
   "source": [
    "gvals = q.MeasurementArray([(9.8,0.2), (14,3) , (9.9,0.1)], name=\"g\", units='m/s^2') \n",
    "print(gvals)\n",
    "print(\"The mean is \",gvals.mean)\n",
    "print(\"The error weighted mean is \",gvals.error_weighted_mean)"
   ]
  },
  {
   "cell_type": "markdown",
   "metadata": {},
   "source": [
    "The MeasurementArray object truly is an array of Measurement objects, so individual measurements can be retrieved (remember that the first element in an array in python has index 0 not 1, so element 1 is the second element):"
   ]
  },
  {
   "cell_type": "code",
   "execution_count": 13,
   "metadata": {
    "collapsed": false
   },
   "outputs": [
    {
     "name": "stdout",
     "output_type": "stream",
     "text": [
      "g_1 = 14.000 +/- 3.000 [m/s^2]\n"
     ]
    }
   ],
   "source": [
    "print(gvals[1])"
   ]
  },
  {
   "cell_type": "markdown",
   "metadata": {},
   "source": [
    "## Error propagation methods\n",
    "\n",
    "### Derivative method (default)\n",
    "By default, QExPy propagates the uncertainties using the \"derivative\" method. That is, for a function, $f(x,y)$, that depends on measured quantities $x\\pm\\sigma_x$ and $y\\pm\\sigma_y$, with covariance $\\sigma_{xy}$ between the two measured quantities, the uncertainty in $f$ is given by:\n",
    "$$ \\sigma_f = \\sqrt{ \\left(\\frac{\\partial f}{\\partial x} \\sigma_x \\right)^2 + \\left(\\frac{\\partial f}{\\partial y} \\sigma_y \\right)^2 + 2 \\frac{\\partial f}{\\partial x} \\frac{\\partial f}{\\partial y}\\sigma_{xy} }$$\n",
    "\n",
    "QExPy evaluates the derivatives exactly when propagating the uncertainties using an algorithm called \"automatic differentiation\". This is possible as QExPy internally keeps track of the dependency of quantities on each other, and as an added bonus can also be used to evaluate numerical derivatives exactly. Although the derivative method is commonly taught in undergraduate laboratories, it is only valid when the relative uncertainties in the quantities being propagated are small (e.g. less than ~10% relative uncertainty). This method is thus not strongly encouraged, although it has been made the default because it is so prevalent in undergraduate teaching. \n",
    "\n",
    "\n",
    "### Min-Max method (not recommended)\n",
    "This is not the only way to propagate the uncertainty in $f$. For example, the \"Min-Max\" method, is a method to yield a more conservative (larger) estimate of the uncertainty in $f$ and is often used in introductory courses. The Min-Max method defines the central value and uncertainty in $f$ as:\n",
    "$$f=\\frac{1}{2}(f^{max}+f^{min})$$\n",
    "$$\\sigma_f=\\frac{1}{2}(f^{max}-f^{min})$$\n",
    "\n",
    "where $f^{max}$ ($f^{min}$) is the maximum (minimum) value that $f$ takes when $x$ and $y$ are varied within their uncertainty range. For example, if $f(x,y)=x+y$, then the maximum and minimum of $f$ are easily found:\n",
    "\n",
    "$$f^{max} = (x+\\sigma_x)+(y+\\sigma_y)$$\n",
    "$$f^{min} = (x-\\sigma_x)-(y-\\sigma_y)$$\n",
    "\n",
    "The Min-Max method actually requires a numerical approximation to evaluate the values of $f^{max}$ and $f^{min}$ for all but the most simple cases. Hence although it is a good method to introduce the idea of uncertainty propagation, it is not recommended to use this method in any serious calculation (it also does not take correlations into account). \n",
    "\n",
    "### Monte Carlo method (recommended!)\n",
    "Finally, the recommended method to propagate errors is the \"Monte-Carlo\" method, although it is the hardest to understand. The MC method is based on a statiscal understanding of the measurements. In the QExPy implementation, currently, the main assumptions is that the uncertainty in a quantity is given by a \"standard error\"; that is, if $x = 10\\pm 1$, then we *assume* that this error and uncertainty should be interpreted as: \"if we measure $x$ multiple times, we will obtain a set of measurements that are normally distributed with a mean of 10 and a standard deviation of 1\". In other words, we assume that $x$ has a 68% chance of being in the range between 9 and 11.\n",
    "\n",
    "\n",
    "The MC method then uses the assumption that measured quantities are normally distributed and use this to propagate the errors by using Monte Carlo simulation. Suppose that we have measured $x$ and $y$ and wish to determine the central value and uncertainty in $x=x+y$. The Monte Carlo method will generate normally distributed random values for $x$ and $y$ (the random numbers will be correctly correlated if the user has indicated that $x$ and $y$ are correlated), then it will add those random values together, to obtain a set of values for $z$. The mean and standard deviation of the random values for $z$ are taken as the central value and uncertainty in $z$. \n",
    "\n",
    "## What QExPy actually does\n",
    "Although the user appears to choose the method used to propagate the errors, QExPy always uses all three methods behind the scenes and the user only decides which method to print out. This allows QExPy to compare the results behind the scenes, in particular, to inform the users that the uncertainties using a particular method (e.g. derivative) may be inaccurate and to suggest that the user choose a different method. \n",
    "\n",
    "## Example\n",
    "Below, we illustrate an example of using the different methods to propagate the uncertainty in the Coulomb force based on the measurement of two charges, $q_1$ and $q_2$, and the distance between them, $r$. We illustrate how the derivative method does not give the correct answer if the relative uncertainties in the measured quantities are large. \n",
    "\n",
    "### 1 % relative uncertainty calculation\n"
   ]
  },
  {
   "cell_type": "code",
   "execution_count": 14,
   "metadata": {
    "collapsed": false
   },
   "outputs": [
    {
     "name": "stdout",
     "output_type": "stream",
     "text": [
      "Derivative method, F =  18.0000 +/- 0.4409\n",
      "Min-Max method, F = 18.0144 +/- 0.7202\n",
      "Monte Carlo method, F = 17.9988 +/- 0.1805\n"
     ]
    }
   ],
   "source": [
    "#Measurements with 1% relative uncertainties:\n",
    "relative_factor = 0.01 \n",
    "\n",
    "#Measured values\n",
    "q1m=1e-6\n",
    "q2m=2e-5\n",
    "rm=0.1\n",
    "\n",
    "#Convert to Measurement objects\n",
    "q1 = q.Measurement(q1m,relative_factor*q1m)\n",
    "q2 = q.Measurement(q2m,relative_factor*q2m)\n",
    "r = q.Measurement(rm,relative_factor*rm)\n",
    "#Coulomb's constant:\n",
    "k = 9e9 \n",
    "\n",
    "#Define the Force:\n",
    "F = k*q1*q2/r**2\n",
    "\n",
    "#Print out the different errors\n",
    "q.set_error_method(\"derivative\")\n",
    "print(\"Derivative method, F = \",F)\n",
    "q.set_error_method(\"minmax\")\n",
    "print(\"Min-Max method, F =\", F)\n",
    "q.set_error_method(\"mc\")\n",
    "print(\"Monte Carlo method, F =\",F)\n",
    "\n"
   ]
  },
  {
   "cell_type": "markdown",
   "metadata": {},
   "source": [
    "### 10 % relative uncertainty calculation\n",
    "We see that in this case, the Monte Carlo method returns a different uncertainty than the derivative method, because the derivative method is incorrect when the uncertainties are this large."
   ]
  },
  {
   "cell_type": "code",
   "execution_count": 15,
   "metadata": {
    "collapsed": false,
    "scrolled": false
   },
   "outputs": [
    {
     "name": "stdout",
     "output_type": "stream",
     "text": [
      "Derivative method, F =  18.000 +/- 4.409\n",
      "Min-Max method, F = 19.469 +/- 7.420\n",
      "Monte Carlo method, F = 17.814 +/- 1.773\n"
     ]
    },
    {
     "data": {
      "text/html": [
       "\n",
       "\n",
       "    <div class=\"bk-root\">\n",
       "        <div class=\"bk-plotdiv\" id=\"fc49d64d-a14b-452e-8d4e-1ea3089c9c69\"></div>\n",
       "    </div>\n",
       "<script type=\"text/javascript\">\n",
       "  \n",
       "  (function(global) {\n",
       "    function now() {\n",
       "      return new Date();\n",
       "    }\n",
       "  \n",
       "    var force = false;\n",
       "  \n",
       "    if (typeof (window._bokeh_onload_callbacks) === \"undefined\" || force === true) {\n",
       "      window._bokeh_onload_callbacks = [];\n",
       "      window._bokeh_is_loading = undefined;\n",
       "    }\n",
       "  \n",
       "  \n",
       "    \n",
       "    if (typeof (window._bokeh_timeout) === \"undefined\" || force === true) {\n",
       "      window._bokeh_timeout = Date.now() + 0;\n",
       "      window._bokeh_failed_load = false;\n",
       "    }\n",
       "  \n",
       "    var NB_LOAD_WARNING = {'data': {'text/html':\n",
       "       \"<div style='background-color: #fdd'>\\n\"+\n",
       "       \"<p>\\n\"+\n",
       "       \"BokehJS does not appear to have successfully loaded. If loading BokehJS from CDN, this \\n\"+\n",
       "       \"may be due to a slow or bad network connection. Possible fixes:\\n\"+\n",
       "       \"</p>\\n\"+\n",
       "       \"<ul>\\n\"+\n",
       "       \"<li>re-rerun `output_notebook()` to attempt to load from CDN again, or</li>\\n\"+\n",
       "       \"<li>use INLINE resources instead, as so:</li>\\n\"+\n",
       "       \"</ul>\\n\"+\n",
       "       \"<code>\\n\"+\n",
       "       \"from bokeh.resources import INLINE\\n\"+\n",
       "       \"output_notebook(resources=INLINE)\\n\"+\n",
       "       \"</code>\\n\"+\n",
       "       \"</div>\"}};\n",
       "  \n",
       "    function display_loaded() {\n",
       "      if (window.Bokeh !== undefined) {\n",
       "        document.getElementById(\"fc49d64d-a14b-452e-8d4e-1ea3089c9c69\").textContent = \"BokehJS successfully loaded.\";\n",
       "      } else if (Date.now() < window._bokeh_timeout) {\n",
       "        setTimeout(display_loaded, 100)\n",
       "      }\n",
       "    }if ((window.Jupyter !== undefined) && Jupyter.notebook.kernel) {\n",
       "      comm_manager = Jupyter.notebook.kernel.comm_manager\n",
       "      comm_manager.register_target(\"6a5f1c55-9c09-40eb-828f-286bcb800752\", function () {});\n",
       "    }\n",
       "  \n",
       "    function run_callbacks() {\n",
       "      window._bokeh_onload_callbacks.forEach(function(callback) { callback() });\n",
       "      delete window._bokeh_onload_callbacks\n",
       "      console.info(\"Bokeh: all callbacks have finished\");\n",
       "    }\n",
       "  \n",
       "    function load_libs(js_urls, callback) {\n",
       "      window._bokeh_onload_callbacks.push(callback);\n",
       "      if (window._bokeh_is_loading > 0) {\n",
       "        console.log(\"Bokeh: BokehJS is being loaded, scheduling callback at\", now());\n",
       "        return null;\n",
       "      }\n",
       "      if (js_urls == null || js_urls.length === 0) {\n",
       "        run_callbacks();\n",
       "        return null;\n",
       "      }\n",
       "      console.log(\"Bokeh: BokehJS not loaded, scheduling load and callback at\", now());\n",
       "      window._bokeh_is_loading = js_urls.length;\n",
       "      for (var i = 0; i < js_urls.length; i++) {\n",
       "        var url = js_urls[i];\n",
       "        var s = document.createElement('script');\n",
       "        s.src = url;\n",
       "        s.async = false;\n",
       "        s.onreadystatechange = s.onload = function() {\n",
       "          window._bokeh_is_loading--;\n",
       "          if (window._bokeh_is_loading === 0) {\n",
       "            console.log(\"Bokeh: all BokehJS libraries loaded\");\n",
       "            run_callbacks()\n",
       "          }\n",
       "        };\n",
       "        s.onerror = function() {\n",
       "          console.warn(\"failed to load library \" + url);\n",
       "        };\n",
       "        console.log(\"Bokeh: injecting script tag for BokehJS library: \", url);\n",
       "        document.getElementsByTagName(\"head\")[0].appendChild(s);\n",
       "      }\n",
       "    };var element = document.getElementById(\"fc49d64d-a14b-452e-8d4e-1ea3089c9c69\");\n",
       "    if (element == null) {\n",
       "      console.log(\"Bokeh: ERROR: autoload.js configured with elementid 'fc49d64d-a14b-452e-8d4e-1ea3089c9c69' but no matching script tag was found. \")\n",
       "      return false;\n",
       "    }\n",
       "  \n",
       "    var js_urls = [];\n",
       "  \n",
       "    var inline_js = [\n",
       "      function(Bokeh) {\n",
       "        (function() {\n",
       "          var fn = function() {\n",
       "            var docs_json = {\"3c0cdbca-bcf1-489e-b47e-130c9b6e448c\":{\"roots\":{\"references\":[{\"attributes\":{\"data_source\":{\"id\":\"462f2451-c9fe-48c6-9fbd-30bb4da5ab11\",\"type\":\"ColumnDataSource\"},\"glyph\":{\"id\":\"c00891ae-302a-417d-92a3-ef089a3db7a6\",\"type\":\"Line\"},\"hover_glyph\":null,\"nonselection_glyph\":{\"id\":\"b0ccce38-a1df-4c7b-bd8a-6023a5b846fc\",\"type\":\"Line\"},\"selection_glyph\":null},\"id\":\"266a6a63-bf23-456c-ae64-f2650bcfadff\",\"type\":\"GlyphRenderer\"},{\"attributes\":{\"plot\":null,\"text\":\"unnamed_var114*9000000000*unnamed_var115/unnamed_var116**2 Histogram\"},\"id\":\"a0172252-2c02-4ec9-854d-46851a80c142\",\"type\":\"Title\"},{\"attributes\":{\"axis_label\":\"unnamed_arr3 []\",\"formatter\":{\"id\":\"55ed424c-224e-463d-9310-e0c5484a10f2\",\"type\":\"BasicTickFormatter\"},\"plot\":{\"id\":\"8848eef6-302e-4f88-86c0-1a6ea9646f29\",\"subtype\":\"Figure\",\"type\":\"Plot\"},\"ticker\":{\"id\":\"b5a285f2-752d-4266-b9c0-43dc070fd4ce\",\"type\":\"BasicTicker\"}},\"id\":\"f1d37eb5-a0f5-42b5-abfc-d7935a97caf6\",\"type\":\"LinearAxis\"},{\"attributes\":{\"callback\":null,\"column_names\":[\"y\",\"x\"],\"data\":{\"x\":[19.587024336160546,19.587024336160546],\"y\":[0,3396.0]}},\"id\":\"c1507233-4003-4765-b1f7-8d6b881813e1\",\"type\":\"ColumnDataSource\"},{\"attributes\":{\"callback\":null,\"end\":34.25604948012132,\"start\":6.287403129479338},\"id\":\"fa2ab440-1abe-43d4-aebe-728e25da38e5\",\"type\":\"Range1d\"},{\"attributes\":{\"label\":{\"value\":\"unnamed_var114*9000000000*unnamed_var115/unnamed_var116**2 Histogram\"},\"renderers\":[{\"id\":\"719f981d-494b-445a-8a57-7173f4e71778\",\"type\":\"GlyphRenderer\"}]},\"id\":\"e8665f2a-45e2-4fda-b177-e3b647e5b227\",\"type\":\"LegendItem\"},{\"attributes\":{\"plot\":{\"id\":\"8848eef6-302e-4f88-86c0-1a6ea9646f29\",\"subtype\":\"Figure\",\"type\":\"Plot\"}},\"id\":\"545e4f8e-985b-49e5-9de6-575e79319076\",\"type\":\"WheelZoomTool\"},{\"attributes\":{\"plot\":{\"id\":\"8848eef6-302e-4f88-86c0-1a6ea9646f29\",\"subtype\":\"Figure\",\"type\":\"Plot\"}},\"id\":\"67e83f5b-20a0-48c1-b36f-fabc713ee918\",\"type\":\"SaveTool\"},{\"attributes\":{\"plot\":{\"id\":\"8848eef6-302e-4f88-86c0-1a6ea9646f29\",\"subtype\":\"Figure\",\"type\":\"Plot\"},\"ticker\":{\"id\":\"b5a285f2-752d-4266-b9c0-43dc070fd4ce\",\"type\":\"BasicTicker\"}},\"id\":\"cfad2321-9ea7-4536-a09a-0a17e8e45bbf\",\"type\":\"Grid\"},{\"attributes\":{\"bottom_units\":\"screen\",\"fill_alpha\":{\"value\":0.5},\"fill_color\":{\"value\":\"lightgrey\"},\"left_units\":\"screen\",\"level\":\"overlay\",\"line_alpha\":{\"value\":1.0},\"line_color\":{\"value\":\"black\"},\"line_dash\":[4,4],\"line_width\":{\"value\":2},\"plot\":null,\"render_mode\":\"css\",\"right_units\":\"screen\",\"top_units\":\"screen\"},\"id\":\"f23bc214-cc66-4f4a-b874-f9560867f563\",\"type\":\"BoxAnnotation\"},{\"attributes\":{\"dimension\":1,\"plot\":{\"id\":\"8848eef6-302e-4f88-86c0-1a6ea9646f29\",\"subtype\":\"Figure\",\"type\":\"Plot\"},\"ticker\":{\"id\":\"5496d4c6-1a45-4b1e-8a83-4166bb0950a2\",\"type\":\"BasicTicker\"}},\"id\":\"56246f17-5ac2-4433-a2df-b73aed578fc7\",\"type\":\"Grid\"},{\"attributes\":{\"bottom\":{\"value\":0},\"fill_alpha\":{\"value\":0.7},\"fill_color\":{\"value\":\"#036564\"},\"left\":{\"field\":\"left\"},\"line_alpha\":{\"value\":0.7},\"line_color\":{\"value\":\"#036564\"},\"right\":{\"field\":\"right\"},\"top\":{\"field\":\"top\"}},\"id\":\"6a77bef7-0fb8-4ec9-be3c-18543ed5808e\",\"type\":\"Quad\"},{\"attributes\":{\"active_drag\":\"auto\",\"active_scroll\":\"auto\",\"active_tap\":\"auto\",\"tools\":[{\"id\":\"67e83f5b-20a0-48c1-b36f-fabc713ee918\",\"type\":\"SaveTool\"},{\"id\":\"120038f9-3ba8-4378-a436-1f2b3b65ef5a\",\"type\":\"PanTool\"},{\"id\":\"eb62e7be-8a5e-4d50-b3ae-e02a6b8cf17f\",\"type\":\"BoxZoomTool\"},{\"id\":\"545e4f8e-985b-49e5-9de6-575e79319076\",\"type\":\"WheelZoomTool\"},{\"id\":\"bb53b2db-a0db-496b-be8d-447514714f1b\",\"type\":\"ResetTool\"}]},\"id\":\"45c04bf4-9b00-4ad7-bfc0-8068df93bd17\",\"type\":\"Toolbar\"},{\"attributes\":{},\"id\":\"2bdf39cd-da20-49f4-98da-684881c9826a\",\"type\":\"ToolEvents\"},{\"attributes\":{\"callback\":null,\"end\":3396.0},\"id\":\"64ccf69c-8eb1-4531-8971-009df5148742\",\"type\":\"Range1d\"},{\"attributes\":{\"plot\":{\"id\":\"8848eef6-302e-4f88-86c0-1a6ea9646f29\",\"subtype\":\"Figure\",\"type\":\"Plot\"}},\"id\":\"120038f9-3ba8-4378-a436-1f2b3b65ef5a\",\"type\":\"PanTool\"},{\"attributes\":{},\"id\":\"b5a285f2-752d-4266-b9c0-43dc070fd4ce\",\"type\":\"BasicTicker\"},{\"attributes\":{\"data_source\":{\"id\":\"4b83d695-e2b4-4632-b3c9-1d051eb9eb13\",\"type\":\"ColumnDataSource\"},\"glyph\":{\"id\":\"6a77bef7-0fb8-4ec9-be3c-18543ed5808e\",\"type\":\"Quad\"},\"hover_glyph\":null,\"nonselection_glyph\":{\"id\":\"fe2734f3-880b-41e7-9e7d-f52b9d7129c1\",\"type\":\"Quad\"},\"selection_glyph\":null},\"id\":\"719f981d-494b-445a-8a57-7173f4e71778\",\"type\":\"GlyphRenderer\"},{\"attributes\":{\"data_source\":{\"id\":\"c1507233-4003-4765-b1f7-8d6b881813e1\",\"type\":\"ColumnDataSource\"},\"glyph\":{\"id\":\"7f9bb294-d81f-4fdd-9728-933c96aaf290\",\"type\":\"Line\"},\"hover_glyph\":null,\"nonselection_glyph\":{\"id\":\"046bbdd2-0805-40bc-bfc4-aa0ae7683ba3\",\"type\":\"Line\"},\"selection_glyph\":null},\"id\":\"160d1c80-e039-484f-b636-cb588d96ef64\",\"type\":\"GlyphRenderer\"},{\"attributes\":{\"plot\":{\"id\":\"8848eef6-302e-4f88-86c0-1a6ea9646f29\",\"subtype\":\"Figure\",\"type\":\"Plot\"}},\"id\":\"bb53b2db-a0db-496b-be8d-447514714f1b\",\"type\":\"ResetTool\"},{\"attributes\":{\"callback\":null,\"column_names\":[\"y\",\"x\"],\"data\":{\"x\":[17.814252962767128,17.814252962767128],\"y\":[0,3396.0]}},\"id\":\"462f2451-c9fe-48c6-9fbd-30bb4da5ab11\",\"type\":\"ColumnDataSource\"},{\"attributes\":{\"callback\":null,\"column_names\":[\"y\",\"x\"],\"data\":{\"x\":[16.04148158937371,16.04148158937371],\"y\":[0,3396.0]}},\"id\":\"f7d856c9-6817-4c00-a86c-e47ffe4d93da\",\"type\":\"ColumnDataSource\"},{\"attributes\":{\"line_alpha\":{\"value\":0.1},\"line_color\":{\"value\":\"#1f77b4\"},\"line_dash\":[6],\"x\":{\"field\":\"x\"},\"y\":{\"field\":\"y\"}},\"id\":\"046bbdd2-0805-40bc-bfc4-aa0ae7683ba3\",\"type\":\"Line\"},{\"attributes\":{},\"id\":\"55ed424c-224e-463d-9310-e0c5484a10f2\",\"type\":\"BasicTickFormatter\"},{\"attributes\":{\"line_color\":{\"value\":\"red\"},\"line_dash\":[6],\"x\":{\"field\":\"x\"},\"y\":{\"field\":\"y\"}},\"id\":\"7f9bb294-d81f-4fdd-9728-933c96aaf290\",\"type\":\"Line\"},{\"attributes\":{\"callback\":null,\"column_names\":[\"right\",\"left\",\"top\"],\"data\":{\"left\":{\"__ndarray__\":\"tkpLoyh5GkA8GjuLxY0cQMPpKnNioh5ApVyNrX9bIEBoRIUhzmUhQCssfZUccCJA7hN1CWt6I0Cy+2x9uYQkQHXjZPEHjyVAOMtcZVaZJkD8slTZpKMnQL+aTE3zrShAgoJEwUG4KUBFajw1kMIqQAhSNKnezCtAzDksHS3XLECPISSRe+EtQFIJHAXK6y5AFfETeRj2L0Bs7IV2M4AwQE7ggbBaBTFAMNR96oGKMUASyHkkqQ8yQPO7dV7QlDJA1K9xmPcZM0C2o23SHp8zQJiXaQxGJDRAeotlRm2pNEBbf2GAlC41QDxzXbq7szVAHmdZ9OI4NkAAW1UuCr42QOJOUWgxQzdAxEJNoljIN0CkNkncf004QIYqRRan0jhAaB5BUM5XOUBKEj2K9dw5QCwGOcQcYjpADPo0/kPnOkDu7TA4a2w7QNDhLHKS8TtAstUorLl2PECUySTm4Ps8QHa9ICAIgT1AVrEcWi8GPkA4pRiUVos+QBqZFM59ED9A/IwQCKWVP0BvQAYhZg1AQA==\",\"dtype\":\"float64\",\"shape\":[50]},\"right\":{\"__ndarray__\":\"PBo7i8WNHEDD6SpzYqIeQKVcja1/WyBAaESFIc5lIUArLH2VHHAiQO4TdQlreiNAsvtsfbmEJEB142TxB48lQDjLXGVWmSZA/LJU2aSjJ0C/mkxN860oQIKCRMFBuClARWo8NZDCKkAIUjSp3swrQMw5LB0t1yxAjyEkkXvhLUBSCRwFyusuQBXxE3kY9i9AbOyFdjOAMEBO4IGwWgUxQDDUfeqBijFAEsh5JKkPMkDzu3Ve0JQyQNSvcZj3GTNAtqNt0h6fM0CYl2kMRiQ0QHqLZUZtqTRAW39hgJQuNUA8c126u7M1QB5nWfTiODZAAFtVLgq+NkDiTlFoMUM3QMRCTaJYyDdApDZJ3H9NOECGKkUWp9I4QGgeQVDOVzlAShI9ivXcOUAsBjnEHGI6QAz6NP5D5zpA7u0wOGtsO0DQ4SxykvE7QLLVKKy5djxAlMkk5uD7PEB2vSAgCIE9QFaxHFovBj5AOKUYlFaLPkAamRTOfRA/QPyMEAillT9Ab0AGIWYNQEBgOgS++U9AQA==\",\"dtype\":\"float64\",\"shape\":[50]},\"top\":[2,1,0,2,4,4,7,12,14,20,18,40,55,72,101,145,195,321,451,757,1277,2830,1441,755,447,340,195,160,92,76,51,24,23,15,11,11,8,5,7,1,4,1,2,0,0,1,0,0,0,2]}},\"id\":\"4b83d695-e2b4-4632-b3c9-1d051eb9eb13\",\"type\":\"ColumnDataSource\"},{\"attributes\":{\"below\":[{\"id\":\"f1d37eb5-a0f5-42b5-abfc-d7935a97caf6\",\"type\":\"LinearAxis\"}],\"left\":[{\"id\":\"2b89fe79-2efa-49c0-951d-8111c8eab941\",\"type\":\"LinearAxis\"}],\"plot_height\":400,\"renderers\":[{\"id\":\"f1d37eb5-a0f5-42b5-abfc-d7935a97caf6\",\"type\":\"LinearAxis\"},{\"id\":\"cfad2321-9ea7-4536-a09a-0a17e8e45bbf\",\"type\":\"Grid\"},{\"id\":\"2b89fe79-2efa-49c0-951d-8111c8eab941\",\"type\":\"LinearAxis\"},{\"id\":\"56246f17-5ac2-4433-a2df-b73aed578fc7\",\"type\":\"Grid\"},{\"id\":\"f23bc214-cc66-4f4a-b874-f9560867f563\",\"type\":\"BoxAnnotation\"},{\"id\":\"164cadc4-19bc-4f1c-af1e-2f4af5b56e8a\",\"type\":\"Legend\"},{\"id\":\"719f981d-494b-445a-8a57-7173f4e71778\",\"type\":\"GlyphRenderer\"},{\"id\":\"266a6a63-bf23-456c-ae64-f2650bcfadff\",\"type\":\"GlyphRenderer\"},{\"id\":\"160d1c80-e039-484f-b636-cb588d96ef64\",\"type\":\"GlyphRenderer\"},{\"id\":\"a5e80bdf-5a7e-4b60-96c9-b83175d2ff68\",\"type\":\"GlyphRenderer\"}],\"title\":{\"id\":\"a0172252-2c02-4ec9-854d-46851a80c142\",\"type\":\"Title\"},\"tool_events\":{\"id\":\"2bdf39cd-da20-49f4-98da-684881c9826a\",\"type\":\"ToolEvents\"},\"toolbar\":{\"id\":\"45c04bf4-9b00-4ad7-bfc0-8068df93bd17\",\"type\":\"Toolbar\"},\"toolbar_location\":\"above\",\"x_range\":{\"id\":\"fa2ab440-1abe-43d4-aebe-728e25da38e5\",\"type\":\"Range1d\"},\"y_range\":{\"id\":\"64ccf69c-8eb1-4531-8971-009df5148742\",\"type\":\"Range1d\"}},\"id\":\"8848eef6-302e-4f88-86c0-1a6ea9646f29\",\"subtype\":\"Figure\",\"type\":\"Plot\"},{\"attributes\":{\"line_color\":{\"value\":\"red\"},\"x\":{\"field\":\"x\"},\"y\":{\"field\":\"y\"}},\"id\":\"c00891ae-302a-417d-92a3-ef089a3db7a6\",\"type\":\"Line\"},{\"attributes\":{},\"id\":\"05d93f3e-1eb8-451c-8238-1cc154fcc029\",\"type\":\"BasicTickFormatter\"},{\"attributes\":{\"axis_label\":\"unnamed_arr4 []\",\"formatter\":{\"id\":\"05d93f3e-1eb8-451c-8238-1cc154fcc029\",\"type\":\"BasicTickFormatter\"},\"plot\":{\"id\":\"8848eef6-302e-4f88-86c0-1a6ea9646f29\",\"subtype\":\"Figure\",\"type\":\"Plot\"},\"ticker\":{\"id\":\"5496d4c6-1a45-4b1e-8a83-4166bb0950a2\",\"type\":\"BasicTicker\"}},\"id\":\"2b89fe79-2efa-49c0-951d-8111c8eab941\",\"type\":\"LinearAxis\"},{\"attributes\":{\"data_source\":{\"id\":\"f7d856c9-6817-4c00-a86c-e47ffe4d93da\",\"type\":\"ColumnDataSource\"},\"glyph\":{\"id\":\"bf82232d-c965-486a-be3e-757b0c4beaba\",\"type\":\"Line\"},\"hover_glyph\":null,\"nonselection_glyph\":{\"id\":\"c68de5e9-d4ac-468c-b401-676123d34010\",\"type\":\"Line\"},\"selection_glyph\":null},\"id\":\"a5e80bdf-5a7e-4b60-96c9-b83175d2ff68\",\"type\":\"GlyphRenderer\"},{\"attributes\":{},\"id\":\"5496d4c6-1a45-4b1e-8a83-4166bb0950a2\",\"type\":\"BasicTicker\"},{\"attributes\":{\"line_alpha\":{\"value\":0.1},\"line_color\":{\"value\":\"#1f77b4\"},\"x\":{\"field\":\"x\"},\"y\":{\"field\":\"y\"}},\"id\":\"b0ccce38-a1df-4c7b-bd8a-6023a5b846fc\",\"type\":\"Line\"},{\"attributes\":{\"bottom\":{\"value\":0},\"fill_alpha\":{\"value\":0.1},\"fill_color\":{\"value\":\"#1f77b4\"},\"left\":{\"field\":\"left\"},\"line_alpha\":{\"value\":0.1},\"line_color\":{\"value\":\"#1f77b4\"},\"right\":{\"field\":\"right\"},\"top\":{\"field\":\"top\"}},\"id\":\"fe2734f3-880b-41e7-9e7d-f52b9d7129c1\",\"type\":\"Quad\"},{\"attributes\":{\"line_alpha\":{\"value\":0.1},\"line_color\":{\"value\":\"#1f77b4\"},\"line_dash\":[6],\"x\":{\"field\":\"x\"},\"y\":{\"field\":\"y\"}},\"id\":\"c68de5e9-d4ac-468c-b401-676123d34010\",\"type\":\"Line\"},{\"attributes\":{\"items\":[{\"id\":\"e8665f2a-45e2-4fda-b177-e3b647e5b227\",\"type\":\"LegendItem\"}],\"location\":\"top_left\",\"plot\":{\"id\":\"8848eef6-302e-4f88-86c0-1a6ea9646f29\",\"subtype\":\"Figure\",\"type\":\"Plot\"}},\"id\":\"164cadc4-19bc-4f1c-af1e-2f4af5b56e8a\",\"type\":\"Legend\"},{\"attributes\":{\"line_color\":{\"value\":\"red\"},\"line_dash\":[6],\"x\":{\"field\":\"x\"},\"y\":{\"field\":\"y\"}},\"id\":\"bf82232d-c965-486a-be3e-757b0c4beaba\",\"type\":\"Line\"},{\"attributes\":{\"overlay\":{\"id\":\"f23bc214-cc66-4f4a-b874-f9560867f563\",\"type\":\"BoxAnnotation\"},\"plot\":{\"id\":\"8848eef6-302e-4f88-86c0-1a6ea9646f29\",\"subtype\":\"Figure\",\"type\":\"Plot\"}},\"id\":\"eb62e7be-8a5e-4d50-b3ae-e02a6b8cf17f\",\"type\":\"BoxZoomTool\"}],\"root_ids\":[\"8848eef6-302e-4f88-86c0-1a6ea9646f29\"]},\"title\":\"Bokeh Application\",\"version\":\"0.12.4\"}};\n",
       "            var render_items = [{\"docid\":\"3c0cdbca-bcf1-489e-b47e-130c9b6e448c\",\"elementid\":\"fc49d64d-a14b-452e-8d4e-1ea3089c9c69\",\"modelid\":\"8848eef6-302e-4f88-86c0-1a6ea9646f29\",\"notebook_comms_target\":\"6a5f1c55-9c09-40eb-828f-286bcb800752\"}];\n",
       "            \n",
       "            Bokeh.embed.embed_items(docs_json, render_items);\n",
       "          };\n",
       "          if (document.readyState != \"loading\") fn();\n",
       "          else document.addEventListener(\"DOMContentLoaded\", fn);\n",
       "        })();\n",
       "      },\n",
       "      function(Bokeh) {\n",
       "      }\n",
       "    ];\n",
       "  \n",
       "    function run_inline_js() {\n",
       "      \n",
       "      if ((window.Bokeh !== undefined) || (force === true)) {\n",
       "        for (var i = 0; i < inline_js.length; i++) {\n",
       "          inline_js[i](window.Bokeh);\n",
       "        }if (force === true) {\n",
       "          display_loaded();\n",
       "        }} else if (Date.now() < window._bokeh_timeout) {\n",
       "        setTimeout(run_inline_js, 100);\n",
       "      } else if (!window._bokeh_failed_load) {\n",
       "        console.log(\"Bokeh: BokehJS failed to load within specified timeout.\");\n",
       "        window._bokeh_failed_load = true;\n",
       "      } else if (force !== true) {\n",
       "        var cell = $(document.getElementById(\"fc49d64d-a14b-452e-8d4e-1ea3089c9c69\")).parents('.cell').data().cell;\n",
       "        cell.output_area.append_execute_result(NB_LOAD_WARNING)\n",
       "      }\n",
       "  \n",
       "    }\n",
       "  \n",
       "    if (window._bokeh_is_loading === 0) {\n",
       "      console.log(\"Bokeh: BokehJS loaded, going straight to plotting\");\n",
       "      run_inline_js();\n",
       "    } else {\n",
       "      load_libs(js_urls, function() {\n",
       "        console.log(\"Bokeh: BokehJS plotting callback run at\", now());\n",
       "        run_inline_js();\n",
       "      });\n",
       "    }\n",
       "  }(this));\n",
       "</script>"
      ]
     },
     "metadata": {},
     "output_type": "display_data"
    },
    {
     "data": {
      "text/plain": [
       "<qexpy.plotting.Plot at 0x111c62128>"
      ]
     },
     "execution_count": 15,
     "metadata": {},
     "output_type": "execute_result"
    }
   ],
   "source": [
    "#Measurements with 10% relative uncertainties:\n",
    "relative_factor = 0.1 \n",
    "\n",
    "#Measured values\n",
    "q1m=1e-6\n",
    "q2m=2e-5\n",
    "rm=0.1\n",
    "\n",
    "#Convert to Measurement objects\n",
    "q1 = q.Measurement(q1m,relative_factor*q1m)\n",
    "q2 = q.Measurement(q2m,relative_factor*q2m)\n",
    "r = q.Measurement(rm,relative_factor*rm)\n",
    "#Coulomb's constant:\n",
    "k = 9e9 \n",
    "\n",
    "#Define the Force:\n",
    "F = k*q1*q2/r**2\n",
    "\n",
    "#Print out the different errors\n",
    "q.set_error_method(\"derivative\")\n",
    "print(\"Derivative method, F = \",F)\n",
    "q.set_error_method(\"minmax\")\n",
    "print(\"Min-Max method, F =\", F)\n",
    "q.set_error_method(\"mc\")\n",
    "print(\"Monte Carlo method, F =\",F)\n",
    "\n",
    "q.plot_engine=\"bokeh\"\n",
    "F.show_MC_histogram()"
   ]
  },
  {
   "cell_type": "markdown",
   "metadata": {},
   "source": [
    "## Printing style and formatting\n",
    "QExPy can print results in different styles, and the user can assign names and units to variables (although one should not rely on units being correctly propagated). If one assigns and name and units to a variable, the print() function will automatically include those when printing out the variable.\n",
    "\n",
    "One can also set the \"print style\" to be either \"Default\", \"Scientific\" or \"Latex\". In the scientific and default styles, QExPy will factor out the powers of 10 to make the central value and uncertainty easier to compare. "
   ]
  },
  {
   "cell_type": "code",
   "execution_count": 16,
   "metadata": {
    "collapsed": false
   },
   "outputs": [
    {
     "name": "stdout",
     "output_type": "stream",
     "text": [
      "distance = (10000 +/- 1220)*10^(-3) [m]\n",
      "distance = (10000 \\pm 1220)*10^{-3}\\,m\n",
      "distance = 10.000 +/- 1.220 [m]\n"
     ]
    }
   ],
   "source": [
    "x = q.Measurement(10,1.22,name=\"distance\", units=\"m\")\n",
    "q.set_print_style(\"Scientific\")\n",
    "print(x)\n",
    "q.set_print_style(\"Latex\")\n",
    "print(x)\n",
    "q.set_print_style(\"Default\")\n",
    "print(x)"
   ]
  },
  {
   "cell_type": "markdown",
   "metadata": {
    "collapsed": false
   },
   "source": [
    "## Exact derivatives\n",
    "Since QExPy needs to be able to evaluate derivatives (by using the automatic differentiation algorithm that exploits the Chain Rule), we can use QExPy to evaluate numerical derivatives exactly. That is, given a function, $f(x,y)$, QExPy can evaluate $\\frac{\\partial f(x,y)}{\\partial x}$ at a given value of $x$ and $y$.\n",
    "\n",
    "For example, if we have:\n",
    "$$x(t) = \\frac{1}{2}gt^2 $$\n",
    "\n",
    "and we have measured $t=8 \\pm 1$, we can evaluate the exact value of the derivative:\n",
    "\n",
    "$$\\frac{\\partial x(t)}{\\partial t} = \\frac{d x(t)}{d t}  = gt$$\n",
    "\n",
    "at $t=8 \\pm 1$\n"
   ]
  },
  {
   "cell_type": "code",
   "execution_count": 17,
   "metadata": {
    "collapsed": false
   },
   "outputs": [
    {
     "name": "stdout",
     "output_type": "stream",
     "text": [
      "78.48\n"
     ]
    }
   ],
   "source": [
    "t = q.Measurement(8,1)\n",
    "x = 0.5 * 9.81 * t**2\n",
    "print(x.get_derivative(t))"
   ]
  },
  {
   "cell_type": "code",
   "execution_count": null,
   "metadata": {
    "collapsed": false
   },
   "outputs": [],
   "source": []
  }
 ],
 "metadata": {
  "anaconda-cloud": {},
  "kernelspec": {
   "display_name": "Python [default]",
   "language": "python",
   "name": "python3"
  },
  "language_info": {
   "codemirror_mode": {
    "name": "ipython",
    "version": 3
   },
   "file_extension": ".py",
   "mimetype": "text/x-python",
   "name": "python",
   "nbconvert_exporter": "python",
   "pygments_lexer": "ipython3",
   "version": "3.5.2"
  }
 },
 "nbformat": 4,
 "nbformat_minor": 0
}
