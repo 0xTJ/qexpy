{
 "cells": [
  {
   "cell_type": "markdown",
   "metadata": {},
   "source": [
    "# Error Propagation with QExPy\n",
    "\n",
    "The first step is to import the error module for error propagation. We'll import it as \"e\":"
   ]
  },
  {
   "cell_type": "code",
   "execution_count": 1,
   "metadata": {
    "collapsed": false
   },
   "outputs": [
    {
     "data": {
      "text/html": [
       "\n",
       "    <div class=\"bk-root\">\n",
       "        <a href=\"http://bokeh.pydata.org\" target=\"_blank\" class=\"bk-logo bk-logo-small bk-logo-notebook\"></a>\n",
       "        <span id=\"babc8a0c-8159-4e79-97d3-6a54442f344c\">Loading BokehJS ...</span>\n",
       "    </div>"
      ]
     },
     "metadata": {},
     "output_type": "display_data"
    },
    {
     "data": {
      "application/javascript": [
       "\n",
       "(function(global) {\n",
       "  function now() {\n",
       "    return new Date();\n",
       "  }\n",
       "\n",
       "  var force = \"1\";\n",
       "\n",
       "  if (typeof (window._bokeh_onload_callbacks) === \"undefined\" || force !== \"\") {\n",
       "    window._bokeh_onload_callbacks = [];\n",
       "    window._bokeh_is_loading = undefined;\n",
       "  }\n",
       "\n",
       "  function run_callbacks() {\n",
       "    window._bokeh_onload_callbacks.forEach(function(callback) { callback() });\n",
       "    delete window._bokeh_onload_callbacks\n",
       "    console.info(\"Bokeh: all callbacks have finished\");\n",
       "  }\n",
       "\n",
       "  function load_libs(js_urls, callback) {\n",
       "    window._bokeh_onload_callbacks.push(callback);\n",
       "    if (window._bokeh_is_loading > 0) {\n",
       "      console.log(\"Bokeh: BokehJS is being loaded, scheduling callback at\", now());\n",
       "      return null;\n",
       "    }\n",
       "    if (js_urls == null || js_urls.length === 0) {\n",
       "      run_callbacks();\n",
       "      return null;\n",
       "    }\n",
       "    console.log(\"Bokeh: BokehJS not loaded, scheduling load and callback at\", now());\n",
       "    window._bokeh_is_loading = js_urls.length;\n",
       "    for (var i = 0; i < js_urls.length; i++) {\n",
       "      var url = js_urls[i];\n",
       "      var s = document.createElement('script');\n",
       "      s.src = url;\n",
       "      s.async = false;\n",
       "      s.onreadystatechange = s.onload = function() {\n",
       "        window._bokeh_is_loading--;\n",
       "        if (window._bokeh_is_loading === 0) {\n",
       "          console.log(\"Bokeh: all BokehJS libraries loaded\");\n",
       "          run_callbacks()\n",
       "        }\n",
       "      };\n",
       "      s.onerror = function() {\n",
       "        console.warn(\"failed to load library \" + url);\n",
       "      };\n",
       "      console.log(\"Bokeh: injecting script tag for BokehJS library: \", url);\n",
       "      document.getElementsByTagName(\"head\")[0].appendChild(s);\n",
       "    }\n",
       "  };\n",
       "\n",
       "  var js_urls = ['https://cdn.pydata.org/bokeh/release/bokeh-0.12.1.min.js', 'https://cdn.pydata.org/bokeh/release/bokeh-widgets-0.12.1.min.js', 'https://cdn.pydata.org/bokeh/release/bokeh-compiler-0.12.1.min.js'];\n",
       "\n",
       "  var inline_js = [\n",
       "    function(Bokeh) {\n",
       "      Bokeh.set_log_level(\"info\");\n",
       "    },\n",
       "    \n",
       "    function(Bokeh) {\n",
       "      \n",
       "      Bokeh.$(\"#babc8a0c-8159-4e79-97d3-6a54442f344c\").text(\"BokehJS successfully loaded\");\n",
       "      var kernel = Jupyter.notebook.kernel\n",
       "      if (kernel.execute !== undefined) {\n",
       "          kernel.execute(\"import bokeh.io; bokeh.io._nb_loaded = True\");\n",
       "      }\n",
       "    },\n",
       "    function(Bokeh) {\n",
       "      console.log(\"Bokeh: injecting CSS: https://cdn.pydata.org/bokeh/release/bokeh-0.12.1.min.css\");\n",
       "      Bokeh.embed.inject_css(\"https://cdn.pydata.org/bokeh/release/bokeh-0.12.1.min.css\");\n",
       "      console.log(\"Bokeh: injecting CSS: https://cdn.pydata.org/bokeh/release/bokeh-widgets-0.12.1.min.css\");\n",
       "      Bokeh.embed.inject_css(\"https://cdn.pydata.org/bokeh/release/bokeh-widgets-0.12.1.min.css\");\n",
       "    }\n",
       "  ];\n",
       "\n",
       "  function run_inline_js() {\n",
       "    for (var i = 0; i < inline_js.length; i++) {\n",
       "      inline_js[i](window.Bokeh);\n",
       "    }\n",
       "  }\n",
       "\n",
       "  if (window._bokeh_is_loading === 0) {\n",
       "    console.log(\"Bokeh: BokehJS loaded, going straight to plotting\");\n",
       "    run_inline_js();\n",
       "  } else {\n",
       "    load_libs(js_urls, function() {\n",
       "      console.log(\"Bokeh: BokehJS plotting callback run at\", now());\n",
       "      run_inline_js();\n",
       "    });\n",
       "  }\n",
       "}(this));"
      ]
     },
     "metadata": {},
     "output_type": "display_data"
    }
   ],
   "source": [
    "import qexpy as q\n"
   ]
  },
  {
   "cell_type": "markdown",
   "metadata": {},
   "source": [
    "Next, we'll declare two measured values, x and y, with uncertainties, and print them out. We use the Measurement object from the qexpy.error package:"
   ]
  },
  {
   "cell_type": "code",
   "execution_count": 2,
   "metadata": {
    "collapsed": false,
    "scrolled": true
   },
   "outputs": [
    {
     "name": "stdout",
     "output_type": "stream",
     "text": [
      "x = 10 +/- 1\n",
      "y = 5 +/- 3\n"
     ]
    }
   ],
   "source": [
    "#Our two measured values:\n",
    "x = q.Measurement(10,1)\n",
    "y = q.Measurement(5,3)\n",
    "\n",
    "#We can print them out:\n",
    "print(\"x =\",x)\n",
    "print(\"y =\",y)\n",
    "#x.set_correlation(y,0.3)"
   ]
  },
  {
   "cell_type": "markdown",
   "metadata": {},
   "source": [
    "We can declare a third object, z, which depends on x and y. The uncertainty in x and y will be correctly propagated to z, so once we have defined z, we can simply print it out with the correct uncertainty:"
   ]
  },
  {
   "cell_type": "code",
   "execution_count": 3,
   "metadata": {
    "collapsed": false
   },
   "outputs": [
    {
     "name": "stdout",
     "output_type": "stream",
     "text": [
      "z = 15 +/- 3\n"
     ]
    }
   ],
   "source": [
    "#We define z\n",
    "z = x+y\n",
    "#z can now be printed out\n",
    "print(\"z =\",z)"
   ]
  },
  {
   "cell_type": "markdown",
   "metadata": {},
   "source": [
    "Note how the uncertainties have been kept to 1 significant figure. In this case, the error in z was obtained by adding the errors in x and y in quadrature. We can change the number of significant figures to confirm that the errors were indeed added in quadrature. We can choose between setting  the number of significant figures based on the uncertainty (more common) or based on the central value."
   ]
  },
  {
   "cell_type": "code",
   "execution_count": 4,
   "metadata": {
    "collapsed": false
   },
   "outputs": [
    {
     "name": "stdout",
     "output_type": "stream",
     "text": [
      "z = 15.000 +/- 3.162\n"
     ]
    }
   ],
   "source": [
    "q.set_sigfigs_error(4) # set sigfigs based on the error\n",
    "print(\"z =\",z)"
   ]
  },
  {
   "cell_type": "markdown",
   "metadata": {},
   "source": [
    "Let's compare the error in z to what the errors in x and y are when added manually in quadrature. We need to import the sqrt() function from the math package to apply mathematical functions to numbers:"
   ]
  },
  {
   "cell_type": "code",
   "execution_count": 5,
   "metadata": {
    "collapsed": false
   },
   "outputs": [
    {
     "name": "stdout",
     "output_type": "stream",
     "text": [
      "3.1622776601683795\n"
     ]
    }
   ],
   "source": [
    "import math as m\n",
    "quadrature = m.sqrt(x.std**2+y.std**2)\n",
    "print(quadrature)"
   ]
  },
  {
   "cell_type": "markdown",
   "metadata": {},
   "source": [
    "## Math functions\n",
    "We can propagate the uncertainties through any operator (+,-,\\*,/) automatically as we showed above. QExPy also knows how to propagate the uncertainty through common mathematical functions. To use mathematical functions on Measurement objects, we need to call the functions from the QExPy package (as opposed to the math package as we did above for 2 numbers)."
   ]
  },
  {
   "cell_type": "code",
   "execution_count": 6,
   "metadata": {
    "collapsed": false
   },
   "outputs": [
    {
     "name": "stdout",
     "output_type": "stream",
     "text": [
      "time =  1.277102 +/- 0.007982 seconds\n"
     ]
    }
   ],
   "source": [
    "#If an object fell a distance of 8.0 +/0.1 m, how long did it take to fall?\n",
    "y = q.Measurement(8,0.1)\n",
    "g = 9.81\n",
    "t = q.sqrt(2*y/g)\n",
    "print(\"time = \",t, \"seconds\")"
   ]
  },
  {
   "cell_type": "markdown",
   "metadata": {},
   "source": [
    "## Error in correlated quantities\n",
    "If we have two measurements, x and y, that are correlated, then their correlation factor will impact the uncertainty on a quantity that depends on them:"
   ]
  },
  {
   "cell_type": "code",
   "execution_count": 7,
   "metadata": {
    "collapsed": false
   },
   "outputs": [
    {
     "name": "stdout",
     "output_type": "stream",
     "text": [
      "x and y uncorrelated: z= 15.000 +/- 3.162\n",
      "x and y positively correlated: z= 15.000 +/- 3.606\n",
      "x and y negatively correlated: z= 15.000 +/- 2.646\n"
     ]
    }
   ],
   "source": [
    "x = q.Measurement(10,1)\n",
    "y = q.Measurement(5,3)\n",
    "z = x+y\n",
    "print(\"x and y uncorrelated: z=\",z)\n",
    "\n",
    "#Now set a correlation factor between x and y:\n",
    "x.set_correlation(y,0.5)\n",
    "z = x+y\n",
    "print(\"x and y positively correlated: z=\",z)\n",
    "\n",
    "#We can also use the covariance factor instead of the correlation factor:\n",
    "x.set_covariance(y,-1.5)\n",
    "z = x+y\n",
    "print(\"x and y negatively correlated: z=\",z)"
   ]
  },
  {
   "cell_type": "markdown",
   "metadata": {},
   "source": [
    "If we don't specify any correlation factors, then all quantities are assumed to be independent. However, a quantity should not be independent from itself, so QExPy knows how to track the correlation in quantities that depend on common quantities. "
   ]
  },
  {
   "cell_type": "code",
   "execution_count": 8,
   "metadata": {
    "collapsed": false
   },
   "outputs": [
    {
     "name": "stdout",
     "output_type": "stream",
     "text": [
      "0.000 +/- 0.000\n"
     ]
    }
   ],
   "source": [
    "x = q.Measurement(10,1)\n",
    "y = x*x\n",
    "z = x*x - y #this should be 0 +/- 0, since it's really x^2 - x^2 \n",
    "print(z)"
   ]
  },
  {
   "cell_type": "markdown",
   "metadata": {
    "collapsed": true
   },
   "source": [
    "## Statistical measurements\n",
    "QExPy can also handle the case when you have repeated measurements of a single quantity and you want to average them together. Suppose that you have measured 5 values of some quantity T. QExPy will automatically assume that those values should be averaged together so that T is given by the mean of the measured values with an uncertainty given by the standard deviation of the values.\n"
   ]
  },
  {
   "cell_type": "code",
   "execution_count": 9,
   "metadata": {
    "collapsed": false
   },
   "outputs": [
    {
     "name": "stdout",
     "output_type": "stream",
     "text": [
      "5.3000 +/- 0.5431\n"
     ]
    }
   ],
   "source": [
    "T=q.Measurement( [5.6, 4.8, 6.1, 4.9, 5.1 ] )\n",
    "print(T)"
   ]
  },
  {
   "cell_type": "markdown",
   "metadata": {},
   "source": [
    "T can be used just as any other measurement with uncertainties, and its error will be propagate correctly:"
   ]
  },
  {
   "cell_type": "code",
   "execution_count": 10,
   "metadata": {
    "collapsed": false
   },
   "outputs": [
    {
     "name": "stdout",
     "output_type": "stream",
     "text": [
      "1.1849 +/- 0.1214\n"
     ]
    }
   ],
   "source": [
    "omega = 2*3.14/T\n",
    "print(omega)"
   ]
  },
  {
   "cell_type": "markdown",
   "metadata": {},
   "source": [
    "If we have measured many values, it can sometimes be useful to visualize those measurements in a histogram. QExPy will automatically create a histogram of the values, showing lines corresponding to the mean and the range covered by one standard deviation"
   ]
  },
  {
   "cell_type": "code",
   "execution_count": 11,
   "metadata": {
    "collapsed": false
   },
   "outputs": [
    {
     "data": {
      "text/html": [
       "\n",
       "\n",
       "    <div class=\"bk-root\">\n",
       "        <div class=\"plotdiv\" id=\"5eb5d6c8-8511-4d41-9035-884e994a3611\"></div>\n",
       "    </div>\n",
       "<script type=\"text/javascript\">\n",
       "  \n",
       "  (function(global) {\n",
       "    function now() {\n",
       "      return new Date();\n",
       "    }\n",
       "  \n",
       "    var force = \"\";\n",
       "  \n",
       "    if (typeof (window._bokeh_onload_callbacks) === \"undefined\" || force !== \"\") {\n",
       "      window._bokeh_onload_callbacks = [];\n",
       "      window._bokeh_is_loading = undefined;\n",
       "    }\n",
       "  \n",
       "    function run_callbacks() {\n",
       "      window._bokeh_onload_callbacks.forEach(function(callback) { callback() });\n",
       "      delete window._bokeh_onload_callbacks\n",
       "      console.info(\"Bokeh: all callbacks have finished\");\n",
       "    }\n",
       "  \n",
       "    function load_libs(js_urls, callback) {\n",
       "      window._bokeh_onload_callbacks.push(callback);\n",
       "      if (window._bokeh_is_loading > 0) {\n",
       "        console.log(\"Bokeh: BokehJS is being loaded, scheduling callback at\", now());\n",
       "        return null;\n",
       "      }\n",
       "      if (js_urls == null || js_urls.length === 0) {\n",
       "        run_callbacks();\n",
       "        return null;\n",
       "      }\n",
       "      console.log(\"Bokeh: BokehJS not loaded, scheduling load and callback at\", now());\n",
       "      window._bokeh_is_loading = js_urls.length;\n",
       "      for (var i = 0; i < js_urls.length; i++) {\n",
       "        var url = js_urls[i];\n",
       "        var s = document.createElement('script');\n",
       "        s.src = url;\n",
       "        s.async = false;\n",
       "        s.onreadystatechange = s.onload = function() {\n",
       "          window._bokeh_is_loading--;\n",
       "          if (window._bokeh_is_loading === 0) {\n",
       "            console.log(\"Bokeh: all BokehJS libraries loaded\");\n",
       "            run_callbacks()\n",
       "          }\n",
       "        };\n",
       "        s.onerror = function() {\n",
       "          console.warn(\"failed to load library \" + url);\n",
       "        };\n",
       "        console.log(\"Bokeh: injecting script tag for BokehJS library: \", url);\n",
       "        document.getElementsByTagName(\"head\")[0].appendChild(s);\n",
       "      }\n",
       "    };var element = document.getElementById(\"5eb5d6c8-8511-4d41-9035-884e994a3611\");\n",
       "    if (element == null) {\n",
       "      console.log(\"Bokeh: ERROR: autoload.js configured with elementid '5eb5d6c8-8511-4d41-9035-884e994a3611' but no matching script tag was found. \")\n",
       "      return false;\n",
       "    }\n",
       "  \n",
       "    var js_urls = [];\n",
       "  \n",
       "    var inline_js = [\n",
       "      function(Bokeh) {\n",
       "        Bokeh.$(function() {\n",
       "            var docs_json = {\"663cbc92-484b-4133-b15c-7bfd55b01592\":{\"roots\":{\"references\":[{\"attributes\":{\"overlay\":{\"id\":\"26b6ca26-b8fd-48b1-9137-fad0ba7d7952\",\"type\":\"BoxAnnotation\"},\"plot\":{\"id\":\"285f4d05-4321-4e39-9919-d973917cd6a4\",\"subtype\":\"Figure\",\"type\":\"Plot\"}},\"id\":\"d22e7e19-bb7d-4987-8e4a-5794247f7c1f\",\"type\":\"BoxZoomTool\"},{\"attributes\":{\"plot\":{\"id\":\"285f4d05-4321-4e39-9919-d973917cd6a4\",\"subtype\":\"Figure\",\"type\":\"Plot\"}},\"id\":\"c6340421-5afe-4c03-a640-5957ac4de62f\",\"type\":\"SaveTool\"},{\"attributes\":{\"data_source\":{\"id\":\"acc910a6-86e9-4894-a1df-01627cca4acd\",\"type\":\"ColumnDataSource\"},\"glyph\":{\"id\":\"f3ba882c-7385-4689-8ec2-7dcc87255b35\",\"type\":\"Quad\"},\"hover_glyph\":null,\"nonselection_glyph\":{\"id\":\"9548b69d-97a9-4a1f-b599-841b78497ce2\",\"type\":\"Quad\"},\"selection_glyph\":null},\"id\":\"ad3c9fb6-35d5-4dcc-8d16-bbedc9121c05\",\"type\":\"GlyphRenderer\"},{\"attributes\":{\"line_color\":{\"value\":\"red\"},\"line_dash\":[6],\"x\":{\"field\":\"x\"},\"y\":{\"field\":\"y\"}},\"id\":\"3b3bbc00-f0fc-470a-b0aa-77385ee664f7\",\"type\":\"Line\"},{\"attributes\":{\"dimension\":1,\"plot\":{\"id\":\"285f4d05-4321-4e39-9919-d973917cd6a4\",\"subtype\":\"Figure\",\"type\":\"Plot\"},\"ticker\":{\"id\":\"e3b65acd-b48f-491d-9de9-af8ea60d46d2\",\"type\":\"BasicTicker\"}},\"id\":\"48547886-75c6-4d4c-8751-a7e09913a43b\",\"type\":\"Grid\"},{\"attributes\":{\"data_source\":{\"id\":\"c85a74a3-ba85-4486-b273-deffd7e70aa8\",\"type\":\"ColumnDataSource\"},\"glyph\":{\"id\":\"5514e653-5237-4af6-82ba-6b97d476bd5a\",\"type\":\"Line\"},\"hover_glyph\":null,\"nonselection_glyph\":{\"id\":\"141b1b02-a12e-4302-ba6a-efb160ee5f30\",\"type\":\"Line\"},\"selection_glyph\":null},\"id\":\"2b5acb9f-4567-497a-9ab1-a6cc83a8ae21\",\"type\":\"GlyphRenderer\"},{\"attributes\":{\"bottom\":{\"value\":0},\"fill_color\":{\"value\":\"#036564\"},\"left\":{\"field\":\"left\"},\"line_color\":{\"value\":\"#033649\"},\"right\":{\"field\":\"right\"},\"top\":{\"field\":\"top\"}},\"id\":\"f3ba882c-7385-4689-8ec2-7dcc87255b35\",\"type\":\"Quad\"},{\"attributes\":{\"line_alpha\":{\"value\":0.1},\"line_color\":{\"value\":\"#1f77b4\"},\"line_dash\":[6],\"x\":{\"field\":\"x\"},\"y\":{\"field\":\"y\"}},\"id\":\"141b1b02-a12e-4302-ba6a-efb160ee5f30\",\"type\":\"Line\"},{\"attributes\":{\"plot\":{\"id\":\"285f4d05-4321-4e39-9919-d973917cd6a4\",\"subtype\":\"Figure\",\"type\":\"Plot\"}},\"id\":\"324bba8b-070a-4e59-8ea3-d0209f6c0226\",\"type\":\"WheelZoomTool\"},{\"attributes\":{\"plot\":{\"id\":\"285f4d05-4321-4e39-9919-d973917cd6a4\",\"subtype\":\"Figure\",\"type\":\"Plot\"}},\"id\":\"1a31d359-f290-43f4-b365-62c933cfc63e\",\"type\":\"ResetTool\"},{\"attributes\":{\"callback\":null,\"column_names\":[\"top\",\"left\",\"right\"],\"data\":{\"left\":[4.8,4.826,4.851999999999999,4.878,4.904,4.93,4.9559999999999995,4.982,5.008,5.034,5.06,5.085999999999999,5.112,5.138,5.164,5.1899999999999995,5.215999999999999,5.242,5.268,5.294,5.319999999999999,5.346,5.372,5.398,5.4239999999999995,5.449999999999999,5.476,5.502,5.528,5.553999999999999,5.58,5.606,5.632,5.6579999999999995,5.683999999999999,5.71,5.736,5.762,5.787999999999999,5.814,5.84,5.866,5.8919999999999995,5.917999999999999,5.943999999999999,5.97,5.9959999999999996,6.021999999999999,6.048,6.074],\"right\":[4.826,4.851999999999999,4.878,4.904,4.93,4.9559999999999995,4.982,5.008,5.034,5.06,5.085999999999999,5.112,5.138,5.164,5.1899999999999995,5.215999999999999,5.242,5.268,5.294,5.319999999999999,5.346,5.372,5.398,5.4239999999999995,5.449999999999999,5.476,5.502,5.528,5.553999999999999,5.58,5.606,5.632,5.6579999999999995,5.683999999999999,5.71,5.736,5.762,5.787999999999999,5.814,5.84,5.866,5.8919999999999995,5.917999999999999,5.943999999999999,5.97,5.9959999999999996,6.021999999999999,6.048,6.074,6.1],\"top\":[1,0,0,1,0,0,0,0,0,0,0,1,0,0,0,0,0,0,0,0,0,0,0,0,0,0,0,0,0,0,1,0,0,0,0,0,0,0,0,0,0,0,0,0,0,0,0,0,0,1]}},\"id\":\"acc910a6-86e9-4894-a1df-01627cca4acd\",\"type\":\"ColumnDataSource\"},{\"attributes\":{\"data_source\":{\"id\":\"6467c5fe-52c9-47fb-8d9c-20758bd308ce\",\"type\":\"ColumnDataSource\"},\"glyph\":{\"id\":\"ddac39d8-a669-4447-b001-a5740c12b336\",\"type\":\"Line\"},\"hover_glyph\":null,\"nonselection_glyph\":{\"id\":\"f3a1022a-1572-4962-9b33-6e4ca269a281\",\"type\":\"Line\"},\"selection_glyph\":null},\"id\":\"cf989988-c0ab-47c6-afc2-71f8822683e6\",\"type\":\"GlyphRenderer\"},{\"attributes\":{\"line_color\":{\"value\":\"red\"},\"line_dash\":[6],\"x\":{\"field\":\"x\"},\"y\":{\"field\":\"y\"}},\"id\":\"5514e653-5237-4af6-82ba-6b97d476bd5a\",\"type\":\"Line\"},{\"attributes\":{\"data_source\":{\"id\":\"ea9b4797-860d-464d-b37f-18f42248b593\",\"type\":\"ColumnDataSource\"},\"glyph\":{\"id\":\"3b3bbc00-f0fc-470a-b0aa-77385ee664f7\",\"type\":\"Line\"},\"hover_glyph\":null,\"nonselection_glyph\":{\"id\":\"0f26314e-0d7c-4165-95bc-fa669fac8842\",\"type\":\"Line\"},\"selection_glyph\":null},\"id\":\"71089faf-5b63-4f81-a64e-6febf47dbe26\",\"type\":\"GlyphRenderer\"},{\"attributes\":{\"plot\":{\"id\":\"285f4d05-4321-4e39-9919-d973917cd6a4\",\"subtype\":\"Figure\",\"type\":\"Plot\"},\"ticker\":{\"id\":\"b152016e-8c6c-4c8d-98ea-b7006d778cf6\",\"type\":\"BasicTicker\"}},\"id\":\"2df394c9-422b-4002-bf5d-d3bc37476841\",\"type\":\"Grid\"},{\"attributes\":{\"bottom\":{\"value\":0},\"fill_alpha\":{\"value\":0.1},\"fill_color\":{\"value\":\"#1f77b4\"},\"left\":{\"field\":\"left\"},\"line_alpha\":{\"value\":0.1},\"line_color\":{\"value\":\"#1f77b4\"},\"right\":{\"field\":\"right\"},\"top\":{\"field\":\"top\"}},\"id\":\"9548b69d-97a9-4a1f-b599-841b78497ce2\",\"type\":\"Quad\"},{\"attributes\":{\"line_alpha\":{\"value\":0.1},\"line_color\":{\"value\":\"#1f77b4\"},\"line_dash\":[6],\"x\":{\"field\":\"x\"},\"y\":{\"field\":\"y\"}},\"id\":\"f3a1022a-1572-4962-9b33-6e4ca269a281\",\"type\":\"Line\"},{\"attributes\":{\"background_fill_color\":{\"value\":\"#E8DDCB\"},\"below\":[{\"id\":\"5e138934-4262-40d1-ba7d-88fdb6797674\",\"type\":\"LinearAxis\"}],\"left\":[{\"id\":\"e202c8b7-9717-49c3-9e8f-f2a2ce0af546\",\"type\":\"LinearAxis\"}],\"renderers\":[{\"id\":\"5e138934-4262-40d1-ba7d-88fdb6797674\",\"type\":\"LinearAxis\"},{\"id\":\"2df394c9-422b-4002-bf5d-d3bc37476841\",\"type\":\"Grid\"},{\"id\":\"e202c8b7-9717-49c3-9e8f-f2a2ce0af546\",\"type\":\"LinearAxis\"},{\"id\":\"48547886-75c6-4d4c-8751-a7e09913a43b\",\"type\":\"Grid\"},{\"id\":\"26b6ca26-b8fd-48b1-9137-fad0ba7d7952\",\"type\":\"BoxAnnotation\"},{\"id\":\"ad3c9fb6-35d5-4dcc-8d16-bbedc9121c05\",\"type\":\"GlyphRenderer\"},{\"id\":\"71089faf-5b63-4f81-a64e-6febf47dbe26\",\"type\":\"GlyphRenderer\"},{\"id\":\"2b5acb9f-4567-497a-9ab1-a6cc83a8ae21\",\"type\":\"GlyphRenderer\"},{\"id\":\"cf989988-c0ab-47c6-afc2-71f8822683e6\",\"type\":\"GlyphRenderer\"}],\"title\":{\"id\":\"e6119689-d1eb-4866-9a23-9d4834451cce\",\"type\":\"Title\"},\"tool_events\":{\"id\":\"65df66ea-3da8-405a-bfc0-5a7ee3e5087b\",\"type\":\"ToolEvents\"},\"toolbar\":{\"id\":\"8e0a6672-773d-47aa-8d37-dd81bef48830\",\"type\":\"Toolbar\"},\"x_range\":{\"id\":\"da4b1bb5-7e01-4d91-8413-20693fc274b4\",\"type\":\"DataRange1d\"},\"y_range\":{\"id\":\"c61a1a61-bde9-47a6-a1ff-ebe7ce09af6b\",\"type\":\"DataRange1d\"}},\"id\":\"285f4d05-4321-4e39-9919-d973917cd6a4\",\"subtype\":\"Figure\",\"type\":\"Plot\"},{\"attributes\":{\"formatter\":{\"id\":\"23332595-dcf8-44f6-9be9-6285e0b3e653\",\"type\":\"BasicTickFormatter\"},\"plot\":{\"id\":\"285f4d05-4321-4e39-9919-d973917cd6a4\",\"subtype\":\"Figure\",\"type\":\"Plot\"},\"ticker\":{\"id\":\"b152016e-8c6c-4c8d-98ea-b7006d778cf6\",\"type\":\"BasicTicker\"}},\"id\":\"5e138934-4262-40d1-ba7d-88fdb6797674\",\"type\":\"LinearAxis\"},{\"attributes\":{\"active_drag\":\"auto\",\"active_scroll\":\"auto\",\"active_tap\":\"auto\",\"tools\":[{\"id\":\"c6340421-5afe-4c03-a640-5957ac4de62f\",\"type\":\"SaveTool\"},{\"id\":\"3b8e79d0-d92a-4349-aca9-ec8dde29b55f\",\"type\":\"PanTool\"},{\"id\":\"d22e7e19-bb7d-4987-8e4a-5794247f7c1f\",\"type\":\"BoxZoomTool\"},{\"id\":\"324bba8b-070a-4e59-8ea3-d0209f6c0226\",\"type\":\"WheelZoomTool\"},{\"id\":\"1a31d359-f290-43f4-b365-62c933cfc63e\",\"type\":\"ResetTool\"}]},\"id\":\"8e0a6672-773d-47aa-8d37-dd81bef48830\",\"type\":\"Toolbar\"},{\"attributes\":{\"bottom_units\":\"screen\",\"fill_alpha\":{\"value\":0.5},\"fill_color\":{\"value\":\"lightgrey\"},\"left_units\":\"screen\",\"level\":\"overlay\",\"line_alpha\":{\"value\":1.0},\"line_color\":{\"value\":\"black\"},\"line_dash\":[4,4],\"line_width\":{\"value\":2},\"plot\":null,\"render_mode\":\"css\",\"right_units\":\"screen\",\"top_units\":\"screen\"},\"id\":\"26b6ca26-b8fd-48b1-9137-fad0ba7d7952\",\"type\":\"BoxAnnotation\"},{\"attributes\":{\"callback\":null,\"column_names\":[\"y\",\"x\"],\"data\":{\"x\":[5.3,5.3],\"y\":[0.0,1.05]}},\"id\":\"ea9b4797-860d-464d-b37f-18f42248b593\",\"type\":\"ColumnDataSource\"},{\"attributes\":{\"callback\":null,\"column_names\":[\"y\",\"x\"],\"data\":{\"x\":[4.756860975439987,4.756860975439987],\"y\":[0.0,1.1]}},\"id\":\"c85a74a3-ba85-4486-b273-deffd7e70aa8\",\"type\":\"ColumnDataSource\"},{\"attributes\":{\"callback\":null},\"id\":\"da4b1bb5-7e01-4d91-8413-20693fc274b4\",\"type\":\"DataRange1d\"},{\"attributes\":{\"callback\":null},\"id\":\"c61a1a61-bde9-47a6-a1ff-ebe7ce09af6b\",\"type\":\"DataRange1d\"},{\"attributes\":{\"callback\":null,\"column_names\":[\"y\",\"x\"],\"data\":{\"x\":[5.8431390245600126,5.8431390245600126],\"y\":[0.0,1.1]}},\"id\":\"6467c5fe-52c9-47fb-8d9c-20758bd308ce\",\"type\":\"ColumnDataSource\"},{\"attributes\":{\"line_color\":{\"value\":\"red\"},\"line_dash\":[6],\"x\":{\"field\":\"x\"},\"y\":{\"field\":\"y\"}},\"id\":\"ddac39d8-a669-4447-b001-a5740c12b336\",\"type\":\"Line\"},{\"attributes\":{},\"id\":\"c52d2383-e38b-450c-ac12-b009b3548702\",\"type\":\"BasicTickFormatter\"},{\"attributes\":{\"plot\":null,\"text\":\"unnamed_var6 Histogram\"},\"id\":\"e6119689-d1eb-4866-9a23-9d4834451cce\",\"type\":\"Title\"},{\"attributes\":{},\"id\":\"b152016e-8c6c-4c8d-98ea-b7006d778cf6\",\"type\":\"BasicTicker\"},{\"attributes\":{},\"id\":\"65df66ea-3da8-405a-bfc0-5a7ee3e5087b\",\"type\":\"ToolEvents\"},{\"attributes\":{\"formatter\":{\"id\":\"c52d2383-e38b-450c-ac12-b009b3548702\",\"type\":\"BasicTickFormatter\"},\"plot\":{\"id\":\"285f4d05-4321-4e39-9919-d973917cd6a4\",\"subtype\":\"Figure\",\"type\":\"Plot\"},\"ticker\":{\"id\":\"e3b65acd-b48f-491d-9de9-af8ea60d46d2\",\"type\":\"BasicTicker\"}},\"id\":\"e202c8b7-9717-49c3-9e8f-f2a2ce0af546\",\"type\":\"LinearAxis\"},{\"attributes\":{\"plot\":{\"id\":\"285f4d05-4321-4e39-9919-d973917cd6a4\",\"subtype\":\"Figure\",\"type\":\"Plot\"}},\"id\":\"3b8e79d0-d92a-4349-aca9-ec8dde29b55f\",\"type\":\"PanTool\"},{\"attributes\":{},\"id\":\"e3b65acd-b48f-491d-9de9-af8ea60d46d2\",\"type\":\"BasicTicker\"},{\"attributes\":{\"line_alpha\":{\"value\":0.1},\"line_color\":{\"value\":\"#1f77b4\"},\"line_dash\":[6],\"x\":{\"field\":\"x\"},\"y\":{\"field\":\"y\"}},\"id\":\"0f26314e-0d7c-4165-95bc-fa669fac8842\",\"type\":\"Line\"},{\"attributes\":{},\"id\":\"23332595-dcf8-44f6-9be9-6285e0b3e653\",\"type\":\"BasicTickFormatter\"}],\"root_ids\":[\"285f4d05-4321-4e39-9919-d973917cd6a4\"]},\"title\":\"Bokeh Application\",\"version\":\"0.12.1\"}};\n",
       "            var render_items = [{\"docid\":\"663cbc92-484b-4133-b15c-7bfd55b01592\",\"elementid\":\"5eb5d6c8-8511-4d41-9035-884e994a3611\",\"modelid\":\"285f4d05-4321-4e39-9919-d973917cd6a4\",\"notebook_comms_target\":\"41a460fa-6fd4-4938-997f-93d488be52fc\"}];\n",
       "            \n",
       "            Bokeh.embed.embed_items(docs_json, render_items);\n",
       "        });\n",
       "      },\n",
       "      function(Bokeh) {\n",
       "      }\n",
       "    ];\n",
       "  \n",
       "    function run_inline_js() {\n",
       "      for (var i = 0; i < inline_js.length; i++) {\n",
       "        inline_js[i](window.Bokeh);\n",
       "      }\n",
       "    }\n",
       "  \n",
       "    if (window._bokeh_is_loading === 0) {\n",
       "      console.log(\"Bokeh: BokehJS loaded, going straight to plotting\");\n",
       "      run_inline_js();\n",
       "    } else {\n",
       "      load_libs(js_urls, function() {\n",
       "        console.log(\"Bokeh: BokehJS plotting callback run at\", now());\n",
       "        run_inline_js();\n",
       "      });\n",
       "    }\n",
       "  }(this));\n",
       "</script>"
      ]
     },
     "metadata": {},
     "output_type": "display_data"
    },
    {
     "data": {
      "text/plain": [
       "<bokeh.plotting.figure.Figure at 0x25b13a43160>"
      ]
     },
     "execution_count": 11,
     "metadata": {},
     "output_type": "execute_result"
    }
   ],
   "source": [
    "T.show_histogram()"
   ]
  },
  {
   "cell_type": "markdown",
   "metadata": {},
   "source": [
    "## Multiple measurements (Arrays of Measurements)\n",
    "QExPy can also handle the case of having multiple measurements, when each measurement has its own uncertainty. For example, if you have three measurements of a single quantity, in order to get an average value, you should weight each measurement by its uncertainty (or rather the weight should be 1 over the square of the uncertainty). This is handled by the MeasurementArray class:"
   ]
  },
  {
   "cell_type": "code",
   "execution_count": 12,
   "metadata": {
    "collapsed": false
   },
   "outputs": [
    {
     "name": "stdout",
     "output_type": "stream",
     "text": [
      "11.233 +/- 1.003\n"
     ]
    }
   ],
   "source": [
    "#gvals = e.MeasurementArray([(9.8,0.2), (14,3) , (9.9,0.1)])\n",
    "gvals = q.MeasurementArray([9.8,14,9.9],[0.2,3,0.1])\n",
    "print(gvals.mean())\n"
   ]
  },
  {
   "cell_type": "markdown",
   "metadata": {},
   "source": [
    "The MeasurementArray object truly is an array of Measurement objects, so individual measurements can be retrieved (remember that the first element in an array in python has index 0 not 1, so element 1 is the second element):"
   ]
  },
  {
   "cell_type": "code",
   "execution_count": 13,
   "metadata": {
    "collapsed": false
   },
   "outputs": [
    {
     "name": "stdout",
     "output_type": "stream",
     "text": [
      "14.000 +/- 3.000\n"
     ]
    }
   ],
   "source": [
    "print(gvals[1])"
   ]
  },
  {
   "cell_type": "markdown",
   "metadata": {},
   "source": [
    "## Error propagation methods\n",
    "\n",
    "### Derivative method (default)\n",
    "By default, QExPy propagates the uncertainties using the \"derivative\" method. That is, for a function, $f(x,y)$, that depends on measured quantities $x\\pm\\sigma_x$ and $y\\pm\\sigma_y$, with covariance $\\sigma_{xy}$ between the two measured quantities, the uncertainty in $f$ is given by:\n",
    "$$ \\sigma_f = \\sqrt{ \\left(\\frac{\\partial f}{\\partial x} \\sigma_x \\right)^2 + \\left(\\frac{\\partial f}{\\partial y} \\sigma_y \\right)^2 + 2 \\frac{\\partial f}{\\partial x} \\frac{\\partial f}{\\partial y}\\sigma_{xy} }$$\n",
    "\n",
    "QExPy evaluates the derivatives exactly when propagating the uncertainties using an algorithm called \"automatic differentiation\". This is possible as QExPy internally keeps track of the dependency of quantities on each other, and as an added bonus can also be used to evaluate numerical derivatives exactly. Although the derivative method is commonly taught in undergraduate laboratories, it is only valid when the relative uncertainties in the quantities being propagated are small (e.g. less than ~10% relative uncertainty). This method is thus not strongly encouraged, although it has been made the default because it is so prevalent in undergraduate teaching. \n",
    "\n",
    "\n",
    "### Min-Max method (not recommended)\n",
    "This is not the only way to propagate the uncertainty in $f$. For example, the \"Min-Max\" method, is a method to yield a more conservative (larger) estimate of the uncertainty in $f$ and is often used in introductory courses. The Min-Max method defines the central value and uncertainty in $f$ as:\n",
    "$$f=\\frac{1}{2}(f^{max}+f^{min})$$\n",
    "$$\\sigma_f=\\frac{1}{2}(f^{max}-f^{min})$$\n",
    "\n",
    "where $f^{max}$ ($f^{min}$) is the maximum (minimum) value that $f$ takes when $x$ and $y$ are varied within their uncertainty range. For example, if $f(x,y)=x+y$, then the maximum and minimum of $f$ are easily found:\n",
    "\n",
    "$$f^{max} = (x+\\sigma_x)+(y+\\sigma_y)$$\n",
    "$$f^{min} = (x-\\sigma_x)-(y-\\sigma_y)$$\n",
    "\n",
    "The Min-Max method actually requires a numerical approximation to evaluate the values of $f^{max}$ and $f^{min}$ for all but the most simple cases. Hence although it is a good method to introduce the idea of uncertainty propagation, it is not recommended to use this method in any serious calculation (it also does not take correlations into account). \n",
    "\n",
    "### Monte Carlo method (recommended!)\n",
    "Finally, the recommended method to propagate errors is the \"Monte-Carlo\" method, although it is the hardest to understand. The MC method is based on a statiscal understanding of the measurements. In the QExPy implementation, currently, the main assumptions is that the uncertainty in a quantity is given by a \"standard error\"; that is, if $x = 10\\pm 1$, then we *assume* that this error and uncertainty should be interpreted as: \"if we measure $x$ multiple times, we will obtain a set of measurements that are normally distributed with a mean of 10 and a standard deviation of 1\". In other words, we assume that $x$ has a 68% chance of being in the range between 9 and 11.\n",
    "\n",
    "\n",
    "The MC method then uses the assumption that measured quantities are normally distributed and use this to propagate the errors by using Monte Carlo simulation. Suppose that we have measured $x$ and $y$ and wish to determine the central value and uncertainty in $x=x+y$. The Monte Carlo method will generate normally distributed random values for $x$ and $y$ (the random numbers will be correctly correlated if the user has indicated that $x$ and $y$ are correlated), then it will add those random values together, to obtain a set of values for $z$. The mean and standard deviation of the random values for $z$ are taken as the central value and uncertainty in $z$. \n",
    "\n",
    "## What QExPy actually does\n",
    "Although the user appears to choose the method used to propagate the errors, QExPy always uses all three methods behind the scenes and the user only decides which method to print out. This allows QExPy to compare the results behind the scenes, in particular, to inform the users that the uncertainties using a particular method (e.g. derivative) may be inaccurate and to suggest that the user choose a different method. \n",
    "\n",
    "## Example\n",
    "Below, we illustrate an example of using the different methods to propagate the uncertainty in the Coulomb force based on the measurement of two charges, $q_1$ and $q_2$, and the distance between them, $r$. We illustrate how the derivative method does not give the correct answer if the relative uncertainties in the measured quantities are large. \n",
    "\n",
    "### 1 % relative uncertainty calculation\n"
   ]
  },
  {
   "cell_type": "code",
   "execution_count": 14,
   "metadata": {
    "collapsed": false
   },
   "outputs": [
    {
     "name": "stdout",
     "output_type": "stream",
     "text": [
      "Derivative method, F =  18.0000 +/- 0.4409\n",
      "Min-Max method, F = 18.0021 +/- 0.1055\n",
      "Monte Carlo method, F = 18.0101 +/- 0.4422\n"
     ]
    }
   ],
   "source": [
    "#Measurements with 1% relative uncertainties:\n",
    "relative_factor = 0.01 \n",
    "\n",
    "#Measured values\n",
    "q1m=1e-6\n",
    "q2m=2e-5\n",
    "rm=0.1\n",
    "\n",
    "#Convert to Measurement objects\n",
    "q1 = q.Measurement(q1m,relative_factor*q1m)\n",
    "q2 = q.Measurement(q2m,relative_factor*q2m)\n",
    "r = q.Measurement(rm,relative_factor*rm)\n",
    "#Coulomb's constant:\n",
    "k = 9e9 \n",
    "\n",
    "#Define the Force:\n",
    "F = k*q1*q2/r**2\n",
    "\n",
    "#Print out the different errors\n",
    "q.set_error_method(\"derivative\")\n",
    "print(\"Derivative method, F = \",F)\n",
    "q.set_error_method(\"minmax\")\n",
    "print(\"Min-Max method, F =\", F)\n",
    "q.set_error_method(\"mc\")\n",
    "print(\"Monte Carlo method, F =\",F)\n",
    "\n"
   ]
  },
  {
   "cell_type": "markdown",
   "metadata": {},
   "source": [
    "### 10 % relative uncertainty calculation\n",
    "We see that in this case, the Monte Carlo method returns a different uncertainty than the derivative method, because the derivative method is incorrect when the uncertainties are this large."
   ]
  },
  {
   "cell_type": "code",
   "execution_count": 15,
   "metadata": {
    "collapsed": false
   },
   "outputs": [
    {
     "name": "stdout",
     "output_type": "stream",
     "text": [
      "Derivative method, F =  18.000 +/- 4.409\n",
      "Min-Max method, F = 18.220 +/- 1.098\n",
      "Monte Carlo method, F = 18.583 +/- 4.798\n"
     ]
    },
    {
     "data": {
      "text/html": [
       "\n",
       "\n",
       "    <div class=\"bk-root\">\n",
       "        <div class=\"plotdiv\" id=\"1b249c75-bab3-4b6c-a36c-d86ffd4cf568\"></div>\n",
       "    </div>\n",
       "<script type=\"text/javascript\">\n",
       "  \n",
       "  (function(global) {\n",
       "    function now() {\n",
       "      return new Date();\n",
       "    }\n",
       "  \n",
       "    var force = \"\";\n",
       "  \n",
       "    if (typeof (window._bokeh_onload_callbacks) === \"undefined\" || force !== \"\") {\n",
       "      window._bokeh_onload_callbacks = [];\n",
       "      window._bokeh_is_loading = undefined;\n",
       "    }\n",
       "  \n",
       "    function run_callbacks() {\n",
       "      window._bokeh_onload_callbacks.forEach(function(callback) { callback() });\n",
       "      delete window._bokeh_onload_callbacks\n",
       "      console.info(\"Bokeh: all callbacks have finished\");\n",
       "    }\n",
       "  \n",
       "    function load_libs(js_urls, callback) {\n",
       "      window._bokeh_onload_callbacks.push(callback);\n",
       "      if (window._bokeh_is_loading > 0) {\n",
       "        console.log(\"Bokeh: BokehJS is being loaded, scheduling callback at\", now());\n",
       "        return null;\n",
       "      }\n",
       "      if (js_urls == null || js_urls.length === 0) {\n",
       "        run_callbacks();\n",
       "        return null;\n",
       "      }\n",
       "      console.log(\"Bokeh: BokehJS not loaded, scheduling load and callback at\", now());\n",
       "      window._bokeh_is_loading = js_urls.length;\n",
       "      for (var i = 0; i < js_urls.length; i++) {\n",
       "        var url = js_urls[i];\n",
       "        var s = document.createElement('script');\n",
       "        s.src = url;\n",
       "        s.async = false;\n",
       "        s.onreadystatechange = s.onload = function() {\n",
       "          window._bokeh_is_loading--;\n",
       "          if (window._bokeh_is_loading === 0) {\n",
       "            console.log(\"Bokeh: all BokehJS libraries loaded\");\n",
       "            run_callbacks()\n",
       "          }\n",
       "        };\n",
       "        s.onerror = function() {\n",
       "          console.warn(\"failed to load library \" + url);\n",
       "        };\n",
       "        console.log(\"Bokeh: injecting script tag for BokehJS library: \", url);\n",
       "        document.getElementsByTagName(\"head\")[0].appendChild(s);\n",
       "      }\n",
       "    };var element = document.getElementById(\"1b249c75-bab3-4b6c-a36c-d86ffd4cf568\");\n",
       "    if (element == null) {\n",
       "      console.log(\"Bokeh: ERROR: autoload.js configured with elementid '1b249c75-bab3-4b6c-a36c-d86ffd4cf568' but no matching script tag was found. \")\n",
       "      return false;\n",
       "    }\n",
       "  \n",
       "    var js_urls = [];\n",
       "  \n",
       "    var inline_js = [\n",
       "      function(Bokeh) {\n",
       "        Bokeh.$(function() {\n",
       "            var docs_json = {\"daf76803-0e9a-43bc-90bf-4031e7c0ba03\":{\"roots\":{\"references\":[{\"attributes\":{\"formatter\":{\"id\":\"61b62e80-7b0f-4738-8b35-124fe6404dcc\",\"type\":\"BasicTickFormatter\"},\"plot\":{\"id\":\"03cdf349-3c26-4a98-84d6-35048e931042\",\"subtype\":\"Figure\",\"type\":\"Plot\"},\"ticker\":{\"id\":\"e63cbe34-247e-4d19-86da-6ab31ed378bc\",\"type\":\"BasicTicker\"}},\"id\":\"ef9cb557-b37f-4799-bab7-1f8058c7739b\",\"type\":\"LinearAxis\"},{\"attributes\":{\"callback\":null,\"column_names\":[\"y\",\"x\"],\"data\":{\"x\":[22.40908153700972,22.40908153700972],\"y\":[0.0,940.5000000000001]}},\"id\":\"d08f0cea-af81-48af-a5fa-ef2e2c4a7c4d\",\"type\":\"ColumnDataSource\"},{\"attributes\":{},\"id\":\"c484de61-559e-4851-ace1-c3667c3e710b\",\"type\":\"BasicTicker\"},{\"attributes\":{\"formatter\":{\"id\":\"5df7ed00-d3a7-4e56-a14a-a8e04d1b4593\",\"type\":\"BasicTickFormatter\"},\"plot\":{\"id\":\"03cdf349-3c26-4a98-84d6-35048e931042\",\"subtype\":\"Figure\",\"type\":\"Plot\"},\"ticker\":{\"id\":\"c484de61-559e-4851-ace1-c3667c3e710b\",\"type\":\"BasicTicker\"}},\"id\":\"d995d6a5-46b4-420a-812c-5e56853502ba\",\"type\":\"LinearAxis\"},{\"attributes\":{\"bottom\":{\"value\":0},\"fill_color\":{\"value\":\"#036564\"},\"left\":{\"field\":\"left\"},\"line_color\":{\"value\":\"#033649\"},\"right\":{\"field\":\"right\"},\"top\":{\"field\":\"top\"}},\"id\":\"6f6bb15f-6775-4587-94df-f160ee76181a\",\"type\":\"Quad\"},{\"attributes\":{\"plot\":{\"id\":\"03cdf349-3c26-4a98-84d6-35048e931042\",\"subtype\":\"Figure\",\"type\":\"Plot\"}},\"id\":\"efcb33ac-ea54-4f02-8390-dd266d1b2400\",\"type\":\"PanTool\"},{\"attributes\":{},\"id\":\"c0eeeacb-b406-4878-85cd-d571aefdee52\",\"type\":\"ToolEvents\"},{\"attributes\":{\"data_source\":{\"id\":\"a4f80b1c-cf45-4d28-8223-3debe833a373\",\"type\":\"ColumnDataSource\"},\"glyph\":{\"id\":\"6f6bb15f-6775-4587-94df-f160ee76181a\",\"type\":\"Quad\"},\"hover_glyph\":null,\"nonselection_glyph\":{\"id\":\"fc7c5d2e-700a-4cc9-b7f9-5353cb91ca06\",\"type\":\"Quad\"},\"selection_glyph\":null},\"id\":\"fb352b97-6b13-47bf-8098-8dbc8b7dbd57\",\"type\":\"GlyphRenderer\"},{\"attributes\":{\"line_color\":{\"value\":\"red\"},\"line_dash\":[6],\"x\":{\"field\":\"x\"},\"y\":{\"field\":\"y\"}},\"id\":\"a493a143-400b-4e55-ad69-511a0e2fb035\",\"type\":\"Line\"},{\"attributes\":{\"line_alpha\":{\"value\":0.1},\"line_color\":{\"value\":\"#1f77b4\"},\"line_dash\":[6],\"x\":{\"field\":\"x\"},\"y\":{\"field\":\"y\"}},\"id\":\"8ea8d080-323a-4099-b3e5-8361e617136b\",\"type\":\"Line\"},{\"attributes\":{\"callback\":null,\"column_names\":[\"top\",\"left\",\"right\"],\"data\":{\"left\":[6.964918894201601,7.796123641819655,8.627328389437709,9.458533137055763,10.289737884673817,11.120942632291872,11.952147379909924,12.78335212752798,13.614556875146032,14.445761622764088,15.27696637038214,16.108171118000193,16.93937586561825,17.770580613236305,18.601785360854358,19.43299010847241,20.264194856090466,21.095399603708522,21.926604351326574,22.757809098944627,23.58901384656268,24.42021859418074,25.25142334179879,26.082628089416843,26.913832837034896,27.745037584652955,28.576242332271008,29.40744707988906,30.238651827507113,31.069856575125172,31.901061322743224,32.73226607036128,33.56347081797933,34.39467556559738,35.22588031321544,36.057085060833494,36.888289808451546,37.7194945560696,38.55069930368766,39.38190405130571,40.21310879892376,41.04431354654182,41.875518294159875,42.70672304177793,43.53792778939598,44.36913253701404,45.20033728463209,46.031542032250144,46.862746779868196,47.69395152748625],\"right\":[7.796123641819655,8.627328389437709,9.458533137055763,10.289737884673817,11.120942632291872,11.952147379909924,12.78335212752798,13.614556875146032,14.445761622764088,15.27696637038214,16.108171118000193,16.93937586561825,17.770580613236305,18.601785360854358,19.43299010847241,20.264194856090466,21.095399603708522,21.926604351326574,22.757809098944627,23.58901384656268,24.42021859418074,25.25142334179879,26.082628089416843,26.913832837034896,27.745037584652955,28.576242332271008,29.40744707988906,30.238651827507113,31.069856575125172,31.901061322743224,32.73226607036128,33.56347081797933,34.39467556559738,35.22588031321544,36.057085060833494,36.888289808451546,37.7194945560696,38.55069930368766,39.38190405130571,40.21310879892376,41.04431354654182,41.875518294159875,42.70672304177793,43.53792778939598,44.36913253701404,45.20033728463209,46.031542032250144,46.862746779868196,47.69395152748625,48.52515627510431],\"top\":[1,8,18,68,156,215,344,472,577,696,706,855,793,715,691,595,507,459,412,340,272,208,206,142,87,104,68,62,41,35,28,21,20,16,11,5,9,7,8,6,3,4,3,1,4,0,0,0,0,1]}},\"id\":\"a4f80b1c-cf45-4d28-8223-3debe833a373\",\"type\":\"ColumnDataSource\"},{\"attributes\":{\"line_alpha\":{\"value\":0.1},\"line_color\":{\"value\":\"#1f77b4\"},\"line_dash\":[6],\"x\":{\"field\":\"x\"},\"y\":{\"field\":\"y\"}},\"id\":\"70d663f3-faca-4540-abee-bc18845b2a94\",\"type\":\"Line\"},{\"attributes\":{\"callback\":null},\"id\":\"538549d6-d1c2-4163-835c-1115a74d906a\",\"type\":\"DataRange1d\"},{\"attributes\":{\"callback\":null,\"column_names\":[\"y\",\"x\"],\"data\":{\"x\":[18.0,18.0],\"y\":[0.0,897.75]}},\"id\":\"c90fa64c-5cac-47c8-b3db-5eea63a21440\",\"type\":\"ColumnDataSource\"},{\"attributes\":{\"dimension\":1,\"plot\":{\"id\":\"03cdf349-3c26-4a98-84d6-35048e931042\",\"subtype\":\"Figure\",\"type\":\"Plot\"},\"ticker\":{\"id\":\"c484de61-559e-4851-ace1-c3667c3e710b\",\"type\":\"BasicTicker\"}},\"id\":\"d68da3d7-66a3-4d28-b7f1-ea07f9186333\",\"type\":\"Grid\"},{\"attributes\":{\"bottom\":{\"value\":0},\"fill_alpha\":{\"value\":0.1},\"fill_color\":{\"value\":\"#1f77b4\"},\"left\":{\"field\":\"left\"},\"line_alpha\":{\"value\":0.1},\"line_color\":{\"value\":\"#1f77b4\"},\"right\":{\"field\":\"right\"},\"top\":{\"field\":\"top\"}},\"id\":\"fc7c5d2e-700a-4cc9-b7f9-5353cb91ca06\",\"type\":\"Quad\"},{\"attributes\":{},\"id\":\"5df7ed00-d3a7-4e56-a14a-a8e04d1b4593\",\"type\":\"BasicTickFormatter\"},{\"attributes\":{\"callback\":null},\"id\":\"2f15dc08-a4ed-48cf-858d-e1586288edaf\",\"type\":\"DataRange1d\"},{\"attributes\":{\"data_source\":{\"id\":\"c90fa64c-5cac-47c8-b3db-5eea63a21440\",\"type\":\"ColumnDataSource\"},\"glyph\":{\"id\":\"a493a143-400b-4e55-ad69-511a0e2fb035\",\"type\":\"Line\"},\"hover_glyph\":null,\"nonselection_glyph\":{\"id\":\"8ea8d080-323a-4099-b3e5-8361e617136b\",\"type\":\"Line\"},\"selection_glyph\":null},\"id\":\"cc988bcc-1847-4f78-b4f5-e7a363684b65\",\"type\":\"GlyphRenderer\"},{\"attributes\":{},\"id\":\"61b62e80-7b0f-4738-8b35-124fe6404dcc\",\"type\":\"BasicTickFormatter\"},{\"attributes\":{},\"id\":\"e63cbe34-247e-4d19-86da-6ab31ed378bc\",\"type\":\"BasicTicker\"},{\"attributes\":{\"plot\":{\"id\":\"03cdf349-3c26-4a98-84d6-35048e931042\",\"subtype\":\"Figure\",\"type\":\"Plot\"}},\"id\":\"52f89dbb-af5e-40dc-9521-09169ebc8ae9\",\"type\":\"ResetTool\"},{\"attributes\":{\"line_color\":{\"value\":\"red\"},\"line_dash\":[6],\"x\":{\"field\":\"x\"},\"y\":{\"field\":\"y\"}},\"id\":\"43ee5b19-d24f-4f6d-bd28-61e0437c0454\",\"type\":\"Line\"},{\"attributes\":{\"plot\":{\"id\":\"03cdf349-3c26-4a98-84d6-35048e931042\",\"subtype\":\"Figure\",\"type\":\"Plot\"},\"ticker\":{\"id\":\"e63cbe34-247e-4d19-86da-6ab31ed378bc\",\"type\":\"BasicTicker\"}},\"id\":\"f656ff24-ea94-43c4-a86a-7575c3b1d425\",\"type\":\"Grid\"},{\"attributes\":{\"overlay\":{\"id\":\"289ea79f-3d0a-4ce0-bc7c-de5976fa9735\",\"type\":\"BoxAnnotation\"},\"plot\":{\"id\":\"03cdf349-3c26-4a98-84d6-35048e931042\",\"subtype\":\"Figure\",\"type\":\"Plot\"}},\"id\":\"09294853-34e9-48d2-899d-2d727418d031\",\"type\":\"BoxZoomTool\"},{\"attributes\":{\"plot\":{\"id\":\"03cdf349-3c26-4a98-84d6-35048e931042\",\"subtype\":\"Figure\",\"type\":\"Plot\"}},\"id\":\"bd800c94-da87-403f-b83d-6bc562747b9e\",\"type\":\"WheelZoomTool\"},{\"attributes\":{\"line_alpha\":{\"value\":0.1},\"line_color\":{\"value\":\"#1f77b4\"},\"line_dash\":[6],\"x\":{\"field\":\"x\"},\"y\":{\"field\":\"y\"}},\"id\":\"a5580e8a-5d3a-4062-872b-54bcab793340\",\"type\":\"Line\"},{\"attributes\":{\"plot\":null,\"text\":\"unnamed_var13*9000000000*unnamed_var14/unnamed_var15**2 Histogram\"},\"id\":\"bd76b7f0-bcf0-4900-a34a-72ce5d4e561c\",\"type\":\"Title\"},{\"attributes\":{\"callback\":null,\"column_names\":[\"y\",\"x\"],\"data\":{\"x\":[13.59091846299028,13.59091846299028],\"y\":[0.0,940.5000000000001]}},\"id\":\"de84957c-70f7-4d8e-a816-35ab666c8cf7\",\"type\":\"ColumnDataSource\"},{\"attributes\":{\"active_drag\":\"auto\",\"active_scroll\":\"auto\",\"active_tap\":\"auto\",\"tools\":[{\"id\":\"3a09605c-0107-484a-8b46-5b36052c9d6f\",\"type\":\"SaveTool\"},{\"id\":\"efcb33ac-ea54-4f02-8390-dd266d1b2400\",\"type\":\"PanTool\"},{\"id\":\"09294853-34e9-48d2-899d-2d727418d031\",\"type\":\"BoxZoomTool\"},{\"id\":\"bd800c94-da87-403f-b83d-6bc562747b9e\",\"type\":\"WheelZoomTool\"},{\"id\":\"52f89dbb-af5e-40dc-9521-09169ebc8ae9\",\"type\":\"ResetTool\"}]},\"id\":\"2c962869-dc3f-40d5-9224-2d1a7cd326de\",\"type\":\"Toolbar\"},{\"attributes\":{\"background_fill_color\":{\"value\":\"#E8DDCB\"},\"below\":[{\"id\":\"ef9cb557-b37f-4799-bab7-1f8058c7739b\",\"type\":\"LinearAxis\"}],\"left\":[{\"id\":\"d995d6a5-46b4-420a-812c-5e56853502ba\",\"type\":\"LinearAxis\"}],\"renderers\":[{\"id\":\"ef9cb557-b37f-4799-bab7-1f8058c7739b\",\"type\":\"LinearAxis\"},{\"id\":\"f656ff24-ea94-43c4-a86a-7575c3b1d425\",\"type\":\"Grid\"},{\"id\":\"d995d6a5-46b4-420a-812c-5e56853502ba\",\"type\":\"LinearAxis\"},{\"id\":\"d68da3d7-66a3-4d28-b7f1-ea07f9186333\",\"type\":\"Grid\"},{\"id\":\"289ea79f-3d0a-4ce0-bc7c-de5976fa9735\",\"type\":\"BoxAnnotation\"},{\"id\":\"fb352b97-6b13-47bf-8098-8dbc8b7dbd57\",\"type\":\"GlyphRenderer\"},{\"id\":\"cc988bcc-1847-4f78-b4f5-e7a363684b65\",\"type\":\"GlyphRenderer\"},{\"id\":\"5f755248-258e-4abe-99d5-5df1d40f90e0\",\"type\":\"GlyphRenderer\"},{\"id\":\"898e9ad2-63a0-45a7-91c4-7e8505a12c3b\",\"type\":\"GlyphRenderer\"}],\"title\":{\"id\":\"bd76b7f0-bcf0-4900-a34a-72ce5d4e561c\",\"type\":\"Title\"},\"tool_events\":{\"id\":\"c0eeeacb-b406-4878-85cd-d571aefdee52\",\"type\":\"ToolEvents\"},\"toolbar\":{\"id\":\"2c962869-dc3f-40d5-9224-2d1a7cd326de\",\"type\":\"Toolbar\"},\"x_range\":{\"id\":\"2f15dc08-a4ed-48cf-858d-e1586288edaf\",\"type\":\"DataRange1d\"},\"y_range\":{\"id\":\"538549d6-d1c2-4163-835c-1115a74d906a\",\"type\":\"DataRange1d\"}},\"id\":\"03cdf349-3c26-4a98-84d6-35048e931042\",\"subtype\":\"Figure\",\"type\":\"Plot\"},{\"attributes\":{\"data_source\":{\"id\":\"d08f0cea-af81-48af-a5fa-ef2e2c4a7c4d\",\"type\":\"ColumnDataSource\"},\"glyph\":{\"id\":\"43ee5b19-d24f-4f6d-bd28-61e0437c0454\",\"type\":\"Line\"},\"hover_glyph\":null,\"nonselection_glyph\":{\"id\":\"70d663f3-faca-4540-abee-bc18845b2a94\",\"type\":\"Line\"},\"selection_glyph\":null},\"id\":\"898e9ad2-63a0-45a7-91c4-7e8505a12c3b\",\"type\":\"GlyphRenderer\"},{\"attributes\":{\"plot\":{\"id\":\"03cdf349-3c26-4a98-84d6-35048e931042\",\"subtype\":\"Figure\",\"type\":\"Plot\"}},\"id\":\"3a09605c-0107-484a-8b46-5b36052c9d6f\",\"type\":\"SaveTool\"},{\"attributes\":{\"line_color\":{\"value\":\"red\"},\"line_dash\":[6],\"x\":{\"field\":\"x\"},\"y\":{\"field\":\"y\"}},\"id\":\"ce162bc3-4cec-4f67-bec2-8468ec5c00f0\",\"type\":\"Line\"},{\"attributes\":{\"bottom_units\":\"screen\",\"fill_alpha\":{\"value\":0.5},\"fill_color\":{\"value\":\"lightgrey\"},\"left_units\":\"screen\",\"level\":\"overlay\",\"line_alpha\":{\"value\":1.0},\"line_color\":{\"value\":\"black\"},\"line_dash\":[4,4],\"line_width\":{\"value\":2},\"plot\":null,\"render_mode\":\"css\",\"right_units\":\"screen\",\"top_units\":\"screen\"},\"id\":\"289ea79f-3d0a-4ce0-bc7c-de5976fa9735\",\"type\":\"BoxAnnotation\"},{\"attributes\":{\"data_source\":{\"id\":\"de84957c-70f7-4d8e-a816-35ab666c8cf7\",\"type\":\"ColumnDataSource\"},\"glyph\":{\"id\":\"ce162bc3-4cec-4f67-bec2-8468ec5c00f0\",\"type\":\"Line\"},\"hover_glyph\":null,\"nonselection_glyph\":{\"id\":\"a5580e8a-5d3a-4062-872b-54bcab793340\",\"type\":\"Line\"},\"selection_glyph\":null},\"id\":\"5f755248-258e-4abe-99d5-5df1d40f90e0\",\"type\":\"GlyphRenderer\"}],\"root_ids\":[\"03cdf349-3c26-4a98-84d6-35048e931042\"]},\"title\":\"Bokeh Application\",\"version\":\"0.12.1\"}};\n",
       "            var render_items = [{\"docid\":\"daf76803-0e9a-43bc-90bf-4031e7c0ba03\",\"elementid\":\"1b249c75-bab3-4b6c-a36c-d86ffd4cf568\",\"modelid\":\"03cdf349-3c26-4a98-84d6-35048e931042\",\"notebook_comms_target\":\"397a050f-3fd4-4f6f-826b-38f5d0b7a7ac\"}];\n",
       "            \n",
       "            Bokeh.embed.embed_items(docs_json, render_items);\n",
       "        });\n",
       "      },\n",
       "      function(Bokeh) {\n",
       "      }\n",
       "    ];\n",
       "  \n",
       "    function run_inline_js() {\n",
       "      for (var i = 0; i < inline_js.length; i++) {\n",
       "        inline_js[i](window.Bokeh);\n",
       "      }\n",
       "    }\n",
       "  \n",
       "    if (window._bokeh_is_loading === 0) {\n",
       "      console.log(\"Bokeh: BokehJS loaded, going straight to plotting\");\n",
       "      run_inline_js();\n",
       "    } else {\n",
       "      load_libs(js_urls, function() {\n",
       "        console.log(\"Bokeh: BokehJS plotting callback run at\", now());\n",
       "        run_inline_js();\n",
       "      });\n",
       "    }\n",
       "  }(this));\n",
       "</script>"
      ]
     },
     "metadata": {},
     "output_type": "display_data"
    },
    {
     "data": {
      "text/plain": [
       "<bokeh.plotting.figure.Figure at 0x25b13a5dba8>"
      ]
     },
     "execution_count": 15,
     "metadata": {},
     "output_type": "execute_result"
    }
   ],
   "source": [
    "#Measurements with 10% relative uncertainties:\n",
    "relative_factor = 0.1 \n",
    "\n",
    "#Measured values\n",
    "q1m=1e-6\n",
    "q2m=2e-5\n",
    "rm=0.1\n",
    "\n",
    "#Convert to Measurement objects\n",
    "q1 = q.Measurement(q1m,relative_factor*q1m)\n",
    "q2 = q.Measurement(q2m,relative_factor*q2m)\n",
    "r = q.Measurement(rm,relative_factor*rm)\n",
    "#Coulomb's constant:\n",
    "k = 9e9 \n",
    "\n",
    "#Define the Force:\n",
    "F = k*q1*q2/r**2\n",
    "\n",
    "#Print out the different errors\n",
    "q.set_error_method(\"derivative\")\n",
    "print(\"Derivative method, F = \",F)\n",
    "q.set_error_method(\"minmax\")\n",
    "print(\"Min-Max method, F =\", F)\n",
    "q.set_error_method(\"mc\")\n",
    "print(\"Monte Carlo method, F =\",F)\n",
    "\n",
    "F.show_MC_histogram()"
   ]
  },
  {
   "cell_type": "markdown",
   "metadata": {
    "collapsed": false
   },
   "source": [
    "## Exact derivatives\n",
    "Since QExPy needs to be able to evaluate derivatives (by using the automatic differentiation algorithm that exploits the Chain Rule), we can use QExPy to evaluate numerical derivatives exactly. That is, given a function, $f(x,y)$, QExPy can evaluate $\\frac{\\partial f(x,y)}{\\partial x}$ at a given value of $x$ and $y$.\n",
    "\n",
    "For example, if we have:\n",
    "$$x(t) = \\frac{1}{2}gt^2 $$\n",
    "\n",
    "and we have measured $t=8 \\pm 1$, we can evaluate the exact value of the derivative:\n",
    "\n",
    "$$\\frac{\\partial x(t)}{\\partial t} = \\frac{d x(t)}{d t}  = gt$$\n",
    "\n",
    "at $t=8 \\pm 1$\n"
   ]
  },
  {
   "cell_type": "code",
   "execution_count": 16,
   "metadata": {
    "collapsed": false
   },
   "outputs": [
    {
     "name": "stdout",
     "output_type": "stream",
     "text": [
      "78.48\n"
     ]
    }
   ],
   "source": [
    "t = q.Measurement(8,1)\n",
    "x = 0.5 * 9.81 * t**2\n",
    "print(x.get_derivative(t))"
   ]
  },
  {
   "cell_type": "code",
   "execution_count": null,
   "metadata": {
    "collapsed": false
   },
   "outputs": [],
   "source": []
  },
  {
   "cell_type": "code",
   "execution_count": null,
   "metadata": {
    "collapsed": true
   },
   "outputs": [],
   "source": []
  }
 ],
 "metadata": {
  "kernelspec": {
   "display_name": "Python 3",
   "language": "python",
   "name": "python3"
  },
  "language_info": {
   "codemirror_mode": {
    "name": "ipython",
    "version": 3
   },
   "file_extension": ".py",
   "mimetype": "text/x-python",
   "name": "python",
   "nbconvert_exporter": "python",
   "pygments_lexer": "ipython3",
   "version": "3.5.2"
  }
 },
 "nbformat": 4,
 "nbformat_minor": 0
}
