{
 "cells": [
  {
   "cell_type": "markdown",
   "metadata": {},
   "source": [
    "# Error Propagation with QExPy\n",
    "\n",
    "The first step is to import the error module for error propagation. We'll import it as \"e\":"
   ]
  },
  {
   "cell_type": "code",
   "execution_count": 1,
   "metadata": {
    "collapsed": false
   },
   "outputs": [
    {
     "data": {
      "text/html": [
       "\n",
       "    <div class=\"bk-root\">\n",
       "        <a href=\"http://bokeh.pydata.org\" target=\"_blank\" class=\"bk-logo bk-logo-small bk-logo-notebook\"></a>\n",
       "        <span id=\"5699533c-1ecd-4c18-bb8d-ecffc1916d73\">Loading BokehJS ...</span>\n",
       "    </div>"
      ]
     },
     "metadata": {},
     "output_type": "display_data"
    },
    {
     "data": {
      "application/javascript": [
       "\n",
       "(function(global) {\n",
       "  function now() {\n",
       "    return new Date();\n",
       "  }\n",
       "\n",
       "  var force = \"1\";\n",
       "\n",
       "  if (typeof (window._bokeh_onload_callbacks) === \"undefined\" || force !== \"\") {\n",
       "    window._bokeh_onload_callbacks = [];\n",
       "    window._bokeh_is_loading = undefined;\n",
       "  }\n",
       "\n",
       "  function run_callbacks() {\n",
       "    window._bokeh_onload_callbacks.forEach(function(callback) { callback() });\n",
       "    delete window._bokeh_onload_callbacks\n",
       "    console.info(\"Bokeh: all callbacks have finished\");\n",
       "  }\n",
       "\n",
       "  function load_libs(js_urls, callback) {\n",
       "    window._bokeh_onload_callbacks.push(callback);\n",
       "    if (window._bokeh_is_loading > 0) {\n",
       "      console.log(\"Bokeh: BokehJS is being loaded, scheduling callback at\", now());\n",
       "      return null;\n",
       "    }\n",
       "    if (js_urls == null || js_urls.length === 0) {\n",
       "      run_callbacks();\n",
       "      return null;\n",
       "    }\n",
       "    console.log(\"Bokeh: BokehJS not loaded, scheduling load and callback at\", now());\n",
       "    window._bokeh_is_loading = js_urls.length;\n",
       "    for (var i = 0; i < js_urls.length; i++) {\n",
       "      var url = js_urls[i];\n",
       "      var s = document.createElement('script');\n",
       "      s.src = url;\n",
       "      s.async = false;\n",
       "      s.onreadystatechange = s.onload = function() {\n",
       "        window._bokeh_is_loading--;\n",
       "        if (window._bokeh_is_loading === 0) {\n",
       "          console.log(\"Bokeh: all BokehJS libraries loaded\");\n",
       "          run_callbacks()\n",
       "        }\n",
       "      };\n",
       "      s.onerror = function() {\n",
       "        console.warn(\"failed to load library \" + url);\n",
       "      };\n",
       "      console.log(\"Bokeh: injecting script tag for BokehJS library: \", url);\n",
       "      document.getElementsByTagName(\"head\")[0].appendChild(s);\n",
       "    }\n",
       "  };\n",
       "\n",
       "  var js_urls = ['https://cdn.pydata.org/bokeh/release/bokeh-0.12.1.min.js', 'https://cdn.pydata.org/bokeh/release/bokeh-widgets-0.12.1.min.js', 'https://cdn.pydata.org/bokeh/release/bokeh-compiler-0.12.1.min.js'];\n",
       "\n",
       "  var inline_js = [\n",
       "    function(Bokeh) {\n",
       "      Bokeh.set_log_level(\"info\");\n",
       "    },\n",
       "    \n",
       "    function(Bokeh) {\n",
       "      \n",
       "      Bokeh.$(\"#5699533c-1ecd-4c18-bb8d-ecffc1916d73\").text(\"BokehJS successfully loaded\");\n",
       "      var kernel = Jupyter.notebook.kernel\n",
       "      if (kernel.execute !== undefined) {\n",
       "          kernel.execute(\"import bokeh.io; bokeh.io._nb_loaded = True\");\n",
       "      }\n",
       "    },\n",
       "    function(Bokeh) {\n",
       "      console.log(\"Bokeh: injecting CSS: https://cdn.pydata.org/bokeh/release/bokeh-0.12.1.min.css\");\n",
       "      Bokeh.embed.inject_css(\"https://cdn.pydata.org/bokeh/release/bokeh-0.12.1.min.css\");\n",
       "      console.log(\"Bokeh: injecting CSS: https://cdn.pydata.org/bokeh/release/bokeh-widgets-0.12.1.min.css\");\n",
       "      Bokeh.embed.inject_css(\"https://cdn.pydata.org/bokeh/release/bokeh-widgets-0.12.1.min.css\");\n",
       "    }\n",
       "  ];\n",
       "\n",
       "  function run_inline_js() {\n",
       "    for (var i = 0; i < inline_js.length; i++) {\n",
       "      inline_js[i](window.Bokeh);\n",
       "    }\n",
       "  }\n",
       "\n",
       "  if (window._bokeh_is_loading === 0) {\n",
       "    console.log(\"Bokeh: BokehJS loaded, going straight to plotting\");\n",
       "    run_inline_js();\n",
       "  } else {\n",
       "    load_libs(js_urls, function() {\n",
       "      console.log(\"Bokeh: BokehJS plotting callback run at\", now());\n",
       "      run_inline_js();\n",
       "    });\n",
       "  }\n",
       "}(this));"
      ]
     },
     "metadata": {},
     "output_type": "display_data"
    }
   ],
   "source": [
    "import qexpy as q\n"
   ]
  },
  {
   "cell_type": "markdown",
   "metadata": {},
   "source": [
    "Next, we'll declare two measured values, x and y, with uncertainties, and print them out. We use the Measurement object from the qexpy.error package:"
   ]
  },
  {
   "cell_type": "code",
   "execution_count": 2,
   "metadata": {
    "collapsed": false,
    "scrolled": true
   },
   "outputs": [
    {
     "name": "stdout",
     "output_type": "stream",
     "text": [
      "x = 10 +/- 1\n",
      "y = 5 +/- 3\n"
     ]
    }
   ],
   "source": [
    "#Our two measured values:\n",
    "x = q.Measurement(10,1)\n",
    "y = q.Measurement(5,3)\n",
    "\n",
    "#We can print them out:\n",
    "print(\"x =\",x)\n",
    "print(\"y =\",y)\n",
    "#x.set_correlation(y,0.3)"
   ]
  },
  {
   "cell_type": "markdown",
   "metadata": {},
   "source": [
    "We can declare a third object, z, which depends on x and y. The uncertainty in x and y will be correctly propagated to z, so once we have defined z, we can simply print it out with the correct uncertainty:"
   ]
  },
  {
   "cell_type": "code",
   "execution_count": 3,
   "metadata": {
    "collapsed": false
   },
   "outputs": [
    {
     "name": "stdout",
     "output_type": "stream",
     "text": [
      "z = 15 +/- 3\n"
     ]
    }
   ],
   "source": [
    "#We define z\n",
    "z = x+y\n",
    "#z can now be printed out\n",
    "print(\"z =\",z)"
   ]
  },
  {
   "cell_type": "markdown",
   "metadata": {},
   "source": [
    "Note how the uncertainties have been kept to 1 significant figure. In this case, the error in z was obtained by adding the errors in x and y in quadrature. We can change the number of significant figures to confirm that the errors were indeed added in quadrature. We can choose between setting  the number of significant figures based on the uncertainty (more common) or based on the central value."
   ]
  },
  {
   "cell_type": "code",
   "execution_count": 4,
   "metadata": {
    "collapsed": false
   },
   "outputs": [
    {
     "name": "stdout",
     "output_type": "stream",
     "text": [
      "z = 15.000 +/- 3.162\n"
     ]
    }
   ],
   "source": [
    "q.set_sigfigs_error(4) # set sigfigs based on the error\n",
    "print(\"z =\",z)"
   ]
  },
  {
   "cell_type": "markdown",
   "metadata": {},
   "source": [
    "Let's compare the error in z to what the errors in x and y are when added manually in quadrature. We need to import the sqrt() function from the math package to apply mathematical functions to numbers:"
   ]
  },
  {
   "cell_type": "code",
   "execution_count": 5,
   "metadata": {
    "collapsed": false
   },
   "outputs": [
    {
     "name": "stdout",
     "output_type": "stream",
     "text": [
      "3.1622776601683795\n"
     ]
    }
   ],
   "source": [
    "import math as m\n",
    "quadrature = m.sqrt(x.std**2+y.std**2)\n",
    "print(quadrature)"
   ]
  },
  {
   "cell_type": "markdown",
   "metadata": {},
   "source": [
    "## Math functions\n",
    "We can propagate the uncertainties through any operator (+,-,\\*,/) automatically as we showed above. QExPy also knows how to propagate the uncertainty through common mathematical functions. To use mathematical functions on Measurement objects, we need to call the functions from the QExPy package (as opposed to the math package as we did above for 2 numbers)."
   ]
  },
  {
   "cell_type": "code",
   "execution_count": 6,
   "metadata": {
    "collapsed": false
   },
   "outputs": [
    {
     "name": "stdout",
     "output_type": "stream",
     "text": [
      "time =  1.277102 +/- 0.007982 seconds\n"
     ]
    }
   ],
   "source": [
    "#If an object fell a distance of 8.0 +/0.1 m, how long did it take to fall?\n",
    "y = q.Measurement(8,0.1)\n",
    "g = 9.81\n",
    "t = q.sqrt(2*y/g)\n",
    "print(\"time = \",t, \"seconds\")"
   ]
  },
  {
   "cell_type": "markdown",
   "metadata": {},
   "source": [
    "## Error in correlated quantities\n",
    "If we have two measurements, x and y, that are correlated, then their correlation factor will impact the uncertainty on a quantity that depends on them:"
   ]
  },
  {
   "cell_type": "code",
   "execution_count": 7,
   "metadata": {
    "collapsed": false
   },
   "outputs": [
    {
     "name": "stdout",
     "output_type": "stream",
     "text": [
      "x and y uncorrelated: z= 15.000 +/- 3.162\n",
      "x and y positively correlated: z= 15.000 +/- 3.606\n",
      "x and y negatively correlated: z= 15.000 +/- 2.646\n"
     ]
    }
   ],
   "source": [
    "x = q.Measurement(10,1)\n",
    "y = q.Measurement(5,3)\n",
    "z = x+y\n",
    "print(\"x and y uncorrelated: z=\",z)\n",
    "\n",
    "#Now set a correlation factor between x and y:\n",
    "x.set_correlation(y,0.5)\n",
    "z = x+y\n",
    "print(\"x and y positively correlated: z=\",z)\n",
    "\n",
    "#We can also use the covariance factor instead of the correlation factor:\n",
    "x.set_covariance(y,-1.5)\n",
    "z = x+y\n",
    "print(\"x and y negatively correlated: z=\",z)"
   ]
  },
  {
   "cell_type": "markdown",
   "metadata": {},
   "source": [
    "If we don't specify any correlation factors, then all quantities are assumed to be independent. However, a quantity should not be independent from itself, so QExPy knows how to track the correlation in quantities that depend on common quantities. "
   ]
  },
  {
   "cell_type": "code",
   "execution_count": 8,
   "metadata": {
    "collapsed": false
   },
   "outputs": [
    {
     "name": "stdout",
     "output_type": "stream",
     "text": [
      "0.000 +/- 0.000\n"
     ]
    }
   ],
   "source": [
    "x = q.Measurement(10,1)\n",
    "y = x*x\n",
    "z = x*x - y #this should be 0 +/- 0, since it's really x^2 - x^2 \n",
    "print(z)"
   ]
  },
  {
   "cell_type": "markdown",
   "metadata": {
    "collapsed": true
   },
   "source": [
    "## Statistical measurements\n",
    "QExPy can also handle the case when you have repeated measurements of a single quantity and you want to average them together. Suppose that you have measured 5 values of some quantity T. QExPy will automatically assume that those values should be averaged together so that T is given by the mean of the measured values with an uncertainty given by the standard deviation of the values.\n"
   ]
  },
  {
   "cell_type": "code",
   "execution_count": 9,
   "metadata": {
    "collapsed": false
   },
   "outputs": [
    {
     "name": "stdout",
     "output_type": "stream",
     "text": [
      "5.3000 +/- 0.5431\n"
     ]
    }
   ],
   "source": [
    "T=q.Measurement( [5.6, 4.8, 6.1, 4.9, 5.1 ] )\n",
    "print(T)"
   ]
  },
  {
   "cell_type": "markdown",
   "metadata": {},
   "source": [
    "T can be used just as any other measurement with uncertainties, and its error will be propagate correctly:"
   ]
  },
  {
   "cell_type": "code",
   "execution_count": 10,
   "metadata": {
    "collapsed": false
   },
   "outputs": [
    {
     "name": "stdout",
     "output_type": "stream",
     "text": [
      "1.1849 +/- 0.1214\n"
     ]
    }
   ],
   "source": [
    "omega = 2*3.14/T\n",
    "print(omega)"
   ]
  },
  {
   "cell_type": "markdown",
   "metadata": {},
   "source": [
    "If we have measured many values, it can sometimes be useful to visualize those measurements in a histogram. QExPy will automatically create a histogram of the values, showing lines corresponding to the mean and the range covered by one standard deviation"
   ]
  },
  {
   "cell_type": "code",
   "execution_count": 11,
   "metadata": {
    "collapsed": false
   },
   "outputs": [
    {
     "data": {
      "text/html": [
       "\n",
       "\n",
       "    <div class=\"bk-root\">\n",
       "        <div class=\"plotdiv\" id=\"c7a91e57-e755-4b54-b75c-e077b7d03107\"></div>\n",
       "    </div>\n",
       "<script type=\"text/javascript\">\n",
       "  \n",
       "  (function(global) {\n",
       "    function now() {\n",
       "      return new Date();\n",
       "    }\n",
       "  \n",
       "    var force = \"\";\n",
       "  \n",
       "    if (typeof (window._bokeh_onload_callbacks) === \"undefined\" || force !== \"\") {\n",
       "      window._bokeh_onload_callbacks = [];\n",
       "      window._bokeh_is_loading = undefined;\n",
       "    }\n",
       "  \n",
       "    function run_callbacks() {\n",
       "      window._bokeh_onload_callbacks.forEach(function(callback) { callback() });\n",
       "      delete window._bokeh_onload_callbacks\n",
       "      console.info(\"Bokeh: all callbacks have finished\");\n",
       "    }\n",
       "  \n",
       "    function load_libs(js_urls, callback) {\n",
       "      window._bokeh_onload_callbacks.push(callback);\n",
       "      if (window._bokeh_is_loading > 0) {\n",
       "        console.log(\"Bokeh: BokehJS is being loaded, scheduling callback at\", now());\n",
       "        return null;\n",
       "      }\n",
       "      if (js_urls == null || js_urls.length === 0) {\n",
       "        run_callbacks();\n",
       "        return null;\n",
       "      }\n",
       "      console.log(\"Bokeh: BokehJS not loaded, scheduling load and callback at\", now());\n",
       "      window._bokeh_is_loading = js_urls.length;\n",
       "      for (var i = 0; i < js_urls.length; i++) {\n",
       "        var url = js_urls[i];\n",
       "        var s = document.createElement('script');\n",
       "        s.src = url;\n",
       "        s.async = false;\n",
       "        s.onreadystatechange = s.onload = function() {\n",
       "          window._bokeh_is_loading--;\n",
       "          if (window._bokeh_is_loading === 0) {\n",
       "            console.log(\"Bokeh: all BokehJS libraries loaded\");\n",
       "            run_callbacks()\n",
       "          }\n",
       "        };\n",
       "        s.onerror = function() {\n",
       "          console.warn(\"failed to load library \" + url);\n",
       "        };\n",
       "        console.log(\"Bokeh: injecting script tag for BokehJS library: \", url);\n",
       "        document.getElementsByTagName(\"head\")[0].appendChild(s);\n",
       "      }\n",
       "    };var element = document.getElementById(\"c7a91e57-e755-4b54-b75c-e077b7d03107\");\n",
       "    if (element == null) {\n",
       "      console.log(\"Bokeh: ERROR: autoload.js configured with elementid 'c7a91e57-e755-4b54-b75c-e077b7d03107' but no matching script tag was found. \")\n",
       "      return false;\n",
       "    }\n",
       "  \n",
       "    var js_urls = [];\n",
       "  \n",
       "    var inline_js = [\n",
       "      function(Bokeh) {\n",
       "        Bokeh.$(function() {\n",
       "            var docs_json = {\"bea7d673-5998-4ff3-8ff8-426a4e041f9c\":{\"roots\":{\"references\":[{\"attributes\":{\"plot\":{\"id\":\"69576e5b-fec2-4bff-a9a9-2f958af09799\",\"subtype\":\"Figure\",\"type\":\"Plot\"},\"ticker\":{\"id\":\"cb0b6e75-732f-4ad8-90e4-00d041aa5fa0\",\"type\":\"BasicTicker\"}},\"id\":\"0cfebda5-11ac-4509-b2d5-fb55d9174571\",\"type\":\"Grid\"},{\"attributes\":{\"active_drag\":\"auto\",\"active_scroll\":\"auto\",\"active_tap\":\"auto\",\"tools\":[{\"id\":\"d3e4c559-1587-4b0a-9766-df449d7e46c2\",\"type\":\"SaveTool\"},{\"id\":\"6c946132-678e-4687-bb9a-7b439dacbac7\",\"type\":\"PanTool\"},{\"id\":\"4773c3ab-9574-4d29-b1ec-d9d0e9ffb347\",\"type\":\"BoxZoomTool\"},{\"id\":\"1fa55665-8ece-49e7-b503-46a4719cb641\",\"type\":\"WheelZoomTool\"},{\"id\":\"4f1eb506-d01d-49a8-9112-890e655b134f\",\"type\":\"ResetTool\"}]},\"id\":\"3a77cff8-7697-4d4d-b367-b5c2f39a21bd\",\"type\":\"Toolbar\"},{\"attributes\":{\"formatter\":{\"id\":\"0c54ade6-a4ce-4b15-95e3-dc31f33fd9eb\",\"type\":\"BasicTickFormatter\"},\"plot\":{\"id\":\"69576e5b-fec2-4bff-a9a9-2f958af09799\",\"subtype\":\"Figure\",\"type\":\"Plot\"},\"ticker\":{\"id\":\"bc76e477-8ca3-4408-b3e4-2e8d48da4a2c\",\"type\":\"BasicTicker\"}},\"id\":\"ae6cc609-87e4-4674-b94b-c8257fd9dad2\",\"type\":\"LinearAxis\"},{\"attributes\":{},\"id\":\"0c54ade6-a4ce-4b15-95e3-dc31f33fd9eb\",\"type\":\"BasicTickFormatter\"},{\"attributes\":{\"callback\":null},\"id\":\"78fc5802-dbfb-450b-81a5-0cce9c777660\",\"type\":\"DataRange1d\"},{\"attributes\":{\"bottom_units\":\"screen\",\"fill_alpha\":{\"value\":0.5},\"fill_color\":{\"value\":\"lightgrey\"},\"left_units\":\"screen\",\"level\":\"overlay\",\"line_alpha\":{\"value\":1.0},\"line_color\":{\"value\":\"black\"},\"line_dash\":[4,4],\"line_width\":{\"value\":2},\"plot\":null,\"render_mode\":\"css\",\"right_units\":\"screen\",\"top_units\":\"screen\"},\"id\":\"76229807-0e41-4684-b71d-e27640235d1a\",\"type\":\"BoxAnnotation\"},{\"attributes\":{\"dimension\":1,\"plot\":{\"id\":\"69576e5b-fec2-4bff-a9a9-2f958af09799\",\"subtype\":\"Figure\",\"type\":\"Plot\"},\"ticker\":{\"id\":\"bc76e477-8ca3-4408-b3e4-2e8d48da4a2c\",\"type\":\"BasicTicker\"}},\"id\":\"77deff6d-741d-4254-a686-d0063456d307\",\"type\":\"Grid\"},{\"attributes\":{\"plot\":{\"id\":\"69576e5b-fec2-4bff-a9a9-2f958af09799\",\"subtype\":\"Figure\",\"type\":\"Plot\"}},\"id\":\"6c946132-678e-4687-bb9a-7b439dacbac7\",\"type\":\"PanTool\"},{\"attributes\":{\"callback\":null,\"column_names\":[\"y\",\"x\"],\"data\":{\"x\":[5.843139024560011,5.843139024560011],\"y\":[0,1]}},\"id\":\"0585ff05-4b5c-42d1-8d07-c59292871cdb\",\"type\":\"ColumnDataSource\"},{\"attributes\":{},\"id\":\"bc76e477-8ca3-4408-b3e4-2e8d48da4a2c\",\"type\":\"BasicTicker\"},{\"attributes\":{\"overlay\":{\"id\":\"76229807-0e41-4684-b71d-e27640235d1a\",\"type\":\"BoxAnnotation\"},\"plot\":{\"id\":\"69576e5b-fec2-4bff-a9a9-2f958af09799\",\"subtype\":\"Figure\",\"type\":\"Plot\"}},\"id\":\"4773c3ab-9574-4d29-b1ec-d9d0e9ffb347\",\"type\":\"BoxZoomTool\"},{\"attributes\":{\"data_source\":{\"id\":\"ccce14ea-9072-464e-a102-cddeb3d17bdd\",\"type\":\"ColumnDataSource\"},\"glyph\":{\"id\":\"c114b882-d2b3-4148-b65f-4d02354d4d2f\",\"type\":\"Line\"},\"hover_glyph\":null,\"nonselection_glyph\":{\"id\":\"6ec796ef-f8d8-4cf4-bb8e-0bc8157c1c7d\",\"type\":\"Line\"},\"selection_glyph\":null},\"id\":\"224b570c-b9b4-4e56-a994-c80eff73b4fc\",\"type\":\"GlyphRenderer\"},{\"attributes\":{\"data_source\":{\"id\":\"51c95c29-a3b7-4118-bc26-a353b90c6cc4\",\"type\":\"ColumnDataSource\"},\"glyph\":{\"id\":\"95b289da-c466-46f4-8158-0845824f6e5d\",\"type\":\"Line\"},\"hover_glyph\":null,\"nonselection_glyph\":{\"id\":\"ffd98b30-1e3a-4049-81b5-c6848f2842f3\",\"type\":\"Line\"},\"selection_glyph\":null},\"id\":\"ad43b086-013e-4799-a3c9-0cb72277ffc3\",\"type\":\"GlyphRenderer\"},{\"attributes\":{},\"id\":\"cb0b6e75-732f-4ad8-90e4-00d041aa5fa0\",\"type\":\"BasicTicker\"},{\"attributes\":{\"line_alpha\":{\"value\":0.1},\"line_color\":{\"value\":\"#1f77b4\"},\"x\":{\"field\":\"x\"},\"y\":{\"field\":\"y\"}},\"id\":\"6ec796ef-f8d8-4cf4-bb8e-0bc8157c1c7d\",\"type\":\"Line\"},{\"attributes\":{\"plot\":{\"id\":\"69576e5b-fec2-4bff-a9a9-2f958af09799\",\"subtype\":\"Figure\",\"type\":\"Plot\"}},\"id\":\"4f1eb506-d01d-49a8-9112-890e655b134f\",\"type\":\"ResetTool\"},{\"attributes\":{\"bottom\":{\"value\":0},\"fill_color\":{\"value\":\"#036564\"},\"left\":{\"field\":\"left\"},\"line_color\":{\"value\":\"#033649\"},\"right\":{\"field\":\"right\"},\"top\":{\"field\":\"top\"}},\"id\":\"0476371d-4233-4818-948d-a542f4a6f3a2\",\"type\":\"Quad\"},{\"attributes\":{\"callback\":null,\"column_names\":[\"top\",\"right\",\"left\"],\"data\":{\"left\":[4.8,4.826,4.851999999999999,4.878,4.904,4.93,4.9559999999999995,4.982,5.008,5.034,5.06,5.085999999999999,5.112,5.138,5.164,5.1899999999999995,5.215999999999999,5.242,5.268,5.294,5.319999999999999,5.346,5.372,5.398,5.4239999999999995,5.449999999999999,5.476,5.502,5.528,5.553999999999999,5.58,5.606,5.632,5.6579999999999995,5.683999999999999,5.71,5.736,5.762,5.787999999999999,5.814,5.84,5.866,5.8919999999999995,5.917999999999999,5.943999999999999,5.97,5.9959999999999996,6.021999999999999,6.048,6.074],\"right\":[4.826,4.851999999999999,4.878,4.904,4.93,4.9559999999999995,4.982,5.008,5.034,5.06,5.085999999999999,5.112,5.138,5.164,5.1899999999999995,5.215999999999999,5.242,5.268,5.294,5.319999999999999,5.346,5.372,5.398,5.4239999999999995,5.449999999999999,5.476,5.502,5.528,5.553999999999999,5.58,5.606,5.632,5.6579999999999995,5.683999999999999,5.71,5.736,5.762,5.787999999999999,5.814,5.84,5.866,5.8919999999999995,5.917999999999999,5.943999999999999,5.97,5.9959999999999996,6.021999999999999,6.048,6.074,6.1],\"top\":[1,0,0,1,0,0,0,0,0,0,0,1,0,0,0,0,0,0,0,0,0,0,0,0,0,0,0,0,0,0,1,0,0,0,0,0,0,0,0,0,0,0,0,0,0,0,0,0,0,1]}},\"id\":\"8e19c7e9-abdc-4fd1-92b0-d9e5665543a0\",\"type\":\"ColumnDataSource\"},{\"attributes\":{\"data_source\":{\"id\":\"8e19c7e9-abdc-4fd1-92b0-d9e5665543a0\",\"type\":\"ColumnDataSource\"},\"glyph\":{\"id\":\"0476371d-4233-4818-948d-a542f4a6f3a2\",\"type\":\"Quad\"},\"hover_glyph\":null,\"nonselection_glyph\":{\"id\":\"7ab2c2e3-a6bb-4b08-bf5d-1330dc9eebf9\",\"type\":\"Quad\"},\"selection_glyph\":null},\"id\":\"a9378632-c2da-44fc-86a8-c30e979b6037\",\"type\":\"GlyphRenderer\"},{\"attributes\":{\"plot\":{\"id\":\"69576e5b-fec2-4bff-a9a9-2f958af09799\",\"subtype\":\"Figure\",\"type\":\"Plot\"}},\"id\":\"1fa55665-8ece-49e7-b503-46a4719cb641\",\"type\":\"WheelZoomTool\"},{\"attributes\":{\"line_color\":{\"value\":\"red\"},\"line_dash\":[6],\"x\":{\"field\":\"x\"},\"y\":{\"field\":\"y\"}},\"id\":\"0b089654-a715-47cb-a864-3b3717ba9d6c\",\"type\":\"Line\"},{\"attributes\":{\"formatter\":{\"id\":\"28694a7f-22f2-4449-9552-363abd752e9d\",\"type\":\"BasicTickFormatter\"},\"plot\":{\"id\":\"69576e5b-fec2-4bff-a9a9-2f958af09799\",\"subtype\":\"Figure\",\"type\":\"Plot\"},\"ticker\":{\"id\":\"cb0b6e75-732f-4ad8-90e4-00d041aa5fa0\",\"type\":\"BasicTicker\"}},\"id\":\"52dfe7c7-9d77-4d9c-b332-847d936c0fba\",\"type\":\"LinearAxis\"},{\"attributes\":{\"line_color\":{\"value\":\"red\"},\"x\":{\"field\":\"x\"},\"y\":{\"field\":\"y\"}},\"id\":\"c114b882-d2b3-4148-b65f-4d02354d4d2f\",\"type\":\"Line\"},{\"attributes\":{\"background_fill_color\":{\"value\":\"#FFFFFF\"},\"below\":[{\"id\":\"52dfe7c7-9d77-4d9c-b332-847d936c0fba\",\"type\":\"LinearAxis\"}],\"left\":[{\"id\":\"ae6cc609-87e4-4674-b94b-c8257fd9dad2\",\"type\":\"LinearAxis\"}],\"renderers\":[{\"id\":\"52dfe7c7-9d77-4d9c-b332-847d936c0fba\",\"type\":\"LinearAxis\"},{\"id\":\"0cfebda5-11ac-4509-b2d5-fb55d9174571\",\"type\":\"Grid\"},{\"id\":\"ae6cc609-87e4-4674-b94b-c8257fd9dad2\",\"type\":\"LinearAxis\"},{\"id\":\"77deff6d-741d-4254-a686-d0063456d307\",\"type\":\"Grid\"},{\"id\":\"76229807-0e41-4684-b71d-e27640235d1a\",\"type\":\"BoxAnnotation\"},{\"id\":\"a9378632-c2da-44fc-86a8-c30e979b6037\",\"type\":\"GlyphRenderer\"},{\"id\":\"224b570c-b9b4-4e56-a994-c80eff73b4fc\",\"type\":\"GlyphRenderer\"},{\"id\":\"ad43b086-013e-4799-a3c9-0cb72277ffc3\",\"type\":\"GlyphRenderer\"},{\"id\":\"911f18a4-1ed5-4df5-a5fa-659b3f351e71\",\"type\":\"GlyphRenderer\"}],\"title\":{\"id\":\"cf9587aa-91de-47dc-8186-f2d14e240c78\",\"type\":\"Title\"},\"tool_events\":{\"id\":\"5ad65328-18e0-4938-af36-d7ab3bf671c5\",\"type\":\"ToolEvents\"},\"toolbar\":{\"id\":\"3a77cff8-7697-4d4d-b367-b5c2f39a21bd\",\"type\":\"Toolbar\"},\"x_range\":{\"id\":\"78fc5802-dbfb-450b-81a5-0cce9c777660\",\"type\":\"DataRange1d\"},\"y_range\":{\"id\":\"4156143c-9633-4f04-b63c-c1cc82492719\",\"type\":\"DataRange1d\"}},\"id\":\"69576e5b-fec2-4bff-a9a9-2f958af09799\",\"subtype\":\"Figure\",\"type\":\"Plot\"},{\"attributes\":{\"data_source\":{\"id\":\"0585ff05-4b5c-42d1-8d07-c59292871cdb\",\"type\":\"ColumnDataSource\"},\"glyph\":{\"id\":\"0b089654-a715-47cb-a864-3b3717ba9d6c\",\"type\":\"Line\"},\"hover_glyph\":null,\"nonselection_glyph\":{\"id\":\"92774f2e-f98a-43ec-80be-10f5cb459d41\",\"type\":\"Line\"},\"selection_glyph\":null},\"id\":\"911f18a4-1ed5-4df5-a5fa-659b3f351e71\",\"type\":\"GlyphRenderer\"},{\"attributes\":{\"plot\":null,\"text\":\"unnamed_var6 Histogram\"},\"id\":\"cf9587aa-91de-47dc-8186-f2d14e240c78\",\"type\":\"Title\"},{\"attributes\":{\"bottom\":{\"value\":0},\"fill_alpha\":{\"value\":0.1},\"fill_color\":{\"value\":\"#1f77b4\"},\"left\":{\"field\":\"left\"},\"line_alpha\":{\"value\":0.1},\"line_color\":{\"value\":\"#1f77b4\"},\"right\":{\"field\":\"right\"},\"top\":{\"field\":\"top\"}},\"id\":\"7ab2c2e3-a6bb-4b08-bf5d-1330dc9eebf9\",\"type\":\"Quad\"},{\"attributes\":{\"callback\":null,\"column_names\":[\"x\",\"y\"],\"data\":{\"x\":[5.3,5.3],\"y\":[0.0,1.1]}},\"id\":\"ccce14ea-9072-464e-a102-cddeb3d17bdd\",\"type\":\"ColumnDataSource\"},{\"attributes\":{\"plot\":{\"id\":\"69576e5b-fec2-4bff-a9a9-2f958af09799\",\"subtype\":\"Figure\",\"type\":\"Plot\"}},\"id\":\"d3e4c559-1587-4b0a-9766-df449d7e46c2\",\"type\":\"SaveTool\"},{\"attributes\":{\"callback\":null,\"column_names\":[\"y\",\"x\"],\"data\":{\"x\":[4.756860975439989,4.756860975439989],\"y\":[0,1]}},\"id\":\"51c95c29-a3b7-4118-bc26-a353b90c6cc4\",\"type\":\"ColumnDataSource\"},{\"attributes\":{},\"id\":\"28694a7f-22f2-4449-9552-363abd752e9d\",\"type\":\"BasicTickFormatter\"},{\"attributes\":{\"line_alpha\":{\"value\":0.1},\"line_color\":{\"value\":\"#1f77b4\"},\"line_dash\":[6],\"x\":{\"field\":\"x\"},\"y\":{\"field\":\"y\"}},\"id\":\"92774f2e-f98a-43ec-80be-10f5cb459d41\",\"type\":\"Line\"},{\"attributes\":{\"line_color\":{\"value\":\"red\"},\"line_dash\":[6],\"x\":{\"field\":\"x\"},\"y\":{\"field\":\"y\"}},\"id\":\"95b289da-c466-46f4-8158-0845824f6e5d\",\"type\":\"Line\"},{\"attributes\":{\"line_alpha\":{\"value\":0.1},\"line_color\":{\"value\":\"#1f77b4\"},\"line_dash\":[6],\"x\":{\"field\":\"x\"},\"y\":{\"field\":\"y\"}},\"id\":\"ffd98b30-1e3a-4049-81b5-c6848f2842f3\",\"type\":\"Line\"},{\"attributes\":{\"callback\":null},\"id\":\"4156143c-9633-4f04-b63c-c1cc82492719\",\"type\":\"DataRange1d\"},{\"attributes\":{},\"id\":\"5ad65328-18e0-4938-af36-d7ab3bf671c5\",\"type\":\"ToolEvents\"}],\"root_ids\":[\"69576e5b-fec2-4bff-a9a9-2f958af09799\"]},\"title\":\"Bokeh Application\",\"version\":\"0.12.1\"}};\n",
       "            var render_items = [{\"docid\":\"bea7d673-5998-4ff3-8ff8-426a4e041f9c\",\"elementid\":\"c7a91e57-e755-4b54-b75c-e077b7d03107\",\"modelid\":\"69576e5b-fec2-4bff-a9a9-2f958af09799\",\"notebook_comms_target\":\"994b05cf-c40f-48b5-858e-520043aa0bf6\"}];\n",
       "            \n",
       "            Bokeh.embed.embed_items(docs_json, render_items);\n",
       "        });\n",
       "      },\n",
       "      function(Bokeh) {\n",
       "      }\n",
       "    ];\n",
       "  \n",
       "    function run_inline_js() {\n",
       "      for (var i = 0; i < inline_js.length; i++) {\n",
       "        inline_js[i](window.Bokeh);\n",
       "      }\n",
       "    }\n",
       "  \n",
       "    if (window._bokeh_is_loading === 0) {\n",
       "      console.log(\"Bokeh: BokehJS loaded, going straight to plotting\");\n",
       "      run_inline_js();\n",
       "    } else {\n",
       "      load_libs(js_urls, function() {\n",
       "        console.log(\"Bokeh: BokehJS plotting callback run at\", now());\n",
       "        run_inline_js();\n",
       "      });\n",
       "    }\n",
       "  }(this));\n",
       "</script>"
      ]
     },
     "metadata": {},
     "output_type": "display_data"
    },
    {
     "data": {
      "text/plain": [
       "<bokeh.plotting.figure.Figure at 0x1debd0a9748>"
      ]
     },
     "execution_count": 11,
     "metadata": {},
     "output_type": "execute_result"
    }
   ],
   "source": [
    "T.show_histogram()"
   ]
  },
  {
   "cell_type": "markdown",
   "metadata": {},
   "source": [
    "## Multiple measurements (Arrays of Measurements)\n",
    "QExPy can also handle the case of having multiple measurements, when each measurement has its own uncertainty. For example, if you have three measurements of a single quantity, in order to get an average value, you should weight each measurement by its uncertainty (or rather the weight should be 1 over the square of the uncertainty). This is handled by the MeasurementArray class:"
   ]
  },
  {
   "cell_type": "code",
   "execution_count": 12,
   "metadata": {
    "collapsed": false
   },
   "outputs": [
    {
     "name": "stdout",
     "output_type": "stream",
     "text": [
      "g_0 = 9.8000 +/- 0.2000 [m/s^2],\n",
      "g_1 = 14.000 +/- 3.000 [m/s^2],\n",
      "g_2 = 9.9000 +/- 0.1000 [m/s^2]\n",
      "The mean is  11.2333333333\n",
      "The error weighted mean is  9.72815 +/- 0.08870\n"
     ]
    }
   ],
   "source": [
    "gvals = q.MeasurementArray([(9.8,0.2), (14,3) , (9.9,0.1)], name=\"g\", units='m/s^2') \n",
    "print(gvals)\n",
    "print(\"The mean is \",gvals.get_mean())\n",
    "print(\"The error weighted mean is \",gvals.get_error_weighted_mean())"
   ]
  },
  {
   "cell_type": "markdown",
   "metadata": {},
   "source": [
    "The MeasurementArray object truly is an array of Measurement objects, so individual measurements can be retrieved (remember that the first element in an array in python has index 0 not 1, so element 1 is the second element):"
   ]
  },
  {
   "cell_type": "code",
   "execution_count": 13,
   "metadata": {
    "collapsed": false
   },
   "outputs": [
    {
     "name": "stdout",
     "output_type": "stream",
     "text": [
      "g_1 = 14.000 +/- 3.000 [m/s^2]\n"
     ]
    }
   ],
   "source": [
    "print(gvals[1])"
   ]
  },
  {
   "cell_type": "markdown",
   "metadata": {},
   "source": [
    "## Error propagation methods\n",
    "\n",
    "### Derivative method (default)\n",
    "By default, QExPy propagates the uncertainties using the \"derivative\" method. That is, for a function, $f(x,y)$, that depends on measured quantities $x\\pm\\sigma_x$ and $y\\pm\\sigma_y$, with covariance $\\sigma_{xy}$ between the two measured quantities, the uncertainty in $f$ is given by:\n",
    "$$ \\sigma_f = \\sqrt{ \\left(\\frac{\\partial f}{\\partial x} \\sigma_x \\right)^2 + \\left(\\frac{\\partial f}{\\partial y} \\sigma_y \\right)^2 + 2 \\frac{\\partial f}{\\partial x} \\frac{\\partial f}{\\partial y}\\sigma_{xy} }$$\n",
    "\n",
    "QExPy evaluates the derivatives exactly when propagating the uncertainties using an algorithm called \"automatic differentiation\". This is possible as QExPy internally keeps track of the dependency of quantities on each other, and as an added bonus can also be used to evaluate numerical derivatives exactly. Although the derivative method is commonly taught in undergraduate laboratories, it is only valid when the relative uncertainties in the quantities being propagated are small (e.g. less than ~10% relative uncertainty). This method is thus not strongly encouraged, although it has been made the default because it is so prevalent in undergraduate teaching. \n",
    "\n",
    "\n",
    "### Min-Max method (not recommended)\n",
    "This is not the only way to propagate the uncertainty in $f$. For example, the \"Min-Max\" method, is a method to yield a more conservative (larger) estimate of the uncertainty in $f$ and is often used in introductory courses. The Min-Max method defines the central value and uncertainty in $f$ as:\n",
    "$$f=\\frac{1}{2}(f^{max}+f^{min})$$\n",
    "$$\\sigma_f=\\frac{1}{2}(f^{max}-f^{min})$$\n",
    "\n",
    "where $f^{max}$ ($f^{min}$) is the maximum (minimum) value that $f$ takes when $x$ and $y$ are varied within their uncertainty range. For example, if $f(x,y)=x+y$, then the maximum and minimum of $f$ are easily found:\n",
    "\n",
    "$$f^{max} = (x+\\sigma_x)+(y+\\sigma_y)$$\n",
    "$$f^{min} = (x-\\sigma_x)-(y-\\sigma_y)$$\n",
    "\n",
    "The Min-Max method actually requires a numerical approximation to evaluate the values of $f^{max}$ and $f^{min}$ for all but the most simple cases. Hence although it is a good method to introduce the idea of uncertainty propagation, it is not recommended to use this method in any serious calculation (it also does not take correlations into account). \n",
    "\n",
    "### Monte Carlo method (recommended!)\n",
    "Finally, the recommended method to propagate errors is the \"Monte-Carlo\" method, although it is the hardest to understand. The MC method is based on a statiscal understanding of the measurements. In the QExPy implementation, currently, the main assumptions is that the uncertainty in a quantity is given by a \"standard error\"; that is, if $x = 10\\pm 1$, then we *assume* that this error and uncertainty should be interpreted as: \"if we measure $x$ multiple times, we will obtain a set of measurements that are normally distributed with a mean of 10 and a standard deviation of 1\". In other words, we assume that $x$ has a 68% chance of being in the range between 9 and 11.\n",
    "\n",
    "\n",
    "The MC method then uses the assumption that measured quantities are normally distributed and use this to propagate the errors by using Monte Carlo simulation. Suppose that we have measured $x$ and $y$ and wish to determine the central value and uncertainty in $x=x+y$. The Monte Carlo method will generate normally distributed random values for $x$ and $y$ (the random numbers will be correctly correlated if the user has indicated that $x$ and $y$ are correlated), then it will add those random values together, to obtain a set of values for $z$. The mean and standard deviation of the random values for $z$ are taken as the central value and uncertainty in $z$. \n",
    "\n",
    "## What QExPy actually does\n",
    "Although the user appears to choose the method used to propagate the errors, QExPy always uses all three methods behind the scenes and the user only decides which method to print out. This allows QExPy to compare the results behind the scenes, in particular, to inform the users that the uncertainties using a particular method (e.g. derivative) may be inaccurate and to suggest that the user choose a different method. \n",
    "\n",
    "## Example\n",
    "Below, we illustrate an example of using the different methods to propagate the uncertainty in the Coulomb force based on the measurement of two charges, $q_1$ and $q_2$, and the distance between them, $r$. We illustrate how the derivative method does not give the correct answer if the relative uncertainties in the measured quantities are large. \n",
    "\n",
    "### 1 % relative uncertainty calculation\n"
   ]
  },
  {
   "cell_type": "code",
   "execution_count": 14,
   "metadata": {
    "collapsed": false
   },
   "outputs": [
    {
     "name": "stdout",
     "output_type": "stream",
     "text": [
      "Derivative method, F =  18.0000 +/- 0.4409\n",
      "Min-Max method, F = 18.0144 +/- 0.7202\n",
      "Monte Carlo method, F = 18.0067 +/- 0.4392\n"
     ]
    }
   ],
   "source": [
    "#Measurements with 1% relative uncertainties:\n",
    "relative_factor = 0.01 \n",
    "\n",
    "#Measured values\n",
    "q1m=1e-6\n",
    "q2m=2e-5\n",
    "rm=0.1\n",
    "\n",
    "#Convert to Measurement objects\n",
    "q1 = q.Measurement(q1m,relative_factor*q1m)\n",
    "q2 = q.Measurement(q2m,relative_factor*q2m)\n",
    "r = q.Measurement(rm,relative_factor*rm)\n",
    "#Coulomb's constant:\n",
    "k = 9e9 \n",
    "\n",
    "#Define the Force:\n",
    "F = k*q1*q2/r**2\n",
    "\n",
    "#Print out the different errors\n",
    "q.set_error_method(\"derivative\")\n",
    "print(\"Derivative method, F = \",F)\n",
    "q.set_error_method(\"minmax\")\n",
    "print(\"Min-Max method, F =\", F)\n",
    "q.set_error_method(\"mc\")\n",
    "print(\"Monte Carlo method, F =\",F)\n",
    "\n"
   ]
  },
  {
   "cell_type": "markdown",
   "metadata": {},
   "source": [
    "### 10 % relative uncertainty calculation\n",
    "We see that in this case, the Monte Carlo method returns a different uncertainty than the derivative method, because the derivative method is incorrect when the uncertainties are this large."
   ]
  },
  {
   "cell_type": "code",
   "execution_count": 15,
   "metadata": {
    "collapsed": false,
    "scrolled": false
   },
   "outputs": [
    {
     "name": "stdout",
     "output_type": "stream",
     "text": [
      "Derivative method, F =  18.000 +/- 4.409\n",
      "Min-Max method, F = 19.469 +/- 7.420\n",
      "Monte Carlo method, F = 18.586 +/- 4.819\n"
     ]
    },
    {
     "data": {
      "text/html": [
       "\n",
       "\n",
       "    <div class=\"bk-root\">\n",
       "        <div class=\"plotdiv\" id=\"a55700a6-c5cf-4fe6-8e84-ee10766d2388\"></div>\n",
       "    </div>\n",
       "<script type=\"text/javascript\">\n",
       "  \n",
       "  (function(global) {\n",
       "    function now() {\n",
       "      return new Date();\n",
       "    }\n",
       "  \n",
       "    var force = \"\";\n",
       "  \n",
       "    if (typeof (window._bokeh_onload_callbacks) === \"undefined\" || force !== \"\") {\n",
       "      window._bokeh_onload_callbacks = [];\n",
       "      window._bokeh_is_loading = undefined;\n",
       "    }\n",
       "  \n",
       "    function run_callbacks() {\n",
       "      window._bokeh_onload_callbacks.forEach(function(callback) { callback() });\n",
       "      delete window._bokeh_onload_callbacks\n",
       "      console.info(\"Bokeh: all callbacks have finished\");\n",
       "    }\n",
       "  \n",
       "    function load_libs(js_urls, callback) {\n",
       "      window._bokeh_onload_callbacks.push(callback);\n",
       "      if (window._bokeh_is_loading > 0) {\n",
       "        console.log(\"Bokeh: BokehJS is being loaded, scheduling callback at\", now());\n",
       "        return null;\n",
       "      }\n",
       "      if (js_urls == null || js_urls.length === 0) {\n",
       "        run_callbacks();\n",
       "        return null;\n",
       "      }\n",
       "      console.log(\"Bokeh: BokehJS not loaded, scheduling load and callback at\", now());\n",
       "      window._bokeh_is_loading = js_urls.length;\n",
       "      for (var i = 0; i < js_urls.length; i++) {\n",
       "        var url = js_urls[i];\n",
       "        var s = document.createElement('script');\n",
       "        s.src = url;\n",
       "        s.async = false;\n",
       "        s.onreadystatechange = s.onload = function() {\n",
       "          window._bokeh_is_loading--;\n",
       "          if (window._bokeh_is_loading === 0) {\n",
       "            console.log(\"Bokeh: all BokehJS libraries loaded\");\n",
       "            run_callbacks()\n",
       "          }\n",
       "        };\n",
       "        s.onerror = function() {\n",
       "          console.warn(\"failed to load library \" + url);\n",
       "        };\n",
       "        console.log(\"Bokeh: injecting script tag for BokehJS library: \", url);\n",
       "        document.getElementsByTagName(\"head\")[0].appendChild(s);\n",
       "      }\n",
       "    };var element = document.getElementById(\"a55700a6-c5cf-4fe6-8e84-ee10766d2388\");\n",
       "    if (element == null) {\n",
       "      console.log(\"Bokeh: ERROR: autoload.js configured with elementid 'a55700a6-c5cf-4fe6-8e84-ee10766d2388' but no matching script tag was found. \")\n",
       "      return false;\n",
       "    }\n",
       "  \n",
       "    var js_urls = [];\n",
       "  \n",
       "    var inline_js = [\n",
       "      function(Bokeh) {\n",
       "        Bokeh.$(function() {\n",
       "            var docs_json = {\"62fbf660-3fe8-45c6-8861-b3c391e2f9a0\":{\"roots\":{\"references\":[{\"attributes\":{},\"id\":\"92ae0a6d-ea7b-4460-828f-a5f1bb4341ec\",\"type\":\"ToolEvents\"},{\"attributes\":{\"active_drag\":\"auto\",\"active_scroll\":\"auto\",\"active_tap\":\"auto\",\"tools\":[{\"id\":\"c3c82e51-0bec-4807-b830-59399624b9da\",\"type\":\"SaveTool\"},{\"id\":\"69ad310d-7eac-4587-86fb-fb60bea66129\",\"type\":\"PanTool\"},{\"id\":\"9af537d8-86b1-482c-a079-760673ab483f\",\"type\":\"BoxZoomTool\"},{\"id\":\"1c8bfd61-da22-410a-b4e7-2a812483f588\",\"type\":\"WheelZoomTool\"},{\"id\":\"a2b1ca6d-e9e1-47e5-a145-6abedae83692\",\"type\":\"ResetTool\"}]},\"id\":\"3c2c1cbf-5526-42e1-87f0-600448125cfa\",\"type\":\"Toolbar\"},{\"attributes\":{\"line_alpha\":{\"value\":0.1},\"line_color\":{\"value\":\"#1f77b4\"},\"x\":{\"field\":\"x\"},\"y\":{\"field\":\"y\"}},\"id\":\"b2114efb-77b8-4ce2-9993-99f7cadc0875\",\"type\":\"Line\"},{\"attributes\":{},\"id\":\"e9ab6ccd-4783-471b-b161-12a01c71845c\",\"type\":\"BasicTicker\"},{\"attributes\":{\"callback\":null,\"column_names\":[\"top\",\"right\",\"left\"],\"data\":{\"left\":[7.10202487149336,7.9311610683418525,8.760297265190344,9.589433462038837,10.418569658887328,11.24770585573582,12.076842052584311,12.905978249432803,13.735114446281296,14.564250643129789,15.39338683997828,16.22252303682677,17.051659233675263,17.880795430523754,18.709931627372246,19.53906782422074,20.368204021069232,21.197340217917723,22.026476414766215,22.855612611614706,23.684748808463198,24.51388500531169,25.34302120216018,26.172157399008675,27.001293595857167,27.830429792705658,28.65956598955415,29.48870218640264,30.317838383251132,31.146974580099627,31.97611077694812,32.80524697379661,33.6343831706451,34.463519367493596,35.292655564342084,36.12179176119058,36.950927958039074,37.78006415488756,38.60920035173606,39.43833654858455,40.26747274543304,41.096608942281534,41.92574513913002,42.75488133597852,43.584017532827005,44.4131537296755,45.242289926523995,46.07142612337248,46.90056232022098,47.729698517069465],\"right\":[7.9311610683418525,8.760297265190344,9.589433462038837,10.418569658887328,11.24770585573582,12.076842052584311,12.905978249432803,13.735114446281296,14.564250643129789,15.39338683997828,16.22252303682677,17.051659233675263,17.880795430523754,18.709931627372246,19.53906782422074,20.368204021069232,21.197340217917723,22.026476414766215,22.855612611614706,23.684748808463198,24.51388500531169,25.34302120216018,26.172157399008675,27.001293595857167,27.830429792705658,28.65956598955415,29.48870218640264,30.317838383251132,31.146974580099627,31.97611077694812,32.80524697379661,33.6343831706451,34.463519367493596,35.292655564342084,36.12179176119058,36.950927958039074,37.78006415488756,38.60920035173606,39.43833654858455,40.26747274543304,41.096608942281534,41.92574513913002,42.75488133597852,43.584017532827005,44.4131537296755,45.242289926523995,46.07142612337248,46.90056232022098,47.729698517069465,48.55883471391796],\"top\":[4,12,34,83,148,243,352,498,565,726,784,784,728,723,679,611,493,448,405,324,266,215,177,162,106,96,63,53,43,32,23,24,11,17,17,10,8,6,5,6,4,2,2,4,0,2,0,0,1,1]}},\"id\":\"233ee2da-6a67-4690-830c-73817825a297\",\"type\":\"ColumnDataSource\"},{\"attributes\":{\"line_alpha\":{\"value\":0.1},\"line_color\":{\"value\":\"#1f77b4\"},\"line_dash\":[6],\"x\":{\"field\":\"x\"},\"y\":{\"field\":\"y\"}},\"id\":\"cfeeb7ae-01f4-46b8-a27c-32e81b1107ef\",\"type\":\"Line\"},{\"attributes\":{\"plot\":{\"id\":\"0f1440ce-e2ea-48bf-9731-7e77cfbf77fc\",\"subtype\":\"Figure\",\"type\":\"Plot\"},\"ticker\":{\"id\":\"e9ab6ccd-4783-471b-b161-12a01c71845c\",\"type\":\"BasicTicker\"}},\"id\":\"bf4fa568-3b9c-4f02-8056-91d51578b5db\",\"type\":\"Grid\"},{\"attributes\":{\"dimension\":1,\"plot\":{\"id\":\"0f1440ce-e2ea-48bf-9731-7e77cfbf77fc\",\"subtype\":\"Figure\",\"type\":\"Plot\"},\"ticker\":{\"id\":\"c9e2b480-8845-4c1a-bb31-cfadb065a623\",\"type\":\"BasicTicker\"}},\"id\":\"eb87f9d1-fa7a-4e1c-9562-de0563d0f3ae\",\"type\":\"Grid\"},{\"attributes\":{\"line_color\":{\"value\":\"red\"},\"line_dash\":[6],\"x\":{\"field\":\"x\"},\"y\":{\"field\":\"y\"}},\"id\":\"64d8c167-fd53-4e95-8333-af4d8df9d30e\",\"type\":\"Line\"},{\"attributes\":{\"plot\":{\"id\":\"0f1440ce-e2ea-48bf-9731-7e77cfbf77fc\",\"subtype\":\"Figure\",\"type\":\"Plot\"}},\"id\":\"a2b1ca6d-e9e1-47e5-a145-6abedae83692\",\"type\":\"ResetTool\"},{\"attributes\":{\"formatter\":{\"id\":\"877f884c-8217-40ce-b970-ef399de4d93c\",\"type\":\"BasicTickFormatter\"},\"plot\":{\"id\":\"0f1440ce-e2ea-48bf-9731-7e77cfbf77fc\",\"subtype\":\"Figure\",\"type\":\"Plot\"},\"ticker\":{\"id\":\"e9ab6ccd-4783-471b-b161-12a01c71845c\",\"type\":\"BasicTicker\"}},\"id\":\"212da7a5-7ca6-4064-b433-dd248b56f607\",\"type\":\"LinearAxis\"},{\"attributes\":{\"bottom\":{\"value\":0},\"fill_color\":{\"value\":\"#036564\"},\"left\":{\"field\":\"left\"},\"line_color\":{\"value\":\"#033649\"},\"right\":{\"field\":\"right\"},\"top\":{\"field\":\"top\"}},\"id\":\"fff1d80d-345e-44b4-89bb-f6417ea73c19\",\"type\":\"Quad\"},{\"attributes\":{\"data_source\":{\"id\":\"e94309fe-3822-4841-a1cb-bcb67359d025\",\"type\":\"ColumnDataSource\"},\"glyph\":{\"id\":\"4221c9fa-96e8-45c4-8927-f9dc7e924f8a\",\"type\":\"Line\"},\"hover_glyph\":null,\"nonselection_glyph\":{\"id\":\"b2114efb-77b8-4ce2-9993-99f7cadc0875\",\"type\":\"Line\"},\"selection_glyph\":null},\"id\":\"2888570d-19ba-44f7-93d4-933d8ee41c2b\",\"type\":\"GlyphRenderer\"},{\"attributes\":{\"data_source\":{\"id\":\"225237c4-03f0-4bb8-a035-4bcd880d3b4a\",\"type\":\"ColumnDataSource\"},\"glyph\":{\"id\":\"64d8c167-fd53-4e95-8333-af4d8df9d30e\",\"type\":\"Line\"},\"hover_glyph\":null,\"nonselection_glyph\":{\"id\":\"cfeeb7ae-01f4-46b8-a27c-32e81b1107ef\",\"type\":\"Line\"},\"selection_glyph\":null},\"id\":\"ce90940e-21a3-48b0-afb6-dd121a0a5b6c\",\"type\":\"GlyphRenderer\"},{\"attributes\":{\"data_source\":{\"id\":\"f97257bc-6c8e-48c9-aea1-ce7b809af6f5\",\"type\":\"ColumnDataSource\"},\"glyph\":{\"id\":\"4cb2a671-25b5-4177-a2f8-f7ffeb07e4a5\",\"type\":\"Line\"},\"hover_glyph\":null,\"nonselection_glyph\":{\"id\":\"95a30582-b8cc-46dc-a5f7-b2db0a28b8dc\",\"type\":\"Line\"},\"selection_glyph\":null},\"id\":\"d5684156-2b1d-48a8-b4d5-223bebfa5429\",\"type\":\"GlyphRenderer\"},{\"attributes\":{\"callback\":null},\"id\":\"9238a4cf-4dec-4f6b-9a61-ad83a5189c55\",\"type\":\"DataRange1d\"},{\"attributes\":{\"callback\":null,\"column_names\":[\"y\",\"x\"],\"data\":{\"x\":[13.59091846299028,13.59091846299028],\"y\":[0,784]}},\"id\":\"f97257bc-6c8e-48c9-aea1-ce7b809af6f5\",\"type\":\"ColumnDataSource\"},{\"attributes\":{\"bottom\":{\"value\":0},\"fill_alpha\":{\"value\":0.1},\"fill_color\":{\"value\":\"#1f77b4\"},\"left\":{\"field\":\"left\"},\"line_alpha\":{\"value\":0.1},\"line_color\":{\"value\":\"#1f77b4\"},\"right\":{\"field\":\"right\"},\"top\":{\"field\":\"top\"}},\"id\":\"736ad380-0f19-47c5-807f-bc9da3680f6a\",\"type\":\"Quad\"},{\"attributes\":{\"plot\":null,\"text\":\"unnamed_var14*9000000000*unnamed_var15/unnamed_var16**2 Histogram\"},\"id\":\"8059da61-8488-4113-a8cc-773eb826feb0\",\"type\":\"Title\"},{\"attributes\":{},\"id\":\"891ea00b-4c1d-4e33-81ef-bafb490c5a6e\",\"type\":\"BasicTickFormatter\"},{\"attributes\":{},\"id\":\"877f884c-8217-40ce-b970-ef399de4d93c\",\"type\":\"BasicTickFormatter\"},{\"attributes\":{\"plot\":{\"id\":\"0f1440ce-e2ea-48bf-9731-7e77cfbf77fc\",\"subtype\":\"Figure\",\"type\":\"Plot\"}},\"id\":\"1c8bfd61-da22-410a-b4e7-2a812483f588\",\"type\":\"WheelZoomTool\"},{\"attributes\":{\"plot\":{\"id\":\"0f1440ce-e2ea-48bf-9731-7e77cfbf77fc\",\"subtype\":\"Figure\",\"type\":\"Plot\"}},\"id\":\"69ad310d-7eac-4587-86fb-fb60bea66129\",\"type\":\"PanTool\"},{\"attributes\":{\"line_alpha\":{\"value\":0.1},\"line_color\":{\"value\":\"#1f77b4\"},\"line_dash\":[6],\"x\":{\"field\":\"x\"},\"y\":{\"field\":\"y\"}},\"id\":\"95a30582-b8cc-46dc-a5f7-b2db0a28b8dc\",\"type\":\"Line\"},{\"attributes\":{\"line_color\":{\"value\":\"red\"},\"x\":{\"field\":\"x\"},\"y\":{\"field\":\"y\"}},\"id\":\"4221c9fa-96e8-45c4-8927-f9dc7e924f8a\",\"type\":\"Line\"},{\"attributes\":{\"overlay\":{\"id\":\"828885ab-2a8c-498d-a538-34146d6018c4\",\"type\":\"BoxAnnotation\"},\"plot\":{\"id\":\"0f1440ce-e2ea-48bf-9731-7e77cfbf77fc\",\"subtype\":\"Figure\",\"type\":\"Plot\"}},\"id\":\"9af537d8-86b1-482c-a079-760673ab483f\",\"type\":\"BoxZoomTool\"},{\"attributes\":{\"callback\":null,\"column_names\":[\"y\",\"x\"],\"data\":{\"x\":[22.40908153700972,22.40908153700972],\"y\":[0,784]}},\"id\":\"225237c4-03f0-4bb8-a035-4bcd880d3b4a\",\"type\":\"ColumnDataSource\"},{\"attributes\":{\"bottom_units\":\"screen\",\"fill_alpha\":{\"value\":0.5},\"fill_color\":{\"value\":\"lightgrey\"},\"left_units\":\"screen\",\"level\":\"overlay\",\"line_alpha\":{\"value\":1.0},\"line_color\":{\"value\":\"black\"},\"line_dash\":[4,4],\"line_width\":{\"value\":2},\"plot\":null,\"render_mode\":\"css\",\"right_units\":\"screen\",\"top_units\":\"screen\"},\"id\":\"828885ab-2a8c-498d-a538-34146d6018c4\",\"type\":\"BoxAnnotation\"},{\"attributes\":{\"background_fill_color\":{\"value\":\"#FFFFFF\"},\"below\":[{\"id\":\"212da7a5-7ca6-4064-b433-dd248b56f607\",\"type\":\"LinearAxis\"}],\"left\":[{\"id\":\"71e56c41-ca7a-4d7e-b593-d6583141b930\",\"type\":\"LinearAxis\"}],\"renderers\":[{\"id\":\"212da7a5-7ca6-4064-b433-dd248b56f607\",\"type\":\"LinearAxis\"},{\"id\":\"bf4fa568-3b9c-4f02-8056-91d51578b5db\",\"type\":\"Grid\"},{\"id\":\"71e56c41-ca7a-4d7e-b593-d6583141b930\",\"type\":\"LinearAxis\"},{\"id\":\"eb87f9d1-fa7a-4e1c-9562-de0563d0f3ae\",\"type\":\"Grid\"},{\"id\":\"828885ab-2a8c-498d-a538-34146d6018c4\",\"type\":\"BoxAnnotation\"},{\"id\":\"7681b6b9-0417-46c2-b7f3-efc2464c3c99\",\"type\":\"GlyphRenderer\"},{\"id\":\"2888570d-19ba-44f7-93d4-933d8ee41c2b\",\"type\":\"GlyphRenderer\"},{\"id\":\"d5684156-2b1d-48a8-b4d5-223bebfa5429\",\"type\":\"GlyphRenderer\"},{\"id\":\"ce90940e-21a3-48b0-afb6-dd121a0a5b6c\",\"type\":\"GlyphRenderer\"}],\"title\":{\"id\":\"8059da61-8488-4113-a8cc-773eb826feb0\",\"type\":\"Title\"},\"tool_events\":{\"id\":\"92ae0a6d-ea7b-4460-828f-a5f1bb4341ec\",\"type\":\"ToolEvents\"},\"toolbar\":{\"id\":\"3c2c1cbf-5526-42e1-87f0-600448125cfa\",\"type\":\"Toolbar\"},\"x_range\":{\"id\":\"9238a4cf-4dec-4f6b-9a61-ad83a5189c55\",\"type\":\"DataRange1d\"},\"y_range\":{\"id\":\"c15d616e-df62-4316-92aa-d8ef3adc7ac7\",\"type\":\"DataRange1d\"}},\"id\":\"0f1440ce-e2ea-48bf-9731-7e77cfbf77fc\",\"subtype\":\"Figure\",\"type\":\"Plot\"},{\"attributes\":{\"plot\":{\"id\":\"0f1440ce-e2ea-48bf-9731-7e77cfbf77fc\",\"subtype\":\"Figure\",\"type\":\"Plot\"}},\"id\":\"c3c82e51-0bec-4807-b830-59399624b9da\",\"type\":\"SaveTool\"},{\"attributes\":{\"line_color\":{\"value\":\"red\"},\"line_dash\":[6],\"x\":{\"field\":\"x\"},\"y\":{\"field\":\"y\"}},\"id\":\"4cb2a671-25b5-4177-a2f8-f7ffeb07e4a5\",\"type\":\"Line\"},{\"attributes\":{\"callback\":null},\"id\":\"c15d616e-df62-4316-92aa-d8ef3adc7ac7\",\"type\":\"DataRange1d\"},{\"attributes\":{\"data_source\":{\"id\":\"233ee2da-6a67-4690-830c-73817825a297\",\"type\":\"ColumnDataSource\"},\"glyph\":{\"id\":\"fff1d80d-345e-44b4-89bb-f6417ea73c19\",\"type\":\"Quad\"},\"hover_glyph\":null,\"nonselection_glyph\":{\"id\":\"736ad380-0f19-47c5-807f-bc9da3680f6a\",\"type\":\"Quad\"},\"selection_glyph\":null},\"id\":\"7681b6b9-0417-46c2-b7f3-efc2464c3c99\",\"type\":\"GlyphRenderer\"},{\"attributes\":{\"callback\":null,\"column_names\":[\"x\",\"y\"],\"data\":{\"x\":[18.0,18.0],\"y\":[0.0,862.4000000000001]}},\"id\":\"e94309fe-3822-4841-a1cb-bcb67359d025\",\"type\":\"ColumnDataSource\"},{\"attributes\":{\"formatter\":{\"id\":\"891ea00b-4c1d-4e33-81ef-bafb490c5a6e\",\"type\":\"BasicTickFormatter\"},\"plot\":{\"id\":\"0f1440ce-e2ea-48bf-9731-7e77cfbf77fc\",\"subtype\":\"Figure\",\"type\":\"Plot\"},\"ticker\":{\"id\":\"c9e2b480-8845-4c1a-bb31-cfadb065a623\",\"type\":\"BasicTicker\"}},\"id\":\"71e56c41-ca7a-4d7e-b593-d6583141b930\",\"type\":\"LinearAxis\"},{\"attributes\":{},\"id\":\"c9e2b480-8845-4c1a-bb31-cfadb065a623\",\"type\":\"BasicTicker\"}],\"root_ids\":[\"0f1440ce-e2ea-48bf-9731-7e77cfbf77fc\"]},\"title\":\"Bokeh Application\",\"version\":\"0.12.1\"}};\n",
       "            var render_items = [{\"docid\":\"62fbf660-3fe8-45c6-8861-b3c391e2f9a0\",\"elementid\":\"a55700a6-c5cf-4fe6-8e84-ee10766d2388\",\"modelid\":\"0f1440ce-e2ea-48bf-9731-7e77cfbf77fc\",\"notebook_comms_target\":\"337fb9e7-7891-45ca-8cd1-e743d6076c08\"}];\n",
       "            \n",
       "            Bokeh.embed.embed_items(docs_json, render_items);\n",
       "        });\n",
       "      },\n",
       "      function(Bokeh) {\n",
       "      }\n",
       "    ];\n",
       "  \n",
       "    function run_inline_js() {\n",
       "      for (var i = 0; i < inline_js.length; i++) {\n",
       "        inline_js[i](window.Bokeh);\n",
       "      }\n",
       "    }\n",
       "  \n",
       "    if (window._bokeh_is_loading === 0) {\n",
       "      console.log(\"Bokeh: BokehJS loaded, going straight to plotting\");\n",
       "      run_inline_js();\n",
       "    } else {\n",
       "      load_libs(js_urls, function() {\n",
       "        console.log(\"Bokeh: BokehJS plotting callback run at\", now());\n",
       "        run_inline_js();\n",
       "      });\n",
       "    }\n",
       "  }(this));\n",
       "</script>"
      ]
     },
     "metadata": {},
     "output_type": "display_data"
    },
    {
     "data": {
      "text/plain": [
       "<bokeh.plotting.figure.Figure at 0x1debd21e898>"
      ]
     },
     "execution_count": 15,
     "metadata": {},
     "output_type": "execute_result"
    }
   ],
   "source": [
    "#Measurements with 10% relative uncertainties:\n",
    "relative_factor = 0.1 \n",
    "\n",
    "#Measured values\n",
    "q1m=1e-6\n",
    "q2m=2e-5\n",
    "rm=0.1\n",
    "\n",
    "#Convert to Measurement objects\n",
    "q1 = q.Measurement(q1m,relative_factor*q1m)\n",
    "q2 = q.Measurement(q2m,relative_factor*q2m)\n",
    "r = q.Measurement(rm,relative_factor*rm)\n",
    "#Coulomb's constant:\n",
    "k = 9e9 \n",
    "\n",
    "#Define the Force:\n",
    "F = k*q1*q2/r**2\n",
    "\n",
    "#Print out the different errors\n",
    "q.set_error_method(\"derivative\")\n",
    "print(\"Derivative method, F = \",F)\n",
    "q.set_error_method(\"minmax\")\n",
    "print(\"Min-Max method, F =\", F)\n",
    "q.set_error_method(\"mc\")\n",
    "print(\"Monte Carlo method, F =\",F)\n",
    "\n",
    "q.plot_engine=\"bokeh\"\n",
    "F.show_MC_histogram()"
   ]
  },
  {
   "cell_type": "markdown",
   "metadata": {},
   "source": [
    "## Printing style and formatting\n",
    "QExPy can print results in different styles, and the user can assign names and units to variables (although one should not rely on units being correctly propagated). If one assigns and name and units to a variable, the print() function will automatically include those when printing out the variable.\n",
    "\n",
    "One can also set the \"print style\" to be either \"Default\", \"Scientific\" or \"Latex\". In the scientific and default styles, QExPy will factor out the powers of 10 to make the central value and uncertainty easier to compare. "
   ]
  },
  {
   "cell_type": "code",
   "execution_count": 16,
   "metadata": {
    "collapsed": false
   },
   "outputs": [
    {
     "name": "stdout",
     "output_type": "stream",
     "text": [
      "distance = (10000 +/- 1220)*10^(-3) [m]\n",
      "distance = (10000 \\pm 1220)*10^{-3}\\,m\n",
      "distance = 10.000 +/- 1.220 [m]\n"
     ]
    }
   ],
   "source": [
    "x = q.Measurement(10,1.22,name=\"distance\", units=\"m\")\n",
    "q.set_print_style(\"Scientific\")\n",
    "print(x)\n",
    "q.set_print_style(\"Latex\")\n",
    "print(x)\n",
    "q.set_print_style(\"Default\")\n",
    "print(x)"
   ]
  },
  {
   "cell_type": "markdown",
   "metadata": {
    "collapsed": false
   },
   "source": [
    "## Exact derivatives\n",
    "Since QExPy needs to be able to evaluate derivatives (by using the automatic differentiation algorithm that exploits the Chain Rule), we can use QExPy to evaluate numerical derivatives exactly. That is, given a function, $f(x,y)$, QExPy can evaluate $\\frac{\\partial f(x,y)}{\\partial x}$ at a given value of $x$ and $y$.\n",
    "\n",
    "For example, if we have:\n",
    "$$x(t) = \\frac{1}{2}gt^2 $$\n",
    "\n",
    "and we have measured $t=8 \\pm 1$, we can evaluate the exact value of the derivative:\n",
    "\n",
    "$$\\frac{\\partial x(t)}{\\partial t} = \\frac{d x(t)}{d t}  = gt$$\n",
    "\n",
    "at $t=8 \\pm 1$\n"
   ]
  },
  {
   "cell_type": "code",
   "execution_count": 17,
   "metadata": {
    "collapsed": false
   },
   "outputs": [
    {
     "name": "stdout",
     "output_type": "stream",
     "text": [
      "78.48\n"
     ]
    }
   ],
   "source": [
    "t = q.Measurement(8,1)\n",
    "x = 0.5 * 9.81 * t**2\n",
    "print(x.get_derivative(t))"
   ]
  },
  {
   "cell_type": "code",
   "execution_count": null,
   "metadata": {
    "collapsed": false
   },
   "outputs": [],
   "source": []
  }
 ],
 "metadata": {
  "kernelspec": {
   "display_name": "Python 3",
   "language": "python",
   "name": "python3"
  },
  "language_info": {
   "codemirror_mode": {
    "name": "ipython",
    "version": 3
   },
   "file_extension": ".py",
   "mimetype": "text/x-python",
   "name": "python",
   "nbconvert_exporter": "python",
   "pygments_lexer": "ipython3",
   "version": "3.5.2"
  }
 },
 "nbformat": 4,
 "nbformat_minor": 0
}
