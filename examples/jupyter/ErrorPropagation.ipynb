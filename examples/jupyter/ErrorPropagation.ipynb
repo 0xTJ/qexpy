{
 "cells": [
  {
   "cell_type": "markdown",
   "metadata": {},
   "source": [
    "# Error Propagation with QExPy\n",
    "\n",
    "The first step is to import the error module for error propagation. We'll import it as \"e\":"
   ]
  },
  {
   "cell_type": "code",
   "execution_count": 1,
   "metadata": {
    "collapsed": false
   },
   "outputs": [
    {
     "data": {
      "text/html": [
       "\n",
       "    <div class=\"bk-root\">\n",
       "        <a href=\"http://bokeh.pydata.org\" target=\"_blank\" class=\"bk-logo bk-logo-small bk-logo-notebook\"></a>\n",
       "        <span id=\"13909ae4-1248-4aa2-b619-bb7ef89dd0cc\">Loading BokehJS ...</span>\n",
       "    </div>"
      ]
     },
     "metadata": {},
     "output_type": "display_data"
    },
    {
     "data": {
      "application/javascript": [
       "\n",
       "(function(global) {\n",
       "  function now() {\n",
       "    return new Date();\n",
       "  }\n",
       "\n",
       "  var force = \"1\";\n",
       "\n",
       "  if (typeof (window._bokeh_onload_callbacks) === \"undefined\" || force !== \"\") {\n",
       "    window._bokeh_onload_callbacks = [];\n",
       "    window._bokeh_is_loading = undefined;\n",
       "  }\n",
       "\n",
       "  function run_callbacks() {\n",
       "    window._bokeh_onload_callbacks.forEach(function(callback) { callback() });\n",
       "    delete window._bokeh_onload_callbacks\n",
       "    console.info(\"Bokeh: all callbacks have finished\");\n",
       "  }\n",
       "\n",
       "  function load_libs(js_urls, callback) {\n",
       "    window._bokeh_onload_callbacks.push(callback);\n",
       "    if (window._bokeh_is_loading > 0) {\n",
       "      console.log(\"Bokeh: BokehJS is being loaded, scheduling callback at\", now());\n",
       "      return null;\n",
       "    }\n",
       "    if (js_urls == null || js_urls.length === 0) {\n",
       "      run_callbacks();\n",
       "      return null;\n",
       "    }\n",
       "    console.log(\"Bokeh: BokehJS not loaded, scheduling load and callback at\", now());\n",
       "    window._bokeh_is_loading = js_urls.length;\n",
       "    for (var i = 0; i < js_urls.length; i++) {\n",
       "      var url = js_urls[i];\n",
       "      var s = document.createElement('script');\n",
       "      s.src = url;\n",
       "      s.async = false;\n",
       "      s.onreadystatechange = s.onload = function() {\n",
       "        window._bokeh_is_loading--;\n",
       "        if (window._bokeh_is_loading === 0) {\n",
       "          console.log(\"Bokeh: all BokehJS libraries loaded\");\n",
       "          run_callbacks()\n",
       "        }\n",
       "      };\n",
       "      s.onerror = function() {\n",
       "        console.warn(\"failed to load library \" + url);\n",
       "      };\n",
       "      console.log(\"Bokeh: injecting script tag for BokehJS library: \", url);\n",
       "      document.getElementsByTagName(\"head\")[0].appendChild(s);\n",
       "    }\n",
       "  };\n",
       "\n",
       "  var js_urls = ['https://cdn.pydata.org/bokeh/release/bokeh-0.12.1.min.js', 'https://cdn.pydata.org/bokeh/release/bokeh-widgets-0.12.1.min.js', 'https://cdn.pydata.org/bokeh/release/bokeh-compiler-0.12.1.min.js'];\n",
       "\n",
       "  var inline_js = [\n",
       "    function(Bokeh) {\n",
       "      Bokeh.set_log_level(\"info\");\n",
       "    },\n",
       "    \n",
       "    function(Bokeh) {\n",
       "      \n",
       "      Bokeh.$(\"#13909ae4-1248-4aa2-b619-bb7ef89dd0cc\").text(\"BokehJS successfully loaded\");\n",
       "      var kernel = Jupyter.notebook.kernel\n",
       "      if (kernel.execute !== undefined) {\n",
       "          kernel.execute(\"import bokeh.io; bokeh.io._nb_loaded = True\");\n",
       "      }\n",
       "    },\n",
       "    function(Bokeh) {\n",
       "      console.log(\"Bokeh: injecting CSS: https://cdn.pydata.org/bokeh/release/bokeh-0.12.1.min.css\");\n",
       "      Bokeh.embed.inject_css(\"https://cdn.pydata.org/bokeh/release/bokeh-0.12.1.min.css\");\n",
       "      console.log(\"Bokeh: injecting CSS: https://cdn.pydata.org/bokeh/release/bokeh-widgets-0.12.1.min.css\");\n",
       "      Bokeh.embed.inject_css(\"https://cdn.pydata.org/bokeh/release/bokeh-widgets-0.12.1.min.css\");\n",
       "    }\n",
       "  ];\n",
       "\n",
       "  function run_inline_js() {\n",
       "    for (var i = 0; i < inline_js.length; i++) {\n",
       "      inline_js[i](window.Bokeh);\n",
       "    }\n",
       "  }\n",
       "\n",
       "  if (window._bokeh_is_loading === 0) {\n",
       "    console.log(\"Bokeh: BokehJS loaded, going straight to plotting\");\n",
       "    run_inline_js();\n",
       "  } else {\n",
       "    load_libs(js_urls, function() {\n",
       "      console.log(\"Bokeh: BokehJS plotting callback run at\", now());\n",
       "      run_inline_js();\n",
       "    });\n",
       "  }\n",
       "}(this));"
      ]
     },
     "metadata": {},
     "output_type": "display_data"
    }
   ],
   "source": [
    "import qexpy as q\n"
   ]
  },
  {
   "cell_type": "markdown",
   "metadata": {},
   "source": [
    "Next, we'll declare two measured values, x and y, with uncertainties, and print them out. We use the Measurement object from the qexpy.error package:"
   ]
  },
  {
   "cell_type": "code",
   "execution_count": 2,
   "metadata": {
    "collapsed": false,
    "scrolled": true
   },
   "outputs": [
    {
     "name": "stdout",
     "output_type": "stream",
     "text": [
      "x = 10 +/- 1\n",
      "y = 5 +/- 3\n"
     ]
    }
   ],
   "source": [
    "#Our two measured values:\n",
    "x = q.Measurement(10,1)\n",
    "y = q.Measurement(5,3)\n",
    "\n",
    "#We can print them out:\n",
    "print(\"x =\",x)\n",
    "print(\"y =\",y)\n",
    "#x.set_correlation(y,0.3)"
   ]
  },
  {
   "cell_type": "markdown",
   "metadata": {},
   "source": [
    "We can declare a third object, z, which depends on x and y. The uncertainty in x and y will be correctly propagated to z, so once we have defined z, we can simply print it out with the correct uncertainty:"
   ]
  },
  {
   "cell_type": "code",
   "execution_count": 3,
   "metadata": {
    "collapsed": false
   },
   "outputs": [
    {
     "name": "stdout",
     "output_type": "stream",
     "text": [
      "z = 15 +/- 3\n"
     ]
    }
   ],
   "source": [
    "#We define z\n",
    "z = x+y\n",
    "#z can now be printed out\n",
    "print(\"z =\",z)"
   ]
  },
  {
   "cell_type": "markdown",
   "metadata": {},
   "source": [
    "Note how the uncertainties have been kept to 1 significant figure. In this case, the error in z was obtained by adding the errors in x and y in quadrature. We can change the number of significant figures to confirm that the errors were indeed added in quadrature. We can choose between setting  the number of significant figures based on the uncertainty (more common) or based on the central value."
   ]
  },
  {
   "cell_type": "code",
   "execution_count": 4,
   "metadata": {
    "collapsed": false
   },
   "outputs": [
    {
     "name": "stdout",
     "output_type": "stream",
     "text": [
      "z = 15.000 +/- 3.162\n"
     ]
    }
   ],
   "source": [
    "q.set_sigfigs_error(4) # set sigfigs based on the error\n",
    "print(\"z =\",z)"
   ]
  },
  {
   "cell_type": "markdown",
   "metadata": {},
   "source": [
    "Let's compare the error in z to what the errors in x and y are when added manually in quadrature. We need to import the sqrt() function from the math package to apply mathematical functions to numbers:"
   ]
  },
  {
   "cell_type": "code",
   "execution_count": 5,
   "metadata": {
    "collapsed": false
   },
   "outputs": [
    {
     "name": "stdout",
     "output_type": "stream",
     "text": [
      "3.1622776601683795\n"
     ]
    }
   ],
   "source": [
    "import math as m\n",
    "quadrature = m.sqrt(x.std**2+y.std**2)\n",
    "print(quadrature)"
   ]
  },
  {
   "cell_type": "markdown",
   "metadata": {},
   "source": [
    "## Math functions\n",
    "We can propagate the uncertainties through any operator (+,-,\\*,/) automatically as we showed above. QExPy also knows how to propagate the uncertainty through common mathematical functions. To use mathematical functions on Measurement objects, we need to call the functions from the QExPy package (as opposed to the math package as we did above for 2 numbers)."
   ]
  },
  {
   "cell_type": "code",
   "execution_count": 6,
   "metadata": {
    "collapsed": false
   },
   "outputs": [
    {
     "name": "stdout",
     "output_type": "stream",
     "text": [
      "time =  1.277102 +/- 0.007982 seconds\n"
     ]
    }
   ],
   "source": [
    "#If an object fell a distance of 8.0 +/0.1 m, how long did it take to fall?\n",
    "y = q.Measurement(8,0.1)\n",
    "g = 9.81\n",
    "t = q.sqrt(2*y/g)\n",
    "print(\"time = \",t, \"seconds\")"
   ]
  },
  {
   "cell_type": "markdown",
   "metadata": {},
   "source": [
    "## Error in correlated quantities\n",
    "If we have two measurements, x and y, that are correlated, then their correlation factor will impact the uncertainty on a quantity that depends on them:"
   ]
  },
  {
   "cell_type": "code",
   "execution_count": 7,
   "metadata": {
    "collapsed": false
   },
   "outputs": [
    {
     "name": "stdout",
     "output_type": "stream",
     "text": [
      "x and y uncorrelated: z= 15.000 +/- 3.162\n",
      "x and y positively correlated: z= 15.000 +/- 3.606\n",
      "x and y negatively correlated: z= 15.000 +/- 2.646\n"
     ]
    }
   ],
   "source": [
    "x = q.Measurement(10,1)\n",
    "y = q.Measurement(5,3)\n",
    "z = x+y\n",
    "print(\"x and y uncorrelated: z=\",z)\n",
    "\n",
    "#Now set a correlation factor between x and y:\n",
    "x.set_correlation(y,0.5)\n",
    "z = x+y\n",
    "print(\"x and y positively correlated: z=\",z)\n",
    "\n",
    "#We can also use the covariance factor instead of the correlation factor:\n",
    "x.set_covariance(y,-1.5)\n",
    "z = x+y\n",
    "print(\"x and y negatively correlated: z=\",z)"
   ]
  },
  {
   "cell_type": "markdown",
   "metadata": {},
   "source": [
    "If we don't specify any correlation factors, then all quantities are assumed to be independent. However, a quantity should not be independent from itself, so QExPy knows how to track the correlation in quantities that depend on common quantities. "
   ]
  },
  {
   "cell_type": "code",
   "execution_count": 8,
   "metadata": {
    "collapsed": false
   },
   "outputs": [
    {
     "name": "stdout",
     "output_type": "stream",
     "text": [
      "0.000 +/- 0.000\n"
     ]
    }
   ],
   "source": [
    "x = q.Measurement(10,1)\n",
    "y = x*x\n",
    "z = x*x - y #this should be 0 +/- 0, since it's really x^2 - x^2 \n",
    "print(z)"
   ]
  },
  {
   "cell_type": "markdown",
   "metadata": {
    "collapsed": true
   },
   "source": [
    "## Statistical measurements\n",
    "QExPy can also handle the case when you have repeated measurements of a single quantity and you want to average them together. Suppose that you have measured 5 values of some quantity T. QExPy will automatically assume that those values should be averaged together so that T is given by the mean of the measured values with an uncertainty given by the standard deviation of the values.\n"
   ]
  },
  {
   "cell_type": "code",
   "execution_count": 9,
   "metadata": {
    "collapsed": false
   },
   "outputs": [
    {
     "name": "stdout",
     "output_type": "stream",
     "text": [
      "5.3000 +/- 0.5431\n"
     ]
    }
   ],
   "source": [
    "T=q.Measurement( [5.6, 4.8, 6.1, 4.9, 5.1 ] )\n",
    "print(T)"
   ]
  },
  {
   "cell_type": "markdown",
   "metadata": {},
   "source": [
    "T can be used just as any other measurement with uncertainties, and its error will be propagate correctly:"
   ]
  },
  {
   "cell_type": "code",
   "execution_count": 10,
   "metadata": {
    "collapsed": false
   },
   "outputs": [
    {
     "name": "stdout",
     "output_type": "stream",
     "text": [
      "1.1849 +/- 0.1214\n"
     ]
    }
   ],
   "source": [
    "omega = 2*3.14/T\n",
    "print(omega)"
   ]
  },
  {
   "cell_type": "markdown",
   "metadata": {},
   "source": [
    "If we have measured many values, it can sometimes be useful to visualize those measurements in a histogram. QExPy will automatically create a histogram of the values, showing lines corresponding to the mean and the range covered by one standard deviation"
   ]
  },
  {
   "cell_type": "code",
   "execution_count": 11,
   "metadata": {
    "collapsed": false
   },
   "outputs": [
    {
     "data": {
      "text/html": [
       "\n",
       "\n",
       "    <div class=\"bk-root\">\n",
       "        <div class=\"plotdiv\" id=\"c480425e-0c70-4aed-b6e7-ea21e2992a0e\"></div>\n",
       "    </div>\n",
       "<script type=\"text/javascript\">\n",
       "  \n",
       "  (function(global) {\n",
       "    function now() {\n",
       "      return new Date();\n",
       "    }\n",
       "  \n",
       "    var force = \"\";\n",
       "  \n",
       "    if (typeof (window._bokeh_onload_callbacks) === \"undefined\" || force !== \"\") {\n",
       "      window._bokeh_onload_callbacks = [];\n",
       "      window._bokeh_is_loading = undefined;\n",
       "    }\n",
       "  \n",
       "    function run_callbacks() {\n",
       "      window._bokeh_onload_callbacks.forEach(function(callback) { callback() });\n",
       "      delete window._bokeh_onload_callbacks\n",
       "      console.info(\"Bokeh: all callbacks have finished\");\n",
       "    }\n",
       "  \n",
       "    function load_libs(js_urls, callback) {\n",
       "      window._bokeh_onload_callbacks.push(callback);\n",
       "      if (window._bokeh_is_loading > 0) {\n",
       "        console.log(\"Bokeh: BokehJS is being loaded, scheduling callback at\", now());\n",
       "        return null;\n",
       "      }\n",
       "      if (js_urls == null || js_urls.length === 0) {\n",
       "        run_callbacks();\n",
       "        return null;\n",
       "      }\n",
       "      console.log(\"Bokeh: BokehJS not loaded, scheduling load and callback at\", now());\n",
       "      window._bokeh_is_loading = js_urls.length;\n",
       "      for (var i = 0; i < js_urls.length; i++) {\n",
       "        var url = js_urls[i];\n",
       "        var s = document.createElement('script');\n",
       "        s.src = url;\n",
       "        s.async = false;\n",
       "        s.onreadystatechange = s.onload = function() {\n",
       "          window._bokeh_is_loading--;\n",
       "          if (window._bokeh_is_loading === 0) {\n",
       "            console.log(\"Bokeh: all BokehJS libraries loaded\");\n",
       "            run_callbacks()\n",
       "          }\n",
       "        };\n",
       "        s.onerror = function() {\n",
       "          console.warn(\"failed to load library \" + url);\n",
       "        };\n",
       "        console.log(\"Bokeh: injecting script tag for BokehJS library: \", url);\n",
       "        document.getElementsByTagName(\"head\")[0].appendChild(s);\n",
       "      }\n",
       "    };var element = document.getElementById(\"c480425e-0c70-4aed-b6e7-ea21e2992a0e\");\n",
       "    if (element == null) {\n",
       "      console.log(\"Bokeh: ERROR: autoload.js configured with elementid 'c480425e-0c70-4aed-b6e7-ea21e2992a0e' but no matching script tag was found. \")\n",
       "      return false;\n",
       "    }\n",
       "  \n",
       "    var js_urls = [];\n",
       "  \n",
       "    var inline_js = [\n",
       "      function(Bokeh) {\n",
       "        Bokeh.$(function() {\n",
       "            var docs_json = {\"3e37de91-ed31-4e3e-acbc-df5e76219c2b\":{\"roots\":{\"references\":[{\"attributes\":{\"callback\":null,\"column_names\":[\"x\",\"y\"],\"data\":{\"x\":[5.3,5.3],\"y\":[0.0,1.05]}},\"id\":\"4b1e180c-80cb-49e6-8334-3ce11d82ff0e\",\"type\":\"ColumnDataSource\"},{\"attributes\":{\"line_color\":{\"value\":\"red\"},\"line_dash\":[6],\"x\":{\"field\":\"x\"},\"y\":{\"field\":\"y\"}},\"id\":\"7d9c856f-5703-49ce-9390-f27aab3dc545\",\"type\":\"Line\"},{\"attributes\":{\"data_source\":{\"id\":\"4b1e180c-80cb-49e6-8334-3ce11d82ff0e\",\"type\":\"ColumnDataSource\"},\"glyph\":{\"id\":\"753b9c22-60f8-499e-894b-29f7c1722351\",\"type\":\"Line\"},\"hover_glyph\":null,\"nonselection_glyph\":{\"id\":\"1922e298-2777-4c9b-9316-b97d03fb37e9\",\"type\":\"Line\"},\"selection_glyph\":null},\"id\":\"c7a78ea5-fa43-453c-967c-0ce7b1cc363e\",\"type\":\"GlyphRenderer\"},{\"attributes\":{\"callback\":null,\"column_names\":[\"top\",\"left\",\"right\"],\"data\":{\"left\":[4.8,4.826,4.851999999999999,4.878,4.904,4.93,4.9559999999999995,4.982,5.008,5.034,5.06,5.085999999999999,5.112,5.138,5.164,5.1899999999999995,5.215999999999999,5.242,5.268,5.294,5.319999999999999,5.346,5.372,5.398,5.4239999999999995,5.449999999999999,5.476,5.502,5.528,5.553999999999999,5.58,5.606,5.632,5.6579999999999995,5.683999999999999,5.71,5.736,5.762,5.787999999999999,5.814,5.84,5.866,5.8919999999999995,5.917999999999999,5.943999999999999,5.97,5.9959999999999996,6.021999999999999,6.048,6.074],\"right\":[4.826,4.851999999999999,4.878,4.904,4.93,4.9559999999999995,4.982,5.008,5.034,5.06,5.085999999999999,5.112,5.138,5.164,5.1899999999999995,5.215999999999999,5.242,5.268,5.294,5.319999999999999,5.346,5.372,5.398,5.4239999999999995,5.449999999999999,5.476,5.502,5.528,5.553999999999999,5.58,5.606,5.632,5.6579999999999995,5.683999999999999,5.71,5.736,5.762,5.787999999999999,5.814,5.84,5.866,5.8919999999999995,5.917999999999999,5.943999999999999,5.97,5.9959999999999996,6.021999999999999,6.048,6.074,6.1],\"top\":[1,0,0,1,0,0,0,0,0,0,0,1,0,0,0,0,0,0,0,0,0,0,0,0,0,0,0,0,0,0,1,0,0,0,0,0,0,0,0,0,0,0,0,0,0,0,0,0,0,1]}},\"id\":\"3145f001-7482-4ccf-a032-6100929e1b1e\",\"type\":\"ColumnDataSource\"},{\"attributes\":{\"callback\":null,\"column_names\":[\"x\",\"y\"],\"data\":{\"x\":[5.843139024560011,5.843139024560011],\"y\":[0.0,1.1]}},\"id\":\"e0e5a158-bdda-4015-aeb9-d93183483780\",\"type\":\"ColumnDataSource\"},{\"attributes\":{\"data_source\":{\"id\":\"75d5fce4-19ce-4434-92e5-2911892e97c2\",\"type\":\"ColumnDataSource\"},\"glyph\":{\"id\":\"7d9c856f-5703-49ce-9390-f27aab3dc545\",\"type\":\"Line\"},\"hover_glyph\":null,\"nonselection_glyph\":{\"id\":\"caa62595-e014-4757-82e3-6b82b00cc692\",\"type\":\"Line\"},\"selection_glyph\":null},\"id\":\"b0689f54-6b80-4498-981c-6e0443fd4af3\",\"type\":\"GlyphRenderer\"},{\"attributes\":{\"data_source\":{\"id\":\"e0e5a158-bdda-4015-aeb9-d93183483780\",\"type\":\"ColumnDataSource\"},\"glyph\":{\"id\":\"113bcb28-7731-4f7e-92e0-4cddbf00de6c\",\"type\":\"Line\"},\"hover_glyph\":null,\"nonselection_glyph\":{\"id\":\"c15cb812-080b-4605-9049-bc0109927258\",\"type\":\"Line\"},\"selection_glyph\":null},\"id\":\"a7cad8ef-d45d-4f08-9f5d-fd9ffa918598\",\"type\":\"GlyphRenderer\"},{\"attributes\":{\"callback\":null},\"id\":\"1b46c3f4-f1dd-4b94-9ce4-33c6dc0cc969\",\"type\":\"DataRange1d\"},{\"attributes\":{\"plot\":{\"id\":\"54f98a35-2781-4994-a222-357daffb02be\",\"subtype\":\"Figure\",\"type\":\"Plot\"}},\"id\":\"99343588-69c8-4240-8341-e9379e7a077d\",\"type\":\"WheelZoomTool\"},{\"attributes\":{\"bottom\":{\"value\":0},\"fill_color\":{\"value\":\"#036564\"},\"left\":{\"field\":\"left\"},\"line_color\":{\"value\":\"#033649\"},\"right\":{\"field\":\"right\"},\"top\":{\"field\":\"top\"}},\"id\":\"fe06663a-9f0f-4288-ba37-30a63253e232\",\"type\":\"Quad\"},{\"attributes\":{\"formatter\":{\"id\":\"a00dcc4c-05aa-48f8-8fb4-3f4d68401f05\",\"type\":\"BasicTickFormatter\"},\"plot\":{\"id\":\"54f98a35-2781-4994-a222-357daffb02be\",\"subtype\":\"Figure\",\"type\":\"Plot\"},\"ticker\":{\"id\":\"f1c4497a-1ae9-4ba5-add6-fc9d5e9b0f9f\",\"type\":\"BasicTicker\"}},\"id\":\"f3309f14-4ceb-4d99-b5da-8765b01ba1f8\",\"type\":\"LinearAxis\"},{\"attributes\":{\"bottom\":{\"value\":0},\"fill_alpha\":{\"value\":0.1},\"fill_color\":{\"value\":\"#1f77b4\"},\"left\":{\"field\":\"left\"},\"line_alpha\":{\"value\":0.1},\"line_color\":{\"value\":\"#1f77b4\"},\"right\":{\"field\":\"right\"},\"top\":{\"field\":\"top\"}},\"id\":\"1e6f14dc-4645-4591-8e93-3eeaa8d5ac15\",\"type\":\"Quad\"},{\"attributes\":{\"callback\":null},\"id\":\"6ea77869-0faf-4921-956a-18cc11edf8d8\",\"type\":\"DataRange1d\"},{\"attributes\":{},\"id\":\"749a48b2-295f-48b2-a592-621713b7aaef\",\"type\":\"ToolEvents\"},{\"attributes\":{\"plot\":{\"id\":\"54f98a35-2781-4994-a222-357daffb02be\",\"subtype\":\"Figure\",\"type\":\"Plot\"}},\"id\":\"0464f32e-bf89-4aa1-a8b4-6677885b3bb2\",\"type\":\"PanTool\"},{\"attributes\":{},\"id\":\"f1c4497a-1ae9-4ba5-add6-fc9d5e9b0f9f\",\"type\":\"BasicTicker\"},{\"attributes\":{\"active_drag\":\"auto\",\"active_scroll\":\"auto\",\"active_tap\":\"auto\",\"tools\":[{\"id\":\"980f7871-c158-44cf-8596-9e55f1a36a23\",\"type\":\"SaveTool\"},{\"id\":\"0464f32e-bf89-4aa1-a8b4-6677885b3bb2\",\"type\":\"PanTool\"},{\"id\":\"bb6520bb-7b64-472c-ba64-338fb24d9384\",\"type\":\"BoxZoomTool\"},{\"id\":\"99343588-69c8-4240-8341-e9379e7a077d\",\"type\":\"WheelZoomTool\"},{\"id\":\"ec5ca705-8553-493a-9d2b-53ca55664871\",\"type\":\"ResetTool\"}]},\"id\":\"71707260-c3a6-42a9-87b2-50da5d1a1f7b\",\"type\":\"Toolbar\"},{\"attributes\":{\"line_color\":{\"value\":\"red\"},\"line_dash\":[6],\"x\":{\"field\":\"x\"},\"y\":{\"field\":\"y\"}},\"id\":\"753b9c22-60f8-499e-894b-29f7c1722351\",\"type\":\"Line\"},{\"attributes\":{\"data_source\":{\"id\":\"3145f001-7482-4ccf-a032-6100929e1b1e\",\"type\":\"ColumnDataSource\"},\"glyph\":{\"id\":\"fe06663a-9f0f-4288-ba37-30a63253e232\",\"type\":\"Quad\"},\"hover_glyph\":null,\"nonselection_glyph\":{\"id\":\"1e6f14dc-4645-4591-8e93-3eeaa8d5ac15\",\"type\":\"Quad\"},\"selection_glyph\":null},\"id\":\"992c88c3-b97e-44f6-9c5f-6cc465c7c4ea\",\"type\":\"GlyphRenderer\"},{\"attributes\":{\"bottom_units\":\"screen\",\"fill_alpha\":{\"value\":0.5},\"fill_color\":{\"value\":\"lightgrey\"},\"left_units\":\"screen\",\"level\":\"overlay\",\"line_alpha\":{\"value\":1.0},\"line_color\":{\"value\":\"black\"},\"line_dash\":[4,4],\"line_width\":{\"value\":2},\"plot\":null,\"render_mode\":\"css\",\"right_units\":\"screen\",\"top_units\":\"screen\"},\"id\":\"041ba2c9-8c1c-449f-90bc-448c96e62cb0\",\"type\":\"BoxAnnotation\"},{\"attributes\":{\"callback\":null,\"column_names\":[\"x\",\"y\"],\"data\":{\"x\":[4.756860975439989,4.756860975439989],\"y\":[0.0,1.1]}},\"id\":\"75d5fce4-19ce-4434-92e5-2911892e97c2\",\"type\":\"ColumnDataSource\"},{\"attributes\":{\"dimension\":1,\"plot\":{\"id\":\"54f98a35-2781-4994-a222-357daffb02be\",\"subtype\":\"Figure\",\"type\":\"Plot\"},\"ticker\":{\"id\":\"0ad4b166-c082-4d63-853f-381a0e15cdca\",\"type\":\"BasicTicker\"}},\"id\":\"b07d0e38-8e20-465f-a712-0810d6163ed9\",\"type\":\"Grid\"},{\"attributes\":{\"plot\":{\"id\":\"54f98a35-2781-4994-a222-357daffb02be\",\"subtype\":\"Figure\",\"type\":\"Plot\"},\"ticker\":{\"id\":\"f1c4497a-1ae9-4ba5-add6-fc9d5e9b0f9f\",\"type\":\"BasicTicker\"}},\"id\":\"023e75ac-9f19-4a89-ab7f-6541a396e42d\",\"type\":\"Grid\"},{\"attributes\":{\"overlay\":{\"id\":\"041ba2c9-8c1c-449f-90bc-448c96e62cb0\",\"type\":\"BoxAnnotation\"},\"plot\":{\"id\":\"54f98a35-2781-4994-a222-357daffb02be\",\"subtype\":\"Figure\",\"type\":\"Plot\"}},\"id\":\"bb6520bb-7b64-472c-ba64-338fb24d9384\",\"type\":\"BoxZoomTool\"},{\"attributes\":{\"plot\":{\"id\":\"54f98a35-2781-4994-a222-357daffb02be\",\"subtype\":\"Figure\",\"type\":\"Plot\"}},\"id\":\"980f7871-c158-44cf-8596-9e55f1a36a23\",\"type\":\"SaveTool\"},{\"attributes\":{},\"id\":\"0ad4b166-c082-4d63-853f-381a0e15cdca\",\"type\":\"BasicTicker\"},{\"attributes\":{\"line_alpha\":{\"value\":0.1},\"line_color\":{\"value\":\"#1f77b4\"},\"line_dash\":[6],\"x\":{\"field\":\"x\"},\"y\":{\"field\":\"y\"}},\"id\":\"1922e298-2777-4c9b-9316-b97d03fb37e9\",\"type\":\"Line\"},{\"attributes\":{\"plot\":null,\"text\":\"unnamed_var6 Histogram\"},\"id\":\"38de5a8c-c712-4c35-9360-83dd472daf2b\",\"type\":\"Title\"},{\"attributes\":{\"formatter\":{\"id\":\"0050184a-b866-413c-ab50-f75b640f148a\",\"type\":\"BasicTickFormatter\"},\"plot\":{\"id\":\"54f98a35-2781-4994-a222-357daffb02be\",\"subtype\":\"Figure\",\"type\":\"Plot\"},\"ticker\":{\"id\":\"0ad4b166-c082-4d63-853f-381a0e15cdca\",\"type\":\"BasicTicker\"}},\"id\":\"d3e218c0-50f1-427a-8e72-6d33f21ceb59\",\"type\":\"LinearAxis\"},{\"attributes\":{\"line_color\":{\"value\":\"red\"},\"line_dash\":[6],\"x\":{\"field\":\"x\"},\"y\":{\"field\":\"y\"}},\"id\":\"113bcb28-7731-4f7e-92e0-4cddbf00de6c\",\"type\":\"Line\"},{\"attributes\":{\"line_alpha\":{\"value\":0.1},\"line_color\":{\"value\":\"#1f77b4\"},\"line_dash\":[6],\"x\":{\"field\":\"x\"},\"y\":{\"field\":\"y\"}},\"id\":\"caa62595-e014-4757-82e3-6b82b00cc692\",\"type\":\"Line\"},{\"attributes\":{\"line_alpha\":{\"value\":0.1},\"line_color\":{\"value\":\"#1f77b4\"},\"line_dash\":[6],\"x\":{\"field\":\"x\"},\"y\":{\"field\":\"y\"}},\"id\":\"c15cb812-080b-4605-9049-bc0109927258\",\"type\":\"Line\"},{\"attributes\":{\"plot\":{\"id\":\"54f98a35-2781-4994-a222-357daffb02be\",\"subtype\":\"Figure\",\"type\":\"Plot\"}},\"id\":\"ec5ca705-8553-493a-9d2b-53ca55664871\",\"type\":\"ResetTool\"},{\"attributes\":{},\"id\":\"0050184a-b866-413c-ab50-f75b640f148a\",\"type\":\"BasicTickFormatter\"},{\"attributes\":{},\"id\":\"a00dcc4c-05aa-48f8-8fb4-3f4d68401f05\",\"type\":\"BasicTickFormatter\"},{\"attributes\":{\"background_fill_color\":{\"value\":\"#FFFFFF\"},\"below\":[{\"id\":\"f3309f14-4ceb-4d99-b5da-8765b01ba1f8\",\"type\":\"LinearAxis\"}],\"left\":[{\"id\":\"d3e218c0-50f1-427a-8e72-6d33f21ceb59\",\"type\":\"LinearAxis\"}],\"renderers\":[{\"id\":\"f3309f14-4ceb-4d99-b5da-8765b01ba1f8\",\"type\":\"LinearAxis\"},{\"id\":\"023e75ac-9f19-4a89-ab7f-6541a396e42d\",\"type\":\"Grid\"},{\"id\":\"d3e218c0-50f1-427a-8e72-6d33f21ceb59\",\"type\":\"LinearAxis\"},{\"id\":\"b07d0e38-8e20-465f-a712-0810d6163ed9\",\"type\":\"Grid\"},{\"id\":\"041ba2c9-8c1c-449f-90bc-448c96e62cb0\",\"type\":\"BoxAnnotation\"},{\"id\":\"992c88c3-b97e-44f6-9c5f-6cc465c7c4ea\",\"type\":\"GlyphRenderer\"},{\"id\":\"c7a78ea5-fa43-453c-967c-0ce7b1cc363e\",\"type\":\"GlyphRenderer\"},{\"id\":\"b0689f54-6b80-4498-981c-6e0443fd4af3\",\"type\":\"GlyphRenderer\"},{\"id\":\"a7cad8ef-d45d-4f08-9f5d-fd9ffa918598\",\"type\":\"GlyphRenderer\"}],\"title\":{\"id\":\"38de5a8c-c712-4c35-9360-83dd472daf2b\",\"type\":\"Title\"},\"tool_events\":{\"id\":\"749a48b2-295f-48b2-a592-621713b7aaef\",\"type\":\"ToolEvents\"},\"toolbar\":{\"id\":\"71707260-c3a6-42a9-87b2-50da5d1a1f7b\",\"type\":\"Toolbar\"},\"x_range\":{\"id\":\"1b46c3f4-f1dd-4b94-9ce4-33c6dc0cc969\",\"type\":\"DataRange1d\"},\"y_range\":{\"id\":\"6ea77869-0faf-4921-956a-18cc11edf8d8\",\"type\":\"DataRange1d\"}},\"id\":\"54f98a35-2781-4994-a222-357daffb02be\",\"subtype\":\"Figure\",\"type\":\"Plot\"}],\"root_ids\":[\"54f98a35-2781-4994-a222-357daffb02be\"]},\"title\":\"Bokeh Application\",\"version\":\"0.12.1\"}};\n",
       "            var render_items = [{\"docid\":\"3e37de91-ed31-4e3e-acbc-df5e76219c2b\",\"elementid\":\"c480425e-0c70-4aed-b6e7-ea21e2992a0e\",\"modelid\":\"54f98a35-2781-4994-a222-357daffb02be\",\"notebook_comms_target\":\"14b0aacf-cde7-4841-a90b-0efc06f5b8eb\"}];\n",
       "            \n",
       "            Bokeh.embed.embed_items(docs_json, render_items);\n",
       "        });\n",
       "      },\n",
       "      function(Bokeh) {\n",
       "      }\n",
       "    ];\n",
       "  \n",
       "    function run_inline_js() {\n",
       "      for (var i = 0; i < inline_js.length; i++) {\n",
       "        inline_js[i](window.Bokeh);\n",
       "      }\n",
       "    }\n",
       "  \n",
       "    if (window._bokeh_is_loading === 0) {\n",
       "      console.log(\"Bokeh: BokehJS loaded, going straight to plotting\");\n",
       "      run_inline_js();\n",
       "    } else {\n",
       "      load_libs(js_urls, function() {\n",
       "        console.log(\"Bokeh: BokehJS plotting callback run at\", now());\n",
       "        run_inline_js();\n",
       "      });\n",
       "    }\n",
       "  }(this));\n",
       "</script>"
      ]
     },
     "metadata": {},
     "output_type": "display_data"
    },
    {
     "data": {
      "text/plain": [
       "<bokeh.plotting.figure.Figure at 0x21118576128>"
      ]
     },
     "execution_count": 11,
     "metadata": {},
     "output_type": "execute_result"
    }
   ],
   "source": [
    "T.show_histogram()"
   ]
  },
  {
   "cell_type": "markdown",
   "metadata": {},
   "source": [
    "## Multiple measurements (Arrays of Measurements)\n",
    "QExPy can also handle the case of having multiple measurements, when each measurement has its own uncertainty. For example, if you have three measurements of a single quantity, in order to get an average value, you should weight each measurement by its uncertainty (or rather the weight should be 1 over the square of the uncertainty). This is handled by the MeasurementArray class:"
   ]
  },
  {
   "cell_type": "code",
   "execution_count": 17,
   "metadata": {
    "collapsed": false
   },
   "outputs": [
    {
     "name": "stdout",
     "output_type": "stream",
     "text": [
      "The mean is  11.2333333333\n",
      "The error weighted mean is  9.72815 +/- 0.08870\n"
     ]
    }
   ],
   "source": [
    "#gvals = e.MeasurementArray([(9.8,0.2), (14,3) , (9.9,0.1)])\n",
    "gvals = q.MeasurementArray([9.8,14,9.9],[0.2,3,0.1])\n",
    "print(\"The mean is \",gvals.get_mean())\n",
    "print(\"The error weighted mean is \",gvals.get_error_weighted_mean())"
   ]
  },
  {
   "cell_type": "markdown",
   "metadata": {},
   "source": [
    "The MeasurementArray object truly is an array of Measurement objects, so individual measurements can be retrieved (remember that the first element in an array in python has index 0 not 1, so element 1 is the second element):"
   ]
  },
  {
   "cell_type": "code",
   "execution_count": 13,
   "metadata": {
    "collapsed": false
   },
   "outputs": [
    {
     "name": "stdout",
     "output_type": "stream",
     "text": [
      "14.000 +/- 3.000\n"
     ]
    }
   ],
   "source": [
    "print(gvals[1])"
   ]
  },
  {
   "cell_type": "markdown",
   "metadata": {},
   "source": [
    "## Error propagation methods\n",
    "\n",
    "### Derivative method (default)\n",
    "By default, QExPy propagates the uncertainties using the \"derivative\" method. That is, for a function, $f(x,y)$, that depends on measured quantities $x\\pm\\sigma_x$ and $y\\pm\\sigma_y$, with covariance $\\sigma_{xy}$ between the two measured quantities, the uncertainty in $f$ is given by:\n",
    "$$ \\sigma_f = \\sqrt{ \\left(\\frac{\\partial f}{\\partial x} \\sigma_x \\right)^2 + \\left(\\frac{\\partial f}{\\partial y} \\sigma_y \\right)^2 + 2 \\frac{\\partial f}{\\partial x} \\frac{\\partial f}{\\partial y}\\sigma_{xy} }$$\n",
    "\n",
    "QExPy evaluates the derivatives exactly when propagating the uncertainties using an algorithm called \"automatic differentiation\". This is possible as QExPy internally keeps track of the dependency of quantities on each other, and as an added bonus can also be used to evaluate numerical derivatives exactly. Although the derivative method is commonly taught in undergraduate laboratories, it is only valid when the relative uncertainties in the quantities being propagated are small (e.g. less than ~10% relative uncertainty). This method is thus not strongly encouraged, although it has been made the default because it is so prevalent in undergraduate teaching. \n",
    "\n",
    "\n",
    "### Min-Max method (not recommended)\n",
    "This is not the only way to propagate the uncertainty in $f$. For example, the \"Min-Max\" method, is a method to yield a more conservative (larger) estimate of the uncertainty in $f$ and is often used in introductory courses. The Min-Max method defines the central value and uncertainty in $f$ as:\n",
    "$$f=\\frac{1}{2}(f^{max}+f^{min})$$\n",
    "$$\\sigma_f=\\frac{1}{2}(f^{max}-f^{min})$$\n",
    "\n",
    "where $f^{max}$ ($f^{min}$) is the maximum (minimum) value that $f$ takes when $x$ and $y$ are varied within their uncertainty range. For example, if $f(x,y)=x+y$, then the maximum and minimum of $f$ are easily found:\n",
    "\n",
    "$$f^{max} = (x+\\sigma_x)+(y+\\sigma_y)$$\n",
    "$$f^{min} = (x-\\sigma_x)-(y-\\sigma_y)$$\n",
    "\n",
    "The Min-Max method actually requires a numerical approximation to evaluate the values of $f^{max}$ and $f^{min}$ for all but the most simple cases. Hence although it is a good method to introduce the idea of uncertainty propagation, it is not recommended to use this method in any serious calculation (it also does not take correlations into account). \n",
    "\n",
    "### Monte Carlo method (recommended!)\n",
    "Finally, the recommended method to propagate errors is the \"Monte-Carlo\" method, although it is the hardest to understand. The MC method is based on a statiscal understanding of the measurements. In the QExPy implementation, currently, the main assumptions is that the uncertainty in a quantity is given by a \"standard error\"; that is, if $x = 10\\pm 1$, then we *assume* that this error and uncertainty should be interpreted as: \"if we measure $x$ multiple times, we will obtain a set of measurements that are normally distributed with a mean of 10 and a standard deviation of 1\". In other words, we assume that $x$ has a 68% chance of being in the range between 9 and 11.\n",
    "\n",
    "\n",
    "The MC method then uses the assumption that measured quantities are normally distributed and use this to propagate the errors by using Monte Carlo simulation. Suppose that we have measured $x$ and $y$ and wish to determine the central value and uncertainty in $x=x+y$. The Monte Carlo method will generate normally distributed random values for $x$ and $y$ (the random numbers will be correctly correlated if the user has indicated that $x$ and $y$ are correlated), then it will add those random values together, to obtain a set of values for $z$. The mean and standard deviation of the random values for $z$ are taken as the central value and uncertainty in $z$. \n",
    "\n",
    "## What QExPy actually does\n",
    "Although the user appears to choose the method used to propagate the errors, QExPy always uses all three methods behind the scenes and the user only decides which method to print out. This allows QExPy to compare the results behind the scenes, in particular, to inform the users that the uncertainties using a particular method (e.g. derivative) may be inaccurate and to suggest that the user choose a different method. \n",
    "\n",
    "## Example\n",
    "Below, we illustrate an example of using the different methods to propagate the uncertainty in the Coulomb force based on the measurement of two charges, $q_1$ and $q_2$, and the distance between them, $r$. We illustrate how the derivative method does not give the correct answer if the relative uncertainties in the measured quantities are large. \n",
    "\n",
    "### 1 % relative uncertainty calculation\n"
   ]
  },
  {
   "cell_type": "code",
   "execution_count": 14,
   "metadata": {
    "collapsed": false
   },
   "outputs": [
    {
     "name": "stdout",
     "output_type": "stream",
     "text": [
      "Derivative method, F =  18.0000 +/- 0.4409\n",
      "Min-Max method, F = 18.0123 +/- 0.6148\n",
      "Monte Carlo method, F = 18.0007 +/- 0.4408\n"
     ]
    }
   ],
   "source": [
    "#Measurements with 1% relative uncertainties:\n",
    "relative_factor = 0.01 \n",
    "\n",
    "#Measured values\n",
    "q1m=1e-6\n",
    "q2m=2e-5\n",
    "rm=0.1\n",
    "\n",
    "#Convert to Measurement objects\n",
    "q1 = q.Measurement(q1m,relative_factor*q1m)\n",
    "q2 = q.Measurement(q2m,relative_factor*q2m)\n",
    "r = q.Measurement(rm,relative_factor*rm)\n",
    "#Coulomb's constant:\n",
    "k = 9e9 \n",
    "\n",
    "#Define the Force:\n",
    "F = k*q1*q2/r**2\n",
    "\n",
    "#Print out the different errors\n",
    "q.set_error_method(\"derivative\")\n",
    "print(\"Derivative method, F = \",F)\n",
    "q.set_error_method(\"minmax\")\n",
    "print(\"Min-Max method, F =\", F)\n",
    "q.set_error_method(\"mc\")\n",
    "print(\"Monte Carlo method, F =\",F)\n",
    "\n"
   ]
  },
  {
   "cell_type": "markdown",
   "metadata": {},
   "source": [
    "### 10 % relative uncertainty calculation\n",
    "We see that in this case, the Monte Carlo method returns a different uncertainty than the derivative method, because the derivative method is incorrect when the uncertainties are this large."
   ]
  },
  {
   "cell_type": "code",
   "execution_count": 15,
   "metadata": {
    "collapsed": false
   },
   "outputs": [
    {
     "name": "stdout",
     "output_type": "stream",
     "text": [
      "Derivative method, F =  18.000 +/- 4.409\n",
      "Min-Max method, F = 19.280 +/- 6.402\n",
      "Monte Carlo method, F = 18.616 +/- 4.757\n"
     ]
    },
    {
     "data": {
      "text/html": [
       "\n",
       "\n",
       "    <div class=\"bk-root\">\n",
       "        <div class=\"plotdiv\" id=\"8c5cb738-d05c-42d4-8979-699267255363\"></div>\n",
       "    </div>\n",
       "<script type=\"text/javascript\">\n",
       "  \n",
       "  (function(global) {\n",
       "    function now() {\n",
       "      return new Date();\n",
       "    }\n",
       "  \n",
       "    var force = \"\";\n",
       "  \n",
       "    if (typeof (window._bokeh_onload_callbacks) === \"undefined\" || force !== \"\") {\n",
       "      window._bokeh_onload_callbacks = [];\n",
       "      window._bokeh_is_loading = undefined;\n",
       "    }\n",
       "  \n",
       "    function run_callbacks() {\n",
       "      window._bokeh_onload_callbacks.forEach(function(callback) { callback() });\n",
       "      delete window._bokeh_onload_callbacks\n",
       "      console.info(\"Bokeh: all callbacks have finished\");\n",
       "    }\n",
       "  \n",
       "    function load_libs(js_urls, callback) {\n",
       "      window._bokeh_onload_callbacks.push(callback);\n",
       "      if (window._bokeh_is_loading > 0) {\n",
       "        console.log(\"Bokeh: BokehJS is being loaded, scheduling callback at\", now());\n",
       "        return null;\n",
       "      }\n",
       "      if (js_urls == null || js_urls.length === 0) {\n",
       "        run_callbacks();\n",
       "        return null;\n",
       "      }\n",
       "      console.log(\"Bokeh: BokehJS not loaded, scheduling load and callback at\", now());\n",
       "      window._bokeh_is_loading = js_urls.length;\n",
       "      for (var i = 0; i < js_urls.length; i++) {\n",
       "        var url = js_urls[i];\n",
       "        var s = document.createElement('script');\n",
       "        s.src = url;\n",
       "        s.async = false;\n",
       "        s.onreadystatechange = s.onload = function() {\n",
       "          window._bokeh_is_loading--;\n",
       "          if (window._bokeh_is_loading === 0) {\n",
       "            console.log(\"Bokeh: all BokehJS libraries loaded\");\n",
       "            run_callbacks()\n",
       "          }\n",
       "        };\n",
       "        s.onerror = function() {\n",
       "          console.warn(\"failed to load library \" + url);\n",
       "        };\n",
       "        console.log(\"Bokeh: injecting script tag for BokehJS library: \", url);\n",
       "        document.getElementsByTagName(\"head\")[0].appendChild(s);\n",
       "      }\n",
       "    };var element = document.getElementById(\"8c5cb738-d05c-42d4-8979-699267255363\");\n",
       "    if (element == null) {\n",
       "      console.log(\"Bokeh: ERROR: autoload.js configured with elementid '8c5cb738-d05c-42d4-8979-699267255363' but no matching script tag was found. \")\n",
       "      return false;\n",
       "    }\n",
       "  \n",
       "    var js_urls = [];\n",
       "  \n",
       "    var inline_js = [\n",
       "      function(Bokeh) {\n",
       "        Bokeh.$(function() {\n",
       "            var docs_json = {\"90c1d59b-3b38-4407-b8cb-b812c5df80d1\":{\"roots\":{\"references\":[{\"attributes\":{\"data_source\":{\"id\":\"b2b4902c-d16e-47c7-9353-ed2ef942bad6\",\"type\":\"ColumnDataSource\"},\"glyph\":{\"id\":\"4d69c97d-ad71-4b64-8da9-310ee32c4e3a\",\"type\":\"Line\"},\"hover_glyph\":null,\"nonselection_glyph\":{\"id\":\"ac79f296-fc0a-4638-8de3-b2cdfcddd890\",\"type\":\"Line\"},\"selection_glyph\":null},\"id\":\"04bef20e-7d4e-4a67-8c27-85a2977580be\",\"type\":\"GlyphRenderer\"},{\"attributes\":{},\"id\":\"b83a1c1c-e128-48ea-8883-3307c18cea16\",\"type\":\"BasicTickFormatter\"},{\"attributes\":{\"line_color\":{\"value\":\"red\"},\"line_dash\":[6],\"x\":{\"field\":\"x\"},\"y\":{\"field\":\"y\"}},\"id\":\"fb9b9d96-4ee6-4bb5-8090-353bf1429cd7\",\"type\":\"Line\"},{\"attributes\":{\"line_color\":{\"value\":\"red\"},\"line_dash\":[6],\"x\":{\"field\":\"x\"},\"y\":{\"field\":\"y\"}},\"id\":\"4d69c97d-ad71-4b64-8da9-310ee32c4e3a\",\"type\":\"Line\"},{\"attributes\":{\"line_alpha\":{\"value\":0.1},\"line_color\":{\"value\":\"#1f77b4\"},\"line_dash\":[6],\"x\":{\"field\":\"x\"},\"y\":{\"field\":\"y\"}},\"id\":\"39d3128f-73d5-4402-8cab-cf0329036592\",\"type\":\"Line\"},{\"attributes\":{\"formatter\":{\"id\":\"b83a1c1c-e128-48ea-8883-3307c18cea16\",\"type\":\"BasicTickFormatter\"},\"plot\":{\"id\":\"67b7e3d6-2b47-48fe-8e83-bc7a6a59f818\",\"subtype\":\"Figure\",\"type\":\"Plot\"},\"ticker\":{\"id\":\"e14bab81-7376-4632-994f-1ef97d6352fd\",\"type\":\"BasicTicker\"}},\"id\":\"dfdc3425-b7e2-4039-b4a2-d908c1b5d952\",\"type\":\"LinearAxis\"},{\"attributes\":{\"callback\":null},\"id\":\"89b14629-8352-4727-bf45-85e9df74a1c3\",\"type\":\"DataRange1d\"},{\"attributes\":{\"dimension\":1,\"plot\":{\"id\":\"67b7e3d6-2b47-48fe-8e83-bc7a6a59f818\",\"subtype\":\"Figure\",\"type\":\"Plot\"},\"ticker\":{\"id\":\"9e26fcb6-272f-4271-8522-1ba03bf33896\",\"type\":\"BasicTicker\"}},\"id\":\"b8669ebc-5d6b-4850-8325-6dbde7d7d28f\",\"type\":\"Grid\"},{\"attributes\":{\"line_alpha\":{\"value\":0.1},\"line_color\":{\"value\":\"#1f77b4\"},\"line_dash\":[6],\"x\":{\"field\":\"x\"},\"y\":{\"field\":\"y\"}},\"id\":\"ac79f296-fc0a-4638-8de3-b2cdfcddd890\",\"type\":\"Line\"},{\"attributes\":{\"bottom_units\":\"screen\",\"fill_alpha\":{\"value\":0.5},\"fill_color\":{\"value\":\"lightgrey\"},\"left_units\":\"screen\",\"level\":\"overlay\",\"line_alpha\":{\"value\":1.0},\"line_color\":{\"value\":\"black\"},\"line_dash\":[4,4],\"line_width\":{\"value\":2},\"plot\":null,\"render_mode\":\"css\",\"right_units\":\"screen\",\"top_units\":\"screen\"},\"id\":\"4e381a4f-31af-460e-9047-419fe6a9baad\",\"type\":\"BoxAnnotation\"},{\"attributes\":{\"formatter\":{\"id\":\"81e56a8a-38b2-43a6-92d0-d42e4a361835\",\"type\":\"BasicTickFormatter\"},\"plot\":{\"id\":\"67b7e3d6-2b47-48fe-8e83-bc7a6a59f818\",\"subtype\":\"Figure\",\"type\":\"Plot\"},\"ticker\":{\"id\":\"9e26fcb6-272f-4271-8522-1ba03bf33896\",\"type\":\"BasicTicker\"}},\"id\":\"b5ffa0e5-3cf3-4ae5-9e6b-d182c84d8f8d\",\"type\":\"LinearAxis\"},{\"attributes\":{\"data_source\":{\"id\":\"1991c508-6143-4db3-a4e5-d67bf2ca7386\",\"type\":\"ColumnDataSource\"},\"glyph\":{\"id\":\"55db5ce2-1adc-468f-9e07-8b3e095b2673\",\"type\":\"Line\"},\"hover_glyph\":null,\"nonselection_glyph\":{\"id\":\"39d3128f-73d5-4402-8cab-cf0329036592\",\"type\":\"Line\"},\"selection_glyph\":null},\"id\":\"bff6cfef-1c93-42a7-b440-85f95e1b9164\",\"type\":\"GlyphRenderer\"},{\"attributes\":{\"overlay\":{\"id\":\"4e381a4f-31af-460e-9047-419fe6a9baad\",\"type\":\"BoxAnnotation\"},\"plot\":{\"id\":\"67b7e3d6-2b47-48fe-8e83-bc7a6a59f818\",\"subtype\":\"Figure\",\"type\":\"Plot\"}},\"id\":\"c82ecfa3-b292-49aa-9052-45665afaa0de\",\"type\":\"BoxZoomTool\"},{\"attributes\":{\"plot\":{\"id\":\"67b7e3d6-2b47-48fe-8e83-bc7a6a59f818\",\"subtype\":\"Figure\",\"type\":\"Plot\"}},\"id\":\"0c1d0b28-5950-4e5c-ba23-8759a41fe488\",\"type\":\"ResetTool\"},{\"attributes\":{\"data_source\":{\"id\":\"c7c1c038-140d-4fa4-b0ea-c53ad10b154f\",\"type\":\"ColumnDataSource\"},\"glyph\":{\"id\":\"343e01ab-220f-4cbe-b104-f0358274ef31\",\"type\":\"Quad\"},\"hover_glyph\":null,\"nonselection_glyph\":{\"id\":\"cc2ed712-947f-4392-871d-0c5712d97617\",\"type\":\"Quad\"},\"selection_glyph\":null},\"id\":\"16ae88ba-75b3-4eca-a449-15858479dd49\",\"type\":\"GlyphRenderer\"},{\"attributes\":{\"line_color\":{\"value\":\"red\"},\"line_dash\":[6],\"x\":{\"field\":\"x\"},\"y\":{\"field\":\"y\"}},\"id\":\"55db5ce2-1adc-468f-9e07-8b3e095b2673\",\"type\":\"Line\"},{\"attributes\":{\"active_drag\":\"auto\",\"active_scroll\":\"auto\",\"active_tap\":\"auto\",\"tools\":[{\"id\":\"e96f2466-9792-42f1-8f0f-1c041af12a66\",\"type\":\"SaveTool\"},{\"id\":\"d9bd9ec4-065d-459b-ae36-b77f762ec1df\",\"type\":\"PanTool\"},{\"id\":\"c82ecfa3-b292-49aa-9052-45665afaa0de\",\"type\":\"BoxZoomTool\"},{\"id\":\"2cf6d958-9944-475d-a65b-63cf8b7d60f7\",\"type\":\"WheelZoomTool\"},{\"id\":\"0c1d0b28-5950-4e5c-ba23-8759a41fe488\",\"type\":\"ResetTool\"}]},\"id\":\"aa6b209a-a88a-4c4a-8d2e-01c082f2f0ef\",\"type\":\"Toolbar\"},{\"attributes\":{\"plot\":{\"id\":\"67b7e3d6-2b47-48fe-8e83-bc7a6a59f818\",\"subtype\":\"Figure\",\"type\":\"Plot\"}},\"id\":\"2cf6d958-9944-475d-a65b-63cf8b7d60f7\",\"type\":\"WheelZoomTool\"},{\"attributes\":{\"plot\":{\"id\":\"67b7e3d6-2b47-48fe-8e83-bc7a6a59f818\",\"subtype\":\"Figure\",\"type\":\"Plot\"},\"ticker\":{\"id\":\"e14bab81-7376-4632-994f-1ef97d6352fd\",\"type\":\"BasicTicker\"}},\"id\":\"4a8fa82e-0486-4456-9ddf-a1c8f4ce14a2\",\"type\":\"Grid\"},{\"attributes\":{},\"id\":\"81e56a8a-38b2-43a6-92d0-d42e4a361835\",\"type\":\"BasicTickFormatter\"},{\"attributes\":{},\"id\":\"9e26fcb6-272f-4271-8522-1ba03bf33896\",\"type\":\"BasicTicker\"},{\"attributes\":{\"line_alpha\":{\"value\":0.1},\"line_color\":{\"value\":\"#1f77b4\"},\"line_dash\":[6],\"x\":{\"field\":\"x\"},\"y\":{\"field\":\"y\"}},\"id\":\"db90117c-d0a1-432a-bbd2-88bc4da8050f\",\"type\":\"Line\"},{\"attributes\":{\"callback\":null,\"column_names\":[\"x\",\"y\"],\"data\":{\"x\":[18.0,18.0],\"y\":[0.0,864.1500000000001]}},\"id\":\"b2b4902c-d16e-47c7-9353-ed2ef942bad6\",\"type\":\"ColumnDataSource\"},{\"attributes\":{\"plot\":null,\"text\":\"unnamed_var13*9000000000*unnamed_var14/unnamed_var15**2 Histogram\"},\"id\":\"ba5949a2-4dd9-4876-b321-acce564ecf4a\",\"type\":\"Title\"},{\"attributes\":{},\"id\":\"e14bab81-7376-4632-994f-1ef97d6352fd\",\"type\":\"BasicTicker\"},{\"attributes\":{\"plot\":{\"id\":\"67b7e3d6-2b47-48fe-8e83-bc7a6a59f818\",\"subtype\":\"Figure\",\"type\":\"Plot\"}},\"id\":\"e96f2466-9792-42f1-8f0f-1c041af12a66\",\"type\":\"SaveTool\"},{\"attributes\":{},\"id\":\"849f9859-59b7-4a88-9b0a-810a735072bf\",\"type\":\"ToolEvents\"},{\"attributes\":{\"callback\":null,\"column_names\":[\"x\",\"y\"],\"data\":{\"x\":[13.59091846299028,13.59091846299028],\"y\":[0.0,905.3000000000001]}},\"id\":\"6d5fd556-4246-4b16-8fba-d915854df203\",\"type\":\"ColumnDataSource\"},{\"attributes\":{\"callback\":null,\"column_names\":[\"top\",\"left\",\"right\"],\"data\":{\"left\":[6.766801848992965,7.602285993777759,8.437770138562552,9.273254283347345,10.108738428132138,10.944222572916932,11.779706717701727,12.615190862486521,13.450675007271315,14.286159152056108,15.121643296840901,15.957127441625694,16.792611586410487,17.62809573119528,18.463579875980077,19.29906402076487,20.134548165549663,20.970032310334457,21.80551645511925,22.641000599904043,23.476484744688836,24.311968889473633,25.147453034258426,25.98293717904322,26.818421323828012,27.653905468612805,28.4893896133976,29.32487375818239,30.16035790296719,30.99584204775198,31.831326192536775,32.666810337321564,33.50229448210636,34.33777862689115,35.173262771675944,36.00874691646074,36.84423106124553,37.67971520603033,38.515199350815124,39.35068349559991,40.1861676403847,41.0216517851695,41.857135929954296,42.69262007473909,43.52810421952388,44.363588364308676,45.19907250909347,46.03455665387826,46.870040798663055,47.70552494344785],\"right\":[7.602285993777759,8.437770138562552,9.273254283347345,10.108738428132138,10.944222572916932,11.779706717701727,12.615190862486521,13.450675007271315,14.286159152056108,15.121643296840901,15.957127441625694,16.792611586410487,17.62809573119528,18.463579875980077,19.29906402076487,20.134548165549663,20.970032310334457,21.80551645511925,22.641000599904043,23.476484744688836,24.311968889473633,25.147453034258426,25.98293717904322,26.818421323828012,27.653905468612805,28.4893896133976,29.32487375818239,30.16035790296719,30.99584204775198,31.831326192536775,32.666810337321564,33.50229448210636,34.33777862689115,35.173262771675944,36.00874691646074,36.84423106124553,37.67971520603033,38.515199350815124,39.35068349559991,40.1861676403847,41.0216517851695,41.857135929954296,42.69262007473909,43.52810421952388,44.363588364308676,45.19907250909347,46.03455665387826,46.870040798663055,47.70552494344785,48.54100908823264],\"top\":[3,1,17,54,102,196,322,454,556,698,706,765,823,773,748,614,541,452,407,310,279,248,176,161,136,92,81,60,56,30,29,27,19,11,13,8,5,4,2,4,6,3,3,0,1,1,1,1,0,1]}},\"id\":\"c7c1c038-140d-4fa4-b0ea-c53ad10b154f\",\"type\":\"ColumnDataSource\"},{\"attributes\":{\"callback\":null,\"column_names\":[\"x\",\"y\"],\"data\":{\"x\":[22.40908153700972,22.40908153700972],\"y\":[0.0,905.3000000000001]}},\"id\":\"1991c508-6143-4db3-a4e5-d67bf2ca7386\",\"type\":\"ColumnDataSource\"},{\"attributes\":{\"plot\":{\"id\":\"67b7e3d6-2b47-48fe-8e83-bc7a6a59f818\",\"subtype\":\"Figure\",\"type\":\"Plot\"}},\"id\":\"d9bd9ec4-065d-459b-ae36-b77f762ec1df\",\"type\":\"PanTool\"},{\"attributes\":{\"bottom\":{\"value\":0},\"fill_alpha\":{\"value\":0.1},\"fill_color\":{\"value\":\"#1f77b4\"},\"left\":{\"field\":\"left\"},\"line_alpha\":{\"value\":0.1},\"line_color\":{\"value\":\"#1f77b4\"},\"right\":{\"field\":\"right\"},\"top\":{\"field\":\"top\"}},\"id\":\"cc2ed712-947f-4392-871d-0c5712d97617\",\"type\":\"Quad\"},{\"attributes\":{\"callback\":null},\"id\":\"535b7a93-dc26-4b52-bdec-511407d00dca\",\"type\":\"DataRange1d\"},{\"attributes\":{\"data_source\":{\"id\":\"6d5fd556-4246-4b16-8fba-d915854df203\",\"type\":\"ColumnDataSource\"},\"glyph\":{\"id\":\"fb9b9d96-4ee6-4bb5-8090-353bf1429cd7\",\"type\":\"Line\"},\"hover_glyph\":null,\"nonselection_glyph\":{\"id\":\"db90117c-d0a1-432a-bbd2-88bc4da8050f\",\"type\":\"Line\"},\"selection_glyph\":null},\"id\":\"837c96cb-8a1f-4f0e-b94b-1d475f341ac7\",\"type\":\"GlyphRenderer\"},{\"attributes\":{\"bottom\":{\"value\":0},\"fill_color\":{\"value\":\"#036564\"},\"left\":{\"field\":\"left\"},\"line_color\":{\"value\":\"#033649\"},\"right\":{\"field\":\"right\"},\"top\":{\"field\":\"top\"}},\"id\":\"343e01ab-220f-4cbe-b104-f0358274ef31\",\"type\":\"Quad\"},{\"attributes\":{\"background_fill_color\":{\"value\":\"#FFFFFF\"},\"below\":[{\"id\":\"dfdc3425-b7e2-4039-b4a2-d908c1b5d952\",\"type\":\"LinearAxis\"}],\"left\":[{\"id\":\"b5ffa0e5-3cf3-4ae5-9e6b-d182c84d8f8d\",\"type\":\"LinearAxis\"}],\"renderers\":[{\"id\":\"dfdc3425-b7e2-4039-b4a2-d908c1b5d952\",\"type\":\"LinearAxis\"},{\"id\":\"4a8fa82e-0486-4456-9ddf-a1c8f4ce14a2\",\"type\":\"Grid\"},{\"id\":\"b5ffa0e5-3cf3-4ae5-9e6b-d182c84d8f8d\",\"type\":\"LinearAxis\"},{\"id\":\"b8669ebc-5d6b-4850-8325-6dbde7d7d28f\",\"type\":\"Grid\"},{\"id\":\"4e381a4f-31af-460e-9047-419fe6a9baad\",\"type\":\"BoxAnnotation\"},{\"id\":\"16ae88ba-75b3-4eca-a449-15858479dd49\",\"type\":\"GlyphRenderer\"},{\"id\":\"04bef20e-7d4e-4a67-8c27-85a2977580be\",\"type\":\"GlyphRenderer\"},{\"id\":\"837c96cb-8a1f-4f0e-b94b-1d475f341ac7\",\"type\":\"GlyphRenderer\"},{\"id\":\"bff6cfef-1c93-42a7-b440-85f95e1b9164\",\"type\":\"GlyphRenderer\"}],\"title\":{\"id\":\"ba5949a2-4dd9-4876-b321-acce564ecf4a\",\"type\":\"Title\"},\"tool_events\":{\"id\":\"849f9859-59b7-4a88-9b0a-810a735072bf\",\"type\":\"ToolEvents\"},\"toolbar\":{\"id\":\"aa6b209a-a88a-4c4a-8d2e-01c082f2f0ef\",\"type\":\"Toolbar\"},\"x_range\":{\"id\":\"535b7a93-dc26-4b52-bdec-511407d00dca\",\"type\":\"DataRange1d\"},\"y_range\":{\"id\":\"89b14629-8352-4727-bf45-85e9df74a1c3\",\"type\":\"DataRange1d\"}},\"id\":\"67b7e3d6-2b47-48fe-8e83-bc7a6a59f818\",\"subtype\":\"Figure\",\"type\":\"Plot\"}],\"root_ids\":[\"67b7e3d6-2b47-48fe-8e83-bc7a6a59f818\"]},\"title\":\"Bokeh Application\",\"version\":\"0.12.1\"}};\n",
       "            var render_items = [{\"docid\":\"90c1d59b-3b38-4407-b8cb-b812c5df80d1\",\"elementid\":\"8c5cb738-d05c-42d4-8979-699267255363\",\"modelid\":\"67b7e3d6-2b47-48fe-8e83-bc7a6a59f818\",\"notebook_comms_target\":\"cbd559a9-bc9c-49f4-9be8-ab938a7a6339\"}];\n",
       "            \n",
       "            Bokeh.embed.embed_items(docs_json, render_items);\n",
       "        });\n",
       "      },\n",
       "      function(Bokeh) {\n",
       "      }\n",
       "    ];\n",
       "  \n",
       "    function run_inline_js() {\n",
       "      for (var i = 0; i < inline_js.length; i++) {\n",
       "        inline_js[i](window.Bokeh);\n",
       "      }\n",
       "    }\n",
       "  \n",
       "    if (window._bokeh_is_loading === 0) {\n",
       "      console.log(\"Bokeh: BokehJS loaded, going straight to plotting\");\n",
       "      run_inline_js();\n",
       "    } else {\n",
       "      load_libs(js_urls, function() {\n",
       "        console.log(\"Bokeh: BokehJS plotting callback run at\", now());\n",
       "        run_inline_js();\n",
       "      });\n",
       "    }\n",
       "  }(this));\n",
       "</script>"
      ]
     },
     "metadata": {},
     "output_type": "display_data"
    },
    {
     "data": {
      "text/plain": [
       "<bokeh.plotting.figure.Figure at 0x2111856fe48>"
      ]
     },
     "execution_count": 15,
     "metadata": {},
     "output_type": "execute_result"
    }
   ],
   "source": [
    "#Measurements with 10% relative uncertainties:\n",
    "relative_factor = 0.1 \n",
    "\n",
    "#Measured values\n",
    "q1m=1e-6\n",
    "q2m=2e-5\n",
    "rm=0.1\n",
    "\n",
    "#Convert to Measurement objects\n",
    "q1 = q.Measurement(q1m,relative_factor*q1m)\n",
    "q2 = q.Measurement(q2m,relative_factor*q2m)\n",
    "r = q.Measurement(rm,relative_factor*rm)\n",
    "#Coulomb's constant:\n",
    "k = 9e9 \n",
    "\n",
    "#Define the Force:\n",
    "F = k*q1*q2/r**2\n",
    "\n",
    "#Print out the different errors\n",
    "q.set_error_method(\"derivative\")\n",
    "print(\"Derivative method, F = \",F)\n",
    "q.set_error_method(\"minmax\")\n",
    "print(\"Min-Max method, F =\", F)\n",
    "q.set_error_method(\"mc\")\n",
    "print(\"Monte Carlo method, F =\",F)\n",
    "\n",
    "F.show_MC_histogram()"
   ]
  },
  {
   "cell_type": "markdown",
   "metadata": {
    "collapsed": false
   },
   "source": [
    "## Exact derivatives\n",
    "Since QExPy needs to be able to evaluate derivatives (by using the automatic differentiation algorithm that exploits the Chain Rule), we can use QExPy to evaluate numerical derivatives exactly. That is, given a function, $f(x,y)$, QExPy can evaluate $\\frac{\\partial f(x,y)}{\\partial x}$ at a given value of $x$ and $y$.\n",
    "\n",
    "For example, if we have:\n",
    "$$x(t) = \\frac{1}{2}gt^2 $$\n",
    "\n",
    "and we have measured $t=8 \\pm 1$, we can evaluate the exact value of the derivative:\n",
    "\n",
    "$$\\frac{\\partial x(t)}{\\partial t} = \\frac{d x(t)}{d t}  = gt$$\n",
    "\n",
    "at $t=8 \\pm 1$\n"
   ]
  },
  {
   "cell_type": "code",
   "execution_count": 16,
   "metadata": {
    "collapsed": false
   },
   "outputs": [
    {
     "name": "stdout",
     "output_type": "stream",
     "text": [
      "78.48\n"
     ]
    }
   ],
   "source": [
    "t = q.Measurement(8,1)\n",
    "x = 0.5 * 9.81 * t**2\n",
    "print(x.get_derivative(t))"
   ]
  },
  {
   "cell_type": "code",
   "execution_count": null,
   "metadata": {
    "collapsed": false
   },
   "outputs": [],
   "source": []
  },
  {
   "cell_type": "code",
   "execution_count": null,
   "metadata": {
    "collapsed": true
   },
   "outputs": [],
   "source": []
  }
 ],
 "metadata": {
  "kernelspec": {
   "display_name": "Python 3",
   "language": "python",
   "name": "python3"
  },
  "language_info": {
   "codemirror_mode": {
    "name": "ipython",
    "version": 3
   },
   "file_extension": ".py",
   "mimetype": "text/x-python",
   "name": "python",
   "nbconvert_exporter": "python",
   "pygments_lexer": "ipython3",
   "version": "3.5.2"
  }
 },
 "nbformat": 4,
 "nbformat_minor": 0
}
