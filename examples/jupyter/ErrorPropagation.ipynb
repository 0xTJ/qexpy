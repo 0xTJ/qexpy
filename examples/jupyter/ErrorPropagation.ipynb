{
 "cells": [
  {
   "cell_type": "markdown",
   "metadata": {},
   "source": [
    "# Error Propagation with QExPy\n",
    "\n",
    "The first step is to import the error module for error propagation. We'll import it as \"e\":"
   ]
  },
  {
   "cell_type": "code",
   "execution_count": 1,
   "metadata": {
    "collapsed": false
   },
   "outputs": [
    {
     "data": {
      "text/html": [
       "\n",
       "    <div class=\"bk-root\">\n",
       "        <a href=\"http://bokeh.pydata.org\" target=\"_blank\" class=\"bk-logo bk-logo-small bk-logo-notebook\"></a>\n",
       "        <span id=\"5cd84c0d-683a-4759-a1b3-5048fe26fa10\">Loading BokehJS ...</span>\n",
       "    </div>"
      ]
     },
     "metadata": {},
     "output_type": "display_data"
    },
    {
     "data": {
      "application/javascript": [
       "\n",
       "(function(global) {\n",
       "  function now() {\n",
       "    return new Date();\n",
       "  }\n",
       "\n",
       "  var force = \"1\";\n",
       "\n",
       "  if (typeof (window._bokeh_onload_callbacks) === \"undefined\" || force !== \"\") {\n",
       "    window._bokeh_onload_callbacks = [];\n",
       "    window._bokeh_is_loading = undefined;\n",
       "  }\n",
       "\n",
       "  function run_callbacks() {\n",
       "    window._bokeh_onload_callbacks.forEach(function(callback) { callback() });\n",
       "    delete window._bokeh_onload_callbacks\n",
       "    console.info(\"Bokeh: all callbacks have finished\");\n",
       "  }\n",
       "\n",
       "  function load_libs(js_urls, callback) {\n",
       "    window._bokeh_onload_callbacks.push(callback);\n",
       "    if (window._bokeh_is_loading > 0) {\n",
       "      console.log(\"Bokeh: BokehJS is being loaded, scheduling callback at\", now());\n",
       "      return null;\n",
       "    }\n",
       "    if (js_urls == null || js_urls.length === 0) {\n",
       "      run_callbacks();\n",
       "      return null;\n",
       "    }\n",
       "    console.log(\"Bokeh: BokehJS not loaded, scheduling load and callback at\", now());\n",
       "    window._bokeh_is_loading = js_urls.length;\n",
       "    for (var i = 0; i < js_urls.length; i++) {\n",
       "      var url = js_urls[i];\n",
       "      var s = document.createElement('script');\n",
       "      s.src = url;\n",
       "      s.async = false;\n",
       "      s.onreadystatechange = s.onload = function() {\n",
       "        window._bokeh_is_loading--;\n",
       "        if (window._bokeh_is_loading === 0) {\n",
       "          console.log(\"Bokeh: all BokehJS libraries loaded\");\n",
       "          run_callbacks()\n",
       "        }\n",
       "      };\n",
       "      s.onerror = function() {\n",
       "        console.warn(\"failed to load library \" + url);\n",
       "      };\n",
       "      console.log(\"Bokeh: injecting script tag for BokehJS library: \", url);\n",
       "      document.getElementsByTagName(\"head\")[0].appendChild(s);\n",
       "    }\n",
       "  };\n",
       "\n",
       "  var js_urls = ['https://cdn.pydata.org/bokeh/release/bokeh-0.12.1.min.js', 'https://cdn.pydata.org/bokeh/release/bokeh-widgets-0.12.1.min.js', 'https://cdn.pydata.org/bokeh/release/bokeh-compiler-0.12.1.min.js'];\n",
       "\n",
       "  var inline_js = [\n",
       "    function(Bokeh) {\n",
       "      Bokeh.set_log_level(\"info\");\n",
       "    },\n",
       "    \n",
       "    function(Bokeh) {\n",
       "      \n",
       "      Bokeh.$(\"#5cd84c0d-683a-4759-a1b3-5048fe26fa10\").text(\"BokehJS successfully loaded\");\n",
       "      var kernel = Jupyter.notebook.kernel\n",
       "      if (kernel.execute !== undefined) {\n",
       "          kernel.execute(\"import bokeh.io; bokeh.io._nb_loaded = True\");\n",
       "      }\n",
       "    },\n",
       "    function(Bokeh) {\n",
       "      console.log(\"Bokeh: injecting CSS: https://cdn.pydata.org/bokeh/release/bokeh-0.12.1.min.css\");\n",
       "      Bokeh.embed.inject_css(\"https://cdn.pydata.org/bokeh/release/bokeh-0.12.1.min.css\");\n",
       "      console.log(\"Bokeh: injecting CSS: https://cdn.pydata.org/bokeh/release/bokeh-widgets-0.12.1.min.css\");\n",
       "      Bokeh.embed.inject_css(\"https://cdn.pydata.org/bokeh/release/bokeh-widgets-0.12.1.min.css\");\n",
       "    }\n",
       "  ];\n",
       "\n",
       "  function run_inline_js() {\n",
       "    for (var i = 0; i < inline_js.length; i++) {\n",
       "      inline_js[i](window.Bokeh);\n",
       "    }\n",
       "  }\n",
       "\n",
       "  if (window._bokeh_is_loading === 0) {\n",
       "    console.log(\"Bokeh: BokehJS loaded, going straight to plotting\");\n",
       "    run_inline_js();\n",
       "  } else {\n",
       "    load_libs(js_urls, function() {\n",
       "      console.log(\"Bokeh: BokehJS plotting callback run at\", now());\n",
       "      run_inline_js();\n",
       "    });\n",
       "  }\n",
       "}(this));"
      ]
     },
     "metadata": {},
     "output_type": "display_data"
    }
   ],
   "source": [
    "import qexpy as q\n"
   ]
  },
  {
   "cell_type": "markdown",
   "metadata": {},
   "source": [
    "Next, we'll declare two measured values, x and y, with uncertainties, and print them out. We use the Measurement object from the qexpy.error package:"
   ]
  },
  {
   "cell_type": "code",
   "execution_count": 2,
   "metadata": {
    "collapsed": false,
    "scrolled": true
   },
   "outputs": [
    {
     "name": "stdout",
     "output_type": "stream",
     "text": [
      "x = 10 +/- 1\n",
      "y = 5 +/- 3\n"
     ]
    }
   ],
   "source": [
    "#Our two measured values:\n",
    "x = q.Measurement(10,1)\n",
    "y = q.Measurement(5,3)\n",
    "\n",
    "#We can print them out:\n",
    "print(\"x =\",x)\n",
    "print(\"y =\",y)\n",
    "#x.set_correlation(y,0.3)"
   ]
  },
  {
   "cell_type": "markdown",
   "metadata": {},
   "source": [
    "We can declare a third object, z, which depends on x and y. The uncertainty in x and y will be correctly propagated to z, so once we have defined z, we can simply print it out with the correct uncertainty:"
   ]
  },
  {
   "cell_type": "code",
   "execution_count": 3,
   "metadata": {
    "collapsed": false
   },
   "outputs": [
    {
     "name": "stdout",
     "output_type": "stream",
     "text": [
      "z = 15 +/- 3\n"
     ]
    }
   ],
   "source": [
    "#We define z\n",
    "z = x+y\n",
    "#z can now be printed out\n",
    "print(\"z =\",z)"
   ]
  },
  {
   "cell_type": "markdown",
   "metadata": {},
   "source": [
    "Note how the uncertainties have been kept to 1 significant figure. In this case, the error in z was obtained by adding the errors in x and y in quadrature. We can change the number of significant figures to confirm that the errors were indeed added in quadrature. We can choose between setting  the number of significant figures based on the uncertainty (more common) or based on the central value."
   ]
  },
  {
   "cell_type": "code",
   "execution_count": 4,
   "metadata": {
    "collapsed": false
   },
   "outputs": [
    {
     "name": "stdout",
     "output_type": "stream",
     "text": [
      "z = 15.000 +/- 3.162\n"
     ]
    }
   ],
   "source": [
    "q.set_sigfigs_error(4) # set sigfigs based on the error\n",
    "print(\"z =\",z)"
   ]
  },
  {
   "cell_type": "markdown",
   "metadata": {},
   "source": [
    "Let's compare the error in z to what the errors in x and y are when added manually in quadrature. We need to import the sqrt() function from the math package to apply mathematical functions to numbers:"
   ]
  },
  {
   "cell_type": "code",
   "execution_count": 5,
   "metadata": {
    "collapsed": false
   },
   "outputs": [
    {
     "name": "stdout",
     "output_type": "stream",
     "text": [
      "3.1622776601683795\n"
     ]
    }
   ],
   "source": [
    "import math as m\n",
    "quadrature = m.sqrt(x.std**2+y.std**2)\n",
    "print(quadrature)"
   ]
  },
  {
   "cell_type": "markdown",
   "metadata": {},
   "source": [
    "## Math functions\n",
    "We can propagate the uncertainties through any operator (+,-,\\*,/) automatically as we showed above. QExPy also knows how to propagate the uncertainty through common mathematical functions. To use mathematical functions on Measurement objects, we need to call the functions from the QExPy package (as opposed to the math package as we did above for 2 numbers)."
   ]
  },
  {
   "cell_type": "code",
   "execution_count": 6,
   "metadata": {
    "collapsed": false
   },
   "outputs": [
    {
     "name": "stdout",
     "output_type": "stream",
     "text": [
      "time =  1.277102 +/- 0.007982 seconds\n"
     ]
    }
   ],
   "source": [
    "#If an object fell a distance of 8.0 +/0.1 m, how long did it take to fall?\n",
    "y = q.Measurement(8,0.1)\n",
    "g = 9.81\n",
    "t = q.sqrt(2*y/g)\n",
    "print(\"time = \",t, \"seconds\")"
   ]
  },
  {
   "cell_type": "markdown",
   "metadata": {},
   "source": [
    "## Error in correlated quantities\n",
    "If we have two measurements, x and y, that are correlated, then their correlation factor will impact the uncertainty on a quantity that depends on them:"
   ]
  },
  {
   "cell_type": "code",
   "execution_count": 7,
   "metadata": {
    "collapsed": false
   },
   "outputs": [
    {
     "name": "stdout",
     "output_type": "stream",
     "text": [
      "x and y uncorrelated: z= 15.000 +/- 3.162\n",
      "x and y positively correlated: z= 15.000 +/- 3.606\n",
      "x and y negatively correlated: z= 15.000 +/- 2.646\n"
     ]
    }
   ],
   "source": [
    "x = q.Measurement(10,1)\n",
    "y = q.Measurement(5,3)\n",
    "z = x+y\n",
    "print(\"x and y uncorrelated: z=\",z)\n",
    "\n",
    "#Now set a correlation factor between x and y:\n",
    "x.set_correlation(y,0.5)\n",
    "z = x+y\n",
    "print(\"x and y positively correlated: z=\",z)\n",
    "\n",
    "#We can also use the covariance factor instead of the correlation factor:\n",
    "x.set_covariance(y,-1.5)\n",
    "z = x+y\n",
    "print(\"x and y negatively correlated: z=\",z)"
   ]
  },
  {
   "cell_type": "markdown",
   "metadata": {},
   "source": [
    "If we don't specify any correlation factors, then all quantities are assumed to be independent. However, a quantity should not be independent from itself, so QExPy knows how to track the correlation in quantities that depend on common quantities. "
   ]
  },
  {
   "cell_type": "code",
   "execution_count": 8,
   "metadata": {
    "collapsed": false
   },
   "outputs": [
    {
     "name": "stdout",
     "output_type": "stream",
     "text": [
      "0.000 +/- 0.000\n"
     ]
    }
   ],
   "source": [
    "x = q.Measurement(10,1)\n",
    "y = x*x\n",
    "z = x*x - y #this should be 0 +/- 0, since it's really x^2 - x^2 \n",
    "print(z)"
   ]
  },
  {
   "cell_type": "markdown",
   "metadata": {
    "collapsed": true
   },
   "source": [
    "## Statistical measurements\n",
    "QExPy can also handle the case when you have repeated measurements of a single quantity and you want to average them together. Suppose that you have measured 5 values of some quantity T. QExPy will automatically assume that those values should be averaged together so that T is given by the mean of the measured values with an uncertainty given by the standard deviation of the values.\n"
   ]
  },
  {
   "cell_type": "code",
   "execution_count": 9,
   "metadata": {
    "collapsed": false
   },
   "outputs": [
    {
     "name": "stdout",
     "output_type": "stream",
     "text": [
      "5.3000 +/- 0.5431\n"
     ]
    }
   ],
   "source": [
    "T=q.Measurement( [5.6, 4.8, 6.1, 4.9, 5.1 ] )\n",
    "print(T)"
   ]
  },
  {
   "cell_type": "markdown",
   "metadata": {},
   "source": [
    "T can be used just as any other measurement with uncertainties, and its error will be propagate correctly:"
   ]
  },
  {
   "cell_type": "code",
   "execution_count": 10,
   "metadata": {
    "collapsed": false
   },
   "outputs": [
    {
     "name": "stdout",
     "output_type": "stream",
     "text": [
      "1.1849 +/- 0.1214\n"
     ]
    }
   ],
   "source": [
    "omega = 2*3.14/T\n",
    "print(omega)"
   ]
  },
  {
   "cell_type": "markdown",
   "metadata": {},
   "source": [
    "If we have measured many values, it can sometimes be useful to visualize those measurements in a histogram. QExPy will automatically create a histogram of the values, showing lines corresponding to the mean and the range covered by one standard deviation"
   ]
  },
  {
   "cell_type": "code",
   "execution_count": 11,
   "metadata": {
    "collapsed": false
   },
   "outputs": [
    {
     "data": {
      "text/html": [
       "\n",
       "\n",
       "    <div class=\"bk-root\">\n",
       "        <div class=\"plotdiv\" id=\"7d67d388-c735-4ec2-9b6d-497a37dc6da2\"></div>\n",
       "    </div>\n",
       "<script type=\"text/javascript\">\n",
       "  \n",
       "  (function(global) {\n",
       "    function now() {\n",
       "      return new Date();\n",
       "    }\n",
       "  \n",
       "    var force = \"\";\n",
       "  \n",
       "    if (typeof (window._bokeh_onload_callbacks) === \"undefined\" || force !== \"\") {\n",
       "      window._bokeh_onload_callbacks = [];\n",
       "      window._bokeh_is_loading = undefined;\n",
       "    }\n",
       "  \n",
       "    function run_callbacks() {\n",
       "      window._bokeh_onload_callbacks.forEach(function(callback) { callback() });\n",
       "      delete window._bokeh_onload_callbacks\n",
       "      console.info(\"Bokeh: all callbacks have finished\");\n",
       "    }\n",
       "  \n",
       "    function load_libs(js_urls, callback) {\n",
       "      window._bokeh_onload_callbacks.push(callback);\n",
       "      if (window._bokeh_is_loading > 0) {\n",
       "        console.log(\"Bokeh: BokehJS is being loaded, scheduling callback at\", now());\n",
       "        return null;\n",
       "      }\n",
       "      if (js_urls == null || js_urls.length === 0) {\n",
       "        run_callbacks();\n",
       "        return null;\n",
       "      }\n",
       "      console.log(\"Bokeh: BokehJS not loaded, scheduling load and callback at\", now());\n",
       "      window._bokeh_is_loading = js_urls.length;\n",
       "      for (var i = 0; i < js_urls.length; i++) {\n",
       "        var url = js_urls[i];\n",
       "        var s = document.createElement('script');\n",
       "        s.src = url;\n",
       "        s.async = false;\n",
       "        s.onreadystatechange = s.onload = function() {\n",
       "          window._bokeh_is_loading--;\n",
       "          if (window._bokeh_is_loading === 0) {\n",
       "            console.log(\"Bokeh: all BokehJS libraries loaded\");\n",
       "            run_callbacks()\n",
       "          }\n",
       "        };\n",
       "        s.onerror = function() {\n",
       "          console.warn(\"failed to load library \" + url);\n",
       "        };\n",
       "        console.log(\"Bokeh: injecting script tag for BokehJS library: \", url);\n",
       "        document.getElementsByTagName(\"head\")[0].appendChild(s);\n",
       "      }\n",
       "    };var element = document.getElementById(\"7d67d388-c735-4ec2-9b6d-497a37dc6da2\");\n",
       "    if (element == null) {\n",
       "      console.log(\"Bokeh: ERROR: autoload.js configured with elementid '7d67d388-c735-4ec2-9b6d-497a37dc6da2' but no matching script tag was found. \")\n",
       "      return false;\n",
       "    }\n",
       "  \n",
       "    var js_urls = [];\n",
       "  \n",
       "    var inline_js = [\n",
       "      function(Bokeh) {\n",
       "        Bokeh.$(function() {\n",
       "            var docs_json = {\"01223d32-6aa7-415f-b87d-7651a4af5028\":{\"roots\":{\"references\":[{\"attributes\":{\"plot\":{\"id\":\"6fc133c6-f233-4084-9c4d-aa93eefd1d44\",\"subtype\":\"Figure\",\"type\":\"Plot\"}},\"id\":\"b62770e8-9710-4698-a596-0fdda84eded2\",\"type\":\"ResetTool\"},{\"attributes\":{\"overlay\":{\"id\":\"6b81fa2d-2dfb-4c33-ac2b-85338e8c4209\",\"type\":\"BoxAnnotation\"},\"plot\":{\"id\":\"6fc133c6-f233-4084-9c4d-aa93eefd1d44\",\"subtype\":\"Figure\",\"type\":\"Plot\"}},\"id\":\"3d07e073-925b-4a1b-a145-ecb6f952913f\",\"type\":\"BoxZoomTool\"},{\"attributes\":{\"line_alpha\":{\"value\":0.1},\"line_color\":{\"value\":\"#1f77b4\"},\"line_dash\":[6],\"x\":{\"field\":\"x\"},\"y\":{\"field\":\"y\"}},\"id\":\"557054df-af9d-42c4-a7ee-7ab1ad551bfd\",\"type\":\"Line\"},{\"attributes\":{\"callback\":null,\"column_names\":[\"left\",\"top\",\"right\"],\"data\":{\"left\":[4.8,4.826,4.851999999999999,4.878,4.904,4.93,4.9559999999999995,4.982,5.008,5.034,5.06,5.085999999999999,5.112,5.138,5.164,5.1899999999999995,5.215999999999999,5.242,5.268,5.294,5.319999999999999,5.346,5.372,5.398,5.4239999999999995,5.449999999999999,5.476,5.502,5.528,5.553999999999999,5.58,5.606,5.632,5.6579999999999995,5.683999999999999,5.71,5.736,5.762,5.787999999999999,5.814,5.84,5.866,5.8919999999999995,5.917999999999999,5.943999999999999,5.97,5.9959999999999996,6.021999999999999,6.048,6.074],\"right\":[4.826,4.851999999999999,4.878,4.904,4.93,4.9559999999999995,4.982,5.008,5.034,5.06,5.085999999999999,5.112,5.138,5.164,5.1899999999999995,5.215999999999999,5.242,5.268,5.294,5.319999999999999,5.346,5.372,5.398,5.4239999999999995,5.449999999999999,5.476,5.502,5.528,5.553999999999999,5.58,5.606,5.632,5.6579999999999995,5.683999999999999,5.71,5.736,5.762,5.787999999999999,5.814,5.84,5.866,5.8919999999999995,5.917999999999999,5.943999999999999,5.97,5.9959999999999996,6.021999999999999,6.048,6.074,6.1],\"top\":[1,0,0,1,0,0,0,0,0,0,0,1,0,0,0,0,0,0,0,0,0,0,0,0,0,0,0,0,0,0,1,0,0,0,0,0,0,0,0,0,0,0,0,0,0,0,0,0,0,1]}},\"id\":\"52f20395-9369-411f-9720-ec5c2d36b4ad\",\"type\":\"ColumnDataSource\"},{\"attributes\":{\"formatter\":{\"id\":\"986ae000-02f2-4c78-91b8-93ff0d0ae8cd\",\"type\":\"BasicTickFormatter\"},\"plot\":{\"id\":\"6fc133c6-f233-4084-9c4d-aa93eefd1d44\",\"subtype\":\"Figure\",\"type\":\"Plot\"},\"ticker\":{\"id\":\"bd55d1c4-0ed0-4208-a107-f9c9951a8160\",\"type\":\"BasicTicker\"}},\"id\":\"c2358c5c-8591-4ac6-896c-c65856b3305f\",\"type\":\"LinearAxis\"},{\"attributes\":{\"data_source\":{\"id\":\"52f20395-9369-411f-9720-ec5c2d36b4ad\",\"type\":\"ColumnDataSource\"},\"glyph\":{\"id\":\"6b7f0b22-bfa3-4d9d-b8f7-df9fc8a56726\",\"type\":\"Quad\"},\"hover_glyph\":null,\"nonselection_glyph\":{\"id\":\"07edc7d7-47c1-4d6b-971b-b6102b7fd001\",\"type\":\"Quad\"},\"selection_glyph\":null},\"id\":\"635dbd13-86b2-4d59-affd-c2b5ed94611c\",\"type\":\"GlyphRenderer\"},{\"attributes\":{\"bottom_units\":\"screen\",\"fill_alpha\":{\"value\":0.5},\"fill_color\":{\"value\":\"lightgrey\"},\"left_units\":\"screen\",\"level\":\"overlay\",\"line_alpha\":{\"value\":1.0},\"line_color\":{\"value\":\"black\"},\"line_dash\":[4,4],\"line_width\":{\"value\":2},\"plot\":null,\"render_mode\":\"css\",\"right_units\":\"screen\",\"top_units\":\"screen\"},\"id\":\"6b81fa2d-2dfb-4c33-ac2b-85338e8c4209\",\"type\":\"BoxAnnotation\"},{\"attributes\":{},\"id\":\"15db3eb8-34d3-4c7b-b5dd-8ba6162e928e\",\"type\":\"BasicTicker\"},{\"attributes\":{\"callback\":null,\"column_names\":[\"x\",\"y\"],\"data\":{\"x\":[5.3,5.3],\"y\":[0.0,1.05]}},\"id\":\"e7bdefca-0b44-4054-b8a0-eb12e9b2e510\",\"type\":\"ColumnDataSource\"},{\"attributes\":{\"background_fill_color\":{\"value\":\"#E8DDCB\"},\"below\":[{\"id\":\"b1f2d6c7-f9eb-4f0d-9f30-cea69ab35060\",\"type\":\"LinearAxis\"}],\"left\":[{\"id\":\"c2358c5c-8591-4ac6-896c-c65856b3305f\",\"type\":\"LinearAxis\"}],\"renderers\":[{\"id\":\"b1f2d6c7-f9eb-4f0d-9f30-cea69ab35060\",\"type\":\"LinearAxis\"},{\"id\":\"8e1c1713-e8a2-4626-86a1-026c1f16b8c0\",\"type\":\"Grid\"},{\"id\":\"c2358c5c-8591-4ac6-896c-c65856b3305f\",\"type\":\"LinearAxis\"},{\"id\":\"b042a73f-4c5b-4544-adc7-4fd7b5aa993e\",\"type\":\"Grid\"},{\"id\":\"6b81fa2d-2dfb-4c33-ac2b-85338e8c4209\",\"type\":\"BoxAnnotation\"},{\"id\":\"635dbd13-86b2-4d59-affd-c2b5ed94611c\",\"type\":\"GlyphRenderer\"},{\"id\":\"2b7fb25f-8bad-421a-98af-325a58c51a81\",\"type\":\"GlyphRenderer\"},{\"id\":\"ae2283dd-1891-4583-a6ea-452423916b07\",\"type\":\"GlyphRenderer\"},{\"id\":\"69925beb-a535-4051-917b-ae48cada6f6b\",\"type\":\"GlyphRenderer\"}],\"title\":{\"id\":\"be9ef822-ee2e-4191-8edc-6a693168d94f\",\"type\":\"Title\"},\"tool_events\":{\"id\":\"1e077502-27e5-449d-b536-9d719a337975\",\"type\":\"ToolEvents\"},\"toolbar\":{\"id\":\"780b1a19-d5ff-4ee0-8ae4-65e8365a0332\",\"type\":\"Toolbar\"},\"x_range\":{\"id\":\"512f0e82-b3f6-4c5f-95be-219e847addc6\",\"type\":\"DataRange1d\"},\"y_range\":{\"id\":\"4e8a7dd6-e802-46b9-ab38-a637b1473c76\",\"type\":\"DataRange1d\"}},\"id\":\"6fc133c6-f233-4084-9c4d-aa93eefd1d44\",\"subtype\":\"Figure\",\"type\":\"Plot\"},{\"attributes\":{\"line_color\":{\"value\":\"red\"},\"line_dash\":[6],\"x\":{\"field\":\"x\"},\"y\":{\"field\":\"y\"}},\"id\":\"c3d5673b-ad89-4646-8735-950bf9337ce7\",\"type\":\"Line\"},{\"attributes\":{\"line_color\":{\"value\":\"red\"},\"line_dash\":[6],\"x\":{\"field\":\"x\"},\"y\":{\"field\":\"y\"}},\"id\":\"ddb098d9-80e7-4fa7-9a72-8e5e7db2f40b\",\"type\":\"Line\"},{\"attributes\":{\"plot\":{\"id\":\"6fc133c6-f233-4084-9c4d-aa93eefd1d44\",\"subtype\":\"Figure\",\"type\":\"Plot\"}},\"id\":\"09d61ccd-293b-48b1-836f-3c08705042d7\",\"type\":\"WheelZoomTool\"},{\"attributes\":{},\"id\":\"bd55d1c4-0ed0-4208-a107-f9c9951a8160\",\"type\":\"BasicTicker\"},{\"attributes\":{\"plot\":{\"id\":\"6fc133c6-f233-4084-9c4d-aa93eefd1d44\",\"subtype\":\"Figure\",\"type\":\"Plot\"},\"ticker\":{\"id\":\"15db3eb8-34d3-4c7b-b5dd-8ba6162e928e\",\"type\":\"BasicTicker\"}},\"id\":\"8e1c1713-e8a2-4626-86a1-026c1f16b8c0\",\"type\":\"Grid\"},{\"attributes\":{\"line_alpha\":{\"value\":0.1},\"line_color\":{\"value\":\"#1f77b4\"},\"line_dash\":[6],\"x\":{\"field\":\"x\"},\"y\":{\"field\":\"y\"}},\"id\":\"07272bfe-52c3-4527-a73d-2b9bd06c52b8\",\"type\":\"Line\"},{\"attributes\":{},\"id\":\"df43b092-8cdc-4fef-8a5c-bb89ef056203\",\"type\":\"BasicTickFormatter\"},{\"attributes\":{\"formatter\":{\"id\":\"df43b092-8cdc-4fef-8a5c-bb89ef056203\",\"type\":\"BasicTickFormatter\"},\"plot\":{\"id\":\"6fc133c6-f233-4084-9c4d-aa93eefd1d44\",\"subtype\":\"Figure\",\"type\":\"Plot\"},\"ticker\":{\"id\":\"15db3eb8-34d3-4c7b-b5dd-8ba6162e928e\",\"type\":\"BasicTicker\"}},\"id\":\"b1f2d6c7-f9eb-4f0d-9f30-cea69ab35060\",\"type\":\"LinearAxis\"},{\"attributes\":{\"dimension\":1,\"plot\":{\"id\":\"6fc133c6-f233-4084-9c4d-aa93eefd1d44\",\"subtype\":\"Figure\",\"type\":\"Plot\"},\"ticker\":{\"id\":\"bd55d1c4-0ed0-4208-a107-f9c9951a8160\",\"type\":\"BasicTicker\"}},\"id\":\"b042a73f-4c5b-4544-adc7-4fd7b5aa993e\",\"type\":\"Grid\"},{\"attributes\":{\"line_color\":{\"value\":\"red\"},\"line_dash\":[6],\"x\":{\"field\":\"x\"},\"y\":{\"field\":\"y\"}},\"id\":\"f666ce32-ec90-4d78-b228-3e0da3a4d533\",\"type\":\"Line\"},{\"attributes\":{\"callback\":null,\"column_names\":[\"x\",\"y\"],\"data\":{\"x\":[5.8431390245600126,5.8431390245600126],\"y\":[0.0,1.1]}},\"id\":\"20992bb5-f349-487a-8fdf-6be5570bd731\",\"type\":\"ColumnDataSource\"},{\"attributes\":{\"line_alpha\":{\"value\":0.1},\"line_color\":{\"value\":\"#1f77b4\"},\"line_dash\":[6],\"x\":{\"field\":\"x\"},\"y\":{\"field\":\"y\"}},\"id\":\"49bb379f-bfb1-4b82-8df1-be72c819aee4\",\"type\":\"Line\"},{\"attributes\":{\"plot\":{\"id\":\"6fc133c6-f233-4084-9c4d-aa93eefd1d44\",\"subtype\":\"Figure\",\"type\":\"Plot\"}},\"id\":\"fc255ea5-1227-4bfe-abfa-00f46c1b6d20\",\"type\":\"SaveTool\"},{\"attributes\":{\"active_drag\":\"auto\",\"active_scroll\":\"auto\",\"active_tap\":\"auto\",\"tools\":[{\"id\":\"fc255ea5-1227-4bfe-abfa-00f46c1b6d20\",\"type\":\"SaveTool\"},{\"id\":\"272d7d0d-5baa-491a-a698-6a5387928c09\",\"type\":\"PanTool\"},{\"id\":\"3d07e073-925b-4a1b-a145-ecb6f952913f\",\"type\":\"BoxZoomTool\"},{\"id\":\"09d61ccd-293b-48b1-836f-3c08705042d7\",\"type\":\"WheelZoomTool\"},{\"id\":\"b62770e8-9710-4698-a596-0fdda84eded2\",\"type\":\"ResetTool\"}]},\"id\":\"780b1a19-d5ff-4ee0-8ae4-65e8365a0332\",\"type\":\"Toolbar\"},{\"attributes\":{\"data_source\":{\"id\":\"e7bdefca-0b44-4054-b8a0-eb12e9b2e510\",\"type\":\"ColumnDataSource\"},\"glyph\":{\"id\":\"f666ce32-ec90-4d78-b228-3e0da3a4d533\",\"type\":\"Line\"},\"hover_glyph\":null,\"nonselection_glyph\":{\"id\":\"07272bfe-52c3-4527-a73d-2b9bd06c52b8\",\"type\":\"Line\"},\"selection_glyph\":null},\"id\":\"2b7fb25f-8bad-421a-98af-325a58c51a81\",\"type\":\"GlyphRenderer\"},{\"attributes\":{},\"id\":\"1e077502-27e5-449d-b536-9d719a337975\",\"type\":\"ToolEvents\"},{\"attributes\":{\"data_source\":{\"id\":\"ef08a1e5-0303-4451-beab-301fab1bd8d2\",\"type\":\"ColumnDataSource\"},\"glyph\":{\"id\":\"c3d5673b-ad89-4646-8735-950bf9337ce7\",\"type\":\"Line\"},\"hover_glyph\":null,\"nonselection_glyph\":{\"id\":\"557054df-af9d-42c4-a7ee-7ab1ad551bfd\",\"type\":\"Line\"},\"selection_glyph\":null},\"id\":\"ae2283dd-1891-4583-a6ea-452423916b07\",\"type\":\"GlyphRenderer\"},{\"attributes\":{\"callback\":null},\"id\":\"512f0e82-b3f6-4c5f-95be-219e847addc6\",\"type\":\"DataRange1d\"},{\"attributes\":{\"bottom\":{\"value\":0},\"fill_color\":{\"value\":\"#036564\"},\"left\":{\"field\":\"left\"},\"line_color\":{\"value\":\"#033649\"},\"right\":{\"field\":\"right\"},\"top\":{\"field\":\"top\"}},\"id\":\"6b7f0b22-bfa3-4d9d-b8f7-df9fc8a56726\",\"type\":\"Quad\"},{\"attributes\":{\"plot\":null,\"text\":\"unnamed_var6 Histogram\"},\"id\":\"be9ef822-ee2e-4191-8edc-6a693168d94f\",\"type\":\"Title\"},{\"attributes\":{\"data_source\":{\"id\":\"20992bb5-f349-487a-8fdf-6be5570bd731\",\"type\":\"ColumnDataSource\"},\"glyph\":{\"id\":\"ddb098d9-80e7-4fa7-9a72-8e5e7db2f40b\",\"type\":\"Line\"},\"hover_glyph\":null,\"nonselection_glyph\":{\"id\":\"49bb379f-bfb1-4b82-8df1-be72c819aee4\",\"type\":\"Line\"},\"selection_glyph\":null},\"id\":\"69925beb-a535-4051-917b-ae48cada6f6b\",\"type\":\"GlyphRenderer\"},{\"attributes\":{\"bottom\":{\"value\":0},\"fill_alpha\":{\"value\":0.1},\"fill_color\":{\"value\":\"#1f77b4\"},\"left\":{\"field\":\"left\"},\"line_alpha\":{\"value\":0.1},\"line_color\":{\"value\":\"#1f77b4\"},\"right\":{\"field\":\"right\"},\"top\":{\"field\":\"top\"}},\"id\":\"07edc7d7-47c1-4d6b-971b-b6102b7fd001\",\"type\":\"Quad\"},{\"attributes\":{\"callback\":null},\"id\":\"4e8a7dd6-e802-46b9-ab38-a637b1473c76\",\"type\":\"DataRange1d\"},{\"attributes\":{},\"id\":\"986ae000-02f2-4c78-91b8-93ff0d0ae8cd\",\"type\":\"BasicTickFormatter\"},{\"attributes\":{\"callback\":null,\"column_names\":[\"x\",\"y\"],\"data\":{\"x\":[4.756860975439987,4.756860975439987],\"y\":[0.0,1.1]}},\"id\":\"ef08a1e5-0303-4451-beab-301fab1bd8d2\",\"type\":\"ColumnDataSource\"},{\"attributes\":{\"plot\":{\"id\":\"6fc133c6-f233-4084-9c4d-aa93eefd1d44\",\"subtype\":\"Figure\",\"type\":\"Plot\"}},\"id\":\"272d7d0d-5baa-491a-a698-6a5387928c09\",\"type\":\"PanTool\"}],\"root_ids\":[\"6fc133c6-f233-4084-9c4d-aa93eefd1d44\"]},\"title\":\"Bokeh Application\",\"version\":\"0.12.1\"}};\n",
       "            var render_items = [{\"docid\":\"01223d32-6aa7-415f-b87d-7651a4af5028\",\"elementid\":\"7d67d388-c735-4ec2-9b6d-497a37dc6da2\",\"modelid\":\"6fc133c6-f233-4084-9c4d-aa93eefd1d44\",\"notebook_comms_target\":\"143d4e1e-1646-4a51-8e9e-bcc9d3a8432a\"}];\n",
       "            \n",
       "            Bokeh.embed.embed_items(docs_json, render_items);\n",
       "        });\n",
       "      },\n",
       "      function(Bokeh) {\n",
       "      }\n",
       "    ];\n",
       "  \n",
       "    function run_inline_js() {\n",
       "      for (var i = 0; i < inline_js.length; i++) {\n",
       "        inline_js[i](window.Bokeh);\n",
       "      }\n",
       "    }\n",
       "  \n",
       "    if (window._bokeh_is_loading === 0) {\n",
       "      console.log(\"Bokeh: BokehJS loaded, going straight to plotting\");\n",
       "      run_inline_js();\n",
       "    } else {\n",
       "      load_libs(js_urls, function() {\n",
       "        console.log(\"Bokeh: BokehJS plotting callback run at\", now());\n",
       "        run_inline_js();\n",
       "      });\n",
       "    }\n",
       "  }(this));\n",
       "</script>"
      ]
     },
     "metadata": {},
     "output_type": "display_data"
    },
    {
     "data": {
      "text/plain": [
       "<bokeh.plotting.figure.Figure at 0x1846de5a4a8>"
      ]
     },
     "execution_count": 11,
     "metadata": {},
     "output_type": "execute_result"
    }
   ],
   "source": [
    "T.show_histogram()"
   ]
  },
  {
   "cell_type": "markdown",
   "metadata": {},
   "source": [
    "## Multiple measurements (Arrays of Measurements)\n",
    "QExPy can also handle the case of having multiple measurements, when each measurement has its own uncertainty. For example, if you have three measurements of a single quantity, in order to get an average value, you should weight each measurement by its uncertainty (or rather the weight should be 1 over the square of the uncertainty). This is handled by the MeasurementArray class:"
   ]
  },
  {
   "cell_type": "code",
   "execution_count": 12,
   "metadata": {
    "collapsed": false
   },
   "outputs": [
    {
     "name": "stdout",
     "output_type": "stream",
     "text": [
      "11.233 +/- 1.003\n"
     ]
    }
   ],
   "source": [
    "#gvals = e.MeasurementArray([(9.8,0.2), (14,3) , (9.9,0.1)])\n",
    "gvals = q.MeasurementArray([9.8,14,9.9],[0.2,3,0.1])\n",
    "print(gvals.mean())\n"
   ]
  },
  {
   "cell_type": "markdown",
   "metadata": {},
   "source": [
    "The MeasurementArray object truly is an array of Measurement objects, so individual measurements can be retrieved (remember that the first element in an array in python has index 0 not 1, so element 1 is the second element):"
   ]
  },
  {
   "cell_type": "code",
   "execution_count": 13,
   "metadata": {
    "collapsed": false
   },
   "outputs": [
    {
     "name": "stdout",
     "output_type": "stream",
     "text": [
      "14.000 +/- 3.000\n"
     ]
    }
   ],
   "source": [
    "print(gvals[1])"
   ]
  },
  {
   "cell_type": "markdown",
   "metadata": {},
   "source": [
    "## Error propagation methods\n",
    "\n",
    "### Derivative method (default)\n",
    "By default, QExPy propagates the uncertainties using the \"derivative\" method. That is, for a function, $f(x,y)$, that depends on measured quantities $x\\pm\\sigma_x$ and $y\\pm\\sigma_y$, with covariance $\\sigma_{xy}$ between the two measured quantities, the uncertainty in $f$ is given by:\n",
    "$$ \\sigma_f = \\sqrt{ \\left(\\frac{\\partial f}{\\partial x} \\sigma_x \\right)^2 + \\left(\\frac{\\partial f}{\\partial y} \\sigma_y \\right)^2 + 2 \\frac{\\partial f}{\\partial x} \\frac{\\partial f}{\\partial y}\\sigma_{xy} }$$\n",
    "\n",
    "QExPy evaluates the derivatives exactly when propagating the uncertainties using an algorithm called \"automatic differentiation\". This is possible as QExPy internally keeps track of the dependency of quantities on each other, and as an added bonus can also be used to evaluate numerical derivatives exactly. Although the derivative method is commonly taught in undergraduate laboratories, it is only valid when the relative uncertainties in the quantities being propagated are small (e.g. less than ~10% relative uncertainty). This method is thus not strongly encouraged, although it has been made the default because it is so prevalent in undergraduate teaching. \n",
    "\n",
    "\n",
    "### Min-Max method (not recommended)\n",
    "This is not the only way to propagate the uncertainty in $f$. For example, the \"Min-Max\" method, is a method to yield a more conservative (larger) estimate of the uncertainty in $f$ and is often used in introductory courses. The Min-Max method defines the central value and uncertainty in $f$ as:\n",
    "$$f=\\frac{1}{2}(f^{max}+f^{min})$$\n",
    "$$\\sigma_f=\\frac{1}{2}(f^{max}-f^{min})$$\n",
    "\n",
    "where $f^{max}$ ($f^{min}$) is the maximum (minimum) value that $f$ takes when $x$ and $y$ are varied within their uncertainty range. For example, if $f(x,y)=x+y$, then the maximum and minimum of $f$ are easily found:\n",
    "\n",
    "$$f^{max} = (x+\\sigma_x)+(y+\\sigma_y)$$\n",
    "$$f^{min} = (x-\\sigma_x)-(y-\\sigma_y)$$\n",
    "\n",
    "The Min-Max method actually requires a numerical approximation to evaluate the values of $f^{max}$ and $f^{min}$ for all but the most simple cases. Hence although it is a good method to introduce the idea of uncertainty propagation, it is not recommended to use this method in any serious calculation (it also does not take correlations into account). \n",
    "\n",
    "### Monte Carlo method (recommended!)\n",
    "Finally, the recommended method to propagate errors is the \"Monte-Carlo\" method, although it is the hardest to understand. The MC method is based on a statiscal understanding of the measurements. In the QExPy implementation, currently, the main assumptions is that the uncertainty in a quantity is given by a \"standard error\"; that is, if $x = 10\\pm 1$, then we *assume* that this error and uncertainty should be interpreted as: \"if we measure $x$ multiple times, we will obtain a set of measurements that are normally distributed with a mean of 10 and a standard deviation of 1\". In other words, we assume that $x$ has a 68% chance of being in the range between 9 and 11.\n",
    "\n",
    "\n",
    "The MC method then uses the assumption that measured quantities are normally distributed and use this to propagate the errors by using Monte Carlo simulation. Suppose that we have measured $x$ and $y$ and wish to determine the central value and uncertainty in $x=x+y$. The Monte Carlo method will generate normally distributed random values for $x$ and $y$ (the random numbers will be correctly correlated if the user has indicated that $x$ and $y$ are correlated), then it will add those random values together, to obtain a set of values for $z$. The mean and standard deviation of the random values for $z$ are taken as the central value and uncertainty in $z$. \n",
    "\n",
    "## What QExPy actually does\n",
    "Although the user appears to choose the method used to propagate the errors, QExPy always uses all three methods behind the scenes and the user only decides which method to print out. This allows QExPy to compare the results behind the scenes, in particular, to inform the users that the uncertainties using a particular method (e.g. derivative) may be inaccurate and to suggest that the user choose a different method. \n",
    "\n",
    "## Example\n",
    "Below, we illustrate an example of using the different methods to propagate the uncertainty in the Coulomb force based on the measurement of two charges, $q_1$ and $q_2$, and the distance between them, $r$. We illustrate how the derivative method does not give the correct answer if the relative uncertainties in the measured quantities are large. \n",
    "\n",
    "### 1 % relative uncertainty calculation\n"
   ]
  },
  {
   "cell_type": "code",
   "execution_count": 14,
   "metadata": {
    "collapsed": false
   },
   "outputs": [
    {
     "name": "stdout",
     "output_type": "stream",
     "text": [
      "Derivative method, F =  18.0000 +/- 0.4409\n",
      "Min-Max method, F = 18.0021 +/- 0.1055\n",
      "Monte Carlo method, F = 18.0035 +/- 0.4430\n"
     ]
    }
   ],
   "source": [
    "#Measurements with 1% relative uncertainties:\n",
    "relative_factor = 0.01 \n",
    "\n",
    "#Measured values\n",
    "q1m=1e-6\n",
    "q2m=2e-5\n",
    "rm=0.1\n",
    "\n",
    "#Convert to Measurement objects\n",
    "q1 = q.Measurement(q1m,relative_factor*q1m)\n",
    "q2 = q.Measurement(q2m,relative_factor*q2m)\n",
    "r = q.Measurement(rm,relative_factor*rm)\n",
    "#Coulomb's constant:\n",
    "k = 9e9 \n",
    "\n",
    "#Define the Force:\n",
    "F = k*q1*q2/r**2\n",
    "\n",
    "#Print out the different errors\n",
    "q.set_error_method(\"derivative\")\n",
    "print(\"Derivative method, F = \",F)\n",
    "q.set_error_method(\"minmax\")\n",
    "print(\"Min-Max method, F =\", F)\n",
    "q.set_error_method(\"mc\")\n",
    "print(\"Monte Carlo method, F =\",F)\n",
    "\n"
   ]
  },
  {
   "cell_type": "markdown",
   "metadata": {},
   "source": [
    "### 10 % relative uncertainty calculation\n",
    "We see that in this case, the Monte Carlo method returns a different uncertainty than the derivative method, because the derivative method is incorrect when the uncertainties are this large."
   ]
  },
  {
   "cell_type": "code",
   "execution_count": 15,
   "metadata": {
    "collapsed": false
   },
   "outputs": [
    {
     "name": "stdout",
     "output_type": "stream",
     "text": [
      "Derivative method, F =  18.000 +/- 4.409\n",
      "Min-Max method, F = 18.220 +/- 1.098\n",
      "Monte Carlo method, F = 18.601 +/- 4.731\n"
     ]
    },
    {
     "data": {
      "text/html": [
       "\n",
       "\n",
       "    <div class=\"bk-root\">\n",
       "        <div class=\"plotdiv\" id=\"636d7d01-2046-4b39-ad00-c13418cbbbc6\"></div>\n",
       "    </div>\n",
       "<script type=\"text/javascript\">\n",
       "  \n",
       "  (function(global) {\n",
       "    function now() {\n",
       "      return new Date();\n",
       "    }\n",
       "  \n",
       "    var force = \"\";\n",
       "  \n",
       "    if (typeof (window._bokeh_onload_callbacks) === \"undefined\" || force !== \"\") {\n",
       "      window._bokeh_onload_callbacks = [];\n",
       "      window._bokeh_is_loading = undefined;\n",
       "    }\n",
       "  \n",
       "    function run_callbacks() {\n",
       "      window._bokeh_onload_callbacks.forEach(function(callback) { callback() });\n",
       "      delete window._bokeh_onload_callbacks\n",
       "      console.info(\"Bokeh: all callbacks have finished\");\n",
       "    }\n",
       "  \n",
       "    function load_libs(js_urls, callback) {\n",
       "      window._bokeh_onload_callbacks.push(callback);\n",
       "      if (window._bokeh_is_loading > 0) {\n",
       "        console.log(\"Bokeh: BokehJS is being loaded, scheduling callback at\", now());\n",
       "        return null;\n",
       "      }\n",
       "      if (js_urls == null || js_urls.length === 0) {\n",
       "        run_callbacks();\n",
       "        return null;\n",
       "      }\n",
       "      console.log(\"Bokeh: BokehJS not loaded, scheduling load and callback at\", now());\n",
       "      window._bokeh_is_loading = js_urls.length;\n",
       "      for (var i = 0; i < js_urls.length; i++) {\n",
       "        var url = js_urls[i];\n",
       "        var s = document.createElement('script');\n",
       "        s.src = url;\n",
       "        s.async = false;\n",
       "        s.onreadystatechange = s.onload = function() {\n",
       "          window._bokeh_is_loading--;\n",
       "          if (window._bokeh_is_loading === 0) {\n",
       "            console.log(\"Bokeh: all BokehJS libraries loaded\");\n",
       "            run_callbacks()\n",
       "          }\n",
       "        };\n",
       "        s.onerror = function() {\n",
       "          console.warn(\"failed to load library \" + url);\n",
       "        };\n",
       "        console.log(\"Bokeh: injecting script tag for BokehJS library: \", url);\n",
       "        document.getElementsByTagName(\"head\")[0].appendChild(s);\n",
       "      }\n",
       "    };var element = document.getElementById(\"636d7d01-2046-4b39-ad00-c13418cbbbc6\");\n",
       "    if (element == null) {\n",
       "      console.log(\"Bokeh: ERROR: autoload.js configured with elementid '636d7d01-2046-4b39-ad00-c13418cbbbc6' but no matching script tag was found. \")\n",
       "      return false;\n",
       "    }\n",
       "  \n",
       "    var js_urls = [];\n",
       "  \n",
       "    var inline_js = [\n",
       "      function(Bokeh) {\n",
       "        Bokeh.$(function() {\n",
       "            var docs_json = {\"aff50f5e-37f9-4673-b2fd-667ffcf17a55\":{\"roots\":{\"references\":[{\"attributes\":{},\"id\":\"9a71ef2e-5f35-4395-a3ea-9a8e6247a6a0\",\"type\":\"BasicTickFormatter\"},{\"attributes\":{\"data_source\":{\"id\":\"40dccd19-e2fa-49f1-998a-890361b73d38\",\"type\":\"ColumnDataSource\"},\"glyph\":{\"id\":\"0dae4c47-875e-4c9a-b46f-5cbad69beae7\",\"type\":\"Line\"},\"hover_glyph\":null,\"nonselection_glyph\":{\"id\":\"9a5dbc78-85ad-4c6b-8549-4783abd90b47\",\"type\":\"Line\"},\"selection_glyph\":null},\"id\":\"7e3f5023-9203-4fc0-a0d6-77603bbaffb8\",\"type\":\"GlyphRenderer\"},{\"attributes\":{\"line_alpha\":{\"value\":0.1},\"line_color\":{\"value\":\"#1f77b4\"},\"line_dash\":[6],\"x\":{\"field\":\"x\"},\"y\":{\"field\":\"y\"}},\"id\":\"d4fb1566-52b7-450b-9240-39584a7f7969\",\"type\":\"Line\"},{\"attributes\":{\"line_color\":{\"value\":\"red\"},\"line_dash\":[6],\"x\":{\"field\":\"x\"},\"y\":{\"field\":\"y\"}},\"id\":\"0dae4c47-875e-4c9a-b46f-5cbad69beae7\",\"type\":\"Line\"},{\"attributes\":{\"background_fill_color\":{\"value\":\"#E8DDCB\"},\"below\":[{\"id\":\"28ecf96e-5153-4860-8da1-9cd5ce9d5f1e\",\"type\":\"LinearAxis\"}],\"left\":[{\"id\":\"c37bddb1-9f87-443a-832f-f1b3c5f773a1\",\"type\":\"LinearAxis\"}],\"renderers\":[{\"id\":\"28ecf96e-5153-4860-8da1-9cd5ce9d5f1e\",\"type\":\"LinearAxis\"},{\"id\":\"6294862a-df3b-4191-be1d-670c9481efec\",\"type\":\"Grid\"},{\"id\":\"c37bddb1-9f87-443a-832f-f1b3c5f773a1\",\"type\":\"LinearAxis\"},{\"id\":\"563b9a11-d5bf-4f50-9026-784c98392a6c\",\"type\":\"Grid\"},{\"id\":\"6e4e7969-07c9-41c7-9dc1-89038614251d\",\"type\":\"BoxAnnotation\"},{\"id\":\"874ade51-78a7-468b-bfa3-4dcca5e91fbc\",\"type\":\"GlyphRenderer\"},{\"id\":\"839858a1-1a38-4ca4-befc-dbd7a8089fbc\",\"type\":\"GlyphRenderer\"},{\"id\":\"27c7b7c5-4c7e-4000-836a-626ff1c76188\",\"type\":\"GlyphRenderer\"},{\"id\":\"7e3f5023-9203-4fc0-a0d6-77603bbaffb8\",\"type\":\"GlyphRenderer\"}],\"title\":{\"id\":\"be7d20ac-5c7c-467f-8d37-2c08fe9598ca\",\"type\":\"Title\"},\"tool_events\":{\"id\":\"cd43fd21-aa22-4090-b698-044318a4b0f4\",\"type\":\"ToolEvents\"},\"toolbar\":{\"id\":\"d0083e0c-b13b-41a9-baf0-d11c76c16bc3\",\"type\":\"Toolbar\"},\"x_range\":{\"id\":\"4254224b-f454-4662-ac4d-580b805a6d32\",\"type\":\"DataRange1d\"},\"y_range\":{\"id\":\"268d7dbb-814c-427f-a832-937e429a67d6\",\"type\":\"DataRange1d\"}},\"id\":\"824017f9-9037-4b49-ae7f-6cfb56871635\",\"subtype\":\"Figure\",\"type\":\"Plot\"},{\"attributes\":{\"formatter\":{\"id\":\"9a71ef2e-5f35-4395-a3ea-9a8e6247a6a0\",\"type\":\"BasicTickFormatter\"},\"plot\":{\"id\":\"824017f9-9037-4b49-ae7f-6cfb56871635\",\"subtype\":\"Figure\",\"type\":\"Plot\"},\"ticker\":{\"id\":\"2472b99e-8b1f-4c89-af71-25d839294463\",\"type\":\"BasicTicker\"}},\"id\":\"c37bddb1-9f87-443a-832f-f1b3c5f773a1\",\"type\":\"LinearAxis\"},{\"attributes\":{\"plot\":{\"id\":\"824017f9-9037-4b49-ae7f-6cfb56871635\",\"subtype\":\"Figure\",\"type\":\"Plot\"}},\"id\":\"6fae9941-74cb-4ea2-9cb4-482ac48fa816\",\"type\":\"WheelZoomTool\"},{\"attributes\":{\"dimension\":1,\"plot\":{\"id\":\"824017f9-9037-4b49-ae7f-6cfb56871635\",\"subtype\":\"Figure\",\"type\":\"Plot\"},\"ticker\":{\"id\":\"2472b99e-8b1f-4c89-af71-25d839294463\",\"type\":\"BasicTicker\"}},\"id\":\"563b9a11-d5bf-4f50-9026-784c98392a6c\",\"type\":\"Grid\"},{\"attributes\":{\"bottom\":{\"value\":0},\"fill_alpha\":{\"value\":0.1},\"fill_color\":{\"value\":\"#1f77b4\"},\"left\":{\"field\":\"left\"},\"line_alpha\":{\"value\":0.1},\"line_color\":{\"value\":\"#1f77b4\"},\"right\":{\"field\":\"right\"},\"top\":{\"field\":\"top\"}},\"id\":\"8922e0bc-3aa5-4783-9e3b-eb3ae24af9f2\",\"type\":\"Quad\"},{\"attributes\":{\"plot\":{\"id\":\"824017f9-9037-4b49-ae7f-6cfb56871635\",\"subtype\":\"Figure\",\"type\":\"Plot\"},\"ticker\":{\"id\":\"6dfa5772-26d2-4a89-8f56-e8d6af5d377f\",\"type\":\"BasicTicker\"}},\"id\":\"6294862a-df3b-4191-be1d-670c9481efec\",\"type\":\"Grid\"},{\"attributes\":{},\"id\":\"1367d543-e194-4f7b-8cad-e6fcdba46938\",\"type\":\"BasicTickFormatter\"},{\"attributes\":{\"line_alpha\":{\"value\":0.1},\"line_color\":{\"value\":\"#1f77b4\"},\"line_dash\":[6],\"x\":{\"field\":\"x\"},\"y\":{\"field\":\"y\"}},\"id\":\"6d52d67a-93d2-40f2-a05e-bf1dc693a67e\",\"type\":\"Line\"},{\"attributes\":{\"callback\":null,\"column_names\":[\"x\",\"y\"],\"data\":{\"x\":[22.40908153700972,22.40908153700972],\"y\":[0.0,1035.1000000000001]}},\"id\":\"40dccd19-e2fa-49f1-998a-890361b73d38\",\"type\":\"ColumnDataSource\"},{\"attributes\":{\"bottom\":{\"value\":0},\"fill_color\":{\"value\":\"#036564\"},\"left\":{\"field\":\"left\"},\"line_color\":{\"value\":\"#033649\"},\"right\":{\"field\":\"right\"},\"top\":{\"field\":\"top\"}},\"id\":\"3852c4d2-3bb0-4f0e-9911-4cc51f0e850b\",\"type\":\"Quad\"},{\"attributes\":{\"data_source\":{\"id\":\"72ec75e5-dbd5-4dfc-923b-68fdb6bcf199\",\"type\":\"ColumnDataSource\"},\"glyph\":{\"id\":\"5a8b6c0b-0350-4037-994f-0fa7830d6b8f\",\"type\":\"Line\"},\"hover_glyph\":null,\"nonselection_glyph\":{\"id\":\"d4fb1566-52b7-450b-9240-39584a7f7969\",\"type\":\"Line\"},\"selection_glyph\":null},\"id\":\"27c7b7c5-4c7e-4000-836a-626ff1c76188\",\"type\":\"GlyphRenderer\"},{\"attributes\":{\"callback\":null,\"column_names\":[\"x\",\"y\"],\"data\":{\"x\":[18.0,18.0],\"y\":[0.0,988.0500000000001]}},\"id\":\"038b195c-1b7d-42e5-95bf-161ad2b0212c\",\"type\":\"ColumnDataSource\"},{\"attributes\":{\"plot\":{\"id\":\"824017f9-9037-4b49-ae7f-6cfb56871635\",\"subtype\":\"Figure\",\"type\":\"Plot\"}},\"id\":\"0d44bc07-4eb6-4a77-a8b3-4c0bca8e13e7\",\"type\":\"PanTool\"},{\"attributes\":{\"data_source\":{\"id\":\"038b195c-1b7d-42e5-95bf-161ad2b0212c\",\"type\":\"ColumnDataSource\"},\"glyph\":{\"id\":\"dc1474f9-6f9e-4797-ae97-075a9d5f2d32\",\"type\":\"Line\"},\"hover_glyph\":null,\"nonselection_glyph\":{\"id\":\"6d52d67a-93d2-40f2-a05e-bf1dc693a67e\",\"type\":\"Line\"},\"selection_glyph\":null},\"id\":\"839858a1-1a38-4ca4-befc-dbd7a8089fbc\",\"type\":\"GlyphRenderer\"},{\"attributes\":{\"line_alpha\":{\"value\":0.1},\"line_color\":{\"value\":\"#1f77b4\"},\"line_dash\":[6],\"x\":{\"field\":\"x\"},\"y\":{\"field\":\"y\"}},\"id\":\"9a5dbc78-85ad-4c6b-8549-4783abd90b47\",\"type\":\"Line\"},{\"attributes\":{\"data_source\":{\"id\":\"28966413-a512-448e-abec-d07dd2401af6\",\"type\":\"ColumnDataSource\"},\"glyph\":{\"id\":\"3852c4d2-3bb0-4f0e-9911-4cc51f0e850b\",\"type\":\"Quad\"},\"hover_glyph\":null,\"nonselection_glyph\":{\"id\":\"8922e0bc-3aa5-4783-9e3b-eb3ae24af9f2\",\"type\":\"Quad\"},\"selection_glyph\":null},\"id\":\"874ade51-78a7-468b-bfa3-4dcca5e91fbc\",\"type\":\"GlyphRenderer\"},{\"attributes\":{\"line_color\":{\"value\":\"red\"},\"line_dash\":[6],\"x\":{\"field\":\"x\"},\"y\":{\"field\":\"y\"}},\"id\":\"5a8b6c0b-0350-4037-994f-0fa7830d6b8f\",\"type\":\"Line\"},{\"attributes\":{\"formatter\":{\"id\":\"1367d543-e194-4f7b-8cad-e6fcdba46938\",\"type\":\"BasicTickFormatter\"},\"plot\":{\"id\":\"824017f9-9037-4b49-ae7f-6cfb56871635\",\"subtype\":\"Figure\",\"type\":\"Plot\"},\"ticker\":{\"id\":\"6dfa5772-26d2-4a89-8f56-e8d6af5d377f\",\"type\":\"BasicTicker\"}},\"id\":\"28ecf96e-5153-4860-8da1-9cd5ce9d5f1e\",\"type\":\"LinearAxis\"},{\"attributes\":{\"plot\":{\"id\":\"824017f9-9037-4b49-ae7f-6cfb56871635\",\"subtype\":\"Figure\",\"type\":\"Plot\"}},\"id\":\"4ad265ef-55b4-4254-b70e-21a8e31e137b\",\"type\":\"SaveTool\"},{\"attributes\":{\"bottom_units\":\"screen\",\"fill_alpha\":{\"value\":0.5},\"fill_color\":{\"value\":\"lightgrey\"},\"left_units\":\"screen\",\"level\":\"overlay\",\"line_alpha\":{\"value\":1.0},\"line_color\":{\"value\":\"black\"},\"line_dash\":[4,4],\"line_width\":{\"value\":2},\"plot\":null,\"render_mode\":\"css\",\"right_units\":\"screen\",\"top_units\":\"screen\"},\"id\":\"6e4e7969-07c9-41c7-9dc1-89038614251d\",\"type\":\"BoxAnnotation\"},{\"attributes\":{\"callback\":null},\"id\":\"268d7dbb-814c-427f-a832-937e429a67d6\",\"type\":\"DataRange1d\"},{\"attributes\":{\"callback\":null,\"column_names\":[\"x\",\"y\"],\"data\":{\"x\":[13.59091846299028,13.59091846299028],\"y\":[0.0,1035.1000000000001]}},\"id\":\"72ec75e5-dbd5-4dfc-923b-68fdb6bcf199\",\"type\":\"ColumnDataSource\"},{\"attributes\":{\"line_color\":{\"value\":\"red\"},\"line_dash\":[6],\"x\":{\"field\":\"x\"},\"y\":{\"field\":\"y\"}},\"id\":\"dc1474f9-6f9e-4797-ae97-075a9d5f2d32\",\"type\":\"Line\"},{\"attributes\":{\"callback\":null,\"column_names\":[\"left\",\"top\",\"right\"],\"data\":{\"left\":[7.6794457310088875,8.672698976711004,9.665952222413122,10.659205468115239,11.652458713817357,12.645711959519474,13.638965205221592,14.632218450923707,15.625471696625825,16.61872494232794,17.611978188030058,18.605231433732175,19.598484679434293,20.59173792513641,21.584991170838528,22.578244416540645,23.571497662242763,24.564750907944877,25.558004153646994,26.55125739934911,27.54451064505123,28.537763890753347,29.531017136455464,30.52427038215758,31.5175236278597,32.51077687356182,33.50403011926394,34.49728336496605,35.490536610668165,36.48378985637029,37.4770431020724,38.47029634777452,39.463549593476635,40.456802839178756,41.45005608488087,42.44330933058299,43.436562576285105,44.429815821987226,45.42306906768934,46.41632231339146,47.409575559093575,48.402828804795696,49.39608205049781,50.389335296199924,51.382588541902045,52.37584178760416,53.36909503330628,54.362348279008394,55.355601524710515,56.34885477041263],\"right\":[8.672698976711004,9.665952222413122,10.659205468115239,11.652458713817357,12.645711959519474,13.638965205221592,14.632218450923707,15.625471696625825,16.61872494232794,17.611978188030058,18.605231433732175,19.598484679434293,20.59173792513641,21.584991170838528,22.578244416540645,23.571497662242763,24.564750907944877,25.558004153646994,26.55125739934911,27.54451064505123,28.537763890753347,29.531017136455464,30.52427038215758,31.5175236278597,32.51077687356182,33.50403011926394,34.49728336496605,35.490536610668165,36.48378985637029,37.4770431020724,38.47029634777452,39.463549593476635,40.456802839178756,41.45005608488087,42.44330933058299,43.436562576285105,44.429815821987226,45.42306906768934,46.41632231339146,47.409575559093575,48.402828804795696,49.39608205049781,50.389335296199924,51.382588541902045,52.37584178760416,53.36909503330628,54.362348279008394,55.355601524710515,56.34885477041263,57.34210801611475],\"top\":[10,31,103,224,366,559,698,791,921,941,905,833,737,580,556,382,308,257,187,149,119,96,49,33,48,32,17,23,13,9,9,3,3,2,2,1,0,0,1,0,0,1,0,0,0,0,0,0,0,1]}},\"id\":\"28966413-a512-448e-abec-d07dd2401af6\",\"type\":\"ColumnDataSource\"},{\"attributes\":{\"overlay\":{\"id\":\"6e4e7969-07c9-41c7-9dc1-89038614251d\",\"type\":\"BoxAnnotation\"},\"plot\":{\"id\":\"824017f9-9037-4b49-ae7f-6cfb56871635\",\"subtype\":\"Figure\",\"type\":\"Plot\"}},\"id\":\"d911b083-cbb1-48d5-ab47-12a260968775\",\"type\":\"BoxZoomTool\"},{\"attributes\":{\"plot\":null,\"text\":\"unnamed_var13*9000000000*unnamed_var14/unnamed_var15**2 Histogram\"},\"id\":\"be7d20ac-5c7c-467f-8d37-2c08fe9598ca\",\"type\":\"Title\"},{\"attributes\":{\"active_drag\":\"auto\",\"active_scroll\":\"auto\",\"active_tap\":\"auto\",\"tools\":[{\"id\":\"4ad265ef-55b4-4254-b70e-21a8e31e137b\",\"type\":\"SaveTool\"},{\"id\":\"0d44bc07-4eb6-4a77-a8b3-4c0bca8e13e7\",\"type\":\"PanTool\"},{\"id\":\"d911b083-cbb1-48d5-ab47-12a260968775\",\"type\":\"BoxZoomTool\"},{\"id\":\"6fae9941-74cb-4ea2-9cb4-482ac48fa816\",\"type\":\"WheelZoomTool\"},{\"id\":\"f0057300-b306-4a26-9752-c89ebbe7a2e4\",\"type\":\"ResetTool\"}]},\"id\":\"d0083e0c-b13b-41a9-baf0-d11c76c16bc3\",\"type\":\"Toolbar\"},{\"attributes\":{},\"id\":\"2472b99e-8b1f-4c89-af71-25d839294463\",\"type\":\"BasicTicker\"},{\"attributes\":{},\"id\":\"6dfa5772-26d2-4a89-8f56-e8d6af5d377f\",\"type\":\"BasicTicker\"},{\"attributes\":{\"plot\":{\"id\":\"824017f9-9037-4b49-ae7f-6cfb56871635\",\"subtype\":\"Figure\",\"type\":\"Plot\"}},\"id\":\"f0057300-b306-4a26-9752-c89ebbe7a2e4\",\"type\":\"ResetTool\"},{\"attributes\":{\"callback\":null},\"id\":\"4254224b-f454-4662-ac4d-580b805a6d32\",\"type\":\"DataRange1d\"},{\"attributes\":{},\"id\":\"cd43fd21-aa22-4090-b698-044318a4b0f4\",\"type\":\"ToolEvents\"}],\"root_ids\":[\"824017f9-9037-4b49-ae7f-6cfb56871635\"]},\"title\":\"Bokeh Application\",\"version\":\"0.12.1\"}};\n",
       "            var render_items = [{\"docid\":\"aff50f5e-37f9-4673-b2fd-667ffcf17a55\",\"elementid\":\"636d7d01-2046-4b39-ad00-c13418cbbbc6\",\"modelid\":\"824017f9-9037-4b49-ae7f-6cfb56871635\",\"notebook_comms_target\":\"28fdc63c-8e7e-474e-a059-d1e957e41b0f\"}];\n",
       "            \n",
       "            Bokeh.embed.embed_items(docs_json, render_items);\n",
       "        });\n",
       "      },\n",
       "      function(Bokeh) {\n",
       "      }\n",
       "    ];\n",
       "  \n",
       "    function run_inline_js() {\n",
       "      for (var i = 0; i < inline_js.length; i++) {\n",
       "        inline_js[i](window.Bokeh);\n",
       "      }\n",
       "    }\n",
       "  \n",
       "    if (window._bokeh_is_loading === 0) {\n",
       "      console.log(\"Bokeh: BokehJS loaded, going straight to plotting\");\n",
       "      run_inline_js();\n",
       "    } else {\n",
       "      load_libs(js_urls, function() {\n",
       "        console.log(\"Bokeh: BokehJS plotting callback run at\", now());\n",
       "        run_inline_js();\n",
       "      });\n",
       "    }\n",
       "  }(this));\n",
       "</script>"
      ]
     },
     "metadata": {},
     "output_type": "display_data"
    },
    {
     "data": {
      "text/plain": [
       "<bokeh.plotting.figure.Figure at 0x1846de80fd0>"
      ]
     },
     "execution_count": 15,
     "metadata": {},
     "output_type": "execute_result"
    }
   ],
   "source": [
    "#Measurements with 10% relative uncertainties:\n",
    "relative_factor = 0.1 \n",
    "\n",
    "#Measured values\n",
    "q1m=1e-6\n",
    "q2m=2e-5\n",
    "rm=0.1\n",
    "\n",
    "#Convert to Measurement objects\n",
    "q1 = q.Measurement(q1m,relative_factor*q1m)\n",
    "q2 = q.Measurement(q2m,relative_factor*q2m)\n",
    "r = q.Measurement(rm,relative_factor*rm)\n",
    "#Coulomb's constant:\n",
    "k = 9e9 \n",
    "\n",
    "#Define the Force:\n",
    "F = k*q1*q2/r**2\n",
    "\n",
    "#Print out the different errors\n",
    "q.set_error_method(\"derivative\")\n",
    "print(\"Derivative method, F = \",F)\n",
    "q.set_error_method(\"minmax\")\n",
    "print(\"Min-Max method, F =\", F)\n",
    "q.set_error_method(\"mc\")\n",
    "print(\"Monte Carlo method, F =\",F)\n",
    "\n",
    "F.show_MC_histogram()"
   ]
  },
  {
   "cell_type": "markdown",
   "metadata": {
    "collapsed": false
   },
   "source": [
    "## Exact derivatives\n",
    "Since QExPy needs to be able to evaluate derivatives (by using the automatic differentiation algorithm that exploits the Chain Rule), we can use QExPy to evaluate numerical derivatives exactly. That is, given a function, $f(x,y)$, QExPy can evaluate $\\frac{\\partial f(x,y)}{\\partial x}$ at a given value of $x$ and $y$.\n",
    "\n",
    "For example, if we have:\n",
    "$$x(t) = \\frac{1}{2}gt^2 $$\n",
    "\n",
    "and we have measured $t=8 \\pm 1$, we can evaluate the exact value of the derivative:\n",
    "\n",
    "$$\\frac{\\partial x(t)}{\\partial t} = \\frac{d x(t)}{d t}  = gt$$\n",
    "\n",
    "at $t=8 \\pm 1$\n"
   ]
  },
  {
   "cell_type": "code",
   "execution_count": 16,
   "metadata": {
    "collapsed": false
   },
   "outputs": [
    {
     "name": "stdout",
     "output_type": "stream",
     "text": [
      "78.48\n"
     ]
    }
   ],
   "source": [
    "t = q.Measurement(8,1)\n",
    "x = 0.5 * 9.81 * t**2\n",
    "print(x.get_derivative(t))"
   ]
  },
  {
   "cell_type": "code",
   "execution_count": null,
   "metadata": {
    "collapsed": false
   },
   "outputs": [],
   "source": []
  },
  {
   "cell_type": "code",
   "execution_count": null,
   "metadata": {
    "collapsed": true
   },
   "outputs": [],
   "source": []
  }
 ],
 "metadata": {
  "kernelspec": {
   "display_name": "Python 3",
   "language": "python",
   "name": "python3"
  },
  "language_info": {
   "codemirror_mode": {
    "name": "ipython",
    "version": 3
   },
   "file_extension": ".py",
   "mimetype": "text/x-python",
   "name": "python",
   "nbconvert_exporter": "python",
   "pygments_lexer": "ipython3",
   "version": "3.5.2"
  }
 },
 "nbformat": 4,
 "nbformat_minor": 0
}
