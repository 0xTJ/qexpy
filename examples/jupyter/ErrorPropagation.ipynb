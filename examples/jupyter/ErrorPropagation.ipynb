{
 "cells": [
  {
   "cell_type": "markdown",
   "metadata": {},
   "source": [
    "# Error Propagation with QExPy\n",
    "\n",
    "The first step is to import the error module for error propagation. We'll import it as \"e\":"
   ]
  },
  {
   "cell_type": "code",
   "execution_count": 1,
   "metadata": {
    "collapsed": false
   },
   "outputs": [
    {
     "data": {
      "text/html": [
       "\n",
       "    <div class=\"bk-root\">\n",
       "        <a href=\"http://bokeh.pydata.org\" target=\"_blank\" class=\"bk-logo bk-logo-small bk-logo-notebook\"></a>\n",
       "        <span id=\"d67c940c-1b64-4537-a659-10fea36d7b46\">Loading BokehJS ...</span>\n",
       "    </div>"
      ]
     },
     "metadata": {},
     "output_type": "display_data"
    },
    {
     "data": {
      "application/javascript": [
       "\n",
       "(function(global) {\n",
       "  function now() {\n",
       "    return new Date();\n",
       "  }\n",
       "\n",
       "  var force = \"1\";\n",
       "\n",
       "  if (typeof (window._bokeh_onload_callbacks) === \"undefined\" || force !== \"\") {\n",
       "    window._bokeh_onload_callbacks = [];\n",
       "    window._bokeh_is_loading = undefined;\n",
       "  }\n",
       "\n",
       "  function run_callbacks() {\n",
       "    window._bokeh_onload_callbacks.forEach(function(callback) { callback() });\n",
       "    delete window._bokeh_onload_callbacks\n",
       "    console.info(\"Bokeh: all callbacks have finished\");\n",
       "  }\n",
       "\n",
       "  function load_libs(js_urls, callback) {\n",
       "    window._bokeh_onload_callbacks.push(callback);\n",
       "    if (window._bokeh_is_loading > 0) {\n",
       "      console.log(\"Bokeh: BokehJS is being loaded, scheduling callback at\", now());\n",
       "      return null;\n",
       "    }\n",
       "    if (js_urls == null || js_urls.length === 0) {\n",
       "      run_callbacks();\n",
       "      return null;\n",
       "    }\n",
       "    console.log(\"Bokeh: BokehJS not loaded, scheduling load and callback at\", now());\n",
       "    window._bokeh_is_loading = js_urls.length;\n",
       "    for (var i = 0; i < js_urls.length; i++) {\n",
       "      var url = js_urls[i];\n",
       "      var s = document.createElement('script');\n",
       "      s.src = url;\n",
       "      s.async = false;\n",
       "      s.onreadystatechange = s.onload = function() {\n",
       "        window._bokeh_is_loading--;\n",
       "        if (window._bokeh_is_loading === 0) {\n",
       "          console.log(\"Bokeh: all BokehJS libraries loaded\");\n",
       "          run_callbacks()\n",
       "        }\n",
       "      };\n",
       "      s.onerror = function() {\n",
       "        console.warn(\"failed to load library \" + url);\n",
       "      };\n",
       "      console.log(\"Bokeh: injecting script tag for BokehJS library: \", url);\n",
       "      document.getElementsByTagName(\"head\")[0].appendChild(s);\n",
       "    }\n",
       "  };\n",
       "\n",
       "  var js_urls = ['https://cdn.pydata.org/bokeh/release/bokeh-0.12.1.min.js', 'https://cdn.pydata.org/bokeh/release/bokeh-widgets-0.12.1.min.js', 'https://cdn.pydata.org/bokeh/release/bokeh-compiler-0.12.1.min.js'];\n",
       "\n",
       "  var inline_js = [\n",
       "    function(Bokeh) {\n",
       "      Bokeh.set_log_level(\"info\");\n",
       "    },\n",
       "    \n",
       "    function(Bokeh) {\n",
       "      \n",
       "      Bokeh.$(\"#d67c940c-1b64-4537-a659-10fea36d7b46\").text(\"BokehJS successfully loaded\");\n",
       "      var kernel = Jupyter.notebook.kernel\n",
       "      if (kernel.execute !== undefined) {\n",
       "          kernel.execute(\"import bokeh.io; bokeh.io._nb_loaded = True\");\n",
       "      }\n",
       "    },\n",
       "    function(Bokeh) {\n",
       "      console.log(\"Bokeh: injecting CSS: https://cdn.pydata.org/bokeh/release/bokeh-0.12.1.min.css\");\n",
       "      Bokeh.embed.inject_css(\"https://cdn.pydata.org/bokeh/release/bokeh-0.12.1.min.css\");\n",
       "      console.log(\"Bokeh: injecting CSS: https://cdn.pydata.org/bokeh/release/bokeh-widgets-0.12.1.min.css\");\n",
       "      Bokeh.embed.inject_css(\"https://cdn.pydata.org/bokeh/release/bokeh-widgets-0.12.1.min.css\");\n",
       "    }\n",
       "  ];\n",
       "\n",
       "  function run_inline_js() {\n",
       "    for (var i = 0; i < inline_js.length; i++) {\n",
       "      inline_js[i](window.Bokeh);\n",
       "    }\n",
       "  }\n",
       "\n",
       "  if (window._bokeh_is_loading === 0) {\n",
       "    console.log(\"Bokeh: BokehJS loaded, going straight to plotting\");\n",
       "    run_inline_js();\n",
       "  } else {\n",
       "    load_libs(js_urls, function() {\n",
       "      console.log(\"Bokeh: BokehJS plotting callback run at\", now());\n",
       "      run_inline_js();\n",
       "    });\n",
       "  }\n",
       "}(this));"
      ]
     },
     "metadata": {},
     "output_type": "display_data"
    }
   ],
   "source": [
    "import qexpy as q\n"
   ]
  },
  {
   "cell_type": "markdown",
   "metadata": {},
   "source": [
    "Next, we'll declare two measured values, x and y, with uncertainties, and print them out. We use the Measurement object from the qexpy.error package:"
   ]
  },
  {
   "cell_type": "code",
   "execution_count": 2,
   "metadata": {
    "collapsed": false,
    "scrolled": true
   },
   "outputs": [
    {
     "name": "stdout",
     "output_type": "stream",
     "text": [
      "x = 10 +/- 1\n",
      "y = 5 +/- 3\n"
     ]
    }
   ],
   "source": [
    "#Our two measured values:\n",
    "x = q.Measurement(10,1)\n",
    "y = q.Measurement(5,3)\n",
    "\n",
    "#We can print them out:\n",
    "print(\"x =\",x)\n",
    "print(\"y =\",y)\n",
    "#x.set_correlation(y,0.3)"
   ]
  },
  {
   "cell_type": "markdown",
   "metadata": {},
   "source": [
    "We can declare a third object, z, which depends on x and y. The uncertainty in x and y will be correctly propagated to z, so once we have defined z, we can simply print it out with the correct uncertainty:"
   ]
  },
  {
   "cell_type": "code",
   "execution_count": 3,
   "metadata": {
    "collapsed": false
   },
   "outputs": [
    {
     "name": "stdout",
     "output_type": "stream",
     "text": [
      "z = 15 +/- 3\n"
     ]
    }
   ],
   "source": [
    "#We define z\n",
    "z = x+y\n",
    "#z can now be printed out\n",
    "print(\"z =\",z)"
   ]
  },
  {
   "cell_type": "markdown",
   "metadata": {},
   "source": [
    "Note how the uncertainties have been kept to 1 significant figure. In this case, the error in z was obtained by adding the errors in x and y in quadrature. We can change the number of significant figures to confirm that the errors were indeed added in quadrature. We can choose between setting  the number of significant figures based on the uncertainty (more common) or based on the central value."
   ]
  },
  {
   "cell_type": "code",
   "execution_count": 4,
   "metadata": {
    "collapsed": false
   },
   "outputs": [
    {
     "name": "stdout",
     "output_type": "stream",
     "text": [
      "z = 15.000 +/- 3.162\n"
     ]
    }
   ],
   "source": [
    "q.set_sigfigs_error(4) # set sigfigs based on the error\n",
    "print(\"z =\",z)"
   ]
  },
  {
   "cell_type": "markdown",
   "metadata": {},
   "source": [
    "Let's compare the error in z to what the errors in x and y are when added manually in quadrature. We need to import the sqrt() function from the math package to apply mathematical functions to numbers:"
   ]
  },
  {
   "cell_type": "code",
   "execution_count": 5,
   "metadata": {
    "collapsed": false
   },
   "outputs": [
    {
     "name": "stdout",
     "output_type": "stream",
     "text": [
      "3.1622776601683795\n"
     ]
    }
   ],
   "source": [
    "import math as m\n",
    "quadrature = m.sqrt(x.std**2+y.std**2)\n",
    "print(quadrature)"
   ]
  },
  {
   "cell_type": "markdown",
   "metadata": {},
   "source": [
    "## Math functions\n",
    "We can propagate the uncertainties through any operator (+,-,\\*,/) automatically as we showed above. QExPy also knows how to propagate the uncertainty through common mathematical functions. To use mathematical functions on Measurement objects, we need to call the functions from the QExPy package (as opposed to the math package as we did above for 2 numbers)."
   ]
  },
  {
   "cell_type": "code",
   "execution_count": 6,
   "metadata": {
    "collapsed": false
   },
   "outputs": [
    {
     "name": "stdout",
     "output_type": "stream",
     "text": [
      "time =  1.277102 +/- 0.007982 seconds\n"
     ]
    }
   ],
   "source": [
    "#If an object fell a distance of 8.0 +/0.1 m, how long did it take to fall?\n",
    "y = q.Measurement(8,0.1)\n",
    "g = 9.81\n",
    "t = q.sqrt(2*y/g)\n",
    "print(\"time = \",t, \"seconds\")"
   ]
  },
  {
   "cell_type": "markdown",
   "metadata": {},
   "source": [
    "## Error in correlated quantities\n",
    "If we have two measurements, x and y, that are correlated, then their correlation factor will impact the uncertainty on a quantity that depends on them:"
   ]
  },
  {
   "cell_type": "code",
   "execution_count": 7,
   "metadata": {
    "collapsed": false
   },
   "outputs": [
    {
     "name": "stdout",
     "output_type": "stream",
     "text": [
      "x and y uncorrelated: z= 15.000 +/- 3.162\n",
      "x and y positively correlated: z= 15.000 +/- 3.606\n",
      "x and y negatively correlated: z= 15.000 +/- 2.646\n"
     ]
    }
   ],
   "source": [
    "x = q.Measurement(10,1)\n",
    "y = q.Measurement(5,3)\n",
    "z = x+y\n",
    "print(\"x and y uncorrelated: z=\",z)\n",
    "\n",
    "#Now set a correlation factor between x and y:\n",
    "x.set_correlation(y,0.5)\n",
    "z = x+y\n",
    "print(\"x and y positively correlated: z=\",z)\n",
    "\n",
    "#We can also use the covariance factor instead of the correlation factor:\n",
    "x.set_covariance(y,-1.5)\n",
    "z = x+y\n",
    "print(\"x and y negatively correlated: z=\",z)"
   ]
  },
  {
   "cell_type": "markdown",
   "metadata": {},
   "source": [
    "If we don't specify any correlation factors, then all quantities are assumed to be independent. However, a quantity should not be independent from itself, so QExPy knows how to track the correlation in quantities that depend on common quantities. "
   ]
  },
  {
   "cell_type": "code",
   "execution_count": 8,
   "metadata": {
    "collapsed": false
   },
   "outputs": [
    {
     "name": "stdout",
     "output_type": "stream",
     "text": [
      "0.000 +/- 0.000\n"
     ]
    }
   ],
   "source": [
    "x = q.Measurement(10,1)\n",
    "y = x*x\n",
    "z = x*x - y #this should be 0 +/- 0, since it's really x^2 - x^2 \n",
    "print(z)"
   ]
  },
  {
   "cell_type": "markdown",
   "metadata": {
    "collapsed": true
   },
   "source": [
    "## Statistical measurements\n",
    "QExPy can also handle the case when you have repeated measurements of a single quantity and you want to average them together. Suppose that you have measured 5 values of some quantity T. QExPy will automatically assume that those values should be averaged together so that T is given by the mean of the measured values with an uncertainty given by the standard deviation of the values.\n"
   ]
  },
  {
   "cell_type": "code",
   "execution_count": 9,
   "metadata": {
    "collapsed": false
   },
   "outputs": [
    {
     "name": "stdout",
     "output_type": "stream",
     "text": [
      "5.3000 +/- 0.5431\n"
     ]
    }
   ],
   "source": [
    "T=q.Measurement( [5.6, 4.8, 6.1, 4.9, 5.1 ] )\n",
    "print(T)"
   ]
  },
  {
   "cell_type": "markdown",
   "metadata": {},
   "source": [
    "T can be used just as any other measurement with uncertainties, and its error will be propagate correctly:"
   ]
  },
  {
   "cell_type": "code",
   "execution_count": 10,
   "metadata": {
    "collapsed": false
   },
   "outputs": [
    {
     "name": "stdout",
     "output_type": "stream",
     "text": [
      "1.1849 +/- 0.1214\n"
     ]
    }
   ],
   "source": [
    "omega = 2*3.14/T\n",
    "print(omega)"
   ]
  },
  {
   "cell_type": "markdown",
   "metadata": {},
   "source": [
    "If we have measured many values, it can sometimes be useful to visualize those measurements in a histogram. QExPy will automatically create a histogram of the values, showing lines corresponding to the mean and the range covered by one standard deviation"
   ]
  },
  {
   "cell_type": "code",
   "execution_count": 11,
   "metadata": {
    "collapsed": false
   },
   "outputs": [
    {
     "data": {
      "text/html": [
       "\n",
       "\n",
       "    <div class=\"bk-root\">\n",
       "        <div class=\"plotdiv\" id=\"7ddd3a4a-3d0f-48e0-93eb-1991e42fec02\"></div>\n",
       "    </div>\n",
       "<script type=\"text/javascript\">\n",
       "  \n",
       "  (function(global) {\n",
       "    function now() {\n",
       "      return new Date();\n",
       "    }\n",
       "  \n",
       "    var force = \"\";\n",
       "  \n",
       "    if (typeof (window._bokeh_onload_callbacks) === \"undefined\" || force !== \"\") {\n",
       "      window._bokeh_onload_callbacks = [];\n",
       "      window._bokeh_is_loading = undefined;\n",
       "    }\n",
       "  \n",
       "    function run_callbacks() {\n",
       "      window._bokeh_onload_callbacks.forEach(function(callback) { callback() });\n",
       "      delete window._bokeh_onload_callbacks\n",
       "      console.info(\"Bokeh: all callbacks have finished\");\n",
       "    }\n",
       "  \n",
       "    function load_libs(js_urls, callback) {\n",
       "      window._bokeh_onload_callbacks.push(callback);\n",
       "      if (window._bokeh_is_loading > 0) {\n",
       "        console.log(\"Bokeh: BokehJS is being loaded, scheduling callback at\", now());\n",
       "        return null;\n",
       "      }\n",
       "      if (js_urls == null || js_urls.length === 0) {\n",
       "        run_callbacks();\n",
       "        return null;\n",
       "      }\n",
       "      console.log(\"Bokeh: BokehJS not loaded, scheduling load and callback at\", now());\n",
       "      window._bokeh_is_loading = js_urls.length;\n",
       "      for (var i = 0; i < js_urls.length; i++) {\n",
       "        var url = js_urls[i];\n",
       "        var s = document.createElement('script');\n",
       "        s.src = url;\n",
       "        s.async = false;\n",
       "        s.onreadystatechange = s.onload = function() {\n",
       "          window._bokeh_is_loading--;\n",
       "          if (window._bokeh_is_loading === 0) {\n",
       "            console.log(\"Bokeh: all BokehJS libraries loaded\");\n",
       "            run_callbacks()\n",
       "          }\n",
       "        };\n",
       "        s.onerror = function() {\n",
       "          console.warn(\"failed to load library \" + url);\n",
       "        };\n",
       "        console.log(\"Bokeh: injecting script tag for BokehJS library: \", url);\n",
       "        document.getElementsByTagName(\"head\")[0].appendChild(s);\n",
       "      }\n",
       "    };var element = document.getElementById(\"7ddd3a4a-3d0f-48e0-93eb-1991e42fec02\");\n",
       "    if (element == null) {\n",
       "      console.log(\"Bokeh: ERROR: autoload.js configured with elementid '7ddd3a4a-3d0f-48e0-93eb-1991e42fec02' but no matching script tag was found. \")\n",
       "      return false;\n",
       "    }\n",
       "  \n",
       "    var js_urls = [];\n",
       "  \n",
       "    var inline_js = [\n",
       "      function(Bokeh) {\n",
       "        Bokeh.$(function() {\n",
       "            var docs_json = {\"4921c12d-a697-4728-bd50-7decc01acb53\":{\"roots\":{\"references\":[{\"attributes\":{\"data_source\":{\"id\":\"3ae97b54-026c-4610-9f0f-b0f33c9d0a62\",\"type\":\"ColumnDataSource\"},\"glyph\":{\"id\":\"158eca5d-0048-4420-9702-3da265e8e889\",\"type\":\"Line\"},\"hover_glyph\":null,\"nonselection_glyph\":{\"id\":\"167dfccd-1e42-412f-a2f0-1dd646860df2\",\"type\":\"Line\"},\"selection_glyph\":null},\"id\":\"ae3eb161-029e-4eb4-8721-833421a32fbb\",\"type\":\"GlyphRenderer\"},{\"attributes\":{\"data_source\":{\"id\":\"88f06253-da6c-4155-a26a-d755e315efe2\",\"type\":\"ColumnDataSource\"},\"glyph\":{\"id\":\"f08a1c32-99d4-4a9b-8aac-ac9e23c9bfea\",\"type\":\"Line\"},\"hover_glyph\":null,\"nonselection_glyph\":{\"id\":\"5ebb806f-9fb1-405a-82b7-8ab12fe6e7a2\",\"type\":\"Line\"},\"selection_glyph\":null},\"id\":\"f593087b-9095-4943-8693-ccd149690239\",\"type\":\"GlyphRenderer\"},{\"attributes\":{\"callback\":null},\"id\":\"de9fa5c0-7412-410f-be8d-63332f4a3da4\",\"type\":\"DataRange1d\"},{\"attributes\":{\"plot\":{\"id\":\"013a9fbc-28f8-475c-9e23-83f8fd14b0b1\",\"subtype\":\"Figure\",\"type\":\"Plot\"}},\"id\":\"aeaf9658-3362-467c-bb42-00779318e8c4\",\"type\":\"PanTool\"},{\"attributes\":{\"line_color\":{\"value\":\"red\"},\"line_dash\":[6],\"x\":{\"field\":\"x\"},\"y\":{\"field\":\"y\"}},\"id\":\"ac790b70-8690-45dc-bd3d-310ca9efcb1e\",\"type\":\"Line\"},{\"attributes\":{\"callback\":null,\"column_names\":[\"x\",\"y\"],\"data\":{\"x\":[4.756860975439987,4.756860975439987],\"y\":[0.0,1.1]}},\"id\":\"219a5cf4-5690-4fbe-b94f-1647b061e062\",\"type\":\"ColumnDataSource\"},{\"attributes\":{},\"id\":\"72954d00-8694-43f8-8b3f-29199d8d5d0b\",\"type\":\"BasicTickFormatter\"},{\"attributes\":{\"line_alpha\":{\"value\":0.1},\"line_color\":{\"value\":\"#1f77b4\"},\"line_dash\":[6],\"x\":{\"field\":\"x\"},\"y\":{\"field\":\"y\"}},\"id\":\"53494656-9be3-4807-9edb-474871505560\",\"type\":\"Line\"},{\"attributes\":{},\"id\":\"5c48993e-99bb-4c37-b608-156935b2ee2a\",\"type\":\"BasicTickFormatter\"},{\"attributes\":{},\"id\":\"c07751c5-ef5c-491a-938a-328c8938198b\",\"type\":\"BasicTicker\"},{\"attributes\":{\"line_alpha\":{\"value\":0.1},\"line_color\":{\"value\":\"#1f77b4\"},\"line_dash\":[6],\"x\":{\"field\":\"x\"},\"y\":{\"field\":\"y\"}},\"id\":\"5ebb806f-9fb1-405a-82b7-8ab12fe6e7a2\",\"type\":\"Line\"},{\"attributes\":{\"plot\":null,\"text\":\"unnamed_var6 Histogram\"},\"id\":\"42a842f3-ac75-45cc-a9b4-742a6fe4e1e2\",\"type\":\"Title\"},{\"attributes\":{\"plot\":{\"id\":\"013a9fbc-28f8-475c-9e23-83f8fd14b0b1\",\"subtype\":\"Figure\",\"type\":\"Plot\"}},\"id\":\"ddcd271e-9ee1-44ac-a383-fcd9a691223d\",\"type\":\"SaveTool\"},{\"attributes\":{\"formatter\":{\"id\":\"5c48993e-99bb-4c37-b608-156935b2ee2a\",\"type\":\"BasicTickFormatter\"},\"plot\":{\"id\":\"013a9fbc-28f8-475c-9e23-83f8fd14b0b1\",\"subtype\":\"Figure\",\"type\":\"Plot\"},\"ticker\":{\"id\":\"91785483-2191-487f-b4e0-5de353787eee\",\"type\":\"BasicTicker\"}},\"id\":\"76dc9de8-af1b-4f78-917c-afb9bf72e533\",\"type\":\"LinearAxis\"},{\"attributes\":{},\"id\":\"ef4894d7-db39-4b7a-9528-6cb098b4b05f\",\"type\":\"ToolEvents\"},{\"attributes\":{\"plot\":{\"id\":\"013a9fbc-28f8-475c-9e23-83f8fd14b0b1\",\"subtype\":\"Figure\",\"type\":\"Plot\"}},\"id\":\"2f2c0e71-ebc7-4dde-8aa8-2e993d82b405\",\"type\":\"WheelZoomTool\"},{\"attributes\":{},\"id\":\"91785483-2191-487f-b4e0-5de353787eee\",\"type\":\"BasicTicker\"},{\"attributes\":{\"callback\":null,\"column_names\":[\"x\",\"y\"],\"data\":{\"x\":[5.3,5.3],\"y\":[0.0,1.05]}},\"id\":\"88f06253-da6c-4155-a26a-d755e315efe2\",\"type\":\"ColumnDataSource\"},{\"attributes\":{\"bottom\":{\"value\":0},\"fill_alpha\":{\"value\":0.1},\"fill_color\":{\"value\":\"#1f77b4\"},\"left\":{\"field\":\"left\"},\"line_alpha\":{\"value\":0.1},\"line_color\":{\"value\":\"#1f77b4\"},\"right\":{\"field\":\"right\"},\"top\":{\"field\":\"top\"}},\"id\":\"28daafcf-9b14-47a8-a450-69cb9e255dda\",\"type\":\"Quad\"},{\"attributes\":{\"line_color\":{\"value\":\"red\"},\"line_dash\":[6],\"x\":{\"field\":\"x\"},\"y\":{\"field\":\"y\"}},\"id\":\"f08a1c32-99d4-4a9b-8aac-ac9e23c9bfea\",\"type\":\"Line\"},{\"attributes\":{\"line_alpha\":{\"value\":0.1},\"line_color\":{\"value\":\"#1f77b4\"},\"line_dash\":[6],\"x\":{\"field\":\"x\"},\"y\":{\"field\":\"y\"}},\"id\":\"167dfccd-1e42-412f-a2f0-1dd646860df2\",\"type\":\"Line\"},{\"attributes\":{\"data_source\":{\"id\":\"f7bfa819-5d96-41d5-adf0-05db49f96abc\",\"type\":\"ColumnDataSource\"},\"glyph\":{\"id\":\"eb186c10-6643-4b16-bb9f-c01148c30cbd\",\"type\":\"Quad\"},\"hover_glyph\":null,\"nonselection_glyph\":{\"id\":\"28daafcf-9b14-47a8-a450-69cb9e255dda\",\"type\":\"Quad\"},\"selection_glyph\":null},\"id\":\"577ba3f9-2198-49ad-94c1-7856f90c8db9\",\"type\":\"GlyphRenderer\"},{\"attributes\":{\"plot\":{\"id\":\"013a9fbc-28f8-475c-9e23-83f8fd14b0b1\",\"subtype\":\"Figure\",\"type\":\"Plot\"}},\"id\":\"aa1e5727-6529-4d77-9c9d-4bfac192705b\",\"type\":\"ResetTool\"},{\"attributes\":{\"dimension\":1,\"plot\":{\"id\":\"013a9fbc-28f8-475c-9e23-83f8fd14b0b1\",\"subtype\":\"Figure\",\"type\":\"Plot\"},\"ticker\":{\"id\":\"91785483-2191-487f-b4e0-5de353787eee\",\"type\":\"BasicTicker\"}},\"id\":\"f34a799c-ef14-4555-92b6-a23adffc0d1b\",\"type\":\"Grid\"},{\"attributes\":{\"bottom_units\":\"screen\",\"fill_alpha\":{\"value\":0.5},\"fill_color\":{\"value\":\"lightgrey\"},\"left_units\":\"screen\",\"level\":\"overlay\",\"line_alpha\":{\"value\":1.0},\"line_color\":{\"value\":\"black\"},\"line_dash\":[4,4],\"line_width\":{\"value\":2},\"plot\":null,\"render_mode\":\"css\",\"right_units\":\"screen\",\"top_units\":\"screen\"},\"id\":\"3ab9db3d-7d0f-47d8-8c2f-1d7cfac12feb\",\"type\":\"BoxAnnotation\"},{\"attributes\":{\"plot\":{\"id\":\"013a9fbc-28f8-475c-9e23-83f8fd14b0b1\",\"subtype\":\"Figure\",\"type\":\"Plot\"},\"ticker\":{\"id\":\"c07751c5-ef5c-491a-938a-328c8938198b\",\"type\":\"BasicTicker\"}},\"id\":\"b8671e6a-c8fb-4c61-b23d-9abf52c74738\",\"type\":\"Grid\"},{\"attributes\":{\"line_color\":{\"value\":\"red\"},\"line_dash\":[6],\"x\":{\"field\":\"x\"},\"y\":{\"field\":\"y\"}},\"id\":\"158eca5d-0048-4420-9702-3da265e8e889\",\"type\":\"Line\"},{\"attributes\":{\"bottom\":{\"value\":0},\"fill_color\":{\"value\":\"#036564\"},\"left\":{\"field\":\"left\"},\"line_color\":{\"value\":\"#033649\"},\"right\":{\"field\":\"right\"},\"top\":{\"field\":\"top\"}},\"id\":\"eb186c10-6643-4b16-bb9f-c01148c30cbd\",\"type\":\"Quad\"},{\"attributes\":{\"active_drag\":\"auto\",\"active_scroll\":\"auto\",\"active_tap\":\"auto\",\"tools\":[{\"id\":\"ddcd271e-9ee1-44ac-a383-fcd9a691223d\",\"type\":\"SaveTool\"},{\"id\":\"aeaf9658-3362-467c-bb42-00779318e8c4\",\"type\":\"PanTool\"},{\"id\":\"fba2c325-9ad4-4754-abfd-3a0168e375dc\",\"type\":\"BoxZoomTool\"},{\"id\":\"2f2c0e71-ebc7-4dde-8aa8-2e993d82b405\",\"type\":\"WheelZoomTool\"},{\"id\":\"aa1e5727-6529-4d77-9c9d-4bfac192705b\",\"type\":\"ResetTool\"}]},\"id\":\"79493fec-0ff9-4d2c-a3da-d7bbe6cfec8b\",\"type\":\"Toolbar\"},{\"attributes\":{\"formatter\":{\"id\":\"72954d00-8694-43f8-8b3f-29199d8d5d0b\",\"type\":\"BasicTickFormatter\"},\"plot\":{\"id\":\"013a9fbc-28f8-475c-9e23-83f8fd14b0b1\",\"subtype\":\"Figure\",\"type\":\"Plot\"},\"ticker\":{\"id\":\"c07751c5-ef5c-491a-938a-328c8938198b\",\"type\":\"BasicTicker\"}},\"id\":\"826e177a-cbed-403e-8f82-c71d2d95a59b\",\"type\":\"LinearAxis\"},{\"attributes\":{\"data_source\":{\"id\":\"219a5cf4-5690-4fbe-b94f-1647b061e062\",\"type\":\"ColumnDataSource\"},\"glyph\":{\"id\":\"ac790b70-8690-45dc-bd3d-310ca9efcb1e\",\"type\":\"Line\"},\"hover_glyph\":null,\"nonselection_glyph\":{\"id\":\"53494656-9be3-4807-9edb-474871505560\",\"type\":\"Line\"},\"selection_glyph\":null},\"id\":\"1a401686-8052-48e4-95e7-a31f420a8110\",\"type\":\"GlyphRenderer\"},{\"attributes\":{\"overlay\":{\"id\":\"3ab9db3d-7d0f-47d8-8c2f-1d7cfac12feb\",\"type\":\"BoxAnnotation\"},\"plot\":{\"id\":\"013a9fbc-28f8-475c-9e23-83f8fd14b0b1\",\"subtype\":\"Figure\",\"type\":\"Plot\"}},\"id\":\"fba2c325-9ad4-4754-abfd-3a0168e375dc\",\"type\":\"BoxZoomTool\"},{\"attributes\":{\"background_fill_color\":{\"value\":\"#E8DDCB\"},\"below\":[{\"id\":\"826e177a-cbed-403e-8f82-c71d2d95a59b\",\"type\":\"LinearAxis\"}],\"left\":[{\"id\":\"76dc9de8-af1b-4f78-917c-afb9bf72e533\",\"type\":\"LinearAxis\"}],\"renderers\":[{\"id\":\"826e177a-cbed-403e-8f82-c71d2d95a59b\",\"type\":\"LinearAxis\"},{\"id\":\"b8671e6a-c8fb-4c61-b23d-9abf52c74738\",\"type\":\"Grid\"},{\"id\":\"76dc9de8-af1b-4f78-917c-afb9bf72e533\",\"type\":\"LinearAxis\"},{\"id\":\"f34a799c-ef14-4555-92b6-a23adffc0d1b\",\"type\":\"Grid\"},{\"id\":\"3ab9db3d-7d0f-47d8-8c2f-1d7cfac12feb\",\"type\":\"BoxAnnotation\"},{\"id\":\"577ba3f9-2198-49ad-94c1-7856f90c8db9\",\"type\":\"GlyphRenderer\"},{\"id\":\"f593087b-9095-4943-8693-ccd149690239\",\"type\":\"GlyphRenderer\"},{\"id\":\"1a401686-8052-48e4-95e7-a31f420a8110\",\"type\":\"GlyphRenderer\"},{\"id\":\"ae3eb161-029e-4eb4-8721-833421a32fbb\",\"type\":\"GlyphRenderer\"}],\"title\":{\"id\":\"42a842f3-ac75-45cc-a9b4-742a6fe4e1e2\",\"type\":\"Title\"},\"tool_events\":{\"id\":\"ef4894d7-db39-4b7a-9528-6cb098b4b05f\",\"type\":\"ToolEvents\"},\"toolbar\":{\"id\":\"79493fec-0ff9-4d2c-a3da-d7bbe6cfec8b\",\"type\":\"Toolbar\"},\"x_range\":{\"id\":\"de9fa5c0-7412-410f-be8d-63332f4a3da4\",\"type\":\"DataRange1d\"},\"y_range\":{\"id\":\"4305dce9-4e50-4150-898c-37fd040ebf22\",\"type\":\"DataRange1d\"}},\"id\":\"013a9fbc-28f8-475c-9e23-83f8fd14b0b1\",\"subtype\":\"Figure\",\"type\":\"Plot\"},{\"attributes\":{\"callback\":null,\"column_names\":[\"x\",\"y\"],\"data\":{\"x\":[5.8431390245600126,5.8431390245600126],\"y\":[0.0,1.1]}},\"id\":\"3ae97b54-026c-4610-9f0f-b0f33c9d0a62\",\"type\":\"ColumnDataSource\"},{\"attributes\":{\"callback\":null,\"column_names\":[\"top\",\"left\",\"right\"],\"data\":{\"left\":[4.8,4.826,4.851999999999999,4.878,4.904,4.93,4.9559999999999995,4.982,5.008,5.034,5.06,5.085999999999999,5.112,5.138,5.164,5.1899999999999995,5.215999999999999,5.242,5.268,5.294,5.319999999999999,5.346,5.372,5.398,5.4239999999999995,5.449999999999999,5.476,5.502,5.528,5.553999999999999,5.58,5.606,5.632,5.6579999999999995,5.683999999999999,5.71,5.736,5.762,5.787999999999999,5.814,5.84,5.866,5.8919999999999995,5.917999999999999,5.943999999999999,5.97,5.9959999999999996,6.021999999999999,6.048,6.074],\"right\":[4.826,4.851999999999999,4.878,4.904,4.93,4.9559999999999995,4.982,5.008,5.034,5.06,5.085999999999999,5.112,5.138,5.164,5.1899999999999995,5.215999999999999,5.242,5.268,5.294,5.319999999999999,5.346,5.372,5.398,5.4239999999999995,5.449999999999999,5.476,5.502,5.528,5.553999999999999,5.58,5.606,5.632,5.6579999999999995,5.683999999999999,5.71,5.736,5.762,5.787999999999999,5.814,5.84,5.866,5.8919999999999995,5.917999999999999,5.943999999999999,5.97,5.9959999999999996,6.021999999999999,6.048,6.074,6.1],\"top\":[1,0,0,1,0,0,0,0,0,0,0,1,0,0,0,0,0,0,0,0,0,0,0,0,0,0,0,0,0,0,1,0,0,0,0,0,0,0,0,0,0,0,0,0,0,0,0,0,0,1]}},\"id\":\"f7bfa819-5d96-41d5-adf0-05db49f96abc\",\"type\":\"ColumnDataSource\"},{\"attributes\":{\"callback\":null},\"id\":\"4305dce9-4e50-4150-898c-37fd040ebf22\",\"type\":\"DataRange1d\"}],\"root_ids\":[\"013a9fbc-28f8-475c-9e23-83f8fd14b0b1\"]},\"title\":\"Bokeh Application\",\"version\":\"0.12.1\"}};\n",
       "            var render_items = [{\"docid\":\"4921c12d-a697-4728-bd50-7decc01acb53\",\"elementid\":\"7ddd3a4a-3d0f-48e0-93eb-1991e42fec02\",\"modelid\":\"013a9fbc-28f8-475c-9e23-83f8fd14b0b1\",\"notebook_comms_target\":\"113cd7c9-df48-4d18-aa90-9f9610df8696\"}];\n",
       "            \n",
       "            Bokeh.embed.embed_items(docs_json, render_items);\n",
       "        });\n",
       "      },\n",
       "      function(Bokeh) {\n",
       "      }\n",
       "    ];\n",
       "  \n",
       "    function run_inline_js() {\n",
       "      for (var i = 0; i < inline_js.length; i++) {\n",
       "        inline_js[i](window.Bokeh);\n",
       "      }\n",
       "    }\n",
       "  \n",
       "    if (window._bokeh_is_loading === 0) {\n",
       "      console.log(\"Bokeh: BokehJS loaded, going straight to plotting\");\n",
       "      run_inline_js();\n",
       "    } else {\n",
       "      load_libs(js_urls, function() {\n",
       "        console.log(\"Bokeh: BokehJS plotting callback run at\", now());\n",
       "        run_inline_js();\n",
       "      });\n",
       "    }\n",
       "  }(this));\n",
       "</script>"
      ]
     },
     "metadata": {},
     "output_type": "display_data"
    },
    {
     "data": {
      "text/plain": [
       "<bokeh.plotting.figure.Figure at 0x2704404b320>"
      ]
     },
     "execution_count": 11,
     "metadata": {},
     "output_type": "execute_result"
    }
   ],
   "source": [
    "T.show_histogram()"
   ]
  },
  {
   "cell_type": "markdown",
   "metadata": {},
   "source": [
    "## Multiple measurements (Arrays of Measurements)\n",
    "QExPy can also handle the case of having multiple measurements, when each measurement has its own uncertainty. For example, if you have three measurements of a single quantity, in order to get an average value, you should weight each measurement by its uncertainty (or rather the weight should be 1 over the square of the uncertainty). This is handled by the MeasurementArray class:"
   ]
  },
  {
   "cell_type": "code",
   "execution_count": 12,
   "metadata": {
    "collapsed": false
   },
   "outputs": [
    {
     "name": "stdout",
     "output_type": "stream",
     "text": [
      "11.233 +/- 1.003\n"
     ]
    }
   ],
   "source": [
    "#gvals = e.MeasurementArray([(9.8,0.2), (14,3) , (9.9,0.1)])\n",
    "gvals = q.MeasurementArray([9.8,14,9.9],[0.2,3,0.1])\n",
    "print(gvals.mean())\n"
   ]
  },
  {
   "cell_type": "markdown",
   "metadata": {},
   "source": [
    "The MeasurementArray object truly is an array of Measurement objects, so individual measurements can be retrieved (remember that the first element in an array in python has index 0 not 1, so element 1 is the second element):"
   ]
  },
  {
   "cell_type": "code",
   "execution_count": 13,
   "metadata": {
    "collapsed": false
   },
   "outputs": [
    {
     "name": "stdout",
     "output_type": "stream",
     "text": [
      "14.000 +/- 3.000\n"
     ]
    }
   ],
   "source": [
    "print(gvals[1])"
   ]
  },
  {
   "cell_type": "markdown",
   "metadata": {},
   "source": [
    "## Error propagation methods\n",
    "\n",
    "### Derivative method (default)\n",
    "By default, QExPy propagates the uncertainties using the \"derivative\" method. That is, for a function, $f(x,y)$, that depends on measured quantities $x\\pm\\sigma_x$ and $y\\pm\\sigma_y$, with covariance $\\sigma_{xy}$ between the two measured quantities, the uncertainty in $f$ is given by:\n",
    "$$ \\sigma_f = \\sqrt{ \\left(\\frac{\\partial f}{\\partial x} \\sigma_x \\right)^2 + \\left(\\frac{\\partial f}{\\partial y} \\sigma_y \\right)^2 + 2 \\frac{\\partial f}{\\partial x} \\frac{\\partial f}{\\partial y}\\sigma_{xy} }$$\n",
    "\n",
    "QExPy evaluates the derivatives exactly when propagating the uncertainties using an algorithm called \"automatic differentiation\". This is possible as QExPy internally keeps track of the dependency of quantities on each other, and as an added bonus can also be used to evaluate numerical derivatives exactly. Although the derivative method is commonly taught in undergraduate laboratories, it is only valid when the relative uncertainties in the quantities being propagated are small (e.g. less than ~10% relative uncertainty). This method is thus not strongly encouraged, although it has been made the default because it is so prevalent in undergraduate teaching. \n",
    "\n",
    "\n",
    "### Min-Max method (not recommended)\n",
    "This is not the only way to propagate the uncertainty in $f$. For example, the \"Min-Max\" method, is a method to yield a more conservative (larger) estimate of the uncertainty in $f$ and is often used in introductory courses. The Min-Max method defines the central value and uncertainty in $f$ as:\n",
    "$$f=\\frac{1}{2}(f^{max}+f^{min})$$\n",
    "$$\\sigma_f=\\frac{1}{2}(f^{max}-f^{min})$$\n",
    "\n",
    "where $f^{max}$ ($f^{min}$) is the maximum (minimum) value that $f$ takes when $x$ and $y$ are varied within their uncertainty range. For example, if $f(x,y)=x+y$, then the maximum and minimum of $f$ are easily found:\n",
    "\n",
    "$$f^{max} = (x+\\sigma_x)+(y+\\sigma_y)$$\n",
    "$$f^{min} = (x-\\sigma_x)-(y-\\sigma_y)$$\n",
    "\n",
    "The Min-Max method actually requires a numerical approximation to evaluate the values of $f^{max}$ and $f^{min}$ for all but the most simple cases. Hence although it is a good method to introduce the idea of uncertainty propagation, it is not recommended to use this method in any serious calculation (it also does not take correlations into account). \n",
    "\n",
    "### Monte Carlo method (recommended!)\n",
    "Finally, the recommended method to propagate errors is the \"Monte-Carlo\" method, although it is the hardest to understand. The MC method is based on a statiscal understanding of the measurements. In the QExPy implementation, currently, the main assumptions is that the uncertainty in a quantity is given by a \"standard error\"; that is, if $x = 10\\pm 1$, then we *assume* that this error and uncertainty should be interpreted as: \"if we measure $x$ multiple times, we will obtain a set of measurements that are normally distributed with a mean of 10 and a standard deviation of 1\". In other words, we assume that $x$ has a 68% chance of being in the range between 9 and 11.\n",
    "\n",
    "\n",
    "The MC method then uses the assumption that measured quantities are normally distributed and use this to propagate the errors by using Monte Carlo simulation. Suppose that we have measured $x$ and $y$ and wish to determine the central value and uncertainty in $x=x+y$. The Monte Carlo method will generate normally distributed random values for $x$ and $y$ (the random numbers will be correctly correlated if the user has indicated that $x$ and $y$ are correlated), then it will add those random values together, to obtain a set of values for $z$. The mean and standard deviation of the random values for $z$ are taken as the central value and uncertainty in $z$. \n",
    "\n",
    "## What QExPy actually does\n",
    "Although the user appears to choose the method used to propagate the errors, QExPy always uses all three methods behind the scenes and the user only decides which method to print out. This allows QExPy to compare the results behind the scenes, in particular, to inform the users that the uncertainties using a particular method (e.g. derivative) may be inaccurate and to suggest that the user choose a different method. \n",
    "\n",
    "## Example\n",
    "Below, we illustrate an example of using the different methods to propagate the uncertainty in the Coulomb force based on the measurement of two charges, $q_1$ and $q_2$, and the distance between them, $r$. We illustrate how the derivative method does not give the correct answer if the relative uncertainties in the measured quantities are large. \n",
    "\n",
    "### 1 % relative uncertainty calculation\n"
   ]
  },
  {
   "cell_type": "code",
   "execution_count": 14,
   "metadata": {
    "collapsed": false
   },
   "outputs": [
    {
     "name": "stdout",
     "output_type": "stream",
     "text": [
      "Derivative method, F =  18.0000 +/- 0.4409\n",
      "Min-Max method, F = 18.0021 +/- 0.1055\n",
      "Monte Carlo method, F = 18.0007 +/- 0.4417\n"
     ]
    }
   ],
   "source": [
    "#Measurements with 1% relative uncertainties:\n",
    "relative_factor = 0.01 \n",
    "\n",
    "#Measured values\n",
    "q1m=1e-6\n",
    "q2m=2e-5\n",
    "rm=0.1\n",
    "\n",
    "#Convert to Measurement objects\n",
    "q1 = q.Measurement(q1m,relative_factor*q1m)\n",
    "q2 = q.Measurement(q2m,relative_factor*q2m)\n",
    "r = q.Measurement(rm,relative_factor*rm)\n",
    "#Coulomb's constant:\n",
    "k = 9e9 \n",
    "\n",
    "#Define the Force:\n",
    "F = k*q1*q2/r**2\n",
    "\n",
    "#Print out the different errors\n",
    "q.set_error_method(\"derivative\")\n",
    "print(\"Derivative method, F = \",F)\n",
    "q.set_error_method(\"minmax\")\n",
    "print(\"Min-Max method, F =\", F)\n",
    "q.set_error_method(\"mc\")\n",
    "print(\"Monte Carlo method, F =\",F)\n",
    "\n"
   ]
  },
  {
   "cell_type": "markdown",
   "metadata": {},
   "source": [
    "### 10 % relative uncertainty calculation\n",
    "We see that in this case, the Monte Carlo method returns a different uncertainty than the derivative method, because the derivative method is incorrect when the uncertainties are this large."
   ]
  },
  {
   "cell_type": "code",
   "execution_count": 15,
   "metadata": {
    "collapsed": false
   },
   "outputs": [
    {
     "name": "stdout",
     "output_type": "stream",
     "text": [
      "Derivative method, F =  18.000 +/- 4.409\n",
      "Min-Max method, F = 18.220 +/- 1.098\n",
      "Monte Carlo method, F = 18.633 +/- 4.801\n"
     ]
    },
    {
     "data": {
      "text/html": [
       "\n",
       "\n",
       "    <div class=\"bk-root\">\n",
       "        <div class=\"plotdiv\" id=\"a64782fd-09e7-4b3a-ba1b-92ad51ff12da\"></div>\n",
       "    </div>\n",
       "<script type=\"text/javascript\">\n",
       "  \n",
       "  (function(global) {\n",
       "    function now() {\n",
       "      return new Date();\n",
       "    }\n",
       "  \n",
       "    var force = \"\";\n",
       "  \n",
       "    if (typeof (window._bokeh_onload_callbacks) === \"undefined\" || force !== \"\") {\n",
       "      window._bokeh_onload_callbacks = [];\n",
       "      window._bokeh_is_loading = undefined;\n",
       "    }\n",
       "  \n",
       "    function run_callbacks() {\n",
       "      window._bokeh_onload_callbacks.forEach(function(callback) { callback() });\n",
       "      delete window._bokeh_onload_callbacks\n",
       "      console.info(\"Bokeh: all callbacks have finished\");\n",
       "    }\n",
       "  \n",
       "    function load_libs(js_urls, callback) {\n",
       "      window._bokeh_onload_callbacks.push(callback);\n",
       "      if (window._bokeh_is_loading > 0) {\n",
       "        console.log(\"Bokeh: BokehJS is being loaded, scheduling callback at\", now());\n",
       "        return null;\n",
       "      }\n",
       "      if (js_urls == null || js_urls.length === 0) {\n",
       "        run_callbacks();\n",
       "        return null;\n",
       "      }\n",
       "      console.log(\"Bokeh: BokehJS not loaded, scheduling load and callback at\", now());\n",
       "      window._bokeh_is_loading = js_urls.length;\n",
       "      for (var i = 0; i < js_urls.length; i++) {\n",
       "        var url = js_urls[i];\n",
       "        var s = document.createElement('script');\n",
       "        s.src = url;\n",
       "        s.async = false;\n",
       "        s.onreadystatechange = s.onload = function() {\n",
       "          window._bokeh_is_loading--;\n",
       "          if (window._bokeh_is_loading === 0) {\n",
       "            console.log(\"Bokeh: all BokehJS libraries loaded\");\n",
       "            run_callbacks()\n",
       "          }\n",
       "        };\n",
       "        s.onerror = function() {\n",
       "          console.warn(\"failed to load library \" + url);\n",
       "        };\n",
       "        console.log(\"Bokeh: injecting script tag for BokehJS library: \", url);\n",
       "        document.getElementsByTagName(\"head\")[0].appendChild(s);\n",
       "      }\n",
       "    };var element = document.getElementById(\"a64782fd-09e7-4b3a-ba1b-92ad51ff12da\");\n",
       "    if (element == null) {\n",
       "      console.log(\"Bokeh: ERROR: autoload.js configured with elementid 'a64782fd-09e7-4b3a-ba1b-92ad51ff12da' but no matching script tag was found. \")\n",
       "      return false;\n",
       "    }\n",
       "  \n",
       "    var js_urls = [];\n",
       "  \n",
       "    var inline_js = [\n",
       "      function(Bokeh) {\n",
       "        Bokeh.$(function() {\n",
       "            var docs_json = {\"2e20668b-acc0-410f-9bd8-49506ed25865\":{\"roots\":{\"references\":[{\"attributes\":{\"callback\":null,\"column_names\":[\"x\",\"y\"],\"data\":{\"x\":[18.0,18.0],\"y\":[0.0,910.35]}},\"id\":\"29abc875-2309-493e-9c24-084efddc5df4\",\"type\":\"ColumnDataSource\"},{\"attributes\":{\"dimension\":1,\"plot\":{\"id\":\"d91256e2-6c15-4bc0-a75f-36eca9cc6d2a\",\"subtype\":\"Figure\",\"type\":\"Plot\"},\"ticker\":{\"id\":\"51b52c19-50e9-4dc7-8d37-79fd6573d8ac\",\"type\":\"BasicTicker\"}},\"id\":\"8ed658c0-3d67-4acb-87c4-3b3d0ba03837\",\"type\":\"Grid\"},{\"attributes\":{},\"id\":\"d4e0ed47-f3d0-4d89-b47b-a6e141d63b92\",\"type\":\"ToolEvents\"},{\"attributes\":{\"bottom_units\":\"screen\",\"fill_alpha\":{\"value\":0.5},\"fill_color\":{\"value\":\"lightgrey\"},\"left_units\":\"screen\",\"level\":\"overlay\",\"line_alpha\":{\"value\":1.0},\"line_color\":{\"value\":\"black\"},\"line_dash\":[4,4],\"line_width\":{\"value\":2},\"plot\":null,\"render_mode\":\"css\",\"right_units\":\"screen\",\"top_units\":\"screen\"},\"id\":\"53f1ce8c-2d04-4a16-b46a-8eabf13ecfc5\",\"type\":\"BoxAnnotation\"},{\"attributes\":{},\"id\":\"56853fc2-02bb-4ebe-a691-fbe5033b355b\",\"type\":\"BasicTicker\"},{\"attributes\":{\"bottom\":{\"value\":0},\"fill_color\":{\"value\":\"#036564\"},\"left\":{\"field\":\"left\"},\"line_color\":{\"value\":\"#033649\"},\"right\":{\"field\":\"right\"},\"top\":{\"field\":\"top\"}},\"id\":\"41f376f9-6c74-4e45-803a-81d9abce1a3c\",\"type\":\"Quad\"},{\"attributes\":{\"plot\":{\"id\":\"d91256e2-6c15-4bc0-a75f-36eca9cc6d2a\",\"subtype\":\"Figure\",\"type\":\"Plot\"},\"ticker\":{\"id\":\"56853fc2-02bb-4ebe-a691-fbe5033b355b\",\"type\":\"BasicTicker\"}},\"id\":\"b750b104-a4b4-424e-90d3-0acc3dfb2c2f\",\"type\":\"Grid\"},{\"attributes\":{\"formatter\":{\"id\":\"9a4b5beb-7291-40a6-99a1-66f00d3c20bf\",\"type\":\"BasicTickFormatter\"},\"plot\":{\"id\":\"d91256e2-6c15-4bc0-a75f-36eca9cc6d2a\",\"subtype\":\"Figure\",\"type\":\"Plot\"},\"ticker\":{\"id\":\"51b52c19-50e9-4dc7-8d37-79fd6573d8ac\",\"type\":\"BasicTicker\"}},\"id\":\"dc6c1134-63aa-43e2-a747-f5f1ac118951\",\"type\":\"LinearAxis\"},{\"attributes\":{\"bottom\":{\"value\":0},\"fill_alpha\":{\"value\":0.1},\"fill_color\":{\"value\":\"#1f77b4\"},\"left\":{\"field\":\"left\"},\"line_alpha\":{\"value\":0.1},\"line_color\":{\"value\":\"#1f77b4\"},\"right\":{\"field\":\"right\"},\"top\":{\"field\":\"top\"}},\"id\":\"18cf30aa-72e4-444b-8227-9b93d61075d5\",\"type\":\"Quad\"},{\"attributes\":{\"line_color\":{\"value\":\"red\"},\"line_dash\":[6],\"x\":{\"field\":\"x\"},\"y\":{\"field\":\"y\"}},\"id\":\"053321ff-2e4b-4d1d-b73d-87f78ec19f35\",\"type\":\"Line\"},{\"attributes\":{},\"id\":\"b3d5b467-dd76-4ab3-bc4a-b91510a95a62\",\"type\":\"BasicTickFormatter\"},{\"attributes\":{},\"id\":\"9a4b5beb-7291-40a6-99a1-66f00d3c20bf\",\"type\":\"BasicTickFormatter\"},{\"attributes\":{\"formatter\":{\"id\":\"b3d5b467-dd76-4ab3-bc4a-b91510a95a62\",\"type\":\"BasicTickFormatter\"},\"plot\":{\"id\":\"d91256e2-6c15-4bc0-a75f-36eca9cc6d2a\",\"subtype\":\"Figure\",\"type\":\"Plot\"},\"ticker\":{\"id\":\"56853fc2-02bb-4ebe-a691-fbe5033b355b\",\"type\":\"BasicTicker\"}},\"id\":\"890b5252-c7e8-43bc-8935-9744fa5cb473\",\"type\":\"LinearAxis\"},{\"attributes\":{\"overlay\":{\"id\":\"53f1ce8c-2d04-4a16-b46a-8eabf13ecfc5\",\"type\":\"BoxAnnotation\"},\"plot\":{\"id\":\"d91256e2-6c15-4bc0-a75f-36eca9cc6d2a\",\"subtype\":\"Figure\",\"type\":\"Plot\"}},\"id\":\"7329076b-b4f0-4969-8a55-36f6096e56d2\",\"type\":\"BoxZoomTool\"},{\"attributes\":{\"data_source\":{\"id\":\"d7aaf389-58a8-4fd2-8513-d234a4fb9941\",\"type\":\"ColumnDataSource\"},\"glyph\":{\"id\":\"41f376f9-6c74-4e45-803a-81d9abce1a3c\",\"type\":\"Quad\"},\"hover_glyph\":null,\"nonselection_glyph\":{\"id\":\"18cf30aa-72e4-444b-8227-9b93d61075d5\",\"type\":\"Quad\"},\"selection_glyph\":null},\"id\":\"0eaf48cb-db24-4d22-991b-bfc7098d9e98\",\"type\":\"GlyphRenderer\"},{\"attributes\":{\"callback\":null,\"column_names\":[\"x\",\"y\"],\"data\":{\"x\":[13.59091846299028,13.59091846299028],\"y\":[0.0,953.7]}},\"id\":\"cfa8149c-5635-4c8a-bfbb-4fafca86fdad\",\"type\":\"ColumnDataSource\"},{\"attributes\":{\"background_fill_color\":{\"value\":\"#E8DDCB\"},\"below\":[{\"id\":\"890b5252-c7e8-43bc-8935-9744fa5cb473\",\"type\":\"LinearAxis\"}],\"left\":[{\"id\":\"dc6c1134-63aa-43e2-a747-f5f1ac118951\",\"type\":\"LinearAxis\"}],\"renderers\":[{\"id\":\"890b5252-c7e8-43bc-8935-9744fa5cb473\",\"type\":\"LinearAxis\"},{\"id\":\"b750b104-a4b4-424e-90d3-0acc3dfb2c2f\",\"type\":\"Grid\"},{\"id\":\"dc6c1134-63aa-43e2-a747-f5f1ac118951\",\"type\":\"LinearAxis\"},{\"id\":\"8ed658c0-3d67-4acb-87c4-3b3d0ba03837\",\"type\":\"Grid\"},{\"id\":\"53f1ce8c-2d04-4a16-b46a-8eabf13ecfc5\",\"type\":\"BoxAnnotation\"},{\"id\":\"0eaf48cb-db24-4d22-991b-bfc7098d9e98\",\"type\":\"GlyphRenderer\"},{\"id\":\"9b8a7369-cef9-433f-a675-2e31ecf7c328\",\"type\":\"GlyphRenderer\"},{\"id\":\"e76f90c4-5b59-492b-a63e-cc90bc61805d\",\"type\":\"GlyphRenderer\"},{\"id\":\"b289776f-57c5-4d93-a1a1-aee864c3449d\",\"type\":\"GlyphRenderer\"}],\"title\":{\"id\":\"aba27514-598d-430b-b211-82ab0fa61c77\",\"type\":\"Title\"},\"tool_events\":{\"id\":\"d4e0ed47-f3d0-4d89-b47b-a6e141d63b92\",\"type\":\"ToolEvents\"},\"toolbar\":{\"id\":\"616afdb9-04e5-45e0-a968-6ede0776d6f5\",\"type\":\"Toolbar\"},\"x_range\":{\"id\":\"0a946107-c6a2-4d62-810a-f1c5456bca51\",\"type\":\"DataRange1d\"},\"y_range\":{\"id\":\"32319792-2324-45ea-844c-e202f0ddf847\",\"type\":\"DataRange1d\"}},\"id\":\"d91256e2-6c15-4bc0-a75f-36eca9cc6d2a\",\"subtype\":\"Figure\",\"type\":\"Plot\"},{\"attributes\":{\"callback\":null},\"id\":\"32319792-2324-45ea-844c-e202f0ddf847\",\"type\":\"DataRange1d\"},{\"attributes\":{\"plot\":{\"id\":\"d91256e2-6c15-4bc0-a75f-36eca9cc6d2a\",\"subtype\":\"Figure\",\"type\":\"Plot\"}},\"id\":\"13311d43-ea4b-48e8-97df-aa43f9add401\",\"type\":\"WheelZoomTool\"},{\"attributes\":{\"data_source\":{\"id\":\"cfa8149c-5635-4c8a-bfbb-4fafca86fdad\",\"type\":\"ColumnDataSource\"},\"glyph\":{\"id\":\"053321ff-2e4b-4d1d-b73d-87f78ec19f35\",\"type\":\"Line\"},\"hover_glyph\":null,\"nonselection_glyph\":{\"id\":\"d76c0e72-f1e6-4998-bffc-ccc17fc33c4f\",\"type\":\"Line\"},\"selection_glyph\":null},\"id\":\"e76f90c4-5b59-492b-a63e-cc90bc61805d\",\"type\":\"GlyphRenderer\"},{\"attributes\":{\"callback\":null,\"column_names\":[\"top\",\"left\",\"right\"],\"data\":{\"left\":[6.284259453902504,7.190369666254653,8.096479878606802,9.00259009095895,9.9087003033111,10.814810515663249,11.720920728015397,12.627030940367547,13.533141152719697,14.439251365071845,15.345361577423994,16.251471789776144,17.157582002128294,18.06369221448044,18.96980242683259,19.87591263918474,20.782022851536887,21.688133063889037,22.594243276241187,23.500353488593337,24.406463700945483,25.312573913297634,26.218684125649784,27.124794338001934,28.03090455035408,28.93701476270623,29.84312497505838,30.749235187410527,31.655345399762677,32.56145561211483,33.46756582446697,34.37367603681912,35.27978624917127,36.18589646152343,37.092006673875574,37.99811688622772,38.90422709857987,39.81033731093201,40.716447523284174,41.62255773563632,42.52866794798847,43.43477816034061,44.34088837269276,45.246998585044906,46.15310879739707,47.059219009749214,47.96532922210136,48.87143943445351,49.77754964680565,50.683659859157814],\"right\":[7.190369666254653,8.096479878606802,9.00259009095895,9.9087003033111,10.814810515663249,11.720920728015397,12.627030940367547,13.533141152719697,14.439251365071845,15.345361577423994,16.251471789776144,17.157582002128294,18.06369221448044,18.96980242683259,19.87591263918474,20.782022851536887,21.688133063889037,22.594243276241187,23.500353488593337,24.406463700945483,25.312573913297634,26.218684125649784,27.124794338001934,28.03090455035408,28.93701476270623,29.84312497505838,30.749235187410527,31.655345399762677,32.56145561211483,33.46756582446697,34.37367603681912,35.27978624917127,36.18589646152343,37.092006673875574,37.99811688622772,38.90422709857987,39.81033731093201,40.716447523284174,41.62255773563632,42.52866794798847,43.43477816034061,44.34088837269276,45.246998585044906,46.15310879739707,47.059219009749214,47.96532922210136,48.87143943445351,49.77754964680565,50.683659859157814,51.58977007150995],\"top\":[1,5,10,33,103,238,350,470,586,773,823,867,836,768,725,634,500,457,361,349,245,186,159,112,86,78,51,44,31,18,20,18,14,12,11,3,3,8,2,2,1,1,0,2,0,2,0,1,0,1]}},\"id\":\"d7aaf389-58a8-4fd2-8513-d234a4fb9941\",\"type\":\"ColumnDataSource\"},{\"attributes\":{\"active_drag\":\"auto\",\"active_scroll\":\"auto\",\"active_tap\":\"auto\",\"tools\":[{\"id\":\"07135156-5dae-4155-9d65-935c4371aea7\",\"type\":\"SaveTool\"},{\"id\":\"5e5c9881-55a2-4d62-984e-9cdbb486fd16\",\"type\":\"PanTool\"},{\"id\":\"7329076b-b4f0-4969-8a55-36f6096e56d2\",\"type\":\"BoxZoomTool\"},{\"id\":\"13311d43-ea4b-48e8-97df-aa43f9add401\",\"type\":\"WheelZoomTool\"},{\"id\":\"19ec0983-6664-44a1-b3b1-6d714e2f4ed0\",\"type\":\"ResetTool\"}]},\"id\":\"616afdb9-04e5-45e0-a968-6ede0776d6f5\",\"type\":\"Toolbar\"},{\"attributes\":{\"plot\":{\"id\":\"d91256e2-6c15-4bc0-a75f-36eca9cc6d2a\",\"subtype\":\"Figure\",\"type\":\"Plot\"}},\"id\":\"5e5c9881-55a2-4d62-984e-9cdbb486fd16\",\"type\":\"PanTool\"},{\"attributes\":{\"plot\":{\"id\":\"d91256e2-6c15-4bc0-a75f-36eca9cc6d2a\",\"subtype\":\"Figure\",\"type\":\"Plot\"}},\"id\":\"07135156-5dae-4155-9d65-935c4371aea7\",\"type\":\"SaveTool\"},{\"attributes\":{\"plot\":null,\"text\":\"unnamed_var13*9000000000*unnamed_var14/unnamed_var15**2 Histogram\"},\"id\":\"aba27514-598d-430b-b211-82ab0fa61c77\",\"type\":\"Title\"},{\"attributes\":{\"callback\":null},\"id\":\"0a946107-c6a2-4d62-810a-f1c5456bca51\",\"type\":\"DataRange1d\"},{\"attributes\":{\"plot\":{\"id\":\"d91256e2-6c15-4bc0-a75f-36eca9cc6d2a\",\"subtype\":\"Figure\",\"type\":\"Plot\"}},\"id\":\"19ec0983-6664-44a1-b3b1-6d714e2f4ed0\",\"type\":\"ResetTool\"},{\"attributes\":{\"line_alpha\":{\"value\":0.1},\"line_color\":{\"value\":\"#1f77b4\"},\"line_dash\":[6],\"x\":{\"field\":\"x\"},\"y\":{\"field\":\"y\"}},\"id\":\"f56aa867-4df3-4d36-a64b-e44ed24be1d3\",\"type\":\"Line\"},{\"attributes\":{\"line_color\":{\"value\":\"red\"},\"line_dash\":[6],\"x\":{\"field\":\"x\"},\"y\":{\"field\":\"y\"}},\"id\":\"fef16dd9-9a54-48e5-b0cd-fc947064224f\",\"type\":\"Line\"},{\"attributes\":{\"line_alpha\":{\"value\":0.1},\"line_color\":{\"value\":\"#1f77b4\"},\"line_dash\":[6],\"x\":{\"field\":\"x\"},\"y\":{\"field\":\"y\"}},\"id\":\"d76c0e72-f1e6-4998-bffc-ccc17fc33c4f\",\"type\":\"Line\"},{\"attributes\":{\"line_color\":{\"value\":\"red\"},\"line_dash\":[6],\"x\":{\"field\":\"x\"},\"y\":{\"field\":\"y\"}},\"id\":\"7802b266-7cd4-4e3f-baa2-a1195d5d560a\",\"type\":\"Line\"},{\"attributes\":{\"data_source\":{\"id\":\"29abc875-2309-493e-9c24-084efddc5df4\",\"type\":\"ColumnDataSource\"},\"glyph\":{\"id\":\"7802b266-7cd4-4e3f-baa2-a1195d5d560a\",\"type\":\"Line\"},\"hover_glyph\":null,\"nonselection_glyph\":{\"id\":\"43b64d22-bbe9-4c23-a087-3a345815232d\",\"type\":\"Line\"},\"selection_glyph\":null},\"id\":\"9b8a7369-cef9-433f-a675-2e31ecf7c328\",\"type\":\"GlyphRenderer\"},{\"attributes\":{\"data_source\":{\"id\":\"2149d302-a80f-4c60-8eb6-a5b39d1f4d1f\",\"type\":\"ColumnDataSource\"},\"glyph\":{\"id\":\"fef16dd9-9a54-48e5-b0cd-fc947064224f\",\"type\":\"Line\"},\"hover_glyph\":null,\"nonselection_glyph\":{\"id\":\"f56aa867-4df3-4d36-a64b-e44ed24be1d3\",\"type\":\"Line\"},\"selection_glyph\":null},\"id\":\"b289776f-57c5-4d93-a1a1-aee864c3449d\",\"type\":\"GlyphRenderer\"},{\"attributes\":{\"callback\":null,\"column_names\":[\"x\",\"y\"],\"data\":{\"x\":[22.40908153700972,22.40908153700972],\"y\":[0.0,953.7]}},\"id\":\"2149d302-a80f-4c60-8eb6-a5b39d1f4d1f\",\"type\":\"ColumnDataSource\"},{\"attributes\":{},\"id\":\"51b52c19-50e9-4dc7-8d37-79fd6573d8ac\",\"type\":\"BasicTicker\"},{\"attributes\":{\"line_alpha\":{\"value\":0.1},\"line_color\":{\"value\":\"#1f77b4\"},\"line_dash\":[6],\"x\":{\"field\":\"x\"},\"y\":{\"field\":\"y\"}},\"id\":\"43b64d22-bbe9-4c23-a087-3a345815232d\",\"type\":\"Line\"}],\"root_ids\":[\"d91256e2-6c15-4bc0-a75f-36eca9cc6d2a\"]},\"title\":\"Bokeh Application\",\"version\":\"0.12.1\"}};\n",
       "            var render_items = [{\"docid\":\"2e20668b-acc0-410f-9bd8-49506ed25865\",\"elementid\":\"a64782fd-09e7-4b3a-ba1b-92ad51ff12da\",\"modelid\":\"d91256e2-6c15-4bc0-a75f-36eca9cc6d2a\",\"notebook_comms_target\":\"62bbf178-9f6f-4511-87cf-03208f68cc7a\"}];\n",
       "            \n",
       "            Bokeh.embed.embed_items(docs_json, render_items);\n",
       "        });\n",
       "      },\n",
       "      function(Bokeh) {\n",
       "      }\n",
       "    ];\n",
       "  \n",
       "    function run_inline_js() {\n",
       "      for (var i = 0; i < inline_js.length; i++) {\n",
       "        inline_js[i](window.Bokeh);\n",
       "      }\n",
       "    }\n",
       "  \n",
       "    if (window._bokeh_is_loading === 0) {\n",
       "      console.log(\"Bokeh: BokehJS loaded, going straight to plotting\");\n",
       "      run_inline_js();\n",
       "    } else {\n",
       "      load_libs(js_urls, function() {\n",
       "        console.log(\"Bokeh: BokehJS plotting callback run at\", now());\n",
       "        run_inline_js();\n",
       "      });\n",
       "    }\n",
       "  }(this));\n",
       "</script>"
      ]
     },
     "metadata": {},
     "output_type": "display_data"
    },
    {
     "data": {
      "text/plain": [
       "<bokeh.plotting.figure.Figure at 0x27044076eb8>"
      ]
     },
     "execution_count": 15,
     "metadata": {},
     "output_type": "execute_result"
    }
   ],
   "source": [
    "#Measurements with 10% relative uncertainties:\n",
    "relative_factor = 0.1 \n",
    "\n",
    "#Measured values\n",
    "q1m=1e-6\n",
    "q2m=2e-5\n",
    "rm=0.1\n",
    "\n",
    "#Convert to Measurement objects\n",
    "q1 = q.Measurement(q1m,relative_factor*q1m)\n",
    "q2 = q.Measurement(q2m,relative_factor*q2m)\n",
    "r = q.Measurement(rm,relative_factor*rm)\n",
    "#Coulomb's constant:\n",
    "k = 9e9 \n",
    "\n",
    "#Define the Force:\n",
    "F = k*q1*q2/r**2\n",
    "\n",
    "#Print out the different errors\n",
    "q.set_error_method(\"derivative\")\n",
    "print(\"Derivative method, F = \",F)\n",
    "q.set_error_method(\"minmax\")\n",
    "print(\"Min-Max method, F =\", F)\n",
    "q.set_error_method(\"mc\")\n",
    "print(\"Monte Carlo method, F =\",F)\n",
    "\n",
    "F.show_MC_histogram()"
   ]
  },
  {
   "cell_type": "markdown",
   "metadata": {
    "collapsed": false
   },
   "source": [
    "## Exact derivatives\n",
    "Since QExPy needs to be able to evaluate derivatives (by using the automatic differentiation algorithm that exploits the Chain Rule), we can use QExPy to evaluate numerical derivatives exactly. That is, given a function, $f(x,y)$, QExPy can evaluate $\\frac{\\partial f(x,y)}{\\partial x}$ at a given value of $x$ and $y$.\n",
    "\n",
    "For example, if we have:\n",
    "$$x(t) = \\frac{1}{2}gt^2 $$\n",
    "\n",
    "and we have measured $t=8 \\pm 1$, we can evaluate the exact value of the derivative:\n",
    "\n",
    "$$\\frac{\\partial x(t)}{\\partial t} = \\frac{d x(t)}{d t}  = gt$$\n",
    "\n",
    "at $t=8 \\pm 1$\n"
   ]
  },
  {
   "cell_type": "code",
   "execution_count": 16,
   "metadata": {
    "collapsed": false
   },
   "outputs": [
    {
     "name": "stdout",
     "output_type": "stream",
     "text": [
      "78.48\n"
     ]
    }
   ],
   "source": [
    "t = q.Measurement(8,1)\n",
    "x = 0.5 * 9.81 * t**2\n",
    "print(x.get_derivative(t))"
   ]
  },
  {
   "cell_type": "code",
   "execution_count": null,
   "metadata": {
    "collapsed": false
   },
   "outputs": [],
   "source": []
  },
  {
   "cell_type": "code",
   "execution_count": null,
   "metadata": {
    "collapsed": true
   },
   "outputs": [],
   "source": []
  }
 ],
 "metadata": {
  "kernelspec": {
   "display_name": "Python 3",
   "language": "python",
   "name": "python3"
  },
  "language_info": {
   "codemirror_mode": {
    "name": "ipython",
    "version": 3
   },
   "file_extension": ".py",
   "mimetype": "text/x-python",
   "name": "python",
   "nbconvert_exporter": "python",
   "pygments_lexer": "ipython3",
   "version": "3.5.2"
  }
 },
 "nbformat": 4,
 "nbformat_minor": 0
}
