{
 "cells": [
  {
   "cell_type": "markdown",
   "metadata": {},
   "source": [
    "# Error Propagation with QExPy\n",
    "\n",
    "The first step is to import the error module for error propagation. We'll import it as \"e\":"
   ]
  },
  {
   "cell_type": "code",
   "execution_count": 1,
   "metadata": {
    "collapsed": false
   },
   "outputs": [
    {
     "data": {
      "text/html": [
       "\n",
       "    <div class=\"bk-root\">\n",
       "        <a href=\"http://bokeh.pydata.org\" target=\"_blank\" class=\"bk-logo bk-logo-small bk-logo-notebook\"></a>\n",
       "        <span id=\"56ca5d55-a69d-4d92-af79-acc6a8c480c6\">Loading BokehJS ...</span>\n",
       "    </div>"
      ]
     },
     "metadata": {},
     "output_type": "display_data"
    },
    {
     "data": {
      "application/javascript": [
       "\n",
       "(function(global) {\n",
       "  function now() {\n",
       "    return new Date();\n",
       "  }\n",
       "\n",
       "  var force = \"1\";\n",
       "\n",
       "  if (typeof (window._bokeh_onload_callbacks) === \"undefined\" || force !== \"\") {\n",
       "    window._bokeh_onload_callbacks = [];\n",
       "    window._bokeh_is_loading = undefined;\n",
       "  }\n",
       "\n",
       "  function run_callbacks() {\n",
       "    window._bokeh_onload_callbacks.forEach(function(callback) { callback() });\n",
       "    delete window._bokeh_onload_callbacks\n",
       "    console.info(\"Bokeh: all callbacks have finished\");\n",
       "  }\n",
       "\n",
       "  function load_libs(js_urls, callback) {\n",
       "    window._bokeh_onload_callbacks.push(callback);\n",
       "    if (window._bokeh_is_loading > 0) {\n",
       "      console.log(\"Bokeh: BokehJS is being loaded, scheduling callback at\", now());\n",
       "      return null;\n",
       "    }\n",
       "    if (js_urls == null || js_urls.length === 0) {\n",
       "      run_callbacks();\n",
       "      return null;\n",
       "    }\n",
       "    console.log(\"Bokeh: BokehJS not loaded, scheduling load and callback at\", now());\n",
       "    window._bokeh_is_loading = js_urls.length;\n",
       "    for (var i = 0; i < js_urls.length; i++) {\n",
       "      var url = js_urls[i];\n",
       "      var s = document.createElement('script');\n",
       "      s.src = url;\n",
       "      s.async = false;\n",
       "      s.onreadystatechange = s.onload = function() {\n",
       "        window._bokeh_is_loading--;\n",
       "        if (window._bokeh_is_loading === 0) {\n",
       "          console.log(\"Bokeh: all BokehJS libraries loaded\");\n",
       "          run_callbacks()\n",
       "        }\n",
       "      };\n",
       "      s.onerror = function() {\n",
       "        console.warn(\"failed to load library \" + url);\n",
       "      };\n",
       "      console.log(\"Bokeh: injecting script tag for BokehJS library: \", url);\n",
       "      document.getElementsByTagName(\"head\")[0].appendChild(s);\n",
       "    }\n",
       "  };\n",
       "\n",
       "  var js_urls = ['https://cdn.pydata.org/bokeh/release/bokeh-0.12.1.min.js', 'https://cdn.pydata.org/bokeh/release/bokeh-widgets-0.12.1.min.js', 'https://cdn.pydata.org/bokeh/release/bokeh-compiler-0.12.1.min.js'];\n",
       "\n",
       "  var inline_js = [\n",
       "    function(Bokeh) {\n",
       "      Bokeh.set_log_level(\"info\");\n",
       "    },\n",
       "    \n",
       "    function(Bokeh) {\n",
       "      \n",
       "      Bokeh.$(\"#56ca5d55-a69d-4d92-af79-acc6a8c480c6\").text(\"BokehJS successfully loaded\");\n",
       "      var kernel = Jupyter.notebook.kernel\n",
       "      if (kernel.execute !== undefined) {\n",
       "          kernel.execute(\"import bokeh.io; bokeh.io._nb_loaded = True\");\n",
       "      }\n",
       "    },\n",
       "    function(Bokeh) {\n",
       "      console.log(\"Bokeh: injecting CSS: https://cdn.pydata.org/bokeh/release/bokeh-0.12.1.min.css\");\n",
       "      Bokeh.embed.inject_css(\"https://cdn.pydata.org/bokeh/release/bokeh-0.12.1.min.css\");\n",
       "      console.log(\"Bokeh: injecting CSS: https://cdn.pydata.org/bokeh/release/bokeh-widgets-0.12.1.min.css\");\n",
       "      Bokeh.embed.inject_css(\"https://cdn.pydata.org/bokeh/release/bokeh-widgets-0.12.1.min.css\");\n",
       "    }\n",
       "  ];\n",
       "\n",
       "  function run_inline_js() {\n",
       "    for (var i = 0; i < inline_js.length; i++) {\n",
       "      inline_js[i](window.Bokeh);\n",
       "    }\n",
       "  }\n",
       "\n",
       "  if (window._bokeh_is_loading === 0) {\n",
       "    console.log(\"Bokeh: BokehJS loaded, going straight to plotting\");\n",
       "    run_inline_js();\n",
       "  } else {\n",
       "    load_libs(js_urls, function() {\n",
       "      console.log(\"Bokeh: BokehJS plotting callback run at\", now());\n",
       "      run_inline_js();\n",
       "    });\n",
       "  }\n",
       "}(this));"
      ]
     },
     "metadata": {},
     "output_type": "display_data"
    }
   ],
   "source": [
    "import qexpy as q\n"
   ]
  },
  {
   "cell_type": "markdown",
   "metadata": {},
   "source": [
    "Next, we'll declare two measured values, x and y, with uncertainties, and print them out. We use the Measurement object from the qexpy.error package:"
   ]
  },
  {
   "cell_type": "code",
   "execution_count": 2,
   "metadata": {
    "collapsed": false,
    "scrolled": true
   },
   "outputs": [
    {
     "name": "stdout",
     "output_type": "stream",
     "text": [
      "x = 10 +/- 1\n",
      "y = 5 +/- 3\n"
     ]
    }
   ],
   "source": [
    "#Our two measured values:\n",
    "x = q.Measurement(10,1)\n",
    "y = q.Measurement(5,3)\n",
    "\n",
    "#We can print them out:\n",
    "print(\"x =\",x)\n",
    "print(\"y =\",y)\n",
    "#x.set_correlation(y,0.3)"
   ]
  },
  {
   "cell_type": "markdown",
   "metadata": {},
   "source": [
    "We can declare a third object, z, which depends on x and y. The uncertainty in x and y will be correctly propagated to z, so once we have defined z, we can simply print it out with the correct uncertainty:"
   ]
  },
  {
   "cell_type": "code",
   "execution_count": 3,
   "metadata": {
    "collapsed": false
   },
   "outputs": [
    {
     "name": "stdout",
     "output_type": "stream",
     "text": [
      "z = 15 +/- 3\n"
     ]
    }
   ],
   "source": [
    "#We define z\n",
    "z = x+y\n",
    "#z can now be printed out\n",
    "print(\"z =\",z)"
   ]
  },
  {
   "cell_type": "markdown",
   "metadata": {},
   "source": [
    "Note how the uncertainties have been kept to 1 significant figure. In this case, the error in z was obtained by adding the errors in x and y in quadrature. We can change the number of significant figures to confirm that the errors were indeed added in quadrature. We can choose between setting  the number of significant figures based on the uncertainty (more common) or based on the central value."
   ]
  },
  {
   "cell_type": "code",
   "execution_count": 4,
   "metadata": {
    "collapsed": false
   },
   "outputs": [
    {
     "name": "stdout",
     "output_type": "stream",
     "text": [
      "z = 15.000 +/- 3.162\n"
     ]
    }
   ],
   "source": [
    "q.set_sigfigs_error(4) # set sigfigs based on the error\n",
    "print(\"z =\",z)"
   ]
  },
  {
   "cell_type": "markdown",
   "metadata": {},
   "source": [
    "Let's compare the error in z to what the errors in x and y are when added manually in quadrature. We need to import the sqrt() function from the math package to apply mathematical functions to numbers:"
   ]
  },
  {
   "cell_type": "code",
   "execution_count": 5,
   "metadata": {
    "collapsed": false
   },
   "outputs": [
    {
     "name": "stdout",
     "output_type": "stream",
     "text": [
      "3.1622776601683795\n"
     ]
    }
   ],
   "source": [
    "import math as m\n",
    "quadrature = m.sqrt(x.std**2+y.std**2)\n",
    "print(quadrature)"
   ]
  },
  {
   "cell_type": "markdown",
   "metadata": {},
   "source": [
    "## Math functions\n",
    "We can propagate the uncertainties through any operator (+,-,\\*,/) automatically as we showed above. QExPy also knows how to propagate the uncertainty through common mathematical functions. To use mathematical functions on Measurement objects, we need to call the functions from the QExPy package (as opposed to the math package as we did above for 2 numbers)."
   ]
  },
  {
   "cell_type": "code",
   "execution_count": 6,
   "metadata": {
    "collapsed": false
   },
   "outputs": [
    {
     "name": "stdout",
     "output_type": "stream",
     "text": [
      "time =  1.277102 +/- 0.007982 seconds\n"
     ]
    }
   ],
   "source": [
    "#If an object fell a distance of 8.0 +/0.1 m, how long did it take to fall?\n",
    "y = q.Measurement(8,0.1)\n",
    "g = 9.81\n",
    "t = q.sqrt(2*y/g)\n",
    "print(\"time = \",t, \"seconds\")"
   ]
  },
  {
   "cell_type": "markdown",
   "metadata": {},
   "source": [
    "## Error in correlated quantities\n",
    "If we have two measurements, x and y, that are correlated, then their correlation factor will impact the uncertainty on a quantity that depends on them:"
   ]
  },
  {
   "cell_type": "code",
   "execution_count": 7,
   "metadata": {
    "collapsed": false
   },
   "outputs": [
    {
     "name": "stdout",
     "output_type": "stream",
     "text": [
      "x and y uncorrelated: z= 15.000 +/- 3.162\n",
      "x and y positively correlated: z= 15.000 +/- 3.606\n",
      "x and y negatively correlated: z= 15.000 +/- 2.646\n"
     ]
    }
   ],
   "source": [
    "x = q.Measurement(10,1)\n",
    "y = q.Measurement(5,3)\n",
    "z = x+y\n",
    "print(\"x and y uncorrelated: z=\",z)\n",
    "\n",
    "#Now set a correlation factor between x and y:\n",
    "x.set_correlation(y,0.5)\n",
    "z = x+y\n",
    "print(\"x and y positively correlated: z=\",z)\n",
    "\n",
    "#We can also use the covariance factor instead of the correlation factor:\n",
    "x.set_covariance(y,-1.5)\n",
    "z = x+y\n",
    "print(\"x and y negatively correlated: z=\",z)"
   ]
  },
  {
   "cell_type": "markdown",
   "metadata": {},
   "source": [
    "If we don't specify any correlation factors, then all quantities are assumed to be independent. However, a quantity should not be independent from itself, so QExPy knows how to track the correlation in quantities that depend on common quantities. "
   ]
  },
  {
   "cell_type": "code",
   "execution_count": 8,
   "metadata": {
    "collapsed": false
   },
   "outputs": [
    {
     "name": "stdout",
     "output_type": "stream",
     "text": [
      "0.000 +/- 0.000\n"
     ]
    }
   ],
   "source": [
    "x = q.Measurement(10,1)\n",
    "y = x*x\n",
    "z = x*x - y #this should be 0 +/- 0, since it's really x^2 - x^2 \n",
    "print(z)"
   ]
  },
  {
   "cell_type": "markdown",
   "metadata": {
    "collapsed": true
   },
   "source": [
    "## Statistical measurements\n",
    "QExPy can also handle the case when you have repeated measurements of a single quantity and you want to average them together. Suppose that you have measured 5 values of some quantity T. QExPy will automatically assume that those values should be averaged together so that T is given by the mean of the measured values with an uncertainty given by the standard deviation of the values.\n"
   ]
  },
  {
   "cell_type": "code",
   "execution_count": 9,
   "metadata": {
    "collapsed": false
   },
   "outputs": [
    {
     "name": "stdout",
     "output_type": "stream",
     "text": [
      "5.3000 +/- 0.5431\n"
     ]
    }
   ],
   "source": [
    "T=q.Measurement( [5.6, 4.8, 6.1, 4.9, 5.1 ] )\n",
    "print(T)"
   ]
  },
  {
   "cell_type": "markdown",
   "metadata": {},
   "source": [
    "T can be used just as any other measurement with uncertainties, and its error will be propagate correctly:"
   ]
  },
  {
   "cell_type": "code",
   "execution_count": 10,
   "metadata": {
    "collapsed": false
   },
   "outputs": [
    {
     "name": "stdout",
     "output_type": "stream",
     "text": [
      "1.1849 +/- 0.1214\n"
     ]
    }
   ],
   "source": [
    "omega = 2*3.14/T\n",
    "print(omega)"
   ]
  },
  {
   "cell_type": "markdown",
   "metadata": {},
   "source": [
    "If we have measured many values, it can sometimes be useful to visualize those measurements in a histogram. QExPy will automatically create a histogram of the values, showing lines corresponding to the mean and the range covered by one standard deviation"
   ]
  },
  {
   "cell_type": "code",
   "execution_count": 11,
   "metadata": {
    "collapsed": false
   },
   "outputs": [
    {
     "data": {
      "text/html": [
       "\n",
       "\n",
       "    <div class=\"bk-root\">\n",
       "        <div class=\"plotdiv\" id=\"dc322dec-4d1b-42b8-b848-87f7cbef57e0\"></div>\n",
       "    </div>\n",
       "<script type=\"text/javascript\">\n",
       "  \n",
       "  (function(global) {\n",
       "    function now() {\n",
       "      return new Date();\n",
       "    }\n",
       "  \n",
       "    var force = \"\";\n",
       "  \n",
       "    if (typeof (window._bokeh_onload_callbacks) === \"undefined\" || force !== \"\") {\n",
       "      window._bokeh_onload_callbacks = [];\n",
       "      window._bokeh_is_loading = undefined;\n",
       "    }\n",
       "  \n",
       "    function run_callbacks() {\n",
       "      window._bokeh_onload_callbacks.forEach(function(callback) { callback() });\n",
       "      delete window._bokeh_onload_callbacks\n",
       "      console.info(\"Bokeh: all callbacks have finished\");\n",
       "    }\n",
       "  \n",
       "    function load_libs(js_urls, callback) {\n",
       "      window._bokeh_onload_callbacks.push(callback);\n",
       "      if (window._bokeh_is_loading > 0) {\n",
       "        console.log(\"Bokeh: BokehJS is being loaded, scheduling callback at\", now());\n",
       "        return null;\n",
       "      }\n",
       "      if (js_urls == null || js_urls.length === 0) {\n",
       "        run_callbacks();\n",
       "        return null;\n",
       "      }\n",
       "      console.log(\"Bokeh: BokehJS not loaded, scheduling load and callback at\", now());\n",
       "      window._bokeh_is_loading = js_urls.length;\n",
       "      for (var i = 0; i < js_urls.length; i++) {\n",
       "        var url = js_urls[i];\n",
       "        var s = document.createElement('script');\n",
       "        s.src = url;\n",
       "        s.async = false;\n",
       "        s.onreadystatechange = s.onload = function() {\n",
       "          window._bokeh_is_loading--;\n",
       "          if (window._bokeh_is_loading === 0) {\n",
       "            console.log(\"Bokeh: all BokehJS libraries loaded\");\n",
       "            run_callbacks()\n",
       "          }\n",
       "        };\n",
       "        s.onerror = function() {\n",
       "          console.warn(\"failed to load library \" + url);\n",
       "        };\n",
       "        console.log(\"Bokeh: injecting script tag for BokehJS library: \", url);\n",
       "        document.getElementsByTagName(\"head\")[0].appendChild(s);\n",
       "      }\n",
       "    };var element = document.getElementById(\"dc322dec-4d1b-42b8-b848-87f7cbef57e0\");\n",
       "    if (element == null) {\n",
       "      console.log(\"Bokeh: ERROR: autoload.js configured with elementid 'dc322dec-4d1b-42b8-b848-87f7cbef57e0' but no matching script tag was found. \")\n",
       "      return false;\n",
       "    }\n",
       "  \n",
       "    var js_urls = [];\n",
       "  \n",
       "    var inline_js = [\n",
       "      function(Bokeh) {\n",
       "        Bokeh.$(function() {\n",
       "            var docs_json = {\"ce548cbf-5d54-45cc-ac59-ed3545f4d4a6\":{\"roots\":{\"references\":[{\"attributes\":{\"formatter\":{\"id\":\"3194ae4f-5ea7-4f62-b1f1-a41565d97c25\",\"type\":\"BasicTickFormatter\"},\"plot\":{\"id\":\"86484fe3-ec18-4c2a-a487-593341f3c412\",\"subtype\":\"Figure\",\"type\":\"Plot\"},\"ticker\":{\"id\":\"2a7a1578-347d-4bab-b3b5-441ae5cbeae8\",\"type\":\"BasicTicker\"}},\"id\":\"1273084c-3f77-4538-ab6a-28d899e2c42f\",\"type\":\"LinearAxis\"},{\"attributes\":{\"overlay\":{\"id\":\"add555cd-527a-4a25-925c-4a4b51eea058\",\"type\":\"BoxAnnotation\"},\"plot\":{\"id\":\"86484fe3-ec18-4c2a-a487-593341f3c412\",\"subtype\":\"Figure\",\"type\":\"Plot\"}},\"id\":\"472e91c4-0ccf-4189-93c4-7f8227e2dbca\",\"type\":\"BoxZoomTool\"},{\"attributes\":{},\"id\":\"273bdcf7-e36e-4575-b6d9-3c4e645d2082\",\"type\":\"ToolEvents\"},{\"attributes\":{\"callback\":null},\"id\":\"4bc3653d-9474-4e61-a63a-67212d59580c\",\"type\":\"DataRange1d\"},{\"attributes\":{\"bottom_units\":\"screen\",\"fill_alpha\":{\"value\":0.5},\"fill_color\":{\"value\":\"lightgrey\"},\"left_units\":\"screen\",\"level\":\"overlay\",\"line_alpha\":{\"value\":1.0},\"line_color\":{\"value\":\"black\"},\"line_dash\":[4,4],\"line_width\":{\"value\":2},\"plot\":null,\"render_mode\":\"css\",\"right_units\":\"screen\",\"top_units\":\"screen\"},\"id\":\"add555cd-527a-4a25-925c-4a4b51eea058\",\"type\":\"BoxAnnotation\"},{\"attributes\":{\"line_color\":{\"value\":\"red\"},\"line_dash\":[6],\"x\":{\"field\":\"x\"},\"y\":{\"field\":\"y\"}},\"id\":\"92ea9b08-c99e-4896-bc2d-06a655731c4d\",\"type\":\"Line\"},{\"attributes\":{\"plot\":{\"id\":\"86484fe3-ec18-4c2a-a487-593341f3c412\",\"subtype\":\"Figure\",\"type\":\"Plot\"}},\"id\":\"7c87ceb3-02ce-41fd-95fe-2d67c2eedc3b\",\"type\":\"SaveTool\"},{\"attributes\":{},\"id\":\"3194ae4f-5ea7-4f62-b1f1-a41565d97c25\",\"type\":\"BasicTickFormatter\"},{\"attributes\":{\"plot\":{\"id\":\"86484fe3-ec18-4c2a-a487-593341f3c412\",\"subtype\":\"Figure\",\"type\":\"Plot\"},\"ticker\":{\"id\":\"963a788c-f873-408a-a815-89ccab125c01\",\"type\":\"BasicTicker\"}},\"id\":\"17b6061c-c9e6-4e39-9f33-23fe87095c92\",\"type\":\"Grid\"},{\"attributes\":{\"line_color\":{\"value\":\"red\"},\"line_dash\":[6],\"x\":{\"field\":\"x\"},\"y\":{\"field\":\"y\"}},\"id\":\"f1965a41-5bc3-4ff0-83fb-f03b5379133e\",\"type\":\"Line\"},{\"attributes\":{\"data_source\":{\"id\":\"2238675f-8373-48be-8909-42127279fcfc\",\"type\":\"ColumnDataSource\"},\"glyph\":{\"id\":\"4897064a-d18a-4476-bd57-75ca41647e9b\",\"type\":\"Line\"},\"hover_glyph\":null,\"nonselection_glyph\":{\"id\":\"317344c2-ce68-4259-aa2a-2fb00fcaa5a0\",\"type\":\"Line\"},\"selection_glyph\":null},\"id\":\"9a565b01-6285-490c-8b79-c2df84ab0d7c\",\"type\":\"GlyphRenderer\"},{\"attributes\":{\"plot\":null,\"text\":\"unnamed_var6 Histogram\"},\"id\":\"4365128a-3145-4462-8847-431cc71a2b9c\",\"type\":\"Title\"},{\"attributes\":{\"callback\":null,\"column_names\":[\"y\",\"x\"],\"data\":{\"x\":[5.8431390245600126,5.8431390245600126],\"y\":[0.0,1.1]}},\"id\":\"6ab98bd3-113d-4c56-8ce5-06a03dc916c5\",\"type\":\"ColumnDataSource\"},{\"attributes\":{\"active_drag\":\"auto\",\"active_scroll\":\"auto\",\"active_tap\":\"auto\",\"tools\":[{\"id\":\"7c87ceb3-02ce-41fd-95fe-2d67c2eedc3b\",\"type\":\"SaveTool\"},{\"id\":\"cd880c02-faa3-4c24-b1db-a2edf4a25bf2\",\"type\":\"PanTool\"},{\"id\":\"472e91c4-0ccf-4189-93c4-7f8227e2dbca\",\"type\":\"BoxZoomTool\"},{\"id\":\"c12b6a13-975c-4c9f-8fd4-d0e19e352dc5\",\"type\":\"WheelZoomTool\"},{\"id\":\"7ff67914-e64b-4679-a395-656a2138509b\",\"type\":\"ResetTool\"}]},\"id\":\"dc3c6307-2d04-47db-a12d-eadba9a45879\",\"type\":\"Toolbar\"},{\"attributes\":{\"plot\":{\"id\":\"86484fe3-ec18-4c2a-a487-593341f3c412\",\"subtype\":\"Figure\",\"type\":\"Plot\"}},\"id\":\"7ff67914-e64b-4679-a395-656a2138509b\",\"type\":\"ResetTool\"},{\"attributes\":{\"callback\":null,\"column_names\":[\"y\",\"x\"],\"data\":{\"x\":[4.756860975439987,4.756860975439987],\"y\":[0.0,1.1]}},\"id\":\"2238675f-8373-48be-8909-42127279fcfc\",\"type\":\"ColumnDataSource\"},{\"attributes\":{\"dimension\":1,\"plot\":{\"id\":\"86484fe3-ec18-4c2a-a487-593341f3c412\",\"subtype\":\"Figure\",\"type\":\"Plot\"},\"ticker\":{\"id\":\"2a7a1578-347d-4bab-b3b5-441ae5cbeae8\",\"type\":\"BasicTicker\"}},\"id\":\"bcc850dc-52a8-4f17-acae-df14bc650054\",\"type\":\"Grid\"},{\"attributes\":{\"data_source\":{\"id\":\"3bf58e01-ebc7-4ed1-971c-899d16d902db\",\"type\":\"ColumnDataSource\"},\"glyph\":{\"id\":\"76c88d85-a620-4150-86f0-e344689f175e\",\"type\":\"Quad\"},\"hover_glyph\":null,\"nonselection_glyph\":{\"id\":\"efda5a96-fb46-459d-aee6-6b44b090b18d\",\"type\":\"Quad\"},\"selection_glyph\":null},\"id\":\"647ff9a1-cb2e-44dc-82bf-ff6786e2e55b\",\"type\":\"GlyphRenderer\"},{\"attributes\":{},\"id\":\"4a29b407-b38e-4bdc-adcb-ea8b42abe5ee\",\"type\":\"BasicTickFormatter\"},{\"attributes\":{\"bottom\":{\"value\":0},\"fill_color\":{\"value\":\"#036564\"},\"left\":{\"field\":\"left\"},\"line_color\":{\"value\":\"#033649\"},\"right\":{\"field\":\"right\"},\"top\":{\"field\":\"top\"}},\"id\":\"76c88d85-a620-4150-86f0-e344689f175e\",\"type\":\"Quad\"},{\"attributes\":{\"plot\":{\"id\":\"86484fe3-ec18-4c2a-a487-593341f3c412\",\"subtype\":\"Figure\",\"type\":\"Plot\"}},\"id\":\"cd880c02-faa3-4c24-b1db-a2edf4a25bf2\",\"type\":\"PanTool\"},{\"attributes\":{\"callback\":null,\"column_names\":[\"y\",\"x\"],\"data\":{\"x\":[5.3,5.3],\"y\":[0.0,1.05]}},\"id\":\"95c8dd04-b42a-46a8-a25f-ae8adda4eb13\",\"type\":\"ColumnDataSource\"},{\"attributes\":{\"callback\":null,\"column_names\":[\"right\",\"top\",\"left\"],\"data\":{\"left\":[4.8,4.826,4.851999999999999,4.878,4.904,4.93,4.9559999999999995,4.982,5.008,5.034,5.06,5.085999999999999,5.112,5.138,5.164,5.1899999999999995,5.215999999999999,5.242,5.268,5.294,5.319999999999999,5.346,5.372,5.398,5.4239999999999995,5.449999999999999,5.476,5.502,5.528,5.553999999999999,5.58,5.606,5.632,5.6579999999999995,5.683999999999999,5.71,5.736,5.762,5.787999999999999,5.814,5.84,5.866,5.8919999999999995,5.917999999999999,5.943999999999999,5.97,5.9959999999999996,6.021999999999999,6.048,6.074],\"right\":[4.826,4.851999999999999,4.878,4.904,4.93,4.9559999999999995,4.982,5.008,5.034,5.06,5.085999999999999,5.112,5.138,5.164,5.1899999999999995,5.215999999999999,5.242,5.268,5.294,5.319999999999999,5.346,5.372,5.398,5.4239999999999995,5.449999999999999,5.476,5.502,5.528,5.553999999999999,5.58,5.606,5.632,5.6579999999999995,5.683999999999999,5.71,5.736,5.762,5.787999999999999,5.814,5.84,5.866,5.8919999999999995,5.917999999999999,5.943999999999999,5.97,5.9959999999999996,6.021999999999999,6.048,6.074,6.1],\"top\":[1,0,0,1,0,0,0,0,0,0,0,1,0,0,0,0,0,0,0,0,0,0,0,0,0,0,0,0,0,0,1,0,0,0,0,0,0,0,0,0,0,0,0,0,0,0,0,0,0,1]}},\"id\":\"3bf58e01-ebc7-4ed1-971c-899d16d902db\",\"type\":\"ColumnDataSource\"},{\"attributes\":{\"plot\":{\"id\":\"86484fe3-ec18-4c2a-a487-593341f3c412\",\"subtype\":\"Figure\",\"type\":\"Plot\"}},\"id\":\"c12b6a13-975c-4c9f-8fd4-d0e19e352dc5\",\"type\":\"WheelZoomTool\"},{\"attributes\":{\"line_alpha\":{\"value\":0.1},\"line_color\":{\"value\":\"#1f77b4\"},\"line_dash\":[6],\"x\":{\"field\":\"x\"},\"y\":{\"field\":\"y\"}},\"id\":\"7070d6f0-174a-4376-b20c-0bf144af13da\",\"type\":\"Line\"},{\"attributes\":{\"line_alpha\":{\"value\":0.1},\"line_color\":{\"value\":\"#1f77b4\"},\"line_dash\":[6],\"x\":{\"field\":\"x\"},\"y\":{\"field\":\"y\"}},\"id\":\"317344c2-ce68-4259-aa2a-2fb00fcaa5a0\",\"type\":\"Line\"},{\"attributes\":{\"background_fill_color\":{\"value\":\"#E8DDCB\"},\"below\":[{\"id\":\"632d4128-ff04-40fa-96b6-b51676db7224\",\"type\":\"LinearAxis\"}],\"left\":[{\"id\":\"1273084c-3f77-4538-ab6a-28d899e2c42f\",\"type\":\"LinearAxis\"}],\"renderers\":[{\"id\":\"632d4128-ff04-40fa-96b6-b51676db7224\",\"type\":\"LinearAxis\"},{\"id\":\"17b6061c-c9e6-4e39-9f33-23fe87095c92\",\"type\":\"Grid\"},{\"id\":\"1273084c-3f77-4538-ab6a-28d899e2c42f\",\"type\":\"LinearAxis\"},{\"id\":\"bcc850dc-52a8-4f17-acae-df14bc650054\",\"type\":\"Grid\"},{\"id\":\"add555cd-527a-4a25-925c-4a4b51eea058\",\"type\":\"BoxAnnotation\"},{\"id\":\"647ff9a1-cb2e-44dc-82bf-ff6786e2e55b\",\"type\":\"GlyphRenderer\"},{\"id\":\"0b0d0d4f-512f-4f23-b5e1-9cf39a545dcf\",\"type\":\"GlyphRenderer\"},{\"id\":\"9a565b01-6285-490c-8b79-c2df84ab0d7c\",\"type\":\"GlyphRenderer\"},{\"id\":\"a0edf82b-1823-4171-a15d-d18ffe8da875\",\"type\":\"GlyphRenderer\"}],\"title\":{\"id\":\"4365128a-3145-4462-8847-431cc71a2b9c\",\"type\":\"Title\"},\"tool_events\":{\"id\":\"273bdcf7-e36e-4575-b6d9-3c4e645d2082\",\"type\":\"ToolEvents\"},\"toolbar\":{\"id\":\"dc3c6307-2d04-47db-a12d-eadba9a45879\",\"type\":\"Toolbar\"},\"x_range\":{\"id\":\"4bc3653d-9474-4e61-a63a-67212d59580c\",\"type\":\"DataRange1d\"},\"y_range\":{\"id\":\"85bcc379-5676-403a-a576-b438d0caabd7\",\"type\":\"DataRange1d\"}},\"id\":\"86484fe3-ec18-4c2a-a487-593341f3c412\",\"subtype\":\"Figure\",\"type\":\"Plot\"},{\"attributes\":{\"data_source\":{\"id\":\"6ab98bd3-113d-4c56-8ce5-06a03dc916c5\",\"type\":\"ColumnDataSource\"},\"glyph\":{\"id\":\"f1965a41-5bc3-4ff0-83fb-f03b5379133e\",\"type\":\"Line\"},\"hover_glyph\":null,\"nonselection_glyph\":{\"id\":\"7070d6f0-174a-4376-b20c-0bf144af13da\",\"type\":\"Line\"},\"selection_glyph\":null},\"id\":\"a0edf82b-1823-4171-a15d-d18ffe8da875\",\"type\":\"GlyphRenderer\"},{\"attributes\":{\"bottom\":{\"value\":0},\"fill_alpha\":{\"value\":0.1},\"fill_color\":{\"value\":\"#1f77b4\"},\"left\":{\"field\":\"left\"},\"line_alpha\":{\"value\":0.1},\"line_color\":{\"value\":\"#1f77b4\"},\"right\":{\"field\":\"right\"},\"top\":{\"field\":\"top\"}},\"id\":\"efda5a96-fb46-459d-aee6-6b44b090b18d\",\"type\":\"Quad\"},{\"attributes\":{\"data_source\":{\"id\":\"95c8dd04-b42a-46a8-a25f-ae8adda4eb13\",\"type\":\"ColumnDataSource\"},\"glyph\":{\"id\":\"92ea9b08-c99e-4896-bc2d-06a655731c4d\",\"type\":\"Line\"},\"hover_glyph\":null,\"nonselection_glyph\":{\"id\":\"e044e7e9-8d45-4a20-af0c-a1b6c0a26bb6\",\"type\":\"Line\"},\"selection_glyph\":null},\"id\":\"0b0d0d4f-512f-4f23-b5e1-9cf39a545dcf\",\"type\":\"GlyphRenderer\"},{\"attributes\":{\"formatter\":{\"id\":\"4a29b407-b38e-4bdc-adcb-ea8b42abe5ee\",\"type\":\"BasicTickFormatter\"},\"plot\":{\"id\":\"86484fe3-ec18-4c2a-a487-593341f3c412\",\"subtype\":\"Figure\",\"type\":\"Plot\"},\"ticker\":{\"id\":\"963a788c-f873-408a-a815-89ccab125c01\",\"type\":\"BasicTicker\"}},\"id\":\"632d4128-ff04-40fa-96b6-b51676db7224\",\"type\":\"LinearAxis\"},{\"attributes\":{\"line_alpha\":{\"value\":0.1},\"line_color\":{\"value\":\"#1f77b4\"},\"line_dash\":[6],\"x\":{\"field\":\"x\"},\"y\":{\"field\":\"y\"}},\"id\":\"e044e7e9-8d45-4a20-af0c-a1b6c0a26bb6\",\"type\":\"Line\"},{\"attributes\":{\"line_color\":{\"value\":\"red\"},\"line_dash\":[6],\"x\":{\"field\":\"x\"},\"y\":{\"field\":\"y\"}},\"id\":\"4897064a-d18a-4476-bd57-75ca41647e9b\",\"type\":\"Line\"},{\"attributes\":{},\"id\":\"2a7a1578-347d-4bab-b3b5-441ae5cbeae8\",\"type\":\"BasicTicker\"},{\"attributes\":{\"callback\":null},\"id\":\"85bcc379-5676-403a-a576-b438d0caabd7\",\"type\":\"DataRange1d\"},{\"attributes\":{},\"id\":\"963a788c-f873-408a-a815-89ccab125c01\",\"type\":\"BasicTicker\"}],\"root_ids\":[\"86484fe3-ec18-4c2a-a487-593341f3c412\"]},\"title\":\"Bokeh Application\",\"version\":\"0.12.1\"}};\n",
       "            var render_items = [{\"docid\":\"ce548cbf-5d54-45cc-ac59-ed3545f4d4a6\",\"elementid\":\"dc322dec-4d1b-42b8-b848-87f7cbef57e0\",\"modelid\":\"86484fe3-ec18-4c2a-a487-593341f3c412\",\"notebook_comms_target\":\"5fa46d83-c422-4988-b184-d30176de0854\"}];\n",
       "            \n",
       "            Bokeh.embed.embed_items(docs_json, render_items);\n",
       "        });\n",
       "      },\n",
       "      function(Bokeh) {\n",
       "      }\n",
       "    ];\n",
       "  \n",
       "    function run_inline_js() {\n",
       "      for (var i = 0; i < inline_js.length; i++) {\n",
       "        inline_js[i](window.Bokeh);\n",
       "      }\n",
       "    }\n",
       "  \n",
       "    if (window._bokeh_is_loading === 0) {\n",
       "      console.log(\"Bokeh: BokehJS loaded, going straight to plotting\");\n",
       "      run_inline_js();\n",
       "    } else {\n",
       "      load_libs(js_urls, function() {\n",
       "        console.log(\"Bokeh: BokehJS plotting callback run at\", now());\n",
       "        run_inline_js();\n",
       "      });\n",
       "    }\n",
       "  }(this));\n",
       "</script>"
      ]
     },
     "metadata": {},
     "output_type": "display_data"
    },
    {
     "data": {
      "text/plain": [
       "<bokeh.plotting.figure.Figure at 0x24cd5fe4e80>"
      ]
     },
     "execution_count": 11,
     "metadata": {},
     "output_type": "execute_result"
    }
   ],
   "source": [
    "T.show_histogram()"
   ]
  },
  {
   "cell_type": "markdown",
   "metadata": {},
   "source": [
    "## Multiple measurements (Arrays of Measurements)\n",
    "QExPy can also handle the case of having multiple measurements, when each measurement has its own uncertainty. For example, if you have three measurements of a single quantity, in order to get an average value, you should weight each measurement by its uncertainty (or rather the weight should be 1 over the square of the uncertainty). This is handled by the MeasurementArray class:"
   ]
  },
  {
   "cell_type": "code",
   "execution_count": 12,
   "metadata": {
    "collapsed": false
   },
   "outputs": [
    {
     "name": "stdout",
     "output_type": "stream",
     "text": [
      "11.233 +/- 1.003\n"
     ]
    }
   ],
   "source": [
    "#gvals = e.MeasurementArray([(9.8,0.2), (14,3) , (9.9,0.1)])\n",
    "gvals = q.MeasurementArray([9.8,14,9.9],[0.2,3,0.1])\n",
    "print(gvals.mean())\n"
   ]
  },
  {
   "cell_type": "markdown",
   "metadata": {},
   "source": [
    "The MeasurementArray object truly is an array of Measurement objects, so individual measurements can be retrieved (remember that the first element in an array in python has index 0 not 1, so element 1 is the second element):"
   ]
  },
  {
   "cell_type": "code",
   "execution_count": 13,
   "metadata": {
    "collapsed": false
   },
   "outputs": [
    {
     "name": "stdout",
     "output_type": "stream",
     "text": [
      "14.000 +/- 3.000\n"
     ]
    }
   ],
   "source": [
    "print(gvals[1])"
   ]
  },
  {
   "cell_type": "markdown",
   "metadata": {},
   "source": [
    "## Error propagation methods\n",
    "\n",
    "### Derivative method (default)\n",
    "By default, QExPy propagates the uncertainties using the \"derivative\" method. That is, for a function, $f(x,y)$, that depends on measured quantities $x\\pm\\sigma_x$ and $y\\pm\\sigma_y$, with covariance $\\sigma_{xy}$ between the two measured quantities, the uncertainty in $f$ is given by:\n",
    "$$ \\sigma_f = \\sqrt{ \\left(\\frac{\\partial f}{\\partial x} \\sigma_x \\right)^2 + \\left(\\frac{\\partial f}{\\partial y} \\sigma_y \\right)^2 + 2 \\frac{\\partial f}{\\partial x} \\frac{\\partial f}{\\partial y}\\sigma_{xy} }$$\n",
    "\n",
    "QExPy evaluates the derivatives exactly when propagating the uncertainties using an algorithm called \"automatic differentiation\". This is possible as QExPy internally keeps track of the dependency of quantities on each other, and as an added bonus can also be used to evaluate numerical derivatives exactly. Although the derivative method is commonly taught in undergraduate laboratories, it is only valid when the relative uncertainties in the quantities being propagated are small (e.g. less than ~10% relative uncertainty). This method is thus not strongly encouraged, although it has been made the default because it is so prevalent in undergraduate teaching. \n",
    "\n",
    "\n",
    "### Min-Max method (not recommended)\n",
    "This is not the only way to propagate the uncertainty in $f$. For example, the \"Min-Max\" method, is a method to yield a more conservative (larger) estimate of the uncertainty in $f$ and is often used in introductory courses. The Min-Max method defines the central value and uncertainty in $f$ as:\n",
    "$$f=\\frac{1}{2}(f^{max}+f^{min})$$\n",
    "$$\\sigma_f=\\frac{1}{2}(f^{max}-f^{min})$$\n",
    "\n",
    "where $f^{max}$ ($f^{min}$) is the maximum (minimum) value that $f$ takes when $x$ and $y$ are varied within their uncertainty range. For example, if $f(x,y)=x+y$, then the maximum and minimum of $f$ are easily found:\n",
    "\n",
    "$$f^{max} = (x+\\sigma_x)+(y+\\sigma_y)$$\n",
    "$$f^{min} = (x-\\sigma_x)-(y-\\sigma_y)$$\n",
    "\n",
    "The Min-Max method actually requires a numerical approximation to evaluate the values of $f^{max}$ and $f^{min}$ for all but the most simple cases. Hence although it is a good method to introduce the idea of uncertainty propagation, it is not recommended to use this method in any serious calculation (it also does not take correlations into account). \n",
    "\n",
    "### Monte Carlo method (recommended!)\n",
    "Finally, the recommended method to propagate errors is the \"Monte-Carlo\" method, although it is the hardest to understand. The MC method is based on a statiscal understanding of the measurements. In the QExPy implementation, currently, the main assumptions is that the uncertainty in a quantity is given by a \"standard error\"; that is, if $x = 10\\pm 1$, then we *assume* that this error and uncertainty should be interpreted as: \"if we measure $x$ multiple times, we will obtain a set of measurements that are normally distributed with a mean of 10 and a standard deviation of 1\". In other words, we assume that $x$ has a 68% chance of being in the range between 9 and 11.\n",
    "\n",
    "\n",
    "The MC method then uses the assumption that measured quantities are normally distributed and use this to propagate the errors by using Monte Carlo simulation. Suppose that we have measured $x$ and $y$ and wish to determine the central value and uncertainty in $x=x+y$. The Monte Carlo method will generate normally distributed random values for $x$ and $y$ (the random numbers will be correctly correlated if the user has indicated that $x$ and $y$ are correlated), then it will add those random values together, to obtain a set of values for $z$. The mean and standard deviation of the random values for $z$ are taken as the central value and uncertainty in $z$. \n",
    "\n",
    "## What QExPy actually does\n",
    "Although the user appears to choose the method used to propagate the errors, QExPy always uses all three methods behind the scenes and the user only decides which method to print out. This allows QExPy to compare the results behind the scenes, in particular, to inform the users that the uncertainties using a particular method (e.g. derivative) may be inaccurate and to suggest that the user choose a different method. \n",
    "\n",
    "## Example\n",
    "Below, we illustrate an example of using the different methods to propagate the uncertainty in the Coulomb force based on the measurement of two charges, $q_1$ and $q_2$, and the distance between them, $r$. We illustrate how the derivative method does not give the correct answer if the relative uncertainties in the measured quantities are large. \n",
    "\n",
    "### 1 % relative uncertainty calculation\n"
   ]
  },
  {
   "cell_type": "code",
   "execution_count": 15,
   "metadata": {
    "collapsed": false
   },
   "outputs": [
    {
     "name": "stdout",
     "output_type": "stream",
     "text": [
      "Derivative method, F =  18.0000 +/- 0.4409\n",
      "Min-Max method, F = 18.0021 +/- 0.1055\n",
      "Monte Carlo method, F = 18.0156 +/- 0.4466\n"
     ]
    }
   ],
   "source": [
    "#Measurements with 1% relative uncertainties:\n",
    "relative_factor = 0.01 \n",
    "\n",
    "#Measured values\n",
    "q1m=1e-6\n",
    "q2m=2e-5\n",
    "rm=0.1\n",
    "\n",
    "#Convert to Measurement objects\n",
    "q1 = q.Measurement(q1m,relative_factor*q1m)\n",
    "q2 = q.Measurement(q2m,relative_factor*q2m)\n",
    "r = q.Measurement(rm,relative_factor*rm)\n",
    "#Coulomb's constant:\n",
    "k = 9e9 \n",
    "\n",
    "#Define the Force:\n",
    "F = k*q1*q2/r**2\n",
    "\n",
    "#Print out the different errors\n",
    "q.set_error_method(\"derivative\")\n",
    "print(\"Derivative method, F = \",F)\n",
    "q.set_error_method(\"minmax\")\n",
    "print(\"Min-Max method, F =\", F)\n",
    "q.set_error_method(\"mc\")\n",
    "print(\"Monte Carlo method, F =\",F)\n",
    "\n"
   ]
  },
  {
   "cell_type": "markdown",
   "metadata": {},
   "source": [
    "### 10 % relative uncertainty calculation\n",
    "We see that in this case, the Monte Carlo method returns a different uncertainty than the derivative method, because the derivative method is incorrect when the uncertainties are this large."
   ]
  },
  {
   "cell_type": "code",
   "execution_count": 16,
   "metadata": {
    "collapsed": false
   },
   "outputs": [
    {
     "name": "stdout",
     "output_type": "stream",
     "text": [
      "Derivative method, F =  18.000 +/- 4.409\n",
      "Min-Max method, F = 18.220 +/- 1.098\n",
      "Monte Carlo method, F = 18.662 +/- 4.823\n"
     ]
    },
    {
     "data": {
      "text/html": [
       "\n",
       "\n",
       "    <div class=\"bk-root\">\n",
       "        <div class=\"plotdiv\" id=\"8cdf4788-961f-417c-8231-5980d70e7580\"></div>\n",
       "    </div>\n",
       "<script type=\"text/javascript\">\n",
       "  \n",
       "  (function(global) {\n",
       "    function now() {\n",
       "      return new Date();\n",
       "    }\n",
       "  \n",
       "    var force = \"\";\n",
       "  \n",
       "    if (typeof (window._bokeh_onload_callbacks) === \"undefined\" || force !== \"\") {\n",
       "      window._bokeh_onload_callbacks = [];\n",
       "      window._bokeh_is_loading = undefined;\n",
       "    }\n",
       "  \n",
       "    function run_callbacks() {\n",
       "      window._bokeh_onload_callbacks.forEach(function(callback) { callback() });\n",
       "      delete window._bokeh_onload_callbacks\n",
       "      console.info(\"Bokeh: all callbacks have finished\");\n",
       "    }\n",
       "  \n",
       "    function load_libs(js_urls, callback) {\n",
       "      window._bokeh_onload_callbacks.push(callback);\n",
       "      if (window._bokeh_is_loading > 0) {\n",
       "        console.log(\"Bokeh: BokehJS is being loaded, scheduling callback at\", now());\n",
       "        return null;\n",
       "      }\n",
       "      if (js_urls == null || js_urls.length === 0) {\n",
       "        run_callbacks();\n",
       "        return null;\n",
       "      }\n",
       "      console.log(\"Bokeh: BokehJS not loaded, scheduling load and callback at\", now());\n",
       "      window._bokeh_is_loading = js_urls.length;\n",
       "      for (var i = 0; i < js_urls.length; i++) {\n",
       "        var url = js_urls[i];\n",
       "        var s = document.createElement('script');\n",
       "        s.src = url;\n",
       "        s.async = false;\n",
       "        s.onreadystatechange = s.onload = function() {\n",
       "          window._bokeh_is_loading--;\n",
       "          if (window._bokeh_is_loading === 0) {\n",
       "            console.log(\"Bokeh: all BokehJS libraries loaded\");\n",
       "            run_callbacks()\n",
       "          }\n",
       "        };\n",
       "        s.onerror = function() {\n",
       "          console.warn(\"failed to load library \" + url);\n",
       "        };\n",
       "        console.log(\"Bokeh: injecting script tag for BokehJS library: \", url);\n",
       "        document.getElementsByTagName(\"head\")[0].appendChild(s);\n",
       "      }\n",
       "    };var element = document.getElementById(\"8cdf4788-961f-417c-8231-5980d70e7580\");\n",
       "    if (element == null) {\n",
       "      console.log(\"Bokeh: ERROR: autoload.js configured with elementid '8cdf4788-961f-417c-8231-5980d70e7580' but no matching script tag was found. \")\n",
       "      return false;\n",
       "    }\n",
       "  \n",
       "    var js_urls = [];\n",
       "  \n",
       "    var inline_js = [\n",
       "      function(Bokeh) {\n",
       "        Bokeh.$(function() {\n",
       "            var docs_json = {\"e9c9cfb1-8550-4965-a5de-9e8ef9c56c69\":{\"roots\":{\"references\":[{\"attributes\":{\"plot\":{\"id\":\"fcd9c6d3-ada7-436e-934c-bba5fab8d238\",\"subtype\":\"Figure\",\"type\":\"Plot\"}},\"id\":\"339c3738-b120-439e-94d0-eab99d481380\",\"type\":\"ResetTool\"},{\"attributes\":{\"data_source\":{\"id\":\"8686b682-8a45-463b-bd40-f7493c6e2586\",\"type\":\"ColumnDataSource\"},\"glyph\":{\"id\":\"23d74bd9-53ef-4140-be58-9517d75048c2\",\"type\":\"Line\"},\"hover_glyph\":null,\"nonselection_glyph\":{\"id\":\"77e36369-9dc8-4be2-a3e9-a323f0525c53\",\"type\":\"Line\"},\"selection_glyph\":null},\"id\":\"6e85c73a-d593-45df-91eb-3e18c03777b6\",\"type\":\"GlyphRenderer\"},{\"attributes\":{\"plot\":{\"id\":\"fcd9c6d3-ada7-436e-934c-bba5fab8d238\",\"subtype\":\"Figure\",\"type\":\"Plot\"}},\"id\":\"eafb4cef-4a3b-4ae6-9ba5-35dacb243670\",\"type\":\"WheelZoomTool\"},{\"attributes\":{\"line_color\":{\"value\":\"red\"},\"line_dash\":[6],\"x\":{\"field\":\"x\"},\"y\":{\"field\":\"y\"}},\"id\":\"23d74bd9-53ef-4140-be58-9517d75048c2\",\"type\":\"Line\"},{\"attributes\":{\"dimension\":1,\"plot\":{\"id\":\"fcd9c6d3-ada7-436e-934c-bba5fab8d238\",\"subtype\":\"Figure\",\"type\":\"Plot\"},\"ticker\":{\"id\":\"02167580-acc2-4a02-9bff-7aaf7bafd40e\",\"type\":\"BasicTicker\"}},\"id\":\"2fc88579-3622-4d3e-82db-84f61859b8c2\",\"type\":\"Grid\"},{\"attributes\":{\"callback\":null,\"column_names\":[\"y\",\"x\"],\"data\":{\"x\":[22.40908153700972,22.40908153700972],\"y\":[0.0,984.5000000000001]}},\"id\":\"66cfa740-1d1d-4a58-a2ee-fdc9cac47284\",\"type\":\"ColumnDataSource\"},{\"attributes\":{\"callback\":null,\"column_names\":[\"y\",\"x\"],\"data\":{\"x\":[13.59091846299028,13.59091846299028],\"y\":[0.0,984.5000000000001]}},\"id\":\"8686b682-8a45-463b-bd40-f7493c6e2586\",\"type\":\"ColumnDataSource\"},{\"attributes\":{\"callback\":null},\"id\":\"662510c2-81f3-4552-8791-d04be4c82b2e\",\"type\":\"DataRange1d\"},{\"attributes\":{},\"id\":\"02167580-acc2-4a02-9bff-7aaf7bafd40e\",\"type\":\"BasicTicker\"},{\"attributes\":{\"formatter\":{\"id\":\"5db3ec59-e7ef-436f-9c4e-239fb2cce485\",\"type\":\"BasicTickFormatter\"},\"plot\":{\"id\":\"fcd9c6d3-ada7-436e-934c-bba5fab8d238\",\"subtype\":\"Figure\",\"type\":\"Plot\"},\"ticker\":{\"id\":\"02167580-acc2-4a02-9bff-7aaf7bafd40e\",\"type\":\"BasicTicker\"}},\"id\":\"ee9e7424-d36c-4a67-b59e-c82bae9a8eea\",\"type\":\"LinearAxis\"},{\"attributes\":{\"plot\":{\"id\":\"fcd9c6d3-ada7-436e-934c-bba5fab8d238\",\"subtype\":\"Figure\",\"type\":\"Plot\"},\"ticker\":{\"id\":\"4cc94373-f11b-4f20-b057-be5bd3fab9e9\",\"type\":\"BasicTicker\"}},\"id\":\"4cc5fb32-81bd-4df9-be64-4e28b2712ba0\",\"type\":\"Grid\"},{\"attributes\":{},\"id\":\"a19e1341-1f26-41fb-9f83-e866e726ec77\",\"type\":\"ToolEvents\"},{\"attributes\":{\"plot\":null,\"text\":\"unnamed_var16*9000000000*unnamed_var17/unnamed_var18**2 Histogram\"},\"id\":\"7f06ead2-f129-497d-9559-8ebe27704fa9\",\"type\":\"Title\"},{\"attributes\":{},\"id\":\"4cc94373-f11b-4f20-b057-be5bd3fab9e9\",\"type\":\"BasicTicker\"},{\"attributes\":{\"bottom_units\":\"screen\",\"fill_alpha\":{\"value\":0.5},\"fill_color\":{\"value\":\"lightgrey\"},\"left_units\":\"screen\",\"level\":\"overlay\",\"line_alpha\":{\"value\":1.0},\"line_color\":{\"value\":\"black\"},\"line_dash\":[4,4],\"line_width\":{\"value\":2},\"plot\":null,\"render_mode\":\"css\",\"right_units\":\"screen\",\"top_units\":\"screen\"},\"id\":\"5d17b6d3-9006-4c6c-b946-dee62e06f6d1\",\"type\":\"BoxAnnotation\"},{\"attributes\":{\"active_drag\":\"auto\",\"active_scroll\":\"auto\",\"active_tap\":\"auto\",\"tools\":[{\"id\":\"a1d372a4-494f-4faa-af02-b763d38d48a3\",\"type\":\"SaveTool\"},{\"id\":\"a85ba2e4-e469-44ee-ad5e-21b7cf7dfbc1\",\"type\":\"PanTool\"},{\"id\":\"1b08617d-28c8-4f60-a5a5-9e8aee86af72\",\"type\":\"BoxZoomTool\"},{\"id\":\"eafb4cef-4a3b-4ae6-9ba5-35dacb243670\",\"type\":\"WheelZoomTool\"},{\"id\":\"339c3738-b120-439e-94d0-eab99d481380\",\"type\":\"ResetTool\"}]},\"id\":\"113040b7-199d-4d19-bb09-037a4f71461d\",\"type\":\"Toolbar\"},{\"attributes\":{\"callback\":null},\"id\":\"f452c313-11cb-4791-8176-ac18ea865d52\",\"type\":\"DataRange1d\"},{\"attributes\":{\"callback\":null,\"column_names\":[\"y\",\"x\"],\"data\":{\"x\":[18.0,18.0],\"y\":[0.0,939.75]}},\"id\":\"d227e3d7-a522-4076-b441-5137f2de8c8d\",\"type\":\"ColumnDataSource\"},{\"attributes\":{\"formatter\":{\"id\":\"f003f8a6-7d9e-4ce7-9c7c-bcd55f29040a\",\"type\":\"BasicTickFormatter\"},\"plot\":{\"id\":\"fcd9c6d3-ada7-436e-934c-bba5fab8d238\",\"subtype\":\"Figure\",\"type\":\"Plot\"},\"ticker\":{\"id\":\"4cc94373-f11b-4f20-b057-be5bd3fab9e9\",\"type\":\"BasicTicker\"}},\"id\":\"f011a21d-69fb-4024-b168-314d3944a881\",\"type\":\"LinearAxis\"},{\"attributes\":{},\"id\":\"5db3ec59-e7ef-436f-9c4e-239fb2cce485\",\"type\":\"BasicTickFormatter\"},{\"attributes\":{\"background_fill_color\":{\"value\":\"#E8DDCB\"},\"below\":[{\"id\":\"f011a21d-69fb-4024-b168-314d3944a881\",\"type\":\"LinearAxis\"}],\"left\":[{\"id\":\"ee9e7424-d36c-4a67-b59e-c82bae9a8eea\",\"type\":\"LinearAxis\"}],\"renderers\":[{\"id\":\"f011a21d-69fb-4024-b168-314d3944a881\",\"type\":\"LinearAxis\"},{\"id\":\"4cc5fb32-81bd-4df9-be64-4e28b2712ba0\",\"type\":\"Grid\"},{\"id\":\"ee9e7424-d36c-4a67-b59e-c82bae9a8eea\",\"type\":\"LinearAxis\"},{\"id\":\"2fc88579-3622-4d3e-82db-84f61859b8c2\",\"type\":\"Grid\"},{\"id\":\"5d17b6d3-9006-4c6c-b946-dee62e06f6d1\",\"type\":\"BoxAnnotation\"},{\"id\":\"4b7fc939-50e7-4b2c-b900-a6bd7a8c588e\",\"type\":\"GlyphRenderer\"},{\"id\":\"2d39c7ed-2bb5-4e86-91e0-1e0ceb3e70e1\",\"type\":\"GlyphRenderer\"},{\"id\":\"6e85c73a-d593-45df-91eb-3e18c03777b6\",\"type\":\"GlyphRenderer\"},{\"id\":\"530c5830-53b4-4695-b380-44fac7584b43\",\"type\":\"GlyphRenderer\"}],\"title\":{\"id\":\"7f06ead2-f129-497d-9559-8ebe27704fa9\",\"type\":\"Title\"},\"tool_events\":{\"id\":\"a19e1341-1f26-41fb-9f83-e866e726ec77\",\"type\":\"ToolEvents\"},\"toolbar\":{\"id\":\"113040b7-199d-4d19-bb09-037a4f71461d\",\"type\":\"Toolbar\"},\"x_range\":{\"id\":\"662510c2-81f3-4552-8791-d04be4c82b2e\",\"type\":\"DataRange1d\"},\"y_range\":{\"id\":\"f452c313-11cb-4791-8176-ac18ea865d52\",\"type\":\"DataRange1d\"}},\"id\":\"fcd9c6d3-ada7-436e-934c-bba5fab8d238\",\"subtype\":\"Figure\",\"type\":\"Plot\"},{\"attributes\":{\"data_source\":{\"id\":\"d227e3d7-a522-4076-b441-5137f2de8c8d\",\"type\":\"ColumnDataSource\"},\"glyph\":{\"id\":\"2b3badbd-f527-4482-84eb-7fa192ba05fc\",\"type\":\"Line\"},\"hover_glyph\":null,\"nonselection_glyph\":{\"id\":\"8cbe149e-cd5e-4e70-81e8-cdbdb3e18905\",\"type\":\"Line\"},\"selection_glyph\":null},\"id\":\"2d39c7ed-2bb5-4e86-91e0-1e0ceb3e70e1\",\"type\":\"GlyphRenderer\"},{\"attributes\":{\"data_source\":{\"id\":\"9c4c390c-e523-463e-a9a1-dd8745307b5a\",\"type\":\"ColumnDataSource\"},\"glyph\":{\"id\":\"2ea2c26d-5d7e-46d4-ad21-0d82628874a1\",\"type\":\"Quad\"},\"hover_glyph\":null,\"nonselection_glyph\":{\"id\":\"37f561a0-9150-43a5-8a26-88eaacbb4e7a\",\"type\":\"Quad\"},\"selection_glyph\":null},\"id\":\"4b7fc939-50e7-4b2c-b900-a6bd7a8c588e\",\"type\":\"GlyphRenderer\"},{\"attributes\":{\"line_color\":{\"value\":\"red\"},\"line_dash\":[6],\"x\":{\"field\":\"x\"},\"y\":{\"field\":\"y\"}},\"id\":\"2b3badbd-f527-4482-84eb-7fa192ba05fc\",\"type\":\"Line\"},{\"attributes\":{\"plot\":{\"id\":\"fcd9c6d3-ada7-436e-934c-bba5fab8d238\",\"subtype\":\"Figure\",\"type\":\"Plot\"}},\"id\":\"a85ba2e4-e469-44ee-ad5e-21b7cf7dfbc1\",\"type\":\"PanTool\"},{\"attributes\":{\"callback\":null,\"column_names\":[\"right\",\"top\",\"left\"],\"data\":{\"left\":[7.538873088676889,8.46807457979913,9.397276070921368,10.326477562043609,11.25567905316585,12.18488054428809,13.11408203541033,14.04328352653257,14.97248501765481,15.90168650877705,16.83088799989929,17.76008949102153,18.68929098214377,19.61849247326601,20.54769396438825,21.47689545551049,22.40609694663273,23.33529843775497,24.264499928877214,25.19370141999945,26.12290291112169,27.052104402243934,27.98130589336617,28.91050738448841,29.839708875610654,30.76891036673289,31.69811185785513,32.627313348977374,33.55651484009961,34.48571633122185,35.414917822344094,36.34411931346634,37.27332080458857,38.202522295710814,39.13172378683306,40.06092527795529,40.990126769077534,41.91932826019977,42.84852975132201,43.777731242444254,44.7069327335665,45.63613422468873,46.565335715810974,47.49453720693322,48.42373869805545,49.352940189177694,50.28214168029994,51.21134317142217,52.140544662544414,53.06974615366666],\"right\":[8.46807457979913,9.397276070921368,10.326477562043609,11.25567905316585,12.18488054428809,13.11408203541033,14.04328352653257,14.97248501765481,15.90168650877705,16.83088799989929,17.76008949102153,18.68929098214377,19.61849247326601,20.54769396438825,21.47689545551049,22.40609694663273,23.33529843775497,24.264499928877214,25.19370141999945,26.12290291112169,27.052104402243934,27.98130589336617,28.91050738448841,29.839708875610654,30.76891036673289,31.69811185785513,32.627313348977374,33.55651484009961,34.48571633122185,35.414917822344094,36.34411931346634,37.27332080458857,38.202522295710814,39.13172378683306,40.06092527795529,40.990126769077534,41.91932826019977,42.84852975132201,43.777731242444254,44.7069327335665,45.63613422468873,46.565335715810974,47.49453720693322,48.42373869805545,49.352940189177694,50.28214168029994,51.21134317142217,52.140544662544414,53.06974615366666,53.99894764478889],\"top\":[12,25,80,133,271,418,580,733,782,891,895,811,758,665,542,494,412,313,258,195,165,138,89,80,62,43,34,27,21,13,15,12,5,8,8,2,2,0,0,0,2,1,0,0,2,1,0,0,0,2]}},\"id\":\"9c4c390c-e523-463e-a9a1-dd8745307b5a\",\"type\":\"ColumnDataSource\"},{\"attributes\":{\"line_alpha\":{\"value\":0.1},\"line_color\":{\"value\":\"#1f77b4\"},\"line_dash\":[6],\"x\":{\"field\":\"x\"},\"y\":{\"field\":\"y\"}},\"id\":\"8cbe149e-cd5e-4e70-81e8-cdbdb3e18905\",\"type\":\"Line\"},{\"attributes\":{\"bottom\":{\"value\":0},\"fill_alpha\":{\"value\":0.1},\"fill_color\":{\"value\":\"#1f77b4\"},\"left\":{\"field\":\"left\"},\"line_alpha\":{\"value\":0.1},\"line_color\":{\"value\":\"#1f77b4\"},\"right\":{\"field\":\"right\"},\"top\":{\"field\":\"top\"}},\"id\":\"37f561a0-9150-43a5-8a26-88eaacbb4e7a\",\"type\":\"Quad\"},{\"attributes\":{\"line_alpha\":{\"value\":0.1},\"line_color\":{\"value\":\"#1f77b4\"},\"line_dash\":[6],\"x\":{\"field\":\"x\"},\"y\":{\"field\":\"y\"}},\"id\":\"218486a8-cbeb-44e3-8d21-de5ee2dc7a16\",\"type\":\"Line\"},{\"attributes\":{\"data_source\":{\"id\":\"66cfa740-1d1d-4a58-a2ee-fdc9cac47284\",\"type\":\"ColumnDataSource\"},\"glyph\":{\"id\":\"997471bb-55a7-48e6-95eb-71d859e5631a\",\"type\":\"Line\"},\"hover_glyph\":null,\"nonselection_glyph\":{\"id\":\"218486a8-cbeb-44e3-8d21-de5ee2dc7a16\",\"type\":\"Line\"},\"selection_glyph\":null},\"id\":\"530c5830-53b4-4695-b380-44fac7584b43\",\"type\":\"GlyphRenderer\"},{\"attributes\":{\"line_alpha\":{\"value\":0.1},\"line_color\":{\"value\":\"#1f77b4\"},\"line_dash\":[6],\"x\":{\"field\":\"x\"},\"y\":{\"field\":\"y\"}},\"id\":\"77e36369-9dc8-4be2-a3e9-a323f0525c53\",\"type\":\"Line\"},{\"attributes\":{\"plot\":{\"id\":\"fcd9c6d3-ada7-436e-934c-bba5fab8d238\",\"subtype\":\"Figure\",\"type\":\"Plot\"}},\"id\":\"a1d372a4-494f-4faa-af02-b763d38d48a3\",\"type\":\"SaveTool\"},{\"attributes\":{},\"id\":\"f003f8a6-7d9e-4ce7-9c7c-bcd55f29040a\",\"type\":\"BasicTickFormatter\"},{\"attributes\":{\"line_color\":{\"value\":\"red\"},\"line_dash\":[6],\"x\":{\"field\":\"x\"},\"y\":{\"field\":\"y\"}},\"id\":\"997471bb-55a7-48e6-95eb-71d859e5631a\",\"type\":\"Line\"},{\"attributes\":{\"overlay\":{\"id\":\"5d17b6d3-9006-4c6c-b946-dee62e06f6d1\",\"type\":\"BoxAnnotation\"},\"plot\":{\"id\":\"fcd9c6d3-ada7-436e-934c-bba5fab8d238\",\"subtype\":\"Figure\",\"type\":\"Plot\"}},\"id\":\"1b08617d-28c8-4f60-a5a5-9e8aee86af72\",\"type\":\"BoxZoomTool\"},{\"attributes\":{\"bottom\":{\"value\":0},\"fill_color\":{\"value\":\"#036564\"},\"left\":{\"field\":\"left\"},\"line_color\":{\"value\":\"#033649\"},\"right\":{\"field\":\"right\"},\"top\":{\"field\":\"top\"}},\"id\":\"2ea2c26d-5d7e-46d4-ad21-0d82628874a1\",\"type\":\"Quad\"}],\"root_ids\":[\"fcd9c6d3-ada7-436e-934c-bba5fab8d238\"]},\"title\":\"Bokeh Application\",\"version\":\"0.12.1\"}};\n",
       "            var render_items = [{\"docid\":\"e9c9cfb1-8550-4965-a5de-9e8ef9c56c69\",\"elementid\":\"8cdf4788-961f-417c-8231-5980d70e7580\",\"modelid\":\"fcd9c6d3-ada7-436e-934c-bba5fab8d238\",\"notebook_comms_target\":\"ca6f7022-9d8d-4d93-9003-5f81dfd6266c\"}];\n",
       "            \n",
       "            Bokeh.embed.embed_items(docs_json, render_items);\n",
       "        });\n",
       "      },\n",
       "      function(Bokeh) {\n",
       "      }\n",
       "    ];\n",
       "  \n",
       "    function run_inline_js() {\n",
       "      for (var i = 0; i < inline_js.length; i++) {\n",
       "        inline_js[i](window.Bokeh);\n",
       "      }\n",
       "    }\n",
       "  \n",
       "    if (window._bokeh_is_loading === 0) {\n",
       "      console.log(\"Bokeh: BokehJS loaded, going straight to plotting\");\n",
       "      run_inline_js();\n",
       "    } else {\n",
       "      load_libs(js_urls, function() {\n",
       "        console.log(\"Bokeh: BokehJS plotting callback run at\", now());\n",
       "        run_inline_js();\n",
       "      });\n",
       "    }\n",
       "  }(this));\n",
       "</script>"
      ]
     },
     "metadata": {},
     "output_type": "display_data"
    },
    {
     "data": {
      "text/plain": [
       "<bokeh.plotting.figure.Figure at 0x24cd7012f98>"
      ]
     },
     "execution_count": 16,
     "metadata": {},
     "output_type": "execute_result"
    }
   ],
   "source": [
    "#Measurements with 10% relative uncertainties:\n",
    "relative_factor = 0.1 \n",
    "\n",
    "#Measured values\n",
    "q1m=1e-6\n",
    "q2m=2e-5\n",
    "rm=0.1\n",
    "\n",
    "#Convert to Measurement objects\n",
    "q1 = q.Measurement(q1m,relative_factor*q1m)\n",
    "q2 = q.Measurement(q2m,relative_factor*q2m)\n",
    "r = q.Measurement(rm,relative_factor*rm)\n",
    "#Coulomb's constant:\n",
    "k = 9e9 \n",
    "\n",
    "#Define the Force:\n",
    "F = k*q1*q2/r**2\n",
    "\n",
    "#Print out the different errors\n",
    "q.set_error_method(\"derivative\")\n",
    "print(\"Derivative method, F = \",F)\n",
    "q.set_error_method(\"minmax\")\n",
    "print(\"Min-Max method, F =\", F)\n",
    "q.set_error_method(\"mc\")\n",
    "print(\"Monte Carlo method, F =\",F)\n",
    "\n",
    "F.show_MC_histogram()"
   ]
  },
  {
   "cell_type": "markdown",
   "metadata": {
    "collapsed": false
   },
   "source": [
    "## Exact derivatives\n",
    "Since QExPy needs to be able to evaluate derivatives (by using the automatic differentiation algorithm that exploits the Chain Rule), we can use QExPy to evaluate numerical derivatives exactly. That is, given a function, $f(x,y)$, QExPy can evaluate $\\frac{\\partial f(x,y)}{\\partial x}$ at a given value of $x$ and $y$.\n",
    "\n",
    "For example, if we have:\n",
    "$$x(t) = \\frac{1}{2}gt^2 $$\n",
    "\n",
    "and we have measured $t=8 \\pm 1$, we can evaluate the exact value of the derivative:\n",
    "\n",
    "$$\\frac{\\partial x(t)}{\\partial t} = \\frac{d x(t)}{d t}  = gt$$\n",
    "\n",
    "at $t=8 \\pm 1$\n"
   ]
  },
  {
   "cell_type": "code",
   "execution_count": 17,
   "metadata": {
    "collapsed": false
   },
   "outputs": [
    {
     "name": "stdout",
     "output_type": "stream",
     "text": [
      "78.48\n"
     ]
    }
   ],
   "source": [
    "t = q.Measurement(8,1)\n",
    "x = 0.5 * 9.81 * t**2\n",
    "print(x.get_derivative(t))"
   ]
  },
  {
   "cell_type": "code",
   "execution_count": null,
   "metadata": {
    "collapsed": false
   },
   "outputs": [],
   "source": []
  },
  {
   "cell_type": "code",
   "execution_count": null,
   "metadata": {
    "collapsed": true
   },
   "outputs": [],
   "source": []
  }
 ],
 "metadata": {
  "kernelspec": {
   "display_name": "Python 3",
   "language": "python",
   "name": "python3"
  },
  "language_info": {
   "codemirror_mode": {
    "name": "ipython",
    "version": 3
   },
   "file_extension": ".py",
   "mimetype": "text/x-python",
   "name": "python",
   "nbconvert_exporter": "python",
   "pygments_lexer": "ipython3",
   "version": "3.5.2"
  }
 },
 "nbformat": 4,
 "nbformat_minor": 0
}
